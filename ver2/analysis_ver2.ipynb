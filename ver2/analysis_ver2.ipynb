{
 "cells": [
  {
   "cell_type": "code",
   "execution_count": 27,
   "metadata": {},
   "outputs": [],
   "source": [
    "import pandas as pd\n",
    "import plotly.express as px\n",
    "import plotly.graph_objects as go\n",
    "import numpy as np\n"
   ]
  },
  {
   "cell_type": "code",
   "execution_count": 28,
   "metadata": {},
   "outputs": [],
   "source": [
    "from pathlib import Path\n",
    "paths = ['respondent_1', 'respondent_2', 'respondent_3', 'respondent_4']\n",
    "file_paths = {}\n",
    "for name in paths:\n",
    "    folder = Path(name)\n",
    "    files = [name + '/' + f.name for f in folder.iterdir() if f.is_file()]\n",
    "    for i, file in enumerate(sorted(files, key=lambda x: x[-24:-5])):\n",
    "        timestamp = file[-24:-5]\n",
    "        if name == 'Амина' and pd.to_datetime(timestamp, format='%Y_%m_%d_%H_%M_%S') == pd.to_datetime('2025-04-21 20:20:49'):\n",
    "            continue\n",
    "        file_paths[(name, i + 1, timestamp)] = file\n",
    "\n",
    "# file_paths"
   ]
  },
  {
   "cell_type": "code",
   "execution_count": 29,
   "metadata": {},
   "outputs": [],
   "source": [
    "def calculate_fatigue_score(num, answer):\n",
    "    \"\"\"\n",
    "    Функция принимает DataFrame с ответами на вопросы опросника и вычисляет итоговый балл.\n",
    "\n",
    "    Вопросы 1, 2, 5-16: \"Да\" = 2 балла, \"Нет\" = 0 баллов.\n",
    "    Вопросы 3, 17, 18: \"Нет\" = 2 балла, \"Да\" = 0 баллов.\n",
    "\n",
    "    :param df: pandas DataFrame, где строки - респонденты, столбцы - ответы (\"Да\" или \"Нет\").\n",
    "    :return: pandas Series с итоговым баллом каждого респондента.\n",
    "    \"\"\"\n",
    "    # Определяем номера вопросов для разных систем начисления баллов\n",
    "    positive_scoring_questions = {1, 2, 5, 6, 7, 8, 9, 10, 11, 12, 13, 14, 15, 16}\n",
    "    negative_scoring_questions = {3, 17, 18}\n",
    "\n",
    "    # Функция для подсчёта баллов для одного респондента\n",
    "    if answer == \"Затрудняюсь\":\n",
    "        return 1\n",
    "    score = 0\n",
    "    if num in positive_scoring_questions:\n",
    "        score = 2 if answer == \"Да\" else 0\n",
    "    elif num in negative_scoring_questions:\n",
    "        score = 2 if answer == \"Нет\" else 0\n",
    "    return score\n",
    "\n"
   ]
  },
  {
   "cell_type": "code",
   "execution_count": 32,
   "metadata": {},
   "outputs": [
    {
     "data": {
      "text/html": [
       "<div>\n",
       "<style scoped>\n",
       "    .dataframe tbody tr th:only-of-type {\n",
       "        vertical-align: middle;\n",
       "    }\n",
       "\n",
       "    .dataframe tbody tr th {\n",
       "        vertical-align: top;\n",
       "    }\n",
       "\n",
       "    .dataframe thead th {\n",
       "        text-align: right;\n",
       "    }\n",
       "</style>\n",
       "<table border=\"1\" class=\"dataframe\">\n",
       "  <thead>\n",
       "    <tr style=\"text-align: right;\">\n",
       "      <th></th>\n",
       "      <th>num</th>\n",
       "      <th>question</th>\n",
       "      <th>answer</th>\n",
       "      <th>id</th>\n",
       "      <th>datetime</th>\n",
       "      <th>weekday</th>\n",
       "      <th>weekday_num</th>\n",
       "      <th>hour</th>\n",
       "      <th>date</th>\n",
       "      <th>score</th>\n",
       "    </tr>\n",
       "  </thead>\n",
       "  <tbody>\n",
       "    <tr>\n",
       "      <th>0</th>\n",
       "      <td>1</td>\n",
       "      <td>Чувствую общую слабость</td>\n",
       "      <td>Нет</td>\n",
       "      <td>respondent_1</td>\n",
       "      <td>2025-03-10 10:09:26</td>\n",
       "      <td>Monday</td>\n",
       "      <td>0</td>\n",
       "      <td>10</td>\n",
       "      <td>2025-03-10</td>\n",
       "      <td>0</td>\n",
       "    </tr>\n",
       "    <tr>\n",
       "      <th>1</th>\n",
       "      <td>2</td>\n",
       "      <td>Мне приходится заставлять себя как можно быстр...</td>\n",
       "      <td>Да</td>\n",
       "      <td>respondent_1</td>\n",
       "      <td>2025-03-10 10:09:26</td>\n",
       "      <td>Monday</td>\n",
       "      <td>0</td>\n",
       "      <td>10</td>\n",
       "      <td>2025-03-10</td>\n",
       "      <td>2</td>\n",
       "    </tr>\n",
       "    <tr>\n",
       "      <th>2</th>\n",
       "      <td>3</td>\n",
       "      <td>Я спокоен и собран</td>\n",
       "      <td>Затрудняюсь</td>\n",
       "      <td>respondent_1</td>\n",
       "      <td>2025-03-10 10:09:26</td>\n",
       "      <td>Monday</td>\n",
       "      <td>0</td>\n",
       "      <td>10</td>\n",
       "      <td>2025-03-10</td>\n",
       "      <td>1</td>\n",
       "    </tr>\n",
       "    <tr>\n",
       "      <th>3</th>\n",
       "      <td>4</td>\n",
       "      <td>Мне душно</td>\n",
       "      <td>Нет</td>\n",
       "      <td>respondent_1</td>\n",
       "      <td>2025-03-10 10:09:26</td>\n",
       "      <td>Monday</td>\n",
       "      <td>0</td>\n",
       "      <td>10</td>\n",
       "      <td>2025-03-10</td>\n",
       "      <td>0</td>\n",
       "    </tr>\n",
       "    <tr>\n",
       "      <th>4</th>\n",
       "      <td>5</td>\n",
       "      <td>Хочется хоть немного отвлечься от работы</td>\n",
       "      <td>Да</td>\n",
       "      <td>respondent_1</td>\n",
       "      <td>2025-03-10 10:09:26</td>\n",
       "      <td>Monday</td>\n",
       "      <td>0</td>\n",
       "      <td>10</td>\n",
       "      <td>2025-03-10</td>\n",
       "      <td>2</td>\n",
       "    </tr>\n",
       "  </tbody>\n",
       "</table>\n",
       "</div>"
      ],
      "text/plain": [
       "   num                                           question       answer  \\\n",
       "0    1                            Чувствую общую слабость          Нет   \n",
       "1    2  Мне приходится заставлять себя как можно быстр...           Да   \n",
       "2    3                                 Я спокоен и собран  Затрудняюсь   \n",
       "3    4                                          Мне душно          Нет   \n",
       "4    5           Хочется хоть немного отвлечься от работы           Да   \n",
       "\n",
       "             id            datetime weekday  weekday_num  hour        date  \\\n",
       "0  respondent_1 2025-03-10 10:09:26  Monday            0    10  2025-03-10   \n",
       "1  respondent_1 2025-03-10 10:09:26  Monday            0    10  2025-03-10   \n",
       "2  respondent_1 2025-03-10 10:09:26  Monday            0    10  2025-03-10   \n",
       "3  respondent_1 2025-03-10 10:09:26  Monday            0    10  2025-03-10   \n",
       "4  respondent_1 2025-03-10 10:09:26  Monday            0    10  2025-03-10   \n",
       "\n",
       "   score  \n",
       "0      0  \n",
       "1      2  \n",
       "2      1  \n",
       "3      0  \n",
       "4      2  "
      ]
     },
     "metadata": {},
     "output_type": "display_data"
    },
    {
     "data": {
      "text/html": [
       "<div>\n",
       "<style scoped>\n",
       "    .dataframe tbody tr th:only-of-type {\n",
       "        vertical-align: middle;\n",
       "    }\n",
       "\n",
       "    .dataframe tbody tr th {\n",
       "        vertical-align: top;\n",
       "    }\n",
       "\n",
       "    .dataframe thead th {\n",
       "        text-align: right;\n",
       "    }\n",
       "</style>\n",
       "<table border=\"1\" class=\"dataframe\">\n",
       "  <thead>\n",
       "    <tr style=\"text-align: right;\">\n",
       "      <th></th>\n",
       "      <th>q_num</th>\n",
       "      <th>startTime</th>\n",
       "      <th>endTime</th>\n",
       "      <th>num1</th>\n",
       "      <th>num2</th>\n",
       "      <th>formattedNum1</th>\n",
       "      <th>formattedNum2</th>\n",
       "      <th>formatType</th>\n",
       "      <th>operation</th>\n",
       "      <th>question</th>\n",
       "      <th>answer</th>\n",
       "      <th>correct</th>\n",
       "      <th>correctFlg</th>\n",
       "      <th>id</th>\n",
       "      <th>datetime</th>\n",
       "      <th>weekday</th>\n",
       "      <th>weekday_num</th>\n",
       "      <th>hour</th>\n",
       "      <th>date</th>\n",
       "    </tr>\n",
       "  </thead>\n",
       "  <tbody>\n",
       "    <tr>\n",
       "      <th>0</th>\n",
       "      <td>0</td>\n",
       "      <td>1741590576813</td>\n",
       "      <td>1741590580346</td>\n",
       "      <td>6</td>\n",
       "      <td>5</td>\n",
       "      <td>шесть</td>\n",
       "      <td>пять</td>\n",
       "      <td>2</td>\n",
       "      <td>+</td>\n",
       "      <td>(шесть + пять) % 10 = ?</td>\n",
       "      <td>1</td>\n",
       "      <td>1</td>\n",
       "      <td>1</td>\n",
       "      <td>respondent_1</td>\n",
       "      <td>2025-03-10 10:09:26</td>\n",
       "      <td>Monday</td>\n",
       "      <td>0</td>\n",
       "      <td>10</td>\n",
       "      <td>2025-03-10</td>\n",
       "    </tr>\n",
       "    <tr>\n",
       "      <th>1</th>\n",
       "      <td>1</td>\n",
       "      <td>1741590580346</td>\n",
       "      <td>1741590582990</td>\n",
       "      <td>5</td>\n",
       "      <td>2</td>\n",
       "      <td>5</td>\n",
       "      <td>2</td>\n",
       "      <td>0</td>\n",
       "      <td>-</td>\n",
       "      <td>|5 - 2| = ?</td>\n",
       "      <td>3</td>\n",
       "      <td>3</td>\n",
       "      <td>1</td>\n",
       "      <td>respondent_1</td>\n",
       "      <td>2025-03-10 10:09:26</td>\n",
       "      <td>Monday</td>\n",
       "      <td>0</td>\n",
       "      <td>10</td>\n",
       "      <td>2025-03-10</td>\n",
       "    </tr>\n",
       "    <tr>\n",
       "      <th>2</th>\n",
       "      <td>2</td>\n",
       "      <td>1741590582990</td>\n",
       "      <td>1741590585852</td>\n",
       "      <td>6</td>\n",
       "      <td>5</td>\n",
       "      <td>6</td>\n",
       "      <td>5</td>\n",
       "      <td>0</td>\n",
       "      <td>-</td>\n",
       "      <td>|6 - 5| = ?</td>\n",
       "      <td>1</td>\n",
       "      <td>1</td>\n",
       "      <td>1</td>\n",
       "      <td>respondent_1</td>\n",
       "      <td>2025-03-10 10:09:26</td>\n",
       "      <td>Monday</td>\n",
       "      <td>0</td>\n",
       "      <td>10</td>\n",
       "      <td>2025-03-10</td>\n",
       "    </tr>\n",
       "    <tr>\n",
       "      <th>3</th>\n",
       "      <td>3</td>\n",
       "      <td>1741590585852</td>\n",
       "      <td>1741590590315</td>\n",
       "      <td>9</td>\n",
       "      <td>7</td>\n",
       "      <td>9</td>\n",
       "      <td>7</td>\n",
       "      <td>0</td>\n",
       "      <td>+</td>\n",
       "      <td>(9 + 7) % 10 = ?</td>\n",
       "      <td>6</td>\n",
       "      <td>6</td>\n",
       "      <td>1</td>\n",
       "      <td>respondent_1</td>\n",
       "      <td>2025-03-10 10:09:26</td>\n",
       "      <td>Monday</td>\n",
       "      <td>0</td>\n",
       "      <td>10</td>\n",
       "      <td>2025-03-10</td>\n",
       "    </tr>\n",
       "    <tr>\n",
       "      <th>4</th>\n",
       "      <td>4</td>\n",
       "      <td>1741590590315</td>\n",
       "      <td>1741590594251</td>\n",
       "      <td>4</td>\n",
       "      <td>1</td>\n",
       "      <td>4</td>\n",
       "      <td>1</td>\n",
       "      <td>0</td>\n",
       "      <td>-</td>\n",
       "      <td>|4 - 1| = ?</td>\n",
       "      <td>3</td>\n",
       "      <td>3</td>\n",
       "      <td>1</td>\n",
       "      <td>respondent_1</td>\n",
       "      <td>2025-03-10 10:09:26</td>\n",
       "      <td>Monday</td>\n",
       "      <td>0</td>\n",
       "      <td>10</td>\n",
       "      <td>2025-03-10</td>\n",
       "    </tr>\n",
       "  </tbody>\n",
       "</table>\n",
       "</div>"
      ],
      "text/plain": [
       "   q_num      startTime        endTime  num1  num2 formattedNum1  \\\n",
       "0      0  1741590576813  1741590580346     6     5         шесть   \n",
       "1      1  1741590580346  1741590582990     5     2             5   \n",
       "2      2  1741590582990  1741590585852     6     5             6   \n",
       "3      3  1741590585852  1741590590315     9     7             9   \n",
       "4      4  1741590590315  1741590594251     4     1             4   \n",
       "\n",
       "  formattedNum2  formatType operation                 question  answer  \\\n",
       "0          пять           2         +  (шесть + пять) % 10 = ?       1   \n",
       "1             2           0         -              |5 - 2| = ?       3   \n",
       "2             5           0         -              |6 - 5| = ?       1   \n",
       "3             7           0         +         (9 + 7) % 10 = ?       6   \n",
       "4             1           0         -              |4 - 1| = ?       3   \n",
       "\n",
       "   correct  correctFlg            id            datetime weekday  weekday_num  \\\n",
       "0        1           1  respondent_1 2025-03-10 10:09:26  Monday            0   \n",
       "1        3           1  respondent_1 2025-03-10 10:09:26  Monday            0   \n",
       "2        1           1  respondent_1 2025-03-10 10:09:26  Monday            0   \n",
       "3        6           1  respondent_1 2025-03-10 10:09:26  Monday            0   \n",
       "4        3           1  respondent_1 2025-03-10 10:09:26  Monday            0   \n",
       "\n",
       "   hour        date  \n",
       "0    10  2025-03-10  \n",
       "1    10  2025-03-10  \n",
       "2    10  2025-03-10  \n",
       "3    10  2025-03-10  \n",
       "4    10  2025-03-10  "
      ]
     },
     "execution_count": 32,
     "metadata": {},
     "output_type": "execute_result"
    }
   ],
   "source": [
    "import pandas as pd\n",
    "import json\n",
    "\n",
    "def transform_df(name: str, df: pd.DataFrame):\n",
    "    df[\"id\"] = name\n",
    "    df['datetime'] = pd.to_datetime(date, format='%Y_%m_%d_%H_%M_%S')\n",
    "    # Извлекаем день недели в новый столбец\n",
    "    df['weekday'] = df['datetime'].dt.day_name()\n",
    "    df['weekday_num'] = df['datetime'].dt.dayofweek\n",
    "    df[\"hour\"] = df['datetime'].dt.hour\n",
    "    # добавляем логику что пользовтели могли засиживаться до 5 утра и это часть одного дня\n",
    "    df[\"hour\"] = df[\"hour\"].apply(lambda h: h + 24 if h < 5 else h)\n",
    "\n",
    "    df['date'] = df['datetime'].dt.date\n",
    "    df['date'] =  df[['datetime', 'hour', 'date']].apply(lambda row: (row['datetime'] - pd.Timedelta(days=1)).date() if row['hour'] > 23 else row['date'], axis=1)\n",
    "    return df\n",
    "\n",
    "\n",
    "# Initialize empty DataFrames\n",
    "answersLog_df = pd.DataFrame()\n",
    "testAnswersLog_df = pd.DataFrame()\n",
    "arr = []\n",
    "# Read and concatenate data from all files\n",
    "for ((name, num, date), file_path) in file_paths.items():\n",
    "    # print(name, date)\n",
    "    with open(file_path, \"r\", encoding=\"utf-8\") as file:\n",
    "        data = json.load(file)\n",
    "    arr.append(data.items())\n",
    "    # Convert JSON lists to Pandas DataFrames and add filename as a column\n",
    "    if \"answersLog\" in data:\n",
    "        temp_df = transform_df(name, pd.DataFrame(data[\"answersLog\"]))\n",
    "        answersLog_df = pd.concat([answersLog_df, temp_df], ignore_index=True)\n",
    "\n",
    "    if \"testAnswersLog\" in data:\n",
    "        temp_df = transform_df(name, pd.DataFrame(data[\"testAnswersLog\"]))\n",
    "\n",
    "        temp_df[\"score\"] = temp_df.apply(lambda x: calculate_fatigue_score(x['num'], x['answer']), axis=1)\n",
    "        # display(temp_df)\n",
    "        testAnswersLog_df = pd.concat([testAnswersLog_df, temp_df], ignore_index=True)\n",
    "display(testAnswersLog_df.head())\n",
    "answersLog_df.head()"
   ]
  },
  {
   "cell_type": "markdown",
   "metadata": {},
   "source": [
    "### Обработка опросника острого умственного утомления"
   ]
  },
  {
   "cell_type": "markdown",
   "metadata": {},
   "source": [
    "Индекс умственного утомления (ИУУ)\n",
    "1) ИУУ < 10 баллов - Отсутствие признаков умственного утомления\n",
    "2) 10 <= ИУУ < 16 баллов - Легкая степень умственного утомления\n",
    "3) 16<= ИУУ < 28 баллов - Умеренная степень умственного утомления\n",
    "4) ИУУ >= 28 баллов - Сильная степень умственного утомления"
   ]
  },
  {
   "cell_type": "code",
   "execution_count": 33,
   "metadata": {},
   "outputs": [
    {
     "data": {
      "text/html": [
       "<div>\n",
       "<style scoped>\n",
       "    .dataframe tbody tr th:only-of-type {\n",
       "        vertical-align: middle;\n",
       "    }\n",
       "\n",
       "    .dataframe tbody tr th {\n",
       "        vertical-align: top;\n",
       "    }\n",
       "\n",
       "    .dataframe thead th {\n",
       "        text-align: right;\n",
       "    }\n",
       "</style>\n",
       "<table border=\"1\" class=\"dataframe\">\n",
       "  <thead>\n",
       "    <tr style=\"text-align: right;\">\n",
       "      <th></th>\n",
       "      <th>id</th>\n",
       "      <th>datetime</th>\n",
       "      <th>activity_type</th>\n",
       "      <th>cog_load_flg</th>\n",
       "    </tr>\n",
       "  </thead>\n",
       "  <tbody>\n",
       "    <tr>\n",
       "      <th>18</th>\n",
       "      <td>respondent_1</td>\n",
       "      <td>2025-03-10 10:09:26</td>\n",
       "      <td>отдых (не у экрана, сон)</td>\n",
       "      <td>0</td>\n",
       "    </tr>\n",
       "    <tr>\n",
       "      <th>38</th>\n",
       "      <td>respondent_1</td>\n",
       "      <td>2025-03-10 15:39:44</td>\n",
       "      <td>умственная работа(включая комп игры)/работа с ...</td>\n",
       "      <td>1</td>\n",
       "    </tr>\n",
       "    <tr>\n",
       "      <th>58</th>\n",
       "      <td>respondent_1</td>\n",
       "      <td>2025-03-10 19:27:25</td>\n",
       "      <td>умственная работа(включая комп игры)/работа с ...</td>\n",
       "      <td>1</td>\n",
       "    </tr>\n",
       "    <tr>\n",
       "      <th>78</th>\n",
       "      <td>respondent_1</td>\n",
       "      <td>2025-03-10 20:39:20</td>\n",
       "      <td>умственная работа(включая комп игры)/работа с ...</td>\n",
       "      <td>1</td>\n",
       "    </tr>\n",
       "    <tr>\n",
       "      <th>98</th>\n",
       "      <td>respondent_1</td>\n",
       "      <td>2025-03-11 08:55:58</td>\n",
       "      <td>отдых (не у экрана, сон)</td>\n",
       "      <td>0</td>\n",
       "    </tr>\n",
       "  </tbody>\n",
       "</table>\n",
       "</div>"
      ],
      "text/plain": [
       "              id            datetime  \\\n",
       "18  respondent_1 2025-03-10 10:09:26   \n",
       "38  respondent_1 2025-03-10 15:39:44   \n",
       "58  respondent_1 2025-03-10 19:27:25   \n",
       "78  respondent_1 2025-03-10 20:39:20   \n",
       "98  respondent_1 2025-03-11 08:55:58   \n",
       "\n",
       "                                        activity_type  cog_load_flg  \n",
       "18                           отдых (не у экрана, сон)             0  \n",
       "38  умственная работа(включая комп игры)/работа с ...             1  \n",
       "58  умственная работа(включая комп игры)/работа с ...             1  \n",
       "78  умственная работа(включая комп игры)/работа с ...             1  \n",
       "98                           отдых (не у экрана, сон)             0  "
      ]
     },
     "metadata": {},
     "output_type": "display_data"
    },
    {
     "data": {
      "text/html": [
       "<div>\n",
       "<style scoped>\n",
       "    .dataframe tbody tr th:only-of-type {\n",
       "        vertical-align: middle;\n",
       "    }\n",
       "\n",
       "    .dataframe tbody tr th {\n",
       "        vertical-align: top;\n",
       "    }\n",
       "\n",
       "    .dataframe thead th {\n",
       "        text-align: right;\n",
       "    }\n",
       "</style>\n",
       "<table border=\"1\" class=\"dataframe\">\n",
       "  <thead>\n",
       "    <tr style=\"text-align: right;\">\n",
       "      <th></th>\n",
       "      <th>id</th>\n",
       "      <th>datetime</th>\n",
       "      <th>self_score</th>\n",
       "    </tr>\n",
       "  </thead>\n",
       "  <tbody>\n",
       "    <tr>\n",
       "      <th>19</th>\n",
       "      <td>respondent_1</td>\n",
       "      <td>2025-03-10 10:09:26</td>\n",
       "      <td>7</td>\n",
       "    </tr>\n",
       "    <tr>\n",
       "      <th>39</th>\n",
       "      <td>respondent_1</td>\n",
       "      <td>2025-03-10 15:39:44</td>\n",
       "      <td>7</td>\n",
       "    </tr>\n",
       "    <tr>\n",
       "      <th>59</th>\n",
       "      <td>respondent_1</td>\n",
       "      <td>2025-03-10 19:27:25</td>\n",
       "      <td>4</td>\n",
       "    </tr>\n",
       "    <tr>\n",
       "      <th>79</th>\n",
       "      <td>respondent_1</td>\n",
       "      <td>2025-03-10 20:39:20</td>\n",
       "      <td>2</td>\n",
       "    </tr>\n",
       "    <tr>\n",
       "      <th>99</th>\n",
       "      <td>respondent_1</td>\n",
       "      <td>2025-03-11 08:55:58</td>\n",
       "      <td>8</td>\n",
       "    </tr>\n",
       "  </tbody>\n",
       "</table>\n",
       "</div>"
      ],
      "text/plain": [
       "              id            datetime  self_score\n",
       "19  respondent_1 2025-03-10 10:09:26           7\n",
       "39  respondent_1 2025-03-10 15:39:44           7\n",
       "59  respondent_1 2025-03-10 19:27:25           4\n",
       "79  respondent_1 2025-03-10 20:39:20           2\n",
       "99  respondent_1 2025-03-11 08:55:58           8"
      ]
     },
     "execution_count": 33,
     "metadata": {},
     "output_type": "execute_result"
    }
   ],
   "source": [
    "activity_df = testAnswersLog_df[testAnswersLog_df['num'] == 19][['id', 'datetime', 'answer']]\n",
    "activity_df.columns = ['id', 'datetime', 'activity_type']\n",
    "activity_df['cog_load_flg'] = activity_df['activity_type'].str.startswith('умственная работа').astype(int)\n",
    "\n",
    "self_capacity_df = testAnswersLog_df[testAnswersLog_df['num'] == 20][['id', 'datetime', 'answer']]\n",
    "self_capacity_df.columns = ['id', 'datetime', 'self_score']\n",
    "self_capacity_df['self_score'] = self_capacity_df['self_score'].astype(int)\n",
    "display(activity_df.head())\n",
    "self_capacity_df.head()"
   ]
  },
  {
   "cell_type": "code",
   "execution_count": 34,
   "metadata": {},
   "outputs": [
    {
     "data": {
      "text/html": [
       "<div>\n",
       "<style scoped>\n",
       "    .dataframe tbody tr th:only-of-type {\n",
       "        vertical-align: middle;\n",
       "    }\n",
       "\n",
       "    .dataframe tbody tr th {\n",
       "        vertical-align: top;\n",
       "    }\n",
       "\n",
       "    .dataframe thead th {\n",
       "        text-align: right;\n",
       "    }\n",
       "</style>\n",
       "<table border=\"1\" class=\"dataframe\">\n",
       "  <thead>\n",
       "    <tr style=\"text-align: right;\">\n",
       "      <th></th>\n",
       "      <th>id</th>\n",
       "      <th>datetime</th>\n",
       "      <th>date</th>\n",
       "      <th>weekday</th>\n",
       "      <th>weekday_num</th>\n",
       "      <th>hour</th>\n",
       "      <th>score</th>\n",
       "      <th>activity_type</th>\n",
       "      <th>cog_load_flg</th>\n",
       "      <th>self_score</th>\n",
       "      <th>fatigue_lvl</th>\n",
       "    </tr>\n",
       "  </thead>\n",
       "  <tbody>\n",
       "    <tr>\n",
       "      <th>0</th>\n",
       "      <td>respondent_1</td>\n",
       "      <td>2025-03-10 10:09:26</td>\n",
       "      <td>2025-03-10</td>\n",
       "      <td>Monday</td>\n",
       "      <td>0</td>\n",
       "      <td>10</td>\n",
       "      <td>15</td>\n",
       "      <td>отдых (не у экрана, сон)</td>\n",
       "      <td>0.0</td>\n",
       "      <td>7.0</td>\n",
       "      <td>2</td>\n",
       "    </tr>\n",
       "    <tr>\n",
       "      <th>1</th>\n",
       "      <td>respondent_1</td>\n",
       "      <td>2025-03-10 15:39:44</td>\n",
       "      <td>2025-03-10</td>\n",
       "      <td>Monday</td>\n",
       "      <td>0</td>\n",
       "      <td>15</td>\n",
       "      <td>9</td>\n",
       "      <td>умственная работа(включая комп игры)/работа с ...</td>\n",
       "      <td>1.0</td>\n",
       "      <td>7.0</td>\n",
       "      <td>1</td>\n",
       "    </tr>\n",
       "    <tr>\n",
       "      <th>2</th>\n",
       "      <td>respondent_1</td>\n",
       "      <td>2025-03-10 19:27:25</td>\n",
       "      <td>2025-03-10</td>\n",
       "      <td>Monday</td>\n",
       "      <td>0</td>\n",
       "      <td>19</td>\n",
       "      <td>25</td>\n",
       "      <td>умственная работа(включая комп игры)/работа с ...</td>\n",
       "      <td>1.0</td>\n",
       "      <td>4.0</td>\n",
       "      <td>3</td>\n",
       "    </tr>\n",
       "    <tr>\n",
       "      <th>3</th>\n",
       "      <td>respondent_1</td>\n",
       "      <td>2025-03-10 20:39:20</td>\n",
       "      <td>2025-03-10</td>\n",
       "      <td>Monday</td>\n",
       "      <td>0</td>\n",
       "      <td>20</td>\n",
       "      <td>30</td>\n",
       "      <td>умственная работа(включая комп игры)/работа с ...</td>\n",
       "      <td>1.0</td>\n",
       "      <td>2.0</td>\n",
       "      <td>4</td>\n",
       "    </tr>\n",
       "    <tr>\n",
       "      <th>4</th>\n",
       "      <td>respondent_1</td>\n",
       "      <td>2025-03-11 08:55:58</td>\n",
       "      <td>2025-03-11</td>\n",
       "      <td>Tuesday</td>\n",
       "      <td>1</td>\n",
       "      <td>8</td>\n",
       "      <td>6</td>\n",
       "      <td>отдых (не у экрана, сон)</td>\n",
       "      <td>0.0</td>\n",
       "      <td>8.0</td>\n",
       "      <td>1</td>\n",
       "    </tr>\n",
       "  </tbody>\n",
       "</table>\n",
       "</div>"
      ],
      "text/plain": [
       "             id            datetime        date  weekday  weekday_num  hour  \\\n",
       "0  respondent_1 2025-03-10 10:09:26  2025-03-10   Monday            0    10   \n",
       "1  respondent_1 2025-03-10 15:39:44  2025-03-10   Monday            0    15   \n",
       "2  respondent_1 2025-03-10 19:27:25  2025-03-10   Monday            0    19   \n",
       "3  respondent_1 2025-03-10 20:39:20  2025-03-10   Monday            0    20   \n",
       "4  respondent_1 2025-03-11 08:55:58  2025-03-11  Tuesday            1     8   \n",
       "\n",
       "   score                                      activity_type  cog_load_flg  \\\n",
       "0     15                           отдых (не у экрана, сон)           0.0   \n",
       "1      9  умственная работа(включая комп игры)/работа с ...           1.0   \n",
       "2     25  умственная работа(включая комп игры)/работа с ...           1.0   \n",
       "3     30  умственная работа(включая комп игры)/работа с ...           1.0   \n",
       "4      6                           отдых (не у экрана, сон)           0.0   \n",
       "\n",
       "   self_score  fatigue_lvl  \n",
       "0         7.0            2  \n",
       "1         7.0            1  \n",
       "2         4.0            3  \n",
       "3         2.0            4  \n",
       "4         8.0            1  "
      ]
     },
     "execution_count": 34,
     "metadata": {},
     "output_type": "execute_result"
    }
   ],
   "source": [
    "fatigue_test_scores = testAnswersLog_df.groupby(['id', 'datetime','date', 'weekday', 'weekday_num', 'hour']).agg({\n",
    "    'score':'sum'\n",
    "}).reset_index()\n",
    "fatigue_test_scores = pd.merge(fatigue_test_scores, activity_df, on=['id', 'datetime'], how='left')\n",
    "fatigue_test_scores = pd.merge(fatigue_test_scores, self_capacity_df, on=['id', 'datetime'], how='left')\n",
    "fatigue_test_scores['fatigue_lvl'] = fatigue_test_scores['score'].apply(lambda x: 4 if x >= 28 else 3 if x >= 16 else 2 if x >= 10 else 1)\n",
    "\n",
    "fatigue_test_scores.head()"
   ]
  },
  {
   "cell_type": "code",
   "execution_count": 35,
   "metadata": {},
   "outputs": [
    {
     "data": {
      "application/vnd.plotly.v1+json": {
       "config": {
        "plotlyServerURL": "https://plot.ly"
       },
       "data": [
        {
         "name": "Скор стресса",
         "type": "scatter",
         "x": [
          "2025-03-10T10:09:26.000000000",
          "2025-03-10T15:39:44.000000000",
          "2025-03-10T19:27:25.000000000",
          "2025-03-10T20:39:20.000000000",
          "2025-03-11T08:55:58.000000000",
          "2025-03-11T17:38:58.000000000",
          "2025-03-12T08:48:30.000000000",
          "2025-03-12T16:04:18.000000000",
          "2025-03-12T20:38:30.000000000",
          "2025-03-13T09:20:31.000000000",
          "2025-03-13T12:26:28.000000000",
          "2025-03-13T14:17:22.000000000",
          "2025-03-13T22:48:59.000000000",
          "2025-03-14T13:41:47.000000000",
          "2025-03-14T15:19:17.000000000",
          "2025-03-15T17:17:19.000000000"
         ],
         "xaxis": "x",
         "y": {
          "bdata": "DwkZHgYZBhMPDhwXEwMEHA==",
          "dtype": "i1"
         },
         "yaxis": "y"
        },
        {
         "marker": {
          "opacity": 0.6
         },
         "mode": "markers",
         "name": "Скор стресса",
         "type": "scatter",
         "x": [
          "2025-03-10T10:09:26.000000000",
          "2025-03-10T15:39:44.000000000",
          "2025-03-10T19:27:25.000000000",
          "2025-03-10T20:39:20.000000000",
          "2025-03-11T08:55:58.000000000",
          "2025-03-11T17:38:58.000000000",
          "2025-03-12T08:48:30.000000000",
          "2025-03-12T16:04:18.000000000",
          "2025-03-12T20:38:30.000000000",
          "2025-03-13T09:20:31.000000000",
          "2025-03-13T12:26:28.000000000",
          "2025-03-13T14:17:22.000000000",
          "2025-03-13T22:48:59.000000000",
          "2025-03-14T13:41:47.000000000",
          "2025-03-14T15:19:17.000000000",
          "2025-03-15T17:17:19.000000000"
         ],
         "xaxis": "x",
         "y": {
          "bdata": "DwkZHgYZBhMPDhwXEwMEHA==",
          "dtype": "i1"
         },
         "yaxis": "y"
        },
        {
         "name": "Уровень стресса",
         "type": "scatter",
         "x": [
          "2025-03-10T10:09:26.000000000",
          "2025-03-10T15:39:44.000000000",
          "2025-03-10T19:27:25.000000000",
          "2025-03-10T20:39:20.000000000",
          "2025-03-11T08:55:58.000000000",
          "2025-03-11T17:38:58.000000000",
          "2025-03-12T08:48:30.000000000",
          "2025-03-12T16:04:18.000000000",
          "2025-03-12T20:38:30.000000000",
          "2025-03-13T09:20:31.000000000",
          "2025-03-13T12:26:28.000000000",
          "2025-03-13T14:17:22.000000000",
          "2025-03-13T22:48:59.000000000",
          "2025-03-14T13:41:47.000000000",
          "2025-03-14T15:19:17.000000000",
          "2025-03-15T17:17:19.000000000"
         ],
         "xaxis": "x2",
         "y": {
          "bdata": "AgEDBAEDAQMCAgQDAwEBBA==",
          "dtype": "i1"
         },
         "yaxis": "y2"
        },
        {
         "marker": {
          "opacity": 0.6
         },
         "mode": "markers",
         "name": "Уровень стресса",
         "type": "scatter",
         "x": [
          "2025-03-10T10:09:26.000000000",
          "2025-03-10T15:39:44.000000000",
          "2025-03-10T19:27:25.000000000",
          "2025-03-10T20:39:20.000000000",
          "2025-03-11T08:55:58.000000000",
          "2025-03-11T17:38:58.000000000",
          "2025-03-12T08:48:30.000000000",
          "2025-03-12T16:04:18.000000000",
          "2025-03-12T20:38:30.000000000",
          "2025-03-13T09:20:31.000000000",
          "2025-03-13T12:26:28.000000000",
          "2025-03-13T14:17:22.000000000",
          "2025-03-13T22:48:59.000000000",
          "2025-03-14T13:41:47.000000000",
          "2025-03-14T15:19:17.000000000",
          "2025-03-15T17:17:19.000000000"
         ],
         "xaxis": "x2",
         "y": {
          "bdata": "AgEDBAEDAQMCAgQDAwEBBA==",
          "dtype": "i1"
         },
         "yaxis": "y2"
        },
        {
         "name": "Уровень стресса",
         "type": "scatter",
         "x": [
          "2025-03-10T10:09:26.000000000",
          "2025-03-10T15:39:44.000000000",
          "2025-03-10T19:27:25.000000000",
          "2025-03-10T20:39:20.000000000",
          "2025-03-11T08:55:58.000000000",
          "2025-03-11T17:38:58.000000000",
          "2025-03-12T08:48:30.000000000",
          "2025-03-12T16:04:18.000000000",
          "2025-03-12T20:38:30.000000000",
          "2025-03-13T09:20:31.000000000",
          "2025-03-13T12:26:28.000000000",
          "2025-03-13T14:17:22.000000000",
          "2025-03-13T22:48:59.000000000",
          "2025-03-14T13:41:47.000000000",
          "2025-03-14T15:19:17.000000000",
          "2025-03-15T17:17:19.000000000"
         ],
         "xaxis": "x3",
         "y": {
          "bdata": "AAAAAAAAHEAAAAAAAAAcQAAAAAAAABBAAAAAAAAAAEAAAAAAAAAgQAAAAAAAABBAAAAAAAAAIEAAAAAAAAAQQAAAAAAAAABAAAAAAAAAGEAAAAAAAAAAQAAAAAAAAAhAAAAAAAAACEAAAAAAAAAgQAAAAAAAACBAAAAAAAAA8D8=",
          "dtype": "f8"
         },
         "yaxis": "y3"
        },
        {
         "marker": {
          "opacity": 0.6
         },
         "mode": "markers",
         "name": "Уровень стресса",
         "type": "scatter",
         "x": [
          "2025-03-10T10:09:26.000000000",
          "2025-03-10T15:39:44.000000000",
          "2025-03-10T19:27:25.000000000",
          "2025-03-10T20:39:20.000000000",
          "2025-03-11T08:55:58.000000000",
          "2025-03-11T17:38:58.000000000",
          "2025-03-12T08:48:30.000000000",
          "2025-03-12T16:04:18.000000000",
          "2025-03-12T20:38:30.000000000",
          "2025-03-13T09:20:31.000000000",
          "2025-03-13T12:26:28.000000000",
          "2025-03-13T14:17:22.000000000",
          "2025-03-13T22:48:59.000000000",
          "2025-03-14T13:41:47.000000000",
          "2025-03-14T15:19:17.000000000",
          "2025-03-15T17:17:19.000000000"
         ],
         "xaxis": "x3",
         "y": {
          "bdata": "AAAAAAAAHEAAAAAAAAAcQAAAAAAAABBAAAAAAAAAAEAAAAAAAAAgQAAAAAAAABBAAAAAAAAAIEAAAAAAAAAQQAAAAAAAAABAAAAAAAAAGEAAAAAAAAAAQAAAAAAAAAhAAAAAAAAACEAAAAAAAAAgQAAAAAAAACBAAAAAAAAA8D8=",
          "dtype": "f8"
         },
         "yaxis": "y3"
        }
       ],
       "layout": {
        "annotations": [
         {
          "font": {
           "size": 16
          },
          "showarrow": false,
          "text": "Индекс умственного утомления",
          "x": 0.5,
          "xanchor": "center",
          "xref": "paper",
          "y": 1,
          "yanchor": "bottom",
          "yref": "paper"
         },
         {
          "font": {
           "size": 16
          },
          "showarrow": false,
          "text": "Уровень утомления",
          "x": 0.5,
          "xanchor": "center",
          "xref": "paper",
          "y": 0.6111111111111112,
          "yanchor": "bottom",
          "yref": "paper"
         }
        ],
        "height": 300,
        "showlegend": false,
        "template": {
         "data": {
          "bar": [
           {
            "error_x": {
             "color": "#2a3f5f"
            },
            "error_y": {
             "color": "#2a3f5f"
            },
            "marker": {
             "line": {
              "color": "#E5ECF6",
              "width": 0.5
             },
             "pattern": {
              "fillmode": "overlay",
              "size": 10,
              "solidity": 0.2
             }
            },
            "type": "bar"
           }
          ],
          "barpolar": [
           {
            "marker": {
             "line": {
              "color": "#E5ECF6",
              "width": 0.5
             },
             "pattern": {
              "fillmode": "overlay",
              "size": 10,
              "solidity": 0.2
             }
            },
            "type": "barpolar"
           }
          ],
          "carpet": [
           {
            "aaxis": {
             "endlinecolor": "#2a3f5f",
             "gridcolor": "white",
             "linecolor": "white",
             "minorgridcolor": "white",
             "startlinecolor": "#2a3f5f"
            },
            "baxis": {
             "endlinecolor": "#2a3f5f",
             "gridcolor": "white",
             "linecolor": "white",
             "minorgridcolor": "white",
             "startlinecolor": "#2a3f5f"
            },
            "type": "carpet"
           }
          ],
          "choropleth": [
           {
            "colorbar": {
             "outlinewidth": 0,
             "ticks": ""
            },
            "type": "choropleth"
           }
          ],
          "contour": [
           {
            "colorbar": {
             "outlinewidth": 0,
             "ticks": ""
            },
            "colorscale": [
             [
              0,
              "#0d0887"
             ],
             [
              0.1111111111111111,
              "#46039f"
             ],
             [
              0.2222222222222222,
              "#7201a8"
             ],
             [
              0.3333333333333333,
              "#9c179e"
             ],
             [
              0.4444444444444444,
              "#bd3786"
             ],
             [
              0.5555555555555556,
              "#d8576b"
             ],
             [
              0.6666666666666666,
              "#ed7953"
             ],
             [
              0.7777777777777778,
              "#fb9f3a"
             ],
             [
              0.8888888888888888,
              "#fdca26"
             ],
             [
              1,
              "#f0f921"
             ]
            ],
            "type": "contour"
           }
          ],
          "contourcarpet": [
           {
            "colorbar": {
             "outlinewidth": 0,
             "ticks": ""
            },
            "type": "contourcarpet"
           }
          ],
          "heatmap": [
           {
            "colorbar": {
             "outlinewidth": 0,
             "ticks": ""
            },
            "colorscale": [
             [
              0,
              "#0d0887"
             ],
             [
              0.1111111111111111,
              "#46039f"
             ],
             [
              0.2222222222222222,
              "#7201a8"
             ],
             [
              0.3333333333333333,
              "#9c179e"
             ],
             [
              0.4444444444444444,
              "#bd3786"
             ],
             [
              0.5555555555555556,
              "#d8576b"
             ],
             [
              0.6666666666666666,
              "#ed7953"
             ],
             [
              0.7777777777777778,
              "#fb9f3a"
             ],
             [
              0.8888888888888888,
              "#fdca26"
             ],
             [
              1,
              "#f0f921"
             ]
            ],
            "type": "heatmap"
           }
          ],
          "histogram": [
           {
            "marker": {
             "pattern": {
              "fillmode": "overlay",
              "size": 10,
              "solidity": 0.2
             }
            },
            "type": "histogram"
           }
          ],
          "histogram2d": [
           {
            "colorbar": {
             "outlinewidth": 0,
             "ticks": ""
            },
            "colorscale": [
             [
              0,
              "#0d0887"
             ],
             [
              0.1111111111111111,
              "#46039f"
             ],
             [
              0.2222222222222222,
              "#7201a8"
             ],
             [
              0.3333333333333333,
              "#9c179e"
             ],
             [
              0.4444444444444444,
              "#bd3786"
             ],
             [
              0.5555555555555556,
              "#d8576b"
             ],
             [
              0.6666666666666666,
              "#ed7953"
             ],
             [
              0.7777777777777778,
              "#fb9f3a"
             ],
             [
              0.8888888888888888,
              "#fdca26"
             ],
             [
              1,
              "#f0f921"
             ]
            ],
            "type": "histogram2d"
           }
          ],
          "histogram2dcontour": [
           {
            "colorbar": {
             "outlinewidth": 0,
             "ticks": ""
            },
            "colorscale": [
             [
              0,
              "#0d0887"
             ],
             [
              0.1111111111111111,
              "#46039f"
             ],
             [
              0.2222222222222222,
              "#7201a8"
             ],
             [
              0.3333333333333333,
              "#9c179e"
             ],
             [
              0.4444444444444444,
              "#bd3786"
             ],
             [
              0.5555555555555556,
              "#d8576b"
             ],
             [
              0.6666666666666666,
              "#ed7953"
             ],
             [
              0.7777777777777778,
              "#fb9f3a"
             ],
             [
              0.8888888888888888,
              "#fdca26"
             ],
             [
              1,
              "#f0f921"
             ]
            ],
            "type": "histogram2dcontour"
           }
          ],
          "mesh3d": [
           {
            "colorbar": {
             "outlinewidth": 0,
             "ticks": ""
            },
            "type": "mesh3d"
           }
          ],
          "parcoords": [
           {
            "line": {
             "colorbar": {
              "outlinewidth": 0,
              "ticks": ""
             }
            },
            "type": "parcoords"
           }
          ],
          "pie": [
           {
            "automargin": true,
            "type": "pie"
           }
          ],
          "scatter": [
           {
            "fillpattern": {
             "fillmode": "overlay",
             "size": 10,
             "solidity": 0.2
            },
            "type": "scatter"
           }
          ],
          "scatter3d": [
           {
            "line": {
             "colorbar": {
              "outlinewidth": 0,
              "ticks": ""
             }
            },
            "marker": {
             "colorbar": {
              "outlinewidth": 0,
              "ticks": ""
             }
            },
            "type": "scatter3d"
           }
          ],
          "scattercarpet": [
           {
            "marker": {
             "colorbar": {
              "outlinewidth": 0,
              "ticks": ""
             }
            },
            "type": "scattercarpet"
           }
          ],
          "scattergeo": [
           {
            "marker": {
             "colorbar": {
              "outlinewidth": 0,
              "ticks": ""
             }
            },
            "type": "scattergeo"
           }
          ],
          "scattergl": [
           {
            "marker": {
             "colorbar": {
              "outlinewidth": 0,
              "ticks": ""
             }
            },
            "type": "scattergl"
           }
          ],
          "scattermap": [
           {
            "marker": {
             "colorbar": {
              "outlinewidth": 0,
              "ticks": ""
             }
            },
            "type": "scattermap"
           }
          ],
          "scattermapbox": [
           {
            "marker": {
             "colorbar": {
              "outlinewidth": 0,
              "ticks": ""
             }
            },
            "type": "scattermapbox"
           }
          ],
          "scatterpolar": [
           {
            "marker": {
             "colorbar": {
              "outlinewidth": 0,
              "ticks": ""
             }
            },
            "type": "scatterpolar"
           }
          ],
          "scatterpolargl": [
           {
            "marker": {
             "colorbar": {
              "outlinewidth": 0,
              "ticks": ""
             }
            },
            "type": "scatterpolargl"
           }
          ],
          "scatterternary": [
           {
            "marker": {
             "colorbar": {
              "outlinewidth": 0,
              "ticks": ""
             }
            },
            "type": "scatterternary"
           }
          ],
          "surface": [
           {
            "colorbar": {
             "outlinewidth": 0,
             "ticks": ""
            },
            "colorscale": [
             [
              0,
              "#0d0887"
             ],
             [
              0.1111111111111111,
              "#46039f"
             ],
             [
              0.2222222222222222,
              "#7201a8"
             ],
             [
              0.3333333333333333,
              "#9c179e"
             ],
             [
              0.4444444444444444,
              "#bd3786"
             ],
             [
              0.5555555555555556,
              "#d8576b"
             ],
             [
              0.6666666666666666,
              "#ed7953"
             ],
             [
              0.7777777777777778,
              "#fb9f3a"
             ],
             [
              0.8888888888888888,
              "#fdca26"
             ],
             [
              1,
              "#f0f921"
             ]
            ],
            "type": "surface"
           }
          ],
          "table": [
           {
            "cells": {
             "fill": {
              "color": "#EBF0F8"
             },
             "line": {
              "color": "white"
             }
            },
            "header": {
             "fill": {
              "color": "#C8D4E3"
             },
             "line": {
              "color": "white"
             }
            },
            "type": "table"
           }
          ]
         },
         "layout": {
          "annotationdefaults": {
           "arrowcolor": "#2a3f5f",
           "arrowhead": 0,
           "arrowwidth": 1
          },
          "autotypenumbers": "strict",
          "coloraxis": {
           "colorbar": {
            "outlinewidth": 0,
            "ticks": ""
           }
          },
          "colorscale": {
           "diverging": [
            [
             0,
             "#8e0152"
            ],
            [
             0.1,
             "#c51b7d"
            ],
            [
             0.2,
             "#de77ae"
            ],
            [
             0.3,
             "#f1b6da"
            ],
            [
             0.4,
             "#fde0ef"
            ],
            [
             0.5,
             "#f7f7f7"
            ],
            [
             0.6,
             "#e6f5d0"
            ],
            [
             0.7,
             "#b8e186"
            ],
            [
             0.8,
             "#7fbc41"
            ],
            [
             0.9,
             "#4d9221"
            ],
            [
             1,
             "#276419"
            ]
           ],
           "sequential": [
            [
             0,
             "#0d0887"
            ],
            [
             0.1111111111111111,
             "#46039f"
            ],
            [
             0.2222222222222222,
             "#7201a8"
            ],
            [
             0.3333333333333333,
             "#9c179e"
            ],
            [
             0.4444444444444444,
             "#bd3786"
            ],
            [
             0.5555555555555556,
             "#d8576b"
            ],
            [
             0.6666666666666666,
             "#ed7953"
            ],
            [
             0.7777777777777778,
             "#fb9f3a"
            ],
            [
             0.8888888888888888,
             "#fdca26"
            ],
            [
             1,
             "#f0f921"
            ]
           ],
           "sequentialminus": [
            [
             0,
             "#0d0887"
            ],
            [
             0.1111111111111111,
             "#46039f"
            ],
            [
             0.2222222222222222,
             "#7201a8"
            ],
            [
             0.3333333333333333,
             "#9c179e"
            ],
            [
             0.4444444444444444,
             "#bd3786"
            ],
            [
             0.5555555555555556,
             "#d8576b"
            ],
            [
             0.6666666666666666,
             "#ed7953"
            ],
            [
             0.7777777777777778,
             "#fb9f3a"
            ],
            [
             0.8888888888888888,
             "#fdca26"
            ],
            [
             1,
             "#f0f921"
            ]
           ]
          },
          "colorway": [
           "#636efa",
           "#EF553B",
           "#00cc96",
           "#ab63fa",
           "#FFA15A",
           "#19d3f3",
           "#FF6692",
           "#B6E880",
           "#FF97FF",
           "#FECB52"
          ],
          "font": {
           "color": "#2a3f5f"
          },
          "geo": {
           "bgcolor": "white",
           "lakecolor": "white",
           "landcolor": "#E5ECF6",
           "showlakes": true,
           "showland": true,
           "subunitcolor": "white"
          },
          "hoverlabel": {
           "align": "left"
          },
          "hovermode": "closest",
          "mapbox": {
           "style": "light"
          },
          "paper_bgcolor": "white",
          "plot_bgcolor": "#E5ECF6",
          "polar": {
           "angularaxis": {
            "gridcolor": "white",
            "linecolor": "white",
            "ticks": ""
           },
           "bgcolor": "#E5ECF6",
           "radialaxis": {
            "gridcolor": "white",
            "linecolor": "white",
            "ticks": ""
           }
          },
          "scene": {
           "xaxis": {
            "backgroundcolor": "#E5ECF6",
            "gridcolor": "white",
            "gridwidth": 2,
            "linecolor": "white",
            "showbackground": true,
            "ticks": "",
            "zerolinecolor": "white"
           },
           "yaxis": {
            "backgroundcolor": "#E5ECF6",
            "gridcolor": "white",
            "gridwidth": 2,
            "linecolor": "white",
            "showbackground": true,
            "ticks": "",
            "zerolinecolor": "white"
           },
           "zaxis": {
            "backgroundcolor": "#E5ECF6",
            "gridcolor": "white",
            "gridwidth": 2,
            "linecolor": "white",
            "showbackground": true,
            "ticks": "",
            "zerolinecolor": "white"
           }
          },
          "shapedefaults": {
           "line": {
            "color": "#2a3f5f"
           }
          },
          "ternary": {
           "aaxis": {
            "gridcolor": "white",
            "linecolor": "white",
            "ticks": ""
           },
           "baxis": {
            "gridcolor": "white",
            "linecolor": "white",
            "ticks": ""
           },
           "bgcolor": "#E5ECF6",
           "caxis": {
            "gridcolor": "white",
            "linecolor": "white",
            "ticks": ""
           }
          },
          "title": {
           "x": 0.05
          },
          "xaxis": {
           "automargin": true,
           "gridcolor": "white",
           "linecolor": "white",
           "ticks": "",
           "title": {
            "standoff": 15
           },
           "zerolinecolor": "white",
           "zerolinewidth": 2
          },
          "yaxis": {
           "automargin": true,
           "gridcolor": "white",
           "linecolor": "white",
           "ticks": "",
           "title": {
            "standoff": 15
           },
           "zerolinecolor": "white",
           "zerolinewidth": 2
          }
         }
        },
        "title": {
         "text": "respondent_1. Динамика утомления"
        },
        "xaxis": {
         "anchor": "y",
         "domain": [
          0,
          1
         ],
         "matches": "x3",
         "showticklabels": false
        },
        "xaxis2": {
         "anchor": "y2",
         "domain": [
          0,
          1
         ],
         "matches": "x3",
         "showticklabels": false,
         "title": {
          "text": "Время"
         }
        },
        "xaxis3": {
         "anchor": "y3",
         "domain": [
          0,
          1
         ]
        },
        "yaxis": {
         "anchor": "x",
         "domain": [
          0.7777777777777778,
          1
         ],
         "title": {
          "text": "Индекс умственного утомления"
         }
        },
        "yaxis2": {
         "anchor": "x2",
         "domain": [
          0.3888888888888889,
          0.6111111111111112
         ],
         "title": {
          "text": "Самооценка работоспособности"
         }
        },
        "yaxis3": {
         "anchor": "x3",
         "domain": [
          0,
          0.22222222222222224
         ]
        }
       }
      }
     },
     "metadata": {},
     "output_type": "display_data"
    },
    {
     "data": {
      "application/vnd.plotly.v1+json": {
       "config": {
        "plotlyServerURL": "https://plot.ly"
       },
       "data": [
        {
         "name": "Скор стресса",
         "type": "scatter",
         "x": [
          "2025-03-10T10:16:41.000000000",
          "2025-03-10T12:36:03.000000000",
          "2025-03-10T15:32:56.000000000",
          "2025-03-10T19:32:40.000000000",
          "2025-03-11T11:11:19.000000000",
          "2025-03-11T12:46:55.000000000",
          "2025-03-11T21:06:16.000000000",
          "2025-03-12T13:15:24.000000000",
          "2025-03-12T16:04:02.000000000",
          "2025-03-12T20:30:44.000000000",
          "2025-03-13T10:07:57.000000000",
          "2025-03-13T21:45:02.000000000",
          "2025-03-14T12:11:07.000000000",
          "2025-03-14T14:12:15.000000000",
          "2025-03-15T16:05:01.000000000"
         ],
         "xaxis": "x",
         "y": {
          "bdata": "DwsQFA8MFhMUFQwZFhcW",
          "dtype": "i1"
         },
         "yaxis": "y"
        },
        {
         "marker": {
          "opacity": 0.6
         },
         "mode": "markers",
         "name": "Скор стресса",
         "type": "scatter",
         "x": [
          "2025-03-10T10:16:41.000000000",
          "2025-03-10T12:36:03.000000000",
          "2025-03-10T15:32:56.000000000",
          "2025-03-10T19:32:40.000000000",
          "2025-03-11T11:11:19.000000000",
          "2025-03-11T12:46:55.000000000",
          "2025-03-11T21:06:16.000000000",
          "2025-03-12T13:15:24.000000000",
          "2025-03-12T16:04:02.000000000",
          "2025-03-12T20:30:44.000000000",
          "2025-03-13T10:07:57.000000000",
          "2025-03-13T21:45:02.000000000",
          "2025-03-14T12:11:07.000000000",
          "2025-03-14T14:12:15.000000000",
          "2025-03-15T16:05:01.000000000"
         ],
         "xaxis": "x",
         "y": {
          "bdata": "DwsQFA8MFhMUFQwZFhcW",
          "dtype": "i1"
         },
         "yaxis": "y"
        },
        {
         "name": "Уровень стресса",
         "type": "scatter",
         "x": [
          "2025-03-10T10:16:41.000000000",
          "2025-03-10T12:36:03.000000000",
          "2025-03-10T15:32:56.000000000",
          "2025-03-10T19:32:40.000000000",
          "2025-03-11T11:11:19.000000000",
          "2025-03-11T12:46:55.000000000",
          "2025-03-11T21:06:16.000000000",
          "2025-03-12T13:15:24.000000000",
          "2025-03-12T16:04:02.000000000",
          "2025-03-12T20:30:44.000000000",
          "2025-03-13T10:07:57.000000000",
          "2025-03-13T21:45:02.000000000",
          "2025-03-14T12:11:07.000000000",
          "2025-03-14T14:12:15.000000000",
          "2025-03-15T16:05:01.000000000"
         ],
         "xaxis": "x2",
         "y": {
          "bdata": "AgIDAwICAwMDAwIDAwMD",
          "dtype": "i1"
         },
         "yaxis": "y2"
        },
        {
         "marker": {
          "opacity": 0.6
         },
         "mode": "markers",
         "name": "Уровень стресса",
         "type": "scatter",
         "x": [
          "2025-03-10T10:16:41.000000000",
          "2025-03-10T12:36:03.000000000",
          "2025-03-10T15:32:56.000000000",
          "2025-03-10T19:32:40.000000000",
          "2025-03-11T11:11:19.000000000",
          "2025-03-11T12:46:55.000000000",
          "2025-03-11T21:06:16.000000000",
          "2025-03-12T13:15:24.000000000",
          "2025-03-12T16:04:02.000000000",
          "2025-03-12T20:30:44.000000000",
          "2025-03-13T10:07:57.000000000",
          "2025-03-13T21:45:02.000000000",
          "2025-03-14T12:11:07.000000000",
          "2025-03-14T14:12:15.000000000",
          "2025-03-15T16:05:01.000000000"
         ],
         "xaxis": "x2",
         "y": {
          "bdata": "AgIDAwICAwMDAwIDAwMD",
          "dtype": "i1"
         },
         "yaxis": "y2"
        },
        {
         "name": "Уровень стресса",
         "type": "scatter",
         "x": [
          "2025-03-10T10:16:41.000000000",
          "2025-03-10T12:36:03.000000000",
          "2025-03-10T15:32:56.000000000",
          "2025-03-10T19:32:40.000000000",
          "2025-03-11T11:11:19.000000000",
          "2025-03-11T12:46:55.000000000",
          "2025-03-11T21:06:16.000000000",
          "2025-03-12T13:15:24.000000000",
          "2025-03-12T16:04:02.000000000",
          "2025-03-12T20:30:44.000000000",
          "2025-03-13T10:07:57.000000000",
          "2025-03-13T21:45:02.000000000",
          "2025-03-14T12:11:07.000000000",
          "2025-03-14T14:12:15.000000000",
          "2025-03-15T16:05:01.000000000"
         ],
         "xaxis": "x3",
         "y": {
          "bdata": "AAAAAAAAFEAAAAAAAAAcQAAAAAAAABhAAAAAAAAACEAAAAAAAAAcQAAAAAAAABhAAAAAAAAACEAAAAAAAAAQQAAAAAAAABRAAAAAAAAAAEAAAAAAAAAcQAAAAAAAAABAAAAAAAAAFEAAAAAAAAAQQAAAAAAAABRA",
          "dtype": "f8"
         },
         "yaxis": "y3"
        },
        {
         "marker": {
          "opacity": 0.6
         },
         "mode": "markers",
         "name": "Уровень стресса",
         "type": "scatter",
         "x": [
          "2025-03-10T10:16:41.000000000",
          "2025-03-10T12:36:03.000000000",
          "2025-03-10T15:32:56.000000000",
          "2025-03-10T19:32:40.000000000",
          "2025-03-11T11:11:19.000000000",
          "2025-03-11T12:46:55.000000000",
          "2025-03-11T21:06:16.000000000",
          "2025-03-12T13:15:24.000000000",
          "2025-03-12T16:04:02.000000000",
          "2025-03-12T20:30:44.000000000",
          "2025-03-13T10:07:57.000000000",
          "2025-03-13T21:45:02.000000000",
          "2025-03-14T12:11:07.000000000",
          "2025-03-14T14:12:15.000000000",
          "2025-03-15T16:05:01.000000000"
         ],
         "xaxis": "x3",
         "y": {
          "bdata": "AAAAAAAAFEAAAAAAAAAcQAAAAAAAABhAAAAAAAAACEAAAAAAAAAcQAAAAAAAABhAAAAAAAAACEAAAAAAAAAQQAAAAAAAABRAAAAAAAAAAEAAAAAAAAAcQAAAAAAAAABAAAAAAAAAFEAAAAAAAAAQQAAAAAAAABRA",
          "dtype": "f8"
         },
         "yaxis": "y3"
        }
       ],
       "layout": {
        "annotations": [
         {
          "font": {
           "size": 16
          },
          "showarrow": false,
          "text": "Индекс умственного утомления",
          "x": 0.5,
          "xanchor": "center",
          "xref": "paper",
          "y": 1,
          "yanchor": "bottom",
          "yref": "paper"
         },
         {
          "font": {
           "size": 16
          },
          "showarrow": false,
          "text": "Уровень утомления",
          "x": 0.5,
          "xanchor": "center",
          "xref": "paper",
          "y": 0.6111111111111112,
          "yanchor": "bottom",
          "yref": "paper"
         }
        ],
        "height": 300,
        "showlegend": false,
        "template": {
         "data": {
          "bar": [
           {
            "error_x": {
             "color": "#2a3f5f"
            },
            "error_y": {
             "color": "#2a3f5f"
            },
            "marker": {
             "line": {
              "color": "#E5ECF6",
              "width": 0.5
             },
             "pattern": {
              "fillmode": "overlay",
              "size": 10,
              "solidity": 0.2
             }
            },
            "type": "bar"
           }
          ],
          "barpolar": [
           {
            "marker": {
             "line": {
              "color": "#E5ECF6",
              "width": 0.5
             },
             "pattern": {
              "fillmode": "overlay",
              "size": 10,
              "solidity": 0.2
             }
            },
            "type": "barpolar"
           }
          ],
          "carpet": [
           {
            "aaxis": {
             "endlinecolor": "#2a3f5f",
             "gridcolor": "white",
             "linecolor": "white",
             "minorgridcolor": "white",
             "startlinecolor": "#2a3f5f"
            },
            "baxis": {
             "endlinecolor": "#2a3f5f",
             "gridcolor": "white",
             "linecolor": "white",
             "minorgridcolor": "white",
             "startlinecolor": "#2a3f5f"
            },
            "type": "carpet"
           }
          ],
          "choropleth": [
           {
            "colorbar": {
             "outlinewidth": 0,
             "ticks": ""
            },
            "type": "choropleth"
           }
          ],
          "contour": [
           {
            "colorbar": {
             "outlinewidth": 0,
             "ticks": ""
            },
            "colorscale": [
             [
              0,
              "#0d0887"
             ],
             [
              0.1111111111111111,
              "#46039f"
             ],
             [
              0.2222222222222222,
              "#7201a8"
             ],
             [
              0.3333333333333333,
              "#9c179e"
             ],
             [
              0.4444444444444444,
              "#bd3786"
             ],
             [
              0.5555555555555556,
              "#d8576b"
             ],
             [
              0.6666666666666666,
              "#ed7953"
             ],
             [
              0.7777777777777778,
              "#fb9f3a"
             ],
             [
              0.8888888888888888,
              "#fdca26"
             ],
             [
              1,
              "#f0f921"
             ]
            ],
            "type": "contour"
           }
          ],
          "contourcarpet": [
           {
            "colorbar": {
             "outlinewidth": 0,
             "ticks": ""
            },
            "type": "contourcarpet"
           }
          ],
          "heatmap": [
           {
            "colorbar": {
             "outlinewidth": 0,
             "ticks": ""
            },
            "colorscale": [
             [
              0,
              "#0d0887"
             ],
             [
              0.1111111111111111,
              "#46039f"
             ],
             [
              0.2222222222222222,
              "#7201a8"
             ],
             [
              0.3333333333333333,
              "#9c179e"
             ],
             [
              0.4444444444444444,
              "#bd3786"
             ],
             [
              0.5555555555555556,
              "#d8576b"
             ],
             [
              0.6666666666666666,
              "#ed7953"
             ],
             [
              0.7777777777777778,
              "#fb9f3a"
             ],
             [
              0.8888888888888888,
              "#fdca26"
             ],
             [
              1,
              "#f0f921"
             ]
            ],
            "type": "heatmap"
           }
          ],
          "histogram": [
           {
            "marker": {
             "pattern": {
              "fillmode": "overlay",
              "size": 10,
              "solidity": 0.2
             }
            },
            "type": "histogram"
           }
          ],
          "histogram2d": [
           {
            "colorbar": {
             "outlinewidth": 0,
             "ticks": ""
            },
            "colorscale": [
             [
              0,
              "#0d0887"
             ],
             [
              0.1111111111111111,
              "#46039f"
             ],
             [
              0.2222222222222222,
              "#7201a8"
             ],
             [
              0.3333333333333333,
              "#9c179e"
             ],
             [
              0.4444444444444444,
              "#bd3786"
             ],
             [
              0.5555555555555556,
              "#d8576b"
             ],
             [
              0.6666666666666666,
              "#ed7953"
             ],
             [
              0.7777777777777778,
              "#fb9f3a"
             ],
             [
              0.8888888888888888,
              "#fdca26"
             ],
             [
              1,
              "#f0f921"
             ]
            ],
            "type": "histogram2d"
           }
          ],
          "histogram2dcontour": [
           {
            "colorbar": {
             "outlinewidth": 0,
             "ticks": ""
            },
            "colorscale": [
             [
              0,
              "#0d0887"
             ],
             [
              0.1111111111111111,
              "#46039f"
             ],
             [
              0.2222222222222222,
              "#7201a8"
             ],
             [
              0.3333333333333333,
              "#9c179e"
             ],
             [
              0.4444444444444444,
              "#bd3786"
             ],
             [
              0.5555555555555556,
              "#d8576b"
             ],
             [
              0.6666666666666666,
              "#ed7953"
             ],
             [
              0.7777777777777778,
              "#fb9f3a"
             ],
             [
              0.8888888888888888,
              "#fdca26"
             ],
             [
              1,
              "#f0f921"
             ]
            ],
            "type": "histogram2dcontour"
           }
          ],
          "mesh3d": [
           {
            "colorbar": {
             "outlinewidth": 0,
             "ticks": ""
            },
            "type": "mesh3d"
           }
          ],
          "parcoords": [
           {
            "line": {
             "colorbar": {
              "outlinewidth": 0,
              "ticks": ""
             }
            },
            "type": "parcoords"
           }
          ],
          "pie": [
           {
            "automargin": true,
            "type": "pie"
           }
          ],
          "scatter": [
           {
            "fillpattern": {
             "fillmode": "overlay",
             "size": 10,
             "solidity": 0.2
            },
            "type": "scatter"
           }
          ],
          "scatter3d": [
           {
            "line": {
             "colorbar": {
              "outlinewidth": 0,
              "ticks": ""
             }
            },
            "marker": {
             "colorbar": {
              "outlinewidth": 0,
              "ticks": ""
             }
            },
            "type": "scatter3d"
           }
          ],
          "scattercarpet": [
           {
            "marker": {
             "colorbar": {
              "outlinewidth": 0,
              "ticks": ""
             }
            },
            "type": "scattercarpet"
           }
          ],
          "scattergeo": [
           {
            "marker": {
             "colorbar": {
              "outlinewidth": 0,
              "ticks": ""
             }
            },
            "type": "scattergeo"
           }
          ],
          "scattergl": [
           {
            "marker": {
             "colorbar": {
              "outlinewidth": 0,
              "ticks": ""
             }
            },
            "type": "scattergl"
           }
          ],
          "scattermap": [
           {
            "marker": {
             "colorbar": {
              "outlinewidth": 0,
              "ticks": ""
             }
            },
            "type": "scattermap"
           }
          ],
          "scattermapbox": [
           {
            "marker": {
             "colorbar": {
              "outlinewidth": 0,
              "ticks": ""
             }
            },
            "type": "scattermapbox"
           }
          ],
          "scatterpolar": [
           {
            "marker": {
             "colorbar": {
              "outlinewidth": 0,
              "ticks": ""
             }
            },
            "type": "scatterpolar"
           }
          ],
          "scatterpolargl": [
           {
            "marker": {
             "colorbar": {
              "outlinewidth": 0,
              "ticks": ""
             }
            },
            "type": "scatterpolargl"
           }
          ],
          "scatterternary": [
           {
            "marker": {
             "colorbar": {
              "outlinewidth": 0,
              "ticks": ""
             }
            },
            "type": "scatterternary"
           }
          ],
          "surface": [
           {
            "colorbar": {
             "outlinewidth": 0,
             "ticks": ""
            },
            "colorscale": [
             [
              0,
              "#0d0887"
             ],
             [
              0.1111111111111111,
              "#46039f"
             ],
             [
              0.2222222222222222,
              "#7201a8"
             ],
             [
              0.3333333333333333,
              "#9c179e"
             ],
             [
              0.4444444444444444,
              "#bd3786"
             ],
             [
              0.5555555555555556,
              "#d8576b"
             ],
             [
              0.6666666666666666,
              "#ed7953"
             ],
             [
              0.7777777777777778,
              "#fb9f3a"
             ],
             [
              0.8888888888888888,
              "#fdca26"
             ],
             [
              1,
              "#f0f921"
             ]
            ],
            "type": "surface"
           }
          ],
          "table": [
           {
            "cells": {
             "fill": {
              "color": "#EBF0F8"
             },
             "line": {
              "color": "white"
             }
            },
            "header": {
             "fill": {
              "color": "#C8D4E3"
             },
             "line": {
              "color": "white"
             }
            },
            "type": "table"
           }
          ]
         },
         "layout": {
          "annotationdefaults": {
           "arrowcolor": "#2a3f5f",
           "arrowhead": 0,
           "arrowwidth": 1
          },
          "autotypenumbers": "strict",
          "coloraxis": {
           "colorbar": {
            "outlinewidth": 0,
            "ticks": ""
           }
          },
          "colorscale": {
           "diverging": [
            [
             0,
             "#8e0152"
            ],
            [
             0.1,
             "#c51b7d"
            ],
            [
             0.2,
             "#de77ae"
            ],
            [
             0.3,
             "#f1b6da"
            ],
            [
             0.4,
             "#fde0ef"
            ],
            [
             0.5,
             "#f7f7f7"
            ],
            [
             0.6,
             "#e6f5d0"
            ],
            [
             0.7,
             "#b8e186"
            ],
            [
             0.8,
             "#7fbc41"
            ],
            [
             0.9,
             "#4d9221"
            ],
            [
             1,
             "#276419"
            ]
           ],
           "sequential": [
            [
             0,
             "#0d0887"
            ],
            [
             0.1111111111111111,
             "#46039f"
            ],
            [
             0.2222222222222222,
             "#7201a8"
            ],
            [
             0.3333333333333333,
             "#9c179e"
            ],
            [
             0.4444444444444444,
             "#bd3786"
            ],
            [
             0.5555555555555556,
             "#d8576b"
            ],
            [
             0.6666666666666666,
             "#ed7953"
            ],
            [
             0.7777777777777778,
             "#fb9f3a"
            ],
            [
             0.8888888888888888,
             "#fdca26"
            ],
            [
             1,
             "#f0f921"
            ]
           ],
           "sequentialminus": [
            [
             0,
             "#0d0887"
            ],
            [
             0.1111111111111111,
             "#46039f"
            ],
            [
             0.2222222222222222,
             "#7201a8"
            ],
            [
             0.3333333333333333,
             "#9c179e"
            ],
            [
             0.4444444444444444,
             "#bd3786"
            ],
            [
             0.5555555555555556,
             "#d8576b"
            ],
            [
             0.6666666666666666,
             "#ed7953"
            ],
            [
             0.7777777777777778,
             "#fb9f3a"
            ],
            [
             0.8888888888888888,
             "#fdca26"
            ],
            [
             1,
             "#f0f921"
            ]
           ]
          },
          "colorway": [
           "#636efa",
           "#EF553B",
           "#00cc96",
           "#ab63fa",
           "#FFA15A",
           "#19d3f3",
           "#FF6692",
           "#B6E880",
           "#FF97FF",
           "#FECB52"
          ],
          "font": {
           "color": "#2a3f5f"
          },
          "geo": {
           "bgcolor": "white",
           "lakecolor": "white",
           "landcolor": "#E5ECF6",
           "showlakes": true,
           "showland": true,
           "subunitcolor": "white"
          },
          "hoverlabel": {
           "align": "left"
          },
          "hovermode": "closest",
          "mapbox": {
           "style": "light"
          },
          "paper_bgcolor": "white",
          "plot_bgcolor": "#E5ECF6",
          "polar": {
           "angularaxis": {
            "gridcolor": "white",
            "linecolor": "white",
            "ticks": ""
           },
           "bgcolor": "#E5ECF6",
           "radialaxis": {
            "gridcolor": "white",
            "linecolor": "white",
            "ticks": ""
           }
          },
          "scene": {
           "xaxis": {
            "backgroundcolor": "#E5ECF6",
            "gridcolor": "white",
            "gridwidth": 2,
            "linecolor": "white",
            "showbackground": true,
            "ticks": "",
            "zerolinecolor": "white"
           },
           "yaxis": {
            "backgroundcolor": "#E5ECF6",
            "gridcolor": "white",
            "gridwidth": 2,
            "linecolor": "white",
            "showbackground": true,
            "ticks": "",
            "zerolinecolor": "white"
           },
           "zaxis": {
            "backgroundcolor": "#E5ECF6",
            "gridcolor": "white",
            "gridwidth": 2,
            "linecolor": "white",
            "showbackground": true,
            "ticks": "",
            "zerolinecolor": "white"
           }
          },
          "shapedefaults": {
           "line": {
            "color": "#2a3f5f"
           }
          },
          "ternary": {
           "aaxis": {
            "gridcolor": "white",
            "linecolor": "white",
            "ticks": ""
           },
           "baxis": {
            "gridcolor": "white",
            "linecolor": "white",
            "ticks": ""
           },
           "bgcolor": "#E5ECF6",
           "caxis": {
            "gridcolor": "white",
            "linecolor": "white",
            "ticks": ""
           }
          },
          "title": {
           "x": 0.05
          },
          "xaxis": {
           "automargin": true,
           "gridcolor": "white",
           "linecolor": "white",
           "ticks": "",
           "title": {
            "standoff": 15
           },
           "zerolinecolor": "white",
           "zerolinewidth": 2
          },
          "yaxis": {
           "automargin": true,
           "gridcolor": "white",
           "linecolor": "white",
           "ticks": "",
           "title": {
            "standoff": 15
           },
           "zerolinecolor": "white",
           "zerolinewidth": 2
          }
         }
        },
        "title": {
         "text": "respondent_2. Динамика утомления"
        },
        "xaxis": {
         "anchor": "y",
         "domain": [
          0,
          1
         ],
         "matches": "x3",
         "showticklabels": false
        },
        "xaxis2": {
         "anchor": "y2",
         "domain": [
          0,
          1
         ],
         "matches": "x3",
         "showticklabels": false,
         "title": {
          "text": "Время"
         }
        },
        "xaxis3": {
         "anchor": "y3",
         "domain": [
          0,
          1
         ]
        },
        "yaxis": {
         "anchor": "x",
         "domain": [
          0.7777777777777778,
          1
         ],
         "title": {
          "text": "Индекс умственного утомления"
         }
        },
        "yaxis2": {
         "anchor": "x2",
         "domain": [
          0.3888888888888889,
          0.6111111111111112
         ],
         "title": {
          "text": "Самооценка работоспособности"
         }
        },
        "yaxis3": {
         "anchor": "x3",
         "domain": [
          0,
          0.22222222222222224
         ]
        }
       }
      }
     },
     "metadata": {},
     "output_type": "display_data"
    },
    {
     "data": {
      "application/vnd.plotly.v1+json": {
       "config": {
        "plotlyServerURL": "https://plot.ly"
       },
       "data": [
        {
         "name": "Скор стресса",
         "type": "scatter",
         "x": [
          "2025-03-11T07:27:25.000000000",
          "2025-03-12T15:46:20.000000000",
          "2025-03-13T09:44:33.000000000",
          "2025-03-17T13:17:20.000000000",
          "2025-03-17T13:23:49.000000000",
          "2025-03-17T21:08:52.000000000",
          "2025-03-19T07:48:21.000000000",
          "2025-03-24T20:28:12.000000000"
         ],
         "xaxis": "x",
         "y": {
          "bdata": "HQkZAwsUHhU=",
          "dtype": "i1"
         },
         "yaxis": "y"
        },
        {
         "marker": {
          "opacity": 0.6
         },
         "mode": "markers",
         "name": "Скор стресса",
         "type": "scatter",
         "x": [
          "2025-03-11T07:27:25.000000000",
          "2025-03-12T15:46:20.000000000",
          "2025-03-13T09:44:33.000000000",
          "2025-03-17T13:17:20.000000000",
          "2025-03-17T13:23:49.000000000",
          "2025-03-17T21:08:52.000000000",
          "2025-03-19T07:48:21.000000000",
          "2025-03-24T20:28:12.000000000"
         ],
         "xaxis": "x",
         "y": {
          "bdata": "HQkZAwsUHhU=",
          "dtype": "i1"
         },
         "yaxis": "y"
        },
        {
         "name": "Уровень стресса",
         "type": "scatter",
         "x": [
          "2025-03-11T07:27:25.000000000",
          "2025-03-12T15:46:20.000000000",
          "2025-03-13T09:44:33.000000000",
          "2025-03-17T13:17:20.000000000",
          "2025-03-17T13:23:49.000000000",
          "2025-03-17T21:08:52.000000000",
          "2025-03-19T07:48:21.000000000",
          "2025-03-24T20:28:12.000000000"
         ],
         "xaxis": "x2",
         "y": {
          "bdata": "BAEDAQIDBAM=",
          "dtype": "i1"
         },
         "yaxis": "y2"
        },
        {
         "marker": {
          "opacity": 0.6
         },
         "mode": "markers",
         "name": "Уровень стресса",
         "type": "scatter",
         "x": [
          "2025-03-11T07:27:25.000000000",
          "2025-03-12T15:46:20.000000000",
          "2025-03-13T09:44:33.000000000",
          "2025-03-17T13:17:20.000000000",
          "2025-03-17T13:23:49.000000000",
          "2025-03-17T21:08:52.000000000",
          "2025-03-19T07:48:21.000000000",
          "2025-03-24T20:28:12.000000000"
         ],
         "xaxis": "x2",
         "y": {
          "bdata": "BAEDAQIDBAM=",
          "dtype": "i1"
         },
         "yaxis": "y2"
        },
        {
         "name": "Уровень стресса",
         "type": "scatter",
         "x": [
          "2025-03-11T07:27:25.000000000",
          "2025-03-12T15:46:20.000000000",
          "2025-03-13T09:44:33.000000000",
          "2025-03-17T13:17:20.000000000",
          "2025-03-17T13:23:49.000000000",
          "2025-03-17T21:08:52.000000000",
          "2025-03-19T07:48:21.000000000",
          "2025-03-24T20:28:12.000000000"
         ],
         "xaxis": "x3",
         "y": {
          "bdata": "AAAAAAAACEAAAAAAAAAYQAAAAAAAAAhAAAAAAAAAIEAAAAAAAAAUQAAAAAAAABhAAAAAAAAAEEAAAAAAAAAQQA==",
          "dtype": "f8"
         },
         "yaxis": "y3"
        },
        {
         "marker": {
          "opacity": 0.6
         },
         "mode": "markers",
         "name": "Уровень стресса",
         "type": "scatter",
         "x": [
          "2025-03-11T07:27:25.000000000",
          "2025-03-12T15:46:20.000000000",
          "2025-03-13T09:44:33.000000000",
          "2025-03-17T13:17:20.000000000",
          "2025-03-17T13:23:49.000000000",
          "2025-03-17T21:08:52.000000000",
          "2025-03-19T07:48:21.000000000",
          "2025-03-24T20:28:12.000000000"
         ],
         "xaxis": "x3",
         "y": {
          "bdata": "AAAAAAAACEAAAAAAAAAYQAAAAAAAAAhAAAAAAAAAIEAAAAAAAAAUQAAAAAAAABhAAAAAAAAAEEAAAAAAAAAQQA==",
          "dtype": "f8"
         },
         "yaxis": "y3"
        }
       ],
       "layout": {
        "annotations": [
         {
          "font": {
           "size": 16
          },
          "showarrow": false,
          "text": "Индекс умственного утомления",
          "x": 0.5,
          "xanchor": "center",
          "xref": "paper",
          "y": 1,
          "yanchor": "bottom",
          "yref": "paper"
         },
         {
          "font": {
           "size": 16
          },
          "showarrow": false,
          "text": "Уровень утомления",
          "x": 0.5,
          "xanchor": "center",
          "xref": "paper",
          "y": 0.6111111111111112,
          "yanchor": "bottom",
          "yref": "paper"
         }
        ],
        "height": 300,
        "showlegend": false,
        "template": {
         "data": {
          "bar": [
           {
            "error_x": {
             "color": "#2a3f5f"
            },
            "error_y": {
             "color": "#2a3f5f"
            },
            "marker": {
             "line": {
              "color": "#E5ECF6",
              "width": 0.5
             },
             "pattern": {
              "fillmode": "overlay",
              "size": 10,
              "solidity": 0.2
             }
            },
            "type": "bar"
           }
          ],
          "barpolar": [
           {
            "marker": {
             "line": {
              "color": "#E5ECF6",
              "width": 0.5
             },
             "pattern": {
              "fillmode": "overlay",
              "size": 10,
              "solidity": 0.2
             }
            },
            "type": "barpolar"
           }
          ],
          "carpet": [
           {
            "aaxis": {
             "endlinecolor": "#2a3f5f",
             "gridcolor": "white",
             "linecolor": "white",
             "minorgridcolor": "white",
             "startlinecolor": "#2a3f5f"
            },
            "baxis": {
             "endlinecolor": "#2a3f5f",
             "gridcolor": "white",
             "linecolor": "white",
             "minorgridcolor": "white",
             "startlinecolor": "#2a3f5f"
            },
            "type": "carpet"
           }
          ],
          "choropleth": [
           {
            "colorbar": {
             "outlinewidth": 0,
             "ticks": ""
            },
            "type": "choropleth"
           }
          ],
          "contour": [
           {
            "colorbar": {
             "outlinewidth": 0,
             "ticks": ""
            },
            "colorscale": [
             [
              0,
              "#0d0887"
             ],
             [
              0.1111111111111111,
              "#46039f"
             ],
             [
              0.2222222222222222,
              "#7201a8"
             ],
             [
              0.3333333333333333,
              "#9c179e"
             ],
             [
              0.4444444444444444,
              "#bd3786"
             ],
             [
              0.5555555555555556,
              "#d8576b"
             ],
             [
              0.6666666666666666,
              "#ed7953"
             ],
             [
              0.7777777777777778,
              "#fb9f3a"
             ],
             [
              0.8888888888888888,
              "#fdca26"
             ],
             [
              1,
              "#f0f921"
             ]
            ],
            "type": "contour"
           }
          ],
          "contourcarpet": [
           {
            "colorbar": {
             "outlinewidth": 0,
             "ticks": ""
            },
            "type": "contourcarpet"
           }
          ],
          "heatmap": [
           {
            "colorbar": {
             "outlinewidth": 0,
             "ticks": ""
            },
            "colorscale": [
             [
              0,
              "#0d0887"
             ],
             [
              0.1111111111111111,
              "#46039f"
             ],
             [
              0.2222222222222222,
              "#7201a8"
             ],
             [
              0.3333333333333333,
              "#9c179e"
             ],
             [
              0.4444444444444444,
              "#bd3786"
             ],
             [
              0.5555555555555556,
              "#d8576b"
             ],
             [
              0.6666666666666666,
              "#ed7953"
             ],
             [
              0.7777777777777778,
              "#fb9f3a"
             ],
             [
              0.8888888888888888,
              "#fdca26"
             ],
             [
              1,
              "#f0f921"
             ]
            ],
            "type": "heatmap"
           }
          ],
          "histogram": [
           {
            "marker": {
             "pattern": {
              "fillmode": "overlay",
              "size": 10,
              "solidity": 0.2
             }
            },
            "type": "histogram"
           }
          ],
          "histogram2d": [
           {
            "colorbar": {
             "outlinewidth": 0,
             "ticks": ""
            },
            "colorscale": [
             [
              0,
              "#0d0887"
             ],
             [
              0.1111111111111111,
              "#46039f"
             ],
             [
              0.2222222222222222,
              "#7201a8"
             ],
             [
              0.3333333333333333,
              "#9c179e"
             ],
             [
              0.4444444444444444,
              "#bd3786"
             ],
             [
              0.5555555555555556,
              "#d8576b"
             ],
             [
              0.6666666666666666,
              "#ed7953"
             ],
             [
              0.7777777777777778,
              "#fb9f3a"
             ],
             [
              0.8888888888888888,
              "#fdca26"
             ],
             [
              1,
              "#f0f921"
             ]
            ],
            "type": "histogram2d"
           }
          ],
          "histogram2dcontour": [
           {
            "colorbar": {
             "outlinewidth": 0,
             "ticks": ""
            },
            "colorscale": [
             [
              0,
              "#0d0887"
             ],
             [
              0.1111111111111111,
              "#46039f"
             ],
             [
              0.2222222222222222,
              "#7201a8"
             ],
             [
              0.3333333333333333,
              "#9c179e"
             ],
             [
              0.4444444444444444,
              "#bd3786"
             ],
             [
              0.5555555555555556,
              "#d8576b"
             ],
             [
              0.6666666666666666,
              "#ed7953"
             ],
             [
              0.7777777777777778,
              "#fb9f3a"
             ],
             [
              0.8888888888888888,
              "#fdca26"
             ],
             [
              1,
              "#f0f921"
             ]
            ],
            "type": "histogram2dcontour"
           }
          ],
          "mesh3d": [
           {
            "colorbar": {
             "outlinewidth": 0,
             "ticks": ""
            },
            "type": "mesh3d"
           }
          ],
          "parcoords": [
           {
            "line": {
             "colorbar": {
              "outlinewidth": 0,
              "ticks": ""
             }
            },
            "type": "parcoords"
           }
          ],
          "pie": [
           {
            "automargin": true,
            "type": "pie"
           }
          ],
          "scatter": [
           {
            "fillpattern": {
             "fillmode": "overlay",
             "size": 10,
             "solidity": 0.2
            },
            "type": "scatter"
           }
          ],
          "scatter3d": [
           {
            "line": {
             "colorbar": {
              "outlinewidth": 0,
              "ticks": ""
             }
            },
            "marker": {
             "colorbar": {
              "outlinewidth": 0,
              "ticks": ""
             }
            },
            "type": "scatter3d"
           }
          ],
          "scattercarpet": [
           {
            "marker": {
             "colorbar": {
              "outlinewidth": 0,
              "ticks": ""
             }
            },
            "type": "scattercarpet"
           }
          ],
          "scattergeo": [
           {
            "marker": {
             "colorbar": {
              "outlinewidth": 0,
              "ticks": ""
             }
            },
            "type": "scattergeo"
           }
          ],
          "scattergl": [
           {
            "marker": {
             "colorbar": {
              "outlinewidth": 0,
              "ticks": ""
             }
            },
            "type": "scattergl"
           }
          ],
          "scattermap": [
           {
            "marker": {
             "colorbar": {
              "outlinewidth": 0,
              "ticks": ""
             }
            },
            "type": "scattermap"
           }
          ],
          "scattermapbox": [
           {
            "marker": {
             "colorbar": {
              "outlinewidth": 0,
              "ticks": ""
             }
            },
            "type": "scattermapbox"
           }
          ],
          "scatterpolar": [
           {
            "marker": {
             "colorbar": {
              "outlinewidth": 0,
              "ticks": ""
             }
            },
            "type": "scatterpolar"
           }
          ],
          "scatterpolargl": [
           {
            "marker": {
             "colorbar": {
              "outlinewidth": 0,
              "ticks": ""
             }
            },
            "type": "scatterpolargl"
           }
          ],
          "scatterternary": [
           {
            "marker": {
             "colorbar": {
              "outlinewidth": 0,
              "ticks": ""
             }
            },
            "type": "scatterternary"
           }
          ],
          "surface": [
           {
            "colorbar": {
             "outlinewidth": 0,
             "ticks": ""
            },
            "colorscale": [
             [
              0,
              "#0d0887"
             ],
             [
              0.1111111111111111,
              "#46039f"
             ],
             [
              0.2222222222222222,
              "#7201a8"
             ],
             [
              0.3333333333333333,
              "#9c179e"
             ],
             [
              0.4444444444444444,
              "#bd3786"
             ],
             [
              0.5555555555555556,
              "#d8576b"
             ],
             [
              0.6666666666666666,
              "#ed7953"
             ],
             [
              0.7777777777777778,
              "#fb9f3a"
             ],
             [
              0.8888888888888888,
              "#fdca26"
             ],
             [
              1,
              "#f0f921"
             ]
            ],
            "type": "surface"
           }
          ],
          "table": [
           {
            "cells": {
             "fill": {
              "color": "#EBF0F8"
             },
             "line": {
              "color": "white"
             }
            },
            "header": {
             "fill": {
              "color": "#C8D4E3"
             },
             "line": {
              "color": "white"
             }
            },
            "type": "table"
           }
          ]
         },
         "layout": {
          "annotationdefaults": {
           "arrowcolor": "#2a3f5f",
           "arrowhead": 0,
           "arrowwidth": 1
          },
          "autotypenumbers": "strict",
          "coloraxis": {
           "colorbar": {
            "outlinewidth": 0,
            "ticks": ""
           }
          },
          "colorscale": {
           "diverging": [
            [
             0,
             "#8e0152"
            ],
            [
             0.1,
             "#c51b7d"
            ],
            [
             0.2,
             "#de77ae"
            ],
            [
             0.3,
             "#f1b6da"
            ],
            [
             0.4,
             "#fde0ef"
            ],
            [
             0.5,
             "#f7f7f7"
            ],
            [
             0.6,
             "#e6f5d0"
            ],
            [
             0.7,
             "#b8e186"
            ],
            [
             0.8,
             "#7fbc41"
            ],
            [
             0.9,
             "#4d9221"
            ],
            [
             1,
             "#276419"
            ]
           ],
           "sequential": [
            [
             0,
             "#0d0887"
            ],
            [
             0.1111111111111111,
             "#46039f"
            ],
            [
             0.2222222222222222,
             "#7201a8"
            ],
            [
             0.3333333333333333,
             "#9c179e"
            ],
            [
             0.4444444444444444,
             "#bd3786"
            ],
            [
             0.5555555555555556,
             "#d8576b"
            ],
            [
             0.6666666666666666,
             "#ed7953"
            ],
            [
             0.7777777777777778,
             "#fb9f3a"
            ],
            [
             0.8888888888888888,
             "#fdca26"
            ],
            [
             1,
             "#f0f921"
            ]
           ],
           "sequentialminus": [
            [
             0,
             "#0d0887"
            ],
            [
             0.1111111111111111,
             "#46039f"
            ],
            [
             0.2222222222222222,
             "#7201a8"
            ],
            [
             0.3333333333333333,
             "#9c179e"
            ],
            [
             0.4444444444444444,
             "#bd3786"
            ],
            [
             0.5555555555555556,
             "#d8576b"
            ],
            [
             0.6666666666666666,
             "#ed7953"
            ],
            [
             0.7777777777777778,
             "#fb9f3a"
            ],
            [
             0.8888888888888888,
             "#fdca26"
            ],
            [
             1,
             "#f0f921"
            ]
           ]
          },
          "colorway": [
           "#636efa",
           "#EF553B",
           "#00cc96",
           "#ab63fa",
           "#FFA15A",
           "#19d3f3",
           "#FF6692",
           "#B6E880",
           "#FF97FF",
           "#FECB52"
          ],
          "font": {
           "color": "#2a3f5f"
          },
          "geo": {
           "bgcolor": "white",
           "lakecolor": "white",
           "landcolor": "#E5ECF6",
           "showlakes": true,
           "showland": true,
           "subunitcolor": "white"
          },
          "hoverlabel": {
           "align": "left"
          },
          "hovermode": "closest",
          "mapbox": {
           "style": "light"
          },
          "paper_bgcolor": "white",
          "plot_bgcolor": "#E5ECF6",
          "polar": {
           "angularaxis": {
            "gridcolor": "white",
            "linecolor": "white",
            "ticks": ""
           },
           "bgcolor": "#E5ECF6",
           "radialaxis": {
            "gridcolor": "white",
            "linecolor": "white",
            "ticks": ""
           }
          },
          "scene": {
           "xaxis": {
            "backgroundcolor": "#E5ECF6",
            "gridcolor": "white",
            "gridwidth": 2,
            "linecolor": "white",
            "showbackground": true,
            "ticks": "",
            "zerolinecolor": "white"
           },
           "yaxis": {
            "backgroundcolor": "#E5ECF6",
            "gridcolor": "white",
            "gridwidth": 2,
            "linecolor": "white",
            "showbackground": true,
            "ticks": "",
            "zerolinecolor": "white"
           },
           "zaxis": {
            "backgroundcolor": "#E5ECF6",
            "gridcolor": "white",
            "gridwidth": 2,
            "linecolor": "white",
            "showbackground": true,
            "ticks": "",
            "zerolinecolor": "white"
           }
          },
          "shapedefaults": {
           "line": {
            "color": "#2a3f5f"
           }
          },
          "ternary": {
           "aaxis": {
            "gridcolor": "white",
            "linecolor": "white",
            "ticks": ""
           },
           "baxis": {
            "gridcolor": "white",
            "linecolor": "white",
            "ticks": ""
           },
           "bgcolor": "#E5ECF6",
           "caxis": {
            "gridcolor": "white",
            "linecolor": "white",
            "ticks": ""
           }
          },
          "title": {
           "x": 0.05
          },
          "xaxis": {
           "automargin": true,
           "gridcolor": "white",
           "linecolor": "white",
           "ticks": "",
           "title": {
            "standoff": 15
           },
           "zerolinecolor": "white",
           "zerolinewidth": 2
          },
          "yaxis": {
           "automargin": true,
           "gridcolor": "white",
           "linecolor": "white",
           "ticks": "",
           "title": {
            "standoff": 15
           },
           "zerolinecolor": "white",
           "zerolinewidth": 2
          }
         }
        },
        "title": {
         "text": "respondent_3. Динамика утомления"
        },
        "xaxis": {
         "anchor": "y",
         "domain": [
          0,
          1
         ],
         "matches": "x3",
         "showticklabels": false
        },
        "xaxis2": {
         "anchor": "y2",
         "domain": [
          0,
          1
         ],
         "matches": "x3",
         "showticklabels": false,
         "title": {
          "text": "Время"
         }
        },
        "xaxis3": {
         "anchor": "y3",
         "domain": [
          0,
          1
         ]
        },
        "yaxis": {
         "anchor": "x",
         "domain": [
          0.7777777777777778,
          1
         ],
         "title": {
          "text": "Индекс умственного утомления"
         }
        },
        "yaxis2": {
         "anchor": "x2",
         "domain": [
          0.3888888888888889,
          0.6111111111111112
         ],
         "title": {
          "text": "Самооценка работоспособности"
         }
        },
        "yaxis3": {
         "anchor": "x3",
         "domain": [
          0,
          0.22222222222222224
         ]
        }
       }
      }
     },
     "metadata": {},
     "output_type": "display_data"
    },
    {
     "data": {
      "application/vnd.plotly.v1+json": {
       "config": {
        "plotlyServerURL": "https://plot.ly"
       },
       "data": [
        {
         "name": "Скор стресса",
         "type": "scatter",
         "x": [
          "2025-02-21T00:01:35.000000000",
          "2025-02-22T09:32:19.000000000",
          "2025-02-23T01:11:41.000000000",
          "2025-02-23T10:27:07.000000000",
          "2025-02-23T23:00:47.000000000",
          "2025-02-24T10:30:34.000000000",
          "2025-02-25T00:41:09.000000000",
          "2025-02-25T10:30:51.000000000",
          "2025-02-25T22:18:41.000000000",
          "2025-02-26T12:05:35.000000000",
          "2025-02-26T22:16:33.000000000",
          "2025-02-27T08:25:25.000000000",
          "2025-03-03T10:20:24.000000000",
          "2025-03-08T09:46:41.000000000",
          "2025-03-08T22:45:03.000000000",
          "2025-03-09T13:15:30.000000000",
          "2025-03-09T23:02:26.000000000",
          "2025-03-10T10:10:48.000000000",
          "2025-03-10T12:22:53.000000000",
          "2025-03-10T15:47:07.000000000",
          "2025-03-10T22:37:35.000000000",
          "2025-03-11T10:14:17.000000000",
          "2025-03-11T12:17:35.000000000",
          "2025-03-11T14:18:40.000000000",
          "2025-03-11T23:49:20.000000000",
          "2025-03-12T10:12:40.000000000",
          "2025-03-12T23:28:22.000000000",
          "2025-03-13T09:59:37.000000000",
          "2025-03-13T15:01:10.000000000",
          "2025-03-13T18:34:42.000000000",
          "2025-03-14T00:10:40.000000000",
          "2025-03-14T10:12:54.000000000",
          "2025-03-14T13:30:29.000000000",
          "2025-03-14T22:27:42.000000000",
          "2025-03-15T16:05:27.000000000",
          "2025-03-16T00:58:47.000000000"
         ],
         "xaxis": "x",
         "y": {
          "bdata": "FQITAhUNHgohAxgDAwMeDRwBAQIYAgEHGQQcAQMFEwMEHwQM",
          "dtype": "i1"
         },
         "yaxis": "y"
        },
        {
         "marker": {
          "opacity": 0.6
         },
         "mode": "markers",
         "name": "Скор стресса",
         "type": "scatter",
         "x": [
          "2025-02-21T00:01:35.000000000",
          "2025-02-22T09:32:19.000000000",
          "2025-02-23T01:11:41.000000000",
          "2025-02-23T10:27:07.000000000",
          "2025-02-23T23:00:47.000000000",
          "2025-02-24T10:30:34.000000000",
          "2025-02-25T00:41:09.000000000",
          "2025-02-25T10:30:51.000000000",
          "2025-02-25T22:18:41.000000000",
          "2025-02-26T12:05:35.000000000",
          "2025-02-26T22:16:33.000000000",
          "2025-02-27T08:25:25.000000000",
          "2025-03-03T10:20:24.000000000",
          "2025-03-08T09:46:41.000000000",
          "2025-03-08T22:45:03.000000000",
          "2025-03-09T13:15:30.000000000",
          "2025-03-09T23:02:26.000000000",
          "2025-03-10T10:10:48.000000000",
          "2025-03-10T12:22:53.000000000",
          "2025-03-10T15:47:07.000000000",
          "2025-03-10T22:37:35.000000000",
          "2025-03-11T10:14:17.000000000",
          "2025-03-11T12:17:35.000000000",
          "2025-03-11T14:18:40.000000000",
          "2025-03-11T23:49:20.000000000",
          "2025-03-12T10:12:40.000000000",
          "2025-03-12T23:28:22.000000000",
          "2025-03-13T09:59:37.000000000",
          "2025-03-13T15:01:10.000000000",
          "2025-03-13T18:34:42.000000000",
          "2025-03-14T00:10:40.000000000",
          "2025-03-14T10:12:54.000000000",
          "2025-03-14T13:30:29.000000000",
          "2025-03-14T22:27:42.000000000",
          "2025-03-15T16:05:27.000000000",
          "2025-03-16T00:58:47.000000000"
         ],
         "xaxis": "x",
         "y": {
          "bdata": "FQITAhUNHgohAxgDAwMeDRwBAQIYAgEHGQQcAQMFEwMEHwQM",
          "dtype": "i1"
         },
         "yaxis": "y"
        },
        {
         "name": "Уровень стресса",
         "type": "scatter",
         "x": [
          "2025-02-21T00:01:35.000000000",
          "2025-02-22T09:32:19.000000000",
          "2025-02-23T01:11:41.000000000",
          "2025-02-23T10:27:07.000000000",
          "2025-02-23T23:00:47.000000000",
          "2025-02-24T10:30:34.000000000",
          "2025-02-25T00:41:09.000000000",
          "2025-02-25T10:30:51.000000000",
          "2025-02-25T22:18:41.000000000",
          "2025-02-26T12:05:35.000000000",
          "2025-02-26T22:16:33.000000000",
          "2025-02-27T08:25:25.000000000",
          "2025-03-03T10:20:24.000000000",
          "2025-03-08T09:46:41.000000000",
          "2025-03-08T22:45:03.000000000",
          "2025-03-09T13:15:30.000000000",
          "2025-03-09T23:02:26.000000000",
          "2025-03-10T10:10:48.000000000",
          "2025-03-10T12:22:53.000000000",
          "2025-03-10T15:47:07.000000000",
          "2025-03-10T22:37:35.000000000",
          "2025-03-11T10:14:17.000000000",
          "2025-03-11T12:17:35.000000000",
          "2025-03-11T14:18:40.000000000",
          "2025-03-11T23:49:20.000000000",
          "2025-03-12T10:12:40.000000000",
          "2025-03-12T23:28:22.000000000",
          "2025-03-13T09:59:37.000000000",
          "2025-03-13T15:01:10.000000000",
          "2025-03-13T18:34:42.000000000",
          "2025-03-14T00:10:40.000000000",
          "2025-03-14T10:12:54.000000000",
          "2025-03-14T13:30:29.000000000",
          "2025-03-14T22:27:42.000000000",
          "2025-03-15T16:05:27.000000000",
          "2025-03-16T00:58:47.000000000"
         ],
         "xaxis": "x2",
         "y": {
          "bdata": "AwEDAQMCBAIEAQMBAQEEAgQBAQEDAQEBAwEEAQEBAwEBBAEC",
          "dtype": "i1"
         },
         "yaxis": "y2"
        },
        {
         "marker": {
          "opacity": 0.6
         },
         "mode": "markers",
         "name": "Уровень стресса",
         "type": "scatter",
         "x": [
          "2025-02-21T00:01:35.000000000",
          "2025-02-22T09:32:19.000000000",
          "2025-02-23T01:11:41.000000000",
          "2025-02-23T10:27:07.000000000",
          "2025-02-23T23:00:47.000000000",
          "2025-02-24T10:30:34.000000000",
          "2025-02-25T00:41:09.000000000",
          "2025-02-25T10:30:51.000000000",
          "2025-02-25T22:18:41.000000000",
          "2025-02-26T12:05:35.000000000",
          "2025-02-26T22:16:33.000000000",
          "2025-02-27T08:25:25.000000000",
          "2025-03-03T10:20:24.000000000",
          "2025-03-08T09:46:41.000000000",
          "2025-03-08T22:45:03.000000000",
          "2025-03-09T13:15:30.000000000",
          "2025-03-09T23:02:26.000000000",
          "2025-03-10T10:10:48.000000000",
          "2025-03-10T12:22:53.000000000",
          "2025-03-10T15:47:07.000000000",
          "2025-03-10T22:37:35.000000000",
          "2025-03-11T10:14:17.000000000",
          "2025-03-11T12:17:35.000000000",
          "2025-03-11T14:18:40.000000000",
          "2025-03-11T23:49:20.000000000",
          "2025-03-12T10:12:40.000000000",
          "2025-03-12T23:28:22.000000000",
          "2025-03-13T09:59:37.000000000",
          "2025-03-13T15:01:10.000000000",
          "2025-03-13T18:34:42.000000000",
          "2025-03-14T00:10:40.000000000",
          "2025-03-14T10:12:54.000000000",
          "2025-03-14T13:30:29.000000000",
          "2025-03-14T22:27:42.000000000",
          "2025-03-15T16:05:27.000000000",
          "2025-03-16T00:58:47.000000000"
         ],
         "xaxis": "x2",
         "y": {
          "bdata": "AwEDAQMCBAIEAQMBAQEEAgQBAQEDAQEBAwEEAQEBAwEBBAEC",
          "dtype": "i1"
         },
         "yaxis": "y2"
        },
        {
         "name": "Уровень стресса",
         "type": "scatter",
         "x": [
          "2025-02-21T00:01:35.000000000",
          "2025-02-22T09:32:19.000000000",
          "2025-02-23T01:11:41.000000000",
          "2025-02-23T10:27:07.000000000",
          "2025-02-23T23:00:47.000000000",
          "2025-02-24T10:30:34.000000000",
          "2025-02-25T00:41:09.000000000",
          "2025-02-25T10:30:51.000000000",
          "2025-02-25T22:18:41.000000000",
          "2025-02-26T12:05:35.000000000",
          "2025-02-26T22:16:33.000000000",
          "2025-02-27T08:25:25.000000000",
          "2025-03-03T10:20:24.000000000",
          "2025-03-08T09:46:41.000000000",
          "2025-03-08T22:45:03.000000000",
          "2025-03-09T13:15:30.000000000",
          "2025-03-09T23:02:26.000000000",
          "2025-03-10T10:10:48.000000000",
          "2025-03-10T12:22:53.000000000",
          "2025-03-10T15:47:07.000000000",
          "2025-03-10T22:37:35.000000000",
          "2025-03-11T10:14:17.000000000",
          "2025-03-11T12:17:35.000000000",
          "2025-03-11T14:18:40.000000000",
          "2025-03-11T23:49:20.000000000",
          "2025-03-12T10:12:40.000000000",
          "2025-03-12T23:28:22.000000000",
          "2025-03-13T09:59:37.000000000",
          "2025-03-13T15:01:10.000000000",
          "2025-03-13T18:34:42.000000000",
          "2025-03-14T00:10:40.000000000",
          "2025-03-14T10:12:54.000000000",
          "2025-03-14T13:30:29.000000000",
          "2025-03-14T22:27:42.000000000",
          "2025-03-15T16:05:27.000000000",
          "2025-03-16T00:58:47.000000000"
         ],
         "xaxis": "x3",
         "y": {
          "bdata": "AAAAAAAA+H8AAAAAAAD4fwAAAAAAAPh/AAAAAAAA+H8AAAAAAAD4fwAAAAAAAPh/AAAAAAAAAEAAAAAAAAAcQAAAAAAAAABAAAAAAAAAHEAAAAAAAAAQQAAAAAAAACBAAAAAAAAAIEAAAAAAAAAcQAAAAAAAAABAAAAAAAAAFEAAAAAAAADwPwAAAAAAACJAAAAAAAAAIEAAAAAAAAAcQAAAAAAAABBAAAAAAAAAHEAAAAAAAAAcQAAAAAAAABhAAAAAAAAACEAAAAAAAAAcQAAAAAAAAPA/AAAAAAAAIEAAAAAAAAAcQAAAAAAAABRAAAAAAAAAFEAAAAAAAAAcQAAAAAAAABhAAAAAAAAA8D8AAAAAAAAYQAAAAAAAABRA",
          "dtype": "f8"
         },
         "yaxis": "y3"
        },
        {
         "marker": {
          "opacity": 0.6
         },
         "mode": "markers",
         "name": "Уровень стресса",
         "type": "scatter",
         "x": [
          "2025-02-21T00:01:35.000000000",
          "2025-02-22T09:32:19.000000000",
          "2025-02-23T01:11:41.000000000",
          "2025-02-23T10:27:07.000000000",
          "2025-02-23T23:00:47.000000000",
          "2025-02-24T10:30:34.000000000",
          "2025-02-25T00:41:09.000000000",
          "2025-02-25T10:30:51.000000000",
          "2025-02-25T22:18:41.000000000",
          "2025-02-26T12:05:35.000000000",
          "2025-02-26T22:16:33.000000000",
          "2025-02-27T08:25:25.000000000",
          "2025-03-03T10:20:24.000000000",
          "2025-03-08T09:46:41.000000000",
          "2025-03-08T22:45:03.000000000",
          "2025-03-09T13:15:30.000000000",
          "2025-03-09T23:02:26.000000000",
          "2025-03-10T10:10:48.000000000",
          "2025-03-10T12:22:53.000000000",
          "2025-03-10T15:47:07.000000000",
          "2025-03-10T22:37:35.000000000",
          "2025-03-11T10:14:17.000000000",
          "2025-03-11T12:17:35.000000000",
          "2025-03-11T14:18:40.000000000",
          "2025-03-11T23:49:20.000000000",
          "2025-03-12T10:12:40.000000000",
          "2025-03-12T23:28:22.000000000",
          "2025-03-13T09:59:37.000000000",
          "2025-03-13T15:01:10.000000000",
          "2025-03-13T18:34:42.000000000",
          "2025-03-14T00:10:40.000000000",
          "2025-03-14T10:12:54.000000000",
          "2025-03-14T13:30:29.000000000",
          "2025-03-14T22:27:42.000000000",
          "2025-03-15T16:05:27.000000000",
          "2025-03-16T00:58:47.000000000"
         ],
         "xaxis": "x3",
         "y": {
          "bdata": "AAAAAAAA+H8AAAAAAAD4fwAAAAAAAPh/AAAAAAAA+H8AAAAAAAD4fwAAAAAAAPh/AAAAAAAAAEAAAAAAAAAcQAAAAAAAAABAAAAAAAAAHEAAAAAAAAAQQAAAAAAAACBAAAAAAAAAIEAAAAAAAAAcQAAAAAAAAABAAAAAAAAAFEAAAAAAAADwPwAAAAAAACJAAAAAAAAAIEAAAAAAAAAcQAAAAAAAABBAAAAAAAAAHEAAAAAAAAAcQAAAAAAAABhAAAAAAAAACEAAAAAAAAAcQAAAAAAAAPA/AAAAAAAAIEAAAAAAAAAcQAAAAAAAABRAAAAAAAAAFEAAAAAAAAAcQAAAAAAAABhAAAAAAAAA8D8AAAAAAAAYQAAAAAAAABRA",
          "dtype": "f8"
         },
         "yaxis": "y3"
        }
       ],
       "layout": {
        "annotations": [
         {
          "font": {
           "size": 16
          },
          "showarrow": false,
          "text": "Индекс умственного утомления",
          "x": 0.5,
          "xanchor": "center",
          "xref": "paper",
          "y": 1,
          "yanchor": "bottom",
          "yref": "paper"
         },
         {
          "font": {
           "size": 16
          },
          "showarrow": false,
          "text": "Уровень утомления",
          "x": 0.5,
          "xanchor": "center",
          "xref": "paper",
          "y": 0.6111111111111112,
          "yanchor": "bottom",
          "yref": "paper"
         }
        ],
        "height": 300,
        "showlegend": false,
        "template": {
         "data": {
          "bar": [
           {
            "error_x": {
             "color": "#2a3f5f"
            },
            "error_y": {
             "color": "#2a3f5f"
            },
            "marker": {
             "line": {
              "color": "#E5ECF6",
              "width": 0.5
             },
             "pattern": {
              "fillmode": "overlay",
              "size": 10,
              "solidity": 0.2
             }
            },
            "type": "bar"
           }
          ],
          "barpolar": [
           {
            "marker": {
             "line": {
              "color": "#E5ECF6",
              "width": 0.5
             },
             "pattern": {
              "fillmode": "overlay",
              "size": 10,
              "solidity": 0.2
             }
            },
            "type": "barpolar"
           }
          ],
          "carpet": [
           {
            "aaxis": {
             "endlinecolor": "#2a3f5f",
             "gridcolor": "white",
             "linecolor": "white",
             "minorgridcolor": "white",
             "startlinecolor": "#2a3f5f"
            },
            "baxis": {
             "endlinecolor": "#2a3f5f",
             "gridcolor": "white",
             "linecolor": "white",
             "minorgridcolor": "white",
             "startlinecolor": "#2a3f5f"
            },
            "type": "carpet"
           }
          ],
          "choropleth": [
           {
            "colorbar": {
             "outlinewidth": 0,
             "ticks": ""
            },
            "type": "choropleth"
           }
          ],
          "contour": [
           {
            "colorbar": {
             "outlinewidth": 0,
             "ticks": ""
            },
            "colorscale": [
             [
              0,
              "#0d0887"
             ],
             [
              0.1111111111111111,
              "#46039f"
             ],
             [
              0.2222222222222222,
              "#7201a8"
             ],
             [
              0.3333333333333333,
              "#9c179e"
             ],
             [
              0.4444444444444444,
              "#bd3786"
             ],
             [
              0.5555555555555556,
              "#d8576b"
             ],
             [
              0.6666666666666666,
              "#ed7953"
             ],
             [
              0.7777777777777778,
              "#fb9f3a"
             ],
             [
              0.8888888888888888,
              "#fdca26"
             ],
             [
              1,
              "#f0f921"
             ]
            ],
            "type": "contour"
           }
          ],
          "contourcarpet": [
           {
            "colorbar": {
             "outlinewidth": 0,
             "ticks": ""
            },
            "type": "contourcarpet"
           }
          ],
          "heatmap": [
           {
            "colorbar": {
             "outlinewidth": 0,
             "ticks": ""
            },
            "colorscale": [
             [
              0,
              "#0d0887"
             ],
             [
              0.1111111111111111,
              "#46039f"
             ],
             [
              0.2222222222222222,
              "#7201a8"
             ],
             [
              0.3333333333333333,
              "#9c179e"
             ],
             [
              0.4444444444444444,
              "#bd3786"
             ],
             [
              0.5555555555555556,
              "#d8576b"
             ],
             [
              0.6666666666666666,
              "#ed7953"
             ],
             [
              0.7777777777777778,
              "#fb9f3a"
             ],
             [
              0.8888888888888888,
              "#fdca26"
             ],
             [
              1,
              "#f0f921"
             ]
            ],
            "type": "heatmap"
           }
          ],
          "histogram": [
           {
            "marker": {
             "pattern": {
              "fillmode": "overlay",
              "size": 10,
              "solidity": 0.2
             }
            },
            "type": "histogram"
           }
          ],
          "histogram2d": [
           {
            "colorbar": {
             "outlinewidth": 0,
             "ticks": ""
            },
            "colorscale": [
             [
              0,
              "#0d0887"
             ],
             [
              0.1111111111111111,
              "#46039f"
             ],
             [
              0.2222222222222222,
              "#7201a8"
             ],
             [
              0.3333333333333333,
              "#9c179e"
             ],
             [
              0.4444444444444444,
              "#bd3786"
             ],
             [
              0.5555555555555556,
              "#d8576b"
             ],
             [
              0.6666666666666666,
              "#ed7953"
             ],
             [
              0.7777777777777778,
              "#fb9f3a"
             ],
             [
              0.8888888888888888,
              "#fdca26"
             ],
             [
              1,
              "#f0f921"
             ]
            ],
            "type": "histogram2d"
           }
          ],
          "histogram2dcontour": [
           {
            "colorbar": {
             "outlinewidth": 0,
             "ticks": ""
            },
            "colorscale": [
             [
              0,
              "#0d0887"
             ],
             [
              0.1111111111111111,
              "#46039f"
             ],
             [
              0.2222222222222222,
              "#7201a8"
             ],
             [
              0.3333333333333333,
              "#9c179e"
             ],
             [
              0.4444444444444444,
              "#bd3786"
             ],
             [
              0.5555555555555556,
              "#d8576b"
             ],
             [
              0.6666666666666666,
              "#ed7953"
             ],
             [
              0.7777777777777778,
              "#fb9f3a"
             ],
             [
              0.8888888888888888,
              "#fdca26"
             ],
             [
              1,
              "#f0f921"
             ]
            ],
            "type": "histogram2dcontour"
           }
          ],
          "mesh3d": [
           {
            "colorbar": {
             "outlinewidth": 0,
             "ticks": ""
            },
            "type": "mesh3d"
           }
          ],
          "parcoords": [
           {
            "line": {
             "colorbar": {
              "outlinewidth": 0,
              "ticks": ""
             }
            },
            "type": "parcoords"
           }
          ],
          "pie": [
           {
            "automargin": true,
            "type": "pie"
           }
          ],
          "scatter": [
           {
            "fillpattern": {
             "fillmode": "overlay",
             "size": 10,
             "solidity": 0.2
            },
            "type": "scatter"
           }
          ],
          "scatter3d": [
           {
            "line": {
             "colorbar": {
              "outlinewidth": 0,
              "ticks": ""
             }
            },
            "marker": {
             "colorbar": {
              "outlinewidth": 0,
              "ticks": ""
             }
            },
            "type": "scatter3d"
           }
          ],
          "scattercarpet": [
           {
            "marker": {
             "colorbar": {
              "outlinewidth": 0,
              "ticks": ""
             }
            },
            "type": "scattercarpet"
           }
          ],
          "scattergeo": [
           {
            "marker": {
             "colorbar": {
              "outlinewidth": 0,
              "ticks": ""
             }
            },
            "type": "scattergeo"
           }
          ],
          "scattergl": [
           {
            "marker": {
             "colorbar": {
              "outlinewidth": 0,
              "ticks": ""
             }
            },
            "type": "scattergl"
           }
          ],
          "scattermap": [
           {
            "marker": {
             "colorbar": {
              "outlinewidth": 0,
              "ticks": ""
             }
            },
            "type": "scattermap"
           }
          ],
          "scattermapbox": [
           {
            "marker": {
             "colorbar": {
              "outlinewidth": 0,
              "ticks": ""
             }
            },
            "type": "scattermapbox"
           }
          ],
          "scatterpolar": [
           {
            "marker": {
             "colorbar": {
              "outlinewidth": 0,
              "ticks": ""
             }
            },
            "type": "scatterpolar"
           }
          ],
          "scatterpolargl": [
           {
            "marker": {
             "colorbar": {
              "outlinewidth": 0,
              "ticks": ""
             }
            },
            "type": "scatterpolargl"
           }
          ],
          "scatterternary": [
           {
            "marker": {
             "colorbar": {
              "outlinewidth": 0,
              "ticks": ""
             }
            },
            "type": "scatterternary"
           }
          ],
          "surface": [
           {
            "colorbar": {
             "outlinewidth": 0,
             "ticks": ""
            },
            "colorscale": [
             [
              0,
              "#0d0887"
             ],
             [
              0.1111111111111111,
              "#46039f"
             ],
             [
              0.2222222222222222,
              "#7201a8"
             ],
             [
              0.3333333333333333,
              "#9c179e"
             ],
             [
              0.4444444444444444,
              "#bd3786"
             ],
             [
              0.5555555555555556,
              "#d8576b"
             ],
             [
              0.6666666666666666,
              "#ed7953"
             ],
             [
              0.7777777777777778,
              "#fb9f3a"
             ],
             [
              0.8888888888888888,
              "#fdca26"
             ],
             [
              1,
              "#f0f921"
             ]
            ],
            "type": "surface"
           }
          ],
          "table": [
           {
            "cells": {
             "fill": {
              "color": "#EBF0F8"
             },
             "line": {
              "color": "white"
             }
            },
            "header": {
             "fill": {
              "color": "#C8D4E3"
             },
             "line": {
              "color": "white"
             }
            },
            "type": "table"
           }
          ]
         },
         "layout": {
          "annotationdefaults": {
           "arrowcolor": "#2a3f5f",
           "arrowhead": 0,
           "arrowwidth": 1
          },
          "autotypenumbers": "strict",
          "coloraxis": {
           "colorbar": {
            "outlinewidth": 0,
            "ticks": ""
           }
          },
          "colorscale": {
           "diverging": [
            [
             0,
             "#8e0152"
            ],
            [
             0.1,
             "#c51b7d"
            ],
            [
             0.2,
             "#de77ae"
            ],
            [
             0.3,
             "#f1b6da"
            ],
            [
             0.4,
             "#fde0ef"
            ],
            [
             0.5,
             "#f7f7f7"
            ],
            [
             0.6,
             "#e6f5d0"
            ],
            [
             0.7,
             "#b8e186"
            ],
            [
             0.8,
             "#7fbc41"
            ],
            [
             0.9,
             "#4d9221"
            ],
            [
             1,
             "#276419"
            ]
           ],
           "sequential": [
            [
             0,
             "#0d0887"
            ],
            [
             0.1111111111111111,
             "#46039f"
            ],
            [
             0.2222222222222222,
             "#7201a8"
            ],
            [
             0.3333333333333333,
             "#9c179e"
            ],
            [
             0.4444444444444444,
             "#bd3786"
            ],
            [
             0.5555555555555556,
             "#d8576b"
            ],
            [
             0.6666666666666666,
             "#ed7953"
            ],
            [
             0.7777777777777778,
             "#fb9f3a"
            ],
            [
             0.8888888888888888,
             "#fdca26"
            ],
            [
             1,
             "#f0f921"
            ]
           ],
           "sequentialminus": [
            [
             0,
             "#0d0887"
            ],
            [
             0.1111111111111111,
             "#46039f"
            ],
            [
             0.2222222222222222,
             "#7201a8"
            ],
            [
             0.3333333333333333,
             "#9c179e"
            ],
            [
             0.4444444444444444,
             "#bd3786"
            ],
            [
             0.5555555555555556,
             "#d8576b"
            ],
            [
             0.6666666666666666,
             "#ed7953"
            ],
            [
             0.7777777777777778,
             "#fb9f3a"
            ],
            [
             0.8888888888888888,
             "#fdca26"
            ],
            [
             1,
             "#f0f921"
            ]
           ]
          },
          "colorway": [
           "#636efa",
           "#EF553B",
           "#00cc96",
           "#ab63fa",
           "#FFA15A",
           "#19d3f3",
           "#FF6692",
           "#B6E880",
           "#FF97FF",
           "#FECB52"
          ],
          "font": {
           "color": "#2a3f5f"
          },
          "geo": {
           "bgcolor": "white",
           "lakecolor": "white",
           "landcolor": "#E5ECF6",
           "showlakes": true,
           "showland": true,
           "subunitcolor": "white"
          },
          "hoverlabel": {
           "align": "left"
          },
          "hovermode": "closest",
          "mapbox": {
           "style": "light"
          },
          "paper_bgcolor": "white",
          "plot_bgcolor": "#E5ECF6",
          "polar": {
           "angularaxis": {
            "gridcolor": "white",
            "linecolor": "white",
            "ticks": ""
           },
           "bgcolor": "#E5ECF6",
           "radialaxis": {
            "gridcolor": "white",
            "linecolor": "white",
            "ticks": ""
           }
          },
          "scene": {
           "xaxis": {
            "backgroundcolor": "#E5ECF6",
            "gridcolor": "white",
            "gridwidth": 2,
            "linecolor": "white",
            "showbackground": true,
            "ticks": "",
            "zerolinecolor": "white"
           },
           "yaxis": {
            "backgroundcolor": "#E5ECF6",
            "gridcolor": "white",
            "gridwidth": 2,
            "linecolor": "white",
            "showbackground": true,
            "ticks": "",
            "zerolinecolor": "white"
           },
           "zaxis": {
            "backgroundcolor": "#E5ECF6",
            "gridcolor": "white",
            "gridwidth": 2,
            "linecolor": "white",
            "showbackground": true,
            "ticks": "",
            "zerolinecolor": "white"
           }
          },
          "shapedefaults": {
           "line": {
            "color": "#2a3f5f"
           }
          },
          "ternary": {
           "aaxis": {
            "gridcolor": "white",
            "linecolor": "white",
            "ticks": ""
           },
           "baxis": {
            "gridcolor": "white",
            "linecolor": "white",
            "ticks": ""
           },
           "bgcolor": "#E5ECF6",
           "caxis": {
            "gridcolor": "white",
            "linecolor": "white",
            "ticks": ""
           }
          },
          "title": {
           "x": 0.05
          },
          "xaxis": {
           "automargin": true,
           "gridcolor": "white",
           "linecolor": "white",
           "ticks": "",
           "title": {
            "standoff": 15
           },
           "zerolinecolor": "white",
           "zerolinewidth": 2
          },
          "yaxis": {
           "automargin": true,
           "gridcolor": "white",
           "linecolor": "white",
           "ticks": "",
           "title": {
            "standoff": 15
           },
           "zerolinecolor": "white",
           "zerolinewidth": 2
          }
         }
        },
        "title": {
         "text": "respondent_4. Динамика утомления"
        },
        "xaxis": {
         "anchor": "y",
         "domain": [
          0,
          1
         ],
         "matches": "x3",
         "showticklabels": false
        },
        "xaxis2": {
         "anchor": "y2",
         "domain": [
          0,
          1
         ],
         "matches": "x3",
         "showticklabels": false,
         "title": {
          "text": "Время"
         }
        },
        "xaxis3": {
         "anchor": "y3",
         "domain": [
          0,
          1
         ]
        },
        "yaxis": {
         "anchor": "x",
         "domain": [
          0.7777777777777778,
          1
         ],
         "title": {
          "text": "Индекс умственного утомления"
         }
        },
        "yaxis2": {
         "anchor": "x2",
         "domain": [
          0.3888888888888889,
          0.6111111111111112
         ],
         "title": {
          "text": "Самооценка работоспособности"
         }
        },
        "yaxis3": {
         "anchor": "x3",
         "domain": [
          0,
          0.22222222222222224
         ]
        }
       }
      }
     },
     "metadata": {},
     "output_type": "display_data"
    }
   ],
   "source": [
    "from plotly.subplots import make_subplots\n",
    "import plotly.graph_objects as go\n",
    "for i, (name, group) in enumerate(fatigue_test_scores.groupby('id')):\n",
    "\n",
    "# Создаем пустой холст с двумя графиками по вертикали\n",
    "    fig = make_subplots(rows=3, cols=1, shared_xaxes=True, \n",
    "                        subplot_titles=(\"Индекс умственного утомления\", \"Уровень утомления\"))\n",
    "\n",
    "    # Первый график — answer\n",
    "    fig.add_trace(\n",
    "        go.Scatter(x=group['datetime'], y=group['score'], name='Скор стресса'),\n",
    "        row=1, col=1\n",
    "    )\n",
    "    fig.add_trace(\n",
    "        go.Scatter(x=group['datetime'], \n",
    "                y=group['score'], \n",
    "                    mode='markers',            \n",
    "                    marker=dict(opacity=0.6),\n",
    "                name='Скор стресса'\n",
    "                ),\n",
    "        row=1, col=1\n",
    "    )\n",
    "\n",
    "    # Второй график — stress_lvl\n",
    "    fig.add_trace(\n",
    "        go.Scatter(x=group['datetime'], y=group['fatigue_lvl'], name='Уровень стресса'),\n",
    "        row=2, col=1\n",
    "    )\n",
    "\n",
    "    fig.add_trace(\n",
    "        go.Scatter(x=group['datetime'], \n",
    "                y=group['fatigue_lvl'], \n",
    "                    mode='markers',            \n",
    "                    marker=dict(opacity=0.6),\n",
    "                name='Уровень стресса'),\n",
    "        row=2, col=1\n",
    "    )\n",
    "    # Второй график — stress_lvl\n",
    "    fig.add_trace(\n",
    "        go.Scatter(x=group['datetime'], y=group['self_score'], name='Уровень стресса'),\n",
    "        row=3, col=1\n",
    "    )\n",
    "\n",
    "    fig.add_trace(\n",
    "        go.Scatter(x=group['datetime'], \n",
    "                y=group['self_score'], \n",
    "                    mode='markers',            \n",
    "                    marker=dict(opacity=0.6),\n",
    "                name='Уровень стресса'),\n",
    "        row=3, col=1\n",
    "    )\n",
    "\n",
    "    # Общий заголовок\n",
    "    fig.update_layout(height=300, title_text=f'{name}. Динамика утомления', showlegend=False)\n",
    "\n",
    "    # Обновляем подписи осей\n",
    "    fig.update_yaxes(title_text=\"Индекс умственного утомления\", row=1, col=1)\n",
    "    fig.update_yaxes(title_text=\"Уровень утомления\", row=2, col=1)\n",
    "    fig.update_yaxes(title_text=\"Самооценка работоспособности\", row=2, col=1)\n",
    "    fig.update_xaxes(title_text=\"Время\", row=2, col=1)\n",
    "\n",
    "    fig.show()\n"
   ]
  },
  {
   "cell_type": "markdown",
   "metadata": {},
   "source": [
    "## Аримфметические задачи"
   ]
  },
  {
   "cell_type": "code",
   "execution_count": 36,
   "metadata": {},
   "outputs": [
    {
     "data": {
      "text/html": [
       "<div>\n",
       "<style scoped>\n",
       "    .dataframe tbody tr th:only-of-type {\n",
       "        vertical-align: middle;\n",
       "    }\n",
       "\n",
       "    .dataframe tbody tr th {\n",
       "        vertical-align: top;\n",
       "    }\n",
       "\n",
       "    .dataframe thead th {\n",
       "        text-align: right;\n",
       "    }\n",
       "</style>\n",
       "<table border=\"1\" class=\"dataframe\">\n",
       "  <thead>\n",
       "    <tr style=\"text-align: right;\">\n",
       "      <th></th>\n",
       "      <th>q_num</th>\n",
       "      <th>startTime</th>\n",
       "      <th>endTime</th>\n",
       "      <th>num1</th>\n",
       "      <th>num2</th>\n",
       "      <th>formattedNum1</th>\n",
       "      <th>formattedNum2</th>\n",
       "      <th>formatType</th>\n",
       "      <th>operation</th>\n",
       "      <th>question</th>\n",
       "      <th>answer</th>\n",
       "      <th>correct</th>\n",
       "      <th>correctFlg</th>\n",
       "      <th>id</th>\n",
       "      <th>datetime</th>\n",
       "      <th>weekday</th>\n",
       "      <th>weekday_num</th>\n",
       "      <th>hour</th>\n",
       "      <th>date</th>\n",
       "      <th>response_time</th>\n",
       "    </tr>\n",
       "  </thead>\n",
       "  <tbody>\n",
       "    <tr>\n",
       "      <th>0</th>\n",
       "      <td>0</td>\n",
       "      <td>1741590576813</td>\n",
       "      <td>1741590580346</td>\n",
       "      <td>6</td>\n",
       "      <td>5</td>\n",
       "      <td>шесть</td>\n",
       "      <td>пять</td>\n",
       "      <td>2</td>\n",
       "      <td>+</td>\n",
       "      <td>(шесть + пять) % 10 = ?</td>\n",
       "      <td>1</td>\n",
       "      <td>1</td>\n",
       "      <td>1</td>\n",
       "      <td>respondent_1</td>\n",
       "      <td>2025-03-10 10:09:26</td>\n",
       "      <td>Monday</td>\n",
       "      <td>0</td>\n",
       "      <td>10</td>\n",
       "      <td>2025-03-10</td>\n",
       "      <td>3.533</td>\n",
       "    </tr>\n",
       "    <tr>\n",
       "      <th>1</th>\n",
       "      <td>1</td>\n",
       "      <td>1741590580346</td>\n",
       "      <td>1741590582990</td>\n",
       "      <td>5</td>\n",
       "      <td>2</td>\n",
       "      <td>5</td>\n",
       "      <td>2</td>\n",
       "      <td>0</td>\n",
       "      <td>-</td>\n",
       "      <td>|5 - 2| = ?</td>\n",
       "      <td>3</td>\n",
       "      <td>3</td>\n",
       "      <td>1</td>\n",
       "      <td>respondent_1</td>\n",
       "      <td>2025-03-10 10:09:26</td>\n",
       "      <td>Monday</td>\n",
       "      <td>0</td>\n",
       "      <td>10</td>\n",
       "      <td>2025-03-10</td>\n",
       "      <td>2.644</td>\n",
       "    </tr>\n",
       "    <tr>\n",
       "      <th>2</th>\n",
       "      <td>2</td>\n",
       "      <td>1741590582990</td>\n",
       "      <td>1741590585852</td>\n",
       "      <td>6</td>\n",
       "      <td>5</td>\n",
       "      <td>6</td>\n",
       "      <td>5</td>\n",
       "      <td>0</td>\n",
       "      <td>-</td>\n",
       "      <td>|6 - 5| = ?</td>\n",
       "      <td>1</td>\n",
       "      <td>1</td>\n",
       "      <td>1</td>\n",
       "      <td>respondent_1</td>\n",
       "      <td>2025-03-10 10:09:26</td>\n",
       "      <td>Monday</td>\n",
       "      <td>0</td>\n",
       "      <td>10</td>\n",
       "      <td>2025-03-10</td>\n",
       "      <td>2.862</td>\n",
       "    </tr>\n",
       "    <tr>\n",
       "      <th>3</th>\n",
       "      <td>3</td>\n",
       "      <td>1741590585852</td>\n",
       "      <td>1741590590315</td>\n",
       "      <td>9</td>\n",
       "      <td>7</td>\n",
       "      <td>9</td>\n",
       "      <td>7</td>\n",
       "      <td>0</td>\n",
       "      <td>+</td>\n",
       "      <td>(9 + 7) % 10 = ?</td>\n",
       "      <td>6</td>\n",
       "      <td>6</td>\n",
       "      <td>1</td>\n",
       "      <td>respondent_1</td>\n",
       "      <td>2025-03-10 10:09:26</td>\n",
       "      <td>Monday</td>\n",
       "      <td>0</td>\n",
       "      <td>10</td>\n",
       "      <td>2025-03-10</td>\n",
       "      <td>4.463</td>\n",
       "    </tr>\n",
       "    <tr>\n",
       "      <th>4</th>\n",
       "      <td>4</td>\n",
       "      <td>1741590590315</td>\n",
       "      <td>1741590594251</td>\n",
       "      <td>4</td>\n",
       "      <td>1</td>\n",
       "      <td>4</td>\n",
       "      <td>1</td>\n",
       "      <td>0</td>\n",
       "      <td>-</td>\n",
       "      <td>|4 - 1| = ?</td>\n",
       "      <td>3</td>\n",
       "      <td>3</td>\n",
       "      <td>1</td>\n",
       "      <td>respondent_1</td>\n",
       "      <td>2025-03-10 10:09:26</td>\n",
       "      <td>Monday</td>\n",
       "      <td>0</td>\n",
       "      <td>10</td>\n",
       "      <td>2025-03-10</td>\n",
       "      <td>3.936</td>\n",
       "    </tr>\n",
       "  </tbody>\n",
       "</table>\n",
       "</div>"
      ],
      "text/plain": [
       "   q_num      startTime        endTime  num1  num2 formattedNum1  \\\n",
       "0      0  1741590576813  1741590580346     6     5         шесть   \n",
       "1      1  1741590580346  1741590582990     5     2             5   \n",
       "2      2  1741590582990  1741590585852     6     5             6   \n",
       "3      3  1741590585852  1741590590315     9     7             9   \n",
       "4      4  1741590590315  1741590594251     4     1             4   \n",
       "\n",
       "  formattedNum2  formatType operation                 question  answer  \\\n",
       "0          пять           2         +  (шесть + пять) % 10 = ?       1   \n",
       "1             2           0         -              |5 - 2| = ?       3   \n",
       "2             5           0         -              |6 - 5| = ?       1   \n",
       "3             7           0         +         (9 + 7) % 10 = ?       6   \n",
       "4             1           0         -              |4 - 1| = ?       3   \n",
       "\n",
       "   correct  correctFlg            id            datetime weekday  weekday_num  \\\n",
       "0        1           1  respondent_1 2025-03-10 10:09:26  Monday            0   \n",
       "1        3           1  respondent_1 2025-03-10 10:09:26  Monday            0   \n",
       "2        1           1  respondent_1 2025-03-10 10:09:26  Monday            0   \n",
       "3        6           1  respondent_1 2025-03-10 10:09:26  Monday            0   \n",
       "4        3           1  respondent_1 2025-03-10 10:09:26  Monday            0   \n",
       "\n",
       "   hour        date  response_time  \n",
       "0    10  2025-03-10          3.533  \n",
       "1    10  2025-03-10          2.644  \n",
       "2    10  2025-03-10          2.862  \n",
       "3    10  2025-03-10          4.463  \n",
       "4    10  2025-03-10          3.936  "
      ]
     },
     "execution_count": 36,
     "metadata": {},
     "output_type": "execute_result"
    }
   ],
   "source": [
    "df = answersLog_df\n",
    "df['response_time'] = (df['endTime'] - df['startTime'])/1000\n",
    "df.head()"
   ]
  },
  {
   "cell_type": "code",
   "execution_count": 37,
   "metadata": {},
   "outputs": [
    {
     "data": {
      "text/html": [
       "<div>\n",
       "<style scoped>\n",
       "    .dataframe tbody tr th:only-of-type {\n",
       "        vertical-align: middle;\n",
       "    }\n",
       "\n",
       "    .dataframe tbody tr th {\n",
       "        vertical-align: top;\n",
       "    }\n",
       "\n",
       "    .dataframe thead th {\n",
       "        text-align: right;\n",
       "    }\n",
       "</style>\n",
       "<table border=\"1\" class=\"dataframe\">\n",
       "  <thead>\n",
       "    <tr style=\"text-align: right;\">\n",
       "      <th></th>\n",
       "      <th></th>\n",
       "      <th></th>\n",
       "      <th>datetime</th>\n",
       "      <th>weekday_num</th>\n",
       "      <th>hour</th>\n",
       "      <th>score</th>\n",
       "      <th>activity_type</th>\n",
       "      <th>cog_load_flg</th>\n",
       "      <th>self_score</th>\n",
       "      <th>fatigue_lvl</th>\n",
       "      <th>response_time_mean</th>\n",
       "      <th>response_time_std</th>\n",
       "      <th>response_time_median</th>\n",
       "      <th>response_time_max</th>\n",
       "      <th>response_time_min</th>\n",
       "      <th>correctFlg_mean</th>\n",
       "    </tr>\n",
       "    <tr>\n",
       "      <th>id</th>\n",
       "      <th>date</th>\n",
       "      <th>weekday</th>\n",
       "      <th></th>\n",
       "      <th></th>\n",
       "      <th></th>\n",
       "      <th></th>\n",
       "      <th></th>\n",
       "      <th></th>\n",
       "      <th></th>\n",
       "      <th></th>\n",
       "      <th></th>\n",
       "      <th></th>\n",
       "      <th></th>\n",
       "      <th></th>\n",
       "      <th></th>\n",
       "      <th></th>\n",
       "    </tr>\n",
       "  </thead>\n",
       "  <tbody>\n",
       "    <tr>\n",
       "      <th rowspan=\"5\" valign=\"top\">respondent_1</th>\n",
       "      <th rowspan=\"4\" valign=\"top\">2025-03-10</th>\n",
       "      <th>Monday</th>\n",
       "      <td>2025-03-10 10:09:26</td>\n",
       "      <td>0</td>\n",
       "      <td>10</td>\n",
       "      <td>15</td>\n",
       "      <td>отдых (не у экрана, сон)</td>\n",
       "      <td>0.0</td>\n",
       "      <td>7.0</td>\n",
       "      <td>2</td>\n",
       "      <td>3.09848</td>\n",
       "      <td>1.193218</td>\n",
       "      <td>2.8975</td>\n",
       "      <td>6.148</td>\n",
       "      <td>1.283</td>\n",
       "      <td>0.94</td>\n",
       "    </tr>\n",
       "    <tr>\n",
       "      <th>Monday</th>\n",
       "      <td>2025-03-10 15:39:44</td>\n",
       "      <td>0</td>\n",
       "      <td>15</td>\n",
       "      <td>9</td>\n",
       "      <td>умственная работа(включая комп игры)/работа с ...</td>\n",
       "      <td>1.0</td>\n",
       "      <td>7.0</td>\n",
       "      <td>1</td>\n",
       "      <td>3.04702</td>\n",
       "      <td>1.411728</td>\n",
       "      <td>2.6210</td>\n",
       "      <td>7.762</td>\n",
       "      <td>0.330</td>\n",
       "      <td>0.96</td>\n",
       "    </tr>\n",
       "    <tr>\n",
       "      <th>Monday</th>\n",
       "      <td>2025-03-10 19:27:25</td>\n",
       "      <td>0</td>\n",
       "      <td>19</td>\n",
       "      <td>25</td>\n",
       "      <td>умственная работа(включая комп игры)/работа с ...</td>\n",
       "      <td>1.0</td>\n",
       "      <td>4.0</td>\n",
       "      <td>3</td>\n",
       "      <td>3.13070</td>\n",
       "      <td>1.548254</td>\n",
       "      <td>2.6245</td>\n",
       "      <td>7.491</td>\n",
       "      <td>1.331</td>\n",
       "      <td>0.92</td>\n",
       "    </tr>\n",
       "    <tr>\n",
       "      <th>Monday</th>\n",
       "      <td>2025-03-10 20:39:20</td>\n",
       "      <td>0</td>\n",
       "      <td>20</td>\n",
       "      <td>30</td>\n",
       "      <td>умственная работа(включая комп игры)/работа с ...</td>\n",
       "      <td>1.0</td>\n",
       "      <td>2.0</td>\n",
       "      <td>4</td>\n",
       "      <td>2.98634</td>\n",
       "      <td>1.550592</td>\n",
       "      <td>2.5440</td>\n",
       "      <td>9.570</td>\n",
       "      <td>0.156</td>\n",
       "      <td>0.94</td>\n",
       "    </tr>\n",
       "    <tr>\n",
       "      <th>2025-03-11</th>\n",
       "      <th>Tuesday</th>\n",
       "      <td>2025-03-11 08:55:58</td>\n",
       "      <td>1</td>\n",
       "      <td>8</td>\n",
       "      <td>6</td>\n",
       "      <td>отдых (не у экрана, сон)</td>\n",
       "      <td>0.0</td>\n",
       "      <td>8.0</td>\n",
       "      <td>1</td>\n",
       "      <td>3.20938</td>\n",
       "      <td>1.450811</td>\n",
       "      <td>3.1585</td>\n",
       "      <td>7.734</td>\n",
       "      <td>1.200</td>\n",
       "      <td>1.00</td>\n",
       "    </tr>\n",
       "  </tbody>\n",
       "</table>\n",
       "</div>"
      ],
      "text/plain": [
       "                                           datetime  weekday_num  hour  score  \\\n",
       "id           date       weekday                                                 \n",
       "respondent_1 2025-03-10 Monday  2025-03-10 10:09:26            0    10     15   \n",
       "                        Monday  2025-03-10 15:39:44            0    15      9   \n",
       "                        Monday  2025-03-10 19:27:25            0    19     25   \n",
       "                        Monday  2025-03-10 20:39:20            0    20     30   \n",
       "             2025-03-11 Tuesday 2025-03-11 08:55:58            1     8      6   \n",
       "\n",
       "                                                                     activity_type  \\\n",
       "id           date       weekday                                                      \n",
       "respondent_1 2025-03-10 Monday                            отдых (не у экрана, сон)   \n",
       "                        Monday   умственная работа(включая комп игры)/работа с ...   \n",
       "                        Monday   умственная работа(включая комп игры)/работа с ...   \n",
       "                        Monday   умственная работа(включая комп игры)/работа с ...   \n",
       "             2025-03-11 Tuesday                           отдых (не у экрана, сон)   \n",
       "\n",
       "                                 cog_load_flg  self_score  fatigue_lvl  \\\n",
       "id           date       weekday                                          \n",
       "respondent_1 2025-03-10 Monday            0.0         7.0            2   \n",
       "                        Monday            1.0         7.0            1   \n",
       "                        Monday            1.0         4.0            3   \n",
       "                        Monday            1.0         2.0            4   \n",
       "             2025-03-11 Tuesday           0.0         8.0            1   \n",
       "\n",
       "                                 response_time_mean  response_time_std  \\\n",
       "id           date       weekday                                          \n",
       "respondent_1 2025-03-10 Monday              3.09848           1.193218   \n",
       "                        Monday              3.04702           1.411728   \n",
       "                        Monday              3.13070           1.548254   \n",
       "                        Monday              2.98634           1.550592   \n",
       "             2025-03-11 Tuesday             3.20938           1.450811   \n",
       "\n",
       "                                 response_time_median  response_time_max  \\\n",
       "id           date       weekday                                            \n",
       "respondent_1 2025-03-10 Monday                 2.8975              6.148   \n",
       "                        Monday                 2.6210              7.762   \n",
       "                        Monday                 2.6245              7.491   \n",
       "                        Monday                 2.5440              9.570   \n",
       "             2025-03-11 Tuesday                3.1585              7.734   \n",
       "\n",
       "                                 response_time_min  correctFlg_mean  \n",
       "id           date       weekday                                      \n",
       "respondent_1 2025-03-10 Monday               1.283             0.94  \n",
       "                        Monday               0.330             0.96  \n",
       "                        Monday               1.331             0.92  \n",
       "                        Monday               0.156             0.94  \n",
       "             2025-03-11 Tuesday              1.200             1.00  "
      ]
     },
     "execution_count": 37,
     "metadata": {},
     "output_type": "execute_result"
    }
   ],
   "source": [
    "meta_df = df.groupby(['id', 'date','weekday',  'datetime', 'hour', 'weekday_num']).agg({\n",
    "    'response_time': ['mean', 'std', 'median', 'max', 'min'],\n",
    "    'correctFlg': 'mean'\n",
    "}).reset_index()\n",
    "meta_df.columns = ['_'.join(col).strip('_') for col in meta_df.columns.values]\n",
    "\n",
    "q_df = pd.merge(fatigue_test_scores, meta_df , on=['id', 'date', 'hour', 'datetime', 'weekday', 'weekday_num'], how='inner')\n",
    "q_df.set_index(['id', 'date', 'weekday']).head()"
   ]
  },
  {
   "cell_type": "markdown",
   "metadata": {},
   "source": [
    "### Корреляции"
   ]
  },
  {
   "cell_type": "code",
   "execution_count": 39,
   "metadata": {},
   "outputs": [
    {
     "data": {
      "application/vnd.plotly.v1+json": {
       "config": {
        "plotlyServerURL": "https://plot.ly"
       },
       "data": [
        {
         "colorbar": {
          "len": 0.3,
          "title": {
           "text": "r"
          }
         },
         "colorscale": [
          [
           0,
           "rgb(103,0,31)"
          ],
          [
           0.1,
           "rgb(178,24,43)"
          ],
          [
           0.2,
           "rgb(214,96,77)"
          ],
          [
           0.3,
           "rgb(244,165,130)"
          ],
          [
           0.4,
           "rgb(253,219,199)"
          ],
          [
           0.5,
           "rgb(247,247,247)"
          ],
          [
           0.6,
           "rgb(209,229,240)"
          ],
          [
           0.7,
           "rgb(146,197,222)"
          ],
          [
           0.8,
           "rgb(67,147,195)"
          ],
          [
           0.9,
           "rgb(33,102,172)"
          ],
          [
           1,
           "rgb(5,48,97)"
          ]
         ],
         "showscale": false,
         "type": "heatmap",
         "x": [
          "weekday_num",
          "hour",
          "score",
          "cog_load_flg",
          "self_score",
          "fatigue_lvl",
          "response_time_mean",
          "response_time_std",
          "response_time_median",
          "response_time_max",
          "response_time_min",
          "correctFlg_mean"
         ],
         "xaxis": "x",
         "y": [
          "fatigue_lvl",
          "score",
          "weekday_num",
          "hour",
          "cog_load_flg"
         ],
         "yaxis": "y",
         "z": {
          "bdata": "VW2SJJwArj8yWIa2HUngP6W7Bh7RIu8/lmQ/U8oksr9YZObJcPDsvwAAAAAAAPh/gzaAOSe9tb+arc9Je0m3P5yxvVkieMi/2uLrpZCfuz9NvDH7o+6rv1lyDQTdTsu/ctgDWI9ou78sODgnYD/gPwAAAAAAAPh/0UQFp3t0o7/S/HMf2nbsv6W7Bh7RIu8/F1ULBHGzl7/rGcDZcQDBP/nCL1vk28C/p+9ti4viwD928B9/xlW/v+tDtaWhf9W/AAAAAAAA+H8xwnIdWpqhv3LYA1iPaLu/zgbJGZoyyb+ihytSACfAv1VtkiScAK4/tkVgY6Pf579QxCHXh2bgv2y/j3wMPea/7WS2uhDb2r9pvaXzC+bYP0jrAp4IH+k/McJyHVqaob8AAAAAAAD4fyw4OCdgP+A/NOHq2l8Q4T9RpcDXMDHlvzJYhrYdSeA/zwOURlGcxb+8gQorzZS7v46tj3R8Rsq/JstKI/+nqr8uxpwFNSLNv3+WWWfzh8i/zgbJGZoyyb804eraXxDhP9FEBad7dKO/AAAAAAAA+H8X4REe4RG+P5ZkP1PKJLK/WlDzLiH0xL+SxXjEefynv7ppacdNfc6/JD2Zekm1tb/CqlC7/9Pfv5tdkSh/Ide/",
          "dtype": "f8",
          "shape": "5, 12"
         },
         "zmid": 0
        },
        {
         "colorbar": {
          "len": 0.3,
          "title": {
           "text": "r"
          }
         },
         "colorscale": [
          [
           0,
           "rgb(103,0,31)"
          ],
          [
           0.1,
           "rgb(178,24,43)"
          ],
          [
           0.2,
           "rgb(214,96,77)"
          ],
          [
           0.3,
           "rgb(244,165,130)"
          ],
          [
           0.4,
           "rgb(253,219,199)"
          ],
          [
           0.5,
           "rgb(247,247,247)"
          ],
          [
           0.6,
           "rgb(209,229,240)"
          ],
          [
           0.7,
           "rgb(146,197,222)"
          ],
          [
           0.8,
           "rgb(67,147,195)"
          ],
          [
           0.9,
           "rgb(33,102,172)"
          ],
          [
           1,
           "rgb(5,48,97)"
          ]
         ],
         "showscale": false,
         "type": "heatmap",
         "x": [
          "weekday_num",
          "hour",
          "score",
          "cog_load_flg",
          "self_score",
          "fatigue_lvl",
          "response_time_mean",
          "response_time_std",
          "response_time_median",
          "response_time_max",
          "response_time_min",
          "correctFlg_mean"
         ],
         "xaxis": "x2",
         "y": [
          "fatigue_lvl",
          "score",
          "weekday_num",
          "hour",
          "cog_load_flg"
         ],
         "yaxis": "y2",
         "z": {
          "bdata": "nzc0yfscoz+gPtjlP6XgP2Bwk7TG9u4/oGQ/U8oksr+KFxcwTVfsvwAAAAAAAPh/79JVmow9v7/ljGK26o3KP4x1ERUK/ri/20Zv0kjetT+MdREVCv6IPxa8lhCdkM2/vsn4QLX/xL9GC/VnY+PgPwAAAAAAAPh/glLpqw4XnL8L3rR4l87rv2Bwk7TG9u4/FC7Bhhqmk7+CUkQjFvzOP0DWKJLlLpg/d2hqYOPZvT/cSAY596uWv6ICpgux49e/AAAAAAAA+H/ftTXyCdSzv77J+EC1/8S/RS21yTJnxb8elg1dtva3v583NMn7HKM/WlMroPXM57++S48ozUfYv4KDhqMY/ue/Z3k39r9m1b9cTsU0laihvzsIHrAb4Og/37U18gnUs78AAAAAAAD4f0YL9Wdj4+A/QlD/AEE64D/NTwWQWVzkv6A+2OU/peA/gizOn18zxL/F2Agp+oq4v8DV9XpIbqq/wNX1ekhuqr8Aq8TIBiWVv7yzMqMT6Mm/RS21yTJnxb9CUP8AQTrgP4JS6asOF5y/AAAAAAAA+H/UXX1mt4fDP6BkP1PKJLK/H2CLZSR8v78up9tU232xv4iMHbs2vca/LqfbVNt9sb+QZIDUP5zev3TVBUJCEta/",
          "dtype": "f8",
          "shape": "5, 12"
         },
         "zmid": 0
        },
        {
         "colorbar": {
          "len": 0.3,
          "title": {
           "text": "r"
          }
         },
         "colorscale": [
          [
           0,
           "rgb(103,0,31)"
          ],
          [
           0.1,
           "rgb(178,24,43)"
          ],
          [
           0.2,
           "rgb(214,96,77)"
          ],
          [
           0.3,
           "rgb(244,165,130)"
          ],
          [
           0.4,
           "rgb(253,219,199)"
          ],
          [
           0.5,
           "rgb(247,247,247)"
          ],
          [
           0.6,
           "rgb(209,229,240)"
          ],
          [
           0.7,
           "rgb(146,197,222)"
          ],
          [
           0.8,
           "rgb(67,147,195)"
          ],
          [
           0.9,
           "rgb(33,102,172)"
          ],
          [
           1,
           "rgb(5,48,97)"
          ]
         ],
         "showscale": false,
         "type": "heatmap",
         "x": [
          "weekday_num",
          "hour",
          "score",
          "cog_load_flg",
          "self_score",
          "fatigue_lvl",
          "response_time_mean",
          "response_time_std",
          "response_time_median",
          "response_time_max",
          "response_time_min",
          "correctFlg_mean"
         ],
         "xaxis": "x3",
         "y": [
          "fatigue_lvl",
          "score",
          "weekday_num",
          "hour",
          "cog_load_flg"
         ],
         "yaxis": "y3",
         "z": {
          "bdata": "cTO5Hm04nz/yfVyg3L3ZP3vM27xc7uw/oYWJShmisL8k7FAMf/fpvwAAAAAAAPh/Tuv6BHVIs7/kjVtkZt/AP07r+gR1SLO/9GB4h6/srD8AAAAAAAAAABE1zGqPxsi/4/Y38x93wL/sFnpjSn3ZPwAAAAAAAPh/15YJHJMPmL8IEoAs+3nnv3vM27xc7uw/AinPLAlvgb9yNgKaGFjAPwIpzywJb4E/Yticnaz4tz/Dh2oOUIKuv2KxqRGTqtK/AAAAAAAA+H9w8pnuthqcv+P2N/Mfd8C/04BjWWARw78oelGCoJmzv3EzuR5tOJ8/PMWL+Yq14r+rWQOvfNjRvzzFi/mKteK/VCAvewIWz78P3zVu0ganv0EliTpaBuY/cPKZ7rYanL8AAAAAAAD4f+wWemNKfdk/MK88UT6z2z9YdPV8sSrfv/J9XKDcvdk/WUg3IJNgvr9XKUTJwVuxv1cpRMnBW7G/VylEycFbob8DPuatogmqv/TLsMsg08O/04BjWWARw78wrzxRPrPbP9eWCRyTD5i/AAAAAAAA+H92mjAf0jrBP6GFiUoZorC/P7Nr155/ur8pxz4oW3Gtv3QBXA1II8O/Kcc+KFtxrb9E7jbDL8PZv6YdC9r1LNS/",
          "dtype": "f8",
          "shape": "5, 12"
         },
         "zmid": 0
        },
        {
         "colorbar": {
          "len": 0.3,
          "title": {
           "text": "r"
          }
         },
         "colorscale": [
          [
           0,
           "rgb(103,0,31)"
          ],
          [
           0.1,
           "rgb(178,24,43)"
          ],
          [
           0.2,
           "rgb(214,96,77)"
          ],
          [
           0.3,
           "rgb(244,165,130)"
          ],
          [
           0.4,
           "rgb(253,219,199)"
          ],
          [
           0.5,
           "rgb(247,247,247)"
          ],
          [
           0.6,
           "rgb(209,229,240)"
          ],
          [
           0.7,
           "rgb(146,197,222)"
          ],
          [
           0.8,
           "rgb(67,147,195)"
          ],
          [
           0.9,
           "rgb(33,102,172)"
          ],
          [
           1,
           "rgb(5,48,97)"
          ]
         ],
         "showscale": false,
         "type": "heatmap",
         "x": [
          "weekday_num",
          "hour",
          "score",
          "cog_load_flg",
          "self_score",
          "fatigue_lvl",
          "response_time_mean",
          "response_time_std",
          "response_time_median",
          "response_time_max",
          "response_time_min",
          "correctFlg_mean"
         ],
         "xaxis": "x4",
         "y": [
          "fatigue_lvl",
          "score",
          "weekday_num",
          "hour",
          "cog_load_flg"
         ],
         "yaxis": "y4",
         "z": {
          "bdata": "Faq4tIe62D/1liAsnNnmP14GvGeZ3es/GzOQRad54j85oCzVRtTmvwAAAAAAAPh/vCu5PF2vyb8FZRBYN5q4vybxPBvrWLy/GV6yPbt8tz/5DGZ0L1WQPxK0c/fiT9G/9W0hz4OZ4T/C7JxqmaXmPwAAAAAAAPh/ZPx135UW4D+QJpzQ9dfpv14GvGeZ3es/sbJ/tpuGxr/9M3ky7smwPxPIAT/Vmce/l42bQwyjxT9yShLMrkLKP9lJ8cMc2MK/AAAAAAAA+H9yUKON2U6qP/VtIc+DmeE/bVQBIGGSkb8Rqz08VEfFvxWquLSHutg/HRnaWyxB1b/YTGcpQ3C8v7q9vQTpl86/t9NpPVq1ub9gH3sTMFyxvy2/P/enwbq/clCjjdlOqj8AAAAAAAD4f8LsnGqZpeY/MFhjeAzZ6j/wUJNHPbPqv/WWICyc2eY/ZYpGsyuOtr8ZByXcLWKaP6JH9swrjr+/4QGbRhkGwD8GC3bKWgfPP03shZjv0aS/bVQBIGGSkb8wWGN4DNnqP2T8dd+VFuA/AAAAAAAA+H+vJEnlzoHjvxszkEWneeI/9jCMnsV/wD/vJVZ//PjQP8yU1X51Rna/hrOBLUsv1z+hE53rJULTP2YHNPVVp7o/",
          "dtype": "f8",
          "shape": "5, 12"
         },
         "zmid": 0
        },
        {
         "colorbar": {
          "len": 0.3,
          "title": {
           "text": "r"
          }
         },
         "colorscale": [
          [
           0,
           "rgb(103,0,31)"
          ],
          [
           0.1,
           "rgb(178,24,43)"
          ],
          [
           0.2,
           "rgb(214,96,77)"
          ],
          [
           0.3,
           "rgb(244,165,130)"
          ],
          [
           0.4,
           "rgb(253,219,199)"
          ],
          [
           0.5,
           "rgb(247,247,247)"
          ],
          [
           0.6,
           "rgb(209,229,240)"
          ],
          [
           0.7,
           "rgb(146,197,222)"
          ],
          [
           0.8,
           "rgb(67,147,195)"
          ],
          [
           0.9,
           "rgb(33,102,172)"
          ],
          [
           1,
           "rgb(5,48,97)"
          ]
         ],
         "showscale": false,
         "type": "heatmap",
         "x": [
          "weekday_num",
          "hour",
          "score",
          "cog_load_flg",
          "self_score",
          "fatigue_lvl",
          "response_time_mean",
          "response_time_std",
          "response_time_median",
          "response_time_max",
          "response_time_min",
          "correctFlg_mean"
         ],
         "xaxis": "x5",
         "y": [
          "fatigue_lvl",
          "score",
          "weekday_num",
          "hour",
          "cog_load_flg"
         ],
         "yaxis": "y5",
         "z": {
          "bdata": "iYiIiIiI2D+5rVlEHEzpP6C/MsfyWeo/HDOQRad54j9ZyINeX2znvwAAAAAAAPh/K7U8QezyxL9V95aaVsKwv1X3lppWwrC/VfeWmlbC0D8VlI8UNwvXP+gjY98bBtC/Fl/I6YNp4z8yjTdIxJjmPwAAAAAAAPh/5dCPrTNx3z8+rK6IhKrov6C/MsfyWeo/u+YYXeHrl78mroIItzi6P0jncF7ID7y/HwQUikQNzz+xIAs1zfjfP7I/szKxGMK/AAAAAAAA+H/ZbfMBdoPAPxZfyOmDaeM/JkTAXDSiqL9Rg6x7DXLLv4mIiIiIiNg/F1I0HJIE1L+MYgsCCpTGvwBz4ueBI8m/hCgd6/inv79V95aaVsKwv9FzG7lA27S/2W3zAXaDwD8AAAAAAAD4fzKNN0jEmOY/g+FIHx7d6T8MhRhPqzjpv7mtWUQcTOk/VTtOW61mor+ZrSoH0BR2P3uQ21pgBcG/6ax8Re/n0D+bO/rboHjUPymU2Dn61tC/JkTAXDSiqL+D4UgfHt3pP+XQj60zcd8/AAAAAAAA+H/3Vl1G63DivxwzkEWneeI/mvpvRGEg0D/t+f1sbSTSP5r6b0RhIKC/Q/q2WGci4T+T+Bm+hSzWP1kfvVsmn7G/",
          "dtype": "f8",
          "shape": "5, 12"
         },
         "zmid": 0
        },
        {
         "colorbar": {
          "len": 0.3,
          "title": {
           "text": "r"
          }
         },
         "colorscale": [
          [
           0,
           "rgb(103,0,31)"
          ],
          [
           0.1,
           "rgb(178,24,43)"
          ],
          [
           0.2,
           "rgb(214,96,77)"
          ],
          [
           0.3,
           "rgb(244,165,130)"
          ],
          [
           0.4,
           "rgb(253,219,199)"
          ],
          [
           0.5,
           "rgb(247,247,247)"
          ],
          [
           0.6,
           "rgb(209,229,240)"
          ],
          [
           0.7,
           "rgb(146,197,222)"
          ],
          [
           0.8,
           "rgb(67,147,195)"
          ],
          [
           0.9,
           "rgb(33,102,172)"
          ],
          [
           1,
           "rgb(5,48,97)"
          ]
         ],
         "showscale": false,
         "type": "heatmap",
         "x": [
          "weekday_num",
          "hour",
          "score",
          "cog_load_flg",
          "self_score",
          "fatigue_lvl",
          "response_time_mean",
          "response_time_std",
          "response_time_median",
          "response_time_max",
          "response_time_min",
          "correctFlg_mean"
         ],
         "xaxis": "x6",
         "y": [
          "fatigue_lvl",
          "score",
          "weekday_num",
          "hour",
          "cog_load_flg"
         ],
         "yaxis": "y6",
         "z": {
          "bdata": "6TzsfIfS1T9ARLHJ7dTlP238bQfNveY/HDOQRad54j9H5NsMhMLkvwAAAAAAAPh/f3fy5Gmqwb9l8oOh3EOsv2Xyg6HcQ6y/ZfKDodxDzD+mtgqvp27TP8KHag5Qgs6/8eOOin/+3D9yHMdxHMfhPwAAAAAAAPh/4im0kYQi2z9+fKyiGnTkv238bQfNveY/DBNyl00WhL+r0IPkg5OxP25VYEoXmba/2/H6vejUwj+koy0EALfUPzWl0xRr4Lu/AAAAAAAA+H+ExUpMHau9P/Hjjop//tw/BObcH13ppb813eAGwpXDv+k87HyH0tU/nryvkiQezr97iIlcBpK3v1lUYyboBcG/YPhqZCFVsr+J0JjYeDCqvxTrFCBHJ7C/hMVKTB2rvT8AAAAAAAD4f3Icx3Ecx+E/YuDJNRJS5j91EwaTxx/lv0BEscnt1OU/blVgSheZtr+SHCtjdCGePzDaPLCqnru/YvuziQ/gzD9i+7OJD+DMPyTjx1rzU8q/BObcH13ppb9i4Mk1ElLmP+IptJGEIts/AAAAAAAA+H9yNgKaGFjgvxwzkEWneeI/ZhvaF7Yyyz/SXtXaDJnOP2Yb2he2Mpu/HL1XeeHl3D/W8mUw3bLSP4xgxuiOxrC/",
          "dtype": "f8",
          "shape": "5, 12"
         },
         "zmid": 0
        },
        {
         "colorbar": {
          "len": 0.3,
          "title": {
           "text": "r"
          }
         },
         "colorscale": [
          [
           0,
           "rgb(103,0,31)"
          ],
          [
           0.1,
           "rgb(178,24,43)"
          ],
          [
           0.2,
           "rgb(214,96,77)"
          ],
          [
           0.3,
           "rgb(244,165,130)"
          ],
          [
           0.4,
           "rgb(253,219,199)"
          ],
          [
           0.5,
           "rgb(247,247,247)"
          ],
          [
           0.6,
           "rgb(209,229,240)"
          ],
          [
           0.7,
           "rgb(146,197,222)"
          ],
          [
           0.8,
           "rgb(67,147,195)"
          ],
          [
           0.9,
           "rgb(33,102,172)"
          ],
          [
           1,
           "rgb(5,48,97)"
          ]
         ],
         "showscale": false,
         "type": "heatmap",
         "x": [
          "weekday_num",
          "hour",
          "score",
          "cog_load_flg",
          "self_score",
          "fatigue_lvl",
          "response_time_mean",
          "response_time_std",
          "response_time_median",
          "response_time_max",
          "response_time_min",
          "correctFlg_mean"
         ],
         "xaxis": "x7",
         "y": [
          "fatigue_lvl",
          "score",
          "weekday_num",
          "hour",
          "cog_load_flg"
         ],
         "yaxis": "y7",
         "z": {
          "bdata": "3h8Hs/LCyT/nLOqigDvWvwOwK4aQC+8/JrvuAl49579YMnLXOFrpvwAAAAAAAPh/K1+l9qyWwb904oM/xy3kv3WMv4LmaOE/R6fHxSVn5L9IGDiaIIPoPx5COXQAhNC/puF/10tj2j9BR+DkmUrZvwAAAAAAAPh/ymYWGoaK6b9tJyvOrYfrvwOwK4aQC+8/ICSgaC1Ql7+ueCurv+Div0NxDiA/V+I/qHlpwk1y5L8cH9Ooic3pP4ut88Ia2di/AAAAAAAA+H9eI1KcoBbjv6bhf9dLY9o/IAqthpUr5r9intdA4gHfv94fB7Pywsk/+1O6gyd+4T8AEm5kWuXEP4oZfK4fBM4/ntGA5GmXjT9LFcXre6PTP0xLG5hy5+G/XiNSnKAW478AAAAAAAD4f0FH4OSZStm/rw8kFUG86j9yc9pTuoDcP+cs6qKAO9a/m4ge+Rob4L/hazKYxLjEv03OzJXFkdW/tcXLYM7zw7/Y4xaqSJTWvyQ+VnUBQ7C/IAqthpUr5r+vDyQVQbzqP8pmFhqGium/AAAAAAAA+H+UIVfpBqjnPya77gJePee/ILOg4Tb/3L/hpE6fsxW7Pz3DlkZLCeK/Gwbi5Qo6xT8Qgo8V2xflv5wjw65sOtE/",
          "dtype": "f8",
          "shape": "5, 12"
         },
         "zmid": 0
        },
        {
         "colorbar": {
          "len": 0.3,
          "title": {
           "text": "r"
          }
         },
         "colorscale": [
          [
           0,
           "rgb(103,0,31)"
          ],
          [
           0.1,
           "rgb(178,24,43)"
          ],
          [
           0.2,
           "rgb(214,96,77)"
          ],
          [
           0.3,
           "rgb(244,165,130)"
          ],
          [
           0.4,
           "rgb(253,219,199)"
          ],
          [
           0.5,
           "rgb(247,247,247)"
          ],
          [
           0.6,
           "rgb(209,229,240)"
          ],
          [
           0.7,
           "rgb(146,197,222)"
          ],
          [
           0.8,
           "rgb(67,147,195)"
          ],
          [
           0.9,
           "rgb(33,102,172)"
          ],
          [
           1,
           "rgb(5,48,97)"
          ]
         ],
         "showscale": false,
         "type": "heatmap",
         "x": [
          "weekday_num",
          "hour",
          "score",
          "cog_load_flg",
          "self_score",
          "fatigue_lvl",
          "response_time_mean",
          "response_time_std",
          "response_time_median",
          "response_time_max",
          "response_time_min",
          "correctFlg_mean"
         ],
         "xaxis": "x8",
         "y": [
          "fatigue_lvl",
          "score",
          "weekday_num",
          "hour",
          "cog_load_flg"
         ],
         "yaxis": "y8",
         "z": {
          "bdata": "j8+EnBNj0T8lm7AhfzTgv6PbpjsC1u4/g2k1yOBS6L+FjMUDRlvovwAAAAAAAPh/UP1S/dn5sr9Q/VL92fniv6adqL2emuA/0IzS3LKI5r/d5orR9OHqP6RBGqRBGtS/iJ6LVms93j/5HDmOl+TivwAAAAAAAPh/oUuE74AL679T9Mni7yfrv6PbpjsC1u4/AAAAAAAAAAA9z/M8z/Pcv57neZ7ned4/YhiGYRiG4b/btm3btm3rP2uxw+ZdrNu/AAAAAAAA+H+nlVl23P3hv4iei1ZrPd4/XqadFHk1578sN0aPVqXgv4/PhJwTY9E/acMDzjvM4j+Cu9eP6j/VP4K714/qP8U/KqHvFTFszT+bs6tRmbPXP2JINdj0Ute/p5VZdtz94b8AAAAAAAD4f/kcOY6X5OK//VnKj21f6z/Bj/W109jiPyWbsCF/NOC/ckiqM1uU4L9KMJ5wLq24v1y8xQx62K6/SjCecC6tqL/RBC3Lav3av4d56yxUm8W/XqadFHk157/9WcqPbV/rP6FLhO+AC+u/AAAAAAAA+H/G8fWng7TpP4NpNcjgUui/lGBPKRo64L94HY0QEtmsP8l5e87vPdm/GtZpjM2ixT/yp3KtXnDnvwT48pPZ780/",
          "dtype": "f8",
          "shape": "5, 12"
         },
         "zmid": 0
        },
        {
         "colorbar": {
          "len": 0.3,
          "title": {
           "text": "r"
          }
         },
         "colorscale": [
          [
           0,
           "rgb(103,0,31)"
          ],
          [
           0.1,
           "rgb(178,24,43)"
          ],
          [
           0.2,
           "rgb(214,96,77)"
          ],
          [
           0.3,
           "rgb(244,165,130)"
          ],
          [
           0.4,
           "rgb(253,219,199)"
          ],
          [
           0.5,
           "rgb(247,247,247)"
          ],
          [
           0.6,
           "rgb(209,229,240)"
          ],
          [
           0.7,
           "rgb(146,197,222)"
          ],
          [
           0.8,
           "rgb(67,147,195)"
          ],
          [
           0.9,
           "rgb(33,102,172)"
          ],
          [
           1,
           "rgb(5,48,97)"
          ]
         ],
         "showscale": false,
         "type": "heatmap",
         "x": [
          "weekday_num",
          "hour",
          "score",
          "cog_load_flg",
          "self_score",
          "fatigue_lvl",
          "response_time_mean",
          "response_time_std",
          "response_time_median",
          "response_time_max",
          "response_time_min",
          "correctFlg_mean"
         ],
         "xaxis": "x9",
         "y": [
          "fatigue_lvl",
          "score",
          "weekday_num",
          "hour",
          "cog_load_flg"
         ],
         "yaxis": "y9",
         "z": {
          "bdata": "OhPuZvoezT8Gm2F06ivav5/6b2mhAO0/4keXSY1l5r983KWLFFrlvwAAAAAAAPh/ph0L2vUspL8XCCnBh2TgvxcIKcGHZOA/zGtqfCbq4r81M+3yY/XnPzm96U1vetO/ANSUovvA1z/4e/z7xnbcvwAAAAAAAPh/nHijF+5r579O+IUB8frmv5/6b2mhAO0/kiRJkiRJsr/btm3btm3bv/7//////98/27Zt27Zt279IkiRJkiTpP8RIzwvSvdu/AAAAAAAA+H+HH9RntGPbvwDUlKL7wNc/G9ZpjM2i5b86nPtWkO7bvzoT7mb6Hs0/43SZ/08I3T8cM5BFp3nSP1XFGy76q78/ciQX0aVkyj8cM5BFp3nSP0La2RR8YtS/hx/UZ7Rj278AAAAAAAD4f/h7/PvGdty/9ee3SkVO6D9SaKaE95zbPwabYXTqK9q/pLynfFC4179Q/VL92fmyvwAAAAAAAAAAUP1S/dn5sr9Q/VL92fnSvwabYXTqK8q/G9ZpjM2i5b/157dKRU7oP5x4oxfua+e/AAAAAAAA+H/LjJB9diLnP+JHl0mNZea/iV33tR0b3L+Vb7+hqPuoP6OBh40z3NW/sZNPeb68wj+qimsDeUzkvypsa+StkMs/",
          "dtype": "f8",
          "shape": "5, 12"
         },
         "zmid": 0
        },
        {
         "colorbar": {
          "len": 0.3,
          "title": {
           "text": "r"
          }
         },
         "colorscale": [
          [
           0,
           "rgb(103,0,31)"
          ],
          [
           0.1,
           "rgb(178,24,43)"
          ],
          [
           0.2,
           "rgb(214,96,77)"
          ],
          [
           0.3,
           "rgb(244,165,130)"
          ],
          [
           0.4,
           "rgb(253,219,199)"
          ],
          [
           0.5,
           "rgb(247,247,247)"
          ],
          [
           0.6,
           "rgb(209,229,240)"
          ],
          [
           0.7,
           "rgb(146,197,222)"
          ],
          [
           0.8,
           "rgb(67,147,195)"
          ],
          [
           0.9,
           "rgb(33,102,172)"
          ],
          [
           1,
           "rgb(5,48,97)"
          ]
         ],
         "showscale": false,
         "type": "heatmap",
         "x": [
          "weekday_num",
          "hour",
          "score",
          "cog_load_flg",
          "self_score",
          "fatigue_lvl",
          "response_time_mean",
          "response_time_std",
          "response_time_median",
          "response_time_max",
          "response_time_min",
          "correctFlg_mean"
         ],
         "xaxis": "x10",
         "y": [
          "fatigue_lvl",
          "score",
          "weekday_num",
          "hour",
          "cog_load_flg"
         ],
         "yaxis": "y10",
         "z": {
          "bdata": "HT+J0BqWwj/XpTtrJtzqP76hzxnOme8/jeuxbVGI4D+NGUlE2r7tvwAAAAAAAPh/qpsimwbNm7+burjtbPDLv4fUU8PCxcc/QuzN+RwG0b+/yNdgSIGsP3NxPsLjd7w/H4A0reQKvT9bYF0jhQ/rPwAAAAAAAPh/ABOgXc1O4T9L45f7wzHuv76hzxnOme8/FKS33eYjpb9ygiSVdc/Kv4aKPUJKNcQ/DBBhgmAi0L84/amP5xOoP8wtxDWhabw/AAAAAAAA+H8d/lbmS6jNPx+ANK3kCr0/5UGFgT8KyL9Zx+hKw2DRvx0/idAalsI/42R9x+lB1j+eE9hHKgDQP6tJ049Bi9o/84/qoiJvxj8c6X+uhmefP1riYcs3ssK/Hf5W5kuozT8AAAAAAAD4f1tgXSOFD+s/d5QwY9VM4z9Lhz+v79Xrv9elO2sm3Oo/eiHTE0DJwr+1QdrL/w/Uv/TFM32CH7Y/ewfUm9XR1r+4SOgTEA+1P/dLKJZmMM0/5UGFgT8KyL93lDBj1UzjPwAToF3NTuE/AAAAAAAA+H+9Yf4bRsDhv43rsW1RiOA/q/iQJPeGzb/oRjJ0r8DUv8pHO4VMvpO/Lvwdk8BI1L+FqyhYN2KiP+ByPqdY19A/",
          "dtype": "f8",
          "shape": "5, 12"
         },
         "zmid": 0
        },
        {
         "colorbar": {
          "len": 0.3,
          "title": {
           "text": "r"
          }
         },
         "colorscale": [
          [
           0,
           "rgb(103,0,31)"
          ],
          [
           0.1,
           "rgb(178,24,43)"
          ],
          [
           0.2,
           "rgb(214,96,77)"
          ],
          [
           0.3,
           "rgb(244,165,130)"
          ],
          [
           0.4,
           "rgb(253,219,199)"
          ],
          [
           0.5,
           "rgb(247,247,247)"
          ],
          [
           0.6,
           "rgb(209,229,240)"
          ],
          [
           0.7,
           "rgb(146,197,222)"
          ],
          [
           0.8,
           "rgb(67,147,195)"
          ],
          [
           0.9,
           "rgb(33,102,172)"
          ],
          [
           1,
           "rgb(5,48,97)"
          ]
         ],
         "showscale": false,
         "type": "heatmap",
         "x": [
          "weekday_num",
          "hour",
          "score",
          "cog_load_flg",
          "self_score",
          "fatigue_lvl",
          "response_time_mean",
          "response_time_std",
          "response_time_median",
          "response_time_max",
          "response_time_min",
          "correctFlg_mean"
         ],
         "xaxis": "x11",
         "y": [
          "fatigue_lvl",
          "score",
          "weekday_num",
          "hour",
          "cog_load_flg"
         ],
         "yaxis": "y11",
         "z": {
          "bdata": "o80dXISmxD89Uym2fQToPyEB3y33dO0/mjsIIBWD3j/nz2fCkKTrvwAAAAAAAPh/lYX7QoyaSz/ExjO9wOzFv+B6WyeKXco/TySuYyjky78l379NeXKZP6noUqW9n8A/0KUUDZSPxz95yuZUpsDnPwAAAAAAAPh/atFD2HFS3T8hAst5B6btvyEB3y33dO0/2XP2ncEdZL9jRofc75vAvwjSlBEVxsc/bgXitSs+x78QW2n5eVKzv/JaResknME/AAAAAAAA+H9/JPRI6cbMP9ClFA2Uj8c/6S5QWN0Exr+qnoxfWkHVv6PNHVyEpsQ/w/b0i9Pc1D8OhVG4HRDDP3rnOzTdCdg/JbMmhIPLqT9YzEOjmv67P8Xy+L2tCba/fyT0SOnGzD8AAAAAAAD4f3nK5lSmwOc/d9OkbAPL4z/OD4L5m13rvz1TKbZ9BOg/eqFO8ABXxL/Kmi0aNS/Wv+faAQw69rI/UfJHI/vN1795ZcneyYeXP+gXPnjMss8/6S5QWN0Exr9306RsA8vjP2rRQ9hxUt0/AAAAAAAA+H/wS/pG0Tjiv5o7CCAVg94/46Vqh66tyr/e7YOIfKHOv1F2I6J7tLi/35s9CImkzb/dP8oIcJ6/v6G+av2eh8Q/",
          "dtype": "f8",
          "shape": "5, 12"
         },
         "zmid": 0
        },
        {
         "colorbar": {
          "len": 0.3,
          "title": {
           "text": "r"
          }
         },
         "colorscale": [
          [
           0,
           "rgb(103,0,31)"
          ],
          [
           0.1,
           "rgb(178,24,43)"
          ],
          [
           0.2,
           "rgb(214,96,77)"
          ],
          [
           0.3,
           "rgb(244,165,130)"
          ],
          [
           0.4,
           "rgb(253,219,199)"
          ],
          [
           0.5,
           "rgb(247,247,247)"
          ],
          [
           0.6,
           "rgb(209,229,240)"
          ],
          [
           0.7,
           "rgb(146,197,222)"
          ],
          [
           0.8,
           "rgb(67,147,195)"
          ],
          [
           0.9,
           "rgb(33,102,172)"
          ],
          [
           1,
           "rgb(5,48,97)"
          ]
         ],
         "showscale": true,
         "type": "heatmap",
         "x": [
          "weekday_num",
          "hour",
          "score",
          "cog_load_flg",
          "self_score",
          "fatigue_lvl",
          "response_time_mean",
          "response_time_std",
          "response_time_median",
          "response_time_max",
          "response_time_min",
          "correctFlg_mean"
         ],
         "xaxis": "x12",
         "y": [
          "fatigue_lvl",
          "score",
          "weekday_num",
          "hour",
          "cog_load_flg"
         ],
         "yaxis": "y12",
         "z": {
          "bdata": "GftaDFyOwD/95m4TW2niPxxHoFHNz+o/2uGp5XGf3D/MR2/7Sj7pvwAAAAAAAPh/0YLbqCv3X79ueL8rhDvAv1r+M8VhPsY/01Z+T0a6xL8doqS+YPl3P1a2vOiwVbw/IZ+1LTpVwD8lDt/OkNrgPwAAAAAAAPh/pjqGjPUC2T8WuF5XuqHqvxxHoFHNz+o/ZRmYdGfIar/X0xbTkOy0v5QmGHd7YcE/KJ502vrNv79BUs1bCkCzvxVIGkPbIbs/AAAAAAAA+H9UIX5KWOPFPyGftS06VcA//E39ktFNw79306oks+jQvxn7WgxcjsA/cnQs0HbDzT8u9GMHwKK5P8aD8IbbZNE/OuaDyMk/oj9benrMFvKwPzOYd5+WGrG/VCF+SljjxT8AAAAAAAD4fyUO386Q2uA/+iFKNlwK4T9exeMbqqLmv/3mbhNbaeI/ginb7Qvavb9rQgkiijTQv2HjW1UhWrI/B4o4KSBr0L8uzqOXA0t7P/V/AObI68k//E39ktFNw7/6IUo2XArhP6Y6hoz1Atk/AAAAAAAA+H/7A/Z7Gu/fv9rhqeVxn9w/P6yBE5ckxr8aGyObYWzJv4AUNuy8hrS/Yr86+W6ayL/Qdgs9VD66v+SqAOskv8I/",
          "dtype": "f8",
          "shape": "5, 12"
         },
         "zmid": 0
        }
       ],
       "layout": {
        "annotations": [
         {
          "font": {
           "size": 16
          },
          "showarrow": false,
          "text": "ID respondent_1 - Pearson",
          "x": 0.13333333333333333,
          "xanchor": "center",
          "xref": "paper",
          "y": 1,
          "yanchor": "bottom",
          "yref": "paper"
         },
         {
          "font": {
           "size": 16
          },
          "showarrow": false,
          "text": "ID respondent_1 - Spearman",
          "x": 0.5,
          "xanchor": "center",
          "xref": "paper",
          "y": 1,
          "yanchor": "bottom",
          "yref": "paper"
         },
         {
          "font": {
           "size": 16
          },
          "showarrow": false,
          "text": "ID respondent_1 - Kendall",
          "x": 0.8666666666666667,
          "xanchor": "center",
          "xref": "paper",
          "y": 1,
          "yanchor": "bottom",
          "yref": "paper"
         },
         {
          "font": {
           "size": 16
          },
          "showarrow": false,
          "text": "ID respondent_2 - Pearson",
          "x": 0.13333333333333333,
          "xanchor": "center",
          "xref": "paper",
          "y": 0.7375,
          "yanchor": "bottom",
          "yref": "paper"
         },
         {
          "font": {
           "size": 16
          },
          "showarrow": false,
          "text": "ID respondent_2 - Spearman",
          "x": 0.5,
          "xanchor": "center",
          "xref": "paper",
          "y": 0.7375,
          "yanchor": "bottom",
          "yref": "paper"
         },
         {
          "font": {
           "size": 16
          },
          "showarrow": false,
          "text": "ID respondent_2 - Kendall",
          "x": 0.8666666666666667,
          "xanchor": "center",
          "xref": "paper",
          "y": 0.7375,
          "yanchor": "bottom",
          "yref": "paper"
         },
         {
          "font": {
           "size": 16
          },
          "showarrow": false,
          "text": "ID respondent_3 - Pearson",
          "x": 0.13333333333333333,
          "xanchor": "center",
          "xref": "paper",
          "y": 0.475,
          "yanchor": "bottom",
          "yref": "paper"
         },
         {
          "font": {
           "size": 16
          },
          "showarrow": false,
          "text": "ID respondent_3 - Spearman",
          "x": 0.5,
          "xanchor": "center",
          "xref": "paper",
          "y": 0.475,
          "yanchor": "bottom",
          "yref": "paper"
         },
         {
          "font": {
           "size": 16
          },
          "showarrow": false,
          "text": "ID respondent_3 - Kendall",
          "x": 0.8666666666666667,
          "xanchor": "center",
          "xref": "paper",
          "y": 0.475,
          "yanchor": "bottom",
          "yref": "paper"
         },
         {
          "font": {
           "size": 16
          },
          "showarrow": false,
          "text": "ID respondent_4 - Pearson",
          "x": 0.13333333333333333,
          "xanchor": "center",
          "xref": "paper",
          "y": 0.2125,
          "yanchor": "bottom",
          "yref": "paper"
         },
         {
          "font": {
           "size": 16
          },
          "showarrow": false,
          "text": "ID respondent_4 - Spearman",
          "x": 0.5,
          "xanchor": "center",
          "xref": "paper",
          "y": 0.2125,
          "yanchor": "bottom",
          "yref": "paper"
         },
         {
          "font": {
           "size": 16
          },
          "showarrow": false,
          "text": "ID respondent_4 - Kendall",
          "x": 0.8666666666666667,
          "xanchor": "center",
          "xref": "paper",
          "y": 0.2125,
          "yanchor": "bottom",
          "yref": "paper"
         }
        ],
        "font": {
         "size": 10
        },
        "height": 1200,
        "margin": {
         "b": 50,
         "l": 50,
         "r": 80,
         "t": 100
        },
        "template": {
         "data": {
          "bar": [
           {
            "error_x": {
             "color": "#2a3f5f"
            },
            "error_y": {
             "color": "#2a3f5f"
            },
            "marker": {
             "line": {
              "color": "#E5ECF6",
              "width": 0.5
             },
             "pattern": {
              "fillmode": "overlay",
              "size": 10,
              "solidity": 0.2
             }
            },
            "type": "bar"
           }
          ],
          "barpolar": [
           {
            "marker": {
             "line": {
              "color": "#E5ECF6",
              "width": 0.5
             },
             "pattern": {
              "fillmode": "overlay",
              "size": 10,
              "solidity": 0.2
             }
            },
            "type": "barpolar"
           }
          ],
          "carpet": [
           {
            "aaxis": {
             "endlinecolor": "#2a3f5f",
             "gridcolor": "white",
             "linecolor": "white",
             "minorgridcolor": "white",
             "startlinecolor": "#2a3f5f"
            },
            "baxis": {
             "endlinecolor": "#2a3f5f",
             "gridcolor": "white",
             "linecolor": "white",
             "minorgridcolor": "white",
             "startlinecolor": "#2a3f5f"
            },
            "type": "carpet"
           }
          ],
          "choropleth": [
           {
            "colorbar": {
             "outlinewidth": 0,
             "ticks": ""
            },
            "type": "choropleth"
           }
          ],
          "contour": [
           {
            "colorbar": {
             "outlinewidth": 0,
             "ticks": ""
            },
            "colorscale": [
             [
              0,
              "#0d0887"
             ],
             [
              0.1111111111111111,
              "#46039f"
             ],
             [
              0.2222222222222222,
              "#7201a8"
             ],
             [
              0.3333333333333333,
              "#9c179e"
             ],
             [
              0.4444444444444444,
              "#bd3786"
             ],
             [
              0.5555555555555556,
              "#d8576b"
             ],
             [
              0.6666666666666666,
              "#ed7953"
             ],
             [
              0.7777777777777778,
              "#fb9f3a"
             ],
             [
              0.8888888888888888,
              "#fdca26"
             ],
             [
              1,
              "#f0f921"
             ]
            ],
            "type": "contour"
           }
          ],
          "contourcarpet": [
           {
            "colorbar": {
             "outlinewidth": 0,
             "ticks": ""
            },
            "type": "contourcarpet"
           }
          ],
          "heatmap": [
           {
            "colorbar": {
             "outlinewidth": 0,
             "ticks": ""
            },
            "colorscale": [
             [
              0,
              "#0d0887"
             ],
             [
              0.1111111111111111,
              "#46039f"
             ],
             [
              0.2222222222222222,
              "#7201a8"
             ],
             [
              0.3333333333333333,
              "#9c179e"
             ],
             [
              0.4444444444444444,
              "#bd3786"
             ],
             [
              0.5555555555555556,
              "#d8576b"
             ],
             [
              0.6666666666666666,
              "#ed7953"
             ],
             [
              0.7777777777777778,
              "#fb9f3a"
             ],
             [
              0.8888888888888888,
              "#fdca26"
             ],
             [
              1,
              "#f0f921"
             ]
            ],
            "type": "heatmap"
           }
          ],
          "histogram": [
           {
            "marker": {
             "pattern": {
              "fillmode": "overlay",
              "size": 10,
              "solidity": 0.2
             }
            },
            "type": "histogram"
           }
          ],
          "histogram2d": [
           {
            "colorbar": {
             "outlinewidth": 0,
             "ticks": ""
            },
            "colorscale": [
             [
              0,
              "#0d0887"
             ],
             [
              0.1111111111111111,
              "#46039f"
             ],
             [
              0.2222222222222222,
              "#7201a8"
             ],
             [
              0.3333333333333333,
              "#9c179e"
             ],
             [
              0.4444444444444444,
              "#bd3786"
             ],
             [
              0.5555555555555556,
              "#d8576b"
             ],
             [
              0.6666666666666666,
              "#ed7953"
             ],
             [
              0.7777777777777778,
              "#fb9f3a"
             ],
             [
              0.8888888888888888,
              "#fdca26"
             ],
             [
              1,
              "#f0f921"
             ]
            ],
            "type": "histogram2d"
           }
          ],
          "histogram2dcontour": [
           {
            "colorbar": {
             "outlinewidth": 0,
             "ticks": ""
            },
            "colorscale": [
             [
              0,
              "#0d0887"
             ],
             [
              0.1111111111111111,
              "#46039f"
             ],
             [
              0.2222222222222222,
              "#7201a8"
             ],
             [
              0.3333333333333333,
              "#9c179e"
             ],
             [
              0.4444444444444444,
              "#bd3786"
             ],
             [
              0.5555555555555556,
              "#d8576b"
             ],
             [
              0.6666666666666666,
              "#ed7953"
             ],
             [
              0.7777777777777778,
              "#fb9f3a"
             ],
             [
              0.8888888888888888,
              "#fdca26"
             ],
             [
              1,
              "#f0f921"
             ]
            ],
            "type": "histogram2dcontour"
           }
          ],
          "mesh3d": [
           {
            "colorbar": {
             "outlinewidth": 0,
             "ticks": ""
            },
            "type": "mesh3d"
           }
          ],
          "parcoords": [
           {
            "line": {
             "colorbar": {
              "outlinewidth": 0,
              "ticks": ""
             }
            },
            "type": "parcoords"
           }
          ],
          "pie": [
           {
            "automargin": true,
            "type": "pie"
           }
          ],
          "scatter": [
           {
            "fillpattern": {
             "fillmode": "overlay",
             "size": 10,
             "solidity": 0.2
            },
            "type": "scatter"
           }
          ],
          "scatter3d": [
           {
            "line": {
             "colorbar": {
              "outlinewidth": 0,
              "ticks": ""
             }
            },
            "marker": {
             "colorbar": {
              "outlinewidth": 0,
              "ticks": ""
             }
            },
            "type": "scatter3d"
           }
          ],
          "scattercarpet": [
           {
            "marker": {
             "colorbar": {
              "outlinewidth": 0,
              "ticks": ""
             }
            },
            "type": "scattercarpet"
           }
          ],
          "scattergeo": [
           {
            "marker": {
             "colorbar": {
              "outlinewidth": 0,
              "ticks": ""
             }
            },
            "type": "scattergeo"
           }
          ],
          "scattergl": [
           {
            "marker": {
             "colorbar": {
              "outlinewidth": 0,
              "ticks": ""
             }
            },
            "type": "scattergl"
           }
          ],
          "scattermap": [
           {
            "marker": {
             "colorbar": {
              "outlinewidth": 0,
              "ticks": ""
             }
            },
            "type": "scattermap"
           }
          ],
          "scattermapbox": [
           {
            "marker": {
             "colorbar": {
              "outlinewidth": 0,
              "ticks": ""
             }
            },
            "type": "scattermapbox"
           }
          ],
          "scatterpolar": [
           {
            "marker": {
             "colorbar": {
              "outlinewidth": 0,
              "ticks": ""
             }
            },
            "type": "scatterpolar"
           }
          ],
          "scatterpolargl": [
           {
            "marker": {
             "colorbar": {
              "outlinewidth": 0,
              "ticks": ""
             }
            },
            "type": "scatterpolargl"
           }
          ],
          "scatterternary": [
           {
            "marker": {
             "colorbar": {
              "outlinewidth": 0,
              "ticks": ""
             }
            },
            "type": "scatterternary"
           }
          ],
          "surface": [
           {
            "colorbar": {
             "outlinewidth": 0,
             "ticks": ""
            },
            "colorscale": [
             [
              0,
              "#0d0887"
             ],
             [
              0.1111111111111111,
              "#46039f"
             ],
             [
              0.2222222222222222,
              "#7201a8"
             ],
             [
              0.3333333333333333,
              "#9c179e"
             ],
             [
              0.4444444444444444,
              "#bd3786"
             ],
             [
              0.5555555555555556,
              "#d8576b"
             ],
             [
              0.6666666666666666,
              "#ed7953"
             ],
             [
              0.7777777777777778,
              "#fb9f3a"
             ],
             [
              0.8888888888888888,
              "#fdca26"
             ],
             [
              1,
              "#f0f921"
             ]
            ],
            "type": "surface"
           }
          ],
          "table": [
           {
            "cells": {
             "fill": {
              "color": "#EBF0F8"
             },
             "line": {
              "color": "white"
             }
            },
            "header": {
             "fill": {
              "color": "#C8D4E3"
             },
             "line": {
              "color": "white"
             }
            },
            "type": "table"
           }
          ]
         },
         "layout": {
          "annotationdefaults": {
           "arrowcolor": "#2a3f5f",
           "arrowhead": 0,
           "arrowwidth": 1
          },
          "autotypenumbers": "strict",
          "coloraxis": {
           "colorbar": {
            "outlinewidth": 0,
            "ticks": ""
           }
          },
          "colorscale": {
           "diverging": [
            [
             0,
             "#8e0152"
            ],
            [
             0.1,
             "#c51b7d"
            ],
            [
             0.2,
             "#de77ae"
            ],
            [
             0.3,
             "#f1b6da"
            ],
            [
             0.4,
             "#fde0ef"
            ],
            [
             0.5,
             "#f7f7f7"
            ],
            [
             0.6,
             "#e6f5d0"
            ],
            [
             0.7,
             "#b8e186"
            ],
            [
             0.8,
             "#7fbc41"
            ],
            [
             0.9,
             "#4d9221"
            ],
            [
             1,
             "#276419"
            ]
           ],
           "sequential": [
            [
             0,
             "#0d0887"
            ],
            [
             0.1111111111111111,
             "#46039f"
            ],
            [
             0.2222222222222222,
             "#7201a8"
            ],
            [
             0.3333333333333333,
             "#9c179e"
            ],
            [
             0.4444444444444444,
             "#bd3786"
            ],
            [
             0.5555555555555556,
             "#d8576b"
            ],
            [
             0.6666666666666666,
             "#ed7953"
            ],
            [
             0.7777777777777778,
             "#fb9f3a"
            ],
            [
             0.8888888888888888,
             "#fdca26"
            ],
            [
             1,
             "#f0f921"
            ]
           ],
           "sequentialminus": [
            [
             0,
             "#0d0887"
            ],
            [
             0.1111111111111111,
             "#46039f"
            ],
            [
             0.2222222222222222,
             "#7201a8"
            ],
            [
             0.3333333333333333,
             "#9c179e"
            ],
            [
             0.4444444444444444,
             "#bd3786"
            ],
            [
             0.5555555555555556,
             "#d8576b"
            ],
            [
             0.6666666666666666,
             "#ed7953"
            ],
            [
             0.7777777777777778,
             "#fb9f3a"
            ],
            [
             0.8888888888888888,
             "#fdca26"
            ],
            [
             1,
             "#f0f921"
            ]
           ]
          },
          "colorway": [
           "#636efa",
           "#EF553B",
           "#00cc96",
           "#ab63fa",
           "#FFA15A",
           "#19d3f3",
           "#FF6692",
           "#B6E880",
           "#FF97FF",
           "#FECB52"
          ],
          "font": {
           "color": "#2a3f5f"
          },
          "geo": {
           "bgcolor": "white",
           "lakecolor": "white",
           "landcolor": "#E5ECF6",
           "showlakes": true,
           "showland": true,
           "subunitcolor": "white"
          },
          "hoverlabel": {
           "align": "left"
          },
          "hovermode": "closest",
          "mapbox": {
           "style": "light"
          },
          "paper_bgcolor": "white",
          "plot_bgcolor": "#E5ECF6",
          "polar": {
           "angularaxis": {
            "gridcolor": "white",
            "linecolor": "white",
            "ticks": ""
           },
           "bgcolor": "#E5ECF6",
           "radialaxis": {
            "gridcolor": "white",
            "linecolor": "white",
            "ticks": ""
           }
          },
          "scene": {
           "xaxis": {
            "backgroundcolor": "#E5ECF6",
            "gridcolor": "white",
            "gridwidth": 2,
            "linecolor": "white",
            "showbackground": true,
            "ticks": "",
            "zerolinecolor": "white"
           },
           "yaxis": {
            "backgroundcolor": "#E5ECF6",
            "gridcolor": "white",
            "gridwidth": 2,
            "linecolor": "white",
            "showbackground": true,
            "ticks": "",
            "zerolinecolor": "white"
           },
           "zaxis": {
            "backgroundcolor": "#E5ECF6",
            "gridcolor": "white",
            "gridwidth": 2,
            "linecolor": "white",
            "showbackground": true,
            "ticks": "",
            "zerolinecolor": "white"
           }
          },
          "shapedefaults": {
           "line": {
            "color": "#2a3f5f"
           }
          },
          "ternary": {
           "aaxis": {
            "gridcolor": "white",
            "linecolor": "white",
            "ticks": ""
           },
           "baxis": {
            "gridcolor": "white",
            "linecolor": "white",
            "ticks": ""
           },
           "bgcolor": "#E5ECF6",
           "caxis": {
            "gridcolor": "white",
            "linecolor": "white",
            "ticks": ""
           }
          },
          "title": {
           "x": 0.05
          },
          "xaxis": {
           "automargin": true,
           "gridcolor": "white",
           "linecolor": "white",
           "ticks": "",
           "title": {
            "standoff": 15
           },
           "zerolinecolor": "white",
           "zerolinewidth": 2
          },
          "yaxis": {
           "automargin": true,
           "gridcolor": "white",
           "linecolor": "white",
           "ticks": "",
           "title": {
            "standoff": 15
           },
           "zerolinecolor": "white",
           "zerolinewidth": 2
          }
         }
        },
        "title": {
         "text": "Correlation Matrices by Respondent and Method"
        },
        "width": 900,
        "xaxis": {
         "anchor": "y",
         "domain": [
          0,
          0.26666666666666666
         ],
         "tickangle": 45
        },
        "xaxis10": {
         "anchor": "y10",
         "domain": [
          0,
          0.26666666666666666
         ],
         "tickangle": 45
        },
        "xaxis11": {
         "anchor": "y11",
         "domain": [
          0.3666666666666667,
          0.6333333333333333
         ],
         "tickangle": 45
        },
        "xaxis12": {
         "anchor": "y12",
         "domain": [
          0.7333333333333334,
          1
         ],
         "tickangle": 45
        },
        "xaxis2": {
         "anchor": "y2",
         "domain": [
          0.3666666666666667,
          0.6333333333333333
         ],
         "tickangle": 45
        },
        "xaxis3": {
         "anchor": "y3",
         "domain": [
          0.7333333333333334,
          1
         ],
         "tickangle": 45
        },
        "xaxis4": {
         "anchor": "y4",
         "domain": [
          0,
          0.26666666666666666
         ],
         "tickangle": 45
        },
        "xaxis5": {
         "anchor": "y5",
         "domain": [
          0.3666666666666667,
          0.6333333333333333
         ],
         "tickangle": 45
        },
        "xaxis6": {
         "anchor": "y6",
         "domain": [
          0.7333333333333334,
          1
         ],
         "tickangle": 45
        },
        "xaxis7": {
         "anchor": "y7",
         "domain": [
          0,
          0.26666666666666666
         ],
         "tickangle": 45
        },
        "xaxis8": {
         "anchor": "y8",
         "domain": [
          0.3666666666666667,
          0.6333333333333333
         ],
         "tickangle": 45
        },
        "xaxis9": {
         "anchor": "y9",
         "domain": [
          0.7333333333333334,
          1
         ],
         "tickangle": 45
        },
        "yaxis": {
         "anchor": "x",
         "domain": [
          0.7875,
          1
         ]
        },
        "yaxis10": {
         "anchor": "x10",
         "domain": [
          0,
          0.2125
         ]
        },
        "yaxis11": {
         "anchor": "x11",
         "domain": [
          0,
          0.2125
         ]
        },
        "yaxis12": {
         "anchor": "x12",
         "domain": [
          0,
          0.2125
         ]
        },
        "yaxis2": {
         "anchor": "x2",
         "domain": [
          0.7875,
          1
         ]
        },
        "yaxis3": {
         "anchor": "x3",
         "domain": [
          0.7875,
          1
         ]
        },
        "yaxis4": {
         "anchor": "x4",
         "domain": [
          0.525,
          0.7375
         ]
        },
        "yaxis5": {
         "anchor": "x5",
         "domain": [
          0.525,
          0.7375
         ]
        },
        "yaxis6": {
         "anchor": "x6",
         "domain": [
          0.525,
          0.7375
         ]
        },
        "yaxis7": {
         "anchor": "x7",
         "domain": [
          0.2625,
          0.475
         ]
        },
        "yaxis8": {
         "anchor": "x8",
         "domain": [
          0.2625,
          0.475
         ]
        },
        "yaxis9": {
         "anchor": "x9",
         "domain": [
          0.2625,
          0.475
         ]
        }
       }
      }
     },
     "metadata": {},
     "output_type": "display_data"
    }
   ],
   "source": [
    "import pandas as pd\n",
    "import plotly.graph_objects as go\n",
    "from plotly.subplots import make_subplots\n",
    "import numpy as np\n",
    "import dcor\n",
    "\n",
    "ids = q_df['id'].unique()\n",
    "num_ids = len(ids)\n",
    "\n",
    "rows, cols = num_ids, 3\n",
    "\n",
    "numeric_df = q_df.select_dtypes(include=[np.number])\n",
    "numeric_columns = numeric_df.columns\n",
    "selected_rows = ['fatigue_lvl', 'score',  'weekday_num', 'hour', 'cog_load_flg']\n",
    "fig = make_subplots(\n",
    "    rows=rows,\n",
    "    cols=cols,\n",
    "    subplot_titles=[f\"ID {id} - {method}\" for id in ids for method in ['Pearson', 'Spearman', 'Kendall']],\n",
    "    horizontal_spacing=0.1,\n",
    "    vertical_spacing=0.05\n",
    ")\n",
    "for i, (name, sub_df) in enumerate(q_df.groupby('id')):\n",
    "    # Calculate different correlation methods\n",
    "    pearson_corr = sub_df[numeric_columns].corr(method='pearson')\n",
    "    spearman_corr = sub_df[numeric_columns].corr(method='spearman')\n",
    "    kendall_corr = sub_df[numeric_columns].corr(method='kendall')\n",
    "\n",
    "    for j, (corr, method) in enumerate([\n",
    "        (pearson_corr, 'Pearson'),\n",
    "        (spearman_corr, 'Spearman'),\n",
    "        (kendall_corr, 'Kendall'),\n",
    "        # (dcor_corr, 'DCOR')\n",
    "    ]):\n",
    "        # Create a copy of the correlation matrix\n",
    "        corr_values = corr.values.copy()\n",
    "        np.fill_diagonal(corr_values, None)\n",
    "        \n",
    "        # Select only the rows we want to keep\n",
    "        corr_values = corr_values[[list(corr.index).index(row) for row in selected_rows]]\n",
    "        corr_index = selected_rows\n",
    "        \n",
    "        heatmap = go.Heatmap(\n",
    "            z=corr_values,\n",
    "            x=corr.columns,\n",
    "            y=corr_index,\n",
    "            colorscale='RdBu',\n",
    "            zmid=0,\n",
    "            colorbar=dict(title=\"r\", len=0.3),\n",
    "            showscale=(i == num_ids - 1 and j == 2)  # show colorbar only on the last plot\n",
    "        )\n",
    "        \n",
    "        # Add heatmap to the appropriate subplot\n",
    "        fig.add_trace(heatmap, row=i+1, col=j+1)\n",
    "\n",
    "# Update layout\n",
    "fig.update_layout(\n",
    "    height=300 * num_ids,  # Adjust height based on number of respondents\n",
    "    width=900,\n",
    "    title_text=\"Correlation Matrices by Respondent and Method\",\n",
    "    font=dict(size=10),\n",
    "    margin=dict(l=50, r=80, t=100, b=50)\n",
    ")\n",
    "\n",
    "# Rotate x-axis labels\n",
    "for i in range(1, rows * cols + 1):\n",
    "    fig['layout'][f'xaxis{i}'].update(tickangle=45)\n",
    "\n",
    "fig.show()"
   ]
  },
  {
   "cell_type": "code",
   "execution_count": 43,
   "metadata": {},
   "outputs": [
    {
     "data": {
      "application/vnd.plotly.v1+json": {
       "config": {
        "plotlyServerURL": "https://plot.ly"
       },
       "data": [
        {
         "colorbar": {
          "len": 0.3,
          "title": {
           "text": "r"
          }
         },
         "colorscale": [
          [
           0,
           "rgb(103,0,31)"
          ],
          [
           0.1,
           "rgb(178,24,43)"
          ],
          [
           0.2,
           "rgb(214,96,77)"
          ],
          [
           0.3,
           "rgb(244,165,130)"
          ],
          [
           0.4,
           "rgb(253,219,199)"
          ],
          [
           0.5,
           "rgb(247,247,247)"
          ],
          [
           0.6,
           "rgb(209,229,240)"
          ],
          [
           0.7,
           "rgb(146,197,222)"
          ],
          [
           0.8,
           "rgb(67,147,195)"
          ],
          [
           0.9,
           "rgb(33,102,172)"
          ],
          [
           1,
           "rgb(5,48,97)"
          ]
         ],
         "showscale": false,
         "type": "heatmap",
         "x": [
          "weekday_num",
          "hour",
          "cog_load_flg",
          "score",
          "fatigue_lvl",
          "response_time_mean",
          "response_time_std",
          "response_time_max",
          "response_time_min",
          "correctFlg_mean"
         ],
         "xaxis": "x",
         "y": [
          "fatigue_lvl",
          "score",
          "weekday_num",
          "hour",
          "cog_load_flg"
         ],
         "yaxis": "y",
         "z": {
          "bdata": "oocrUgAnwL9RpcDXMDHlv9L8cx/aduy/F+ERHuERvj8AAAAAAAD4f1hk5slw8Oy/wtMB+S/bwj/lUpD67JaQv/m8aViMB8o/Ey4uRKuYvb+DTr3vf/KqP6U6/vTQ2pw/zgbJGZoyyb804eraXxDhP9FEBad7dKO/AAAAAAAA+H8X4REe4RG+P5ZkP1PKJLK/WlDzLiH0xL+SxXjEefynv7ppacdNfc6/JD2Zekm1tb/CqlC7/9Pfv5tdkSh/Ide/AAAAAAAA+H8xwnIdWpqhv3LYA1iPaLu/zgbJGZoyyb+ihytSACfAv1VtkiScAK4/tkVgY6Pf579QxCHXh2bgv2y/j3wMPea/7WS2uhDb2r9pvaXzC+bYP0jrAp4IH+k/McJyHVqaob8AAAAAAAD4fyw4OCdgP+A/NOHq2l8Q4T9RpcDXMDHlvzJYhrYdSeA/zwOURlGcxb+8gQorzZS7v46tj3R8Rsq/JstKI/+nqr8uxpwFNSLNv3+WWWfzh8i/ctgDWI9ou78sODgnYD/gPwAAAAAAAPh/0UQFp3t0o7/S/HMf2nbsv6W7Bh7RIu8/F1ULBHGzl7/rGcDZcQDBP/nCL1vk28C/p+9ti4viwD928B9/xlW/v+tDtaWhf9W/",
          "dtype": "f8",
          "shape": "5, 12"
         },
         "zmid": 0
        },
        {
         "colorbar": {
          "len": 0.3,
          "title": {
           "text": "r"
          }
         },
         "colorscale": [
          [
           0,
           "rgb(103,0,31)"
          ],
          [
           0.1,
           "rgb(178,24,43)"
          ],
          [
           0.2,
           "rgb(214,96,77)"
          ],
          [
           0.3,
           "rgb(244,165,130)"
          ],
          [
           0.4,
           "rgb(253,219,199)"
          ],
          [
           0.5,
           "rgb(247,247,247)"
          ],
          [
           0.6,
           "rgb(209,229,240)"
          ],
          [
           0.7,
           "rgb(146,197,222)"
          ],
          [
           0.8,
           "rgb(67,147,195)"
          ],
          [
           0.9,
           "rgb(33,102,172)"
          ],
          [
           1,
           "rgb(5,48,97)"
          ]
         ],
         "showscale": false,
         "type": "heatmap",
         "x": [
          "weekday_num",
          "hour",
          "cog_load_flg",
          "score",
          "fatigue_lvl",
          "response_time_mean",
          "response_time_std",
          "response_time_max",
          "response_time_min",
          "correctFlg_mean"
         ],
         "xaxis": "x2",
         "y": [
          "fatigue_lvl",
          "score",
          "weekday_num",
          "hour",
          "cog_load_flg"
         ],
         "yaxis": "y2",
         "z": {
          "bdata": "Eas9PFRHxb/wUJNHPbPqv5AmnND11+m/ryRJ5c6B478AAAAAAAD4fzmgLNVG1Oa/3wci+zMytj8yPN9kOsKzPxZUCIwvF5E/DsxUDQrZn79ahJT6DZ3IvxWZucn/y9A/bVQBIGGSkb8wWGN4DNnqP2T8dd+VFuA/AAAAAAAA+H+vJEnlzoHjvxszkEWneeI/9jCMnsV/wD/vJVZ//PjQP8yU1X51Rna/hrOBLUsv1z+hE53rJULTP2YHNPVVp7o/AAAAAAAA+H9yUKON2U6qP/VtIc+DmeE/bVQBIGGSkb8Rqz08VEfFvxWquLSHutg/HRnaWyxB1b/YTGcpQ3C8v7q9vQTpl86/t9NpPVq1ub9gH3sTMFyxvy2/P/enwbq/clCjjdlOqj8AAAAAAAD4f8LsnGqZpeY/MFhjeAzZ6j/wUJNHPbPqv/WWICyc2eY/ZYpGsyuOtr8ZByXcLWKaP6JH9swrjr+/4QGbRhkGwD8GC3bKWgfPP03shZjv0aS/9W0hz4OZ4T/C7JxqmaXmPwAAAAAAAPh/ZPx135UW4D+QJpzQ9dfpv14GvGeZ3es/sbJ/tpuGxr/9M3ky7smwPxPIAT/Vmce/l42bQwyjxT9yShLMrkLKP9lJ8cMc2MK/",
          "dtype": "f8",
          "shape": "5, 12"
         },
         "zmid": 0
        },
        {
         "colorbar": {
          "len": 0.3,
          "title": {
           "text": "r"
          }
         },
         "colorscale": [
          [
           0,
           "rgb(103,0,31)"
          ],
          [
           0.1,
           "rgb(178,24,43)"
          ],
          [
           0.2,
           "rgb(214,96,77)"
          ],
          [
           0.3,
           "rgb(244,165,130)"
          ],
          [
           0.4,
           "rgb(253,219,199)"
          ],
          [
           0.5,
           "rgb(247,247,247)"
          ],
          [
           0.6,
           "rgb(209,229,240)"
          ],
          [
           0.7,
           "rgb(146,197,222)"
          ],
          [
           0.8,
           "rgb(67,147,195)"
          ],
          [
           0.9,
           "rgb(33,102,172)"
          ],
          [
           1,
           "rgb(5,48,97)"
          ]
         ],
         "showscale": false,
         "type": "heatmap",
         "x": [
          "weekday_num",
          "hour",
          "cog_load_flg",
          "score",
          "fatigue_lvl",
          "response_time_mean",
          "response_time_std",
          "response_time_max",
          "response_time_min",
          "correctFlg_mean"
         ],
         "xaxis": "x3",
         "y": [
          "fatigue_lvl",
          "score",
          "weekday_num",
          "hour",
          "cog_load_flg"
         ],
         "yaxis": "y3",
         "z": {
          "bdata": "Yp7XQOIB379yc9pTuoDcP20nK86th+u/lCFX6Qao5z8AAAAAAAD4f1gyctc4Wum/w9iQUOJUs79wRuN3PBfiP/L5MuL1kOa/mxLhz2Hq4z8TIyez21Psv1O81Tc8Qt0/IAqthpUr5r+vDyQVQbzqP8pmFhqGium/AAAAAAAA+H+UIVfpBqjnPya77gJePee/ILOg4Tb/3L/hpE6fsxW7Pz3DlkZLCeK/Gwbi5Qo6xT8Qgo8V2xflv5wjw65sOtE/AAAAAAAA+H9eI1KcoBbjv6bhf9dLY9o/IAqthpUr5r9intdA4gHfv94fB7Pywsk/+1O6gyd+4T8AEm5kWuXEP4oZfK4fBM4/ntGA5GmXjT9LFcXre6PTP0xLG5hy5+G/XiNSnKAW478AAAAAAAD4f0FH4OSZStm/rw8kFUG86j9yc9pTuoDcP+cs6qKAO9a/m4ge+Rob4L/hazKYxLjEv03OzJXFkdW/tcXLYM7zw7/Y4xaqSJTWvyQ+VnUBQ7C/puF/10tj2j9BR+DkmUrZvwAAAAAAAPh/ymYWGoaK6b9tJyvOrYfrvwOwK4aQC+8/ICSgaC1Ql7+ueCurv+Div0NxDiA/V+I/qHlpwk1y5L8cH9Ooic3pP4ut88Ia2di/",
          "dtype": "f8",
          "shape": "5, 12"
         },
         "zmid": 0
        },
        {
         "colorbar": {
          "len": 0.3,
          "title": {
           "text": "r"
          }
         },
         "colorscale": [
          [
           0,
           "rgb(103,0,31)"
          ],
          [
           0.1,
           "rgb(178,24,43)"
          ],
          [
           0.2,
           "rgb(214,96,77)"
          ],
          [
           0.3,
           "rgb(244,165,130)"
          ],
          [
           0.4,
           "rgb(253,219,199)"
          ],
          [
           0.5,
           "rgb(247,247,247)"
          ],
          [
           0.6,
           "rgb(209,229,240)"
          ],
          [
           0.7,
           "rgb(146,197,222)"
          ],
          [
           0.8,
           "rgb(67,147,195)"
          ],
          [
           0.9,
           "rgb(33,102,172)"
          ],
          [
           1,
           "rgb(5,48,97)"
          ]
         ],
         "showscale": false,
         "type": "heatmap",
         "x": [
          "weekday_num",
          "hour",
          "cog_load_flg",
          "score",
          "fatigue_lvl",
          "response_time_mean",
          "response_time_std",
          "response_time_max",
          "response_time_min",
          "correctFlg_mean"
         ],
         "xaxis": "x4",
         "y": [
          "fatigue_lvl",
          "score",
          "weekday_num",
          "hour",
          "cog_load_flg"
         ],
         "yaxis": "y4",
         "z": {
          "bdata": "WcfoSsNg0b9Lhz+v79Xrv0vjl/vDMe6/vWH+G0bA4b8AAAAAAAD4f40ZSUTavu2/J+rXg6aAn7+SL6UIlPXBP0S0WhIcKc2/vshjEZH8yj9bfrTH1QJLvzr2ec6GPsS/5UGFgT8KyL93lDBj1UzjPwAToF3NTuE/AAAAAAAA+H+9Yf4bRsDhv43rsW1RiOA/q/iQJPeGzb/oRjJ0r8DUv8pHO4VMvpO/Lvwdk8BI1L+FqyhYN2KiP+ByPqdY19A/AAAAAAAA+H8d/lbmS6jNPx+ANK3kCr0/5UGFgT8KyL9Zx+hKw2DRvx0/idAalsI/42R9x+lB1j+eE9hHKgDQP6tJ049Bi9o/84/qoiJvxj8c6X+uhmefP1riYcs3ssK/Hf5W5kuozT8AAAAAAAD4f1tgXSOFD+s/d5QwY9VM4z9Lhz+v79Xrv9elO2sm3Oo/eiHTE0DJwr+1QdrL/w/Uv/TFM32CH7Y/ewfUm9XR1r+4SOgTEA+1P/dLKJZmMM0/H4A0reQKvT9bYF0jhQ/rPwAAAAAAAPh/ABOgXc1O4T9L45f7wzHuv76hzxnOme8/FKS33eYjpb9ygiSVdc/Kv4aKPUJKNcQ/DBBhgmAi0L84/amP5xOoP8wtxDWhabw/",
          "dtype": "f8",
          "shape": "5, 12"
         },
         "zmid": 0
        }
       ],
       "layout": {
        "annotations": [
         {
          "font": {
           "size": 16
          },
          "showarrow": false,
          "text": "ID respondent_1 - Pearson",
          "x": 0.0875,
          "xanchor": "center",
          "xref": "paper",
          "y": 1,
          "yanchor": "bottom",
          "yref": "paper"
         },
         {
          "font": {
           "size": 16
          },
          "showarrow": false,
          "text": "ID respondent_1 - Spearman",
          "x": 0.36250000000000004,
          "xanchor": "center",
          "xref": "paper",
          "y": 1,
          "yanchor": "bottom",
          "yref": "paper"
         },
         {
          "font": {
           "size": 16
          },
          "showarrow": false,
          "text": "ID respondent_1 - Kendall",
          "x": 0.6375000000000001,
          "xanchor": "center",
          "xref": "paper",
          "y": 1,
          "yanchor": "bottom",
          "yref": "paper"
         },
         {
          "font": {
           "size": 16
          },
          "showarrow": false,
          "text": "ID respondent_2 - Pearson",
          "x": 0.9125,
          "xanchor": "center",
          "xref": "paper",
          "y": 1,
          "yanchor": "bottom",
          "yref": "paper"
         }
        ],
        "font": {
         "size": 10
        },
        "height": 300,
        "margin": {
         "b": 50,
         "l": 50,
         "r": 80,
         "t": 100
        },
        "template": {
         "data": {
          "bar": [
           {
            "error_x": {
             "color": "#2a3f5f"
            },
            "error_y": {
             "color": "#2a3f5f"
            },
            "marker": {
             "line": {
              "color": "#E5ECF6",
              "width": 0.5
             },
             "pattern": {
              "fillmode": "overlay",
              "size": 10,
              "solidity": 0.2
             }
            },
            "type": "bar"
           }
          ],
          "barpolar": [
           {
            "marker": {
             "line": {
              "color": "#E5ECF6",
              "width": 0.5
             },
             "pattern": {
              "fillmode": "overlay",
              "size": 10,
              "solidity": 0.2
             }
            },
            "type": "barpolar"
           }
          ],
          "carpet": [
           {
            "aaxis": {
             "endlinecolor": "#2a3f5f",
             "gridcolor": "white",
             "linecolor": "white",
             "minorgridcolor": "white",
             "startlinecolor": "#2a3f5f"
            },
            "baxis": {
             "endlinecolor": "#2a3f5f",
             "gridcolor": "white",
             "linecolor": "white",
             "minorgridcolor": "white",
             "startlinecolor": "#2a3f5f"
            },
            "type": "carpet"
           }
          ],
          "choropleth": [
           {
            "colorbar": {
             "outlinewidth": 0,
             "ticks": ""
            },
            "type": "choropleth"
           }
          ],
          "contour": [
           {
            "colorbar": {
             "outlinewidth": 0,
             "ticks": ""
            },
            "colorscale": [
             [
              0,
              "#0d0887"
             ],
             [
              0.1111111111111111,
              "#46039f"
             ],
             [
              0.2222222222222222,
              "#7201a8"
             ],
             [
              0.3333333333333333,
              "#9c179e"
             ],
             [
              0.4444444444444444,
              "#bd3786"
             ],
             [
              0.5555555555555556,
              "#d8576b"
             ],
             [
              0.6666666666666666,
              "#ed7953"
             ],
             [
              0.7777777777777778,
              "#fb9f3a"
             ],
             [
              0.8888888888888888,
              "#fdca26"
             ],
             [
              1,
              "#f0f921"
             ]
            ],
            "type": "contour"
           }
          ],
          "contourcarpet": [
           {
            "colorbar": {
             "outlinewidth": 0,
             "ticks": ""
            },
            "type": "contourcarpet"
           }
          ],
          "heatmap": [
           {
            "colorbar": {
             "outlinewidth": 0,
             "ticks": ""
            },
            "colorscale": [
             [
              0,
              "#0d0887"
             ],
             [
              0.1111111111111111,
              "#46039f"
             ],
             [
              0.2222222222222222,
              "#7201a8"
             ],
             [
              0.3333333333333333,
              "#9c179e"
             ],
             [
              0.4444444444444444,
              "#bd3786"
             ],
             [
              0.5555555555555556,
              "#d8576b"
             ],
             [
              0.6666666666666666,
              "#ed7953"
             ],
             [
              0.7777777777777778,
              "#fb9f3a"
             ],
             [
              0.8888888888888888,
              "#fdca26"
             ],
             [
              1,
              "#f0f921"
             ]
            ],
            "type": "heatmap"
           }
          ],
          "histogram": [
           {
            "marker": {
             "pattern": {
              "fillmode": "overlay",
              "size": 10,
              "solidity": 0.2
             }
            },
            "type": "histogram"
           }
          ],
          "histogram2d": [
           {
            "colorbar": {
             "outlinewidth": 0,
             "ticks": ""
            },
            "colorscale": [
             [
              0,
              "#0d0887"
             ],
             [
              0.1111111111111111,
              "#46039f"
             ],
             [
              0.2222222222222222,
              "#7201a8"
             ],
             [
              0.3333333333333333,
              "#9c179e"
             ],
             [
              0.4444444444444444,
              "#bd3786"
             ],
             [
              0.5555555555555556,
              "#d8576b"
             ],
             [
              0.6666666666666666,
              "#ed7953"
             ],
             [
              0.7777777777777778,
              "#fb9f3a"
             ],
             [
              0.8888888888888888,
              "#fdca26"
             ],
             [
              1,
              "#f0f921"
             ]
            ],
            "type": "histogram2d"
           }
          ],
          "histogram2dcontour": [
           {
            "colorbar": {
             "outlinewidth": 0,
             "ticks": ""
            },
            "colorscale": [
             [
              0,
              "#0d0887"
             ],
             [
              0.1111111111111111,
              "#46039f"
             ],
             [
              0.2222222222222222,
              "#7201a8"
             ],
             [
              0.3333333333333333,
              "#9c179e"
             ],
             [
              0.4444444444444444,
              "#bd3786"
             ],
             [
              0.5555555555555556,
              "#d8576b"
             ],
             [
              0.6666666666666666,
              "#ed7953"
             ],
             [
              0.7777777777777778,
              "#fb9f3a"
             ],
             [
              0.8888888888888888,
              "#fdca26"
             ],
             [
              1,
              "#f0f921"
             ]
            ],
            "type": "histogram2dcontour"
           }
          ],
          "mesh3d": [
           {
            "colorbar": {
             "outlinewidth": 0,
             "ticks": ""
            },
            "type": "mesh3d"
           }
          ],
          "parcoords": [
           {
            "line": {
             "colorbar": {
              "outlinewidth": 0,
              "ticks": ""
             }
            },
            "type": "parcoords"
           }
          ],
          "pie": [
           {
            "automargin": true,
            "type": "pie"
           }
          ],
          "scatter": [
           {
            "fillpattern": {
             "fillmode": "overlay",
             "size": 10,
             "solidity": 0.2
            },
            "type": "scatter"
           }
          ],
          "scatter3d": [
           {
            "line": {
             "colorbar": {
              "outlinewidth": 0,
              "ticks": ""
             }
            },
            "marker": {
             "colorbar": {
              "outlinewidth": 0,
              "ticks": ""
             }
            },
            "type": "scatter3d"
           }
          ],
          "scattercarpet": [
           {
            "marker": {
             "colorbar": {
              "outlinewidth": 0,
              "ticks": ""
             }
            },
            "type": "scattercarpet"
           }
          ],
          "scattergeo": [
           {
            "marker": {
             "colorbar": {
              "outlinewidth": 0,
              "ticks": ""
             }
            },
            "type": "scattergeo"
           }
          ],
          "scattergl": [
           {
            "marker": {
             "colorbar": {
              "outlinewidth": 0,
              "ticks": ""
             }
            },
            "type": "scattergl"
           }
          ],
          "scattermap": [
           {
            "marker": {
             "colorbar": {
              "outlinewidth": 0,
              "ticks": ""
             }
            },
            "type": "scattermap"
           }
          ],
          "scattermapbox": [
           {
            "marker": {
             "colorbar": {
              "outlinewidth": 0,
              "ticks": ""
             }
            },
            "type": "scattermapbox"
           }
          ],
          "scatterpolar": [
           {
            "marker": {
             "colorbar": {
              "outlinewidth": 0,
              "ticks": ""
             }
            },
            "type": "scatterpolar"
           }
          ],
          "scatterpolargl": [
           {
            "marker": {
             "colorbar": {
              "outlinewidth": 0,
              "ticks": ""
             }
            },
            "type": "scatterpolargl"
           }
          ],
          "scatterternary": [
           {
            "marker": {
             "colorbar": {
              "outlinewidth": 0,
              "ticks": ""
             }
            },
            "type": "scatterternary"
           }
          ],
          "surface": [
           {
            "colorbar": {
             "outlinewidth": 0,
             "ticks": ""
            },
            "colorscale": [
             [
              0,
              "#0d0887"
             ],
             [
              0.1111111111111111,
              "#46039f"
             ],
             [
              0.2222222222222222,
              "#7201a8"
             ],
             [
              0.3333333333333333,
              "#9c179e"
             ],
             [
              0.4444444444444444,
              "#bd3786"
             ],
             [
              0.5555555555555556,
              "#d8576b"
             ],
             [
              0.6666666666666666,
              "#ed7953"
             ],
             [
              0.7777777777777778,
              "#fb9f3a"
             ],
             [
              0.8888888888888888,
              "#fdca26"
             ],
             [
              1,
              "#f0f921"
             ]
            ],
            "type": "surface"
           }
          ],
          "table": [
           {
            "cells": {
             "fill": {
              "color": "#EBF0F8"
             },
             "line": {
              "color": "white"
             }
            },
            "header": {
             "fill": {
              "color": "#C8D4E3"
             },
             "line": {
              "color": "white"
             }
            },
            "type": "table"
           }
          ]
         },
         "layout": {
          "annotationdefaults": {
           "arrowcolor": "#2a3f5f",
           "arrowhead": 0,
           "arrowwidth": 1
          },
          "autotypenumbers": "strict",
          "coloraxis": {
           "colorbar": {
            "outlinewidth": 0,
            "ticks": ""
           }
          },
          "colorscale": {
           "diverging": [
            [
             0,
             "#8e0152"
            ],
            [
             0.1,
             "#c51b7d"
            ],
            [
             0.2,
             "#de77ae"
            ],
            [
             0.3,
             "#f1b6da"
            ],
            [
             0.4,
             "#fde0ef"
            ],
            [
             0.5,
             "#f7f7f7"
            ],
            [
             0.6,
             "#e6f5d0"
            ],
            [
             0.7,
             "#b8e186"
            ],
            [
             0.8,
             "#7fbc41"
            ],
            [
             0.9,
             "#4d9221"
            ],
            [
             1,
             "#276419"
            ]
           ],
           "sequential": [
            [
             0,
             "#0d0887"
            ],
            [
             0.1111111111111111,
             "#46039f"
            ],
            [
             0.2222222222222222,
             "#7201a8"
            ],
            [
             0.3333333333333333,
             "#9c179e"
            ],
            [
             0.4444444444444444,
             "#bd3786"
            ],
            [
             0.5555555555555556,
             "#d8576b"
            ],
            [
             0.6666666666666666,
             "#ed7953"
            ],
            [
             0.7777777777777778,
             "#fb9f3a"
            ],
            [
             0.8888888888888888,
             "#fdca26"
            ],
            [
             1,
             "#f0f921"
            ]
           ],
           "sequentialminus": [
            [
             0,
             "#0d0887"
            ],
            [
             0.1111111111111111,
             "#46039f"
            ],
            [
             0.2222222222222222,
             "#7201a8"
            ],
            [
             0.3333333333333333,
             "#9c179e"
            ],
            [
             0.4444444444444444,
             "#bd3786"
            ],
            [
             0.5555555555555556,
             "#d8576b"
            ],
            [
             0.6666666666666666,
             "#ed7953"
            ],
            [
             0.7777777777777778,
             "#fb9f3a"
            ],
            [
             0.8888888888888888,
             "#fdca26"
            ],
            [
             1,
             "#f0f921"
            ]
           ]
          },
          "colorway": [
           "#636efa",
           "#EF553B",
           "#00cc96",
           "#ab63fa",
           "#FFA15A",
           "#19d3f3",
           "#FF6692",
           "#B6E880",
           "#FF97FF",
           "#FECB52"
          ],
          "font": {
           "color": "#2a3f5f"
          },
          "geo": {
           "bgcolor": "white",
           "lakecolor": "white",
           "landcolor": "#E5ECF6",
           "showlakes": true,
           "showland": true,
           "subunitcolor": "white"
          },
          "hoverlabel": {
           "align": "left"
          },
          "hovermode": "closest",
          "mapbox": {
           "style": "light"
          },
          "paper_bgcolor": "white",
          "plot_bgcolor": "#E5ECF6",
          "polar": {
           "angularaxis": {
            "gridcolor": "white",
            "linecolor": "white",
            "ticks": ""
           },
           "bgcolor": "#E5ECF6",
           "radialaxis": {
            "gridcolor": "white",
            "linecolor": "white",
            "ticks": ""
           }
          },
          "scene": {
           "xaxis": {
            "backgroundcolor": "#E5ECF6",
            "gridcolor": "white",
            "gridwidth": 2,
            "linecolor": "white",
            "showbackground": true,
            "ticks": "",
            "zerolinecolor": "white"
           },
           "yaxis": {
            "backgroundcolor": "#E5ECF6",
            "gridcolor": "white",
            "gridwidth": 2,
            "linecolor": "white",
            "showbackground": true,
            "ticks": "",
            "zerolinecolor": "white"
           },
           "zaxis": {
            "backgroundcolor": "#E5ECF6",
            "gridcolor": "white",
            "gridwidth": 2,
            "linecolor": "white",
            "showbackground": true,
            "ticks": "",
            "zerolinecolor": "white"
           }
          },
          "shapedefaults": {
           "line": {
            "color": "#2a3f5f"
           }
          },
          "ternary": {
           "aaxis": {
            "gridcolor": "white",
            "linecolor": "white",
            "ticks": ""
           },
           "baxis": {
            "gridcolor": "white",
            "linecolor": "white",
            "ticks": ""
           },
           "bgcolor": "#E5ECF6",
           "caxis": {
            "gridcolor": "white",
            "linecolor": "white",
            "ticks": ""
           }
          },
          "title": {
           "x": 0.05
          },
          "xaxis": {
           "automargin": true,
           "gridcolor": "white",
           "linecolor": "white",
           "ticks": "",
           "title": {
            "standoff": 15
           },
           "zerolinecolor": "white",
           "zerolinewidth": 2
          },
          "yaxis": {
           "automargin": true,
           "gridcolor": "white",
           "linecolor": "white",
           "ticks": "",
           "title": {
            "standoff": 15
           },
           "zerolinecolor": "white",
           "zerolinewidth": 2
          }
         }
        },
        "title": {
         "text": "Correlation Matrices by Respondent and Method"
        },
        "width": 900,
        "xaxis": {
         "anchor": "y",
         "domain": [
          0,
          0.175
         ],
         "tickangle": 45
        },
        "xaxis2": {
         "anchor": "y2",
         "domain": [
          0.275,
          0.45
         ],
         "tickangle": 45
        },
        "xaxis3": {
         "anchor": "y3",
         "domain": [
          0.55,
          0.7250000000000001
         ],
         "tickangle": 45
        },
        "xaxis4": {
         "anchor": "y4",
         "domain": [
          0.825,
          1
         ],
         "tickangle": 45
        },
        "yaxis": {
         "anchor": "x",
         "domain": [
          0,
          1
         ]
        },
        "yaxis2": {
         "anchor": "x2",
         "domain": [
          0,
          1
         ]
        },
        "yaxis3": {
         "anchor": "x3",
         "domain": [
          0,
          1
         ]
        },
        "yaxis4": {
         "anchor": "x4",
         "domain": [
          0,
          1
         ]
        }
       }
      }
     },
     "metadata": {},
     "output_type": "display_data"
    }
   ],
   "source": [
    "import pandas as pd\n",
    "import plotly.graph_objects as go\n",
    "from plotly.subplots import make_subplots\n",
    "import numpy as np\n",
    "import dcor\n",
    "\n",
    "# Get unique IDs\n",
    "ids = q_df['id'].unique()\n",
    "num_ids = len(ids)\n",
    "\n",
    "# Parameters for subplot grid\n",
    "rows, cols = 1, 4\n",
    "\n",
    "# Select only numeric columns for correlation\n",
    "# Select only numeric columns for correlation\n",
    "numeric_df = q_df.select_dtypes(include=[np.number])\n",
    "numeric_columns = numeric_df.columns\n",
    "\n",
    "# Define the rows we want to keep\n",
    "selected_rows = ['fatigue_lvl', 'score',  'weekday_num', 'hour', 'cog_load_flg']\n",
    "\n",
    "# Create figure with subplots\n",
    "fig = make_subplots(\n",
    "    rows=rows,\n",
    "    cols=cols,\n",
    "    subplot_titles=[f\"ID {id} - {method}\" for id in ids for method in ['Pearson', 'Spearman', 'Kendall']],\n",
    "    horizontal_spacing=0.1,\n",
    "    vertical_spacing=0.05\n",
    ")\n",
    "\n",
    "# Calculate correlations for each respondent\n",
    "for i, (name, sub_df) in enumerate(q_df.groupby('id')):\n",
    "    # Calculate different correlation methods\n",
    "    pearson_corr = sub_df[numeric_columns].corr(method='pearson')\n",
    "        # Create a copy of the correlation matrix\n",
    "    corr_values = pearson_corr.values.copy()\n",
    "    np.fill_diagonal(corr_values, None)\n",
    "    \n",
    "    # Select only the rows we want to keep\n",
    "    corr_values = corr_values[[list(corr.index).index(row) for row in selected_rows]]\n",
    "    corr_index = selected_rows\n",
    "    \n",
    "    heatmap = go.Heatmap(\n",
    "        z=corr_values,\n",
    "        x=corr.columns,\n",
    "        y=corr_index,\n",
    "        colorscale='RdBu',\n",
    "        zmid=0,\n",
    "        colorbar=dict(title=\"r\", len=0.3),\n",
    "        showscale=(i == num_ids - 1 and j == 2)  # show colorbar only on the last plot\n",
    "    )\n",
    "    \n",
    "    # Add heatmap to the appropriate subplot\n",
    "    fig.add_trace(heatmap, row=1, col=i+1)\n",
    "\n",
    "# Update layout\n",
    "fig.update_layout(\n",
    "    height=300,  # Adjust height based on number of respondents\n",
    "    width=900,\n",
    "    title_text=\"Correlation Matrices by Respondent and Method\",\n",
    "    font=dict(size=10),\n",
    "    margin=dict(l=50, r=80, t=100, b=50)\n",
    ")\n",
    "\n",
    "# Rotate x-axis labels\n",
    "for i in range(1, rows * cols + 1):\n",
    "    fig['layout'][f'xaxis{i}'].update(tickangle=45)\n",
    "\n",
    "fig.show()"
   ]
  },
  {
   "cell_type": "markdown",
   "metadata": {},
   "source": [
    "### Все метрики и утомление"
   ]
  },
  {
   "cell_type": "code",
   "execution_count": 47,
   "metadata": {},
   "outputs": [
    {
     "data": {
      "application/vnd.plotly.v1+json": {
       "config": {
        "plotlyServerURL": "https://plot.ly"
       },
       "data": [
        {
         "customdata": [
          "2025-03-10T10:09:26.000000000",
          "2025-03-10T15:39:44.000000000",
          "2025-03-10T19:27:25.000000000",
          "2025-03-10T20:39:20.000000000",
          "2025-03-11T08:55:58.000000000",
          "2025-03-11T17:38:58.000000000",
          "2025-03-12T08:48:30.000000000",
          "2025-03-12T16:04:18.000000000",
          "2025-03-12T20:38:30.000000000",
          "2025-03-13T09:20:31.000000000",
          "2025-03-13T12:26:28.000000000",
          "2025-03-13T14:17:22.000000000",
          "2025-03-13T22:48:59.000000000",
          "2025-03-14T13:41:47.000000000",
          "2025-03-14T15:19:17.000000000",
          "2025-03-15T17:17:19.000000000"
         ],
         "hovertemplate": "ID: respondent_1<br>DateTime: %{customdata}<br>weekday_num: %{x:.2f}<br>Score: %{y:.2f}<br>Pearson r: -0.107<br>Spearman r: -0.164<br>Kendall τ: -0.129<br>DCOR: 0.302",
         "legendgroup": "respondent_1",
         "marker": {
          "color": "#FF0000",
          "opacity": 0.8,
          "size": 8
         },
         "mode": "markers",
         "name": "ID: respondent_1",
         "showlegend": true,
         "type": "scatter",
         "x": {
          "bdata": "AAAAAAAAAAAAAAAAAAAAAAEAAAABAAAAAgAAAAIAAAACAAAAAwAAAAMAAAADAAAAAwAAAAQAAAAEAAAABQAAAA==",
          "dtype": "i4"
         },
         "xaxis": "x",
         "y": {
          "bdata": "DwkZHgYZBhMPDhwXEwMEHA==",
          "dtype": "i1"
         },
         "yaxis": "y"
        },
        {
         "hovertemplate": "ID: respondent_1<br>Pearson r: -0.107<br>Spearman r: -0.164<br>Kendall τ: -0.129<br>DCOR: 0.302",
         "legendgroup": "respondent_1",
         "line": {
          "color": "#FF0000",
          "dash": "dash",
          "width": 2
         },
         "mode": "lines",
         "name": "Trend respondent_1",
         "showlegend": false,
         "type": "scatter",
         "x": {
          "bdata": "AAAAAAAAAAAxb2dIzNupPzFvZ0jM27k/ZZNNNtlkwz8xb2dIzNvJP3+lQK1fKdA/ZZNNNtlk0z9LgVq/UqDWPzFvZ0jM29k/F1100UUX3T9/pUCtXyngP3Icx3Ecx+E/ZZNNNtlk4z9YCtT6lQLlP0uBWr9SoOY/Pvjggw8+6D8xb2dIzNvpPyTm7QyJees/F1100UUX7T8K1PqVArXuP3+lQK1fKfA/+OCDDz748D9yHMdxHMfxP+tXCtT6lfI/ZZNNNtlk8z/ezpCYtzP0P1gK1PqVAvU/0UUXXXTR9T9LgVq/UqD2P8S8nSExb/c/Pvjggw8++D+3MyTm7Qz5PzFvZ0jM2/k/q6qqqqqq+j8k5u0MiXn7P54hMW9nSPw/F1100UUX/T+RmLczJOb9PwrU+pUCtf4/hA8++OCD/z9/pUCtXykAQDtDYt7OkABA+OCDDz74AEC1fqVArV8BQHIcx3EcxwFALrrooosuAkDrVwrU+pUCQKj1KwVq/QJAZZNNNtlkA0AiMW9nSMwDQN7OkJi3MwRAm2yyySabBEBYCtT6lQIFQBWo9SsFagVA0UUXXXTRBUCO4ziO4zgGQEuBWr9SoAZACB988MEHB0DEvJ0hMW8HQIFav1Kg1gdAPvjggw8+CED7lQK1fqUIQLczJObtDAlAdNFFF110CUAxb2dIzNsJQO4MiXk7QwpAq6qqqqqqCkBnSMzbGRILQCTm7QyJeQtA4YMPPvjgC0CeITFvZ0gMQFq/UqDWrwxAF1100UUXDUDU+pUCtX4NQJGYtzMk5g1ATTbZZJNNDkAK1PqVArUOQMdxHMdxHA9AhA8++OCDD0BArV8pUOsPQH+lQK1fKRBAXXTRRRddEEA7Q2LezpAQQBoS83aGxBBA+OCDDz74EEDXrxSo9SsRQLV+pUCtXxFAk0022WSTEUByHMdxHMcRQFDrVwrU+hFALrrooosuEkANiXk7Q2ISQOtXCtT6lRJAyiabbLLJEkCo9SsFav0SQIbEvJ0hMRNAZZNNNtlkE0BDYt7OkJgTQCIxb2dIzBNAAAAAAAAAFEA=",
          "dtype": "f8"
         },
         "xaxis": "x",
         "y": {
          "bdata": "dAkn7+YSMkDNuwq+/goyQCdu7owWAzJAgCDSWy77MUDa0rUqRvMxQDOFmfld6zFAjTd9yHXjMUDm6WCXjdsxQECcRGal0zFAmU4oNb3LMUDzAAwE1cMxQEyz79LsuzFApmXToQS0MUD/F7dwHKwxQFnKmj80pDFAsnx+DkycMUAML2LdY5QxQGXhRax7jDFAv5Mpe5OEMUAYRg1Kq3wxQHL48BjDdDFAy6rU59psMUAkXbi28mQxQH4PnIUKXTFA18F/VCJVMUAxdGMjOk0xQIomR/JRRTFA5NgqwWk9MUA9iw6QgTUxQJc98l6ZLTFA8O/VLbElMUBKorn8yB0xQKNUncvgFTFA/QaBmvgNMUBWuWRpEAYxQLBrSDgo/jBACR4sB0D2MEBj0A/WV+4wQLyC86Rv5jBAFjXXc4feMEBv57pCn9YwQMmZnhG3zjBAIkyC4M7GMEB8/mWv5r4wQNWwSX7+tjBAL2MtTRavMECIFREcLqcwQOLH9OpFnzBAO3rYuV2XMECULLyIdY8wQO7en1eNhzBAR5GDJqV/MEChQ2f1vHcwQPr1SsTUbzBAVKguk+xnMECtWhJiBGAwQAcN9jAcWDBAYL/Z/zNQMEC6cb3OS0gwQBMkoZ1jQDBAbdaEbHs4MEDGiGg7kzAwQCA7TAqrKDBAee0v2cIgMEDTnxOo2hgwQCxS93byEDBAhgTbRQoJMEDftr4UIgEwQHHSRMdz8i9AJDcMZaPiL0DXm9MC09IvQIoAm6ACwy9APWViPjKzL0DwySncYaMvQKMu8XmRky9AVpO4F8GDL0AJ+H+18HMvQLxcR1MgZC9AbsEO8U9UL0AiJtaOf0QvQNSKnSyvNC9AiO9kyt4kL0A6VCxoDhUvQO248wU+BS9AoB27o231LkBTgoJBneUuQAbnSd/M1S5AuUsRffzFLkBssNgaLLYuQB8VoLhbpi5A0nlnVouWLkCF3i70uoYuQDhD9pHqdi5A66e9LxpnLkCeDIXNSVcuQFFxTGt5Ry5ABNYTCak3LkC3Otum2CcuQGqfokQIGC5AHQRq4jcILkA=",
          "dtype": "f8"
         },
         "yaxis": "y"
        },
        {
         "customdata": [
          "2025-03-10T10:16:41.000000000",
          "2025-03-10T12:36:03.000000000",
          "2025-03-10T15:32:56.000000000",
          "2025-03-10T19:32:40.000000000",
          "2025-03-11T11:11:19.000000000",
          "2025-03-11T12:46:55.000000000",
          "2025-03-11T21:06:16.000000000",
          "2025-03-12T13:15:24.000000000",
          "2025-03-12T16:04:02.000000000",
          "2025-03-12T20:30:44.000000000",
          "2025-03-13T10:07:57.000000000",
          "2025-03-13T21:45:02.000000000",
          "2025-03-14T12:11:07.000000000",
          "2025-03-14T14:12:15.000000000",
          "2025-03-15T16:05:01.000000000"
         ],
         "hovertemplate": "ID: respondent_2<br>DateTime: %{customdata}<br>weekday_num: %{x:.2f}<br>Score: %{y:.2f}<br>Pearson r: 0.550<br>Spearman r: 0.607<br>Kendall τ: 0.453<br>DCOR: 0.587",
         "legendgroup": "respondent_2",
         "marker": {
          "color": "#00FF00",
          "opacity": 0.8,
          "size": 8
         },
         "mode": "markers",
         "name": "ID: respondent_2",
         "showlegend": true,
         "type": "scatter",
         "x": {
          "bdata": "AAAAAAAAAAAAAAAAAAAAAAEAAAABAAAAAQAAAAIAAAACAAAAAgAAAAMAAAADAAAABAAAAAQAAAAFAAAA",
          "dtype": "i4"
         },
         "xaxis": "x",
         "y": {
          "bdata": "DwsQFA8MFhMUFQwZFhcW",
          "dtype": "i1"
         },
         "yaxis": "y"
        },
        {
         "hovertemplate": "ID: respondent_2<br>Pearson r: 0.550<br>Spearman r: 0.607<br>Kendall τ: 0.453<br>DCOR: 0.587",
         "legendgroup": "respondent_2",
         "line": {
          "color": "#00FF00",
          "dash": "dash",
          "width": 2
         },
         "mode": "lines",
         "name": "Trend respondent_2",
         "showlegend": false,
         "type": "scatter",
         "x": {
          "bdata": "AAAAAAAAAAAxb2dIzNupPzFvZ0jM27k/ZZNNNtlkwz8xb2dIzNvJP3+lQK1fKdA/ZZNNNtlk0z9LgVq/UqDWPzFvZ0jM29k/F1100UUX3T9/pUCtXyngP3Icx3Ecx+E/ZZNNNtlk4z9YCtT6lQLlP0uBWr9SoOY/Pvjggw8+6D8xb2dIzNvpPyTm7QyJees/F1100UUX7T8K1PqVArXuP3+lQK1fKfA/+OCDDz748D9yHMdxHMfxP+tXCtT6lfI/ZZNNNtlk8z/ezpCYtzP0P1gK1PqVAvU/0UUXXXTR9T9LgVq/UqD2P8S8nSExb/c/Pvjggw8++D+3MyTm7Qz5PzFvZ0jM2/k/q6qqqqqq+j8k5u0MiXn7P54hMW9nSPw/F1100UUX/T+RmLczJOb9PwrU+pUCtf4/hA8++OCD/z9/pUCtXykAQDtDYt7OkABA+OCDDz74AEC1fqVArV8BQHIcx3EcxwFALrrooosuAkDrVwrU+pUCQKj1KwVq/QJAZZNNNtlkA0AiMW9nSMwDQN7OkJi3MwRAm2yyySabBEBYCtT6lQIFQBWo9SsFagVA0UUXXXTRBUCO4ziO4zgGQEuBWr9SoAZACB988MEHB0DEvJ0hMW8HQIFav1Kg1gdAPvjggw8+CED7lQK1fqUIQLczJObtDAlAdNFFF110CUAxb2dIzNsJQO4MiXk7QwpAq6qqqqqqCkBnSMzbGRILQCTm7QyJeQtA4YMPPvjgC0CeITFvZ0gMQFq/UqDWrwxAF1100UUXDUDU+pUCtX4NQJGYtzMk5g1ATTbZZJNNDkAK1PqVArUOQMdxHMdxHA9AhA8++OCDD0BArV8pUOsPQH+lQK1fKRBAXXTRRRddEEA7Q2LezpAQQBoS83aGxBBA+OCDDz74EEDXrxSo9SsRQLV+pUCtXxFAk0022WSTEUByHMdxHMcRQFDrVwrU+hFALrrooosuEkANiXk7Q2ISQOtXCtT6lRJAyiabbLLJEkCo9SsFav0SQIbEvJ0hMRNAZZNNNtlkE0BDYt7OkJgTQCIxb2dIzBNAAAAAAAAAFEA=",
          "dtype": "f8"
         },
         "xaxis": "x",
         "y": {
          "bdata": "hgShymAPL0DbsiovNjYvQC9htJMLXS9AhA8++OCDL0DZvcdctqovQC1sUcGL0S9AghrbJWH4L0BrZDJFmw8wQJY7d/cFIzBAwBK8qXA2MEDq6QBc20kwQBXBRQ5GXTBAP5iKwLBwMEBpb89yG4QwQJRGFCWGlzBAvh1Z1/CqMEDo9J2JW74wQBPM4jvG0TBAPaMn7jDlMEBnemygm/gwQJJRsVIGDDFAvCj2BHEfMUDm/zq32zIxQBHXf2lGRjFAO67EG7FZMUBlhQnOG20xQJBcToCGgDFAujOTMvGTMUDkCtjkW6cxQA7iHJfGujFAOblhSTHOMUBjkKb7m+ExQI5n660G9TFAuD4wYHEIMkDiFXUS3BsyQA3tucRGLzJAN8T+drFCMkBhm0MpHFYyQIxyiNuGaTJAtknNjfF8MkDgIBJAXJAyQAr4VvLGozJANc+bpDG3MkBfpuBWnMoyQIp9JQkH3jJAtFRqu3HxMkDeK69t3AQzQAgD9B9HGDNAM9o40rErM0BdsX2EHD8zQIeIwjaHUjNAsl8H6fFlM0DcNkybXHkzQAYOkU3HjDNAMeXV/zGgM0BbvBqynLMzQIaTX2QHxzNAsGqkFnLaM0DaQenI3O0zQAQZLntHATRAL/ByLbIUNEBZx7ffHCg0QIOe/JGHOzRArnVBRPJONEDYTIb2XGI0QAIky6jHdTRALfsPWzKJNEBX0lQNnZw0QIKpmb8HsDRArIDecXLDNEDWVyMk3dY0QAAvaNZH6jRAKwatiLL9NEBV3fE6HRE1QIC0Nu2HJDVAqot7n/I3NUDUYsBRXUs1QP45BQTIXjVAKRFKtjJyNUBT6I5onYU1QH6/0xoImTVAqJYYzXKsNUDSbV1/3b81QPxEojFI0zVAJxzn47LmNUBR8yuWHfo1QHzKcEiIDTZApqG1+vIgNkDQePqsXTQ2QPpPP1/IRzZAJCeEETNbNkBP/sjDnW42QHnVDXYIgjZApKxSKHOVNkDOg5fa3ag2QPha3IxIvDZAIzIhP7PPNkBNCWbxHeM2QHjgqqOI9jZAorfvVfMJN0A=",
          "dtype": "f8"
         },
         "yaxis": "y"
        },
        {
         "customdata": [
          "2025-03-11T07:27:25.000000000",
          "2025-03-12T15:46:20.000000000",
          "2025-03-13T09:44:33.000000000",
          "2025-03-17T13:17:20.000000000",
          "2025-03-17T13:23:49.000000000",
          "2025-03-17T21:08:52.000000000",
          "2025-03-19T07:48:21.000000000",
          "2025-03-24T20:28:12.000000000"
         ],
         "hovertemplate": "ID: respondent_3<br>DateTime: %{customdata}<br>weekday_num: %{x:.2f}<br>Score: %{y:.2f}<br>Pearson r: 0.412<br>Spearman r: 0.472<br>Kendall τ: 0.371<br>DCOR: 0.498",
         "legendgroup": "respondent_3",
         "marker": {
          "color": "#0000FF",
          "opacity": 0.8,
          "size": 8
         },
         "mode": "markers",
         "name": "ID: respondent_3",
         "showlegend": true,
         "type": "scatter",
         "x": {
          "bdata": "AQAAAAIAAAADAAAAAAAAAAAAAAAAAAAAAgAAAAAAAAA=",
          "dtype": "i4"
         },
         "xaxis": "x",
         "y": {
          "bdata": "HQkZAwsUHhU=",
          "dtype": "i1"
         },
         "yaxis": "y"
        },
        {
         "hovertemplate": "ID: respondent_3<br>Pearson r: 0.412<br>Spearman r: 0.472<br>Kendall τ: 0.371<br>DCOR: 0.498",
         "legendgroup": "respondent_3",
         "line": {
          "color": "#0000FF",
          "dash": "dash",
          "width": 2
         },
         "mode": "lines",
         "name": "Trend respondent_3",
         "showlegend": false,
         "type": "scatter",
         "x": {
          "bdata": "AAAAAAAAAAAIH3zwwQefPwgffPDBB68/RhdddNFFtz8IH3zwwQe/P2WTTTbZZMM/RhdddNFFxz8nm2yyySbLPwgffPDBB88/dNFFF1100T9lk0022WTTP1ZVVVVVVdU/RhdddNFF1z822WSTTTbZPyebbLLJJts/GF100UUX3T8IH3zwwQffP3zwwQcffOA/dNFFF1104T9tsskmm2ziP2WTTTbZZOM/XXTRRRdd5D9WVVVVVVXlP0422WSTTeY/RhdddNFF5z8++OCDDz7oPzbZZJNNNuk/L7rooosu6j8nm2yyySbrPx988MEHH+w/GF100UUX7T8QPvjggw/uPwgffPDBB+8/AAAAAAAA8D988MEHH3zwP/jggw8++PA/dNFFF1108T/xwQcffPDxP22yySabbPI/6aKLLrro8j9lk0022WTzP+GDDz744PM/XXTRRRdd9D/ZZJNNNtn0P1ZVVVVVVfU/0kUXXXTR9T9ONtlkk032P8omm2yyyfY/RhdddNFF9z/CBx988MH3Pz744IMPPvg/uuiiiy66+D822WSTTTb5P7PJJptssvk/L7rooosu+j+rqqqqqqr6PyebbLLJJvs/o4suuuii+z8ffPDBBx/8P5tssskmm/w/GF100UUX/T+UTTbZZJP9PxA++OCDD/4/jC666KKL/j8IH3zwwQf/P4QPPvjgg/8/AAAAAAAAAEA++OCDDz4AQHzwwQcffABAuuiiiy66AED44IMPPvgAQDbZZJNNNgFAdNFFF110AUCzySabbLIBQPHBBx988AFAL7rooosuAkBtsskmm2wCQKuqqqqqqgJA6aKLLrroAkAnm2yyySYDQGWTTTbZZANAo4suuuiiA0Dhgw8++OADQB988MEHHwRAXXTRRRddBECbbLLJJpsEQNlkk0022QRAF1100UUXBUBWVVVVVVUFQJRNNtlkkwVA0kUXXXTRBUAQPvjggw8GQE422WSTTQZAjC666KKLBkDKJptssskGQAgffPDBBwdARhdddNFFB0CEDz744IMHQMIHH3zwwQdAAAAAAAAACEA=",
          "dtype": "f8"
         },
         "xaxis": "x",
         "y": {
          "bdata": "MjMzMzMzLkBnOX+W82cuQJw/y/mznC5A0EUXXXTRLkAFTGPANAYvQDpSryP1Oi9Ab1j7hrVvL0CjXkfqdaQvQNhkk0022S9AhrVvWPsGMEChuBWKWyEwQLu7u7u7OzBA1r5h7RtWMEDwwQcffHAwQArFrVDcijBAJchTgjylMEA/y/mznL8wQFrOn+X82TBAdNFFF130MECO1OtIvQ4xQKnXkXodKTFAw9o3rH1DMUDe3d3d3V0xQPjggw8+eDFAEuQpQZ6SMUAt589y/qwxQEfqdaRexzFAYu0b1r7hMUB88MEHH/wxQJbzZzl/FjJAsfYNa98wMkDL+bOcP0syQOX8Wc6fZTJAAAAAAACAMkAaA6YxYJoyQDQGTGPAtDJATwnylCDPMkBpDJjGgOkyQIQPPvjgAzNAnhLkKUEeM0C4FYpboTgzQNMYMI0BUzNA7RvWvmFtM0AIH3zwwYczQCIiIiIiojNAPCXIU4K8M0BXKG6F4tYzQHErFLdC8TNAjC666KILNECmMWAaAyY0QMA0BkxjQDRA2zesfcNaNED1OlKvI3U0QBA++OCDjzRAKkGeEuSpNEBERERERMQ0QF9H6nWk3jRAeUqQpwT5NECUTTbZZBM1QK5Q3ArFLTVAyFOCPCVINUDjVihuhWI1QP1Zzp/lfDVAGF100UWXNUAyYBoDprE1QExjwDQGzDVAZmZmZmbmNUCBaQyYxgA2QJtssskmGzZAtm9Y+4Y1NkDQcv4s5082QOp1pF5HajZABXlKkKeENkAgfPDBB582QDp/lvNnuTZAVII8JcjTNkBuheJWKO42QImIiIiICDdApIsuuugiN0C+jtTrSD03QNiReh2pVzdA8pQgTwlyN0AMmMaAaYw3QCebbLLJpjdAQp4S5CnBN0BcobgVits3QHakXkfq9TdAkKcEeUoQOECsqqqqqio4QMatUNwKRThA4LD2DWtfOED6s5w/y3k4QBS3QnErlDhAL7rooouuOEBKvY7U68g4QGTANAZM4zhAfsPaN6z9OECYxoBpDBg5QLPJJptsMjlAzczMzMxMOUA=",
          "dtype": "f8"
         },
         "yaxis": "y"
        },
        {
         "customdata": [
          "2025-02-21T00:01:35.000000000",
          "2025-02-22T09:32:19.000000000",
          "2025-02-23T01:11:41.000000000",
          "2025-02-23T10:27:07.000000000",
          "2025-02-23T23:00:47.000000000",
          "2025-02-24T10:30:34.000000000",
          "2025-02-25T00:41:09.000000000",
          "2025-02-25T10:30:51.000000000",
          "2025-02-25T22:18:41.000000000",
          "2025-02-26T12:05:35.000000000",
          "2025-02-26T22:16:33.000000000",
          "2025-02-27T08:25:25.000000000",
          "2025-03-03T10:20:24.000000000",
          "2025-03-08T09:46:41.000000000",
          "2025-03-08T22:45:03.000000000",
          "2025-03-09T13:15:30.000000000",
          "2025-03-09T23:02:26.000000000",
          "2025-03-10T10:10:48.000000000",
          "2025-03-10T12:22:53.000000000",
          "2025-03-10T15:47:07.000000000",
          "2025-03-10T22:37:35.000000000",
          "2025-03-11T10:14:17.000000000",
          "2025-03-11T12:17:35.000000000",
          "2025-03-11T14:18:40.000000000",
          "2025-03-11T23:49:20.000000000",
          "2025-03-12T10:12:40.000000000",
          "2025-03-12T23:28:22.000000000",
          "2025-03-13T09:59:37.000000000",
          "2025-03-13T15:01:10.000000000",
          "2025-03-13T18:34:42.000000000",
          "2025-03-14T00:10:40.000000000",
          "2025-03-14T10:12:54.000000000",
          "2025-03-14T13:30:29.000000000",
          "2025-03-14T22:27:42.000000000",
          "2025-03-15T16:05:27.000000000",
          "2025-03-16T00:58:47.000000000"
         ],
         "hovertemplate": "ID: respondent_4<br>DateTime: %{customdata}<br>weekday_num: %{x:.2f}<br>Score: %{y:.2f}<br>Pearson r: 0.113<br>Spearman r: 0.184<br>Kendall τ: 0.128<br>DCOR: 0.198",
         "legendgroup": "respondent_4",
         "marker": {
          "color": "#FF00FF",
          "opacity": 0.8,
          "size": 8
         },
         "mode": "markers",
         "name": "ID: respondent_4",
         "showlegend": true,
         "type": "scatter",
         "x": {
          "bdata": "BAAAAAUAAAAGAAAABgAAAAYAAAAAAAAAAQAAAAEAAAABAAAAAgAAAAIAAAADAAAAAAAAAAUAAAAFAAAABgAAAAYAAAAAAAAAAAAAAAAAAAAAAAAAAQAAAAEAAAABAAAAAQAAAAIAAAACAAAAAwAAAAMAAAADAAAABAAAAAQAAAAEAAAABAAAAAUAAAAGAAAA",
          "dtype": "i4"
         },
         "xaxis": "x",
         "y": {
          "bdata": "FQITAhUNHgohAxgDAwMeDRwBAQIYAgEHGQQcAQMFEwMEHwQM",
          "dtype": "i1"
         },
         "yaxis": "y"
        },
        {
         "hovertemplate": "ID: respondent_4<br>Pearson r: 0.113<br>Spearman r: 0.184<br>Kendall τ: 0.128<br>DCOR: 0.198",
         "legendgroup": "respondent_4",
         "line": {
          "color": "#FF00FF",
          "dash": "dash",
          "width": 2
         },
         "mode": "lines",
         "name": "Trend respondent_4",
         "showlegend": false,
         "type": "scatter",
         "x": {
          "bdata": "AAAAAAAAAAAIH3zwwQevPwgffPDBB78/RhdddNFFxz8IH3zwwQfPP2WTTTbZZNM/RhdddNFF1z8nm2yyySbbPwgffPDBB98/dNFFF1104T9lk0022WTjP1ZVVVVVVeU/RhdddNFF5z822WSTTTbpPyebbLLJJus/GF100UUX7T8IH3zwwQfvP3zwwQcffPA/dNFFF1108T9tsskmm2zyP2WTTTbZZPM/XXTRRRdd9D9WVVVVVVX1P0422WSTTfY/RhdddNFF9z8++OCDDz74PzbZZJNNNvk/L7rooosu+j8nm2yyySb7Px988MEHH/w/GF100UUX/T8QPvjggw/+PwgffPDBB/8/AAAAAAAAAEB88MEHH3wAQPjggw8++ABAdNFFF110AUDxwQcffPABQG2yySabbAJA6aKLLrroAkBlk0022WQDQOGDDz744ANAXXTRRRddBEDZZJNNNtkEQFZVVVVVVQVA0kUXXXTRBUBONtlkk00GQMomm2yyyQZARhdddNFFB0DCBx988MEHQD744IMPPghAuuiiiy66CEA22WSTTTYJQLPJJptssglAL7rooosuCkCrqqqqqqoKQCebbLLJJgtAo4suuuiiC0AffPDBBx8MQJtssskmmwxAGF100UUXDUCUTTbZZJMNQBA++OCDDw5AjC666KKLDkAIH3zwwQcPQIQPPvjggw9AAAAAAAAAEEA++OCDDz4QQHzwwQcffBBAuuiiiy66EED44IMPPvgQQDbZZJNNNhFAdNFFF110EUCzySabbLIRQPHBBx988BFAL7rooosuEkBtsskmm2wSQKuqqqqqqhJA6aKLLrroEkAnm2yyySYTQGWTTTbZZBNAo4suuuiiE0Dhgw8++OATQB988MEHHxRAXXTRRRddFECbbLLJJpsUQNlkk0022RRAF1100UUXFUBWVVVVVVUVQJRNNtlkkxVA0kUXXXTRFUAQPvjggw8WQE422WSTTRZAjC666KKLFkDKJptssskWQAgffPDBBxdARhdddNFFF0CEDz744IMXQMIHH3zwwRdAAAAAAAAAGEA=",
          "dtype": "f8"
         },
         "xaxis": "x",
         "y": {
          "bdata": "QkHjl+DLJEA0F39NJ94kQCftGgNu8CRAGcO2uLQCJUAMmVJu+xQlQP5u7iNCJyVA8ESK2Yg5JUDjGiaPz0slQNXwwUQWXiVAyMZd+lxwJUC6nPmvo4IlQK1ylWXqlCVAn0gxGzGnJUCRHs3Qd7klQIT0aIa+yyVAdsoEPAXeJUBpoKDxS/AlQFt2PKeSAiZATkzYXNkUJkBAInQSICcmQDL4D8hmOSZAJc6rfa1LJkAXpEcz9F0mQAp64+g6cCZA/E9/noGCJkDuJRtUyJQmQOH7tgkPpyZA09FSv1W5JkDGp+50nMsmQLh9iirj3SZAqlMm4CnwJkCdKcKVcAInQI//XUu3FCdAgtX5AP4mJ0B0q5W2RDknQGaBMWyLSydAWVfNIdJdJ0BMLWnXGHAnQD4DBY1fgidAMNmgQqaUJ0Ajrzz47KYnQBWF2K0zuSdACFt0Y3rLJ0D6MBAZwd0nQOwGrM4H8CdA39xHhE4CKEDRsuM5lRQoQMSIf+/bJihAtl4bpSI5KECoNLdaaUsoQJsKUxCwXShAjeDuxfZvKECAtop7PYIoQHKMJjGElChAZWLC5sqmKEBXOF6cEbkoQEkO+lFYyyhAPOSVB5/dKEAuujG95e8oQCCQzXIsAilAE2ZpKHMUKUAGPAXeuSYpQPgRoZMAOSlA6uc8SUdLKUDdvdj+jV0pQM+TdLTUbylAwmkQahuCKUC0P6wfYpQpQKYVSNWopilAmevjiu+4KUCLwX9ANsspQH6XG/Z83SlAcG23q8PvKUBiQ1NhCgIqQFUZ7xZRFCpASO+KzJcmKkA6xSaC3jgqQCybwjclSypAHnFe7WtdKkARR/qism8qQAQdllj5gSpA9vIxDkCUKkDoyM3DhqYqQNqeaXnNuCpAzXQFLxTLKkC/SqHkWt0qQLIgPZqh7ypApPbYT+gBK0CXzHQFLxQrQImiELt1JitAfHiscLw4K0BuTkgmA0srQGAk5NtJXStAU/p/kZBvK0BF0BtH14ErQDimt/wdlCtAKnxTsmSmK0AcUu9nq7grQA8oix3yyitAAf4m0zjdK0A=",
          "dtype": "f8"
         },
         "yaxis": "y"
        },
        {
         "customdata": [
          "2025-03-10T10:09:26.000000000",
          "2025-03-10T15:39:44.000000000",
          "2025-03-10T19:27:25.000000000",
          "2025-03-10T20:39:20.000000000",
          "2025-03-11T08:55:58.000000000",
          "2025-03-11T17:38:58.000000000",
          "2025-03-12T08:48:30.000000000",
          "2025-03-12T16:04:18.000000000",
          "2025-03-12T20:38:30.000000000",
          "2025-03-13T09:20:31.000000000",
          "2025-03-13T12:26:28.000000000",
          "2025-03-13T14:17:22.000000000",
          "2025-03-13T22:48:59.000000000",
          "2025-03-14T13:41:47.000000000",
          "2025-03-14T15:19:17.000000000",
          "2025-03-15T17:17:19.000000000"
         ],
         "hovertemplate": "ID: respondent_1<br>DateTime: %{customdata}<br>hour: %{x:.2f}<br>Score: %{y:.2f}<br>Pearson r: 0.508<br>Spearman r: 0.528<br>Kendall τ: 0.398<br>DCOR: 0.559",
         "legendgroup": "respondent_1",
         "marker": {
          "color": "#FF0000",
          "opacity": 0.8,
          "size": 8
         },
         "mode": "markers",
         "name": "ID: respondent_1",
         "showlegend": false,
         "type": "scatter",
         "x": {
          "bdata": "Cg8TFAgRCBAUCQwOFg0PEQ==",
          "dtype": "i1"
         },
         "xaxis": "x2",
         "y": {
          "bdata": "DwkZHgYZBhMPDhwXEwMEHA==",
          "dtype": "i1"
         },
         "yaxis": "y2"
        },
        {
         "hovertemplate": "ID: respondent_1<br>Pearson r: 0.508<br>Spearman r: 0.528<br>Kendall τ: 0.398<br>DCOR: 0.559",
         "legendgroup": "respondent_1",
         "line": {
          "color": "#FF0000",
          "dash": "dash",
          "width": 2
         },
         "mode": "lines",
         "name": "Trend respondent_1",
         "showlegend": false,
         "type": "scatter",
         "x": {
          "bdata": "AAAAAAAAIECeITFvZ0ggQDtDYt7OkCBA2WSTTTbZIEB3hsS8nSEhQBWo9SsFaiFAsskmm2yyIUBQ61cK1PohQO4MiXk7QyJAjC666KKLIkApUOtXCtQiQMdxHMdxHCNAZZNNNtlkI0ACtX6lQK0jQKDWrxSo9SNAPvjggw8+JEDcGRLzdoYkQHo7Q2LeziRAF1100UUXJUC1fqVArV8lQFOg1q8UqCVA8MEHH3zwJUCO4ziO4zgmQCwFav1KgSZAyiabbLLJJkBnSMzbGRInQAVq/UqBWidAo4suuuiiJ0BArV8pUOsnQN7OkJi3MyhAfPDBBx98KEAaEvN2hsQoQLgzJObtDClAVVVVVVVVKUDzdobEvJ0pQJCYtzMk5ilALrrooosuKkDM2xkS83YqQGr9SoFavypACB988MEHK0CmQK1fKVArQENi3s6QmCtA4YMPPvjgK0B+pUCtXyksQBzHcRzHcSxAuuiiiy66LEBYCtT6lQItQPYrBWr9Si1Ak0022WSTLUAxb2dIzNstQM6QmLczJC5AbLLJJptsLkAK1PqVArUuQKj1KwVq/S5ARhdddNFFL0DkOI7jOI4vQIFav1Kg1i9AED744IMPMEDezpCYtzMwQK1fKVDrVzBAfPDBBx98MEBLgVq/UqAwQBoS83aGxDBA6KKLLrroMEC4MyTm7QwxQIbEvJ0hMTFAVVVVVVVVMUAk5u0MiXkxQPN2hsS8nTFAwgcffPDBMUCQmLczJOYxQGApUOtXCjJALrrooosuMkD+SoFav1IyQMzbGRLzdjJAm2yyySabMkBq/UqBWr8yQDmO4ziO4zJACB988MEHM0DWrxSo9SszQKZArV8pUDNAdNFFF110M0BDYt7OkJgzQBLzdobEvDNA4YMPPvjgM0CwFKj1KwU0QH6lQK1fKTRATjbZZJNNNEAcx3Ecx3E0QOtXCtT6lTRAuuiiiy66NECJeTtDYt40QFgK1PqVAjVAJptssskmNUD2KwVq/Uo1QMS8nSExbzVAk0022WSTNUBi3s6QmLc1QDFvZ0jM2zVAAAAAAAAANkA=",
          "dtype": "f8"
         },
         "xaxis": "x2",
         "y": {
          "bdata": "DoEXoumKI0BG4wZdJdcjQHxF9hdhIyRAtKfl0pxvJEDrCdWN2LskQCNsxEgUCCVAWs6zA1BUJUCRMKO+i6AlQMmSknnH7CVAAPWBNAM5JkA3V3HvPoUmQG+5YKp60SZAphtQZbYdJ0DdfT8g8mknQBTgLtsttidATEIelmkCKECEpA1RpU4oQLsG/QvhmihA8mjsxhznKEAqy9uBWDMpQGEtyzyUfylAmI+698/LKUDP8amyCxgqQAdUmW1HZCpAP7aIKIOwKkB1GHjjvvwqQK16Z576SCtA5NxWWTaVK0AbP0YUcuErQFOhNc+tLSxAigMliul5LEDCZRRFJcYsQPnHAwBhEi1AMCrzupxeLUBojOJ12KotQJ7u0TAU9y1A1lDB609DLkANs7Cmi48uQEUVoGHH2y5AfXePHAMoL0C02X7XPnQvQOs7bpJ6wC9AEc+uJlsGMEAsgCYEeSwwQEgxnuGWUjBAZOIVv7R4MECAk42c0p4wQJxEBXrwxDBAt/V8Vw7rMEDTpvQ0LBExQO5XbBJKNzFACgnk72ddMUAmulvNhYMxQEJr06qjqTFAXRxLiMHPMUB5zcJl3/UxQJR+OkP9GzJAsS+yIBtCMkDM4Cn+OGgyQOeRodtWjjJAA0MZuXS0MkAf9JCWktoyQDulCHSwADNAVlaAUc4mM0ByB/gu7EwzQI24bwwKczNAqWnn6SeZM0DFGl/HRb8zQOHL1qRj5TNA/HxOgoELNEAXLsZfnzE0QDTfPT29VzRAT5C1Gtt9NEBsQS34+KM0QIbypNUWyjRAoqMcszTwNEC+VJSQUhY1QNoFDG5wPDVA9raDS45iNUAQaPsorIg1QC0ZcwbKrjVASMrq4+fUNUBke2LBBfs1QIAs2p4jITZAm91RfEFHNkC3jslZX202QNI/QTd9kzZA7/C4FJu5NkAKojDyuN82QCVTqM/WBTdAQQQgrfQrN0BdtZeKElI3QHlmD2gweDdAlBeHRU6eN0CxyP4ibMQ3QMt5dgCK6jdA5yru3acQOEAD3GW7xTY4QB+N3ZjjXDhAOz5VdgGDOEA=",
          "dtype": "f8"
         },
         "yaxis": "y2"
        },
        {
         "customdata": [
          "2025-03-10T10:16:41.000000000",
          "2025-03-10T12:36:03.000000000",
          "2025-03-10T15:32:56.000000000",
          "2025-03-10T19:32:40.000000000",
          "2025-03-11T11:11:19.000000000",
          "2025-03-11T12:46:55.000000000",
          "2025-03-11T21:06:16.000000000",
          "2025-03-12T13:15:24.000000000",
          "2025-03-12T16:04:02.000000000",
          "2025-03-12T20:30:44.000000000",
          "2025-03-13T10:07:57.000000000",
          "2025-03-13T21:45:02.000000000",
          "2025-03-14T12:11:07.000000000",
          "2025-03-14T14:12:15.000000000",
          "2025-03-15T16:05:01.000000000"
         ],
         "hovertemplate": "ID: respondent_2<br>DateTime: %{customdata}<br>hour: %{x:.2f}<br>Score: %{y:.2f}<br>Pearson r: 0.708<br>Spearman r: 0.706<br>Kendall τ: 0.556<br>DCOR: 0.706",
         "legendgroup": "respondent_2",
         "marker": {
          "color": "#00FF00",
          "opacity": 0.8,
          "size": 8
         },
         "mode": "markers",
         "name": "ID: respondent_2",
         "showlegend": false,
         "type": "scatter",
         "x": {
          "bdata": "CgwPEwsMFQ0QFAoVDA4Q",
          "dtype": "i1"
         },
         "xaxis": "x2",
         "y": {
          "bdata": "DwsQFA8MFhMUFQwZFhcW",
          "dtype": "i1"
         },
         "yaxis": "y2"
        },
        {
         "hovertemplate": "ID: respondent_2<br>Pearson r: 0.708<br>Spearman r: 0.706<br>Kendall τ: 0.556<br>DCOR: 0.706",
         "legendgroup": "respondent_2",
         "line": {
          "color": "#00FF00",
          "dash": "dash",
          "width": 2
         },
         "mode": "lines",
         "name": "Trend respondent_2",
         "showlegend": false,
         "type": "scatter",
         "x": {
          "bdata": "AAAAAAAAJECO4ziO4zgkQBzHcRzHcSRAq6qqqqqqJEA5juM4juMkQMdxHMdxHCVAVVVVVVVVJUDkOI7jOI4lQHIcx3EcxyVAAAAAAAAAJkCO4ziO4zgmQBzHcRzHcSZAq6qqqqqqJkA5juM4juMmQMdxHMdxHCdAVVVVVVVVJ0DkOI7jOI4nQHIcx3EcxydAAAAAAAAAKECO4ziO4zgoQBzHcRzHcShAqqqqqqqqKEA5juM4juMoQMdxHMdxHClAVVVVVVVVKUDkOI7jOI4pQHIcx3EcxylAAAAAAAAAKkCO4ziO4zgqQBzHcRzHcSpAqqqqqqqqKkA5juM4juMqQMdxHMdxHCtAVVVVVVVVK0DkOI7jOI4rQHIcx3EcxytAAAAAAAAALECO4ziO4zgsQBzHcRzHcSxAqqqqqqqqLEA5juM4juMsQMdxHMdxHC1AVVVVVVVVLUDkOI7jOI4tQHIcx3Ecxy1AAAAAAAAALkCO4ziO4zguQBzHcRzHcS5AqqqqqqqqLkA4juM4juMuQMdxHMdxHC9AVVVVVVVVL0DkOI7jOI4vQHIcx3Ecxy9AAAAAAAAAMEDHcRzHcRwwQI7jOI7jODBAVVVVVVVVMEAcx3Ecx3EwQOQ4juM4jjBAqqqqqqqqMEByHMdxHMcwQDmO4ziO4zBAAAAAAAAAMUDHcRzHcRwxQI7jOI7jODFAVVVVVVVVMUAcx3Ecx3ExQOQ4juM4jjFAqqqqqqqqMUByHMdxHMcxQDmO4ziO4zFAAAAAAAAAMkDHcRzHcRwyQI7jOI7jODJAVVVVVVVVMkAcx3Ecx3EyQOQ4juM4jjJAqqqqqqqqMkByHMdxHMcyQDmO4ziO4zJAAAAAAAAAM0DHcRzHcRwzQI7jOI7jODNAVVVVVVVVM0Acx3Ecx3EzQOQ4juM4jjNAqqqqqqqqM0ByHMdxHMczQDiO4ziO4zNAAAAAAAAANEDHcRzHcRw0QI7jOI7jODRAVVVVVVVVNEAcx3Ecx3E0QOQ4juM4jjRAqqqqqqqqNEByHMdxHMc0QDiO4ziO4zRAAAAAAAAANUA=",
          "dtype": "f8"
         },
         "xaxis": "x2",
         "y": {
          "bdata": "Zjip+/LYLEBXg0QDSQctQEfO3wqfNS1AORl7EvVjLUAqZBYaS5ItQBuvsSGhwC1AC/pMKffuLUD9ROgwTR0uQO6PgzijSy5A39oeQPl5LkDPJbpHT6guQMBwVU+l1i5AsrvwVvsEL0CjBoxeUTMvQJNRJ2anYS9AhJzCbf2PL0B25111U74vQGYy+Xyp7C9ArD5Kwn8NMEAk5BfGqiQwQJyJ5cnVOzBAFS+zzQBTMECO1IDRK2owQAZ6TtVWgTBAfh8c2YGYMED3xOncrK8wQHBqt+DXxjBA6A+F5ALeMEBgtVLoLfUwQNlaIOxYDDFAUQDu74MjMUDKpbvzrjoxQEJLiffZUTFAuvBW+wRpMUA0liT/L4AxQKw78gJblzFAJOG/BoauMUCcho0KscUxQBUsWw7c3DFAjtEoEgf0MUAGd/YVMgsyQH4cxBldIjJA98GRHYg5MkBwZ18hs1AyQOgMLSXeZzJAYLL6KAl/MkDZV8gsNJYyQFL9lTBfrTJAyqJjNIrEMkBCSDE4tdsyQLvt/jvg8jJANJPMPwsKM0CsOJpDNiEzQCTeZ0dhODNAnYM1S4xPM0AWKQNPt2YzQI7O0FLifTNABnSeVg2VM0B+GWxaOKwzQPi+OV5jwzNAcGQHYo7aM0DoCdVlufEzQGGvomnkCDRA2lRwbQ8gNEBS+j1xOjc0QMqfC3VlTjRAQkXZeJBlNEC76qZ8u3w0QDSQdIDmkzRArDVChBGrNEAl2w+IPMI0QJ6A3Ytn2TRAFiarj5LwNECOy3iTvQc1QAZxRpfoHjVAfxYUmxM2NUD4u+GePk01QHBhr6JpZDVA6AZ9ppR7NUBhrEqqv5I1QNpRGK7qqTVAUvflsRXBNUDKnLO1QNg1QENCgblr7zVAu+dOvZYGNkA0jRzBwR02QK0y6sTsNDZAJNi3yBdMNkCefYXMQmM2QBYjU9BtejZAjsgg1JiRNkAGbu7Xw6g2QIATvNvuvzZA+LiJ3xnXNkBwXlfjRO42QOoDJedvBTdAYKny6pocN0DaTsDuxTM3QFL0jfLwSjdAyplb9htiN0A=",
          "dtype": "f8"
         },
         "yaxis": "y2"
        },
        {
         "customdata": [
          "2025-03-11T07:27:25.000000000",
          "2025-03-12T15:46:20.000000000",
          "2025-03-13T09:44:33.000000000",
          "2025-03-17T13:17:20.000000000",
          "2025-03-17T13:23:49.000000000",
          "2025-03-17T21:08:52.000000000",
          "2025-03-19T07:48:21.000000000",
          "2025-03-24T20:28:12.000000000"
         ],
         "hovertemplate": "ID: respondent_3<br>DateTime: %{customdata}<br>hour: %{x:.2f}<br>Score: %{y:.2f}<br>Pearson r: -0.395<br>Spearman r: -0.590<br>Kendall τ: -0.445<br>DCOR: 0.751",
         "legendgroup": "respondent_3",
         "marker": {
          "color": "#0000FF",
          "opacity": 0.8,
          "size": 8
         },
         "mode": "markers",
         "name": "ID: respondent_3",
         "showlegend": false,
         "type": "scatter",
         "x": {
          "bdata": "Bw8JDQ0VBxQ=",
          "dtype": "i1"
         },
         "xaxis": "x2",
         "y": {
          "bdata": "HQkZAwsUHhU=",
          "dtype": "i1"
         },
         "yaxis": "y2"
        },
        {
         "hovertemplate": "ID: respondent_3<br>Pearson r: -0.395<br>Spearman r: -0.590<br>Kendall τ: -0.445<br>DCOR: 0.751",
         "legendgroup": "respondent_3",
         "line": {
          "color": "#0000FF",
          "dash": "dash",
          "width": 2
         },
         "mode": "lines",
         "name": "Trend respondent_3",
         "showlegend": false,
         "type": "scatter",
         "x": {
          "bdata": "AAAAAAAAHEA7Q2LezpAcQHeGxLydIR1Asskmm2yyHUDuDIl5O0MeQClQ61cK1B5AZZNNNtlkH0Cg1q8UqPUfQO4MiXk7QyBAjC666KKLIEApUOtXCtQgQMdxHMdxHCFAZZNNNtlkIUACtX6lQK0hQKDWrxSo9SFAPvjggw8+IkDcGRLzdoYiQHo7Q2LeziJAF1100UUXI0C1fqVArV8jQFOg1q8UqCNA8MEHH3zwI0CO4ziO4zgkQCwFav1KgSRAyiabbLLJJEBnSMzbGRIlQAVq/UqBWiVAo4suuuiiJUBArV8pUOslQN7OkJi3MyZAfPDBBx98JkAaEvN2hsQmQLgzJObtDCdAVVVVVVVVJ0DzdobEvJ0nQJCYtzMk5idALrrooosuKEDM2xkS83YoQGr9SoFavyhACB988MEHKUCmQK1fKVApQENi3s6QmClA4YMPPvjgKUB+pUCtXykqQBzHcRzHcSpAuuiiiy66KkBYCtT6lQIrQPYrBWr9SitAk0022WSTK0Axb2dIzNsrQM6QmLczJCxAbLLJJptsLEAK1PqVArUsQKj1KwVq/SxARhdddNFFLUDkOI7jOI4tQIFav1Kg1i1AH3zwwQcfLkC9nSExb2cuQFq/UqDWry5A+OCDDz74LkCWArV+pUAvQDQk5u0MiS9A0UUXXXTRL0C4MyTm7QwwQIbEvJ0hMTBAVVVVVVVVMEAk5u0MiXkwQPN2hsS8nTBAwgcffPDBMECQmLczJOYwQGApUOtXCjFALrrooosuMUD+SoFav1IxQMzbGRLzdjFAm2yyySabMUBq/UqBWr8xQDmO4ziO4zFACB988MEHMkDWrxSo9SsyQKZArV8pUDJAdNFFF110MkBDYt7OkJgyQBLzdobEvDJA4YMPPvjgMkCwFKj1KwUzQH6lQK1fKTNATjbZZJNNM0Acx3Ecx3EzQOtXCtT6lTNAuuiiiy66M0CJeTtDYt4zQFgK1PqVAjRAJptssskmNED2KwVq/Uo0QMS8nSExbzRAk0022WSTNEBi3s6QmLc0QDFvZ0jM2zRAAAAAAAAANUA=",
          "dtype": "f8"
         },
         "xaxis": "x2",
         "y": {
          "bdata": "4fzLKuLoNkBjx/jc0c42QOWRJY/BtDZAZ1xSQbGaNkDpJn/zoIA2QGvxq6WQZjZA7bvYV4BMNkBvhgUKcDI2QPFQMrxfGDZAcxtfbk/+NUD15YsgP+Q1QHewuNIuyjVA+XrlhB6wNUB7RRI3DpY1QP0PP+n9ezVAf9prm+1hNUABpZhN3Uc1QINvxf/MLTVABTrysbwTNUCHBB9krPk0QAnPSxac3zRAi5l4yIvFNEANZKV6e6s0QI8u0ixrkTRAEfn+3lp3NECTwyuRSl00QBWOWEM6QzRAl1iF9SkpNEAZI7KnGQ80QJvt3lkJ9TNAHbgLDPnaM0Cfgji+6MAzQCFNZXDYpjNApBeSIsiMM0Al4r7Ut3IzQKis64anWDNAKncYOZc+M0CsQUXrhiQzQC4Mcp12CjNAr9aeT2bwMkAxocsBVtYyQLRr+LNFvDJANjYlZjWiMkC4AFIYJYgyQDrLfsoUbjJAvJWrfARUMkA+YNgu9DkyQMAqBeHjHzJAQvUxk9MFMkDEv15Fw+sxQEaKi/ey0TFAyFS4qaK3MUBKH+Vbkp0xQMzpEQ6CgzFATrQ+wHFpMUDQfmtyYU8xQFJJmCRRNTFA1BPF1kAbMUBW3vGIMAExQNioHjsg5zBAWnNL7Q/NMEDcPXif/7IwQF4IpVHvmDBA4NLRA99+MEBinf61zmQwQORnK2i+SjBAZjJYGq4wMEDo/ITMnRYwQNSOY/0a+S9A1yO9YfrEL0DduBbG2ZAvQN9NcCq5XC9A5OLJjpgoL0DndyPzd/QuQOwMfVdXwC5A8KHWuzaMLkD0NjAgFlguQPjLiYT1Iy5A+2Dj6NTvLUAB9jxNtLstQAOLlrGThy1ACCDwFXNTLUAMtUl6Uh8tQBBKo94x6yxAFN/8QhG3LEAYdFan8IIsQB0JsAvQTixAH54JcK8aLEAlM2PUjuYrQCjIvDhusitALF0WnU1+K0Aw8m8BLUorQDSHyWUMFitAORwjyuvhKkA8sXwuy60qQEFG1pKqeSpARdsv94lFKkBJcIlbaREqQEwF479I3SlAUJo8JCipKUA=",
          "dtype": "f8"
         },
         "yaxis": "y2"
        },
        {
         "customdata": [
          "2025-02-21T00:01:35.000000000",
          "2025-02-22T09:32:19.000000000",
          "2025-02-23T01:11:41.000000000",
          "2025-02-23T10:27:07.000000000",
          "2025-02-23T23:00:47.000000000",
          "2025-02-24T10:30:34.000000000",
          "2025-02-25T00:41:09.000000000",
          "2025-02-25T10:30:51.000000000",
          "2025-02-25T22:18:41.000000000",
          "2025-02-26T12:05:35.000000000",
          "2025-02-26T22:16:33.000000000",
          "2025-02-27T08:25:25.000000000",
          "2025-03-03T10:20:24.000000000",
          "2025-03-08T09:46:41.000000000",
          "2025-03-08T22:45:03.000000000",
          "2025-03-09T13:15:30.000000000",
          "2025-03-09T23:02:26.000000000",
          "2025-03-10T10:10:48.000000000",
          "2025-03-10T12:22:53.000000000",
          "2025-03-10T15:47:07.000000000",
          "2025-03-10T22:37:35.000000000",
          "2025-03-11T10:14:17.000000000",
          "2025-03-11T12:17:35.000000000",
          "2025-03-11T14:18:40.000000000",
          "2025-03-11T23:49:20.000000000",
          "2025-03-12T10:12:40.000000000",
          "2025-03-12T23:28:22.000000000",
          "2025-03-13T09:59:37.000000000",
          "2025-03-13T15:01:10.000000000",
          "2025-03-13T18:34:42.000000000",
          "2025-03-14T00:10:40.000000000",
          "2025-03-14T10:12:54.000000000",
          "2025-03-14T13:30:29.000000000",
          "2025-03-14T22:27:42.000000000",
          "2025-03-15T16:05:27.000000000",
          "2025-03-16T00:58:47.000000000"
         ],
         "hovertemplate": "ID: respondent_4<br>DateTime: %{customdata}<br>hour: %{x:.2f}<br>Score: %{y:.2f}<br>Pearson r: 0.846<br>Spearman r: 0.742<br>Kendall τ: 0.527<br>DCOR: 0.875",
         "legendgroup": "respondent_4",
         "marker": {
          "color": "#FF00FF",
          "opacity": 0.8,
          "size": 8
         },
         "mode": "markers",
         "name": "ID: respondent_4",
         "showlegend": false,
         "type": "scatter",
         "x": {
          "bdata": "GAkZChcKGAoWDBYICgkWDRcKDA8WCgwOFwoXCQ8SGAoNFhAY",
          "dtype": "i1"
         },
         "xaxis": "x2",
         "y": {
          "bdata": "FQITAhUNHgohAxgDAwMeDRwBAQIYAgEHGQQcAQMFEwMEHwQM",
          "dtype": "i1"
         },
         "yaxis": "y2"
        },
        {
         "hovertemplate": "ID: respondent_4<br>Pearson r: 0.846<br>Spearman r: 0.742<br>Kendall τ: 0.527<br>DCOR: 0.875",
         "legendgroup": "respondent_4",
         "line": {
          "color": "#FF00FF",
          "dash": "dash",
          "width": 2
         },
         "mode": "lines",
         "name": "Trend respondent_4",
         "showlegend": false,
         "type": "scatter",
         "x": {
          "bdata": "AAAAAAAAIECtXylQ61cgQFq/UqDWryBACB988MEHIUC1fqVArV8hQGLezpCYtyFAED744IMPIkC9nSExb2ciQGr9SoFavyJAF1100UUXI0DEvJ0hMW8jQHIcx3EcxyNAH3zwwQcfJEDM2xkS83YkQHo7Q2LeziRAJ5tssskmJUDU+pUCtX4lQIFav1Kg1iVALrrooosuJkDcGRLzdoYmQIl5O0Ni3iZANtlkk002J0DkOI7jOI4nQJGYtzMk5idAPvjggw8+KEDrVwrU+pUoQJi3MyTm7ShARhdddNFFKUDzdobEvJ0pQKDWrxSo9SlATjbZZJNNKkD7lQK1fqUqQKj1KwVq/SpAVVVVVVVVK0ACtX6lQK0rQLAUqPUrBSxAXXTRRRddLEAK1PqVArUsQLgzJObtDC1AZZNNNtlkLUAS83aGxLwtQL9SoNavFC5AbLLJJptsLkAaEvN2hsQuQMdxHMdxHC9AdNFFF110L0AiMW9nSMwvQGhIzNsZEjBAPvjggw8+MEAUqPUrBWowQOtXCtT6lTBAwgcffPDBMECYtzMk5u0wQG9nSMzbGTFARhdddNFFMUAcx3Ecx3ExQPN2hsS8nTFAyiabbLLJMUCg1q8UqPUxQHeGxLydITJATjbZZJNNMkAk5u0MiXkyQPuVArV+pTJA0kUXXXTRMkCo9SsFav0yQH6lQK1fKTNAVVVVVVVVM0AsBWr9SoEzQAK1fqVArTNA2WSTTTbZM0CwFKj1KwU0QIbEvJ0hMTRAXXTRRRddNEA0JObtDIk0QArU+pUCtTRA4YMPPvjgNEC4MyTm7Qw1QI7jOI7jODVAZZNNNtlkNUA8Q2LezpA1QBLzdobEvDVA6KKLLrroNUC/UqDWrxQ2QJYCtX6lQDZAbLLJJptsNkBDYt7OkJg2QBoS83aGxDZA8MEHH3zwNkDHcRzHcRw3QJ4hMW9nSDdAdNFFF110N0BLgVq/UqA3QCIxb2dIzDdA+OCDDz74N0DPkJi3MyQ4QKVArV8pUDhAfPDBBx98OEBToNavFKg4QClQ61cK1DhAAAAAAAAAOUA=",
          "dtype": "f8"
         },
         "xaxis": "x2",
         "y": {
          "bdata": "gMtliTU42b+A+R1C7WTAvwCkj46QpsE/4KCeLwfZ2T/Qt/oLY2/lPzAfJoBC8u0/UMMo+pA68z8Adz60AHz3P7AqVG5wvfs/YN5pKOD+/z8IyT/xJyACQOSiSs7fQARAvHxVq5dhBkCUVmCIT4IIQHQwa2UHowpATAp2Qr/DDEAk5IAfd+QOQPreRX6XghBA5kvLbPOSEUDWuFBbT6MSQMIl1kmrsxNArpJbOAfEFECe/+AmY9QVQIpsZhW/5BZAdtnrAxv1F0BeRnHydgUZQEqz9uDSFRpAOiB8zy4mG0AmjQG+ijYcQBL6hqzmRh1AAmcMm0JXHkDu05GJnmcfQG2gCzz9OyBA4VZOMyvEIEBXDZEqWUwhQM/D0yGH1CFARXoWGbVcIkC7MFkQ4+QiQDPnmwcRbSNAqZ3e/j71I0AfVCH2bH0kQJMKZO2aBSVACcGm5MiNJUCBd+nb9hUmQPctLNMkniZAbeRuylImJ0DlmrHBgK4nQFtR9LiuNihA0Qc3sNy+KEBFvnmnCkcpQLt0vJ44zylAMyv/lWZXKkCn4UGNlN8qQB+YhITCZytAl07He/DvK0ALBQpzHngsQIO7TGpMAC1A+XGPYXqILUBtKNJYqBAuQOXeFFDWmC5AXZVXRwQhL0DRS5o+MqkvQCSB7hqwGDBAYNyPFsdcMECaNzES3qAwQNSS0g315DBAEO5zCQwpMUBMSRUFI20xQIaktgA6sTFAwv9X/FD1MUD+Wvn3ZzkyQDi2mvN+fTJAdBE875XBMkCubN3qrAUzQOjHfubDSTNAJCMg4tqNM0BgfsHd8dEzQJrZYtkIFjRA1jQE1R9aNEASkKXQNp40QEzrRsxN4jRAhkbox2QmNUDCoYnDe2o1QP78Kr+SrjVAOFjMuqnyNUB0s222wDY2QK4OD7LXejZA6Gmwre6+NkAkxVGpBQM3QGAg86QcRzdAmnuUoDOLN0DW1jWcSs83QBIy15dhEzhATI14k3hXOECI6BmPj5s4QMJDu4qm3zhA/p5chr0jOUA6+v2B1Gc5QHRVn33rqzlAsLBAeQLwOUA=",
          "dtype": "f8"
         },
         "yaxis": "y2"
        },
        {
         "customdata": [
          "2025-03-10T10:09:26.000000000",
          "2025-03-10T15:39:44.000000000",
          "2025-03-10T19:27:25.000000000",
          "2025-03-10T20:39:20.000000000",
          "2025-03-11T08:55:58.000000000",
          "2025-03-11T17:38:58.000000000",
          "2025-03-12T08:48:30.000000000",
          "2025-03-12T16:04:18.000000000",
          "2025-03-12T20:38:30.000000000",
          "2025-03-13T09:20:31.000000000",
          "2025-03-13T12:26:28.000000000",
          "2025-03-13T14:17:22.000000000",
          "2025-03-13T22:48:59.000000000",
          "2025-03-14T13:41:47.000000000",
          "2025-03-14T15:19:17.000000000",
          "2025-03-15T17:17:19.000000000"
         ],
         "hovertemplate": "ID: respondent_1<br>DateTime: %{customdata}<br>cog_load_flg: %{x:.2f}<br>Score: %{y:.2f}<br>Pearson r: -0.038<br>Spearman r: -0.027<br>Kendall τ: -0.023<br>DCOR: 0.218",
         "legendgroup": "respondent_1",
         "marker": {
          "color": "#FF0000",
          "opacity": 0.8,
          "size": 8
         },
         "mode": "markers",
         "name": "ID: respondent_1",
         "showlegend": false,
         "type": "scatter",
         "x": {
          "bdata": "AAAAAAAAAAAAAAAAAADwPwAAAAAAAPA/AAAAAAAA8D8AAAAAAAAAAAAAAAAAAPA/AAAAAAAAAAAAAAAAAAAAAAAAAAAAAAAAAAAAAAAAAAAAAAAAAAAAAAAAAAAAAAAAAAAAAAAA8D8AAAAAAADwPwAAAAAAAPA/AAAAAAAAAAA=",
          "dtype": "f8"
         },
         "xaxis": "x3",
         "y": {
          "bdata": "DwkZHgYZBhMPDhwXEwMEHA==",
          "dtype": "i1"
         },
         "yaxis": "y3"
        },
        {
         "hovertemplate": "ID: respondent_1<br>Pearson r: -0.038<br>Spearman r: -0.027<br>Kendall τ: -0.023<br>DCOR: 0.218",
         "legendgroup": "respondent_1",
         "line": {
          "color": "#FF0000",
          "dash": "dash",
          "width": 2
         },
         "mode": "lines",
         "name": "Trend respondent_1",
         "showlegend": false,
         "type": "scatter",
         "x": {
          "bdata": "AAAAAAAAAABbv1Kg1q+EP1u/UqDWr5Q/CB988MEHnz9bv1Kg1q+kPzJvZ0jM26k/CB988MEHrz9wZ0jM2xmyP1u/UqDWr7Q/RhdddNFFtz8yb2dIzNu5Px3HcRzHcbw/CB988MEHvz96O0Ni3s7AP3BnSMzbGcI/ZZNNNtlkwz9bv1Kg1q/EP1HrVwrU+sU/RhdddNFFxz88Q2LezpDIPzJvZ0jM28k/J5tssskmyz8dx3Ecx3HMPxPzdobEvM0/CB988MEHzz9/pUCtXynQP3o7Q2LeztA/ddFFF1100T9wZ0jM2xnSP2r9SoFav9I/ZZNNNtlk0z9gKVDrVwrUP1u/UqDWr9Q/VlVVVVVV1T9R61cK1PrVP0yBWr9SoNY/RhdddNFF1z9BrV8pUOvXPzxDYt7OkNg/N9lkk0022T8yb2dIzNvZPy0Fav1Kgdo/J5tssskm2z8iMW9nSMzbPx3HcRzHcdw/GF100UUX3T8T83aGxLzdPw6JeTtDYt4/CB988MEH3z8DtX6lQK3fP3+lQK1fKeA/ffDBBx984D96O0Ni3s7gP3eGxLydIeE/ddFFF1104T9yHMdxHMfhP3BnSMzbGeI/bbLJJpts4j9q/UqBWr/iP2hIzNsZEuM/ZZNNNtlk4z9j3s6QmLfjP2ApUOtXCuQ/XnTRRRdd5D9bv1Kg1q/kP1gK1PqVAuU/VlVVVVVV5T9ToNavFKjlP1HrVwrU+uU/TjbZZJNN5j9MgVq/UqDmP0nM2xkS8+Y/RhdddNFF5z9EYt7OkJjnP0GtXylQ6+c/P/jggw8+6D88Q2LezpDoPzmO4ziO4+g/N9lkk0026T80JObtDInpPzJvZ0jM2+k/L7rooosu6j8tBWr9SoHqPypQ61cK1Oo/J5tssskm6z8l5u0MiXnrPyIxb2dIzOs/IHzwwQcf7D8dx3Ecx3HsPxsS83aGxOw/GF100UUX7T8VqPUrBWrtPxPzdobEvO0/ED744IMP7j8OiXk7Q2LuPwvU+pUCte4/CB988MEH7z8Gav1KgVrvPwO1fqVAre8/AAAAAAAA8D8=",
          "dtype": "f8"
         },
         "xaxis": "x3",
         "y": {
          "bdata": "x3Ecx3EcMUCbo0bzrRoxQG/VcB/qGDFARAebSyYXMUAYOcV3YhUxQOxq76OeEzFAwJwZ0NoRMUCVzkP8FhAxQGkAbihTDjFAPTKYVI8MMUARZMKAywoxQOaV7KwHCTFAuscW2UMHMUCO+UAFgAUxQGIrazG8AzFAN12VXfgBMUALj7+JNAAxQN/A6bVw/jBAs/IT4qz8MECIJD4O6fowQFxWaDol+TBAMIiSZmH3MEAEurySnfUwQNnr5r7Z8zBArR0R6xXyMECBTzsXUvAwQFWBZUOO7jBAKrOPb8rsMED+5LmbBuswQNIW5MdC6TBApkgO9H7nMEB7ejggu+UwQE+sYkz34zBAI96MeDPiMED3D7ekb+AwQMxB4dCr3jBAoHML/efcMEB0pTUpJNswQEjXX1Vg2TBAHQmKgZzXMEDxOrSt2NUwQMVs3tkU1DBAmZ4IBlHSMEBu0DIyjdAwQEICXV7JzjBAFjSHigXNMEDqZbG2QcswQL+X2+J9yTBAk8kFD7rHMEBn+y879sUwQDstWmcyxDBAEF+Ek27CMEDkkK6/qsAwQLjC2OvmvjBAjPQCGCO9MEBhJi1EX7swQDVYV3CbuTBACYqBnNe3MEDdu6vIE7YwQLLt1fRPtDBAhh8AIYyyMEBaUSpNyLAwQC6DVHkErzBAA7V+pUCtMEDX5qjRfKswQKsY0/24qTBAf0r9KfWnMEBUfCdWMaYwQCiuUYJtpDBA/N97rqmiMEDQEaba5aAwQKVD0AYinzBAeXX6Ml6dMEBNpyRfmpswQCHZTovWmTBA9gp5txKYMEDKPKPjTpYwQJ5uzQ+LlDBAcqD3O8eSMEBG0iFoA5EwQBsETJQ/jzBA7zV2wHuNMEDDZ6Dst4swQJeZyhj0iTBAbMv0RDCIMEBA/R5xbIYwQBQvSZ2ohDBA6GBzyeSCMEC9kp31IIEwQJHExyFdfzBAZfbxTZl9MEA5KBx61XswQA5aRqYRejBA4otw0k14MEC2vZr+iXYwQIrvxCrGdDBAXyHvVgJzMEAzUxmDPnEwQAeFQ696bzBA27Zt27ZtMEA=",
          "dtype": "f8"
         },
         "yaxis": "y3"
        },
        {
         "customdata": [
          "2025-03-10T10:16:41.000000000",
          "2025-03-10T12:36:03.000000000",
          "2025-03-10T15:32:56.000000000",
          "2025-03-10T19:32:40.000000000",
          "2025-03-11T11:11:19.000000000",
          "2025-03-11T12:46:55.000000000",
          "2025-03-11T21:06:16.000000000",
          "2025-03-12T13:15:24.000000000",
          "2025-03-12T16:04:02.000000000",
          "2025-03-12T20:30:44.000000000",
          "2025-03-13T10:07:57.000000000",
          "2025-03-13T21:45:02.000000000",
          "2025-03-14T12:11:07.000000000",
          "2025-03-14T14:12:15.000000000",
          "2025-03-15T16:05:01.000000000"
         ],
         "hovertemplate": "ID: respondent_2<br>DateTime: %{customdata}<br>cog_load_flg: %{x:.2f}<br>Score: %{y:.2f}<br>Pearson r: 0.503<br>Spearman r: 0.491<br>Kendall τ: 0.424<br>DCOR: 0.495",
         "legendgroup": "respondent_2",
         "marker": {
          "color": "#00FF00",
          "opacity": 0.8,
          "size": 8
         },
         "mode": "markers",
         "name": "ID: respondent_2",
         "showlegend": false,
         "type": "scatter",
         "x": {
          "bdata": "AAAAAAAAAAAAAAAAAAAAAAAAAAAAAPA/AAAAAAAA8D8AAAAAAAAAAAAAAAAAAAAAAAAAAAAA8D8AAAAAAAAAAAAAAAAAAAAAAAAAAAAA8D8AAAAAAAAAAAAAAAAAAPA/AAAAAAAAAAAAAAAAAAAAAAAAAAAAAPA/",
          "dtype": "f8"
         },
         "xaxis": "x3",
         "y": {
          "bdata": "DwsQFA8MFhMUFQwZFhcW",
          "dtype": "i1"
         },
         "yaxis": "y3"
        },
        {
         "hovertemplate": "ID: respondent_2<br>Pearson r: 0.503<br>Spearman r: 0.491<br>Kendall τ: 0.424<br>DCOR: 0.495",
         "legendgroup": "respondent_2",
         "line": {
          "color": "#00FF00",
          "dash": "dash",
          "width": 2
         },
         "mode": "lines",
         "name": "Trend respondent_2",
         "showlegend": false,
         "type": "scatter",
         "x": {
          "bdata": "AAAAAAAAAABbv1Kg1q+EP1u/UqDWr5Q/CB988MEHnz9bv1Kg1q+kPzJvZ0jM26k/CB988MEHrz9wZ0jM2xmyP1u/UqDWr7Q/RhdddNFFtz8yb2dIzNu5Px3HcRzHcbw/CB988MEHvz96O0Ni3s7AP3BnSMzbGcI/ZZNNNtlkwz9bv1Kg1q/EP1HrVwrU+sU/RhdddNFFxz88Q2LezpDIPzJvZ0jM28k/J5tssskmyz8dx3Ecx3HMPxPzdobEvM0/CB988MEHzz9/pUCtXynQP3o7Q2LeztA/ddFFF1100T9wZ0jM2xnSP2r9SoFav9I/ZZNNNtlk0z9gKVDrVwrUP1u/UqDWr9Q/VlVVVVVV1T9R61cK1PrVP0yBWr9SoNY/RhdddNFF1z9BrV8pUOvXPzxDYt7OkNg/N9lkk0022T8yb2dIzNvZPy0Fav1Kgdo/J5tssskm2z8iMW9nSMzbPx3HcRzHcdw/GF100UUX3T8T83aGxLzdPw6JeTtDYt4/CB988MEH3z8DtX6lQK3fP3+lQK1fKeA/ffDBBx984D96O0Ni3s7gP3eGxLydIeE/ddFFF1104T9yHMdxHMfhP3BnSMzbGeI/bbLJJpts4j9q/UqBWr/iP2hIzNsZEuM/ZZNNNtlk4z9j3s6QmLfjP2ApUOtXCuQ/XnTRRRdd5D9bv1Kg1q/kP1gK1PqVAuU/VlVVVVVV5T9ToNavFKjlP1HrVwrU+uU/TjbZZJNN5j9MgVq/UqDmP0nM2xkS8+Y/RhdddNFF5z9EYt7OkJjnP0GtXylQ6+c/P/jggw8+6D88Q2LezpDoPzmO4ziO4+g/N9lkk0026T80JObtDInpPzJvZ0jM2+k/L7rooosu6j8tBWr9SoHqPypQ61cK1Oo/J5tssskm6z8l5u0MiXnrPyIxb2dIzOs/IHzwwQcf7D8dx3Ecx3HsPxsS83aGxOw/GF100UUX7T8VqPUrBWrtPxPzdobEvO0/ED744IMP7j8OiXk7Q2LuPwvU+pUCte4/CB988MEH7z8Gav1KgVrvPwO1fqVAre8/AAAAAAAA8D8=",
          "dtype": "f8"
         },
         "xaxis": "x3",
         "y": {
          "bdata": "4ziO4ziOMEBNg3UFt5kwQLjNXCc1pTBAIhhESbOwMECMYitrMbwwQPesEo2vxzBAYff5ri3TMEDLQeHQq94wQDWMyPIp6jBAoNavFKj1MEAKIZc2JgExQHRrflikDDFA37VleiIYMUBJAE2coCMxQLNKNL4eLzFAHpUb4Jw6MUCI3wICG0YxQPIp6iOZUTFAXHTRRRddMUDHvrhnlWgxQDEJoIkTdDFAm1OHq5F/MUAGnm7ND4sxQHDoVe+NljFA2jI9EQyiMUBFfSQziq0xQK/HC1UIuTFAGRLzdobEMUCEXNqYBNAxQO6mwbqC2zFAWPGo3ADnMUDCO5D+fvIxQC2GdyD9/TFAl9BeQnsJMkABG0Zk+RQyQGxlLYZ3IDJA1q8UqPUrMkBA+vvJczcyQKtE4+vxQjJAFY/KDXBOMkB/2bEv7lkyQOojmVFsZTJAVG6Ac+pwMkC+uGeVaHwyQCgDT7fmhzJAk0022WSTMkD9lx374p4yQGfiBB1hqjJA0izsPt+1MkA8d9NgXcEyQKbBuoLbzDJAEQyipFnYMkB7VonG1+MyQOWgcOhV7zJAUOtXCtT6MkC6NT8sUgYzQCSAJk7QETNAjsoNcE4dM0D5FPWRzCgzQGNf3LNKNDNAzanD1cg/M0A49Kr3RkszQKI+khnFVjNADIl5O0NiM0B202BdwW0zQOEdSH8/eTNAS2gvob2EM0C1shbDO5AzQCD9/eS5mzNAikflBjinM0D0kcwotrIzQF/cs0o0vjNAySabbLLJM0AzcYKOMNUzQJ67abCu4DNACAZR0izsM0ByUDj0qvczQNyaHxYpAzRAR+UGOKcONECxL+5ZJRo0QBt61XujJTRAhsS8nSExNEDwDqS/nzw0QFpZi+EdSDRAxKNyA5xTNEAv7lklGl80QJk4QUeYajRABIMoaRZ2NEBuzQ+LlIE0QNgX96wSjTRAQmLezpCYNECsrMXwDqQ0QBf3rBKNrzRAgUGUNAu7NEDsi3tWicY0QFbWYngH0jRAwCBKmoXdNEAqazG8A+k0QJW1GN6B9DRA////////NEA=",
          "dtype": "f8"
         },
         "yaxis": "y3"
        },
        {
         "customdata": [
          "2025-03-11T07:27:25.000000000",
          "2025-03-12T15:46:20.000000000",
          "2025-03-13T09:44:33.000000000",
          "2025-03-17T13:17:20.000000000",
          "2025-03-17T13:23:49.000000000",
          "2025-03-17T21:08:52.000000000",
          "2025-03-19T07:48:21.000000000",
          "2025-03-24T20:28:12.000000000"
         ],
         "hovertemplate": "ID: respondent_3<br>DateTime: %{customdata}<br>cog_load_flg: %{x:.2f}<br>Score: %{y:.2f}<br>Pearson r: -0.798<br>Spearman r: -0.845<br>Kendall τ: -0.732<br>DCOR: 0.823",
         "legendgroup": "respondent_3",
         "marker": {
          "color": "#0000FF",
          "opacity": 0.8,
          "size": 8
         },
         "mode": "markers",
         "name": "ID: respondent_3",
         "showlegend": false,
         "type": "scatter",
         "x": {
          "bdata": "AAAAAAAAAAAAAAAAAADwPwAAAAAAAAAAAAAAAAAA8D8AAAAAAADwPwAAAAAAAPA/AAAAAAAAAAAAAAAAAADwPw==",
          "dtype": "f8"
         },
         "xaxis": "x3",
         "y": {
          "bdata": "HQkZAwsUHhU=",
          "dtype": "i1"
         },
         "yaxis": "y3"
        },
        {
         "hovertemplate": "ID: respondent_3<br>Pearson r: -0.798<br>Spearman r: -0.845<br>Kendall τ: -0.732<br>DCOR: 0.823",
         "legendgroup": "respondent_3",
         "line": {
          "color": "#0000FF",
          "dash": "dash",
          "width": 2
         },
         "mode": "lines",
         "name": "Trend respondent_3",
         "showlegend": false,
         "type": "scatter",
         "x": {
          "bdata": "AAAAAAAAAABbv1Kg1q+EP1u/UqDWr5Q/CB988MEHnz9bv1Kg1q+kPzJvZ0jM26k/CB988MEHrz9wZ0jM2xmyP1u/UqDWr7Q/RhdddNFFtz8yb2dIzNu5Px3HcRzHcbw/CB988MEHvz96O0Ni3s7AP3BnSMzbGcI/ZZNNNtlkwz9bv1Kg1q/EP1HrVwrU+sU/RhdddNFFxz88Q2LezpDIPzJvZ0jM28k/J5tssskmyz8dx3Ecx3HMPxPzdobEvM0/CB988MEHzz9/pUCtXynQP3o7Q2LeztA/ddFFF1100T9wZ0jM2xnSP2r9SoFav9I/ZZNNNtlk0z9gKVDrVwrUP1u/UqDWr9Q/VlVVVVVV1T9R61cK1PrVP0yBWr9SoNY/RhdddNFF1z9BrV8pUOvXPzxDYt7OkNg/N9lkk0022T8yb2dIzNvZPy0Fav1Kgdo/J5tssskm2z8iMW9nSMzbPx3HcRzHcdw/GF100UUX3T8T83aGxLzdPw6JeTtDYt4/CB988MEH3z8DtX6lQK3fP3+lQK1fKeA/ffDBBx984D96O0Ni3s7gP3eGxLydIeE/ddFFF1104T9yHMdxHMfhP3BnSMzbGeI/bbLJJpts4j9q/UqBWr/iP2hIzNsZEuM/ZZNNNtlk4z9j3s6QmLfjP2ApUOtXCuQ/XnTRRRdd5D9bv1Kg1q/kP1gK1PqVAuU/VlVVVVVV5T9ToNavFKjlP1HrVwrU+uU/TjbZZJNN5j9MgVq/UqDmP0nM2xkS8+Y/RhdddNFF5z9EYt7OkJjnP0GtXylQ6+c/P/jggw8+6D88Q2LezpDoPzmO4ziO4+g/N9lkk0026T80JObtDInpPzJvZ0jM2+k/L7rooosu6j8tBWr9SoHqPypQ61cK1Oo/J5tssskm6z8l5u0MiXnrPyIxb2dIzOs/IHzwwQcf7D8dx3Ecx3HsPxsS83aGxOw/GF100UUX7T8VqPUrBWrtPxPzdobEvO0/ED744IMP7j8OiXk7Q2LuPwvU+pUCte4/CB988MEH7z8Gav1KgVrvPwO1fqVAre8/AAAAAAAA8D8=",
          "dtype": "f8"
         },
         "xaxis": "x3",
         "y": {
          "bdata": "AAAAAAAAPEAuyTXosdg7QFySa9BjsTtAiluhuBWKO0C4JNegx2I7QObtDIl5OztAFLdCcSsUO0BCgHhZ3ew6QHBJrkGPxTpAnhLkKUGeOkDM2xkS83Y6QPqkT/qkTzpAKG6F4lYoOkBWN7vKCAE6QIQA8bK62TlAsskmm2yyOUDgklyDHos5QA5ckmvQYzlAPCXIU4I8OUBq7v07NBU5QJi3MyTm7ThAxoBpDJjGOED0SZ/0SZ84QCIT1dz7dzhAUdwKxa1QOEB+pUCtXyk4QKxudpURAjhA2jesfcPaN0AIAeJldbM3QDfKF04njDdAZZNNNtlkN0CTXIMeiz03QMEluQY9FjdA7+7u7u7uNkAduCTXoMc2QEuBWr9SoDZAeUqQpwR5NkCnE8aPtlE2QNXc+3doKjZAA6YxYBoDNkAxb2dIzNs1QF84nTB+tDVAjQHTGDCNNUC7yggB4mU1QOmTPumTPjVAF1100UUXNUBFJqq59+80QHPv36GpyDRAobgViluhNEDPgUtyDXo0QP1KgVq/UjRAKxS3QnErNEBZ3ewqIwQ0QIimIhPV3DNAtW9Y+4a1M0DkOI7jOI4zQBECxMvqZjNAQMv5s5w/M0BulC+cThgzQJtdZYQA8TJAyiabbLLJMkD379BUZKIyQCa5Bj0WezJAU4I8JchTMkCCS3INeiwyQLAUqPUrBTJA3t3d3d3dMUAMpxPGj7YxQDpwSa5BjzFAaDl/lvNnMUCWArV+pUAxQMTL6mZXGTFA8pQgTwnyMEAgXlY3u8owQE4njB9tozBAfPDBBx98MECquffv0FQwQNiCLdiCLTBABkxjwDQGMEBoKjJRzb0vQMO8nSExby9AIE8J8pQgL0B74XTC+NEuQNhz4JJcgy5ANAZMY8A0LkCQmLczJOYtQOwqIwSIly1AR72O1OtILUCkT/qkT/osQP/hZXWzqyxAXHTRRRddLEC4Bj0Wew4sQBSZqObevytAcCsUt0JxK0DMvX+HpiIrQChQ61cK1CpAheJWKG6FKkDgdML40TYqQD0HLsk16ClAmZmZmZmZKUA=",
          "dtype": "f8"
         },
         "yaxis": "y3"
        },
        {
         "customdata": [
          "2025-02-25T00:41:09.000000000",
          "2025-02-25T10:30:51.000000000",
          "2025-02-25T22:18:41.000000000",
          "2025-02-26T12:05:35.000000000",
          "2025-02-26T22:16:33.000000000",
          "2025-02-27T08:25:25.000000000",
          "2025-03-03T10:20:24.000000000",
          "2025-03-08T09:46:41.000000000",
          "2025-03-08T22:45:03.000000000",
          "2025-03-09T13:15:30.000000000",
          "2025-03-09T23:02:26.000000000",
          "2025-03-10T10:10:48.000000000",
          "2025-03-10T12:22:53.000000000",
          "2025-03-10T15:47:07.000000000",
          "2025-03-10T22:37:35.000000000",
          "2025-03-11T10:14:17.000000000",
          "2025-03-11T12:17:35.000000000",
          "2025-03-11T14:18:40.000000000",
          "2025-03-11T23:49:20.000000000",
          "2025-03-12T10:12:40.000000000",
          "2025-03-12T23:28:22.000000000",
          "2025-03-13T09:59:37.000000000",
          "2025-03-13T15:01:10.000000000",
          "2025-03-13T18:34:42.000000000",
          "2025-03-14T00:10:40.000000000",
          "2025-03-14T10:12:54.000000000",
          "2025-03-14T13:30:29.000000000",
          "2025-03-14T22:27:42.000000000",
          "2025-03-15T16:05:27.000000000",
          "2025-03-16T00:58:47.000000000"
         ],
         "hovertemplate": "ID: respondent_4<br>DateTime: %{customdata}<br>cog_load_flg: %{x:.2f}<br>Score: %{y:.2f}<br>Pearson r: 0.541<br>Spearman r: 0.458<br>Kendall τ: 0.391<br>DCOR: 0.552",
         "legendgroup": "respondent_4",
         "marker": {
          "color": "#FF00FF",
          "opacity": 0.8,
          "size": 8
         },
         "mode": "markers",
         "name": "ID: respondent_4",
         "showlegend": false,
         "type": "scatter",
         "x": {
          "bdata": "AAAAAAAA8D8AAAAAAAAAAAAAAAAAAPA/AAAAAAAAAAAAAAAAAADwPwAAAAAAAAAAAAAAAAAAAAAAAAAAAAAAAAAAAAAAAAAAAAAAAAAAAAAAAAAAAADwPwAAAAAAAAAAAAAAAAAAAAAAAAAAAADwPwAAAAAAAPA/AAAAAAAAAAAAAAAAAADwPwAAAAAAAPA/AAAAAAAA8D8AAAAAAAAAAAAAAAAAAPA/AAAAAAAAAAAAAAAAAADwPwAAAAAAAAAAAAAAAAAA8D8AAAAAAAAAAAAAAAAAAPA/AAAAAAAA8D8AAAAAAAAAAAAAAAAAAAAA",
          "dtype": "f8"
         },
         "xaxis": "x3",
         "y": {
          "bdata": "HgohAxgDAwMeDRwBAQIYAgEHGQQcAQMFEwMEHwQM",
          "dtype": "i1"
         },
         "yaxis": "y3"
        },
        {
         "hovertemplate": "ID: respondent_4<br>Pearson r: 0.541<br>Spearman r: 0.458<br>Kendall τ: 0.391<br>DCOR: 0.552",
         "legendgroup": "respondent_4",
         "line": {
          "color": "#FF00FF",
          "dash": "dash",
          "width": 2
         },
         "mode": "lines",
         "name": "Trend respondent_4",
         "showlegend": false,
         "type": "scatter",
         "x": {
          "bdata": "AAAAAAAAAABbv1Kg1q+EP1u/UqDWr5Q/CB988MEHnz9bv1Kg1q+kPzJvZ0jM26k/CB988MEHrz9wZ0jM2xmyP1u/UqDWr7Q/RhdddNFFtz8yb2dIzNu5Px3HcRzHcbw/CB988MEHvz96O0Ni3s7AP3BnSMzbGcI/ZZNNNtlkwz9bv1Kg1q/EP1HrVwrU+sU/RhdddNFFxz88Q2LezpDIPzJvZ0jM28k/J5tssskmyz8dx3Ecx3HMPxPzdobEvM0/CB988MEHzz9/pUCtXynQP3o7Q2LeztA/ddFFF1100T9wZ0jM2xnSP2r9SoFav9I/ZZNNNtlk0z9gKVDrVwrUP1u/UqDWr9Q/VlVVVVVV1T9R61cK1PrVP0yBWr9SoNY/RhdddNFF1z9BrV8pUOvXPzxDYt7OkNg/N9lkk0022T8yb2dIzNvZPy0Fav1Kgdo/J5tssskm2z8iMW9nSMzbPx3HcRzHcdw/GF100UUX3T8T83aGxLzdPw6JeTtDYt4/CB988MEH3z8DtX6lQK3fP3+lQK1fKeA/ffDBBx984D96O0Ni3s7gP3eGxLydIeE/ddFFF1104T9yHMdxHMfhP3BnSMzbGeI/bbLJJpts4j9q/UqBWr/iP2hIzNsZEuM/ZZNNNtlk4z9j3s6QmLfjP2ApUOtXCuQ/XnTRRRdd5D9bv1Kg1q/kP1gK1PqVAuU/VlVVVVVV5T9ToNavFKjlP1HrVwrU+uU/TjbZZJNN5j9MgVq/UqDmP0nM2xkS8+Y/RhdddNFF5z9EYt7OkJjnP0GtXylQ6+c/P/jggw8+6D88Q2LezpDoPzmO4ziO4+g/N9lkk0026T80JObtDInpPzJvZ0jM2+k/L7rooosu6j8tBWr9SoHqPypQ61cK1Oo/J5tssskm6z8l5u0MiXnrPyIxb2dIzOs/IHzwwQcf7D8dx3Ecx3HsPxsS83aGxOw/GF100UUX7T8VqPUrBWrtPxPzdobEvO0/ED744IMP7j8OiXk7Q2LuPwvU+pUCte4/CB988MEH7z8Gav1KgVrvPwO1fqVAre8/AAAAAAAA8D8=",
          "dtype": "f8"
         },
         "xaxis": "x3",
         "y": {
          "bdata": "AAAAAACAGEAAAAAAAAAZQAAAAAAAgBlAAAAAAAAAGkAAAAAAAIAaQAAAAAAAABtAAAAAAACAG0AAAAAAAAAcQAAAAAAAgBxAAAAAAAAAHUAAAAAAAIAdQAAAAAAAAB5AAAAAAACAHkAAAAAAAAAfQAAAAAAAgB9AAAAAAAAAIEAAAAAAAEAgQAAAAAAAgCBAAAAAAADAIEAAAAAAAAAhQAAAAAAAQCFAAAAAAACAIUAAAAAAAMAhQAAAAAAAACJAAAAAAABAIkAAAAAAAIAiQAAAAAAAwCJAAAAAAAAAI0AAAAAAAEAjQAAAAAAAgCNAAAAAAADAI0AAAAAAAAAkQAAAAAAAQCRAAAAAAACAJEAAAAAAAMAkQAAAAAAAACVAAAAAAABAJUAAAAAAAIAlQAAAAAAAwCVAAAAAAAAAJkAAAAAAAEAmQAAAAAAAgCZAAAAAAADAJkAAAAAAAAAnQAAAAAAAQCdAAAAAAACAJ0AAAAAAAMAnQAAAAAAAAChAAAAAAABAKEAAAAAAAIAoQAAAAAAAwChAAAAAAAAAKUAAAAAAAEApQAAAAAAAgClAAAAAAADAKUAAAAAAAAAqQAAAAAAAQCpAAAAAAACAKkAAAAAAAMAqQAAAAAAAACtAAAAAAABAK0AAAAAAAIArQAAAAAAAwCtAAAAAAAAALEAAAAAAAEAsQAAAAAAAgCxAAQAAAADALEAAAAAAAAAtQAEAAAAAQC1AAAAAAACALUABAAAAAMAtQAAAAAAAAC5AAAAAAABALkABAAAAAIAuQAAAAAAAwC5AAQAAAAAAL0AAAAAAAEAvQAAAAAAAgC9AAQAAAADAL0AAAAAAAAAwQAAAAAAAIDBAAAAAAABAMEAAAAAAAGAwQAAAAAAAgDBAAAAAAACgMEAAAAAAAMAwQAAAAAAA4DBAAAAAAAAAMUAAAAAAACAxQAAAAAAAQDFAAAAAAABgMUAAAAAAAIAxQAAAAAAAoDFAAAAAAADAMUAAAAAAAOAxQAAAAAAAADJAAAAAAAAgMkAAAAAAAEAyQAAAAAAAYDJAAAAAAACAMkA=",
          "dtype": "f8"
         },
         "yaxis": "y3"
        },
        {
         "customdata": [
          "2025-03-10T10:09:26.000000000",
          "2025-03-10T15:39:44.000000000",
          "2025-03-10T19:27:25.000000000",
          "2025-03-10T20:39:20.000000000",
          "2025-03-11T08:55:58.000000000",
          "2025-03-11T17:38:58.000000000",
          "2025-03-12T08:48:30.000000000",
          "2025-03-12T16:04:18.000000000",
          "2025-03-12T20:38:30.000000000",
          "2025-03-13T09:20:31.000000000",
          "2025-03-13T12:26:28.000000000",
          "2025-03-13T14:17:22.000000000",
          "2025-03-13T22:48:59.000000000",
          "2025-03-14T13:41:47.000000000",
          "2025-03-14T15:19:17.000000000",
          "2025-03-15T17:17:19.000000000"
         ],
         "hovertemplate": "ID: respondent_1<br>DateTime: %{customdata}<br>fatigue_lvl: %{x:.2f}<br>Score: %{y:.2f}<br>Pearson r: 0.973<br>Spearman r: 0.968<br>Kendall τ: 0.904<br>DCOR: 0.972",
         "legendgroup": "respondent_1",
         "marker": {
          "color": "#FF0000",
          "opacity": 0.8,
          "size": 8
         },
         "mode": "markers",
         "name": "ID: respondent_1",
         "showlegend": false,
         "type": "scatter",
         "x": {
          "bdata": "AgEDBAEDAQMCAgQDAwEBBA==",
          "dtype": "i1"
         },
         "xaxis": "x4",
         "y": {
          "bdata": "DwkZHgYZBhMPDhwXEwMEHA==",
          "dtype": "i1"
         },
         "yaxis": "y4"
        },
        {
         "hovertemplate": "ID: respondent_1<br>Pearson r: 0.973<br>Spearman r: 0.968<br>Kendall τ: 0.904<br>DCOR: 0.972",
         "legendgroup": "respondent_1",
         "line": {
          "color": "#FF0000",
          "dash": "dash",
          "width": 2
         },
         "mode": "lines",
         "name": "Trend respondent_1",
         "showlegend": false,
         "type": "scatter",
         "x": {
          "bdata": "AAAAAAAA8D988MEHH3zwP/jggw8++PA/dNFFF1108T/wwQcffPDxP22yySabbPI/6aKLLrro8j9lk0022WTzP+GDDz744PM/XXTRRRdd9D/ZZJNNNtn0P1ZVVVVVVfU/0kUXXXTR9T9ONtlkk032P8omm2yyyfY/RhdddNFF9z/CBx988MH3Pz744IMPPvg/uuiiiy66+D822WSTTTb5P7LJJptssvk/Lrrooosu+j+rqqqqqqr6PyebbLLJJvs/o4suuuii+z8ffPDBBx/8P5tssskmm/w/GF100UUX/T+UTTbZZJP9PxA++OCDD/4/jC666KKL/j8IH3zwwQf/P4QPPvjgg/8/AAAAAAAAAEA++OCDDz4AQHzwwQcffABAuuiiiy66AED44IMPPvgAQDbZZJNNNgFAdNFFF110AUCyySabbLIBQPDBBx988AFALrrooosuAkBssskmm2wCQKuqqqqqqgJA6aKLLrroAkAnm2yyySYDQGWTTTbZZANAo4suuuiiA0Dhgw8++OADQB988MEHHwRAXXTRRRddBECbbLLJJpsEQNpkk0022QRAGF100UUXBUBWVVVVVVUFQJRNNtlkkwVA0kUXXXTRBUAQPvjggw8GQE422WSTTQZAjC666KKLBkDKJptssskGQAgffPDBBwdARhdddNFFB0CEDz744IMHQMIHH3zwwQdAAAAAAAAACEA++OCDDz4IQHzwwQcffAhAuuiiiy66CED44IMPPvgIQDbZZJNNNglAdNFFF110CUCzySabbLIJQPHBBx988AlAL7rooosuCkBtsskmm2wKQKuqqqqqqgpA6aKLLrroCkAnm2yyySYLQGWTTTbZZAtAo4suuuiiC0Dhgw8++OALQB988MEHHwxAXXTRRRddDECbbLLJJpsMQNlkk0022QxAF1100UUXDUBWVVVVVVUNQJRNNtlkkw1A0kUXXXTRDUAQPvjggw8OQE422WSTTQ5AjC666KKLDkDKJptssskOQAgffPDBBw9ARhdddNFFD0CEDz744IMPQMIHH3zwwQ9AAAAAAAAAEEA=",
          "dtype": "f8"
         },
         "xaxis": "x4",
         "y": {
          "bdata": "qnRkz0BUGEAwBg9JaEYZQLiXucKPOBpAPilkPLcqG0DGug623hwcQE5MuS8GDx1A1t1jqS0BHkBcbw4jVfMeQOQAuZx85R9ANckxC9JrIED5EQfI5eQgQL1a3IT5XSFAgaOxQQ3XIUBE7Ib+IFAiQAg1XLs0ySJAy30xeEhCI0CPxgY1XLsjQFIP3PFvNCRAFlixroOtJEDZoIZrlyYlQJ3pWyirnyVAYDIx5b4YJkAlewai0pEmQOjD217mCidArAyxG/qDJ0BvVYbYDf0nQDOeW5UhdihA9+YwUjXvKEC7LwYPSWgpQH5428tc4SlAQsGwiHBaKkAFCoZFhNMqQMlSWwKYTCtAjJswv6vFK0BP5AV8vz4sQBIt2zjTtyxA1nWw9eYwLUCavoWy+qktQF4HW28OIy5AIFAwLCKcLkDkmAXpNRUvQKjh2qVJji9ANhVYsa4DMECXucKPOEAwQPpdLW7CfDBAXAKYTEy5MEC+pgIr1vUwQB9LbQlgMjFAge/X5+luMUDjk0LGc6sxQEU4raT95zFAptwXg4ckMkAIgYJhEWEyQGsl7T+bnTJAzclXHiXaMkAubsL8rhYzQJASLds4UzNA8raXucKPM0BUWwKYTMwzQLX/bHbWCDRAF6TXVGBFNEB5SEIz6oE0QNvsrBF0vjRAPJEX8P36NECeNYLOhzc1QADa7KwRdDVAYX5Xi5uwNUDDIsJpJe01QCXHLEivKTZAh2uXJjlmNkDoDwIFw6I2QEq0bONM3zZArFjXwdYbN0AP/UGgYFg3QHChrH7qlDdA0kUXXXTRN0A06oE7/g04QJaO7BmISjhA9zJX+BGHOEBZ18HWm8M4QLt7LLUlADlAHSCXk688OUB+xAFyOXk5QOBobFDDtTlAQg3XLk3yOUCksUEN1y46QAVWrOtgazpAZ/oWyuqnOkDKnoGodOQ6QCxD7Ib+IDtAjedWZYhdO0Dvi8FDEpo7QFEwLCKc1jtAs9SWACYTPEAUeQHfr088QHYdbL05jDxA2MHWm8PIPEA6ZkF6TQU9QJsKrFjXQT1A/a4WN2F+PUA=",
          "dtype": "f8"
         },
         "yaxis": "y4"
        },
        {
         "customdata": [
          "2025-03-10T10:16:41.000000000",
          "2025-03-10T12:36:03.000000000",
          "2025-03-10T15:32:56.000000000",
          "2025-03-10T19:32:40.000000000",
          "2025-03-11T11:11:19.000000000",
          "2025-03-11T12:46:55.000000000",
          "2025-03-11T21:06:16.000000000",
          "2025-03-12T13:15:24.000000000",
          "2025-03-12T16:04:02.000000000",
          "2025-03-12T20:30:44.000000000",
          "2025-03-13T10:07:57.000000000",
          "2025-03-13T21:45:02.000000000",
          "2025-03-14T12:11:07.000000000",
          "2025-03-14T14:12:15.000000000",
          "2025-03-15T16:05:01.000000000"
         ],
         "hovertemplate": "ID: respondent_2<br>DateTime: %{customdata}<br>fatigue_lvl: %{x:.2f}<br>Score: %{y:.2f}<br>Pearson r: 0.871<br>Spearman r: 0.823<br>Kendall τ: 0.711<br>DCOR: 0.887",
         "legendgroup": "respondent_2",
         "marker": {
          "color": "#00FF00",
          "opacity": 0.8,
          "size": 8
         },
         "mode": "markers",
         "name": "ID: respondent_2",
         "showlegend": false,
         "type": "scatter",
         "x": {
          "bdata": "AgIDAwICAwMDAwIDAwMD",
          "dtype": "i1"
         },
         "xaxis": "x4",
         "y": {
          "bdata": "DwsQFA8MFhMUFQwZFhcW",
          "dtype": "i1"
         },
         "yaxis": "y4"
        },
        {
         "hovertemplate": "ID: respondent_2<br>Pearson r: 0.871<br>Spearman r: 0.823<br>Kendall τ: 0.711<br>DCOR: 0.887",
         "legendgroup": "respondent_2",
         "line": {
          "color": "#00FF00",
          "dash": "dash",
          "width": 2
         },
         "mode": "lines",
         "name": "Trend respondent_2",
         "showlegend": false,
         "type": "scatter",
         "x": {
          "bdata": "AAAAAAAAAEC/UqDWrxQAQH+lQK1fKQBAPvjggw8+AED9SoFav1IAQL2dITFvZwBAfPDBBx98AEA8Q2LezpAAQPuVArV+pQBAuuiiiy66AEB6O0Ni3s4AQDmO4ziO4wBA+OCDDz74AEC4MyTm7QwBQHeGxLydIQFANtlkk002AUD2KwVq/UoBQLV+pUCtXwFAdNFFF110AUA0JObtDIkBQPN2hsS8nQFAsskmm2yyAUByHMdxHMcBQDFvZ0jM2wFA8MEHH3zwAUCwFKj1KwUCQG9nSMzbGQJAL7rooosuAkDuDIl5O0MCQK1fKVDrVwJAbbLJJptsAkAsBWr9SoECQOtXCtT6lQJAq6qqqqqqAkBq/UqBWr8CQCpQ61cK1AJA6aKLLrroAkCo9SsFav0CQGhIzNsZEgNAJ5tssskmA0Dm7QyJeTsDQKZArV8pUANAZZNNNtlkA0Ak5u0MiXkDQOQ4juM4jgNAo4suuuiiA0Bi3s6QmLcDQCIxb2dIzANA4YMPPvjgA0Cg1q8UqPUDQGApUOtXCgRAH3zwwQcfBEDezpCYtzMEQJ4hMW9nSARAXXTRRRddBEAcx3Ecx3EEQNwZEvN2hgRAm2yyySabBEBav1Kg1q8EQBoS83aGxARA2WSTTTbZBECZtzMk5u0EQFgK1PqVAgVAGF100UUXBUDXrxSo9SsFQJYCtX6lQAVAVlVVVVVVBUAVqPUrBWoFQNT6lQK1fgVAlE022WSTBUBToNavFKgFQBLzdobEvAVA0kUXXXTRBUCRmLczJOYFQFDrVwrU+gVAED744IMPBkDPkJi3MyQGQI7jOI7jOAZATjbZZJNNBkANiXk7Q2IGQMzbGRLzdgZAjC666KKLBkBLgVq/UqAGQArU+pUCtQZAyiabbLLJBkCJeTtDYt4GQEjM2xkS8wZACB988MEHB0DHcRzHcRwHQIfEvJ0hMQdARhdddNFFB0AFav1KgVoHQMW8nSExbwdAhA8++OCDB0BEYt7OkJgHQAO1fqVArQdAwgcffPDBB0CCWr9SoNYHQEGtXylQ6wdAAAAAAAAACEA=",
          "dtype": "f8"
         },
         "xaxis": "x4",
         "y": {
          "bdata": "AAAAAAAAKkB+pUCtXykqQP5KgVq/UipAfPDBBx98KkD6lQK1fqUqQHo7Q2LezipA+OCDDz74KkB4hsS8nSErQPYrBWr9SitAdNFFF110K0D0dobEvJ0rQHIcx3EcxytA8MEHH3zwK0BwZ0jM2xksQO4MiXk7QyxAbLLJJptsLEDsVwrU+pUsQGr9SoFavyxA6KKLLrroLEBoSMzbGRItQObtDIl5Oy1AZJNNNtlkLUDkOI7jOI4tQGLezpCYty1A4IMPPvjgLUBgKVDrVwouQN7OkJi3My5AXnTRRRddLkDcGRLzdoYuQFq/UqDWry5A2mSTTTbZLkBYCtT6lQIvQNavFKj1Ky9AVlVVVVVVL0DU+pUCtX4vQFSg1q8UqC9A0kUXXXTRL0BQ61cK1PovQGhIzNsZEjBAJ5tssskmMEDm7QyJeTswQKZArV8pUDBAZZNNNtlkMEAk5u0MiXkwQOQ4juM4jjBAo4suuuiiMEBi3s6QmLcwQCIxb2dIzDBA4YMPPvjgMECg1q8UqPUwQGApUOtXCjFAH3zwwQcfMUDezpCYtzMxQJ4hMW9nSDFAXXTRRRddMUAcx3Ecx3ExQNwZEvN2hjFAm2yyySabMUBav1Kg1q8xQBoS83aGxDFA2WSTTTbZMUCZtzMk5u0xQFgK1PqVAjJAGF100UUXMkDXrxSo9SsyQJYCtX6lQDJAVlVVVVVVMkAVqPUrBWoyQNT6lQK1fjJAlE022WSTMkBToNavFKgyQBLzdobEvDJA0kUXXXTRMkCRmLczJOYyQFDrVwrU+jJAED744IMPM0DPkJi3MyQzQI7jOI7jODNATjbZZJNNM0ANiXk7Q2IzQMzbGRLzdjNAjC666KKLM0BLgVq/UqAzQArU+pUCtTNAyiabbLLJM0CJeTtDYt4zQEjM2xkS8zNACB988MEHNEDHcRzHcRw0QIfEvJ0hMTRARhdddNFFNEAFav1KgVo0QMW8nSExbzRAhA8++OCDNEBEYt7OkJg0QAO1fqVArTRAwgcffPDBNECCWr9SoNY0QEGtXylQ6zRAAQAAAAAANUA=",
          "dtype": "f8"
         },
         "yaxis": "y4"
        },
        {
         "customdata": [
          "2025-03-11T07:27:25.000000000",
          "2025-03-12T15:46:20.000000000",
          "2025-03-13T09:44:33.000000000",
          "2025-03-17T13:17:20.000000000",
          "2025-03-17T13:23:49.000000000",
          "2025-03-17T21:08:52.000000000",
          "2025-03-19T07:48:21.000000000",
          "2025-03-24T20:28:12.000000000"
         ],
         "hovertemplate": "ID: respondent_3<br>DateTime: %{customdata}<br>fatigue_lvl: %{x:.2f}<br>Score: %{y:.2f}<br>Pearson r: 0.970<br>Spearman r: 0.964<br>Kendall τ: 0.906<br>DCOR: 0.968",
         "legendgroup": "respondent_3",
         "marker": {
          "color": "#0000FF",
          "opacity": 0.8,
          "size": 8
         },
         "mode": "markers",
         "name": "ID: respondent_3",
         "showlegend": false,
         "type": "scatter",
         "x": {
          "bdata": "BAEDAQIDBAM=",
          "dtype": "i1"
         },
         "xaxis": "x4",
         "y": {
          "bdata": "HQkZAwsUHhU=",
          "dtype": "i1"
         },
         "yaxis": "y4"
        },
        {
         "hovertemplate": "ID: respondent_3<br>Pearson r: 0.970<br>Spearman r: 0.964<br>Kendall τ: 0.906<br>DCOR: 0.968",
         "legendgroup": "respondent_3",
         "line": {
          "color": "#0000FF",
          "dash": "dash",
          "width": 2
         },
         "mode": "lines",
         "name": "Trend respondent_3",
         "showlegend": false,
         "type": "scatter",
         "x": {
          "bdata": "AAAAAAAA8D988MEHH3zwP/jggw8++PA/dNFFF1108T/wwQcffPDxP22yySabbPI/6aKLLrro8j9lk0022WTzP+GDDz744PM/XXTRRRdd9D/ZZJNNNtn0P1ZVVVVVVfU/0kUXXXTR9T9ONtlkk032P8omm2yyyfY/RhdddNFF9z/CBx988MH3Pz744IMPPvg/uuiiiy66+D822WSTTTb5P7LJJptssvk/Lrrooosu+j+rqqqqqqr6PyebbLLJJvs/o4suuuii+z8ffPDBBx/8P5tssskmm/w/GF100UUX/T+UTTbZZJP9PxA++OCDD/4/jC666KKL/j8IH3zwwQf/P4QPPvjgg/8/AAAAAAAAAEA++OCDDz4AQHzwwQcffABAuuiiiy66AED44IMPPvgAQDbZZJNNNgFAdNFFF110AUCyySabbLIBQPDBBx988AFALrrooosuAkBssskmm2wCQKuqqqqqqgJA6aKLLrroAkAnm2yyySYDQGWTTTbZZANAo4suuuiiA0Dhgw8++OADQB988MEHHwRAXXTRRRddBECbbLLJJpsEQNpkk0022QRAGF100UUXBUBWVVVVVVUFQJRNNtlkkwVA0kUXXXTRBUAQPvjggw8GQE422WSTTQZAjC666KKLBkDKJptssskGQAgffPDBBwdARhdddNFFB0CEDz744IMHQMIHH3zwwQdAAAAAAAAACEA++OCDDz4IQHzwwQcffAhAuuiiiy66CED44IMPPvgIQDbZZJNNNglAdNFFF110CUCzySabbLIJQPHBBx988AlAL7rooosuCkBtsskmm2wKQKuqqqqqqgpA6aKLLrroCkAnm2yyySYLQGWTTTbZZAtAo4suuuiiC0Dhgw8++OALQB988MEHHwxAXXTRRRddDECbbLLJJpsMQNlkk0022QxAF1100UUXDUBWVVVVVVUNQJRNNtlkkw1A0kUXXXTRDUAQPvjggw8OQE422WSTTQ5AjC666KKLDkDKJptssskOQAgffPDBBw9ARhdddNFFD0CEDz744IMPQMIHH3zwwQ9AAAAAAAAAEEA=",
          "dtype": "f8"
         },
         "xaxis": "x4",
         "y": {
          "bdata": "XIubML+rFUDEPk93j6UWQCzyAr5fnxdAkqW2BDCZGED6WGpLAJMZQGQMHpLQjBpAzL/R2KCGG0A0c4UfcYAcQJwmOWZBeh1AAtrsrBF0HkBqjaDz4W0fQGogKh3ZMyBAHvqDQMGwIEDS091jqS0hQIWtN4eRqiFAOYeRqnknIkDtYOvNYaQiQKE6RfFJISNAVRSfFDKeI0AJ7vg3GhskQLzHUlsCmCRAcKGsfuoUJUAlewai0pElQNlUYMW6DiZAjS666KKLJkBACBQMiwgnQPThbS9zhSdAqbvHUlsCKEBdlSF2Q38oQBFve5kr/ChAxUjVvBN5KUB4Ii/g+/UpQCz8iAPkcipA4NXiJszvKkCUrzxKtGwrQEiJlm2c6StA/GLwkIRmLECwPEq0bOMsQGQWpNdUYC1AFvD9+jzdLUDKyVceJVouQH6jsUEN1y5AMn0LZfVTL0DmVmWI3dAvQE6Y39XiJjBAKIWM51ZlMEACcjn5yqMwQNxe5go/4jBAtkuTHLMgMUCQOEAuJ18xQGkl7T+bnTFAQxKaUQ/cMUAd/0ZjgxoyQPjr83T3WDJA0tighmuXMkCsxU2Y39UyQIay+qlTFDNAYJ+nu8dSM0A6jFTNO5EzQBR5Ad+vzzNA7mWu8CMONEDHUlsCmEw0QKE/CBQMizRAeyy1JYDJNEBVGWI39Ac1QC8GD0loRjVACfO7WtyENUDj32hsUMM1QL3MFX7EATZAl7nCjzhANkBxpm+hrH42QEuTHLMgvTZAJIDJxJT7NkD/bHbWCDo3QNlZI+h8eDdAs0bQ+fC2N0CNM30LZfU3QGcgKh3ZMzhAQQ3XLk1yOEAb+oNAwbA4QPXmMFI17zhAz9PdY6ktOUCpwIp1HWw5QIKtN4eRqjlAXJrkmAXpOUA2h5GqeSc6QBB0PrztZTpA6mDrzWGkOkDFTZjf1eI6QJ86RfFJITtAeSfyAr5fO0BTFJ8UMp47QC0BTCam3DtAB+74NxobPEDg2qVJjlk8QLrHUlsCmDxAlLT/bHbWPEBuoax+6hQ9QEiOWZBeUz1AInsGotKRPUA=",
          "dtype": "f8"
         },
         "yaxis": "y4"
        },
        {
         "customdata": [
          "2025-02-21T00:01:35.000000000",
          "2025-02-22T09:32:19.000000000",
          "2025-02-23T01:11:41.000000000",
          "2025-02-23T10:27:07.000000000",
          "2025-02-23T23:00:47.000000000",
          "2025-02-24T10:30:34.000000000",
          "2025-02-25T00:41:09.000000000",
          "2025-02-25T10:30:51.000000000",
          "2025-02-25T22:18:41.000000000",
          "2025-02-26T12:05:35.000000000",
          "2025-02-26T22:16:33.000000000",
          "2025-02-27T08:25:25.000000000",
          "2025-03-03T10:20:24.000000000",
          "2025-03-08T09:46:41.000000000",
          "2025-03-08T22:45:03.000000000",
          "2025-03-09T13:15:30.000000000",
          "2025-03-09T23:02:26.000000000",
          "2025-03-10T10:10:48.000000000",
          "2025-03-10T12:22:53.000000000",
          "2025-03-10T15:47:07.000000000",
          "2025-03-10T22:37:35.000000000",
          "2025-03-11T10:14:17.000000000",
          "2025-03-11T12:17:35.000000000",
          "2025-03-11T14:18:40.000000000",
          "2025-03-11T23:49:20.000000000",
          "2025-03-12T10:12:40.000000000",
          "2025-03-12T23:28:22.000000000",
          "2025-03-13T09:59:37.000000000",
          "2025-03-13T15:01:10.000000000",
          "2025-03-13T18:34:42.000000000",
          "2025-03-14T00:10:40.000000000",
          "2025-03-14T10:12:54.000000000",
          "2025-03-14T13:30:29.000000000",
          "2025-03-14T22:27:42.000000000",
          "2025-03-15T16:05:27.000000000",
          "2025-03-16T00:58:47.000000000"
         ],
         "hovertemplate": "ID: respondent_4<br>DateTime: %{customdata}<br>fatigue_lvl: %{x:.2f}<br>Score: %{y:.2f}<br>Pearson r: 0.988<br>Spearman r: 0.921<br>Kendall τ: 0.838<br>DCOR: 0.989",
         "legendgroup": "respondent_4",
         "marker": {
          "color": "#FF00FF",
          "opacity": 0.8,
          "size": 8
         },
         "mode": "markers",
         "name": "ID: respondent_4",
         "showlegend": false,
         "type": "scatter",
         "x": {
          "bdata": "AwEDAQMCBAIEAQMBAQEEAgQBAQEDAQEBAwEEAQEBAwEBBAEC",
          "dtype": "i1"
         },
         "xaxis": "x4",
         "y": {
          "bdata": "FQITAhUNHgohAxgDAwMeDRwBAQIYAgEHGQQcAQMFEwMEHwQM",
          "dtype": "i1"
         },
         "yaxis": "y4"
        },
        {
         "hovertemplate": "ID: respondent_4<br>Pearson r: 0.988<br>Spearman r: 0.921<br>Kendall τ: 0.838<br>DCOR: 0.989",
         "legendgroup": "respondent_4",
         "line": {
          "color": "#FF00FF",
          "dash": "dash",
          "width": 2
         },
         "mode": "lines",
         "name": "Trend respondent_4",
         "showlegend": false,
         "type": "scatter",
         "x": {
          "bdata": "AAAAAAAA8D988MEHH3zwP/jggw8++PA/dNFFF1108T/wwQcffPDxP22yySabbPI/6aKLLrro8j9lk0022WTzP+GDDz744PM/XXTRRRdd9D/ZZJNNNtn0P1ZVVVVVVfU/0kUXXXTR9T9ONtlkk032P8omm2yyyfY/RhdddNFF9z/CBx988MH3Pz744IMPPvg/uuiiiy66+D822WSTTTb5P7LJJptssvk/Lrrooosu+j+rqqqqqqr6PyebbLLJJvs/o4suuuii+z8ffPDBBx/8P5tssskmm/w/GF100UUX/T+UTTbZZJP9PxA++OCDD/4/jC666KKL/j8IH3zwwQf/P4QPPvjgg/8/AAAAAAAAAEA++OCDDz4AQHzwwQcffABAuuiiiy66AED44IMPPvgAQDbZZJNNNgFAdNFFF110AUCyySabbLIBQPDBBx988AFALrrooosuAkBssskmm2wCQKuqqqqqqgJA6aKLLrroAkAnm2yyySYDQGWTTTbZZANAo4suuuiiA0Dhgw8++OADQB988MEHHwRAXXTRRRddBECbbLLJJpsEQNpkk0022QRAGF100UUXBUBWVVVVVVUFQJRNNtlkkwVA0kUXXXTRBUAQPvjggw8GQE422WSTTQZAjC666KKLBkDKJptssskGQAgffPDBBwdARhdddNFFB0CEDz744IMHQMIHH3zwwQdAAAAAAAAACEA++OCDDz4IQHzwwQcffAhAuuiiiy66CED44IMPPvgIQDbZZJNNNglAdNFFF110CUCzySabbLIJQPHBBx988AlAL7rooosuCkBtsskmm2wKQKuqqqqqqgpA6aKLLrroCkAnm2yyySYLQGWTTTbZZAtAo4suuuiiC0Dhgw8++OALQB988MEHHwxAXXTRRRddDECbbLLJJpsMQNlkk0022QxAF1100UUXDUBWVVVVVVUNQJRNNtlkkw1A0kUXXXTRDUAQPvjggw8OQE422WSTTQ5AjC666KKLDkDKJptssskOQAgffPDBBw9ARhdddNFFD0CEDz744IMPQMIHH3zwwQ9AAAAAAAAAEEA=",
          "dtype": "f8"
         },
         "xaxis": "x4",
         "y": {
          "bdata": "PG2g0wY6B0B04zs3vnMJQLBZ15p1rQtA6M9y/iznDUAQIwcxchAQQDDe1OJNLRFATJmilClKEkBoVHBGBWcTQIQPPvjggxRAosoLqrygFUC+hdlbmL0WQNxApw102hdA+vt0v0/3GEAWt0JxKxQaQDJyECMHMRtAUC3e1OJNHEBs6KuGvmodQIijeTiahx5ApF5H6nWkH0DhjArOqGAgQG9q8aYW7yBA/UfYf4R9IUCNJb9Y8gsiQBsDpjFgmiJAqeCMCs4oI0A3vnPjO7cjQMWbWrypRSRAVXlBlRfUJEDjVihuhWIlQHE0D0fz8CVAARL2H2F/JkCP79z4zg0nQB3Nw9E8nCdAq6qqqqoqKEA5iJGDGLkoQMdleFyGRylAVUNfNfTVKUDlIEYOYmQqQHP+LOfP8ipAAdwTwD2BK0CPufqYqw8sQB2X4XEZnixAq3TISocsLUA5Uq8j9botQMsvlvxiSS5AWQ191dDXLkDn6mOuPmYvQHXISoes9C9AAtMYMI1BMEDIQYwcxIgwQJCw/wj7zzBAWB9z9TEXMUAejubhaF4xQOb8Wc6fpTFArmvNutbsMUB02kCnDTQyQDxJtJNEezJABLgngHvCMkDKJptssgkzQJKVDlnpUDNAWASCRSCYM0Agc/UxV98zQObhaB6OJjRArlDcCsVtNEB2v0/3+7Q0QDwuw+My/DRABJ020GlDNUDKC6q8oIo1QJJ6HanX0TVAWOmQlQ4ZNkAgWASCRWA2QOjGd258pzZArjXrWrPuNkB2pF5H6jU3QD4T0jMhfTdABIJFIFjEN0DM8LgMjws4QJRfLPnFUjhAWs6f5fyZOEAiPRPSM+E4QOirhr5qKDlAsBr6qqFvOUB2iW2X2LY5QD744IMP/jlABmdUcEZFOkDM1cdcfYw6QJREO0m00zpAXLOuNesaO0AkIiIiImI7QOqQlQ5ZqTtAsv8I+4/wO0B4bnznxjc8QEDd79P9fjxACExjwDTGPEDOutasaw09QJYpSpmiVD1AXJi9hdmbPUAkBzFyEOM9QOp1pF5HKj5AsuQXS35xPkA=",
          "dtype": "f8"
         },
         "yaxis": "y4"
        },
        {
         "customdata": [
          "2025-03-10T10:09:26.000000000",
          "2025-03-10T15:39:44.000000000",
          "2025-03-10T19:27:25.000000000",
          "2025-03-10T20:39:20.000000000",
          "2025-03-11T08:55:58.000000000",
          "2025-03-11T17:38:58.000000000",
          "2025-03-12T08:48:30.000000000",
          "2025-03-12T16:04:18.000000000",
          "2025-03-12T20:38:30.000000000",
          "2025-03-13T09:20:31.000000000",
          "2025-03-13T12:26:28.000000000",
          "2025-03-13T14:17:22.000000000",
          "2025-03-13T22:48:59.000000000",
          "2025-03-14T13:41:47.000000000",
          "2025-03-14T15:19:17.000000000",
          "2025-03-15T17:17:19.000000000"
         ],
         "hovertemplate": "ID: respondent_1<br>DateTime: %{customdata}<br>response_time_mean: %{x:.2f}<br>Score: %{y:.2f}<br>Pearson r: -0.023<br>Spearman r: -0.019<br>Kendall τ: -0.009<br>DCOR: 0.233",
         "legendgroup": "respondent_1",
         "marker": {
          "color": "#FF0000",
          "opacity": 0.8,
          "size": 8
         },
         "mode": "markers",
         "name": "ID: respondent_1",
         "showlegend": false,
         "type": "scatter",
         "x": {
          "bdata": "DHva4a/JCEA4EJIFTGAIQJayDHGsCwlApOTVOQbkB0DpfeNrz6wJQFkXt9EAXgNAE9BE2PB0CEDIKTqSy/8IQAPso1NXPgZArdhfdk+eAkCK/WX35GEHQJaVJqWgWwNA/FI/bypSBEDWrZ6T3rcDQNieWRKgJgJAA3gLJCh+AkA=",
          "dtype": "f8"
         },
         "xaxis": "x5",
         "y": {
          "bdata": "DwkZHgYZBhMPDhwXEwMEHA==",
          "dtype": "i1"
         },
         "yaxis": "y5"
        },
        {
         "hovertemplate": "ID: respondent_1<br>Pearson r: -0.023<br>Spearman r: -0.019<br>Kendall τ: -0.009<br>DCOR: 0.233",
         "legendgroup": "respondent_1",
         "line": {
          "color": "#FF0000",
          "dash": "dash",
          "width": 2
         },
         "mode": "lines",
         "name": "Trend respondent_1",
         "showlegend": false,
         "type": "scatter",
         "x": {
          "bdata": "2J5ZEqAmAkBPeuHpFDoCQMZVacGJTQJAPTHxmP5gAkC0DHlwc3QCQCzoAEjohwJAo8OIH12bAkAanxD30a4CQJF6mM5GwgJACFYgprvVAkB/Mah9MOkCQPYMMFWl/AJAbei3LBoQA0Dlwz8EjyMDQFyfx9sDNwNA03pPs3hKA0BKVteK7V0DQMExX2JicQNAOA3nOdeEA0Cv6G4RTJgDQCbE9ujAqwNAnp9+wDW/A0AVewaYqtIDQIxWjm8f5gNAAzIWR5T5A0B6DZ4eCQ0EQPHoJfZ9IARAaMStzfIzBEDfnzWlZ0cEQFZ7vXzcWgRAzlZFVFFuBEBFMs0rxoEEQLwNVQM7lQRAM+nc2q+oBECqxGSyJLwEQCGg7ImZzwRAmHt0YQ7jBEAQV/w4g/YEQIcyhBD4CQVA/g0M6GwdBUB16ZO/4TAFQOzEG5dWRAVAY6CjbstXBUDaeytGQGsFQFFXsx21fgVAyDI79SmSBUBADsPMnqUFQLfpSqQTuQVALsXSe4jMBUCloFpT/d8FQBx84ipy8wVAk1dqAucGBkAKM/LZWxoGQIIOerHQLQZA+OkBiUVBBkBwxYlgulQGQOegETgvaAZAXnyZD6R7BkDVVyHnGI8GQEwzqb6NogZAww4xlgK2BkA66rhtd8kGQLLFQEXs3AZAKaHIHGHwBkCgfFD01QMHQBdY2MtKFwdAjjNgo78qB0AFD+h6ND4HQHzqb1KpUQdA88X3KR5lB0BqoX8Bk3gHQOJ8B9kHjAdAWViPsHyfB0DQMxeI8bIHQEcPn19mxgdAvuomN9vZB0A1xq4OUO0HQKyhNubEAAhAJH2+vTkUCECaWEaVricIQBI0zmwjOwhAiQ9WRJhOCEAA690bDWIIQHfGZfOBdQhA7qHtyvaICEBlfXWia5wIQNxY/XngrwhAVDSFUVXDCEDLDw0pytYIQELrlAA/6ghAucYc2LP9CEAwoqSvKBEJQKd9LIedJAlAHlm0XhI4CUCWNDw2h0sJQAwQxA38XglAhOtL5XByCUD7xtO85YUJQHKiW5RamQlA6X3ja8+sCUA=",
          "dtype": "f8"
         },
         "xaxis": "x5",
         "y": {
          "bdata": "UqcjZykcMUBCEmberRoxQDJ9qFUyGTFAIujqzLYXMUASUy1EOxYxQAG+b7u/FDFA8SiyMkQTMUDhk/SpyBExQNH+NiFNEDFAwWl5mNEOMUCx1LsPVg0xQKE//obaCzFAkKpA/l4KMUCAFYN14wgxQHCAxexnBzFAYOsHZOwFMUBQVkrbcAQxQEDBjFL1AjFAMCzPyXkBMUAflxFB/v8wQA8CVLiC/jBA/2yWLwf9MEDv19imi/swQN9CGx4Q+jBAz61dlZT4MEC/GKAMGfcwQK6D4oOd9TBAnu4k+yH0MECOWWdypvIwQH7Eqekq8TBAbi/sYK/vMEBemi7YM+4wQE4FcU+47DBAPXCzxjzrMEAt2/U9wekwQB1GOLVF6DBADbF6LMrmMED9G72jTuUwQO2G/xrT4zBA3PFBklfiMEDMXIQJ3OAwQLzHxoBg3zBArDIJ+OTdMECcnUtvadwwQIwIjubt2jBAfHPQXXLZMEBr3hLV9tcwQFtJVUx71jBAS7SXw//UMEA7H9o6hNMwQCuKHLII0jBAG/VeKY3QMEALYKGgEc8wQPrK4xeWzTBA6jUmjxrMMEDaoGgGn8owQMoLq30jyTBAunbt9KfHMECq4S9sLMYwQJpMcuOwxDBAibe0WjXDMEB5IvfRucEwQGmNOUk+wDBAWfh7wMK+MEBJY743R70wQDnOAK/LuzBAKTlDJlC6MEAYpIWd1LgwQAgPyBRZtzBA+HkKjN21MEDo5EwDYrQwQNhPj3rmsjBAyLrR8WqxMEC4JRRp768wQKeQVuBzrjBAl/uYV/isMECHZtvOfKswQHfRHUYBqjBAZzxgvYWoMEBXp6I0CqcwQEYS5auOpTBANn0nIxOkMEAm6Gmal6IwQBZTrBEcoTBABr7uiKCfMED2KDEAJZ4wQOaTc3epnDBA1f617i2bMEDFafhlspkwQLXUOt02mDBApT99VLuWMECVqr/LP5UwQIUVAkPEkzBAdYBEukiSMEBk64YxzZAwQFRWyahRjzBARMELINaNMEA0LE6XWowwQCSXkA7fijBAFALThWOJMEA=",
          "dtype": "f8"
         },
         "yaxis": "y5"
        },
        {
         "customdata": [
          "2025-03-10T10:16:41.000000000",
          "2025-03-10T12:36:03.000000000",
          "2025-03-10T15:32:56.000000000",
          "2025-03-10T19:32:40.000000000",
          "2025-03-11T11:11:19.000000000",
          "2025-03-11T12:46:55.000000000",
          "2025-03-11T21:06:16.000000000",
          "2025-03-12T13:15:24.000000000",
          "2025-03-12T16:04:02.000000000",
          "2025-03-12T20:30:44.000000000",
          "2025-03-13T10:07:57.000000000",
          "2025-03-13T21:45:02.000000000",
          "2025-03-14T12:11:07.000000000",
          "2025-03-14T14:12:15.000000000",
          "2025-03-15T16:05:01.000000000"
         ],
         "hovertemplate": "ID: respondent_2<br>DateTime: %{customdata}<br>response_time_mean: %{x:.2f}<br>Score: %{y:.2f}<br>Pearson r: -0.176<br>Spearman r: -0.023<br>Kendall τ: -0.010<br>DCOR: 0.405",
         "legendgroup": "respondent_2",
         "marker": {
          "color": "#00FF00",
          "opacity": 0.8,
          "size": 8
         },
         "mode": "markers",
         "name": "ID: respondent_2",
         "showlegend": false,
         "type": "scatter",
         "x": {
          "bdata": "5A8GnntPEkDGpwAYzyASQHCUvDrHwBFASBYwgVt3DkDNWDSdnQwPQM+9h0uOuwxA/2DguffwDUApRMAhVCkMQBY1mIbhIwxATP28qUhFEEB2GmmpvB0NQLO1vkhoCxBAIEHxY8zdDECalIJuLykRQKjjMQOVcQ9A",
          "dtype": "f8"
         },
         "xaxis": "x5",
         "y": {
          "bdata": "DwsQFA8MFhMUFQwZFhcW",
          "dtype": "i1"
         },
         "yaxis": "y5"
        },
        {
         "hovertemplate": "ID: respondent_2<br>Pearson r: -0.176<br>Spearman r: -0.023<br>Kendall τ: -0.010<br>DCOR: 0.405",
         "legendgroup": "respondent_2",
         "line": {
          "color": "#00FF00",
          "dash": "dash",
          "width": 2
         },
         "mode": "lines",
         "name": "Trend respondent_2",
         "showlegend": false,
         "type": "scatter",
         "x": {
          "bdata": "FjWYhuEjDEBJMt+kzzkMQHwvJsO9TwxAryxt4atlDEDiKbT/mXsMQBUn+x2IkQxASCRCPHanDEB6IYlaZL0MQK0e0HhS0wxA4BsXl0DpDEATGV61Lv8MQEYWpdMcFQ1AeRPs8QorDUCsEDMQ+UANQN8Nei7nVg1AEgvBTNVsDUBFCAhrw4INQHgFT4mxmA1AqwKWp5+uDUDe/9zFjcQNQBH9I+R72g1ARPpqAmrwDUB297EgWAYOQKn0+D5GHA5A3PE/XTQyDkAP74Z7IkgOQELszZkQXg5AdekUuP5zDkCo5lvW7IkOQNvjovTanw5ADuHpEsm1DkBB3jAxt8sOQHTbd0+l4Q5Ap9i+bZP3DkDa1QWMgQ0PQAzTTKpvIw9AQNCTyF05D0ByzdrmS08PQKXKIQU6ZQ9A2MdoIyh7D0ALxa9BFpEPQD7C9l8Epw9Acb89fvK8D0CkvISc4NIPQNe5y7rO6A9ACrcS2bz+D0Ae2qx7VQoQQLhY0IpMFRBAUdfzmUMgEEDrVRepOisQQITUOrgxNhBAHlNexyhBEEC30YHWH0wQQFFQpeUWVxBA6s7I9A1iEECETewDBW0QQB3MDxP8dxBAtkozIvOCEEBQyVYx6o0QQOlHekDhmBBAg8adT9ijEEAcRcFez64QQLbD5G3GuRBAT0IIfb3EEEDpwCuMtM8QQII/T5ur2hBAHL5yqqLlEEC1PJa5mfAQQE+7uciQ+xBA6Dnd14cGEUCCuADnfhERQBs3JPZ1HBFAtLVHBW0nEUBONGsUZDIRQOeyjiNbPRFAgTGyMlJIEUAasNVBSVMRQLQu+VBAXhFATa0cYDdpEUDnK0BvLnQRQICqY34lfxFAGimHjRyKEUCzp6qcE5URQE0mzqsKoBFA5qTxugGrEUCAIxXK+LURQBmiONnvwBFAsiBc6ObLEUBMn3/33dYRQOUdowbV4RFAf5zGFczsEUAYG+okw/cRQLKZDTS6AhJASxgxQ7ENEkDlllRSqBgSQH4VeGGfIxJAGJSbcJYuEkCxEr9/jTkSQEqR4o6ERBJA5A8GnntPEkA=",
          "dtype": "f8"
         },
         "xaxis": "x5",
         "y": {
          "bdata": "yXEG3Og/M0BQ5PBHBDozQNZW27MfNDNAXMnFHzsuM0DjO7CLVigzQGmumvdxIjNA8CCFY40cM0B2k2/PqBYzQPwFWjvEEDNAg3hEp98KM0AJ6y4T+wQzQJBdGX8W/zJAFtAD6zH5MkCcQu5WTfMyQCO12MJo7TJAqSfDLoTnMkAvmq2an+EyQLYMmAa72zJAPH+CctbVMkDC8Wze8c8yQElkV0oNyjJAz9ZBtijEMkBWSSwiRL4yQNy7Fo5fuDJAYi4B+nqyMkDpoOtllqwyQHAT1tGxpjJA9oXAPc2gMkB8+Kqp6JoyQAJrlRUElTJAiN1/gR+PMkAPUGrtOokyQJbCVFlWgzJAHDU/xXF9MkCipykxjXcyQCkaFJ2ocTJAr4z+CMRrMkA2/+h032UyQLxx0+D6XzJAQuS9TBZaMkDIVqi4MVQyQE/JkiRNTjJA1jt9kGhIMkBcrmf8g0IyQOIgUmifPDJAaJM81Lo2MkDvBSdA1jAyQHV4EazxKjJA/Or7Fw0lMkCCXeaDKB8yQAjQ0O9DGTJAjkK7W18TMkAWtaXHeg0yQJwnkDOWBzJAIpp6n7EBMkCoDGULzfsxQC9/T3fo9TFAtvE54wPwMUA8ZCRPH+oxQMLWDrs65DFASEn5JlbeMUDPu+OScdgxQFUuzv6M0jFA3KC4aqjMMUBiE6PWw8YxQOiFjULfwDFAbvh3rvq6MUD1amIaFrUxQHvdTIYxrzFAAlA38kypMUCIwiFeaKMxQA41DMqDnTFAlaf2NZ+XMUAcGuGhupExQKKMyw3WizFAKP+1efGFMUCucaDlDIAxQDTkilEoejFAvFZ1vUN0MUBCyV8pX24xQMg7SpV6aDFATq40AZZiMUDVIB9tsVwxQFuTCdnMVjFA4gX0ROhQMUBoeN6wA0sxQO7qyBwfRTFAdV2ziDo/MUD7z530VTkxQIJCiGBxMzFACLVyzIwtMUCOJ104qCcxQBSaR6TDITFAmwwyEN8bMUAhfxx8+hUxQKjxBugVEDFALmTxUzEKMUC01tu/TAQxQDtJxito/jBAwruwl4P4MEA=",
          "dtype": "f8"
         },
         "yaxis": "y5"
        },
        {
         "customdata": [
          "2025-03-11T07:27:25.000000000",
          "2025-03-12T15:46:20.000000000",
          "2025-03-13T09:44:33.000000000",
          "2025-03-17T13:17:20.000000000",
          "2025-03-17T13:23:49.000000000",
          "2025-03-17T21:08:52.000000000",
          "2025-03-19T07:48:21.000000000",
          "2025-03-24T20:28:12.000000000"
         ],
         "hovertemplate": "ID: respondent_3<br>DateTime: %{customdata}<br>response_time_mean: %{x:.2f}<br>Score: %{y:.2f}<br>Pearson r: -0.023<br>Spearman r: 0.000<br>Kendall τ: -0.071<br>DCOR: 0.408",
         "legendgroup": "respondent_3",
         "marker": {
          "color": "#0000FF",
          "opacity": 0.8,
          "size": 8
         },
         "mode": "markers",
         "name": "ID: respondent_3",
         "showlegend": false,
         "type": "scatter",
         "x": {
          "bdata": "6pCb4Qb8FkA6tMh2vh8VQM0eaAWG7BlAt0CC4sdYF0Do2az6XO0QQEZ8J2a92BFAYJM16iHaEUCUTbnCu9wQQA==",
          "dtype": "f8"
         },
         "xaxis": "x5",
         "y": {
          "bdata": "HQkZAwsUHhU=",
          "dtype": "i1"
         },
         "yaxis": "y5"
        },
        {
         "hovertemplate": "ID: respondent_3<br>Pearson r: -0.023<br>Spearman r: 0.000<br>Kendall τ: -0.071<br>DCOR: 0.408",
         "legendgroup": "respondent_3",
         "line": {
          "color": "#0000FF",
          "dash": "dash",
          "width": 2
         },
         "mode": "lines",
         "name": "Trend respondent_3",
         "showlegend": false,
         "type": "scatter",
         "x": {
          "bdata": "lE25wrvcEEBPceRoKvQQQAqVDw+ZCxFAxLg6tQcjEUB/3GVbdjoRQDoAkQHlURFA9SO8p1NpEUCvR+dNwoARQGprEvQwmBFAJY89mp+vEUDgsmhADscRQJrWk+Z83hFAVfq+jOv1EUAQHuoyWg0SQMtBFdnIJBJAhWVAfzc8EkBAiWslplMSQPuslssUaxJAttDBcYOCEkBw9OwX8pkSQCsYGL5gsRJA5jtDZM/IEkChX24KPuASQFuDmbCs9xJAFqfEVhsPE0DRyu/8iSYTQIzuGqP4PRNARhJGSWdVE0ABNnHv1WwTQLxZnJVEhBNAd33HO7ObE0AyofLhIbMTQOzEHYiQyhNAp+hILv/hE0BiDHTUbfkTQBwwn3rcEBRA11PKIEsoFECSd/XGuT8UQE2bIG0oVxRACL9LE5duFEDC4na5BYYUQH0Gol90nRRAOCrNBeO0FEDzTfirUcwUQK1xI1LA4xRAaJVO+C77FEAjuXmenRIVQN7cpEQMKhVAmADQ6npBFUBTJPuQ6VgVQA5IJjdYcBVAyWtR3caHFUCEj3yDNZ8VQD6zpymkthVA+dbSzxLOFUC0+v11geUVQG4eKRzw/BVAKUJUwl4UFkDkZX9ozSsWQJ+Jqg48QxZAWq3VtKpaFkAU0QBbGXIWQM/0KwGIiRZAihhXp/agFkBEPIJNZbgWQP9frfPTzxZAuoPYmULnFkB1pwNAsf4WQDDLLuYfFhdA6u5ZjI4tF0ClEoUy/UQXQGA2sNhrXBdAGlrbftpzF0DVfQYlSYsXQJChMcu3ohdAS8VccSa6F0AG6YcXldEXQMAMs70D6RdAezDeY3IAGEA2VAkK4RcYQPB3NLBPLxhArJtfVr5GGEBmv4r8LF4YQCHjtaKbdRhA3AbhSAqNGECWKgzveKQYQFFON5XnuxhADHJiO1bTGEDGlY3hxOoYQIK5uIczAhlAPN3jLaIZGUD3AA/UEDEZQLIkOnp/SBlAbEhlIO5fGUAnbJDGXHcZQOKPu2zLjhlAnbPmEjqmGUBY1xG5qL0ZQBL7PF8X1RlAzR5oBYbsGUA=",
          "dtype": "f8"
         },
         "xaxis": "x5",
         "y": {
          "bdata": "SWrwJvy5MkCGKO6Fd7gyQMLm6+TytjJA/6TpQ261MkA7Y+ei6bMyQHgh5QFlsjJAtN/iYOCwMkDxneC/W68yQC1c3h7XrTJAahrcfVKsMkCm2NnczaoyQOKW1ztJqTJAH1XVmsSnMkBbE9P5P6YyQJjR0Fi7pDJA1I/OtzajMkARTswWsqEyQE0MynUtoDJAisrH1KieMkDGiMUzJJ0yQANHw5KfmzJAPwXB8RqaMkB8w75QlpgyQLiBvK8RlzJA9T+6Do2VMkAx/rdtCJQyQG68tcyDkjJAqnqzK/+QMkDnOLGKeo8yQCP3run1jTJAYLWsSHGMMkCcc6qn7IoyQNkxqAZoiTJAFfClZeOHMkBSrqPEXoYyQI5soSPahDJAyyqfglWDMkAH6Zzh0IEyQESnmkBMgDJAgGWYn8d+MkC9I5b+Qn0yQPnhk12+ezJANqCRvDl6MkByXo8btXgyQK8cjXowdzJA69qK2at1MkAomYg4J3QyQGRXhpeicjJAoBWE9h1xMkDd04FVmW8yQBqSf7QUbjJAVlB9E5BsMkCSDntyC2syQM/MeNGGaTJAC4t2MAJoMkBISXSPfWYyQIQHcu74ZDJAwcVvTXRjMkD9g22s72EyQDpCawtrYDJAdgBpauZeMkCzvmbJYV0yQO98ZCjdWzJALDtih1haMkBo+V/m01gyQKW3XUVPVzJA4XVbpMpVMkAeNFkDRlQyQFryVmLBUjJAl7BUwTxRMkDTblIguE8yQBAtUH8zTjJATOtN3q5MMkCJqUs9KksyQMVnSZylSTJAAiZH+yBIMkA+5ERanEYyQHuiQrkXRTJAt2BAGJNDMkD0Hj53DkIyQDDdO9aJQDJAbZs5NQU/MkCpWTeUgD0yQOYXNfP7OzJAItYyUnc6MkBflDCx8jgyQJtSLhBuNzJA2BAsb+k1MkAUzynOZDQyQFCNJy3gMjJAjUsljFsxMkDJCSPr1i8yQAbIIEpSLjJAQoYeqc0sMkB/RBwISSsyQLsCGmfEKTJA+MAXxj8oMkA0fxUluyYyQHE9E4Q2JTJArfsQ47EjMkA=",
          "dtype": "f8"
         },
         "yaxis": "y5"
        },
        {
         "customdata": [
          "2025-02-21T00:01:35.000000000",
          "2025-02-22T09:32:19.000000000",
          "2025-02-23T01:11:41.000000000",
          "2025-02-23T10:27:07.000000000",
          "2025-02-23T23:00:47.000000000",
          "2025-02-24T10:30:34.000000000",
          "2025-02-25T00:41:09.000000000",
          "2025-02-25T10:30:51.000000000",
          "2025-02-25T22:18:41.000000000",
          "2025-02-26T12:05:35.000000000",
          "2025-02-26T22:16:33.000000000",
          "2025-02-27T08:25:25.000000000",
          "2025-03-03T10:20:24.000000000",
          "2025-03-08T09:46:41.000000000",
          "2025-03-08T22:45:03.000000000",
          "2025-03-09T13:15:30.000000000",
          "2025-03-09T23:02:26.000000000",
          "2025-03-10T10:10:48.000000000",
          "2025-03-10T12:22:53.000000000",
          "2025-03-10T15:47:07.000000000",
          "2025-03-10T22:37:35.000000000",
          "2025-03-11T10:14:17.000000000",
          "2025-03-11T12:17:35.000000000",
          "2025-03-11T14:18:40.000000000",
          "2025-03-11T23:49:20.000000000",
          "2025-03-12T10:12:40.000000000",
          "2025-03-12T23:28:22.000000000",
          "2025-03-13T09:59:37.000000000",
          "2025-03-13T15:01:10.000000000",
          "2025-03-13T18:34:42.000000000",
          "2025-03-14T00:10:40.000000000",
          "2025-03-14T10:12:54.000000000",
          "2025-03-14T13:30:29.000000000",
          "2025-03-14T22:27:42.000000000",
          "2025-03-15T16:05:27.000000000",
          "2025-03-16T00:58:47.000000000"
         ],
         "hovertemplate": "ID: respondent_4<br>DateTime: %{customdata}<br>response_time_mean: %{x:.2f}<br>Score: %{y:.2f}<br>Pearson r: -0.041<br>Spearman r: -0.002<br>Kendall τ: -0.003<br>DCOR: 0.193",
         "legendgroup": "respondent_4",
         "marker": {
          "color": "#FF00FF",
          "opacity": 0.8,
          "size": 8
         },
         "mode": "markers",
         "name": "ID: respondent_4",
         "showlegend": false,
         "type": "scatter",
         "x": {
          "bdata": "SkG3lzTGB0AyPWGJBxQJQM9m1edqqwdA1iE3ww14C0AJOIQqNXsGQBN+qZ83lQZAs9KkFHR7CkAzhc5r7JIGQLPSpBR0ewVAKT+p9ul4CEDcgM8PI4QHQNjTDn9NVgdAzR5oBYasCUAcWmQ7308KQKBU+3Q85gdARfC/lezYCEBpke18PzUHQKT8pNqn4wRAiGNd3EYDA0DcnbXbLrQFQKg65Ga4AQZArwPnjCjtBkA9P4wQHu0EQJet9UVCWwVAMevFUE40BEA/HY8ZqAwFQPNZngd35wVA/fZ14JyRB0DF4cyv5oAFQByxFp8C4ARABP9byY6NBEAEBHP0+L0DQIxPATCeQQZAqrcGtkqwBEBtIchBCbMJQPJ7m/7sRwVA",
          "dtype": "f8"
         },
         "xaxis": "x5",
         "y": {
          "bdata": "FQITAhUNHgohAxgDAwMeDRwBAQIYAgEHGQQcAQMFEwMEHwQM",
          "dtype": "i1"
         },
         "yaxis": "y5"
        },
        {
         "hovertemplate": "ID: respondent_4<br>Pearson r: -0.041<br>Spearman r: -0.002<br>Kendall τ: -0.003<br>DCOR: 0.193",
         "legendgroup": "respondent_4",
         "line": {
          "color": "#FF00FF",
          "dash": "dash",
          "width": 2
         },
         "mode": "lines",
         "name": "Trend respondent_4",
         "showlegend": false,
         "type": "scatter",
         "x": {
          "bdata": "iGNd3EYDA0BfvfqqJBkDQDcXmHkCLwNADnE1SOBEA0DmytIWvloDQL0kcOWbcANAlH4NtHmGA0Bs2KqCV5wDQEMySFE1sgNAG4zlHxPIA0Dy5YLu8N0DQMo/IL3O8wNAoZm9i6wJBEB481paih8EQFBN+ChoNQRAJ6eV90VLBED/ADPGI2EEQNZa0JQBdwRArbRtY9+MBECFDgsyvaIEQFxoqACbuARANMJFz3jOBEALHOOdVuQEQOJ1gGw0+gRAus8dOxIQBUCRKbsJ8CUFQGmDWNjNOwVAQN31pqtRBUAYN5N1iWcFQO+QMERnfQVAxurNEkWTBUCeRGvhIqkFQHWeCLAAvwVATfilft7UBUAkUkNNvOoFQPyr4BuaAAZA0wV+6ncWBkCqXxu5VSwGQIK5uIczQgZAWRNWVhFYBkAwbfMk720GQAjHkPPMgwZA3yAuwqqZBkC3esuQiK8GQI7UaF9mxQZAZi4GLkTbBkA9iKP8IfEGQBTiQMv/BgdA7Dvemd0cB0DDlXtouzIHQJvvGDeZSAdAckm2BXdeB0BKo1PUVHQHQCH98KIyigdA+FaOcRCgB0DQsCtA7rUHQKcKyQ7MywdAfmRm3anhB0BWvgOsh/cHQC4YoXplDQhABXI+SUMjCEDcy9sXITkIQLQleeb+TghAi38WtdxkCEBi2bODunoIQDozUVKYkAhAEY3uIHamCEDp5ovvU7wIQMBAKb4x0ghAmJrGjA/oCEBv9GNb7f0IQEZOASrLEwlAHqie+KgpCUD1ATzHhj8JQM1b2ZVkVQlApLV2ZEJrCUB8DxQzIIEJQFNpsQH+lglAKsNO0NusCUACHeyeucIJQNl2iW2X2AlAsNAmPHXuCUCIKsQKUwQKQF+EYdkwGgpAN97+pw4wCkAOOJx27EUKQOaROUXKWwpAvevWE6hxCkCURXTihYcKQGyfEbFjnQpAQ/muf0GzCkAbU0xOH8kKQPKs6Rz93gpAygaH69r0CkChYCS6uAoLQHi6wYiWIAtAUBRfV3Q2C0AnbvwlUkwLQP7HmfQvYgtA1iE3ww14C0A=",
          "dtype": "f8"
         },
         "xaxis": "x5",
         "y": {
          "bdata": "3UIhTdzYKUAZ0dtcB88pQFVflmwyxSlAke1QfF27KUDNewuMiLEpQAkKxpuzpylARZiAq96dKUCBJju7CZQpQL209co0iilA+UKw2l+AKUA10WrqinYpQHFfJfq1bClAre3fCeFiKUDqe5oZDFkpQCUKVSk3TylAYpgPOWJFKUCdJspIjTspQNq0hFi4MSlAFkM/aOMnKUBS0fl3Dh4pQI5ftIc5FClAyu1ul2QKKUAGfCmnjwApQEIK5La69ihAfpiexuXsKEC6JlnWEOMoQPa0E+Y72ShAMkPO9WbPKEBu0YgFksUoQKpfQxW9uyhA5u39JOixKEAifLg0E6goQF4Kc0Q+nihAmpgtVGmUKEDWJuhjlIooQBK1onO/gChATkNdg+p2KECK0ReTFW0oQMZf0qJAYyhAAu6MsmtZKEA+fEfClk8oQHoKAtLBRShAtpi84ew7KEDyJnfxFzIoQC61MQFDKChAakPsEG4eKECm0aYgmRQoQOJfYTDECihAHu4bQO8AKEBafNZPGvcnQJYKkV9F7SdA0phLb3DjJ0AOJwZ/m9knQEq1wI7GzydAh0N7nvHFJ0DC0TWuHLwnQP9f8L1HsidAO+6qzXKoJ0B3fGXdnZ4nQLIKIO3IlCdA75ja/POKJ0ArJ5UMH4EnQGe1TxxKdydAo0MKLHVtJ0Dg0cQ7oGMnQBtgf0vLWSdAWO45W/ZPJ0CTfPRqIUYnQNAKr3pMPCdAC5lpincyJ0BIJySaoignQIS13qnNHidAwEOZufgUJ0D80VPJIwsnQDhgDtlOASdAdO7I6Hn3JkCwfIP4pO0mQOwKPgjQ4yZAKJn4F/vZJkBkJ7MnJtAmQKC1bTdRxiZA3EMoR3y8JkAY0uJWp7ImQFRgnWbSqCZAkO5Xdv2eJkDMfBKGKJUmQAgLzZVTiyZARJmHpX6BJkCAJ0K1qXcmQLy1/MTUbSZA+EO31P9jJkA00nHkKlomQHBgLPRVUCZArO7mA4FGJkDofKETrDwmQCQLXCPXMiZAYJkWMwIpJkCcJ9FCLR8mQNi1i1JYFSZAFERGYoMLJkA=",
          "dtype": "f8"
         },
         "yaxis": "y5"
        },
        {
         "customdata": [
          "2025-03-10T10:09:26.000000000",
          "2025-03-10T15:39:44.000000000",
          "2025-03-10T19:27:25.000000000",
          "2025-03-10T20:39:20.000000000",
          "2025-03-11T08:55:58.000000000",
          "2025-03-11T17:38:58.000000000",
          "2025-03-12T08:48:30.000000000",
          "2025-03-12T16:04:18.000000000",
          "2025-03-12T20:38:30.000000000",
          "2025-03-13T09:20:31.000000000",
          "2025-03-13T12:26:28.000000000",
          "2025-03-13T14:17:22.000000000",
          "2025-03-13T22:48:59.000000000",
          "2025-03-14T13:41:47.000000000",
          "2025-03-14T15:19:17.000000000",
          "2025-03-15T17:17:19.000000000"
         ],
         "hovertemplate": "ID: respondent_1<br>DateTime: %{customdata}<br>response_time_median: %{x:.2f}<br>Score: %{y:.2f}<br>Pearson r: -0.132<br>Spearman r: 0.024<br>Kendall τ: 0.009<br>DCOR: 0.327",
         "legendgroup": "respondent_1",
         "marker": {
          "color": "#FF0000",
          "opacity": 0.8,
          "size": 8
         },
         "mode": "markers",
         "name": "ID: respondent_1",
         "showlegend": false,
         "type": "scatter",
         "x": {
          "bdata": "rkfhehQuB0ArhxbZzvcEQObQItv5/gRAJjEIrBxaBED4U+Olm0QJQI/C9ShcjwBAUrgehetRBEDFILByaJEEQMQgsHJokQRAXI/C9SjcAEAW2c73U+MCQEw3iUFg5f4/4E+Nl26SAkBYObTIdj4AQARWDi2ynf8/SgwCK4cWAUA=",
          "dtype": "f8"
         },
         "xaxis": "x6",
         "y": {
          "bdata": "DwkZHgYZBhMPDhwXEwMEHA==",
          "dtype": "i1"
         },
         "yaxis": "y6"
        },
        {
         "hovertemplate": "ID: respondent_1<br>Pearson r: -0.132<br>Spearman r: 0.024<br>Kendall τ: 0.009<br>DCOR: 0.327",
         "legendgroup": "respondent_1",
         "line": {
          "color": "#FF0000",
          "dash": "dash",
          "width": 2
         },
         "mode": "lines",
         "name": "Trend respondent_1",
         "showlegend": false,
         "type": "scatter",
         "x": {
          "bdata": "TDeJQWDl/j8pIQuKKRj/PwcLjdLySv8/5PQOG7x9/z/C3pBjhbD/P5/IEqxO4/8/PllK+gsLAEAtTouecCQAQBxDzELVPQBACzgN5zlXAED5LE6LnnAAQOghjy8DigBA1xbQ02ejAEDFCxF4zLwAQLQAUhwx1gBAo/WSwJXvAECS6tNk+ggBQIDfFAlfIgFAb9RVrcM7AUBeyZZRKFUBQEy+1/WMbgFAO7MYmvGHAUAqqFk+VqEBQBmdmuK6ugFACJLbhh/UAUD2hhwrhO0BQOV7Xc/oBgJA1HCec00gAkDCZd8XsjkCQLFaILwWUwJAoE9hYHtsAkCORKIE4IUCQH0546hEnwJAbC4kTam4AkBbI2XxDdICQEkYppVy6wJAOA3nOdcEA0AnAijeOx4DQBb3aIKgNwNABOypJgVRA0Dz4OrKaWoDQOLVK2/OgwNA0MpsEzOdA0C/v623l7YDQK607lv8zwNAnakvAGHpA0CMnnCkxQIEQHqTsUgqHARAaYjy7I41BEBYfTOR804EQEZydDVYaARANWe12byBBEAkXPZ9IZsEQBJRNyKGtARAAUZ4xurNBEDwOrlqT+cEQN8v+g60AAVAziQ7sxgaBUC8GXxXfTMFQKsOvfvhTAVAmgP+n0ZmBUCI+D5Eq38FQHftf+gPmQVAZuLAjHSyBUBU1wEx2csFQEPMQtU95QVAMsGDeaL+BUAhtsQdBxgGQBCrBcJrMQZA/p9GZtBKBkDtlIcKNWQGQNyJyK6ZfQZAyn4JU/6WBkC5c0r3YrAGQKhoi5vHyQZAll3MPyzjBkCFUg3kkPwGQHRHToj1FQdAYzyPLFovB0BSMdDQvkgHQEAmEXUjYgdALxtSGYh7B0AeEJO97JQHQAwF1GFRrgdA+/kUBrbHB0Dq7lWqGuEHQNjjlk5/+gdAx9jX8uMTCEC2zRiXSC0IQKTCWTutRghAlLea3xFgCECCrNuDdnkIQHGhHCjbkghAYJZdzD+sCEBOi55wpMUIQD2A3xQJ3whALHUguW34CEAaamFd0hEJQAlfogE3KwlA+FPjpZtECUA=",
          "dtype": "f8"
         },
         "xaxis": "x6",
         "y": {
          "bdata": "NbecOjF0MkBCTQBYLGkyQE/jY3UnXjJAXHnHkiJTMkBqDyuwHUgyQHeljs0YPTJAhDvy6hMyMkCR0VUIDycyQJ5nuSUKHDJAq/0cQwURMkC5k4BgAAYyQMYp5H37+jFA079Hm/bvMUDgVau48eQxQO7rDtbs2TFA+oFy8+fOMUAIGNYQ48MxQBWuOS7euDFAIkSdS9mtMUAv2gBp1KIxQD1wZIbPlzFASgbIo8qMMUBXnCvBxYExQGQyj97AdjFAccjy+7trMUB+XlYZt2AxQIz0uTayVTFAmIodVK1KMUCmIIFxqD8xQLO25I6jNDFAwExIrJ4pMUDO4qvJmR4xQNp4D+eUEzFA6A5zBJAIMUD0pNYhi/0wQAI7Oj+G8jBAENGdXIHnMEAcZwF6fNwwQCr9ZJd30TBAN5PItHLGMEBEKSzSbbswQFG/j+9osDBAXlXzDGSlMEBs61YqX5owQHiBukdajzBAhhceZVWEMECSrYGCUHkwQKBD5Z9LbjBArdlIvUZjMEC6b6zaQVgwQMgFEPg8TTBA1ZtzFThCMEDiMdcyMzcwQPDHOlAuLDBA/F2ebSkhMEAK9AGLJBYwQBaKZagfCzBAJCDJxRoAMEBibFnGK+ovQHyYIAEi1C9AlsTnOxi+L0Cx8K52DqgvQMscdrEEki9A5Ug97Pp7L0AAdQQn8WUvQBuhy2HnTy9ANc2SnN05L0BP+VnX0yMvQGklIRLKDS9AhFHoTMD3LkCefa+HtuEuQLipdsKsyy5A09U9/aK1LkDtAQU4mZ8uQAcuzHKPiS5AIlqTrYVzLkA8hlroe10uQFayISNyRy5Acd7oXWgxLkCLCrCYXhsuQKY2d9NUBS5AwGI+DkvvLUDajgVJQdktQPW6zIM3wy1AD+eTvi2tLUApE1v5I5ctQEQ/IjQagS1AXmvpbhBrLUB4l7CpBlUtQJPDd+T8Pi1ArO8+H/MoLUDHGwZa6RItQOJHzZTf/CxA/HOUz9XmLEAXoFsKzNAsQDHMIkXCuixAS/jpf7ikLEBmJLG6ro4sQIBQePWkeCxAmnw/MJtiLEA=",
          "dtype": "f8"
         },
         "yaxis": "y6"
        },
        {
         "customdata": [
          "2025-03-10T10:16:41.000000000",
          "2025-03-10T12:36:03.000000000",
          "2025-03-10T15:32:56.000000000",
          "2025-03-10T19:32:40.000000000",
          "2025-03-11T11:11:19.000000000",
          "2025-03-11T12:46:55.000000000",
          "2025-03-11T21:06:16.000000000",
          "2025-03-12T13:15:24.000000000",
          "2025-03-12T16:04:02.000000000",
          "2025-03-12T20:30:44.000000000",
          "2025-03-13T10:07:57.000000000",
          "2025-03-13T21:45:02.000000000",
          "2025-03-14T12:11:07.000000000",
          "2025-03-14T14:12:15.000000000",
          "2025-03-15T16:05:01.000000000"
         ],
         "hovertemplate": "ID: respondent_2<br>DateTime: %{customdata}<br>response_time_median: %{x:.2f}<br>Score: %{y:.2f}<br>Pearson r: -0.184<br>Spearman r: -0.110<br>Kendall τ: -0.088<br>DCOR: 0.275",
         "legendgroup": "respondent_2",
         "marker": {
          "color": "#00FF00",
          "opacity": 0.8,
          "size": 8
         },
         "mode": "markers",
         "name": "ID: respondent_2",
         "showlegend": false,
         "type": "scatter",
         "x": {
          "bdata": "ppvEILDyDUD+1HjpJrEOQGzn+6nxUg5A4E+Nl24SCkDjpZvEILAIQKwcWmQ7XwhA6iYxCKwcB0BU46WbxCAJQHnpJjEIrAhAHoXrUbgeDkAQWDm0yHYKQO58PzVeugpAyqFFtvP9CEBANV66SYwOQEa28/3UeAhA",
          "dtype": "f8"
         },
         "xaxis": "x6",
         "y": {
          "bdata": "DwsQFA8MFhMUFQwZFhcW",
          "dtype": "i1"
         },
         "yaxis": "y6"
        },
        {
         "hovertemplate": "ID: respondent_2<br>Pearson r: -0.184<br>Spearman r: -0.110<br>Kendall τ: -0.088<br>DCOR: 0.275",
         "legendgroup": "respondent_2",
         "line": {
          "color": "#00FF00",
          "dash": "dash",
          "width": 2
         },
         "mode": "lines",
         "name": "Trend respondent_2",
         "showlegend": false,
         "type": "scatter",
         "x": {
          "bdata": "6iYxCKwcB0AoGcDWRTAHQGcLT6XfQwdApf3dc3lXB0Dj72xCE2sHQCHi+xCtfgdAYNSK30aSB0Cexhmu4KUHQNy4qHx6uQdAGqs3SxTNB0BZncYZruAHQJePVehH9AdA1YHktuEHCEATdHOFexsIQFJmAlQVLwhAkFiRIq9CCEDOSiDxSFYIQAw9r7/iaQhASy8+jnx9CECJIc1cFpEIQMcTXCuwpAhABgbr+Um4CEBE+HnI48sIQILqCJd93whAwNyXZRfzCED/ziY0sQYJQD3BtQJLGglAe7NE0eQtCUC5pdOffkEJQPiXYm4YVQlANorxPLJoCUB0fIALTHwJQLJuD9rljwlA8WCeqH+jCUAvUy13GbcJQG1FvEWzyglAqzdLFE3eCUDqKdri5vEJQCgcabGABQpAZg74fxoZCkCkAIdOtCwKQOPyFR1OQApAIeWk6+dTCkBf1zO6gWcKQJ7JwogbewpA3LtRV7WOCkAaruAlT6IKQFigb/TotQpAlpL+woLJCkDVhI2RHN0KQBN3HGC28ApAUWmrLlAEC0CQWzr96RcLQM5NycuDKwtADEBYmh0/C0BKMudot1ILQIkkdjdRZgtAxxYFBut5C0AFCZTUhI0LQET7IqMeoQtAgu2xcbi0C0DA30BAUsgLQP7Rzw7s2wtAPMRe3YXvC0B7tu2rHwMMQLmofHq5FgxA95oLSVMqDEA2jZoX7T0MQHR/KeaGUQxAsnG4tCBlDEDwY0eDungMQC5W1lFUjAxAbUhlIO6fDECrOvTuh7MMQOksg70hxwxAKB8SjLvaDEBmEaFaVe4MQKQDMCnvAQ1A4vW+94gVDUAh6E3GIikNQF/a3JS8PA1AncxrY1ZQDUDcvvox8GMNQBqxiQCKdw1AWKMYzyOLDUCWlaedvZ4NQNSHNmxXsg1AE3rFOvHFDUBRbFQJi9kNQI9e49ck7Q1AzlBypr4ADkAMQwF1WBQOQEo1kEPyJw5AiCcfEow7DkDGGa7gJU8OQAUMPa+/Yg5AQ/7LfVl2DkCC8FpM84kOQMDi6RqNnQ5A/tR46SaxDkA=",
          "dtype": "f8"
         },
         "xaxis": "x6",
         "y": {
          "bdata": "P4vrtop2M0DyJvjPknAzQKTCBOmaajNAVl4RAqNkM0AJ+h0bq14zQLuVKjSzWDNAbjE3TbtSM0AgzUNmw0wzQNNoUH/LRjNAhQRdmNNAM0A4oGmx2zozQOo7dsrjNDNAnNeC4+suM0BPc4/88ygzQAEPnBX8IjNAtKqoLgQdM0BmRrVHDBczQBniwWAUETNAy33OeRwLM0B+GduSJAUzQDC156ss/zJA4lD0xDT5MkCV7ADePPMyQEeIDfdE7TJA+iMaEE3nMkCsvyYpVeEyQF9bM0Jd2zJAEfc/W2XVMkDEkkx0bc8yQHYuWY11yTJAKMplpn3DMkDbZXK/hb0yQI4Bf9iNtzJAQJ2L8ZWxMkDyOJgKnqsyQKXUpCOmpTJAV3CxPK6fMkAKDL5VtpkyQLynym6+kzJAbkPXh8aNMkAh3+OgzocyQNN68LnWgTJAhhb90t57MkA4sgns5nUyQOpNFgXvbzJAnekiHvdpMkBQhS83/2MyQAIhPFAHXjJAtbxIaQ9YMkBnWFWCF1IyQBr0YZsfTDJAzI9utCdGMkB+K3vNL0AyQDHHh+Y3OjJA5GKU/z80MkCW/qAYSC4yQEiarTFQKDJA+jW6SlgiMkCt0cZjYBwyQGBt03xoFjJAEgnglXAQMkDEpOyueAoyQHdA+ceABDJAKtwF4Yj+MUDcdxL6kPgxQI4THxOZ8jFAQa8rLKHsMUDzSjhFqeYxQKbmRF6x4DFAWIJRd7naMUAKHl6QwdQxQL25aqnJzjFAcFV3wtHIMUAi8YPb2cIxQNSMkPThvDFAhiidDeq2MUA5xKkm8rAxQOxftj/6qjFAnvvCWAKlMUBQl89xCp8xQAMz3IoSmTFAts7ooxqTMUBoavW8Io0xQBoGAtYqhzFAzaEO7zKBMUCAPRsIO3sxQDLZJyFDdTFA5HQ0OktvMUCWEEFTU2kxQEmsTWxbYzFA/EdahWNdMUCu42aea1cxQGB/c7dzUTFAExuA0HtLMUDGtozpg0UxQHhSmQKMPzFAKu6lG5Q5MUDcibI0nDMxQI8lv02kLTFAQsHLZqwnMUA=",
          "dtype": "f8"
         },
         "yaxis": "y6"
        },
        {
         "customdata": [
          "2025-03-11T07:27:25.000000000",
          "2025-03-12T15:46:20.000000000",
          "2025-03-13T09:44:33.000000000",
          "2025-03-17T13:17:20.000000000",
          "2025-03-17T13:23:49.000000000",
          "2025-03-17T21:08:52.000000000",
          "2025-03-19T07:48:21.000000000",
          "2025-03-24T20:28:12.000000000"
         ],
         "hovertemplate": "ID: respondent_3<br>DateTime: %{customdata}<br>response_time_median: %{x:.2f}<br>Score: %{y:.2f}<br>Pearson r: 0.573<br>Spearman r: 0.476<br>Kendall τ: 0.500<br>DCOR: 0.654",
         "legendgroup": "respondent_3",
         "marker": {
          "color": "#0000FF",
          "opacity": 0.8,
          "size": 8
         },
         "mode": "markers",
         "name": "ID: respondent_3",
         "showlegend": false,
         "type": "scatter",
         "x": {
          "bdata": "5/up8dJNFEDNzMzMzEwKQKAaL90khhFAWDm0yHa+B0A1XrpJDAIMQFg5tMh2Pg1AukkMAiuHCEDo+6nx0s0MQA==",
          "dtype": "f8"
         },
         "xaxis": "x6",
         "y": {
          "bdata": "HQkZAwsUHhU=",
          "dtype": "i1"
         },
         "yaxis": "y6"
        },
        {
         "hovertemplate": "ID: respondent_3<br>Pearson r: 0.573<br>Spearman r: 0.476<br>Kendall τ: 0.500<br>DCOR: 0.654",
         "legendgroup": "respondent_3",
         "line": {
          "color": "#0000FF",
          "dash": "dash",
          "width": 2
         },
         "mode": "lines",
         "name": "Trend respondent_3",
         "showlegend": false,
         "type": "scatter",
         "x": {
          "bdata": "WDm0yHa+B0A/0UtpEuoHQCdp4wmuFQhADgF7qklBCED1mBJL5WwIQN0wquuAmAhAxMhBjBzECECrYNksuO8IQJP4cM1TGwlAepAIbu9GCUBhKKAOi3IJQEnAN68mnglAMFjPT8LJCUAX8GbwXfUJQP+H/pD5IApA5h+WMZVMCkDNty3SMHgKQLVPxXLMowpAnOdcE2jPCkCDf/SzA/sKQGsXjFSfJgtAUq8j9TpSC0A5R7uV1n0LQCHfUjZyqQtACHfq1g3VC0DwDoJ3qQAMQNemGRhFLAxAvj6xuOBXDECm1khZfIMMQI1u4PkXrwxAdAZ4mrPaDEBcng87TwYNQEM2p9vqMQ1AKs4+fIZdDUASZtYcIokNQPn9bb29tA1A4JUFXlngDUDILZ3+9AsOQK/FNJ+QNw5All3MPyxjDkB+9WPgx44OQGWN+4Bjug5ATCWTIf/lDkA0vSrCmhEPQBtVwmI2PQ9AAu1ZA9JoD0DqhPGjbZQPQNEciUQJwA9AuLQg5aTrD0BQJtxCoAsQQETyJxNuIRBAN75z4zs3EEArir+zCU0QQB5WC4TXYhBAEiJXVKV4EEAG7qIkc44QQPq57vRApBBA7YU6xQ66EEDhUYaV3M8QQNQd0mWq5RBAyOkdNnj7EEC8tWkGRhERQLCBtdYTJxFAo00Bp+E8EUCXGU13r1IRQIrlmEd9aBFAfrHkF0t+EUByfTDoGJQRQGZJfLjmqRFAWRXIiLS/EUBN4RNZgtURQECtXylQ6xFANHmr+R0BEkAoRffJ6xYSQBwRQ5q5LBJAD92OaodCEkADqdo6VVgSQPZ0JgsjbhJA6kBy2/CDEkDeDL6rvpkSQNLYCXyMrxJAxaRVTFrFEkC5cKEcKNsSQKw87ez18BJAoAg5vcMGE0CU1ISNkRwTQIig0F1fMhNAe2wcLi1IE0BvOGj++l0TQGIEtM7IcxNAVtD/npaJE0BKnEtvZJ8TQD5olz8ytRNAMTTjDwDLE0AlAC/gzeATQBjMerCb9hNADJjGgGkMFEAAZBJRNyIUQPQvXiEFOBRA5/up8dJNFEA=",
          "dtype": "f8"
         },
         "xaxis": "x6",
         "y": {
          "bdata": "trVO8Zx1KUCyi9hqgswpQK5hYuRnIypAqjfsXU16KkCmDXbXMtEqQKTj/1AYKCtAoLmJyv1+K0CcjxNE49UrQJhlnb3ILCxAlDsnN66DLECQEbGwk9osQI7nOip5MS1Air3Eo16ILUCEk04dRN8tQIJp2JYpNi5Afj9iEA+NLkB6FeyJ9OMuQHjrdQPaOi9AcsH/fL+RL0Bul4n2pOgvQLa2CTjFHzBAtKHO9DdLMECyjJOxqnYwQLB3WG4dojBArmIdK5DNMECtTeLnAvkwQKs4p6R1JDFAqSNsYehPMUCoDjEeW3sxQKX59drNpjFAo+S6l0DSMUCiz39Us/0xQKC6RBEmKTJAnqUJzphUMkCckM6KC4AyQJp7k0d+qzJAmGZYBPHWMkCXUR3BYwIzQJU84n3WLTNAkienOklZM0CREmz3u4QzQI/9MLQusDNAjej1cKHbM0CM07otFAc0QIm+f+qGMjRAh6lEp/ldNECGlAlkbIk0QIR/ziDftDRAgmqT3VHgNECBVViaxAs1QIBAHVc3NzVAfCviE6piNUB6FqfQHI41QHgBbI2PuTVAduwwSgLlNUB21/UGdRA2QHTCusPnOzZAcK1/gFpnNkBwmEQ9zZI2QGyDCfo/vjZAbG7OtrLpNkBqWZNzJRU3QGpEWDCYQDdAZi8d7QpsN0BkGuKpfZc3QGIFp2bwwjdAYPBrI2PuN0Bg2zDg1Rk4QF7G9ZxIRThAWrG6WbtwOEBanH8WLpw4QFaHRNOgxzhAVnIJkBPzOEBUXc5Mhh45QFJIkwn5STlAUDNYxmt1OUBOHh2D3qA5QEwJ4j9RzDlASvSm/MP3OUBI32u5NiM6QEjKMHapTjpARLX1Mhx6OkBEoLrvjqU6QECLf6wB0TpAPnZEaXT8OkA+YQkm5yc7QDxMzuJZUztAOjeTn8x+O0A4IlhcP6o7QDQNHRmy1TtANPjh1SQBPEAy46aSlyw8QDLOa08KWDxALrkwDH2DPEAspPXI7648QCqPuoVi2jxAKHp/QtUFPUAoZUT/RzE9QCZQCby6XD1AIjvOeC2IPUA=",
          "dtype": "f8"
         },
         "yaxis": "y6"
        },
        {
         "customdata": [
          "2025-02-21T00:01:35.000000000",
          "2025-02-22T09:32:19.000000000",
          "2025-02-23T01:11:41.000000000",
          "2025-02-23T10:27:07.000000000",
          "2025-02-23T23:00:47.000000000",
          "2025-02-24T10:30:34.000000000",
          "2025-02-25T00:41:09.000000000",
          "2025-02-25T10:30:51.000000000",
          "2025-02-25T22:18:41.000000000",
          "2025-02-26T12:05:35.000000000",
          "2025-02-26T22:16:33.000000000",
          "2025-02-27T08:25:25.000000000",
          "2025-03-03T10:20:24.000000000",
          "2025-03-08T09:46:41.000000000",
          "2025-03-08T22:45:03.000000000",
          "2025-03-09T13:15:30.000000000",
          "2025-03-09T23:02:26.000000000",
          "2025-03-10T10:10:48.000000000",
          "2025-03-10T12:22:53.000000000",
          "2025-03-10T15:47:07.000000000",
          "2025-03-10T22:37:35.000000000",
          "2025-03-11T10:14:17.000000000",
          "2025-03-11T12:17:35.000000000",
          "2025-03-11T14:18:40.000000000",
          "2025-03-11T23:49:20.000000000",
          "2025-03-12T10:12:40.000000000",
          "2025-03-12T23:28:22.000000000",
          "2025-03-13T09:59:37.000000000",
          "2025-03-13T15:01:10.000000000",
          "2025-03-13T18:34:42.000000000",
          "2025-03-14T00:10:40.000000000",
          "2025-03-14T10:12:54.000000000",
          "2025-03-14T13:30:29.000000000",
          "2025-03-14T22:27:42.000000000",
          "2025-03-15T16:05:27.000000000",
          "2025-03-16T00:58:47.000000000"
         ],
         "hovertemplate": "ID: respondent_4<br>DateTime: %{customdata}<br>response_time_median: %{x:.2f}<br>Score: %{y:.2f}<br>Pearson r: 0.158<br>Spearman r: 0.186<br>Kendall τ: 0.136<br>DCOR: 0.253",
         "legendgroup": "respondent_4",
         "marker": {
          "color": "#FF00FF",
          "opacity": 0.8,
          "size": 8
         },
         "mode": "markers",
         "name": "ID: respondent_4",
         "showlegend": false,
         "type": "scatter",
         "x": {
          "bdata": "FK5H4XoUBkDo+6nx0s0HQFyPwvUo3AVAnu+nxku3B0DAyqFFtnMFQMQgsHJokQRAGi/dJAYBCEBeukkMAisEQL6fGi/dpAJAWDm0yHa+BUAaL90kBoEEQMl2vp8arwVAgZVDi2znBUAnMQisHNoFQJZDi2znewVArkfhehQuBEC6SQwCK4cFQBfZzvdTYwRAz/dT46WbAEArhxbZzncDQKrx0k1ikANAukkMAiuHAkAusp3vp0YCQIts5/up8QJAQDVeukkMBECYbhKDwMoDQEJg5dAiWwRAK4cW2c53A0CLbOf7qfEDQML1KFyPwgJACKwcWmQ7BEBkO99PjZcCQDzfT42X7gNARIts5/upA0Boke18PzUFQC2yne+nxgNA",
          "dtype": "f8"
         },
         "xaxis": "x6",
         "y": {
          "bdata": "FQITAhUNHgohAxgDAwMeDRwBAQIYAgEHGQQcAQMFEwMEHwQM",
          "dtype": "i1"
         },
         "yaxis": "y6"
        },
        {
         "hovertemplate": "ID: respondent_4<br>Pearson r: 0.158<br>Spearman r: 0.186<br>Kendall τ: 0.136<br>DCOR: 0.253",
         "legendgroup": "respondent_4",
         "line": {
          "color": "#FF00FF",
          "dash": "dash",
          "width": 2
         },
         "mode": "lines",
         "name": "Trend respondent_4",
         "showlegend": false,
         "type": "scatter",
         "x": {
          "bdata": "z/dT46WbAEBRb/3jxa4AQNPmpuTlwQBAVV5Q5QXVAEDX1fnlJegAQFlNo+ZF+wBA28RM52UOAUBdPPbnhSEBQN+zn+ilNAFAYStJ6cVHAUDkovLp5VoBQGYanOoFbgFA6JFF6yWBAUBqCe/rRZQBQOyAmOxlpwFAbvhB7YW6AUDwb+vtpc0BQHLnlO7F4AFA9F4+7+XzAUB21ufvBQcCQPhNkfAlGgJAesU68UUtAkD8POTxZUACQH60jfKFUwJAACw386VmAkCCo+DzxXkCQAQbivTljAJAhpIz9QWgAkAICt31JbMCQIqBhvZFxgJADPkv92XZAkCPcNn3hewCQBHogvil/wJAk18s+cUSA0AV19X55SUDQJdOf/oFOQNAGcYo+yVMA0CbPdL7RV8DQB21e/xlcgNAnywl/YWFA0AhpM79pZgDQKMbeP7FqwNAJZMh/+W+A0CnCsv/BdIDQCmCdAAm5QNAq/kdAUb4A0AtcccBZgsEQK/ocAKGHgRAMmAaA6YxBEC018MDxkQEQDZPbQTmVwRAuMYWBQZrBEA6PsAFJn4EQLy1aQZGkQRAPi0TB2akBEDApLwHhrcEQEIcZgimygRAxJMPCcbdBEBGC7kJ5vAEQMiCYgoGBAVASvoLCyYXBUDMcbULRioFQE7pXgxmPQVA0GAIDYZQBUBS2LENpmMFQNRPWw7GdgVAVscED+aJBUDYPq4PBp0FQFq2VxAmsAVA3C0BEUbDBUBepaoRZtYFQOAcVBKG6QVAY5T9Eqb8BUDlC6cTxg8GQGeDUBTmIgZA6fr5FAY2BkBrcqMVJkkGQO3pTBZGXAZAb2H2FmZvBkDx2J8XhoIGQHNQSRimlQZA9cfyGMaoBkB3P5wZ5rsGQPm2RRoGzwZAey7vGibiBkD9pZgbRvUGQH8dQhxmCAdAApXrHIYbB0CEDJUdpi4HQAaEPh7GQQdAiPvnHuZUB0AKc5EfBmgHQIzqOiAmewdADmLkIEaOB0CQ2Y0hZqEHQBJRNyKGtAdAlMjgIqbHB0AWQIojxtoHQJi3MyTm7QdAGi/dJAYBCEA=",
          "dtype": "f8"
         },
         "xaxis": "x6",
         "y": {
          "bdata": "qnNJ0ZJ/H0BONxJPD9MfQHl9beZFEyBATd9RJQQ9IEAfQTZkwmYgQPGiGqOAkCBAxQT/4T66IECXZuMg/eMgQGnIx1+7DSFAPSqsnnk3IUARjJDdN2EhQOPtdBz2iiFAt09ZW7S0IUCJsT2act4hQFsTItkwCCJAL3UGGO8xIkAB1+pWrVsiQNM4z5VrhSJAp5qz1CmvIkB5/JcT6NgiQEtefFKmAiNAH8BgkWQsI0DxIUXQIlYjQMWDKQ/hfyNAl+UNTp+pI0BpR/KMXdMjQD2p1ssb/SNADwu7CtomJEDhbJ9JmFAkQLXOg4hWeiRAhzBoxxSkJEBbkkwG080kQC/0MEWR9yRAAVYVhE8hJUDTt/nCDUslQKcZ3gHMdCVAeXvCQIqeJUBL3aZ/SMglQB8/i74G8iVA8aBv/cQbJkDDAlQ8g0UmQJdkOHtBbyZAacYcuv+YJkA7KAH5vcImQA+K5Td87CZA4evJdjoWJ0CzTa61+D8nQIevkvS2aSdAWxF3M3WTJ0Avc1tyM70nQAHVP7Hx5idA0zYk8K8QKECnmAgvbjooQHn67G0sZChAS1zRrOqNKEAfvrXrqLcoQPEfmipn4ShAw4F+aSULKUCX42Ko4zQpQGlFR+ehXilAO6crJmCIKUAPCRBlHrIpQOFq9KPc2ylAs8zY4poFKkCHLr0hWS8qQFmQoWAXWSpAK/KFn9WCKkD/U2rek6wqQNG1Th1S1ipAoxczXBAAK0B3eRebzikrQEnb+9mMUytAHT3gGEt9K0DxnsRXCacrQMMAqZbH0CtAlWKN1YX6K0BpxHEURCQsQDsmVlMCTixADYg6ksB3LEDh6R7RfqEsQLNLAxA9yyxAh63nTvv0LEBZD8yNuR4tQCtxsMx3SC1A/9KUCzZyLUDRNHlK9JstQKOWXYmyxS1AefhByHDvLUBLWiYHLxkuQB28CkbtQi5A8R3vhKtsLkDDf9PDaZYuQJXhtwIowC5AaUOcQebpLkA7pYCApBMvQA0HZb9iPS9A4WhJ/iBnL0Czyi0935AvQIUsEnydui9AWY72ulvkL0A=",
          "dtype": "f8"
         },
         "yaxis": "y6"
        },
        {
         "customdata": [
          "2025-03-10T10:09:26.000000000",
          "2025-03-10T15:39:44.000000000",
          "2025-03-10T19:27:25.000000000",
          "2025-03-10T20:39:20.000000000",
          "2025-03-11T08:55:58.000000000",
          "2025-03-11T17:38:58.000000000",
          "2025-03-12T08:48:30.000000000",
          "2025-03-12T16:04:18.000000000",
          "2025-03-12T20:38:30.000000000",
          "2025-03-13T09:20:31.000000000",
          "2025-03-13T12:26:28.000000000",
          "2025-03-13T14:17:22.000000000",
          "2025-03-13T22:48:59.000000000",
          "2025-03-14T13:41:47.000000000",
          "2025-03-14T15:19:17.000000000",
          "2025-03-15T17:17:19.000000000"
         ],
         "hovertemplate": "ID: respondent_1<br>DateTime: %{customdata}<br>response_time_std: %{x:.2f}<br>Score: %{y:.2f}<br>Pearson r: 0.133<br>Spearman r: 0.242<br>Kendall τ: 0.128<br>DCOR: 0.337",
         "legendgroup": "respondent_1",
         "marker": {
          "color": "#FF0000",
          "opacity": 0.8,
          "size": 8
         },
         "mode": "markers",
         "name": "ID: respondent_1",
         "showlegend": false,
         "type": "scatter",
         "x": {
          "bdata": "VUAnQWsX8z+y2zkocJb2P9PJkt2lxfg/9N/JxTnP+D//h8Z+hTb3P5GE9GbFx/I/keoOMT3r9T+7AcrynXD5P0j1QPGZ0fM/NidpQKX/6z8eZizQHsr5Py3G6vMp2vM/U6/U4NUE6j99yKmgok/3PwhIVrbQb+k/bln/SpAy7T8=",
          "dtype": "f8"
         },
         "xaxis": "x7",
         "y": {
          "bdata": "DwkZHgYZBhMPDhwXEwMEHA==",
          "dtype": "i1"
         },
         "yaxis": "y7"
        },
        {
         "hovertemplate": "ID: respondent_1<br>Pearson r: 0.133<br>Spearman r: 0.242<br>Kendall τ: 0.128<br>DCOR: 0.337",
         "legendgroup": "respondent_1",
         "line": {
          "color": "#FF0000",
          "dash": "dash",
          "width": 2
         },
         "mode": "lines",
         "name": "Trend respondent_1",
         "showlegend": false,
         "type": "scatter",
         "x": {
          "bdata": "CEhWttBv6T+mFchgarPpP0XjOQsE9+k/47CrtZ066j+Bfh1gN37qPx9MjwrRweo/vhkBtWoF6z9c53JfBEnrP/q05AmejOs/mIJWtDfQ6z83UMhe0RPsP9UdOglrV+w/c+urswSb7D8SuR1ent7sP7CGjwg4Iu0/TlQBs9Fl7T/sIXNda6ntP4rv5AcF7e0/Kb1Wsp4w7j/HishcOHTuP2VYOgfSt+4/BCassWv77j+i8x1cBT/vP0DBjwafgu8/3o4BsTjG7z8+rrkt6QTwPw6V8gK2JvA/3Xsr2IJI8D+sYmStT2rwP3tJnYIcjPA/SjDWV+mt8D8ZFw8tts/wP+j9RwKD8fA/uOSA108T8T+Gy7msHDXxP1ay8oHpVvE/JZkrV7Z48T/0f2Qsg5rxP8NmnQFQvPE/kk3W1hze8T9hNA+s6f/xPzAbSIG2IfI/AAKBVoND8j/P6LkrUGXyP57P8gAdh/I/bbYr1umo8j88nWSrtsryPwuEnYCD7PI/2mrWVVAO8z+qUQ8rHTDzP3k4SADqUfM/SB+B1bZz8z8XBrqqg5XzP+bs8n9Qt/M/tdMrVR3Z8z+EumQq6vrzP1Shnf+2HPQ/IojW1IM+9D/ybg+qUGD0P8FVSH8dgvQ/kDyBVOqj9D9fI7opt8X0Py4K8/6D5/Q//vAr1FAJ9T/M12SpHSv1P5y+nX7qTPU/a6XWU7du9T86jA8phJD1PwlzSP5QsvU/2FmB0x3U9T+oQLqo6vX1P3Yn8323F/Y/Rg4sU4Q59j8U9WQoUVv2P+Tbnf0dffY/s8LW0uqe9j+CqQ+ot8D2P1GQSH2E4vY/IHeBUlEE9z/wXbonHib3P75E8/zqR/c/jiss0rdp9z9dEmWnhIv3Pyz5nXxRrfc/+9/WUR7P9z/Kxg8n6/D3P5qtSPy3Evg/aJSB0YQ0+D84e7qmUVb4Pwdi83seePg/1kgsUeuZ+D+lL2UmuLv4P3QWnvuE3fg/RP3W0FH/+D8S5A+mHiH5P+LKSHvrQvk/sbGBULhk+T+AmLolhYb5P09/8/pRqPk/HmYs0B7K+T8=",
          "dtype": "f8"
         },
         "xaxis": "x7",
         "y": {
          "bdata": "rrIFV1qULUC7cz1JjaYtQMg0dTvAuC1A1PWsLfPKLUDhtuQfJt0tQO53HBJZ7y1A+zhUBIwBLkAI+ov2vhMuQBS7w+jxJS5AIXz72iQ4LkAuPTPNV0ouQDv+ar+KXC5ASL+isb1uLkBVgNqj8IAuQGJBEpYjky5AbgJKiFalLkB7w4F6ibcuQIiEuWy8yS5AlEXxXu/bLkCiBilRIu4uQK7HYENVAC9Au4iYNYgSL0DISdAnuyQvQNQKCBruNi9A4cs/DCFJL0DujHf+U1svQPtNr/CGbS9ACA/n4rl/L0AU0B7V7JEvQCKRVscfpC9ALlKOuVK2L0A7E8arhcgvQEjU/Z242i9AVZU1kOvsL0BhVm2CHv8vQLeLUrqoCDBAPmxuM8IRMEDETIqs2xowQEotpiX1IzBA0A3Cng4tMEBX7t0XKDYwQN3O+ZBBPzBAZK8VCltIMEDqjzGDdFEwQHFwTfyNWjBA91BpdadjMEB+MYXuwGwwQAQSoWfadTBAivK84PN+MEAR09hZDYgwQJez9NImkTBAHpQQTECaMECkdCzFWaMwQCpVSD5zrDBAsTVkt4y1MEA3FoAwpr4wQL72m6m/xzBARNe3ItnQMEDKt9Ob8tkwQFGY7xQM4zBA13gLjiXsMEBeWScHP/UwQOQ5Q4BY/jBAahpf+XEHMUDw+npyixAxQHfbluukGTFA/ruyZL4iMUCEnM7d1ysxQAp96lbxNDFAkV0G0Ao+MUAXPiJJJEcxQJ0ePsI9UDFAJP9ZO1dZMUCq33W0cGIxQDHAkS2KazFAt6CtpqN0MUA+gckfvX0xQMRh5ZjWhjFASkIBEvCPMUDRIh2LCZkxQFcDOQQjojFA3uNUfTyrMUBkxHD2VbQxQOqkjG9vvTFAcYWo6IjGMUD3ZcRhos8xQH5G4Nq72DFABCf8U9XhMUCKBxjN7uoxQBHoM0YI9DFAl8hPvyH9MUAeqWs4OwYyQKSJh7FUDzJAKmqjKm4YMkCwSr+jhyEyQDcr2xyhKjJAvgv3lbozMkBE7BIP1DwyQMrMLojtRTJAUa1KAQdPMkA=",
          "dtype": "f8"
         },
         "yaxis": "y7"
        },
        {
         "customdata": [
          "2025-03-10T10:16:41.000000000",
          "2025-03-10T12:36:03.000000000",
          "2025-03-10T15:32:56.000000000",
          "2025-03-10T19:32:40.000000000",
          "2025-03-11T11:11:19.000000000",
          "2025-03-11T12:46:55.000000000",
          "2025-03-11T21:06:16.000000000",
          "2025-03-12T13:15:24.000000000",
          "2025-03-12T16:04:02.000000000",
          "2025-03-12T20:30:44.000000000",
          "2025-03-13T10:07:57.000000000",
          "2025-03-13T21:45:02.000000000",
          "2025-03-14T12:11:07.000000000",
          "2025-03-14T14:12:15.000000000",
          "2025-03-15T16:05:01.000000000"
         ],
         "hovertemplate": "ID: respondent_2<br>DateTime: %{customdata}<br>response_time_std: %{x:.2f}<br>Score: %{y:.2f}<br>Pearson r: 0.066<br>Spearman r: 0.102<br>Kendall τ: 0.069<br>DCOR: 0.384",
         "legendgroup": "respondent_2",
         "marker": {
          "color": "#00FF00",
          "opacity": 0.8,
          "size": 8
         },
         "mode": "markers",
         "name": "ID: respondent_2",
         "showlegend": false,
         "type": "scatter",
         "x": {
          "bdata": "XOq93zbQA0CpK3JlpLoBQK45486HpgJAp73PpjlN/D9qu59QhUUHQLpFaOZn0/s/Ben56wppBUDjwU+RMgH+P467RVD2H/c/t5tkHwJ+AEA6sfYSWHT4P8N9hRHQYQBA9/zAsLrPAEBj5+RjQ4f/PxjaAdel+wRA",
          "dtype": "f8"
         },
         "xaxis": "x7",
         "y": {
          "bdata": "DwsQFA8MFhMUFQwZFhcW",
          "dtype": "i1"
         },
         "yaxis": "y7"
        },
        {
         "hovertemplate": "ID: respondent_2<br>Pearson r: 0.066<br>Spearman r: 0.102<br>Kendall τ: 0.069<br>DCOR: 0.384",
         "legendgroup": "respondent_2",
         "line": {
          "color": "#00FF00",
          "dash": "dash",
          "width": 2
         },
         "mode": "lines",
         "name": "Trend respondent_2",
         "showlegend": false,
         "type": "scatter",
         "x": {
          "bdata": "jrtFUPYf9z9/RrK9hFz3P3DRHisTmfc/YlyLmKHV9z9T5/cFMBL4P0RyZHO+Tvg/Nf3Q4EyL+D8miD1O28f4PxgTqrtpBPk/CZ4WKfhA+T/6KIOWhn35P+uz7wMVuvk/3D5ccaP2+T/OycjeMTP6P79UNUzAb/o/sN+huU6s+j+hag4n3ej6P5L1epRrJfs/hIDnAfph+z91C1RviJ77P2aWwNwW2/s/VyEtSqUX/D9IrJm3M1T8Pzo3BiXCkPw/K8JyklDN/D8cTd//3gn9Pw3YS21tRv0//mK42vuC/T/w7SRIir/9P+F4kbUY/P0/0gP+Iqc4/j/DjmqQNXX+P7QZ1/3Dsf4/pqRDa1Lu/j+WL7DY4Cr/P4i6HEZvZ/8/eUWJs/2j/z9q0PUgjOD/P64tMUeNDgBAJnPnfdQsAECfuJ20G0sAQBj+U+tiaQBAkEMKIqqHAEAJicBY8aUAQIHOdo84xABA+hMtxn/iAEByWeP8xgABQOuemTMOHwFAZORPalU9AUDcKQahnFsBQFVvvNfjeQFAzrRyDiuYAUBG+ihFcrYBQL8/33u51AFAN4WVsgDzAUCwykvpRxECQCgQAiCPLwJAoVW4VtZNAkAam26NHWwCQJLgJMRkigJACybb+quoAkCEa5Ex88YCQPywR2g65QJAdfb9noEDA0DtO7TVyCEDQGaBagwQQANA3sYgQ1deA0BXDNd5nnwDQNBRjbDlmgNASJdD5yy5A0DB3PkddNcDQDoisFS79QNAsmdmiwIUBEAqrRzCSTIEQKPy0viQUARAHDiJL9huBECUfT9mH40EQA3D9ZxmqwRAhgis063JBED+TWIK9ecEQHeTGEE8BgVA8NjOd4MkBUBoHoWuykIFQOBjO+URYQVAWanxG1l/BUDS7qdSoJ0FQEo0XonnuwVAw3kUwC7aBUA8v8r2dfgFQLQEgS29FgZALUo3ZAQ1BkCmj+2aS1MGQB7Vo9GScQZAlhpaCNqPBkAPYBA/Ia4GQIilxnVozAZAAOt8rK/qBkB5MDPj9ggHQPJ16Rk+JwdAarufUIVFB0A=",
          "dtype": "f8"
         },
         "xaxis": "x7",
         "y": {
          "bdata": "ZuMYtj/eMUAG2gSv3eAxQKbQ8Kd74zFARsfcoBnmMUDmvciZt+gxQIa0tJJV6zFAJqugi/PtMUDGoYyEkfAxQGaYeH0v8zFABo9kds31MUCmhVBva/gxQEV8PGgJ+zFA5XIoYaf9MUCFaRRaRQAyQCVgAFPjAjJAxVbsS4EFMkBlTdhEHwgyQAVExD29CjJApTqwNlsNMkBFMZwv+Q8yQOUniCiXEjJAhR50ITUVMkAlFWAa0xcyQMULTBNxGjJAZQI4DA8dMkAF+SMFrR8yQKXvD/5KIjJAReb79ugkMkDl3OfvhicyQIXT0+gkKjJAJcq/4cIsMkDFwKvaYC8yQGW3l9P+MTJABa6DzJw0MkClpG/FOjcyQEWbW77YOTJA5ZFHt3Y8MkCFiDOwFD8yQCV/H6myQTJAxXULolBEMkBlbPea7kYyQAVj45OMSTJApVnPjCpMMkBFULuFyE4yQOVGp35mUTJAhT2TdwRUMkAlNH9wolYyQMUqa2lAWTJAZSFXYt5bMkAFGENbfF4yQKUOL1QaYTJARQUbTbhjMkDl+wZGVmYyQIXy8j70aDJAJeneN5JrMkDF38owMG4yQGXWtinOcDJABc2iImxzMkClw44bCnYyQEW6ehSoeDJA5bBmDUZ7MkCFp1IG5H0yQCWePv+BgDJAxZQq+B+DMkBlixbxvYUyQAWCAupbiDJApHju4vmKMkBFb9rbl40yQOVlxtQ1kDJAhFyyzdOSMkAkU57GcZUyQMRJir8PmDJAZEB2uK2aMkAEN2KxS50yQKQtTqrpnzJARCQ6o4eiMkDkGiacJaUyQIQREpXDpzJAJAj+jWGqMkDE/umG/6wyQGT11X+drzJABOzBeDuyMkCk4q1x2bQyQETZmWp3tzJA5M+FYxW6MkCExnFcs7wyQCS9XVVRvzJAxLNJTu/BMkBkqjVHjcQyQAShIUArxzJApJcNOcnJMkBEjvkxZ8wyQOSE5SoFzzJAhHvRI6PRMkAkcr0cQdQyQMRoqRXf1jJAZF+VDn3ZMkAEVoEHG9wyQKRMbQC53jJARENZ+VbhMkA=",
          "dtype": "f8"
         },
         "yaxis": "y7"
        },
        {
         "customdata": [
          "2025-03-11T07:27:25.000000000",
          "2025-03-12T15:46:20.000000000",
          "2025-03-13T09:44:33.000000000",
          "2025-03-17T13:17:20.000000000",
          "2025-03-17T13:23:49.000000000",
          "2025-03-17T21:08:52.000000000",
          "2025-03-19T07:48:21.000000000",
          "2025-03-24T20:28:12.000000000"
         ],
         "hovertemplate": "ID: respondent_3<br>DateTime: %{customdata}<br>response_time_std: %{x:.2f}<br>Score: %{y:.2f}<br>Pearson r: -0.590<br>Spearman r: -0.452<br>Kendall τ: -0.429<br>DCOR: 0.621",
         "legendgroup": "respondent_3",
         "marker": {
          "color": "#0000FF",
          "opacity": 0.8,
          "size": 8
         },
         "mode": "markers",
         "name": "ID: respondent_3",
         "showlegend": false,
         "type": "scatter",
         "x": {
          "bdata": "GR/g4TIXAkB5RrX7DpMYQP5SqHIUGCFArqpGSLBmKUBXOpjS4hsQQC7Ss/ge2glAS2h3wlxeEUBeEu7XHDIGQA==",
          "dtype": "f8"
         },
         "xaxis": "x7",
         "y": {
          "bdata": "HQkZAwsUHhU=",
          "dtype": "i1"
         },
         "yaxis": "y7"
        },
        {
         "hovertemplate": "ID: respondent_3<br>Pearson r: -0.590<br>Spearman r: -0.452<br>Kendall τ: -0.429<br>DCOR: 0.621",
         "legendgroup": "respondent_3",
         "line": {
          "color": "#0000FF",
          "dash": "dash",
          "width": 2
         },
         "mode": "lines",
         "name": "Trend respondent_3",
         "showlegend": false,
         "type": "scatter",
         "x": {
          "bdata": "GR/g4TIXAkChnM5jJ+8CQCkaveUbxwNAsZerZxCfBEA5FZrpBHcFQMKSiGv5TgZAShB37e0mB0DSjWVv4v4HQFoLVPHW1ghA4ohCc8uuCUBqBjH1v4YKQPKDH3e0XgtAegEO+ag2DEACf/x6nQ4NQIr86vyR5g1AEnrZfoa+DkCa98cAe5YPQJE6W8E3NxBAVXlSAjKjEEAauElDLA8RQN72QIQmexFAojU4xSDnEUBmdC8GG1MSQCqzJkcVvxJA7vEdiA8rE0CyMBXJCZcTQHZvDAoEAxRAOq4DS/5uFED+7PqL+NoUQMIr8szyRhVAhmrpDe2yFUBKqeBO5x4WQA7o14/hihZA0ibP0Nv2FkCWZcYR1mIXQFqkvVLQzhdAHuO0k8o6GEDiIazUxKYYQKZgoxW/EhlAap+aVrl+GUAu3pGXs+oZQPIciditVhpAtluAGajCGkB6mndaoi4bQD7ZbpucmhtAAhhm3JYGHEDGVl0dkXIcQIqVVF6L3hxATtRLn4VKHUASE0Pgf7YdQNZROiF6Ih5AmpAxYnSOHkBezyijbvoeQCIOIORoZh9A6EwXJWPSH0DWRQezLh8gQDjlgtMrVSBAmoT+8yiLIED8I3oUJsEgQF7D9TQj9yBAwGJxVSAtIUAiAu11HWMhQIShaJYamSFA5kDkthfPIUBI4F/XFAUiQKp/2/cROyJADB9XGA9xIkBuvtI4DKciQNBdTlkJ3SJAMv3JeQYTI0CUnEWaA0kjQPY7wboAfyNAWNs82/20I0C6erj7+uojQBwaNBz4ICRAfrmvPPVWJEDgWCtd8owkQEL4pn3vwiRApJcinuz4JEAGN56+6S4lQGjWGd/mZCVAynWV/+OaJUAsFREg4dAlQI60jEDeBiZA8FMIYds8JkBS84OB2HImQLSS/6HVqCZAFjJ7wtLeJkB40fbizxQnQNpwcgPNSidAPBDuI8qAJ0Cer2lEx7YnQABP5WTE7CdAYu5ghcEiKEDEjdylvlgoQCYtWMa7jihAiMzT5rjEKEDqa08HtvooQEwLyyezMClArqpGSLBmKUA=",
          "dtype": "f8"
         },
         "xaxis": "x7",
         "y": {
          "bdata": "MyYEvy3QN0A1NEXT8KM3QDZChuezdzdAOFDH+3ZLN0A5XggQOh83QDpsSST98jZAPHqKOMDGNkA+iMtMg5o2QD+WDGFGbjZAQKRNdQlCNkBCso6JzBU2QEPAz52P6TVARc4QslK9NUBG3FHGFZE1QEjqktrYZDVASfjT7ps4NUBLBhUDXww1QEwUVhci4DRATiKXK+WzNEBPMNg/qIc0QFA+GVRrWzRAUkxaaC4vNEBTWpt88QI0QFRo3JC01jNAVnYdpXeqM0BYhF65On4zQFmSn839UTNAWqDg4cAlM0BcriH2g/kyQF68YgpHzTJAX8qjHgqhMkBg2OQyzXQyQGLmJUeQSDJAY/RmW1McMkBkAqhvFvAxQGYQ6YPZwzFAaB4qmJyXMUBpLGusX2sxQGo6rMAiPzFAbEjt1OUSMUBuVi7pqOYwQG9kb/1rujBAcHKwES+OMEBygPEl8mEwQHSOMjq1NTBAdZxzTngJMEDsVGnFdrovQO9w6+38YS9A8oxtFoMJL0D1qO8+CbEuQPjEcWePWC5A++DzjxUALkD+/HW4m6ctQAEZ+OAhTy1AAjV6Caj2LEAFUfwxLp4sQAhtflq0RSxAC4kAgzrtK0AOpYKrwJQrQBHBBNRGPCtAFN2G/MzjKkAX+QglU4sqQBoVi03ZMipAHTENdl/aKUAgTY+e5YEpQCNpEcdrKSlAJYWT7/HQKEAooRUYeHgoQCu9l0D+HyhALtkZaYTHJ0Ax9ZuRCm8nQDQRHrqQFidAOC2g4ha+JkA6SSILnWUmQDxlpDMjDSZAQIEmXKm0JUBCnaiEL1wlQEa5Kq21AyVASNWs1TurJEBM8S7+wVIkQE4NsSZI+iNAUikzT86hI0BURbV3VEkjQFhhN6Da8CJAWn25yGCYIkBemTvx5j8iQGC1vRlt5yFAZNE/QvOOIUBm7cFqeTYhQGgJRJP/3SBAbCXGu4WFIEBuQUjkCy0gQOS6lBkkqR9A6PKYajD4HkDwKp27PEceQPRioQxJlh1A/JqlXVXlHEAA06muYTQcQAgLrv9tgxtADEOyUHrSGkA=",
          "dtype": "f8"
         },
         "yaxis": "y7"
        },
        {
         "customdata": [
          "2025-02-21T00:01:35.000000000",
          "2025-02-22T09:32:19.000000000",
          "2025-02-23T01:11:41.000000000",
          "2025-02-23T10:27:07.000000000",
          "2025-02-23T23:00:47.000000000",
          "2025-02-24T10:30:34.000000000",
          "2025-02-25T00:41:09.000000000",
          "2025-02-25T10:30:51.000000000",
          "2025-02-25T22:18:41.000000000",
          "2025-02-26T12:05:35.000000000",
          "2025-02-26T22:16:33.000000000",
          "2025-02-27T08:25:25.000000000",
          "2025-03-03T10:20:24.000000000",
          "2025-03-08T09:46:41.000000000",
          "2025-03-08T22:45:03.000000000",
          "2025-03-09T13:15:30.000000000",
          "2025-03-09T23:02:26.000000000",
          "2025-03-10T10:10:48.000000000",
          "2025-03-10T12:22:53.000000000",
          "2025-03-10T15:47:07.000000000",
          "2025-03-10T22:37:35.000000000",
          "2025-03-11T10:14:17.000000000",
          "2025-03-11T12:17:35.000000000",
          "2025-03-11T14:18:40.000000000",
          "2025-03-11T23:49:20.000000000",
          "2025-03-12T10:12:40.000000000",
          "2025-03-12T23:28:22.000000000",
          "2025-03-13T09:59:37.000000000",
          "2025-03-13T15:01:10.000000000",
          "2025-03-13T18:34:42.000000000",
          "2025-03-14T00:10:40.000000000",
          "2025-03-14T10:12:54.000000000",
          "2025-03-14T13:30:29.000000000",
          "2025-03-14T22:27:42.000000000",
          "2025-03-15T16:05:27.000000000",
          "2025-03-16T00:58:47.000000000"
         ],
         "hovertemplate": "ID: respondent_4<br>DateTime: %{customdata}<br>response_time_std: %{x:.2f}<br>Score: %{y:.2f}<br>Pearson r: -0.209<br>Spearman r: -0.130<br>Kendall τ: -0.082<br>DCOR: 0.244",
         "legendgroup": "respondent_4",
         "marker": {
          "color": "#FF00FF",
          "opacity": 0.8,
          "size": 8
         },
         "mode": "markers",
         "name": "ID: respondent_4",
         "showlegend": false,
         "type": "scatter",
         "x": {
          "bdata": "AM3zaYg28j/NC4KNO+HyP2MO84Ar/PA/mEkQB9fl9T8KiOX5yGjtP/2n/WhgJPQ/dvQwW0jN8j9dVvuuzTTxP6jc1oCEjO8/FpFPh/TH9D9HcwwV2ED2P6KaWTOOzfM/vKgqxSYC9z8rzjlbCRMDQCyZDCmTyfY/vDeY16/E/T//ZXmgqPHxP/S1478o2uk/ODhDAHam6T+3savsJKzvP4JUBplBoPM/YICdXGb3+D9gIRWYXCfxP4qfQOS3PvE/+H625syh5z8o58Q9yefrP605K+LlR/I/N7dD6sBf+j+SiiSCWQrxP6rpePRG2O4/2wND/3oc7D+OjDwP40HqP5meeDSsbvQ/alOsWpwk6T8EM7WFE90AQN+S2bMNMOo/",
          "dtype": "f8"
         },
         "xaxis": "x7",
         "y": {
          "bdata": "FQITAhUNHgohAxgDAwMeDRwBAQIYAgEHGQQcAQMFEwMEHwQM",
          "dtype": "i1"
         },
         "yaxis": "y7"
        },
        {
         "hovertemplate": "ID: respondent_4<br>Pearson r: -0.209<br>Spearman r: -0.130<br>Kendall τ: -0.082<br>DCOR: 0.244",
         "legendgroup": "respondent_4",
         "line": {
          "color": "#FF00FF",
          "dash": "dash",
          "width": 2
         },
         "mode": "lines",
         "name": "Trend respondent_4",
         "showlegend": false,
         "type": "scatter",
         "x": {
          "bdata": "+H625syh5z/gn0JX/CnoP8jAzscrsug/sOFaOFs66T+YAueoisLpP4Ajcxm6Suo/aET/ienS6j9QZYv6GFvrPziGF2tI4+s/IKej23dr7D8IyC9Mp/PsP/Dou7zWe+0/2AlILQYE7j/AKtSdNYzuP6hLYA5lFO8/kGzsfpSc7z+8Rrz3YRLwPzBXArB5VvA/pGdIaJGa8D8YeI4gqd7wP4yI1NjAIvE/AJkakdhm8T90qWBJ8KrxP+i5pgEI7/E/XMrsuR8z8j/Q2jJyN3fyP0TreCpPu/I/uPu+4mb/8j8sDAWbfkPzP6AcS1OWh/M/FC2RC67L8z+IPdfDxQ/0P/xNHXzdU/Q/cF5jNPWX9D/kbqnsDNz0P1h/76QkIPU/zI81XTxk9T9AoHsVVKj1P7Swwc1r7PU/KMEHhoMw9j+c0U0+m3T2PxDik/ayuPY/hPLZrsr89j/4AiBn4kD3P2wTZh/6hPc/4COs1xHJ9z9UNPKPKQ34P8hEOEhBUfg/O1V+AFmV+D+vZcS4cNn4PyN2CnGIHfk/l4ZQKaBh+T8Ll5bht6X5P3+n3JnP6fk/87ciUuct+j9nyGgK/3H6P9vYrsIWtvo/T+n0ei76+j/D+TozRj77PzcKgetdgvs/qxrHo3XG+z8fKw1cjQr8P5M7UxSlTvw/B0yZzLyS/D97XN+E1Nb8P+9sJT3sGv0/Y31r9QNf/T/XjbGtG6P9P0ue92Uz5/0/v649Hksr/j8zv4PWYm/+P6fPyY56s/4/G+APR5L3/j+P8FX/qTv/PwMBnLfBf/8/dxHib9nD/z/2EBSU+AMAQDAZN3AEJgBAaiFaTBBIAECkKX0oHGoAQN4xoAQojABAGDrD4DOuAEBSQua8P9AAQIxKCZlL8gBAxlIsdVcUAUAAW09RYzYBQDpjci1vWAFAdGuVCXt6AUCuc7jlhpwBQOh728GSvgFAIoT+nZ7gAUBcjCF6qgICQJaURFa2JAJA0JxnMsJGAkAKpYoOzmgCQEStrerZigJAfbXQxuWsAkC3vfOi8c4CQPHFFn/98AJAK845WwkTA0A=",
          "dtype": "f8"
         },
         "xaxis": "x7",
         "y": {
          "bdata": "WI2zub7xLUA67bR+urstQBtNtkO2hS1A/Ky3CLJPLUDeDLnNrRktQMBsupKp4yxAosy7V6WtLECELL0coXcsQGWMvuGcQSxARuy/ppgLLEAoTMFrlNUrQAqswjCQnytA7AvE9YtpK0DOa8W6hzMrQK/Lxn+D/SpAkCvIRH/HKkByi8kJe5EqQFTrys52WypANkvMk3IlKkAYq81Ybu8pQPkKzx1quSlA2mrQ4mWDKUC8ytGnYU0pQJ4q02xdFylAgIrUMVnhKEBi6tX2VKsoQENK17tQdShAJKrYgEw/KEAGCtpFSAkoQOhp2wpE0ydAysnczz+dJ0CsKd6UO2cnQI2J31k3MSdAb+ngHjP7JkBQSeLjLsUmQDKp46gqjyZAFAnlbSZZJkD1aOYyIiMmQNfI5/cd7SVAuSjpvBm3JUCaiOqBFYElQHzo60YRSyVAXkjtCw0VJUA/qO7QCN8kQCEI8JUEqSRAA2jxWgBzJEDkx/If/DwkQMYn9OT3BiRAqIf1qfPQI0CK5/Zu75ojQGxH+DPrZCNATaf5+OYuI0AvB/u94vgiQBFn/ILewiJA8sb9R9qMIkDUJv8M1lYiQLaGANLRICJAl+YBl83qIUB5RgNcybQhQFumBCHFfiFAPAYG5sBIIUAeZgervBIhQADGCHC43CBA4SUKNbSmIEDDhQv6r3AgQKXlDL+rOiBAhkUOhKcEIEDQSh+SRp0fQJQKIhw+MR9AVsokpjXFHkAaiicwLVkeQN5JKrok7R1AoAktRByBHUBkyS/OExUdQCiJMlgLqRxA6kg14gI9HECsCDhs+tAbQHDIOvbxZBtANIg9gOn4GkD2R0AK4YwaQLoHQ5TYIBpAfsdFHtC0GUBAh0iox0gZQARHSzK/3BhAyAZOvLZwGECKxlBGrgQYQE6GU9ClmBdAEkZWWp0sF0DUBVnklMAWQJjFW26MVBZAXIVe+IPoFUAeRWGCe3wVQOIEZAxzEBVApMRmlmqkFEBohGkgYjgUQCxEbKpZzBNA8gNvNFFgE0C2w3G+SPQSQHiDdEhAiBJAPEN30jccEkA=",
          "dtype": "f8"
         },
         "yaxis": "y7"
        },
        {
         "customdata": [
          "2025-03-10T10:09:26.000000000",
          "2025-03-10T15:39:44.000000000",
          "2025-03-10T19:27:25.000000000",
          "2025-03-10T20:39:20.000000000",
          "2025-03-11T08:55:58.000000000",
          "2025-03-11T17:38:58.000000000",
          "2025-03-12T08:48:30.000000000",
          "2025-03-12T16:04:18.000000000",
          "2025-03-12T20:38:30.000000000",
          "2025-03-13T09:20:31.000000000",
          "2025-03-13T12:26:28.000000000",
          "2025-03-13T14:17:22.000000000",
          "2025-03-13T22:48:59.000000000",
          "2025-03-14T13:41:47.000000000",
          "2025-03-14T15:19:17.000000000",
          "2025-03-15T17:17:19.000000000"
         ],
         "hovertemplate": "ID: respondent_1<br>DateTime: %{customdata}<br>response_time_max: %{x:.2f}<br>Score: %{y:.2f}<br>Pearson r: 0.132<br>Spearman r: 0.117<br>Kendall τ: 0.094<br>DCOR: 0.327",
         "legendgroup": "respondent_1",
         "marker": {
          "color": "#FF0000",
          "opacity": 0.8,
          "size": 8
         },
         "mode": "markers",
         "name": "ID: respondent_1",
         "showlegend": false,
         "type": "scatter",
         "x": {
          "bdata": "ZDvfT42XGEA/NV66SQwfQBBYObTI9h1ApHA9CtcjI0BWDi2yne8eQClcj8L1qBdAAiuHFtlOHkCWQ4ts5zsgQHe+nxovXR9AJzEIrBxaF0C6SQwCK0chQLgehetROBxAUrgehevRE0D+1HjpJrEgQPCnxks3CRFAQmDl0CJbFUA=",
          "dtype": "f8"
         },
         "xaxis": "x8",
         "y": {
          "bdata": "DwkZHgYZBhMPDhwXEwMEHA==",
          "dtype": "i1"
         },
         "yaxis": "y8"
        },
        {
         "hovertemplate": "ID: respondent_1<br>Pearson r: 0.132<br>Spearman r: 0.117<br>Kendall τ: 0.094<br>DCOR: 0.327",
         "legendgroup": "respondent_1",
         "line": {
          "color": "#FF0000",
          "dash": "dash",
          "width": 2
         },
         "mode": "lines",
         "name": "Trend respondent_1",
         "showlegend": false,
         "type": "scatter",
         "x": {
          "bdata": "8KfGSzcJEUBjdxNlJkARQNVGYH4VdxFASBatlwSuEUC75fmw8+QRQC21RsriGxJAoIST49FSEkATVOD8wIkSQIUjLRawwBJA+PJ5L5/3EkBrwsZIji4TQN2RE2J9ZRNAUGFge2ycE0DDMK2UW9MTQDUA+q1KChRAqM9GxzlBFEAbn5PgKHgUQI1u4PkXrxRAAD4tEwfmFEByDXos9hwVQOXcxkXlUxVAWKwTX9SKFUDKe2B4w8EVQD1LrZGy+BVAsBr6qqEvFkAi6kbEkGYWQJW5k91/nRZACIng9m7UFkB6WC0QXgsXQO0neilNQhdAYPfGQjx5F0DSxhNcK7AXQEWWYHUa5xdAuGWtjgkeGEAqNfqn+FQYQJ0ER8HnixhAENST2tbCGECCo+DzxfkYQPVyLQ21MBlAaEJ6JqRnGUDaEcc/k54ZQE3hE1mC1RlAwLBgcnEMGkAygK2LYEMaQKVP+qRPehpAGB9Hvj6xGkCK7pPXLegaQP294PAcHxtAcI0tCgxWG0DiXHoj+4wbQFUsxzzqwxtAyPsTVtn6G0A6y2BvyDEcQK2arYi3aBxAIGr6oaafHECSOUe7ldYcQAUJlNSEDR1AeNjg7XNEHUDqpy0HY3sdQF13eiBSsh1A0EbHOUHpHUBCFhRTMCAeQLXlYGwfVx5AKLWthQ6OHkCahPqe/cQeQA1UR7js+x5AgCOU0dsyH0Dy8uDqymkfQGXCLQS6oB9A2JF6HanXH0ClsGMbTAcgQF4YCqjDIiBAGICwNDs+IEDR51bBslkgQIpP/U0qdSBARLej2qGQIED9HkpnGawgQLaG8POQxyBAcO6WgAjjIEApVj0NgP4gQOK945n3GSFAnCWKJm81IUBVjTCz5lAhQA711j9ebCFAyFx9zNWHIUCBxCNZTaMhQDosyuXEviFA9JNwcjzaIUCt+xb/s/UhQGZjvYsrESJAIMtjGKMsIkDZMgqlGkgiQJKasDGSYyJATAJXvgl/IkAFav1KgZoiQL7Ro9f4tSJAeDlKZHDRIkAxofDw5+wiQOoIl31fCCNApHA9CtcjI0A=",
          "dtype": "f8"
         },
         "xaxis": "x8",
         "y": {
          "bdata": "erbBZAAKLUA+8Y8HrSAtQAIsXqpZNy1AxmYsTQZOLUCKofrvsmQtQE7cyJJfey1AEheXNQySLUDWUWXYuKgtQJmMM3tlvy1AXccBHhLWLUAhAtDAvuwtQOU8nmNrAy5AqXdsBhgaLkBtsjqpxDAuQDDtCExxRy5A9CfX7h1eLkC4YqWRynQuQHydczR3iy5AQNhB1yOiLkAEExB60LguQMhN3hx9zy5AjIisvynmLkBPw3pi1vwuQBP+SAWDEy9A1zgXqC8qL0Cac+VK3EAvQF6us+2IVy9AIumBkDVuL0DmI1Az4oQvQKpeHtaOmy9AbpnseDuyL0Ay1Lob6MgvQPYOib6U3y9AuklXYUH2L0A/whICdwYwQKDfeVPNETBAAv3gpCMdMEBkGkj2eSgwQMY3r0fQMzBAKFUWmSY/MECKcn3qfEowQOyP5DvTVTBATq1LjSlhMECwyrLef2wwQBLoGTDWdzBAdAWBgSyDMEDWIujSgo4wQDhATyTZmTBAml22dS+lMED8eh3HhbAwQF6YhBjcuzBAwLXraTLHMEAh01K7iNIwQIPwuQzf3TBA5Q0hXjXpMEBHK4ivi/QwQKlI7wDi/zBAC2ZWUjgLMUBtg72jjhYxQM+gJPXkITFAMb6LRjstMUCT2/KXkTgxQPX4WennQzFAVxbBOj5PMUC4MyiMlFoxQBpRj93qZTFAfG72LkFxMUDei12Al3wxQECpxNHthzFAosYrI0STMUAE5JJ0mp4xQGYB+sXwqTFAyB5hF0e1MUAqPMhoncAxQIxZL7rzyzFA7naWC0rXMUBQlP1coOIxQLGxZK727TFAFM/L/0z5MUB17DJRowQyQNcJmqL5DzJAOScB9E8bMkCbRGhFpiYyQP1hz5b8MTJAX3826FI9MkDBnJ05qUgyQCO6BIv/UzJAhddr3FVfMkDn9NItrGoyQEgSOn8CdjJAqy+h0FiBMkAMTQgir4wyQG5qb3MFmDJA0IfWxFujMkAypT0Wsq4yQJTCpGcIujJA9t8LuV7FMkBY/XIKtdAyQLoa2lsL3DJAHDhBrWHnMkA=",
          "dtype": "f8"
         },
         "yaxis": "y8"
        },
        {
         "customdata": [
          "2025-03-10T10:16:41.000000000",
          "2025-03-10T12:36:03.000000000",
          "2025-03-10T15:32:56.000000000",
          "2025-03-10T19:32:40.000000000",
          "2025-03-11T11:11:19.000000000",
          "2025-03-11T12:46:55.000000000",
          "2025-03-11T21:06:16.000000000",
          "2025-03-12T13:15:24.000000000",
          "2025-03-12T16:04:02.000000000",
          "2025-03-12T20:30:44.000000000",
          "2025-03-13T10:07:57.000000000",
          "2025-03-13T21:45:02.000000000",
          "2025-03-14T12:11:07.000000000",
          "2025-03-14T14:12:15.000000000",
          "2025-03-15T16:05:01.000000000"
         ],
         "hovertemplate": "ID: respondent_2<br>DateTime: %{customdata}<br>response_time_max: %{x:.2f}<br>Score: %{y:.2f}<br>Pearson r: 0.169<br>Spearman r: 0.243<br>Kendall τ: 0.147<br>DCOR: 0.473",
         "legendgroup": "respondent_2",
         "marker": {
          "color": "#00FF00",
          "opacity": 0.8,
          "size": 8
         },
         "mode": "markers",
         "name": "ID: respondent_2",
         "showlegend": false,
         "type": "scatter",
         "x": {
          "bdata": "I9v5fmo8KEDD9ShcjwIjQOXQItv5Pi1AhetRuB4FKUDP91PjpRs0QNV46SYxSCJAokW28/1ULkDufD81XnooQMP1KFyPQhtAukkMAisHKUDsUbgehescQA4tsp3vJyVAWmQ7309NJkBEi2zn+6kmQDvfT42Xbi9A",
          "dtype": "f8"
         },
         "xaxis": "x8",
         "y": {
          "bdata": "DwsQFA8MFhMUFQwZFhcW",
          "dtype": "i1"
         },
         "yaxis": "y8"
        },
        {
         "hovertemplate": "ID: respondent_2<br>Pearson r: 0.169<br>Spearman r: 0.243<br>Kendall τ: 0.147<br>DCOR: 0.473",
         "legendgroup": "respondent_2",
         "line": {
          "color": "#00FF00",
          "dash": "dash",
          "width": 2
         },
         "mode": "lines",
         "name": "Trend respondent_2",
         "showlegend": false,
         "type": "scatter",
         "x": {
          "bdata": "w/UoXI9CG0AAfFomDswbQDwCjPCMVRxAeYi9ugvfHEC2Du+EimgdQPKUIE8J8h1ALxtSGYh7HkBsoYPjBgUfQKgnta2Fjh9A81bzOwIMIEARGgyhwVAgQC/dJAaBlSBATqA9a0DaIEBsY1bQ/x4hQIombzW/YyFAqemHmn6oIUDHrKD/Pe0hQOVvuWT9MSJABDPSybx2IkAi9uoufLsiQEC5A5Q7ACNAX3wc+fpEI0B9PzVeuokjQJwCTsN5ziNAusVmKDkTJEDYiH+N+FckQPZLmPK3nCRAFQ+xV3fhJEAz0sm8NiYlQFKV4iH2aiVAcFj7hrWvJUCOGxTsdPQlQKzeLFE0OSZAy6FFtvN9JkDpZF4bs8ImQAgod4ByBydAJuuP5TFMJ0BErqhK8ZAnQGJxwa+w1SdAgTTaFHAaKECg9/J5L18oQL66C9/uoyhA3H0kRK7oKED6QD2pbS0pQBgEVg4tcilAN8duc+y2KUBWiofYq/spQHRNoD1rQCpAkhC5oiqFKkCw09EH6skqQM6W6mypDitA7VkD0mhTK0AMHRw3KJgrQCrgNJzn3CtASKNNAachLEBmZmZmZmYsQIQpf8slqyxAo+yXMOXvLEDCr7CVpDQtQOByyfpjeS1A/jXiXyO+LUAc+frE4gIuQDq8EyqiRy5AWn8sj2GMLkB4QkX0INEuQJYFXlngFS9AtMh2vp9aL0DSi48jX58vQPBOqIge5C9ACIng9m4UMECX6mypzjYwQCZM+VsuWTBAta2FDo57MEBEDxLB7Z0wQNNwnnNNwDBAY9IqJq3iMEDyM7fYDAUxQIGVQ4tsJzFAEPfPPcxJMUCfWFzwK2wxQC+66KKLjjFAvht1VeuwMUBNfQEIS9MxQNzejbqq9TFAa0AabQoYMkD6oaYfajoyQIoDM9LJXDJAGWW/hCl/MkCoxks3iaEyQDco2OnowzJAxolknEjmMkBV6/BOqAgzQOVMfQEIKzNAdK4JtGdNM0ADEJZmx28zQJJxIhknkjNAIdOuy4a0M0CwNDt+5tYzQECWxzBG+TNAz/dT46UbNEA=",
          "dtype": "f8"
         },
         "xaxis": "x8",
         "y": {
          "bdata": "3gUPL9osMUBqtvoFdTQxQPZm5twPPDFAghfSs6pDMUAOyL2KRUsxQJp4qWHgUjFAJymVOHtaMUCz2YAPFmIxQD+KbOawaTFAyzpYvUtxMUBX60OU5ngxQOObL2uBgDFAcEwbQhyIMUD8/AYZt48xQIit8u9RlzFAFF7exuyeMUCgDsqdh6YxQCy/tXQirjFAuG+hS721MUBFII0iWL0xQNHQePnyxDFAXYFk0I3MMUDpMVCnKNQxQHXiO37D2zFAApMnVV7jMUCOQxMs+eoxQBr0/gKU8jFApqTq2S76MUAyVdawyQEyQL4FwodkCTJASratXv8QMkDWZpk1mhgyQGMXhQw1IDJA78dw488nMkB7eFy6ai8yQAcpSJEFNzJAk9kzaKA+MkAgih8/O0YyQKw6CxbWTTJAOOv27HBVMkDEm+LDC10yQFBMzpqmZDJA3Py5cUFsMkBoraVI3HMyQPRdkR93ezJAgQ599hGDMkANv2jNrIoyQJlvVKRHkjJAJSBAe+KZMkCx0CtSfaEyQD2BFykYqTJAyjEDALOwMkBW4u7WTbgyQOKS2q3ovzJAbkPGhIPHMkD687FbHs8yQIaknTK51jJAE1WJCVTeMkCfBXXg7uUyQCu2YLeJ7TJAt2ZMjiT1MkBDFzhlv/wyQM/HIzxaBDNAXHgPE/ULM0DoKPvpjxMzQHTZ5sAqGzNAAIrSl8UiM0CMOr5uYCozQBjrqUX7MTNApJuVHJY5M0AxTIHzMEEzQL38bMrLSDNASa1YoWZQM0DVXUR4AVgzQGEOME+cXzNA7r4bJjdnM0B6bwf90W4zQAYg89NsdjNAktDeqgd+M0AegcqBooUzQKoxtlg9jTNANuKhL9iUM0DCko0Gc5wzQE9Ded0NpDNA2/NktKirM0BnpFCLQ7MzQPNUPGLeujNAfwUoOXnCM0AMthMQFMozQJhm/+au0TNAJBfrvUnZM0Cwx9aU5OAzQDx4wmt/6DNAyCiuQhrwM0BU2ZkZtfczQOCJhfBP/zNAbDpxx+oGNED56lyehQ40QIWbSHUgFjRAEUw0TLsdNEA=",
          "dtype": "f8"
         },
         "yaxis": "y8"
        },
        {
         "customdata": [
          "2025-03-11T07:27:25.000000000",
          "2025-03-12T15:46:20.000000000",
          "2025-03-13T09:44:33.000000000",
          "2025-03-17T13:17:20.000000000",
          "2025-03-17T13:23:49.000000000",
          "2025-03-17T21:08:52.000000000",
          "2025-03-19T07:48:21.000000000",
          "2025-03-24T20:28:12.000000000"
         ],
         "hovertemplate": "ID: respondent_3<br>DateTime: %{customdata}<br>response_time_max: %{x:.2f}<br>Score: %{y:.2f}<br>Pearson r: -0.639<br>Spearman r: -0.548<br>Kendall τ: -0.429<br>DCOR: 0.672",
         "legendgroup": "respondent_3",
         "marker": {
          "color": "#0000FF",
          "opacity": 0.8,
          "size": 8
         },
         "mode": "markers",
         "name": "ID: respondent_3",
         "showlegend": false,
         "type": "scatter",
         "x": {
          "bdata": "WmQ7309NKkD+1HjpJuFAQDvfT42X/kdAzczMzMxkVkCe76fGS5c+QPhT46WbZDFAukkMAitHPECiRbbz/XQxQA==",
          "dtype": "f8"
         },
         "xaxis": "x8",
         "y": {
          "bdata": "HQkZAwsUHhU=",
          "dtype": "i1"
         },
         "yaxis": "y8"
        },
        {
         "hovertemplate": "ID: respondent_3<br>Pearson r: -0.639<br>Spearman r: -0.548<br>Kendall τ: -0.429<br>DCOR: 0.672",
         "legendgroup": "respondent_3",
         "line": {
          "color": "#0000FF",
          "dash": "dash",
          "width": 2
         },
         "mode": "lines",
         "name": "Trend respondent_3",
         "showlegend": false,
         "type": "scatter",
         "x": {
          "bdata": "WmQ7309NKkAHWgApjtgrQLVPxXLMYy1AYkWKvArvLkCInSeDJD0wQF8YCqjDAjFANZPszGLIMUAMDs/xAY4yQOOIsRahUzNAugOUO0AZNECQfnZg3940QGf5WIV+pDVAPnQ7qh1qNkAU7x3PvC83QOtpAPRb9TdAwuTiGPu6OECYX8U9moA5QG/ap2I5RjpARlWKh9gLO0Ac0Gysd9E7QPRKT9EWlzxAysUx9rVcPUChQBQbVSI+QHi79j/05z5ATjbZZJOtP0CS2N1EmTlAQP4VT9donEBAaVPAaTj/QEDUkDH8B2JBQEDOoo7XxEFArAsUIacnQkAWSYWzdopCQIKG9kVG7UJA7sNn2BVQQ0BYAdlq5bJDQMQ+Sv20FURAMHy7j4R4RECbuSwiVNtEQAb3nbQjPkVAcjQPR/OgRUDdcYDZwgNGQEiv8WuSZkZAtOxi/mHJRkAeKtSQMSxHQIpnRSMBj0dA9qS2tdDxR0Bi4idIoFRIQMwfmdpvt0hAOF0KbT8aSUCkmnv/Dn1JQA7Y7JHe30lAehVeJK5CSkDmUs+2faVKQFCQQElNCEtAvM2x2xxrS0AoCyNu7M1LQJJIlAC8MExA/oUFk4uTTEBqw3YlW/ZMQNQA6LcqWU1AQD5ZSvq7TUCse8rcyR5OQBa5O2+ZgU5AgvasAWnkTkDuMx6UOEdPQFhxjyYIqk9AYleA3GsGUEAY9ril0zdQQM2U8W47aVBAgzMqOKOaUEA50mIBC8xQQO9wm8py/VBApA/Uk9ouUUBargxdQmBRQBBNRSaqkVFAxet97xHDUUB7ira4efRRQDEp74HhJVJA5scnS0lXUkCcZmAUsYhSQFIFmd0YulJAB6TRpoDrUkC9Qgpw6BxTQHLhQjlQTlNAKIB7Arh/U0DeHrTLH7FTQJO97JSH4lNASVwlXu8TVED/+l0nV0VUQLSZlvC+dlRAajjPuSaoVEAg1weDjtlUQNZ1QEz2ClVAixR5FV48VUBBs7HexW1VQPdR6qctn1VArPAicZXQVUBij1s6/QFWQBgulANlM1ZAzczMzMxkVkA=",
          "dtype": "f8"
         },
         "xaxis": "x8",
         "y": {
          "bdata": "5FWxQDb9N0CQeaSBC8s3QD2dl8LgmDdA6sCKA7ZmN0CX5H1EizQ3QEQIcYVgAjdA8StkxjXQNkCeT1cHC542QEtzSkjgazZA+JY9ibU5NkCkujDKigc2QFLeIwtg1TVA/gEXTDWjNUCrJQqNCnE1QFhJ/c3fPjVABW3wDrUMNUCykONPito0QF+01pBfqDRADNjJ0TR2NEC5+7wSCkQ0QGYfsFPfETRAEkOjlLTfM0C/ZpbVia0zQGyKiRZfezNAGq58VzRJM0DG0W+YCRczQHP1Ytne5DJAIBlWGrSyMkDNPElbiYAyQHpgPJxeTjJAJoQv3TMcMkDUpyIeCeoxQIDLFV/etzFALe8IoLOFMUDaEvzgiFMxQIc27yFeITFANFriYjPvMEDhfdWjCL0wQI6hyOTdijBAOsW7JbNYMEDo6K5miCYwQCkZRE+76C9Ag2Aq0WWEL0DepxBTECAvQDfv9tS6uy5AkDbdVmVXLkDpfcPYD/MtQETFqVq6ji1AngyQ3GQqLUD3U3ZeD8YsQFKbXOC5YSxAq+JCYmT9K0AEKinkDpkrQF9xD2a5NCtAubj152PQKkASANxpDmwqQG1Hwuu4BypAxo6obWOjKUAf1o7vDT8pQHoddXG42ihA1GRb82J2KEAtrEF1DRIoQIjzJ/e3rSdA4ToOeWJJJ0A6gvT6DOUmQJbJ2ny3gCZA7hDB/mEcJkBIWKeADLglQKSfjQK3UyVA/OZzhGHvJEBWLloGDIskQK51QIi2JiRACr0mCmHCI0BiBA2MC14jQLxL8w22+SJAGJPZj2CVIkBw2r8RCzEiQMohppO1zCFAJGmMFWBoIUB+sHKXCgQhQNj3WBm1nyBAMj8/m187IEAYDUs6FK4fQMybFz5p5R5AgCrkQb4cHkAwubBFE1QdQOhHfUloixxAnNZJTb3CG0BMZRZREvoaQAT04lRnMRpAtIKvWLxoGUBoEXxcEaAYQBygSGBm1xdA0C4VZLsOF0CEveFnEEYWQDRMrmtlfRVA7Np6b7q0FECcaUdzD+wTQFD4E3dkIxNACIfgerlaEkA=",
          "dtype": "f8"
         },
         "yaxis": "y8"
        },
        {
         "customdata": [
          "2025-02-21T00:01:35.000000000",
          "2025-02-22T09:32:19.000000000",
          "2025-02-23T01:11:41.000000000",
          "2025-02-23T10:27:07.000000000",
          "2025-02-23T23:00:47.000000000",
          "2025-02-24T10:30:34.000000000",
          "2025-02-25T00:41:09.000000000",
          "2025-02-25T10:30:51.000000000",
          "2025-02-25T22:18:41.000000000",
          "2025-02-26T12:05:35.000000000",
          "2025-02-26T22:16:33.000000000",
          "2025-02-27T08:25:25.000000000",
          "2025-03-03T10:20:24.000000000",
          "2025-03-08T09:46:41.000000000",
          "2025-03-08T22:45:03.000000000",
          "2025-03-09T13:15:30.000000000",
          "2025-03-09T23:02:26.000000000",
          "2025-03-10T10:10:48.000000000",
          "2025-03-10T12:22:53.000000000",
          "2025-03-10T15:47:07.000000000",
          "2025-03-10T22:37:35.000000000",
          "2025-03-11T10:14:17.000000000",
          "2025-03-11T12:17:35.000000000",
          "2025-03-11T14:18:40.000000000",
          "2025-03-11T23:49:20.000000000",
          "2025-03-12T10:12:40.000000000",
          "2025-03-12T23:28:22.000000000",
          "2025-03-13T09:59:37.000000000",
          "2025-03-13T15:01:10.000000000",
          "2025-03-13T18:34:42.000000000",
          "2025-03-14T00:10:40.000000000",
          "2025-03-14T10:12:54.000000000",
          "2025-03-14T13:30:29.000000000",
          "2025-03-14T22:27:42.000000000",
          "2025-03-15T16:05:27.000000000",
          "2025-03-16T00:58:47.000000000"
         ],
         "hovertemplate": "ID: respondent_4<br>DateTime: %{customdata}<br>response_time_max: %{x:.2f}<br>Score: %{y:.2f}<br>Pearson r: -0.252<br>Spearman r: -0.182<br>Kendall τ: -0.124<br>DCOR: 0.266",
         "legendgroup": "respondent_4",
         "marker": {
          "color": "#FF00FF",
          "opacity": 0.8,
          "size": 8
         },
         "mode": "markers",
         "name": "ID: respondent_4",
         "showlegend": false,
         "type": "scatter",
         "x": {
          "bdata": "tvP91HjpGEBGtvP91HgcQKabxCCwchpARrbz/dR4G0BKDAIrhxYUQDVeukkMAiJAeekmMQisGUCiRbbz/VQYQGZmZmZm5hRAf2q8dJMYH0CR7Xw/NR4gQFCNl24SgyJA+FPjpZvEIECR7Xw/NZ4wQLx0kxgE1iBAjZduEoPAJkD4U+Olm8QaQHNoke18vxNAZDvfT42XFUASg8DKoUUVQMUgsHJokSBAj8L1KFzPI0CBlUOLbGcaQMl2vp8arx5AqMZLN4lBE0BI4XoUrkcUQA4tsp3vJxxARIts5/vpJEDLoUW28/0fQBsv3SQGgRRAtvP91HhpFUDD9Shcj8ISQKrx0k1iEBxAI9v5fmo8EUDZzvdT46UqQKrx0k1ikBNA",
          "dtype": "f8"
         },
         "xaxis": "x8",
         "y": {
          "bdata": "FQITAhUNHgohAxgDAwMeDRwBAQIYAgEHGQQcAQMFEwMEHwQM",
          "dtype": "i1"
         },
         "yaxis": "y8"
        },
        {
         "hovertemplate": "ID: respondent_4<br>Pearson r: -0.252<br>Spearman r: -0.182<br>Kendall τ: -0.124<br>DCOR: 0.266",
         "legendgroup": "respondent_4",
         "line": {
          "color": "#FF00FF",
          "dash": "dash",
          "width": 2
         },
         "mode": "lines",
         "name": "Trend respondent_4",
         "showlegend": false,
         "type": "scatter",
         "x": {
          "bdata": "I9v5fmo8EUC8u7u7u7sRQFWcffgMOxJA7nw/NV66EkCHXQFyrzkTQCA+w64AuRNAuB6F61E4FEBR/0Yoo7cUQOrfCGX0NhVAg8DKoUW2FUAcoYzeljUWQLWBThvotBZATmIQWDk0F0DmQtKUirMXQIAjlNHbMhhAGARWDi2yGECx5BdLfjEZQErF2YfPsBlA46WbxCAwGkB8hl0Bcq8aQBVnHz7DLhtArkfhehSuG0BGKKO3ZS0cQOAIZfS2rBxAeOkmMQgsHUASyuhtWasdQKqqqqqqKh5AQ4ts5/upHkDcay4kTSkfQHVM8GCeqB9AhxbZzvcTIEDTBjptoFMgQCD3mgtJkyBAbOf7qfHSIEC411xImhIhQAXIveZCUiFAUrgeheuRIUCeqH8jlNEhQOqY4ME8ESJAN4lBYOVQIkCEeaL+jZAiQNBpA5020CJAHFpkO98PI0BoSsXZh08jQLU6JngwjyNAAiuHFtnOI0BOG+i0gQ4kQJoLSVMqTiRA5/up8dKNJEA07AqQe80kQIDcay4kDSVAzMzMzMxMJUAYvS1rdYwlQGWtjgkezCVAsp3vp8YLJkD+jVBGb0smQEp+seQXiyZAl24Sg8DKJkDkXnMhaQonQDBP1L8RSidAfD81XrqJJ0DIL5b8YsknQBUg95oLCShAYhBYObRIKECuALnXXIgoQPrwGXYFyChARuF6FK4HKUCU0duyVkcpQODBPFH/hilALLKd76fGKUB4ov6NUAYqQMaSXyz5RSpAEoPAyqGFKkBecyFpSsUqQKpjggfzBCtA9lPjpZtEK0BERERERIQrQJA0peLswytA3CQGgZUDLEAoFWcfPkMsQHYFyL3mgixAwvUoXI/CLEAO5on6NwItQFrW6pjgQS1ApsZLN4mBLUD0tqzVMcEtQECnDXTaAC5AjJduEoNALkDYh8+wK4AuQCZ4ME/Uvy5AcmiR7Xz/LkC+WPKLJT8vQApJUyrOfi9AVjm0yHa+L0CkKRVnH/4vQPgMuwLkHjBAHoXrUbg+MEBE/RuhjF4wQGt1TPBgfjBAke18PzWeMEA=",
          "dtype": "f8"
         },
         "xaxis": "x8",
         "y": {
          "bdata": "rGOD26CjLkAUGrSLGl8uQHzQ5DuUGi5A44YV7A3WLUBKPUach5EtQLLzdkwBTS1AGqqn/HoILUCCYNis9MMsQOoWCV1ufyxAUc05Deg6LEC4g2q9YfYrQCA6m23bsStAiPDLHVVtK0DwpvzNzigrQFddLX5I5CpAvxNeLsKfKkAmyo7eO1sqQI6Av461FipA9jbwPi/SKUBe7SDvqI0pQMWjUZ8iSSlALFqCT5wEKUCVELP/FcAoQPzG46+PeyhAZH0UYAk3KEDLM0UQg/InQDPqdcD8rSdAm6CmcHZpJ0ACV9cg8CQnQGoNCNFp4CZA0sM4geObJkA6emkxXVcmQKEwmuHWEiZACefKkVDOJUBxnftByoklQNhTLPJDRSVAPwpdor0AJUCnwI1SN7wkQA93vgKxdyRAdi3vsiozJEDe4x9jpO4jQEaaUBMeqiNArlCBw5dlI0AWB7JzESEjQH294iOL3CJA5HMT1ASYIkBMKkSEflMiQLTgdDT4DiJAG5el5HHKIUCCTdaU64UhQOsDB0VlQSFAU7o39d78IEC7cGilWLggQCInmVXScyBAid3JBUwvIEDiJ/Vri9UfQLKUVsx+TB9AgAG4LHLDHkBObhmNZToeQB7beu1YsR1A8EfcTUwoHUDAtD2uP58cQI4hnw4zFhxAXI4AbyaNG0As+2HPGQQbQPxnwy8NexpAzNQkkADyGUCYQYbw82gZQGiu51Dn3xhAOBtJsdpWGEAKiKoRzs0XQNb0C3LBRBdApmFt0rS7FkB2zs4yqDIWQEY7MJObqRVAFqiR844gFUDiFPNTgpcUQLKBVLR1DhRAgu61FGmFE0BSWxd1XPwSQB7IeNVPcxJA8DTaNUPqEUDAoTuWNmERQJAOnfYp2BBAYHv+Vh1PEEBY0L9uIYwPQPipgi8Ieg5AmINF8O5nDUA4XQix1VUMQNA2y3G8QwtAcBCOMqMxCkAQ6lDziR8JQLDDE7RwDQhAUJ3WdFf7BkDodpk1PukFQIhQXPYk1wRAMCoftwvFA0DQA+J38rICQGjdpDjZoAFACLdn+b+OAEA=",
          "dtype": "f8"
         },
         "yaxis": "y8"
        },
        {
         "customdata": [
          "2025-03-10T10:09:26.000000000",
          "2025-03-10T15:39:44.000000000",
          "2025-03-10T19:27:25.000000000",
          "2025-03-10T20:39:20.000000000",
          "2025-03-11T08:55:58.000000000",
          "2025-03-11T17:38:58.000000000",
          "2025-03-12T08:48:30.000000000",
          "2025-03-12T16:04:18.000000000",
          "2025-03-12T20:38:30.000000000",
          "2025-03-13T09:20:31.000000000",
          "2025-03-13T12:26:28.000000000",
          "2025-03-13T14:17:22.000000000",
          "2025-03-13T22:48:59.000000000",
          "2025-03-14T13:41:47.000000000",
          "2025-03-14T15:19:17.000000000",
          "2025-03-15T17:17:19.000000000"
         ],
         "hovertemplate": "ID: respondent_1<br>DateTime: %{customdata}<br>response_time_min: %{x:.2f}<br>Score: %{y:.2f}<br>Pearson r: -0.122<br>Spearman r: -0.022<br>Kendall τ: -0.060<br>DCOR: 0.324",
         "legendgroup": "respondent_1",
         "marker": {
          "color": "#FF0000",
          "opacity": 0.8,
          "size": 8
         },
         "mode": "markers",
         "name": "ID: respondent_1",
         "showlegend": false,
         "type": "scatter",
         "x": {
          "bdata": "ukkMAiuH9D8fhetRuB7VP7Kd76fGS/U/K4cW2c73wz8zMzMzMzPzP7Kd76fGS/M/Di2yne+n9j9kO99PjZf6P6JFtvP91PQ/I9v5fmq89D8730+Nl27yPzEIrBxaZPM/fT81XrpJ9D85tMh2vp/yP1K4HoXrUfI/K4cW2c738z8=",
          "dtype": "f8"
         },
         "xaxis": "x9",
         "y": {
          "bdata": "DwkZHgYZBhMPDhwXEwMEHA==",
          "dtype": "i1"
         },
         "yaxis": "y9"
        },
        {
         "hovertemplate": "ID: respondent_1<br>Pearson r: -0.122<br>Spearman r: -0.022<br>Kendall τ: -0.060<br>DCOR: 0.324",
         "legendgroup": "respondent_1",
         "line": {
          "color": "#FF0000",
          "dash": "dash",
          "width": 2
         },
         "mode": "lines",
         "name": "Trend respondent_1",
         "showlegend": false,
         "type": "scatter",
         "x": {
          "bdata": "K4cW2c73wz/qdaReR+rFP6pkMuS/3Mc/aVPAaTjPyT8oQk7vsMHLP+cw3HQptM0/ph9q+qGmzz8zB/w/jczQP5L+woLJxdE/8vWJxQW/0j9S7VAIQrjTP7LkF0t+sdQ/Edzejbqq1T9w06XQ9qPWP9DKbBMzndc/MMIzVm+W2D+QufqYq4/ZP/CwwdvniNo/TqiIHiSC2z+un09hYHvcPw6XFqScdN0/bo7d5tht3j/OhaQpFWffP5a+NbYoMOA/RjqZ18as4D/2tfz4ZCnhP6YxYBoDpuE/Vq3DO6Ei4j8GKSddP5/iP7Wkin7dG+M/ZSDun3uY4z8VnFHBGRXkP8UXteK3keQ/dZMYBFYO5T8lD3wl9IrlP9SK30aSB+Y/hAZDaDCE5j80gqaJzgDnP+T9Catsfec/lHltzAr65z9D9dDtqHboP/NwNA9H8+g/o+yXMOVv6T9TaPtRg+zpPwPkXnMhaeo/s1/ClL/l6j9i2yW2XWLrPxJXidf73us/wtLs+Jlb7D9yTlAaONjsPyLKszvWVO0/0UUXXXTR7T+BwXp+Ek7uPzE93p+wyu4/4bhBwU5H7z+RNKXi7MPvPyBYBIJFIPA/+BW2kpRe8D/Q02ej45zwP6iRGbQy2/A/gE/LxIEZ8T9YDX3V0FfxPy/LLuYflvE/B4ng9m7U8T/fRpIHvhLyP7cERBgNUfI/j8L1KFyP8j9ngKc5q83yPz8+WUr6C/M/F/wKW0lK8z/uubxrmIjzP8Z3bnznxvM/njUgjTYF9D9289GdhUP0P06xg67UgfQ/Jm81vyPA9D/+LOfPcv70P9bqmODBPPU/rqhK8RB79T+GZvwBYLn1P10krhKv9/U/NeJfI/419j8NoBE0TXT2P+Vdw0ScsvY/vRt1Vevw9j+V2SZmOi/3P22X2HaJbfc/RVWKh9ir9z8dEzyYJ+r3P/XQ7ah2KPg/zY6fucVm+D+kTFHKFKX4P3wKA9tj4/g/VMi067Ih+T8shmb8AWD5PwREGA1Rnvk/3AHKHaDc+T+0v3su7xr6P4x9LT8+Wfo/ZDvfT42X+j8=",
          "dtype": "f8"
         },
         "xaxis": "x9",
         "y": {
          "bdata": "W1aoAtbIM0AhcyDBK70zQOiPmH+BsTNArqwQPtelM0B0yYj8LJozQDrmALuCjjNAAAN5ediCM0DGH/E3LnczQIw8afaDazNAUlnhtNlfM0AZdllzL1QzQN+S0TGFSDNApa9J8No8M0BrzMGuMDEzQDHpOW2GJTNA9wWyK9wZM0C9IirqMQ4zQIM/oqiHAjNASlwaZ932MkAQeZIlM+syQNaVCuSI3zJAnLKCot7TMkBiz/pgNMgyQCjsch+KvDJA7gjr3d+wMkC0JWOcNaUyQHtC21qLmTJAQV9TGeGNMkAHfMvXNoIyQM2YQ5aMdjJAk7W7VOJqMkBZ0jMTOF8yQB/vq9GNUzJA5QskkONHMkCsKJxOOTwyQHJFFA2PMDJAOGKMy+QkMkD+fgSKOhkyQMSbfEiQDTJAirj0BuYBMkBQ1WzFO/YxQBby5IOR6jFA3Q5dQufeMUCjK9UAPdMxQGlITb+SxzFAL2XFfei7MUD1gT08PrAxQLuetfqTpDFAgbstuemYMUBH2KV3P40xQA71HTaVgTFA1BGW9Op1MUCaLg6zQGoxQGBLhnGWXjFAJmj+L+xSMUDshHbuQUcxQLKh7qyXOzFAeL5ma+0vMUA/294pQyQxQAX4VuiYGDFAyxTPpu4MMUCRMUdlRAExQFdOvyOa9TBAHWs34u/pMEDkh6+gRd4wQKqkJ1+b0jBAcMGfHfHGMEA23hfcRrswQPz6j5qcrzBAwhcIWfKjMECINIAXSJgwQE5R+NWdjDBAFG5wlPOAMEDbiuhSSXUwQKGnYBGfaTBAZ8TYz/RdMEAt4VCOSlIwQPP9yEygRjBAuRpBC/Y6MEB/N7nJSy8wQEZUMYihIzBADHGpRvcXMEDSjSEFTQwwQJiqmcOiADBAvI4jBPHpL0BIyBOBnNIvQNQBBP5Huy9AYDv0evOjL0DtdOT3nowvQHmu1HRKdS9ABujE8fVdL0CSIbVuoUYvQB5bpetMLy9AqpSVaPgXL0A2zoXlowAvQMMHdmJP6S5AT0Fm3/rRLkDbelZcprouQGi0RtlRoy5A9O02Vv2LLkA=",
          "dtype": "f8"
         },
         "yaxis": "y9"
        },
        {
         "customdata": [
          "2025-03-10T10:16:41.000000000",
          "2025-03-10T12:36:03.000000000",
          "2025-03-10T15:32:56.000000000",
          "2025-03-10T19:32:40.000000000",
          "2025-03-11T11:11:19.000000000",
          "2025-03-11T12:46:55.000000000",
          "2025-03-11T21:06:16.000000000",
          "2025-03-12T13:15:24.000000000",
          "2025-03-12T16:04:02.000000000",
          "2025-03-12T20:30:44.000000000",
          "2025-03-13T10:07:57.000000000",
          "2025-03-13T21:45:02.000000000",
          "2025-03-14T12:11:07.000000000",
          "2025-03-14T14:12:15.000000000",
          "2025-03-15T16:05:01.000000000"
         ],
         "hovertemplate": "ID: respondent_2<br>DateTime: %{customdata}<br>response_time_min: %{x:.2f}<br>Score: %{y:.2f}<br>Pearson r: 0.205<br>Spearman r: 0.500<br>Kendall τ: 0.324<br>DCOR: 0.505",
         "legendgroup": "respondent_2",
         "marker": {
          "color": "#00FF00",
          "opacity": 0.8,
          "size": 8
         },
         "mode": "markers",
         "name": "ID: respondent_2",
         "showlegend": false,
         "type": "scatter",
         "x": {
          "bdata": "TDeJQWDlAED6fmq8dJP4P2ZmZmZmZvo/kxgEVg4t/j8EVg4tsp33P7pJDAIrh/Y/jZduEoPA+D8X2c73U+PVP2iR7Xw/Nfo/6SYxCKwc/D+4HoXrUbj0P166SQwCK/0/JQaBlUOL+j8EVg4tsp39P39qvHSTGPo/",
          "dtype": "f8"
         },
         "xaxis": "x9",
         "y": {
          "bdata": "DwsQFA8MFhMUFQwZFhcW",
          "dtype": "i1"
         },
         "yaxis": "y9"
        },
        {
         "hovertemplate": "ID: respondent_2<br>Pearson r: 0.205<br>Spearman r: 0.500<br>Kendall τ: 0.324<br>DCOR: 0.505",
         "legendgroup": "respondent_2",
         "line": {
          "color": "#00FF00",
          "dash": "dash",
          "width": 2
         },
         "mode": "lines",
         "name": "Trend respondent_2",
         "showlegend": false,
         "type": "scatter",
         "x": {
          "bdata": "F9nO91Pj1T88qh0KQQjXP2F7bBwuLdg/hky7LhtS2T+rHQpBCHfaP9DuWFP1m9s/9L+nZeLA3D8akfZ3z+XdPz5iRYq8Ct8/shlKztQX4D9EgnFXS6rgP9fqmODBPOE/aVPAaTjP4T/8u+fyrmHiP44kD3wl9OI/II02BZyG4z+z9V2OEhnkP0ZehReJq+Q/2MasoP895T9qL9QpdtDlP/2X+7LsYuY/kAAjPGP15j8iaUrF2YfnP7TRcU5QGug/RjqZ18as6D/ZosBgPT/pP2wL6Omz0ek//nMPcypk6j+Q3Db8oPbqPyRFXoUXies/tq2FDo4b7D9IFq2XBK7sP9p+1CB7QO0/bOf7qfHS7T8AUCMzaGXuP5K4Srze9+4/JCFyRVWK7z/bxEznZQ7wPyV54CuhV/A/bi10cNyg8D+34Qe1F+rwPwCWm/lSM/E/SkovPo588T+T/sKCycXxP9yyVscED/I/JWfqC0BY8j9vG35Qe6HyP7jPEZW26vI/AYSl2fEz8z9KODkeLX3zP5PszGJoxvM/3aBgp6MP9D8mVfTr3lj0P28JiDAaovQ/uL0bdVXr9D8Ccq+5kDT1P0smQ/7LffU/lNrWQgfH9T/ejmqHQhD2PydD/st9WfY/cPeRELmi9j+5qyVV9Ov2PwNguZkvNfc/TBRN3mp+9z+VyOAipsf3P958dGfhEPg/JzEIrBxa+D9x5ZvwV6P4P7qZLzWT7Pg/A07Dec41+T9MAle+CX/5P5a26gJFyPk/32p+R4AR+j8oHxKMu1r6P3HTpdD2o/o/u4c5FTLt+j8EPM1ZbTb7P03wYJ6of/s/lqT04uPI+z/gWIgnHxL8PykNHGxaW/w/csGvsJWk/D+7dUP10O38PwQq1zkMN/0/Tt5qfkeA/T+Xkv7Cgsn9P+BGkge+Ev4/KfslTPlb/j9zr7mQNKX+P7xjTdVv7v4/BRjhGas3/z9OzHRe5oD/P5iACKMhyv8/cBrOc64JAECV9BcWTC4AQLnOYbjpUgBA3qirWod3AEADg/X8JJwAQCddP5/CwABATDeJQWDlAEA=",
          "dtype": "f8"
         },
         "xaxis": "x9",
         "y": {
          "bdata": "BybUx+f3LkDa+kTkEg0vQK3PtQA+Ii9Af6QmHWk3L0BSeZc5lEwvQCVOCFa/YS9A+CJ5cup2L0DL9+mOFYwvQJ7MWqtAoS9AcaHLx2u2L0BEdjzklssvQBZLrQDC4C9A6R8eHe31L0BeesccjAUwQMjk/6ohEDBAMU84ObcaMECauXDHTCUwQAQkqVXiLzBAbY7h43c6MEDX+BlyDUUwQEBjUgCjTzBAqs2KjjhaMEATOMMczmQwQHyi+6pjbzBA5gw0Ofl5MEBPd2zHjoQwQLnhpFUkjzBAIkzd47mZMECMthVyT6QwQPUgTgDlrjBAXouGjnq5MEDI9b4cEMQwQDFg96qlzjBAm8ovOTvZMEAENWjH0OMwQG6foFVm7jBA1wnZ4/v4MEBAdBFykQMxQKreSQAnDjFAE0mCjrwYMUB9s7ocUiMxQOYd86rnLTFAUIgrOX04MUC58mPHEkMxQCJdnFWoTTFAjMfU4z1YMUD2MQ1y02IxQF+cRQBpbTFAyAZ+jv53MUAycbYclIIxQJvb7qopjTFABUYnOb+XMUBusF/HVKIxQNcamFXqrDFAQYXQ43+3MUCq7whyFcIxQBRaQQCrzDFAfcR5jkDXMUDnLrIc1uExQFCZ6qpr7DFAugMjOQH3MUAjblvHlgEyQIzYk1UsDDJA9kLM48EWMkBfrQRyVyEyQMkXPQDtKzJAMoJ1joI2MkCc7K0cGEEyQAVX5qqtSzJAbsEeOUNWMkDYK1fH2GAyQEGWj1VuazJAqwDI4wN2MkAUawBymYAyQH7VOAAvizJA5z9xjsSVMkBQqqkcWqAyQLoU4qrvqjJAI38aOYW1MkCN6VLHGsAyQPZTi1WwyjJAYL7D40XVMkDJKPxx298yQDKTNABx6jJAnP1sjgb1MkAGaKUcnP8yQG/S3aoxCjNA2DwWOccUM0BCp07HXB8zQKsRh1XyKTNAFHy/44c0M0B+5vdxHT8zQOhQMACzSTNAUbtojkhUM0C6JaEc3l4zQCSQ2apzaTNAjfoROQl0M0D3ZErHnn4zQGDPglU0iTNAyjm748mTM0A=",
          "dtype": "f8"
         },
         "yaxis": "y9"
        },
        {
         "customdata": [
          "2025-03-11T07:27:25.000000000",
          "2025-03-12T15:46:20.000000000",
          "2025-03-13T09:44:33.000000000",
          "2025-03-17T13:17:20.000000000",
          "2025-03-17T13:23:49.000000000",
          "2025-03-17T21:08:52.000000000",
          "2025-03-19T07:48:21.000000000",
          "2025-03-24T20:28:12.000000000"
         ],
         "hovertemplate": "ID: respondent_3<br>DateTime: %{customdata}<br>response_time_min: %{x:.2f}<br>Score: %{y:.2f}<br>Pearson r: 0.806<br>Spearman r: 0.857<br>Kendall τ: 0.786<br>DCOR: 0.822",
         "legendgroup": "respondent_3",
         "marker": {
          "color": "#0000FF",
          "opacity": 0.8,
          "size": 8
         },
         "mode": "markers",
         "name": "ID: respondent_3",
         "showlegend": false,
         "type": "scatter",
         "x": {
          "bdata": "2/l+arx0BkCyne+nxkv3PwwCK4cW2QBAPzVeukkM6j/pJjEIrBz4Pylcj8L1KPo/d76fGi/d+j8OLbKd76f+Pw==",
          "dtype": "f8"
         },
         "xaxis": "x9",
         "y": {
          "bdata": "HQkZAwsUHhU=",
          "dtype": "i1"
         },
         "yaxis": "y9"
        },
        {
         "hovertemplate": "ID: respondent_3<br>Pearson r: 0.806<br>Spearman r: 0.857<br>Kendall τ: 0.786<br>DCOR: 0.822",
         "legendgroup": "respondent_3",
         "line": {
          "color": "#0000FF",
          "dash": "dash",
          "width": 2
         },
         "mode": "lines",
         "name": "Trend respondent_3",
         "showlegend": false,
         "type": "scatter",
         "x": {
          "bdata": "PzVeukkM6j8o/s4mNLHqPxHHP5MeVus/+o+w/wj76z/kWCFs85/sP80hktjdRO0/tuoCRcjp7T+fs3Oxso7uP4h85B2dM+8/ckVViofY7z8tB2P7uD7wP6JrmzEukfA/FtDTZ6Pj8D+LNAyeGDbxPwCZRNSNiPE/dP18CgPb8T/pYbVAeC3yP13G7Xbtf/I/0iomrWLS8j9Gj17j1yTzP7vzlhlNd/M/MFjPT8LJ8z+kvAeGNxz0PxkhQLysbvQ/joV48iHB9D8C6rAolxP1P3ZO6V4MZvU/67IhlYG49T9gF1rL9gr2P9R7kgFsXfY/SeDKN+Gv9j++RANuVgL3PzKpO6TLVPc/pg102kCn9z8bcqwQtvn3P5DW5EYrTPg/BDsdfaCe+D95n1WzFfH4P+4DjumKQ/k/YmjGHwCW+T/WzP5Vdej5P0sxN4zqOvo/wJVvwl+N+j80+qf41N/6P6le4C5KMvs/HsMYZb+E+z+SJ1GbNNf7PwaMidGpKfw/fPDBBx98/D/wVPo9lM78P2S5MnQJIf0/2B1rqn5z/T9OgqPg88X9P8Lm2xZpGP4/NksUTd5q/j+sr0yDU73+PyAUhbnID/8/lHi97z1i/z8K3fUls7T/P78gFy6UAwBA+VIzyc4sAEAzhU9kCVYAQG63a/9DfwBAqOmHmn6oAEDiG6Q1udEAQB1OwNDz+gBAV4Dcay4kAUCRsvgGaU0BQMvkFKKjdgFABhcxPd6fAUBASU3YGMkBQHp7aXNT8gFAta2FDo4bAkDv36GpyEQCQCkSvkQDbgJAY0Ta3z2XAkCedvZ6eMACQNioEhaz6QJAEtsuse0SA0BNDUtMKDwDQIc/Z+diZQNAwXGDgp2OA0D7o58d2LcDQDbWu7gS4QNAcAjYU00KBECqOvTuhzMEQOVsEIrCXARAH58sJf2FBEBZ0UjAN68EQJMDZVty2ARAzjWB9qwBBUAIaJ2R5yoFQEKauSwiVAVAfczVx1x9BUC3/vFil6YFQPEwDv7RzwVALGMqmQz5BUBmlUY0RyIGQKDHYs+BSwZA2/l+arx0BkA=",
          "dtype": "f8"
         },
         "xaxis": "x9",
         "y": {
          "bdata": "0sh84F3DFkBUzkn6heAXQNjTFhSu/RhAXNnjLdYaGkDg3rBH/jcbQGTkfWEmVRxA5ulKe05yHUBq7xeVdo8eQO705K6erB9AOf1YZONkIED6fz9xd/MgQLwCJn4LgiFAfYUMi58QIkBACPOXM58iQAKL2aTHLSNAww3AsVu8I0CFkKa+70okQEYTjcuD2SRACJZz2BdoJUDKGFrlq/YlQIybQPI/hSZATh4n/9MTJ0AOoQ0MaKInQNIj9Bj8MChAlKbaJZC/KEBUKcEyJE4pQBaspz+43ClA2C6OTExrKkCasXRZ4PkqQFw0W2Z0iCtAHrdBcwgXLEDgOSiAnKUsQKC8Do0wNC1AYj/1mcTCLUAkwtumWFEuQOZEwrPs3y5AqMeowIBuL0BqSo/NFP0vQJbmOm3URTBA9yeucx6NMEBXaSF6aNQwQLiqlICyGzFAGewHh/xiMUB6LXuNRqoxQNtu7pOQ8TFAPLBhmto4MkCd8dSgJIAyQP0ySKduxzJAX3S7rbgOM0C/tS60AlYzQCD3obpMnTNAgDgVwZbkM0DieYjH4Cs0QEO7+80qczRAo/xu1HS6NEAFPuLavgE1QGZ/VeEISTVAxsDI51KQNUAoAjzunNc1QIhDr/TmHjZA6YQi+zBmNkBJxpUBe602QKsHCQjF9DZADEl8Dg88N0Bsiu8UWYM3QM7LYhujyjdALg3WIe0ROECPTkkoN1k4QO+PvC6BoDhAUdEvNcvnOECyEqM7FS85QBJUFkJfdjlAdJWJSKm9OUDV1vxO8wQ6QDUYcFU9TDpAlVnjW4eTOkD3mlZi0do6QFfcyWgbIjtAuR09b2VpO0AbX7B1r7A7QHugI3z59ztA2+GWgkM/PEA7IwqJjYY8QJ1kfY/XzTxA/aXwlSEVPUBf52Oca1w9QMEo16K1oz1AIWpKqf/qPUCBq72vSTI+QOHsMLaTeT5AQy6kvN3APkCjbxfDJwg/QAWxislxTz9AZ/L9z7uWP0DHM3HWBd4/QJQ6cu6nEkBARNur8Uw2QED0e+X08VlAQKYcH/iWfUBAVr1Y+zuhQEA=",
          "dtype": "f8"
         },
         "yaxis": "y9"
        },
        {
         "customdata": [
          "2025-02-21T00:01:35.000000000",
          "2025-02-22T09:32:19.000000000",
          "2025-02-23T01:11:41.000000000",
          "2025-02-23T10:27:07.000000000",
          "2025-02-23T23:00:47.000000000",
          "2025-02-24T10:30:34.000000000",
          "2025-02-25T00:41:09.000000000",
          "2025-02-25T10:30:51.000000000",
          "2025-02-25T22:18:41.000000000",
          "2025-02-26T12:05:35.000000000",
          "2025-02-26T22:16:33.000000000",
          "2025-02-27T08:25:25.000000000",
          "2025-03-03T10:20:24.000000000",
          "2025-03-08T09:46:41.000000000",
          "2025-03-08T22:45:03.000000000",
          "2025-03-09T13:15:30.000000000",
          "2025-03-09T23:02:26.000000000",
          "2025-03-10T10:10:48.000000000",
          "2025-03-10T12:22:53.000000000",
          "2025-03-10T15:47:07.000000000",
          "2025-03-10T22:37:35.000000000",
          "2025-03-11T10:14:17.000000000",
          "2025-03-11T12:17:35.000000000",
          "2025-03-11T14:18:40.000000000",
          "2025-03-11T23:49:20.000000000",
          "2025-03-12T10:12:40.000000000",
          "2025-03-12T23:28:22.000000000",
          "2025-03-13T09:59:37.000000000",
          "2025-03-13T15:01:10.000000000",
          "2025-03-13T18:34:42.000000000",
          "2025-03-14T00:10:40.000000000",
          "2025-03-14T10:12:54.000000000",
          "2025-03-14T13:30:29.000000000",
          "2025-03-14T22:27:42.000000000",
          "2025-03-15T16:05:27.000000000",
          "2025-03-16T00:58:47.000000000"
         ],
         "hovertemplate": "ID: respondent_4<br>DateTime: %{customdata}<br>response_time_min: %{x:.2f}<br>Score: %{y:.2f}<br>Pearson r: 0.047<br>Spearman r: -0.075<br>Kendall τ: -0.075<br>DCOR: 0.227",
         "legendgroup": "respondent_4",
         "marker": {
          "color": "#FF00FF",
          "opacity": 0.8,
          "size": 8
         },
         "mode": "markers",
         "name": "ID: respondent_4",
         "showlegend": false,
         "type": "scatter",
         "x": {
          "bdata": "0SLb+X5q+D/P91PjpZv8P+xRuB6F6/s/arx0kxgE+j91kxgEVg75P9nO91PjpfU/MzMzMzMz/z++nxov3ST4Pz0K16NwPfY/IbByaJHt+D/+1HjpJjH4P2IQWDm0yPY/WmQ730+N+T+YbhKDwMr1P23n+6nx0vk/UI2XbhKD9j+WQ4ts5/v3P9nO91Pjpfc/Rrbz/dR49z9qvHSTGAT4P9v5fmq8dPU/uB6F61G49j8GgZVDi2z3P9v5fmq8dPc/+n5qvHST9D/8qfHSTWL2P5ZDi2zn++U/MzMzMzMz9z8AAAAAAAD2P4XrUbgehfc/jZduEoPA9D8tsp3vp8bLPyUGgZVDi/Y/x0s3iUFg9z8v3SQGgZX1P1K4HoXrUfY/",
          "dtype": "f8"
         },
         "xaxis": "x9",
         "y": {
          "bdata": "FQITAhUNHgohAxgDAwMeDRwBAQIYAgEHGQQcAQMFEwMEHwQM",
          "dtype": "i1"
         },
         "yaxis": "y9"
        },
        {
         "hovertemplate": "ID: respondent_4<br>Pearson r: 0.047<br>Spearman r: -0.075<br>Kendall τ: -0.075<br>DCOR: 0.227",
         "legendgroup": "respondent_4",
         "line": {
          "color": "#FF00FF",
          "dash": "dash",
          "width": 2
         },
         "mode": "lines",
         "name": "Trend respondent_4",
         "showlegend": false,
         "type": "scatter",
         "x": {
          "bdata": "LbKd76fGyz8mQFXxQgTOPxBnhvnuINA/DC5ierw/0T8J9T37iV7SPwa8GXxXfdM/AoP1/CSc1D//SdF98rrVP/wQrf6/2dY/+NeIf4341z/0nmQAWxfZP/JlQIEoNto/7iwcAvZU2z/q8/eCw3PcP+i60wORkt0/5IGvhF6x3j/gSIsFLNDfP++HM8N8d+A/bWuhg+MG4T/rTg9ESpbhP2kyfQSxJeI/6BXrxBe14j9m+ViFfkTjP+TcxkXl0+M/Y8A0Bkxj5D/ho6LGsvLkP1+HEIcZguU/3mp+R4AR5j9cTuwH56DmP9oxWshNMOc/WBXIiLS/5z/X+DVJG0/oP1XcowmC3ug/078Ryuht6T9So3+KT/3pP9CG7Uq2jOo/TmpbCx0c6z/NTcnLg6vrP0sxN4zqOuw/yRSlTFHK7D9H+BINuFntP8bbgM0e6e0/RL/ujYV47j/ColxO7AfvP0GGyg5Tl+8/4DSc51wT8D+fJtNHEFvwP14YCqjDovA/HQpBCHfq8D/c+3doKjLxP5ztrsjdefE/W9/lKJHB8T8a0RyJRAnyP9nCU+n3UPI/mLSKSauY8j9XpsGpXuDyPxeY+AkSKPM/1okvasVv8z+Ve2bKeLfzP1RtnSos//M/E1/Uit9G9D/TUAvrko70P5JCQktG1vQ/UTR5q/kd9T8QJrALrWX1P88X52tgrfU/jgkezBP19T9N+1Qsxzz2Pw3ti4x6hPY/zN7C7C3M9j+L0PlM4RP3P0rCMK2UW/c/CbRnDUij9z/IpZ5t++r3P4iX1c2uMvg/R4kMLmJ6+D8Ge0OOFcL4P8Vseu7ICfk/hF6xTnxR+T9DUOiuL5n5PwJCHw/j4Pk/wjNWb5Yo+j+BJY3PSXD6P0AXxC/9t/o//wj7j7D/+j+++jHwY0f7P33saFAXj/s/Pd6fsMrW+z/8z9YQfh78P7vBDXExZvw/erNE0eSt/D85pXsxmPX8P/iWspFLPf0/uIjp8f6E/T93eiBSssz9PzZsV7JlFP4/9V2OEhlc/j+0T8VyzKP+P3NB/NJ/6/4/MzMzMzMz/z8=",
          "dtype": "f8"
         },
         "xaxis": "x9",
         "y": {
          "bdata": "wGnABgmsI0D4mJ7Qr7wjQDDIfJpWzSNAaPdaZP3dI0ChJjkupO4jQNlVF/hK/yNAEYX1wfEPJEBKtNOLmCAkQILjsVU/MSRAuhKQH+ZBJEDyQW7pjFIkQCtxTLMzYyRAY6AqfdpzJECbzwhHgYQkQNT+5hAolSRADC7F2s6lJEBEXaOkdbYkQHyMgW4cxyRAtbtfOMPXJEDt6j0CaugkQCUaHMwQ+SRAXkn6lbcJJUCWeNhfXholQM6ntikFKyVABteU86s7JUA+BnO9UkwlQHc1UYf5XCVAr2QvUaBtJUDnkw0bR34lQCDD6+TtjiVAWPLJrpSfJUCQIah4O7AlQMhQhkLiwCVAAYBkDInRJUA5r0LWL+IlQHHeIKDW8iVAqg3/aX0DJkDiPN0zJBQmQBpsu/3KJCZAUpuZx3E1JkCKyneRGEYmQMP5VVu/ViZA+yg0JWZnJkAzWBLvDHgmQGyH8LiziCZApLbOglqZJkDc5axMAaomQBQVixaouiZATURp4E7LJkCFc0eq9dsmQL6iJXSc7CZA9tEDPkP9JkAuAeIH6g0nQGYwwNGQHidAnl+emzcvJ0DXjnxl3j8nQA++Wi+FUCdASO04+SthJ0CAHBfD0nEnQLhL9Yx5gidA8HrTViCTJ0AoqrEgx6MnQGHZj+pttCdAmQhutBTFJ0DRN0x+u9UnQApnKkhi5idAQpYIEgn3J0B6xebbrwcoQLL0xKVWGChA6yOjb/0oKEAjU4E5pDkoQFuCXwNLSihAlLE9zfFaKEDM4BuXmGsoQAQQ+mA/fChAPD/YKuaMKEB0brb0jJ0oQK2dlL4zrihA5cxyiNq+KEAd/FBSgc8oQFYrLxwo4ChAjloN5s7wKEDGieuvdQEpQP64yXkcEilAN+inQ8MiKUBvF4YNajMpQKdGZNcQRClA4HVCobdUKUAYpSBrXmUpQFDU/jQFdilAiAPd/quGKUDAMrvIUpcpQPlhmZL5pylAMZF3XKC4KUBqwFUmR8kpQKLvM/Dt2SlA2h4SupTqKUASTvCDO/spQEp9zk3iCypAg6ysF4kcKkA=",
          "dtype": "f8"
         },
         "yaxis": "y9"
        },
        {
         "customdata": [
          "2025-03-10T10:09:26.000000000",
          "2025-03-10T15:39:44.000000000",
          "2025-03-10T19:27:25.000000000",
          "2025-03-10T20:39:20.000000000",
          "2025-03-11T08:55:58.000000000",
          "2025-03-11T17:38:58.000000000",
          "2025-03-12T08:48:30.000000000",
          "2025-03-12T16:04:18.000000000",
          "2025-03-12T20:38:30.000000000",
          "2025-03-13T09:20:31.000000000",
          "2025-03-13T12:26:28.000000000",
          "2025-03-13T14:17:22.000000000",
          "2025-03-13T22:48:59.000000000",
          "2025-03-14T13:41:47.000000000",
          "2025-03-14T15:19:17.000000000",
          "2025-03-15T17:17:19.000000000"
         ],
         "hovertemplate": "ID: respondent_1<br>DateTime: %{customdata}<br>correctFlg_mean: %{x:.2f}<br>Score: %{y:.2f}<br>Pearson r: -0.336<br>Spearman r: -0.373<br>Kendall τ: -0.292<br>DCOR: 0.355",
         "legendgroup": "respondent_1",
         "marker": {
          "color": "#FF0000",
          "opacity": 0.8,
          "size": 8
         },
         "mode": "markers",
         "name": "ID: respondent_1",
         "showlegend": false,
         "type": "scatter",
         "x": {
          "bdata": "FK5H4XoU7j+4HoXrUbjuP3E9CtejcO0/FK5H4XoU7j8AAAAAAADwP7gehetRuO4/uB6F61G47j9cj8L1KFzvPwAAAAAAAPA/AAAAAAAA8D9cj8L1KFzvPwAAAAAAAPA/XI/C9Shc7z8AAAAAAADwPwAAAAAAAPA/AAAAAAAA8D8=",
          "dtype": "f8"
         },
         "xaxis": "x10",
         "y": {
          "bdata": "DwkZHgYZBhMPDhwXEwMEHA==",
          "dtype": "i1"
         },
         "yaxis": "y10"
        },
        {
         "hovertemplate": "ID: respondent_1<br>Pearson r: -0.336<br>Spearman r: -0.373<br>Kendall τ: -0.292<br>DCOR: 0.355",
         "legendgroup": "respondent_1",
         "line": {
          "color": "#FF0000",
          "dash": "dash",
          "width": 2
         },
         "mode": "lines",
         "name": "Trend respondent_1",
         "showlegend": false,
         "type": "scatter",
         "x": {
          "bdata": "cT0K16Nw7T/N0h6CQnftPyloMy3hfe0/hf1H2H+E7T/hklyDHovtPz0ocS69ke0/mb2F2VuY7T/1UpqE+p7tP1Hori+Zpe0/rX3D2jes7T8IE9iF1rLtP2So7DB1ue0/wD0B3BPA7T8c0xWHssbtP3hoKjJRze0/1P0+3e/T7T8wk1OIjtrtP4woaDMt4e0/6L183svn7T9EU5GJau7tP6DopTQJ9e0//H2636f77T9YE8+KRgLuP7So4zXlCO4/ED744IMP7j9s0wyMIhbuP8hoITfBHO4/JP414l8j7j+Ak0qN/inuP9woXzidMO4/N75z4zs37j+TU4iO2j3uP+/onDl5RO4/S36x5BdL7j+nE8aPtlHuPwOp2jpVWO4/Xz7v5fNe7j+70wORkmXuPxdpGDwxbO4/c/4s589y7j/Pk0GSbnnuPyspVj0NgO4/h75q6KuG7j/jU3+TSo3uPz/pkz7pk+4/m36o6Yea7j/3E72UJqHuP1Op0T/Fp+4/rz7m6mOu7j8K1PqVArXuP2ZpD0Ghu+4/wv4j7D/C7j8elDiX3sjuP3opTUJ9z+4/1r5h7RvW7j8yVHaYutzuP47pikNZ4+4/6n6f7vfp7j9GFLSZlvDuP6KpyEQ19+4//j7d79P97j9a1PGacgTvP7ZpBkYRC+8/Ev8a8a8R7z9ulC+cThjvP8opREftHu8/Jr9Y8osl7z+CVG2dKizvP97pgUjJMu8/On+W82c57z+VFKueBkDvP/Gpv0mlRu8/TT/U9ENN7z+p1Oif4lPvPwVq/UqBWu8/Yf8R9h9h7z+9lCahvmfvPxkqO0xdbu8/db9P9/t07z/RVGSimnvvPy3qeE05gu8/iX+N+NeI7z/lFKKjdo/vP0Gqtk4Vlu8/nT/L+bOc7z/51N+kUqPvP1Vq9E/xqe8/sf8I+4+w7z8MlR2mLrfvP2gqMlHNve8/xL9G/GvE7z8gVVunCsvvP3zqb1Kp0e8/2H+E/UfY7z80FZmo5t7vP5CqrVOF5e8/7D/C/iPs7z9I1dapwvLvP6Rq61Rh+e8/AAAAAAAA8D8=",
          "dtype": "f8"
         },
         "xaxis": "x10",
         "y": {
          "bdata": "CDG5gphcN0DkW1+NgkQ3QLyGBZhsLDdAmLGrolYUN0Bw3FGtQPw2QEwH+Lcq5DZAKDKewhTMNkAAXUTN/rM2QNyH6tfomzZAtLKQ4tKDNkCU3TbtvGs2QGwI3femUzZASDODApE7NkAgXikNeyM2QPyIzxdlCzZA2LN1Ik/zNUCw3hstOds1QIwJwjcjwzVAZDRoQg2rNUBAXw5N95I1QBiKtFfhejVA9LRaYstiNUDM3wBttUo1QKgKp3efMjVAhDVNgokaNUBcYPOMcwI1QDiLmZdd6jRAELY/okfSNEDs4OWsMbo0QMQLjLcbojRApDYywgWKNEB8YdjM73E0QFiMftfZWTRAMLck4sNBNEAM4srsrSk0QOgMcfeXETRAwDcXAoL5M0CcYr0MbOEzQHSNYxdWyTNAULgJIkCxM0Ao468sKpkzQAQOVjcUgTNA3Dj8Qf5oM0C4Y6JM6FAzQJSOSFfSODNAbLnuYbwgM0BI5JRspggzQCAPO3eQ8DJA/DnhgXrYMkDYZIeMZMAyQLSPLZdOqDJAjLrToTiQMkBo5XmsIngyQEQQILcMYDJAHDvGwfZHMkD4ZWzM4C8yQNCQEtfKFzJArLu44bT/MUCE5l7snucxQGARBfeIzzFAODyrAXO3MUAUZ1EMXZ8xQPCR9xZHhzFAyLydITFvMUCk50MsG1cxQHwS6jYFPzFAWD2QQe8mMUAwaDZM2Q4xQAyT3FbD9jBA5L2CYa3eMEDE6Chsl8YwQJwTz3aBrjBAeD51gWuWMEBUaRuMVX4wQCyUwZY/ZjBACL9noSlOMEDg6Q2sEzYwQLwUtLb9HTBAlD9awecFMEDg1ACYo9svQJAqTa13qy9ASICZwkt7L0AA1uXXH0svQLArMu3zGi9AaIF+AsjqLkAY18oXnLouQNAsFy1wii5AgIJjQkRaLkBA2K9XGCouQPAt/Gzs+S1AqINIgsDJLUBg2ZSXlJktQBAv4axoaS1AyIQtwjw5LUB42nnXEAktQDAwxuzk2CxA4IUSArmoLECY214XjXgsQEgxqyxhSCxAAIf3QTUYLEA=",
          "dtype": "f8"
         },
         "yaxis": "y10"
        },
        {
         "customdata": [
          "2025-03-10T10:16:41.000000000",
          "2025-03-10T12:36:03.000000000",
          "2025-03-10T15:32:56.000000000",
          "2025-03-10T19:32:40.000000000",
          "2025-03-11T11:11:19.000000000",
          "2025-03-11T12:46:55.000000000",
          "2025-03-11T21:06:16.000000000",
          "2025-03-12T13:15:24.000000000",
          "2025-03-12T16:04:02.000000000",
          "2025-03-12T20:30:44.000000000",
          "2025-03-13T10:07:57.000000000",
          "2025-03-13T21:45:02.000000000",
          "2025-03-14T12:11:07.000000000",
          "2025-03-14T14:12:15.000000000",
          "2025-03-15T16:05:01.000000000"
         ],
         "hovertemplate": "ID: respondent_2<br>DateTime: %{customdata}<br>correctFlg_mean: %{x:.2f}<br>Score: %{y:.2f}<br>Pearson r: -0.147<br>Spearman r: -0.141<br>Kendall τ: -0.109<br>DCOR: 0.327",
         "legendgroup": "respondent_2",
         "marker": {
          "color": "#00FF00",
          "opacity": 0.8,
          "size": 8
         },
         "mode": "markers",
         "name": "ID: respondent_2",
         "showlegend": false,
         "type": "scatter",
         "x": {
          "bdata": "AAAAAAAA8D9cj8L1KFzvPwAAAAAAAPA/XI/C9Shc7z8AAAAAAADwP1yPwvUoXO8/XI/C9Shc7z9xPQrXo3DtPwAAAAAAAPA/XI/C9Shc7z8AAAAAAADwPwAAAAAAAPA/AAAAAAAA8D+4HoXrUbjuP1yPwvUoXO8/",
          "dtype": "f8"
         },
         "xaxis": "x10",
         "y": {
          "bdata": "DwsQFA8MFhMUFQwZFhcW",
          "dtype": "i1"
         },
         "yaxis": "y10"
        },
        {
         "hovertemplate": "ID: respondent_2<br>Pearson r: -0.147<br>Spearman r: -0.141<br>Kendall τ: -0.109<br>DCOR: 0.327",
         "legendgroup": "respondent_2",
         "line": {
          "color": "#00FF00",
          "dash": "dash",
          "width": 2
         },
         "mode": "lines",
         "name": "Trend respondent_2",
         "showlegend": false,
         "type": "scatter",
         "x": {
          "bdata": "cT0K16Nw7T/N0h6CQnftPyloMy3hfe0/hf1H2H+E7T/hklyDHovtPz0ocS69ke0/mb2F2VuY7T/1UpqE+p7tP1Hori+Zpe0/rX3D2jes7T8IE9iF1rLtP2So7DB1ue0/wD0B3BPA7T8c0xWHssbtP3hoKjJRze0/1P0+3e/T7T8wk1OIjtrtP4woaDMt4e0/6L183svn7T9EU5GJau7tP6DopTQJ9e0//H2636f77T9YE8+KRgLuP7So4zXlCO4/ED744IMP7j9s0wyMIhbuP8hoITfBHO4/JP414l8j7j+Ak0qN/inuP9woXzidMO4/N75z4zs37j+TU4iO2j3uP+/onDl5RO4/S36x5BdL7j+nE8aPtlHuPwOp2jpVWO4/Xz7v5fNe7j+70wORkmXuPxdpGDwxbO4/c/4s589y7j/Pk0GSbnnuPyspVj0NgO4/h75q6KuG7j/jU3+TSo3uPz/pkz7pk+4/m36o6Yea7j/3E72UJqHuP1Op0T/Fp+4/rz7m6mOu7j8K1PqVArXuP2ZpD0Ghu+4/wv4j7D/C7j8elDiX3sjuP3opTUJ9z+4/1r5h7RvW7j8yVHaYutzuP47pikNZ4+4/6n6f7vfp7j9GFLSZlvDuP6KpyEQ19+4//j7d79P97j9a1PGacgTvP7ZpBkYRC+8/Ev8a8a8R7z9ulC+cThjvP8opREftHu8/Jr9Y8osl7z+CVG2dKizvP97pgUjJMu8/On+W82c57z+VFKueBkDvP/Gpv0mlRu8/TT/U9ENN7z+p1Oif4lPvPwVq/UqBWu8/Yf8R9h9h7z+9lCahvmfvPxkqO0xdbu8/db9P9/t07z/RVGSimnvvPy3qeE05gu8/iX+N+NeI7z/lFKKjdo/vP0Gqtk4Vlu8/nT/L+bOc7z/51N+kUqPvP1Vq9E/xqe8/sf8I+4+w7z8MlR2mLrfvP2gqMlHNve8/xL9G/GvE7z8gVVunCsvvP3zqb1Kp0e8/2H+E/UfY7z80FZmo5t7vP5CqrVOF5e8/7D/C/iPs7z9I1dapwvLvP6Rq61Rh+e8/AAAAAAAA8D8=",
          "dtype": "f8"
         },
         "xaxis": "x10",
         "y": {
          "bdata": "SoeNdNhINECZSNPeiUI0QOgJGUk7PDRAN8tes+w1NECGjKQdni80QNVN6odPKTRAJA8w8gAjNEBz0HVcshw0QMGRu8ZjFjRAEFMBMRUQNEBgFEebxgk0QK/VjAV4AzRA/pbSbyn9M0BNWBja2vYzQJwZXkSM8DNA69qjrj3qM0A6nOkY7+MzQIldL4Og3TNA2B517VHXM0An4LpXA9EzQHahAMK0yjNAxWJGLGbEM0AUJIyWF74zQGPl0QDJtzNAsqYXa3qxM0ABaF3VK6szQFApoz/dpDNAn+roqY6eM0Duqy4UQJgzQD1tdH7xkTNAjS666KKLM0Dc7/9SVIUzQCuxRb0FfzNAenKLJ7d4M0DJM9GRaHIzQBj1FvwZbDNAZ7ZcZstlM0C2d6LQfF8zQAU56DouWTNAVPotpd9SM0Cju3MPkUwzQPJ8uXlCRjNAQT7/4/M/M0CQ/0ROpTkzQN/AirhWMzNALYLQIggtM0B8QxaNuSYzQMsEXPdqIDNAGsahYRwaM0Bqh+fLzRMzQLlILTZ/DTNACApzoDAHM0BXy7gK4gAzQKaM/nST+jJA9U1E30T0MkBED4pJ9u0yQJPQz7On5zJA4pEVHlnhMkAxU1uICtsyQIAUofK71DJAz9XmXG3OMkAelyzHHsgyQG1YcjHQwTJAvBm4m4G7MkAL2/0FM7UyQFqcQ3DkrjJAqV2J2pWoMkD4Hs9ER6IyQEfgFK/4mzJAlqFaGaqVMkDmYqCDW48yQDUk5u0MiTJAhOUrWL6CMkDTpnHCb3wyQCJotywhdjJAcSn9ltJvMkDA6kIBhGkyQA+siGs1YzJAXm3O1eZcMkCtLhRAmFYyQPzvWapJUDJASrGfFPtJMkCZcuV+rEMyQOgzK+ldPTJAN/VwUw83MkCGtra9wDAyQNV3/CdyKjJAJDlCkiMkMkB0+of81B0yQMO7zWaGFzJAEn0T0TcRMkBhPlk76QoyQLD/nqWaBDJA/8DkD0z+MUBOgip6/fcxQJ1DcOSu8TFA7AS2TmDrMUA7xvu4EeUxQIqHQSPD3jFA2UiHjXTYMUA=",
          "dtype": "f8"
         },
         "yaxis": "y10"
        },
        {
         "customdata": [
          "2025-03-11T07:27:25.000000000",
          "2025-03-12T15:46:20.000000000",
          "2025-03-13T09:44:33.000000000",
          "2025-03-17T13:17:20.000000000",
          "2025-03-17T13:23:49.000000000",
          "2025-03-17T21:08:52.000000000",
          "2025-03-19T07:48:21.000000000",
          "2025-03-24T20:28:12.000000000"
         ],
         "hovertemplate": "ID: respondent_3<br>DateTime: %{customdata}<br>correctFlg_mean: %{x:.2f}<br>Score: %{y:.2f}<br>Pearson r: -0.388<br>Spearman r: -0.432<br>Kendall τ: -0.433<br>DCOR: 0.574",
         "legendgroup": "respondent_3",
         "marker": {
          "color": "#0000FF",
          "opacity": 0.8,
          "size": 8
         },
         "mode": "markers",
         "name": "ID: respondent_3",
         "showlegend": false,
         "type": "scatter",
         "x": {
          "bdata": "16NwPQrX4z+PwvUoXI/iPwAAAAAAAOA/16NwPQrX4z+PwvUoXI/iP+xRuB6F6+E/7FG4HoXr4T/sUbgehevhPw==",
          "dtype": "f8"
         },
         "xaxis": "x10",
         "y": {
          "bdata": "HQkZAwsUHhU=",
          "dtype": "i1"
         },
         "yaxis": "y10"
        },
        {
         "hovertemplate": "ID: respondent_3<br>Pearson r: -0.388<br>Spearman r: -0.432<br>Kendall τ: -0.433<br>DCOR: 0.574",
         "legendgroup": "respondent_3",
         "line": {
          "color": "#0000FF",
          "dash": "dash",
          "width": 2
         },
         "mode": "lines",
         "name": "Trend respondent_3",
         "showlegend": false,
         "type": "scatter",
         "x": {
          "bdata": "AAAAAAAA4D8K4J4A7gngPxTAPQHcE+A/HqDcAcod4D8ogHsCuCfgPzJgGgOmMeA/PEC5A5Q74D9GIFgEgkXgP08A9wRwT+A/WeCVBV5Z4D9jwDQGTGPgP22g0wY6beA/d4ByByh34D+BYBEIFoHgP4tAsAgEi+A/lSBPCfKU4D+fAO4J4J7gP6ngjArOqOA/s8ArC7yy4D+9oMoLqrzgP8eAaQyYxuA/0WAIDYbQ4D/aQKcNdNrgP+QgRg5i5OA/7gDlDlDu4D/44IMPPvjgPwLBIhAsAuE/DKHBEBoM4T8WgWARCBbhPyBh/xH2H+E/KkGeEuQp4T80IT0T0jPhPz4B3BPAPeE/SOF6FK5H4T9SwRkVnFHhP1yhuBWKW+E/ZoFXFnhl4T9vYfYWZm/hP3lBlRdUeeE/gyE0GEKD4T+NAdMYMI3hP5fhcRkel+E/ocEQGgyh4T+roa8a+qrhP7WBThvotOE/v2HtG9a+4T/JQYwcxMjhP9MhKx2y0uE/3QHKHaDc4T/n4WgejubhP/DBBx988OE/+qGmH2r64T8EgkUgWATiPw5i5CBGDuI/GEKDITQY4j8iIiIiIiLiPywCwSIQLOI/NuJfI/414j9Awv4j7D/iP0qinSTaSeI/VII8JchT4j9eYtsltl3iP2hCeiakZ+I/ciIZJ5Jx4j98ArgngHviP4XiVihuheI/j8L1KFyP4j+ZopQpSpniP6OCMyo4o+I/rWLSKiat4j+3QnErFLfiP8EiECwCweI/ywKvLPDK4j/V4k0t3tTiP9/C7C3M3uI/6aKLLrro4j/zgiovqPLiP/1iyS+W/OI/BkNoMIQG4z8QIwcxchDjPxoDpjFgGuM/JONEMk4k4z8uw+MyPC7jPzijgjMqOOM/QoMhNBhC4z9MY8A0BkzjP1ZDXzX0VeM/YCP+NeJf4z9qA5020GnjP3TjOze+c+M/fsPaN6x94z+Io3k4mofjP5KDGDmIkeM/nGO3OXab4z+lQ1Y6ZKXjP68j9TpSr+M/uQOUO0C54z/D4zI8LsPjP83D0TwczeM/16NwPQrX4z8=",
          "dtype": "f8"
         },
         "xaxis": "x10",
         "y": {
          "bdata": "8ncxqAi3OUAA9WpGJ5g5QBBypORFeTlAHu/dgmRaOUAsbBchgzs5QDzpUL+hHDlASmaKXcD9OEBY48P73t44QGpg/Zn9vzhAet02OByhOECIWnDWOoI4QJbXqXRZYzhAplTjEnhEOEC00RyxliU4QMJOVk+1BjhA0suP7dPnN0DgSMmL8sg3QPDFAioRqjdA/kI8yC+LN0AMwHVmTmw3QBw9rwRtTTdAKrrooosuN0A8NyJBqg83QEq0W9/I8DZAWjGVfefRNkBors4bBrM2QHYrCLoklDZAhqhBWEN1NkCUJXv2YVY2QKKitJSANzZAsh/uMp8YNkDAnCfRvfk1QM4ZYW/c2jVA3paaDfu7NUDsE9SrGZ01QPqQDUo4fjVACg5H6FZfNUAci4CGdUA1QCoIuiSUITVAOIXzwrICNUBIAi1h0eM0QFZ/Zv/vxDRAZPyfnQ6mNEB0edk7LYc0QIL2EtpLaDRAkHNMeGpJNECg8IUWiSo0QK5tv7SnCzRAvOr4UsbsM0DMZzLx5M0zQN7ka48DrzNA7GGlLSKQM0D63t7LQHEzQApcGGpfUjNAGNlRCH4zM0AmVoumnBQzQDbTxES79TJARFD+4tnWMkBUzTeB+LcyQGJKcR8XmTJAcMeqvTV6MkCARORbVFsyQI7BHfpyPDJAnD5XmJEdMkCsu5A2sP4xQL44ytTO3zFAzLUDc+3AMUDaMj0RDKIxQOqvdq8qgzFA+CywTUlkMUAGqunrZ0UxQBYnI4qGJjFAJKRcKKUHMUAyIZbGw+gwQEKez2TiyTBAUBsJAwGrMEBemEKhH4wwQG4VfD8+bTBAgJK13VxOMECOD+97ey8wQJyMKBqaEDBAWBPEcHHjL0B0DTetrqUvQJAHqunrZy9AsAEdJikqL0DM+49iZuwuQOj1Ap+jri5ACPB12+BwLkAk6ugXHjMuQEDkW1Rb9S1AYN7OkJi3LUB82EHN1XktQJzStAkTPC1AuMwnRlD+LEDcxpqCjcAsQPjADb/KgixAFLuA+wdFLEA0tfM3RQcsQFCvZnSCyStAcKnZsL+LK0A=",
          "dtype": "f8"
         },
         "yaxis": "y10"
        },
        {
         "customdata": [
          "2025-02-21T00:01:35.000000000",
          "2025-02-22T09:32:19.000000000",
          "2025-02-23T01:11:41.000000000",
          "2025-02-23T10:27:07.000000000",
          "2025-02-23T23:00:47.000000000",
          "2025-02-24T10:30:34.000000000",
          "2025-02-25T00:41:09.000000000",
          "2025-02-25T10:30:51.000000000",
          "2025-02-25T22:18:41.000000000",
          "2025-02-26T12:05:35.000000000",
          "2025-02-26T22:16:33.000000000",
          "2025-02-27T08:25:25.000000000",
          "2025-03-03T10:20:24.000000000",
          "2025-03-08T09:46:41.000000000",
          "2025-03-08T22:45:03.000000000",
          "2025-03-09T13:15:30.000000000",
          "2025-03-09T23:02:26.000000000",
          "2025-03-10T10:10:48.000000000",
          "2025-03-10T12:22:53.000000000",
          "2025-03-10T15:47:07.000000000",
          "2025-03-10T22:37:35.000000000",
          "2025-03-11T10:14:17.000000000",
          "2025-03-11T12:17:35.000000000",
          "2025-03-11T14:18:40.000000000",
          "2025-03-11T23:49:20.000000000",
          "2025-03-12T10:12:40.000000000",
          "2025-03-12T23:28:22.000000000",
          "2025-03-13T09:59:37.000000000",
          "2025-03-13T15:01:10.000000000",
          "2025-03-13T18:34:42.000000000",
          "2025-03-14T00:10:40.000000000",
          "2025-03-14T10:12:54.000000000",
          "2025-03-14T13:30:29.000000000",
          "2025-03-14T22:27:42.000000000",
          "2025-03-15T16:05:27.000000000",
          "2025-03-16T00:58:47.000000000"
         ],
         "hovertemplate": "ID: respondent_4<br>DateTime: %{customdata}<br>correctFlg_mean: %{x:.2f}<br>Score: %{y:.2f}<br>Pearson r: 0.111<br>Spearman r: 0.138<br>Kendall τ: 0.106<br>DCOR: 0.192",
         "legendgroup": "respondent_4",
         "marker": {
          "color": "#FF00FF",
          "opacity": 0.8,
          "size": 8
         },
         "mode": "markers",
         "name": "ID: respondent_4",
         "showlegend": false,
         "type": "scatter",
         "x": {
          "bdata": "AAAAAAAA8D8AAAAAAADwP7gehetRuO4/XI/C9Shc7z8AAAAAAADwPwAAAAAAAPA/AAAAAAAA8D8AAAAAAADwPwAAAAAAAPA/AAAAAAAA8D9cj8L1KFzvP3E9CtejcO0/XI/C9Shc7z9xPQrXo3DtP3E9CtejcO0/uB6F61G47j8AAAAAAADwP7gehetRuO4/AAAAAAAA8D9cj8L1KFzvP7gehetRuO4/XI/C9Shc7z9cj8L1KFzvP1yPwvUoXO8/uB6F61G47j9cj8L1KFzvP7gehetRuO4/cT0K16Nw7T9cj8L1KFzvPwAAAAAAAPA/AAAAAAAA8D8UrkfhehTuP7gehetRuO4/XI/C9Shc7z8AAAAAAADwP1yPwvUoXO8/",
          "dtype": "f8"
         },
         "xaxis": "x10",
         "y": {
          "bdata": "FQITAhUNHgohAxgDAwMeDRwBAQIYAgEHGQQcAQMFEwMEHwQM",
          "dtype": "i1"
         },
         "yaxis": "y10"
        },
        {
         "hovertemplate": "ID: respondent_4<br>Pearson r: 0.111<br>Spearman r: 0.138<br>Kendall τ: 0.106<br>DCOR: 0.192",
         "legendgroup": "respondent_4",
         "line": {
          "color": "#FF00FF",
          "dash": "dash",
          "width": 2
         },
         "mode": "lines",
         "name": "Trend respondent_4",
         "showlegend": false,
         "type": "scatter",
         "x": {
          "bdata": "cT0K16Nw7T/N0h6CQnftPyloMy3hfe0/hf1H2H+E7T/hklyDHovtPz0ocS69ke0/mb2F2VuY7T/1UpqE+p7tP1Hori+Zpe0/rX3D2jes7T8IE9iF1rLtP2So7DB1ue0/wD0B3BPA7T8c0xWHssbtP3hoKjJRze0/1P0+3e/T7T8wk1OIjtrtP4woaDMt4e0/6L183svn7T9EU5GJau7tP6DopTQJ9e0//H2636f77T9YE8+KRgLuP7So4zXlCO4/ED744IMP7j9s0wyMIhbuP8hoITfBHO4/JP414l8j7j+Ak0qN/inuP9woXzidMO4/N75z4zs37j+TU4iO2j3uP+/onDl5RO4/S36x5BdL7j+nE8aPtlHuPwOp2jpVWO4/Xz7v5fNe7j+70wORkmXuPxdpGDwxbO4/c/4s589y7j/Pk0GSbnnuPyspVj0NgO4/h75q6KuG7j/jU3+TSo3uPz/pkz7pk+4/m36o6Yea7j/3E72UJqHuP1Op0T/Fp+4/rz7m6mOu7j8K1PqVArXuP2ZpD0Ghu+4/wv4j7D/C7j8elDiX3sjuP3opTUJ9z+4/1r5h7RvW7j8yVHaYutzuP47pikNZ4+4/6n6f7vfp7j9GFLSZlvDuP6KpyEQ19+4//j7d79P97j9a1PGacgTvP7ZpBkYRC+8/Ev8a8a8R7z9ulC+cThjvP8opREftHu8/Jr9Y8osl7z+CVG2dKizvP97pgUjJMu8/On+W82c57z+VFKueBkDvP/Gpv0mlRu8/TT/U9ENN7z+p1Oif4lPvPwVq/UqBWu8/Yf8R9h9h7z+9lCahvmfvPxkqO0xdbu8/db9P9/t07z/RVGSimnvvPy3qeE05gu8/iX+N+NeI7z/lFKKjdo/vP0Gqtk4Vlu8/nT/L+bOc7z/51N+kUqPvP1Vq9E/xqe8/sf8I+4+w7z8MlR2mLrfvP2gqMlHNve8/xL9G/GvE7z8gVVunCsvvP3zqb1Kp0e8/2H+E/UfY7z80FZmo5t7vP5CqrVOF5e8/7D/C/iPs7z9I1dapwvLvP6Rq61Rh+e8/AAAAAAAA8D8=",
          "dtype": "f8"
         },
         "xaxis": "x10",
         "y": {
          "bdata": "2AdUx97aIkBoxIQqpu4iQPSAtY1tAiNAgD3m8DQWI0AM+hZU/CkjQJy2R7fDPSNAKHN4GotRI0C0L6l9UmUjQETs2eAZeSNA0KgKROGMI0BYZTunqKAjQOghbApwtCNAdN6cbTfII0AAm83Q/tsjQIxX/jPG7yNAHBQvl40DJECo0F/6VBckQDSNkF0cKyRAxEnBwOM+JEBQBvIjq1IkQNzCIodyZiRAaH9T6jl6JED4O4RNAY4kQIT4tLDIoSRAELXlE5C1JECccRZ3V8kkQCwuR9oe3SRAuOp3PebwJEBEp6igrQQlQNRj2QN1GCVAXCAKZzwsJUDo3DrKA0AlQHiZay3LUyVABFackJJnJUCQEs3zWXslQCDP/VYhjyVArIsuuuiiJUA4SF8dsLYlQMQEkIB3yiVAVMHA4z7eJUDgffFGBvIlQGw6IqrNBSZA+PZSDZUZJkCIs4NwXC0mQBRwtNMjQSZAoCzlNutUJkAw6RWasmgmQLylRv15fCZASGJ3YEGQJkDUHqjDCKQmQGDb2CbQtyZA7JcJipfLJkB4VDrtXt8mQAgRa1Am8yZAlM2bs+0GJ0AgiswWtRonQLBG/Xl8LidAPAMu3UNCJ0DIv15AC1YnQFR8j6PSaSdA5DjABpp9J0Bw9fBpYZEnQPyxIc0opSdAjG5SMPC4J0AYK4OTt8wnQKTns/Z+4CdAMKTkWUb0J0DAYBW9DQgoQEwdRiDVGyhA2Nl2g5wvKEBklqfmY0MoQPBS2EkrVyhAfA8JrfJqKEAMzDkQun4oQJiIanOBkihAJEWb1kimKECwAcw5ELooQEC+/JzXzShAzHotAJ/hKEBYN15jZvUoQOTzjsYtCSlAdLC/KfUcKUAAbfCMvDApQIwpIfCDRClAHOZRU0tYKUCoooK2EmwpQDRfsxnafylAwBvkfKGTKUBM2BTgaKcpQNiURUMwuylAaFF2pvfOKUD0DacJv+IpQIDK12yG9ilADIcI0E0KKkCcQzkzFR4qQCgAapbcMSpAtLya+aNFKkBAectca1kqQNA1/L8ybSpAXPIsI/qAKkA=",
          "dtype": "f8"
         },
         "yaxis": "y10"
        }
       ],
       "layout": {
        "annotations": [
         {
          "font": {
           "size": 16
          },
          "showarrow": false,
          "text": "weekday_num vs Score",
          "x": 0.13333333333333333,
          "xanchor": "center",
          "xref": "paper",
          "y": 1,
          "yanchor": "bottom",
          "yref": "paper"
         },
         {
          "font": {
           "size": 16
          },
          "showarrow": false,
          "text": "hour vs Score",
          "x": 0.5,
          "xanchor": "center",
          "xref": "paper",
          "y": 1,
          "yanchor": "bottom",
          "yref": "paper"
         },
         {
          "font": {
           "size": 16
          },
          "showarrow": false,
          "text": "cog_load_flg vs Score",
          "x": 0.8666666666666667,
          "xanchor": "center",
          "xref": "paper",
          "y": 1,
          "yanchor": "bottom",
          "yref": "paper"
         },
         {
          "font": {
           "size": 16
          },
          "showarrow": false,
          "text": "fatigue_lvl vs Score",
          "x": 0.13333333333333333,
          "xanchor": "center",
          "xref": "paper",
          "y": 0.7250000000000001,
          "yanchor": "bottom",
          "yref": "paper"
         },
         {
          "font": {
           "size": 16
          },
          "showarrow": false,
          "text": "response_time_mean vs Score",
          "x": 0.5,
          "xanchor": "center",
          "xref": "paper",
          "y": 0.7250000000000001,
          "yanchor": "bottom",
          "yref": "paper"
         },
         {
          "font": {
           "size": 16
          },
          "showarrow": false,
          "text": "response_time_median vs Score",
          "x": 0.8666666666666667,
          "xanchor": "center",
          "xref": "paper",
          "y": 0.7250000000000001,
          "yanchor": "bottom",
          "yref": "paper"
         },
         {
          "font": {
           "size": 16
          },
          "showarrow": false,
          "text": "response_time_std vs Score",
          "x": 0.13333333333333333,
          "xanchor": "center",
          "xref": "paper",
          "y": 0.45,
          "yanchor": "bottom",
          "yref": "paper"
         },
         {
          "font": {
           "size": 16
          },
          "showarrow": false,
          "text": "response_time_max vs Score",
          "x": 0.5,
          "xanchor": "center",
          "xref": "paper",
          "y": 0.45,
          "yanchor": "bottom",
          "yref": "paper"
         },
         {
          "font": {
           "size": 16
          },
          "showarrow": false,
          "text": "response_time_min vs Score",
          "x": 0.8666666666666667,
          "xanchor": "center",
          "xref": "paper",
          "y": 0.45,
          "yanchor": "bottom",
          "yref": "paper"
         },
         {
          "font": {
           "size": 16
          },
          "showarrow": false,
          "text": "correctFlg_mean vs Score",
          "x": 0.13333333333333333,
          "xanchor": "center",
          "xref": "paper",
          "y": 0.175,
          "yanchor": "bottom",
          "yref": "paper"
         }
        ],
        "font": {
         "size": 12
        },
        "height": 1200,
        "legend": {
         "x": 1.05,
         "xanchor": "left",
         "y": 0.99,
         "yanchor": "top"
        },
        "margin": {
         "b": 50,
         "l": 50,
         "r": 50,
         "t": 100
        },
        "showlegend": true,
        "template": {
         "data": {
          "bar": [
           {
            "error_x": {
             "color": "#2a3f5f"
            },
            "error_y": {
             "color": "#2a3f5f"
            },
            "marker": {
             "line": {
              "color": "#E5ECF6",
              "width": 0.5
             },
             "pattern": {
              "fillmode": "overlay",
              "size": 10,
              "solidity": 0.2
             }
            },
            "type": "bar"
           }
          ],
          "barpolar": [
           {
            "marker": {
             "line": {
              "color": "#E5ECF6",
              "width": 0.5
             },
             "pattern": {
              "fillmode": "overlay",
              "size": 10,
              "solidity": 0.2
             }
            },
            "type": "barpolar"
           }
          ],
          "carpet": [
           {
            "aaxis": {
             "endlinecolor": "#2a3f5f",
             "gridcolor": "white",
             "linecolor": "white",
             "minorgridcolor": "white",
             "startlinecolor": "#2a3f5f"
            },
            "baxis": {
             "endlinecolor": "#2a3f5f",
             "gridcolor": "white",
             "linecolor": "white",
             "minorgridcolor": "white",
             "startlinecolor": "#2a3f5f"
            },
            "type": "carpet"
           }
          ],
          "choropleth": [
           {
            "colorbar": {
             "outlinewidth": 0,
             "ticks": ""
            },
            "type": "choropleth"
           }
          ],
          "contour": [
           {
            "colorbar": {
             "outlinewidth": 0,
             "ticks": ""
            },
            "colorscale": [
             [
              0,
              "#0d0887"
             ],
             [
              0.1111111111111111,
              "#46039f"
             ],
             [
              0.2222222222222222,
              "#7201a8"
             ],
             [
              0.3333333333333333,
              "#9c179e"
             ],
             [
              0.4444444444444444,
              "#bd3786"
             ],
             [
              0.5555555555555556,
              "#d8576b"
             ],
             [
              0.6666666666666666,
              "#ed7953"
             ],
             [
              0.7777777777777778,
              "#fb9f3a"
             ],
             [
              0.8888888888888888,
              "#fdca26"
             ],
             [
              1,
              "#f0f921"
             ]
            ],
            "type": "contour"
           }
          ],
          "contourcarpet": [
           {
            "colorbar": {
             "outlinewidth": 0,
             "ticks": ""
            },
            "type": "contourcarpet"
           }
          ],
          "heatmap": [
           {
            "colorbar": {
             "outlinewidth": 0,
             "ticks": ""
            },
            "colorscale": [
             [
              0,
              "#0d0887"
             ],
             [
              0.1111111111111111,
              "#46039f"
             ],
             [
              0.2222222222222222,
              "#7201a8"
             ],
             [
              0.3333333333333333,
              "#9c179e"
             ],
             [
              0.4444444444444444,
              "#bd3786"
             ],
             [
              0.5555555555555556,
              "#d8576b"
             ],
             [
              0.6666666666666666,
              "#ed7953"
             ],
             [
              0.7777777777777778,
              "#fb9f3a"
             ],
             [
              0.8888888888888888,
              "#fdca26"
             ],
             [
              1,
              "#f0f921"
             ]
            ],
            "type": "heatmap"
           }
          ],
          "histogram": [
           {
            "marker": {
             "pattern": {
              "fillmode": "overlay",
              "size": 10,
              "solidity": 0.2
             }
            },
            "type": "histogram"
           }
          ],
          "histogram2d": [
           {
            "colorbar": {
             "outlinewidth": 0,
             "ticks": ""
            },
            "colorscale": [
             [
              0,
              "#0d0887"
             ],
             [
              0.1111111111111111,
              "#46039f"
             ],
             [
              0.2222222222222222,
              "#7201a8"
             ],
             [
              0.3333333333333333,
              "#9c179e"
             ],
             [
              0.4444444444444444,
              "#bd3786"
             ],
             [
              0.5555555555555556,
              "#d8576b"
             ],
             [
              0.6666666666666666,
              "#ed7953"
             ],
             [
              0.7777777777777778,
              "#fb9f3a"
             ],
             [
              0.8888888888888888,
              "#fdca26"
             ],
             [
              1,
              "#f0f921"
             ]
            ],
            "type": "histogram2d"
           }
          ],
          "histogram2dcontour": [
           {
            "colorbar": {
             "outlinewidth": 0,
             "ticks": ""
            },
            "colorscale": [
             [
              0,
              "#0d0887"
             ],
             [
              0.1111111111111111,
              "#46039f"
             ],
             [
              0.2222222222222222,
              "#7201a8"
             ],
             [
              0.3333333333333333,
              "#9c179e"
             ],
             [
              0.4444444444444444,
              "#bd3786"
             ],
             [
              0.5555555555555556,
              "#d8576b"
             ],
             [
              0.6666666666666666,
              "#ed7953"
             ],
             [
              0.7777777777777778,
              "#fb9f3a"
             ],
             [
              0.8888888888888888,
              "#fdca26"
             ],
             [
              1,
              "#f0f921"
             ]
            ],
            "type": "histogram2dcontour"
           }
          ],
          "mesh3d": [
           {
            "colorbar": {
             "outlinewidth": 0,
             "ticks": ""
            },
            "type": "mesh3d"
           }
          ],
          "parcoords": [
           {
            "line": {
             "colorbar": {
              "outlinewidth": 0,
              "ticks": ""
             }
            },
            "type": "parcoords"
           }
          ],
          "pie": [
           {
            "automargin": true,
            "type": "pie"
           }
          ],
          "scatter": [
           {
            "fillpattern": {
             "fillmode": "overlay",
             "size": 10,
             "solidity": 0.2
            },
            "type": "scatter"
           }
          ],
          "scatter3d": [
           {
            "line": {
             "colorbar": {
              "outlinewidth": 0,
              "ticks": ""
             }
            },
            "marker": {
             "colorbar": {
              "outlinewidth": 0,
              "ticks": ""
             }
            },
            "type": "scatter3d"
           }
          ],
          "scattercarpet": [
           {
            "marker": {
             "colorbar": {
              "outlinewidth": 0,
              "ticks": ""
             }
            },
            "type": "scattercarpet"
           }
          ],
          "scattergeo": [
           {
            "marker": {
             "colorbar": {
              "outlinewidth": 0,
              "ticks": ""
             }
            },
            "type": "scattergeo"
           }
          ],
          "scattergl": [
           {
            "marker": {
             "colorbar": {
              "outlinewidth": 0,
              "ticks": ""
             }
            },
            "type": "scattergl"
           }
          ],
          "scattermap": [
           {
            "marker": {
             "colorbar": {
              "outlinewidth": 0,
              "ticks": ""
             }
            },
            "type": "scattermap"
           }
          ],
          "scattermapbox": [
           {
            "marker": {
             "colorbar": {
              "outlinewidth": 0,
              "ticks": ""
             }
            },
            "type": "scattermapbox"
           }
          ],
          "scatterpolar": [
           {
            "marker": {
             "colorbar": {
              "outlinewidth": 0,
              "ticks": ""
             }
            },
            "type": "scatterpolar"
           }
          ],
          "scatterpolargl": [
           {
            "marker": {
             "colorbar": {
              "outlinewidth": 0,
              "ticks": ""
             }
            },
            "type": "scatterpolargl"
           }
          ],
          "scatterternary": [
           {
            "marker": {
             "colorbar": {
              "outlinewidth": 0,
              "ticks": ""
             }
            },
            "type": "scatterternary"
           }
          ],
          "surface": [
           {
            "colorbar": {
             "outlinewidth": 0,
             "ticks": ""
            },
            "colorscale": [
             [
              0,
              "#0d0887"
             ],
             [
              0.1111111111111111,
              "#46039f"
             ],
             [
              0.2222222222222222,
              "#7201a8"
             ],
             [
              0.3333333333333333,
              "#9c179e"
             ],
             [
              0.4444444444444444,
              "#bd3786"
             ],
             [
              0.5555555555555556,
              "#d8576b"
             ],
             [
              0.6666666666666666,
              "#ed7953"
             ],
             [
              0.7777777777777778,
              "#fb9f3a"
             ],
             [
              0.8888888888888888,
              "#fdca26"
             ],
             [
              1,
              "#f0f921"
             ]
            ],
            "type": "surface"
           }
          ],
          "table": [
           {
            "cells": {
             "fill": {
              "color": "#EBF0F8"
             },
             "line": {
              "color": "white"
             }
            },
            "header": {
             "fill": {
              "color": "#C8D4E3"
             },
             "line": {
              "color": "white"
             }
            },
            "type": "table"
           }
          ]
         },
         "layout": {
          "annotationdefaults": {
           "arrowcolor": "#2a3f5f",
           "arrowhead": 0,
           "arrowwidth": 1
          },
          "autotypenumbers": "strict",
          "coloraxis": {
           "colorbar": {
            "outlinewidth": 0,
            "ticks": ""
           }
          },
          "colorscale": {
           "diverging": [
            [
             0,
             "#8e0152"
            ],
            [
             0.1,
             "#c51b7d"
            ],
            [
             0.2,
             "#de77ae"
            ],
            [
             0.3,
             "#f1b6da"
            ],
            [
             0.4,
             "#fde0ef"
            ],
            [
             0.5,
             "#f7f7f7"
            ],
            [
             0.6,
             "#e6f5d0"
            ],
            [
             0.7,
             "#b8e186"
            ],
            [
             0.8,
             "#7fbc41"
            ],
            [
             0.9,
             "#4d9221"
            ],
            [
             1,
             "#276419"
            ]
           ],
           "sequential": [
            [
             0,
             "#0d0887"
            ],
            [
             0.1111111111111111,
             "#46039f"
            ],
            [
             0.2222222222222222,
             "#7201a8"
            ],
            [
             0.3333333333333333,
             "#9c179e"
            ],
            [
             0.4444444444444444,
             "#bd3786"
            ],
            [
             0.5555555555555556,
             "#d8576b"
            ],
            [
             0.6666666666666666,
             "#ed7953"
            ],
            [
             0.7777777777777778,
             "#fb9f3a"
            ],
            [
             0.8888888888888888,
             "#fdca26"
            ],
            [
             1,
             "#f0f921"
            ]
           ],
           "sequentialminus": [
            [
             0,
             "#0d0887"
            ],
            [
             0.1111111111111111,
             "#46039f"
            ],
            [
             0.2222222222222222,
             "#7201a8"
            ],
            [
             0.3333333333333333,
             "#9c179e"
            ],
            [
             0.4444444444444444,
             "#bd3786"
            ],
            [
             0.5555555555555556,
             "#d8576b"
            ],
            [
             0.6666666666666666,
             "#ed7953"
            ],
            [
             0.7777777777777778,
             "#fb9f3a"
            ],
            [
             0.8888888888888888,
             "#fdca26"
            ],
            [
             1,
             "#f0f921"
            ]
           ]
          },
          "colorway": [
           "#636efa",
           "#EF553B",
           "#00cc96",
           "#ab63fa",
           "#FFA15A",
           "#19d3f3",
           "#FF6692",
           "#B6E880",
           "#FF97FF",
           "#FECB52"
          ],
          "font": {
           "color": "#2a3f5f"
          },
          "geo": {
           "bgcolor": "white",
           "lakecolor": "white",
           "landcolor": "#E5ECF6",
           "showlakes": true,
           "showland": true,
           "subunitcolor": "white"
          },
          "hoverlabel": {
           "align": "left"
          },
          "hovermode": "closest",
          "mapbox": {
           "style": "light"
          },
          "paper_bgcolor": "white",
          "plot_bgcolor": "#E5ECF6",
          "polar": {
           "angularaxis": {
            "gridcolor": "white",
            "linecolor": "white",
            "ticks": ""
           },
           "bgcolor": "#E5ECF6",
           "radialaxis": {
            "gridcolor": "white",
            "linecolor": "white",
            "ticks": ""
           }
          },
          "scene": {
           "xaxis": {
            "backgroundcolor": "#E5ECF6",
            "gridcolor": "white",
            "gridwidth": 2,
            "linecolor": "white",
            "showbackground": true,
            "ticks": "",
            "zerolinecolor": "white"
           },
           "yaxis": {
            "backgroundcolor": "#E5ECF6",
            "gridcolor": "white",
            "gridwidth": 2,
            "linecolor": "white",
            "showbackground": true,
            "ticks": "",
            "zerolinecolor": "white"
           },
           "zaxis": {
            "backgroundcolor": "#E5ECF6",
            "gridcolor": "white",
            "gridwidth": 2,
            "linecolor": "white",
            "showbackground": true,
            "ticks": "",
            "zerolinecolor": "white"
           }
          },
          "shapedefaults": {
           "line": {
            "color": "#2a3f5f"
           }
          },
          "ternary": {
           "aaxis": {
            "gridcolor": "white",
            "linecolor": "white",
            "ticks": ""
           },
           "baxis": {
            "gridcolor": "white",
            "linecolor": "white",
            "ticks": ""
           },
           "bgcolor": "#E5ECF6",
           "caxis": {
            "gridcolor": "white",
            "linecolor": "white",
            "ticks": ""
           }
          },
          "title": {
           "x": 0.05
          },
          "xaxis": {
           "automargin": true,
           "gridcolor": "white",
           "linecolor": "white",
           "ticks": "",
           "title": {
            "standoff": 15
           },
           "zerolinecolor": "white",
           "zerolinewidth": 2
          },
          "yaxis": {
           "automargin": true,
           "gridcolor": "white",
           "linecolor": "white",
           "ticks": "",
           "title": {
            "standoff": 15
           },
           "zerolinecolor": "white",
           "zerolinewidth": 2
          }
         }
        },
        "title": {
         "text": "Metrics vs Score by Respondent"
        },
        "width": 1200,
        "xaxis": {
         "anchor": "y",
         "domain": [
          0,
          0.26666666666666666
         ],
         "title": {
          "text": "weekday_num"
         }
        },
        "xaxis10": {
         "anchor": "y10",
         "domain": [
          0,
          0.26666666666666666
         ],
         "title": {
          "text": "correctFlg_mean"
         }
        },
        "xaxis11": {
         "anchor": "y11",
         "domain": [
          0.3666666666666667,
          0.6333333333333333
         ]
        },
        "xaxis12": {
         "anchor": "y12",
         "domain": [
          0.7333333333333334,
          1
         ]
        },
        "xaxis2": {
         "anchor": "y2",
         "domain": [
          0.3666666666666667,
          0.6333333333333333
         ],
         "title": {
          "text": "hour"
         }
        },
        "xaxis3": {
         "anchor": "y3",
         "domain": [
          0.7333333333333334,
          1
         ],
         "title": {
          "text": "cog_load_flg"
         }
        },
        "xaxis4": {
         "anchor": "y4",
         "domain": [
          0,
          0.26666666666666666
         ],
         "title": {
          "text": "fatigue_lvl"
         }
        },
        "xaxis5": {
         "anchor": "y5",
         "domain": [
          0.3666666666666667,
          0.6333333333333333
         ],
         "title": {
          "text": "response_time_mean"
         }
        },
        "xaxis6": {
         "anchor": "y6",
         "domain": [
          0.7333333333333334,
          1
         ],
         "title": {
          "text": "response_time_median"
         }
        },
        "xaxis7": {
         "anchor": "y7",
         "domain": [
          0,
          0.26666666666666666
         ],
         "title": {
          "text": "response_time_std"
         }
        },
        "xaxis8": {
         "anchor": "y8",
         "domain": [
          0.3666666666666667,
          0.6333333333333333
         ],
         "title": {
          "text": "response_time_max"
         }
        },
        "xaxis9": {
         "anchor": "y9",
         "domain": [
          0.7333333333333334,
          1
         ],
         "title": {
          "text": "response_time_min"
         }
        },
        "yaxis": {
         "anchor": "x",
         "domain": [
          0.825,
          1
         ],
         "title": {
          "text": "Fatigue score"
         }
        },
        "yaxis10": {
         "anchor": "x10",
         "domain": [
          0,
          0.175
         ],
         "title": {
          "text": "Fatigue score"
         }
        },
        "yaxis11": {
         "anchor": "x11",
         "domain": [
          0,
          0.175
         ]
        },
        "yaxis12": {
         "anchor": "x12",
         "domain": [
          0,
          0.175
         ]
        },
        "yaxis2": {
         "anchor": "x2",
         "domain": [
          0.825,
          1
         ],
         "title": {
          "text": "Fatigue score"
         }
        },
        "yaxis3": {
         "anchor": "x3",
         "domain": [
          0.825,
          1
         ],
         "title": {
          "text": "Fatigue score"
         }
        },
        "yaxis4": {
         "anchor": "x4",
         "domain": [
          0.55,
          0.7250000000000001
         ],
         "title": {
          "text": "Fatigue score"
         }
        },
        "yaxis5": {
         "anchor": "x5",
         "domain": [
          0.55,
          0.7250000000000001
         ],
         "title": {
          "text": "Fatigue score"
         }
        },
        "yaxis6": {
         "anchor": "x6",
         "domain": [
          0.55,
          0.7250000000000001
         ],
         "title": {
          "text": "Fatigue score"
         }
        },
        "yaxis7": {
         "anchor": "x7",
         "domain": [
          0.275,
          0.45
         ],
         "title": {
          "text": "Fatigue score"
         }
        },
        "yaxis8": {
         "anchor": "x8",
         "domain": [
          0.275,
          0.45
         ],
         "title": {
          "text": "Fatigue score"
         }
        },
        "yaxis9": {
         "anchor": "x9",
         "domain": [
          0.275,
          0.45
         ],
         "title": {
          "text": "Fatigue score"
         }
        }
       }
      }
     },
     "metadata": {},
     "output_type": "display_data"
    }
   ],
   "source": [
    "import pandas as pd\n",
    "import plotly.graph_objects as go\n",
    "from plotly.subplots import make_subplots\n",
    "from sklearn.linear_model import LinearRegression\n",
    "import numpy as np\n",
    "from scipy import stats\n",
    "\n",
    "# Get unique IDs for coloring\n",
    "ids = q_df['id'].unique()\n",
    "num_ids = len(ids)\n",
    "\n",
    "# Select only numeric columns for correlation\n",
    "numeric_columns =numeric_columns = ['weekday_num', 'hour', \"cog_load_flg\", 'score', \n",
    "                  'fatigue_lvl', 'response_time_mean', 'response_time_median', 'response_time_std', \n",
    "                  'response_time_max', 'response_time_min', 'correctFlg_mean']\n",
    "\n",
    "# Create a color palette for respondents\n",
    "colors = [\n",
    "    '#FF0000',  # Bright Red\n",
    "    '#00FF00',  # Bright Green\n",
    "    '#0000FF',  # Bright Blue\n",
    "    '#FF00FF',  # Magenta\n",
    "    '#00FFFF',  # Cyan\n",
    "    '#FFFF00',  # Yellow\n",
    "    '#FFA500',  # Orange\n",
    "    '#800080',  # Purple\n",
    "    '#008000',  # Green\n",
    "    '#000080',  # Navy\n",
    "    '#800000',  # Maroon\n",
    "    '#008080'   # Teal\n",
    "]\n",
    "\n",
    "# Calculate number of rows and columns for subplots\n",
    "metrics = [col for col in numeric_columns if col != 'score']\n",
    "n_metrics = len(metrics)\n",
    "cols = 3\n",
    "rows = (n_metrics + 2) // cols\n",
    "\n",
    "# Create figure with subplots\n",
    "fig = make_subplots(\n",
    "    rows=rows,\n",
    "    cols=cols,\n",
    "    subplot_titles=[f\"{metric} vs Score\" for metric in metrics],\n",
    "    horizontal_spacing=0.1,\n",
    "    vertical_spacing=0.1\n",
    ")\n",
    "\n",
    "# Create scatter plots for each metric\n",
    "for i, metric in enumerate(metrics):\n",
    "    row = i // cols + 1\n",
    "    col = i % cols + 1\n",
    "    \n",
    "    # Add scatter plot for each respondent\n",
    "    for j, respondent_id in enumerate(ids):\n",
    "        # print(metric, respondent_id)\n",
    "\n",
    "        respondent_data = q_df[q_df['id'] == respondent_id].sort_values('datetime')\n",
    "\n",
    "        if metric == 'cog_load_flg':\n",
    "            respondent_data = respondent_data[respondent_data['datetime'] > pd.to_datetime('2025-02-25 00:00:00')]\n",
    "\n",
    "        # Calculate correlations\n",
    "        pearson_corr = respondent_data[metric].corr(respondent_data['score'], method='pearson')\n",
    "        spearman_corr = respondent_data[metric].corr(respondent_data['score'], method='spearman')\n",
    "        kendall_corr = respondent_data[metric].corr(respondent_data['score'], method='kendall')\n",
    "        dcor_corr = dcor.distance_correlation(\n",
    "                    respondent_data[metric].dropna().astype(float),\n",
    "                    respondent_data['score'].dropna().astype(float))\n",
    "        scatter = go.Scatter(\n",
    "            x=respondent_data[metric],\n",
    "            y=respondent_data['score'],\n",
    "            mode='markers',\n",
    "            name=f'ID: {respondent_id}',\n",
    "            marker=dict(\n",
    "                color=colors[j % len(colors)],\n",
    "                size=8,\n",
    "                opacity=0.8\n",
    "            ),\n",
    "            showlegend=(i == 0),\n",
    "            legendgroup=f'{respondent_id}',\n",
    "            hovertemplate=(\n",
    "                f\"ID: {respondent_id}<br>\" +\n",
    "                \"DateTime: %{customdata}<br>\" +\n",
    "                f\"{metric}: %{{x:.2f}}<br>\" +\n",
    "                \"Score: %{y:.2f}<br>\" +\n",
    "                f\"Pearson r: {pearson_corr:.3f}<br>\" +\n",
    "                f\"Spearman r: {spearman_corr:.3f}<br>\" +\n",
    "                f\"Kendall τ: {kendall_corr:.3f}<br>\" +\n",
    "                f\"DCOR: {dcor_corr:.3f}\"\n",
    "            ),\n",
    "            customdata=respondent_data['datetime']\n",
    "        )\n",
    "        fig.add_trace(scatter, row=row, col=col)\n",
    "\n",
    "        # Add trendline\n",
    "        x_vals = respondent_data[metric].values.reshape(-1, 1)\n",
    "        y_vals = respondent_data['score'].values\n",
    "\n",
    "        if len(x_vals) > 1:\n",
    "            model = LinearRegression().fit(x_vals, y_vals)\n",
    "            x_range = np.linspace(x_vals.min(), x_vals.max(), 100).reshape(-1, 1)\n",
    "            y_pred = model.predict(x_range)\n",
    "\n",
    "            # Create annotation text with correlation values\n",
    "            annotation_text = (\n",
    "                f\"ID: {respondent_id}<br>\" +\n",
    "                f\"Pearson r: {pearson_corr:.3f}<br>\" +\n",
    "                f\"Spearman r: {spearman_corr:.3f}<br>\" +\n",
    "                f\"Kendall τ: {kendall_corr:.3f}<br>\" +\n",
    "                f\"DCOR: {dcor_corr:.3f}\"\n",
    "            )\n",
    "\n",
    "            fig.add_trace(\n",
    "                go.Scatter(\n",
    "                    x=x_range.flatten(),\n",
    "                    y=y_pred,\n",
    "                    mode='lines',\n",
    "                    name=f'Trend {respondent_id}',\n",
    "                    line=dict(\n",
    "                        color=colors[j % len(colors)],\n",
    "                        width=2,\n",
    "                        dash='dash'\n",
    "                    ),\n",
    "                    showlegend=False,\n",
    "                    legendgroup=f'{respondent_id}',\n",
    "                    hovertemplate=annotation_text\n",
    "                ),\n",
    "                row=row, col=col\n",
    "            )\n",
    "\n",
    "# Update layout\n",
    "fig.update_layout(\n",
    "    height=300 * rows,\n",
    "    width=1200,\n",
    "    title_text=\"Metrics vs Score by Respondent\",\n",
    "    font=dict(size=12),\n",
    "    margin=dict(l=50, r=50, t=100, b=50),\n",
    "    showlegend=True,\n",
    "    legend=dict(\n",
    "        yanchor=\"top\",\n",
    "        y=0.99,\n",
    "        xanchor=\"left\",\n",
    "        x=1.05\n",
    "    )\n",
    ")\n",
    "\n",
    "# Update axes labels\n",
    "for i in range(1, rows * cols + 1):\n",
    "    if i > len(metrics):\n",
    "        continue\n",
    "    fig['layout'][f'xaxis{i}'].update(title=metrics[i-1])\n",
    "    fig['layout'][f'yaxis{i}'].update(title=\"Fatigue score\")\n",
    "\n",
    "fig.show()"
   ]
  },
  {
   "cell_type": "code",
   "execution_count": 48,
   "metadata": {},
   "outputs": [
    {
     "data": {
      "application/vnd.plotly.v1+json": {
       "config": {
        "plotlyServerURL": "https://plot.ly"
       },
       "data": [
        {
         "boxmean": true,
         "marker": {
          "opacity": 0
         },
         "name": "1",
         "showlegend": false,
         "type": "box",
         "xaxis": "x",
         "y": {
          "bdata": "OBCSBUxgCEDpfeNrz6wJQBPQRNjwdAhA1q2ek963A0DYnlkSoCYCQA==",
          "dtype": "f8"
         },
         "yaxis": "y"
        },
        {
         "hovertemplate": "fatigue_lvl: 1<br>response_time_mean: %{y}<br>Время: %{text}<extra></extra>",
         "marker": {
          "color": "black",
          "opacity": 0.4,
          "size": 5
         },
         "mode": "markers",
         "showlegend": false,
         "text": [
          "2025-03-10 15:39:44",
          "2025-03-11 08:55:58",
          "2025-03-12 08:48:30",
          "2025-03-14 13:41:47",
          "2025-03-14 15:19:17"
         ],
         "type": "scatter",
         "x": [
          "1",
          "1",
          "1",
          "1",
          "1"
         ],
         "xaxis": "x",
         "y": {
          "bdata": "OBCSBUxgCEDpfeNrz6wJQBPQRNjwdAhA1q2ek963A0DYnlkSoCYCQA==",
          "dtype": "f8"
         },
         "yaxis": "y"
        },
        {
         "boxmean": true,
         "marker": {
          "opacity": 0
         },
         "name": "2",
         "showlegend": false,
         "type": "box",
         "xaxis": "x",
         "y": {
          "bdata": "DHva4a/JCEAD7KNTVz4GQK3YX3ZPngJA",
          "dtype": "f8"
         },
         "yaxis": "y"
        },
        {
         "hovertemplate": "fatigue_lvl: 2<br>response_time_mean: %{y}<br>Время: %{text}<extra></extra>",
         "marker": {
          "color": "black",
          "opacity": 0.4,
          "size": 5
         },
         "mode": "markers",
         "showlegend": false,
         "text": [
          "2025-03-10 10:09:26",
          "2025-03-12 20:38:30",
          "2025-03-13 09:20:31"
         ],
         "type": "scatter",
         "x": [
          "2",
          "2",
          "2"
         ],
         "xaxis": "x",
         "y": {
          "bdata": "DHva4a/JCEAD7KNTVz4GQK3YX3ZPngJA",
          "dtype": "f8"
         },
         "yaxis": "y"
        },
        {
         "boxmean": true,
         "marker": {
          "opacity": 0
         },
         "name": "3",
         "showlegend": false,
         "type": "box",
         "xaxis": "x",
         "y": {
          "bdata": "lrIMcawLCUBZF7fRAF4DQMgpOpLL/whAlpUmpaBbA0D8Uj9vKlIEQA==",
          "dtype": "f8"
         },
         "yaxis": "y"
        },
        {
         "hovertemplate": "fatigue_lvl: 3<br>response_time_mean: %{y}<br>Время: %{text}<extra></extra>",
         "marker": {
          "color": "black",
          "opacity": 0.4,
          "size": 5
         },
         "mode": "markers",
         "showlegend": false,
         "text": [
          "2025-03-10 19:27:25",
          "2025-03-11 17:38:58",
          "2025-03-12 16:04:18",
          "2025-03-13 14:17:22",
          "2025-03-13 22:48:59"
         ],
         "type": "scatter",
         "x": [
          "3",
          "3",
          "3",
          "3",
          "3"
         ],
         "xaxis": "x",
         "y": {
          "bdata": "lrIMcawLCUBZF7fRAF4DQMgpOpLL/whAlpUmpaBbA0D8Uj9vKlIEQA==",
          "dtype": "f8"
         },
         "yaxis": "y"
        },
        {
         "boxmean": true,
         "marker": {
          "opacity": 0
         },
         "name": "4",
         "showlegend": false,
         "type": "box",
         "xaxis": "x",
         "y": {
          "bdata": "pOTVOQbkB0CK/WX35GEHQAN4CyQofgJA",
          "dtype": "f8"
         },
         "yaxis": "y"
        },
        {
         "hovertemplate": "fatigue_lvl: 4<br>response_time_mean: %{y}<br>Время: %{text}<extra></extra>",
         "marker": {
          "color": "black",
          "opacity": 0.4,
          "size": 5
         },
         "mode": "markers",
         "showlegend": false,
         "text": [
          "2025-03-10 20:39:20",
          "2025-03-13 12:26:28",
          "2025-03-15 17:17:19"
         ],
         "type": "scatter",
         "x": [
          "4",
          "4",
          "4"
         ],
         "xaxis": "x",
         "y": {
          "bdata": "pOTVOQbkB0CK/WX35GEHQAN4CyQofgJA",
          "dtype": "f8"
         },
         "yaxis": "y"
        },
        {
         "boxmean": true,
         "marker": {
          "opacity": 0
         },
         "name": "1",
         "showlegend": false,
         "type": "box",
         "xaxis": "x2",
         "y": [],
         "yaxis": "y2"
        },
        {
         "hovertemplate": "fatigue_lvl: 1<br>response_time_mean: %{y}<br>Время: %{text}<extra></extra>",
         "marker": {
          "color": "black",
          "opacity": 0.4,
          "size": 5
         },
         "mode": "markers",
         "showlegend": false,
         "text": [],
         "type": "scatter",
         "x": [],
         "xaxis": "x2",
         "y": [],
         "yaxis": "y2"
        },
        {
         "boxmean": true,
         "marker": {
          "opacity": 0
         },
         "name": "2",
         "showlegend": false,
         "type": "box",
         "xaxis": "x2",
         "y": {
          "bdata": "5A8GnntPEkDGpwAYzyASQM1YNJ2dDA9Az72HS467DEB2GmmpvB0NQA==",
          "dtype": "f8"
         },
         "yaxis": "y2"
        },
        {
         "hovertemplate": "fatigue_lvl: 2<br>response_time_mean: %{y}<br>Время: %{text}<extra></extra>",
         "marker": {
          "color": "black",
          "opacity": 0.4,
          "size": 5
         },
         "mode": "markers",
         "showlegend": false,
         "text": [
          "2025-03-10 10:16:41",
          "2025-03-10 12:36:03",
          "2025-03-11 11:11:19",
          "2025-03-11 12:46:55",
          "2025-03-13 10:07:57"
         ],
         "type": "scatter",
         "x": [
          "2",
          "2",
          "2",
          "2",
          "2"
         ],
         "xaxis": "x2",
         "y": {
          "bdata": "5A8GnntPEkDGpwAYzyASQM1YNJ2dDA9Az72HS467DEB2GmmpvB0NQA==",
          "dtype": "f8"
         },
         "yaxis": "y2"
        },
        {
         "boxmean": true,
         "marker": {
          "opacity": 0
         },
         "name": "3",
         "showlegend": false,
         "type": "box",
         "xaxis": "x2",
         "y": {
          "bdata": "cJS8OsfAEUBIFjCBW3cOQP9g4Ln38A1AKUTAIVQpDEAWNZiG4SMMQEz9vKlIRRBAs7W+SGgLEEAgQfFjzN0MQJqUgm4vKRFAqOMxA5VxD0A=",
          "dtype": "f8"
         },
         "yaxis": "y2"
        },
        {
         "hovertemplate": "fatigue_lvl: 3<br>response_time_mean: %{y}<br>Время: %{text}<extra></extra>",
         "marker": {
          "color": "black",
          "opacity": 0.4,
          "size": 5
         },
         "mode": "markers",
         "showlegend": false,
         "text": [
          "2025-03-10 15:32:56",
          "2025-03-10 19:32:40",
          "2025-03-11 21:06:16",
          "2025-03-12 13:15:24",
          "2025-03-12 16:04:02",
          "2025-03-12 20:30:44",
          "2025-03-13 21:45:02",
          "2025-03-14 12:11:07",
          "2025-03-14 14:12:15",
          "2025-03-15 16:05:01"
         ],
         "type": "scatter",
         "x": [
          "3",
          "3",
          "3",
          "3",
          "3",
          "3",
          "3",
          "3",
          "3",
          "3"
         ],
         "xaxis": "x2",
         "y": {
          "bdata": "cJS8OsfAEUBIFjCBW3cOQP9g4Ln38A1AKUTAIVQpDEAWNZiG4SMMQEz9vKlIRRBAs7W+SGgLEEAgQfFjzN0MQJqUgm4vKRFAqOMxA5VxD0A=",
          "dtype": "f8"
         },
         "yaxis": "y2"
        },
        {
         "boxmean": true,
         "marker": {
          "opacity": 0
         },
         "name": "4",
         "showlegend": false,
         "type": "box",
         "xaxis": "x2",
         "y": [],
         "yaxis": "y2"
        },
        {
         "hovertemplate": "fatigue_lvl: 4<br>response_time_mean: %{y}<br>Время: %{text}<extra></extra>",
         "marker": {
          "color": "black",
          "opacity": 0.4,
          "size": 5
         },
         "mode": "markers",
         "showlegend": false,
         "text": [],
         "type": "scatter",
         "x": [],
         "xaxis": "x2",
         "y": [],
         "yaxis": "y2"
        },
        {
         "boxmean": true,
         "marker": {
          "opacity": 0
         },
         "name": "1",
         "showlegend": false,
         "type": "box",
         "xaxis": "x3",
         "y": {
          "bdata": "OrTIdr4fFUC3QILix1gXQA==",
          "dtype": "f8"
         },
         "yaxis": "y3"
        },
        {
         "hovertemplate": "fatigue_lvl: 1<br>response_time_mean: %{y}<br>Время: %{text}<extra></extra>",
         "marker": {
          "color": "black",
          "opacity": 0.4,
          "size": 5
         },
         "mode": "markers",
         "showlegend": false,
         "text": [
          "2025-03-12 15:46:20",
          "2025-03-17 13:17:20"
         ],
         "type": "scatter",
         "x": [
          "1",
          "1"
         ],
         "xaxis": "x3",
         "y": {
          "bdata": "OrTIdr4fFUC3QILix1gXQA==",
          "dtype": "f8"
         },
         "yaxis": "y3"
        },
        {
         "boxmean": true,
         "marker": {
          "opacity": 0
         },
         "name": "2",
         "showlegend": false,
         "type": "box",
         "xaxis": "x3",
         "y": {
          "bdata": "6Nms+lztEEA=",
          "dtype": "f8"
         },
         "yaxis": "y3"
        },
        {
         "hovertemplate": "fatigue_lvl: 2<br>response_time_mean: %{y}<br>Время: %{text}<extra></extra>",
         "marker": {
          "color": "black",
          "opacity": 0.4,
          "size": 5
         },
         "mode": "markers",
         "showlegend": false,
         "text": [
          "2025-03-17 13:23:49"
         ],
         "type": "scatter",
         "x": [
          "2"
         ],
         "xaxis": "x3",
         "y": {
          "bdata": "6Nms+lztEEA=",
          "dtype": "f8"
         },
         "yaxis": "y3"
        },
        {
         "boxmean": true,
         "marker": {
          "opacity": 0
         },
         "name": "3",
         "showlegend": false,
         "type": "box",
         "xaxis": "x3",
         "y": {
          "bdata": "zR5oBYbsGUBGfCdmvdgRQJRNucK73BBA",
          "dtype": "f8"
         },
         "yaxis": "y3"
        },
        {
         "hovertemplate": "fatigue_lvl: 3<br>response_time_mean: %{y}<br>Время: %{text}<extra></extra>",
         "marker": {
          "color": "black",
          "opacity": 0.4,
          "size": 5
         },
         "mode": "markers",
         "showlegend": false,
         "text": [
          "2025-03-13 09:44:33",
          "2025-03-17 21:08:52",
          "2025-03-24 20:28:12"
         ],
         "type": "scatter",
         "x": [
          "3",
          "3",
          "3"
         ],
         "xaxis": "x3",
         "y": {
          "bdata": "zR5oBYbsGUBGfCdmvdgRQJRNucK73BBA",
          "dtype": "f8"
         },
         "yaxis": "y3"
        },
        {
         "boxmean": true,
         "marker": {
          "opacity": 0
         },
         "name": "4",
         "showlegend": false,
         "type": "box",
         "xaxis": "x3",
         "y": {
          "bdata": "6pCb4Qb8FkBgkzXqIdoRQA==",
          "dtype": "f8"
         },
         "yaxis": "y3"
        },
        {
         "hovertemplate": "fatigue_lvl: 4<br>response_time_mean: %{y}<br>Время: %{text}<extra></extra>",
         "marker": {
          "color": "black",
          "opacity": 0.4,
          "size": 5
         },
         "mode": "markers",
         "showlegend": false,
         "text": [
          "2025-03-11 07:27:25",
          "2025-03-19 07:48:21"
         ],
         "type": "scatter",
         "x": [
          "4",
          "4"
         ],
         "xaxis": "x3",
         "y": {
          "bdata": "6pCb4Qb8FkBgkzXqIdoRQA==",
          "dtype": "f8"
         },
         "yaxis": "y3"
        },
        {
         "boxmean": true,
         "marker": {
          "opacity": 0
         },
         "name": "1",
         "showlegend": false,
         "type": "box",
         "xaxis": "x4",
         "y": {
          "bdata": "Mj1hiQcUCUDWITfDDXgLQCk/qfbpeAhA2NMOf01WB0DNHmgFhqwJQBxaZDvfTwpApPyk2qfjBECIY13cRgMDQNydtdsutAVArwPnjCjtBkA9P4wQHu0EQJet9UVCWwVAPx2PGagMBUD99nXgnJEHQMXhzK/mgAVAHLEWnwLgBEAEBHP0+L0DQIxPATCeQQZAbSHIQQmzCUA=",
          "dtype": "f8"
         },
         "yaxis": "y4"
        },
        {
         "hovertemplate": "fatigue_lvl: 1<br>response_time_mean: %{y}<br>Время: %{text}<extra></extra>",
         "marker": {
          "color": "black",
          "opacity": 0.4,
          "size": 5
         },
         "mode": "markers",
         "showlegend": false,
         "text": [
          "2025-02-22 09:32:19",
          "2025-02-23 10:27:07",
          "2025-02-26 12:05:35",
          "2025-02-27 08:25:25",
          "2025-03-03 10:20:24",
          "2025-03-08 09:46:41",
          "2025-03-10 10:10:48",
          "2025-03-10 12:22:53",
          "2025-03-10 15:47:07",
          "2025-03-11 10:14:17",
          "2025-03-11 12:17:35",
          "2025-03-11 14:18:40",
          "2025-03-12 10:12:40",
          "2025-03-13 09:59:37",
          "2025-03-13 15:01:10",
          "2025-03-13 18:34:42",
          "2025-03-14 10:12:54",
          "2025-03-14 13:30:29",
          "2025-03-15 16:05:27"
         ],
         "type": "scatter",
         "x": [
          "1",
          "1",
          "1",
          "1",
          "1",
          "1",
          "1",
          "1",
          "1",
          "1",
          "1",
          "1",
          "1",
          "1",
          "1",
          "1",
          "1",
          "1",
          "1"
         ],
         "xaxis": "x4",
         "y": {
          "bdata": "Mj1hiQcUCUDWITfDDXgLQCk/qfbpeAhA2NMOf01WB0DNHmgFhqwJQBxaZDvfTwpApPyk2qfjBECIY13cRgMDQNydtdsutAVArwPnjCjtBkA9P4wQHu0EQJet9UVCWwVAPx2PGagMBUD99nXgnJEHQMXhzK/mgAVAHLEWnwLgBEAEBHP0+L0DQIxPATCeQQZAbSHIQQmzCUA=",
          "dtype": "f8"
         },
         "yaxis": "y4"
        },
        {
         "boxmean": true,
         "marker": {
          "opacity": 0
         },
         "name": "2",
         "showlegend": false,
         "type": "box",
         "xaxis": "x4",
         "y": {
          "bdata": "E36pnzeVBkAzhc5r7JIGQEXwv5Xs2AhA8nub/uxHBUA=",
          "dtype": "f8"
         },
         "yaxis": "y4"
        },
        {
         "hovertemplate": "fatigue_lvl: 2<br>response_time_mean: %{y}<br>Время: %{text}<extra></extra>",
         "marker": {
          "color": "black",
          "opacity": 0.4,
          "size": 5
         },
         "mode": "markers",
         "showlegend": false,
         "text": [
          "2025-02-24 10:30:34",
          "2025-02-25 10:30:51",
          "2025-03-09 13:15:30",
          "2025-03-16 00:58:47"
         ],
         "type": "scatter",
         "x": [
          "2",
          "2",
          "2",
          "2"
         ],
         "xaxis": "x4",
         "y": {
          "bdata": "E36pnzeVBkAzhc5r7JIGQEXwv5Xs2AhA8nub/uxHBUA=",
          "dtype": "f8"
         },
         "yaxis": "y4"
        },
        {
         "boxmean": true,
         "marker": {
          "opacity": 0
         },
         "name": "3",
         "showlegend": false,
         "type": "box",
         "xaxis": "x4",
         "y": {
          "bdata": "SkG3lzTGB0DPZtXnaqsHQAk4hCo1ewZA3IDPDyOEB0CoOuRmuAEGQDHrxVBONARABP9byY6NBEA=",
          "dtype": "f8"
         },
         "yaxis": "y4"
        },
        {
         "hovertemplate": "fatigue_lvl: 3<br>response_time_mean: %{y}<br>Время: %{text}<extra></extra>",
         "marker": {
          "color": "black",
          "opacity": 0.4,
          "size": 5
         },
         "mode": "markers",
         "showlegend": false,
         "text": [
          "2025-02-21 00:01:35",
          "2025-02-23 01:11:41",
          "2025-02-23 23:00:47",
          "2025-02-26 22:16:33",
          "2025-03-10 22:37:35",
          "2025-03-11 23:49:20",
          "2025-03-14 00:10:40"
         ],
         "type": "scatter",
         "x": [
          "3",
          "3",
          "3",
          "3",
          "3",
          "3",
          "3"
         ],
         "xaxis": "x4",
         "y": {
          "bdata": "SkG3lzTGB0DPZtXnaqsHQAk4hCo1ewZA3IDPDyOEB0CoOuRmuAEGQDHrxVBONARABP9byY6NBEA=",
          "dtype": "f8"
         },
         "yaxis": "y4"
        },
        {
         "boxmean": true,
         "marker": {
          "opacity": 0
         },
         "name": "4",
         "showlegend": false,
         "type": "box",
         "xaxis": "x4",
         "y": {
          "bdata": "s9KkFHR7CkCz0qQUdHsFQKBU+3Q85gdAaZHtfD81B0DzWZ4Hd+cFQKq3BrZKsARA",
          "dtype": "f8"
         },
         "yaxis": "y4"
        },
        {
         "hovertemplate": "fatigue_lvl: 4<br>response_time_mean: %{y}<br>Время: %{text}<extra></extra>",
         "marker": {
          "color": "black",
          "opacity": 0.4,
          "size": 5
         },
         "mode": "markers",
         "showlegend": false,
         "text": [
          "2025-02-25 00:41:09",
          "2025-02-25 22:18:41",
          "2025-03-08 22:45:03",
          "2025-03-09 23:02:26",
          "2025-03-12 23:28:22",
          "2025-03-14 22:27:42"
         ],
         "type": "scatter",
         "x": [
          "4",
          "4",
          "4",
          "4",
          "4",
          "4"
         ],
         "xaxis": "x4",
         "y": {
          "bdata": "s9KkFHR7CkCz0qQUdHsFQKBU+3Q85gdAaZHtfD81B0DzWZ4Hd+cFQKq3BrZKsARA",
          "dtype": "f8"
         },
         "yaxis": "y4"
        }
       ],
       "layout": {
        "annotations": [
         {
          "font": {
           "size": 16
          },
          "showarrow": false,
          "text": "respondent_1",
          "x": 0.225,
          "xanchor": "center",
          "xref": "paper",
          "y": 1,
          "yanchor": "bottom",
          "yref": "paper"
         },
         {
          "font": {
           "size": 16
          },
          "showarrow": false,
          "text": "respondent_2",
          "x": 0.775,
          "xanchor": "center",
          "xref": "paper",
          "y": 1,
          "yanchor": "bottom",
          "yref": "paper"
         },
         {
          "font": {
           "size": 16
          },
          "showarrow": false,
          "text": "respondent_3",
          "x": 0.225,
          "xanchor": "center",
          "xref": "paper",
          "y": 0.375,
          "yanchor": "bottom",
          "yref": "paper"
         },
         {
          "font": {
           "size": 16
          },
          "showarrow": false,
          "text": "respondent_4",
          "x": 0.775,
          "xanchor": "center",
          "xref": "paper",
          "y": 0.375,
          "yanchor": "bottom",
          "yref": "paper"
         }
        ],
        "font": {
         "size": 12
        },
        "height": 600,
        "margin": {
         "t": 100
        },
        "template": {
         "data": {
          "bar": [
           {
            "error_x": {
             "color": "#2a3f5f"
            },
            "error_y": {
             "color": "#2a3f5f"
            },
            "marker": {
             "line": {
              "color": "#E5ECF6",
              "width": 0.5
             },
             "pattern": {
              "fillmode": "overlay",
              "size": 10,
              "solidity": 0.2
             }
            },
            "type": "bar"
           }
          ],
          "barpolar": [
           {
            "marker": {
             "line": {
              "color": "#E5ECF6",
              "width": 0.5
             },
             "pattern": {
              "fillmode": "overlay",
              "size": 10,
              "solidity": 0.2
             }
            },
            "type": "barpolar"
           }
          ],
          "carpet": [
           {
            "aaxis": {
             "endlinecolor": "#2a3f5f",
             "gridcolor": "white",
             "linecolor": "white",
             "minorgridcolor": "white",
             "startlinecolor": "#2a3f5f"
            },
            "baxis": {
             "endlinecolor": "#2a3f5f",
             "gridcolor": "white",
             "linecolor": "white",
             "minorgridcolor": "white",
             "startlinecolor": "#2a3f5f"
            },
            "type": "carpet"
           }
          ],
          "choropleth": [
           {
            "colorbar": {
             "outlinewidth": 0,
             "ticks": ""
            },
            "type": "choropleth"
           }
          ],
          "contour": [
           {
            "colorbar": {
             "outlinewidth": 0,
             "ticks": ""
            },
            "colorscale": [
             [
              0,
              "#0d0887"
             ],
             [
              0.1111111111111111,
              "#46039f"
             ],
             [
              0.2222222222222222,
              "#7201a8"
             ],
             [
              0.3333333333333333,
              "#9c179e"
             ],
             [
              0.4444444444444444,
              "#bd3786"
             ],
             [
              0.5555555555555556,
              "#d8576b"
             ],
             [
              0.6666666666666666,
              "#ed7953"
             ],
             [
              0.7777777777777778,
              "#fb9f3a"
             ],
             [
              0.8888888888888888,
              "#fdca26"
             ],
             [
              1,
              "#f0f921"
             ]
            ],
            "type": "contour"
           }
          ],
          "contourcarpet": [
           {
            "colorbar": {
             "outlinewidth": 0,
             "ticks": ""
            },
            "type": "contourcarpet"
           }
          ],
          "heatmap": [
           {
            "colorbar": {
             "outlinewidth": 0,
             "ticks": ""
            },
            "colorscale": [
             [
              0,
              "#0d0887"
             ],
             [
              0.1111111111111111,
              "#46039f"
             ],
             [
              0.2222222222222222,
              "#7201a8"
             ],
             [
              0.3333333333333333,
              "#9c179e"
             ],
             [
              0.4444444444444444,
              "#bd3786"
             ],
             [
              0.5555555555555556,
              "#d8576b"
             ],
             [
              0.6666666666666666,
              "#ed7953"
             ],
             [
              0.7777777777777778,
              "#fb9f3a"
             ],
             [
              0.8888888888888888,
              "#fdca26"
             ],
             [
              1,
              "#f0f921"
             ]
            ],
            "type": "heatmap"
           }
          ],
          "histogram": [
           {
            "marker": {
             "pattern": {
              "fillmode": "overlay",
              "size": 10,
              "solidity": 0.2
             }
            },
            "type": "histogram"
           }
          ],
          "histogram2d": [
           {
            "colorbar": {
             "outlinewidth": 0,
             "ticks": ""
            },
            "colorscale": [
             [
              0,
              "#0d0887"
             ],
             [
              0.1111111111111111,
              "#46039f"
             ],
             [
              0.2222222222222222,
              "#7201a8"
             ],
             [
              0.3333333333333333,
              "#9c179e"
             ],
             [
              0.4444444444444444,
              "#bd3786"
             ],
             [
              0.5555555555555556,
              "#d8576b"
             ],
             [
              0.6666666666666666,
              "#ed7953"
             ],
             [
              0.7777777777777778,
              "#fb9f3a"
             ],
             [
              0.8888888888888888,
              "#fdca26"
             ],
             [
              1,
              "#f0f921"
             ]
            ],
            "type": "histogram2d"
           }
          ],
          "histogram2dcontour": [
           {
            "colorbar": {
             "outlinewidth": 0,
             "ticks": ""
            },
            "colorscale": [
             [
              0,
              "#0d0887"
             ],
             [
              0.1111111111111111,
              "#46039f"
             ],
             [
              0.2222222222222222,
              "#7201a8"
             ],
             [
              0.3333333333333333,
              "#9c179e"
             ],
             [
              0.4444444444444444,
              "#bd3786"
             ],
             [
              0.5555555555555556,
              "#d8576b"
             ],
             [
              0.6666666666666666,
              "#ed7953"
             ],
             [
              0.7777777777777778,
              "#fb9f3a"
             ],
             [
              0.8888888888888888,
              "#fdca26"
             ],
             [
              1,
              "#f0f921"
             ]
            ],
            "type": "histogram2dcontour"
           }
          ],
          "mesh3d": [
           {
            "colorbar": {
             "outlinewidth": 0,
             "ticks": ""
            },
            "type": "mesh3d"
           }
          ],
          "parcoords": [
           {
            "line": {
             "colorbar": {
              "outlinewidth": 0,
              "ticks": ""
             }
            },
            "type": "parcoords"
           }
          ],
          "pie": [
           {
            "automargin": true,
            "type": "pie"
           }
          ],
          "scatter": [
           {
            "fillpattern": {
             "fillmode": "overlay",
             "size": 10,
             "solidity": 0.2
            },
            "type": "scatter"
           }
          ],
          "scatter3d": [
           {
            "line": {
             "colorbar": {
              "outlinewidth": 0,
              "ticks": ""
             }
            },
            "marker": {
             "colorbar": {
              "outlinewidth": 0,
              "ticks": ""
             }
            },
            "type": "scatter3d"
           }
          ],
          "scattercarpet": [
           {
            "marker": {
             "colorbar": {
              "outlinewidth": 0,
              "ticks": ""
             }
            },
            "type": "scattercarpet"
           }
          ],
          "scattergeo": [
           {
            "marker": {
             "colorbar": {
              "outlinewidth": 0,
              "ticks": ""
             }
            },
            "type": "scattergeo"
           }
          ],
          "scattergl": [
           {
            "marker": {
             "colorbar": {
              "outlinewidth": 0,
              "ticks": ""
             }
            },
            "type": "scattergl"
           }
          ],
          "scattermap": [
           {
            "marker": {
             "colorbar": {
              "outlinewidth": 0,
              "ticks": ""
             }
            },
            "type": "scattermap"
           }
          ],
          "scattermapbox": [
           {
            "marker": {
             "colorbar": {
              "outlinewidth": 0,
              "ticks": ""
             }
            },
            "type": "scattermapbox"
           }
          ],
          "scatterpolar": [
           {
            "marker": {
             "colorbar": {
              "outlinewidth": 0,
              "ticks": ""
             }
            },
            "type": "scatterpolar"
           }
          ],
          "scatterpolargl": [
           {
            "marker": {
             "colorbar": {
              "outlinewidth": 0,
              "ticks": ""
             }
            },
            "type": "scatterpolargl"
           }
          ],
          "scatterternary": [
           {
            "marker": {
             "colorbar": {
              "outlinewidth": 0,
              "ticks": ""
             }
            },
            "type": "scatterternary"
           }
          ],
          "surface": [
           {
            "colorbar": {
             "outlinewidth": 0,
             "ticks": ""
            },
            "colorscale": [
             [
              0,
              "#0d0887"
             ],
             [
              0.1111111111111111,
              "#46039f"
             ],
             [
              0.2222222222222222,
              "#7201a8"
             ],
             [
              0.3333333333333333,
              "#9c179e"
             ],
             [
              0.4444444444444444,
              "#bd3786"
             ],
             [
              0.5555555555555556,
              "#d8576b"
             ],
             [
              0.6666666666666666,
              "#ed7953"
             ],
             [
              0.7777777777777778,
              "#fb9f3a"
             ],
             [
              0.8888888888888888,
              "#fdca26"
             ],
             [
              1,
              "#f0f921"
             ]
            ],
            "type": "surface"
           }
          ],
          "table": [
           {
            "cells": {
             "fill": {
              "color": "#EBF0F8"
             },
             "line": {
              "color": "white"
             }
            },
            "header": {
             "fill": {
              "color": "#C8D4E3"
             },
             "line": {
              "color": "white"
             }
            },
            "type": "table"
           }
          ]
         },
         "layout": {
          "annotationdefaults": {
           "arrowcolor": "#2a3f5f",
           "arrowhead": 0,
           "arrowwidth": 1
          },
          "autotypenumbers": "strict",
          "coloraxis": {
           "colorbar": {
            "outlinewidth": 0,
            "ticks": ""
           }
          },
          "colorscale": {
           "diverging": [
            [
             0,
             "#8e0152"
            ],
            [
             0.1,
             "#c51b7d"
            ],
            [
             0.2,
             "#de77ae"
            ],
            [
             0.3,
             "#f1b6da"
            ],
            [
             0.4,
             "#fde0ef"
            ],
            [
             0.5,
             "#f7f7f7"
            ],
            [
             0.6,
             "#e6f5d0"
            ],
            [
             0.7,
             "#b8e186"
            ],
            [
             0.8,
             "#7fbc41"
            ],
            [
             0.9,
             "#4d9221"
            ],
            [
             1,
             "#276419"
            ]
           ],
           "sequential": [
            [
             0,
             "#0d0887"
            ],
            [
             0.1111111111111111,
             "#46039f"
            ],
            [
             0.2222222222222222,
             "#7201a8"
            ],
            [
             0.3333333333333333,
             "#9c179e"
            ],
            [
             0.4444444444444444,
             "#bd3786"
            ],
            [
             0.5555555555555556,
             "#d8576b"
            ],
            [
             0.6666666666666666,
             "#ed7953"
            ],
            [
             0.7777777777777778,
             "#fb9f3a"
            ],
            [
             0.8888888888888888,
             "#fdca26"
            ],
            [
             1,
             "#f0f921"
            ]
           ],
           "sequentialminus": [
            [
             0,
             "#0d0887"
            ],
            [
             0.1111111111111111,
             "#46039f"
            ],
            [
             0.2222222222222222,
             "#7201a8"
            ],
            [
             0.3333333333333333,
             "#9c179e"
            ],
            [
             0.4444444444444444,
             "#bd3786"
            ],
            [
             0.5555555555555556,
             "#d8576b"
            ],
            [
             0.6666666666666666,
             "#ed7953"
            ],
            [
             0.7777777777777778,
             "#fb9f3a"
            ],
            [
             0.8888888888888888,
             "#fdca26"
            ],
            [
             1,
             "#f0f921"
            ]
           ]
          },
          "colorway": [
           "#636efa",
           "#EF553B",
           "#00cc96",
           "#ab63fa",
           "#FFA15A",
           "#19d3f3",
           "#FF6692",
           "#B6E880",
           "#FF97FF",
           "#FECB52"
          ],
          "font": {
           "color": "#2a3f5f"
          },
          "geo": {
           "bgcolor": "white",
           "lakecolor": "white",
           "landcolor": "#E5ECF6",
           "showlakes": true,
           "showland": true,
           "subunitcolor": "white"
          },
          "hoverlabel": {
           "align": "left"
          },
          "hovermode": "closest",
          "mapbox": {
           "style": "light"
          },
          "paper_bgcolor": "white",
          "plot_bgcolor": "#E5ECF6",
          "polar": {
           "angularaxis": {
            "gridcolor": "white",
            "linecolor": "white",
            "ticks": ""
           },
           "bgcolor": "#E5ECF6",
           "radialaxis": {
            "gridcolor": "white",
            "linecolor": "white",
            "ticks": ""
           }
          },
          "scene": {
           "xaxis": {
            "backgroundcolor": "#E5ECF6",
            "gridcolor": "white",
            "gridwidth": 2,
            "linecolor": "white",
            "showbackground": true,
            "ticks": "",
            "zerolinecolor": "white"
           },
           "yaxis": {
            "backgroundcolor": "#E5ECF6",
            "gridcolor": "white",
            "gridwidth": 2,
            "linecolor": "white",
            "showbackground": true,
            "ticks": "",
            "zerolinecolor": "white"
           },
           "zaxis": {
            "backgroundcolor": "#E5ECF6",
            "gridcolor": "white",
            "gridwidth": 2,
            "linecolor": "white",
            "showbackground": true,
            "ticks": "",
            "zerolinecolor": "white"
           }
          },
          "shapedefaults": {
           "line": {
            "color": "#2a3f5f"
           }
          },
          "ternary": {
           "aaxis": {
            "gridcolor": "white",
            "linecolor": "white",
            "ticks": ""
           },
           "baxis": {
            "gridcolor": "white",
            "linecolor": "white",
            "ticks": ""
           },
           "bgcolor": "#E5ECF6",
           "caxis": {
            "gridcolor": "white",
            "linecolor": "white",
            "ticks": ""
           }
          },
          "title": {
           "x": 0.05
          },
          "xaxis": {
           "automargin": true,
           "gridcolor": "white",
           "linecolor": "white",
           "ticks": "",
           "title": {
            "standoff": 15
           },
           "zerolinecolor": "white",
           "zerolinewidth": 2
          },
          "yaxis": {
           "automargin": true,
           "gridcolor": "white",
           "linecolor": "white",
           "ticks": "",
           "title": {
            "standoff": 15
           },
           "zerolinecolor": "white",
           "zerolinewidth": 2
          }
         }
        },
        "title": {
         "text": "Распределения метрик по группам fatigue_lvl по метрике response_time_mean"
        },
        "width": 1200,
        "xaxis": {
         "anchor": "y",
         "categoryarray": [
          "1",
          "2",
          "3",
          "4"
         ],
         "categoryorder": "array",
         "domain": [
          0,
          0.45
         ],
         "matches": "x3",
         "showticklabels": false,
         "title": {
          "text": "fatigue_lvl"
         }
        },
        "xaxis2": {
         "anchor": "y2",
         "categoryarray": [
          "1",
          "2",
          "3",
          "4"
         ],
         "categoryorder": "array",
         "domain": [
          0.55,
          1
         ],
         "matches": "x4",
         "showticklabels": false,
         "title": {
          "text": "fatigue_lvl"
         }
        },
        "xaxis3": {
         "anchor": "y3",
         "domain": [
          0,
          0.45
         ],
         "title": {
          "text": "fatigue_lvl"
         }
        },
        "xaxis4": {
         "anchor": "y4",
         "domain": [
          0.55,
          1
         ],
         "title": {
          "text": "fatigue_lvl"
         }
        },
        "yaxis": {
         "anchor": "x",
         "domain": [
          0.625,
          1
         ],
         "title": {
          "text": "response_time_mean"
         }
        },
        "yaxis2": {
         "anchor": "x2",
         "domain": [
          0.625,
          1
         ],
         "title": {
          "text": "response_time_mean"
         }
        },
        "yaxis3": {
         "anchor": "x3",
         "domain": [
          0,
          0.375
         ],
         "title": {
          "text": "response_time_mean"
         }
        },
        "yaxis4": {
         "anchor": "x4",
         "domain": [
          0,
          0.375
         ],
         "title": {
          "text": "response_time_mean"
         }
        }
       }
      }
     },
     "metadata": {},
     "output_type": "display_data"
    }
   ],
   "source": [
    "import plotly.graph_objects as go\n",
    "from plotly.subplots import make_subplots\n",
    "\n",
    "q_df['f_score_window'] = q_df['score'] // 5 * 5\n",
    "metric = 'response_time_mean'\n",
    "group_col = 'fatigue_lvl'\n",
    "\n",
    "rows, cols = 2, 2\n",
    "fig = make_subplots(rows=rows, cols=cols, subplot_titles=paths, shared_xaxes=True)\n",
    "\n",
    "for i, name in enumerate(paths):\n",
    "    row = i // cols + 1\n",
    "    col = i % cols + 1\n",
    "\n",
    "    for group_value in sorted(q_df[group_col].dropna().unique()):\n",
    "        group_df = q_df[(q_df[group_col] == group_value) & (q_df['id'] == name)]\n",
    "\n",
    "        fig.add_trace(\n",
    "            go.Box(\n",
    "                y=group_df[metric],\n",
    "                name=str(group_value),\n",
    "                boxmean=True,\n",
    "                marker=dict(opacity=0),\n",
    "                showlegend=False\n",
    "            ),\n",
    "            row=row, col=col\n",
    "        )\n",
    "\n",
    "        fig.add_trace(\n",
    "            go.Scatter(\n",
    "                x=[str(group_value)] * len(group_df),\n",
    "                y=group_df[metric],\n",
    "                mode='markers',\n",
    "                marker=dict(size=5, color='black', opacity=0.4),\n",
    "                text=group_df['datetime'].astype(str),\n",
    "                hovertemplate=(\n",
    "                    f\"{group_col}: {group_value}<br>\" +\n",
    "                    f\"{metric}: %{{y}}<br>\" +\n",
    "                    \"Время: %{text}<extra></extra>\"\n",
    "                ),\n",
    "                showlegend=False\n",
    "            ),\n",
    "            row=row, col=col\n",
    "        )\n",
    "\n",
    "ordered_groups = sorted(q_df[group_col].dropna().unique())\n",
    "fig.update_layout(\n",
    "    xaxis=dict(categoryorder='array', categoryarray=[str(v) for v in ordered_groups]),\n",
    "    xaxis2=dict(categoryorder='array', categoryarray=[str(v) for v in ordered_groups])\n",
    ")\n",
    "\n",
    "fig.update_layout(\n",
    "    height=600,\n",
    "    width=1200,\n",
    "    title=f\"Распределения метрик по группам {group_col} по метрике {metric}\",\n",
    "    margin=dict(t=100),\n",
    "    font=dict(size=12)\n",
    ")\n",
    "\n",
    "for i in range(1, rows * cols + 1):\n",
    "    fig.update_xaxes(title_text=group_col, row=(i - 1) // cols + 1, col=(i - 1) % cols + 1)\n",
    "    fig.update_yaxes(title_text=metric, row=(i - 1) // cols + 1, col=(i - 1) % cols + 1)\n",
    "\n",
    "fig.show()\n"
   ]
  },
  {
   "cell_type": "code",
   "execution_count": 49,
   "metadata": {},
   "outputs": [
    {
     "data": {
      "application/vnd.plotly.v1+json": {
       "config": {
        "plotlyServerURL": "https://plot.ly"
       },
       "data": [
        {
         "boxmean": true,
         "marker": {
          "opacity": 0
         },
         "name": "0.0",
         "showlegend": false,
         "type": "box",
         "xaxis": "x",
         "y": {
          "bdata": "DHva4a/JCEDpfeNrz6wJQBPQRNjwdAhAyCk6ksv/CEAD7KNTVz4GQK3YX3ZPngJAiv1l9+RhB0CWlSaloFsDQAN4CyQofgJA",
          "dtype": "f8"
         },
         "yaxis": "y"
        },
        {
         "hovertemplate": "cog_load_flg: 0.0<br>response_time_mean: %{y}<br>Время: %{text}<extra></extra>",
         "marker": {
          "color": "black",
          "opacity": 0.4,
          "size": 5
         },
         "mode": "markers",
         "showlegend": false,
         "text": [
          "2025-03-10 10:09:26",
          "2025-03-11 08:55:58",
          "2025-03-12 08:48:30",
          "2025-03-12 16:04:18",
          "2025-03-12 20:38:30",
          "2025-03-13 09:20:31",
          "2025-03-13 12:26:28",
          "2025-03-13 14:17:22",
          "2025-03-15 17:17:19"
         ],
         "type": "scatter",
         "x": [
          "0.0",
          "0.0",
          "0.0",
          "0.0",
          "0.0",
          "0.0",
          "0.0",
          "0.0",
          "0.0"
         ],
         "xaxis": "x",
         "y": {
          "bdata": "DHva4a/JCEDpfeNrz6wJQBPQRNjwdAhAyCk6ksv/CEAD7KNTVz4GQK3YX3ZPngJAiv1l9+RhB0CWlSaloFsDQAN4CyQofgJA",
          "dtype": "f8"
         },
         "yaxis": "y"
        },
        {
         "boxmean": true,
         "marker": {
          "opacity": 0
         },
         "name": "1.0",
         "showlegend": false,
         "type": "box",
         "xaxis": "x",
         "y": {
          "bdata": "OBCSBUxgCECWsgxxrAsJQKTk1TkG5AdAWRe30QBeA0D8Uj9vKlIEQNatnpPetwNA2J5ZEqAmAkA=",
          "dtype": "f8"
         },
         "yaxis": "y"
        },
        {
         "hovertemplate": "cog_load_flg: 1.0<br>response_time_mean: %{y}<br>Время: %{text}<extra></extra>",
         "marker": {
          "color": "black",
          "opacity": 0.4,
          "size": 5
         },
         "mode": "markers",
         "showlegend": false,
         "text": [
          "2025-03-10 15:39:44",
          "2025-03-10 19:27:25",
          "2025-03-10 20:39:20",
          "2025-03-11 17:38:58",
          "2025-03-13 22:48:59",
          "2025-03-14 13:41:47",
          "2025-03-14 15:19:17"
         ],
         "type": "scatter",
         "x": [
          "1.0",
          "1.0",
          "1.0",
          "1.0",
          "1.0",
          "1.0",
          "1.0"
         ],
         "xaxis": "x",
         "y": {
          "bdata": "OBCSBUxgCECWsgxxrAsJQKTk1TkG5AdAWRe30QBeA0D8Uj9vKlIEQNatnpPetwNA2J5ZEqAmAkA=",
          "dtype": "f8"
         },
         "yaxis": "y"
        },
        {
         "boxmean": true,
         "marker": {
          "opacity": 0
         },
         "name": "0.0",
         "showlegend": false,
         "type": "box",
         "xaxis": "x2",
         "y": {
          "bdata": "5A8GnntPEkDGpwAYzyASQM1YNJ2dDA9Az72HS467DEApRMAhVCkMQBY1mIbhIwxAdhppqbwdDUAgQfFjzN0MQJqUgm4vKRFA",
          "dtype": "f8"
         },
         "yaxis": "y2"
        },
        {
         "hovertemplate": "cog_load_flg: 0.0<br>response_time_mean: %{y}<br>Время: %{text}<extra></extra>",
         "marker": {
          "color": "black",
          "opacity": 0.4,
          "size": 5
         },
         "mode": "markers",
         "showlegend": false,
         "text": [
          "2025-03-10 10:16:41",
          "2025-03-10 12:36:03",
          "2025-03-11 11:11:19",
          "2025-03-11 12:46:55",
          "2025-03-12 13:15:24",
          "2025-03-12 16:04:02",
          "2025-03-13 10:07:57",
          "2025-03-14 12:11:07",
          "2025-03-14 14:12:15"
         ],
         "type": "scatter",
         "x": [
          "0.0",
          "0.0",
          "0.0",
          "0.0",
          "0.0",
          "0.0",
          "0.0",
          "0.0",
          "0.0"
         ],
         "xaxis": "x2",
         "y": {
          "bdata": "5A8GnntPEkDGpwAYzyASQM1YNJ2dDA9Az72HS467DEApRMAhVCkMQBY1mIbhIwxAdhppqbwdDUAgQfFjzN0MQJqUgm4vKRFA",
          "dtype": "f8"
         },
         "yaxis": "y2"
        },
        {
         "boxmean": true,
         "marker": {
          "opacity": 0
         },
         "name": "1.0",
         "showlegend": false,
         "type": "box",
         "xaxis": "x2",
         "y": {
          "bdata": "cJS8OsfAEUBIFjCBW3cOQP9g4Ln38A1ATP28qUhFEECztb5IaAsQQKjjMQOVcQ9A",
          "dtype": "f8"
         },
         "yaxis": "y2"
        },
        {
         "hovertemplate": "cog_load_flg: 1.0<br>response_time_mean: %{y}<br>Время: %{text}<extra></extra>",
         "marker": {
          "color": "black",
          "opacity": 0.4,
          "size": 5
         },
         "mode": "markers",
         "showlegend": false,
         "text": [
          "2025-03-10 15:32:56",
          "2025-03-10 19:32:40",
          "2025-03-11 21:06:16",
          "2025-03-12 20:30:44",
          "2025-03-13 21:45:02",
          "2025-03-15 16:05:01"
         ],
         "type": "scatter",
         "x": [
          "1.0",
          "1.0",
          "1.0",
          "1.0",
          "1.0",
          "1.0"
         ],
         "xaxis": "x2",
         "y": {
          "bdata": "cJS8OsfAEUBIFjCBW3cOQP9g4Ln38A1ATP28qUhFEECztb5IaAsQQKjjMQOVcQ9A",
          "dtype": "f8"
         },
         "yaxis": "y2"
        },
        {
         "boxmean": true,
         "marker": {
          "opacity": 0
         },
         "name": "0.0",
         "showlegend": false,
         "type": "box",
         "xaxis": "x3",
         "y": {
          "bdata": "6pCb4Qb8FkDNHmgFhuwZQGCTNeoh2hFA",
          "dtype": "f8"
         },
         "yaxis": "y3"
        },
        {
         "hovertemplate": "cog_load_flg: 0.0<br>response_time_mean: %{y}<br>Время: %{text}<extra></extra>",
         "marker": {
          "color": "black",
          "opacity": 0.4,
          "size": 5
         },
         "mode": "markers",
         "showlegend": false,
         "text": [
          "2025-03-11 07:27:25",
          "2025-03-13 09:44:33",
          "2025-03-19 07:48:21"
         ],
         "type": "scatter",
         "x": [
          "0.0",
          "0.0",
          "0.0"
         ],
         "xaxis": "x3",
         "y": {
          "bdata": "6pCb4Qb8FkDNHmgFhuwZQGCTNeoh2hFA",
          "dtype": "f8"
         },
         "yaxis": "y3"
        },
        {
         "boxmean": true,
         "marker": {
          "opacity": 0
         },
         "name": "1.0",
         "showlegend": false,
         "type": "box",
         "xaxis": "x3",
         "y": {
          "bdata": "OrTIdr4fFUC3QILix1gXQOjZrPpc7RBARnwnZr3YEUCUTbnCu9wQQA==",
          "dtype": "f8"
         },
         "yaxis": "y3"
        },
        {
         "hovertemplate": "cog_load_flg: 1.0<br>response_time_mean: %{y}<br>Время: %{text}<extra></extra>",
         "marker": {
          "color": "black",
          "opacity": 0.4,
          "size": 5
         },
         "mode": "markers",
         "showlegend": false,
         "text": [
          "2025-03-12 15:46:20",
          "2025-03-17 13:17:20",
          "2025-03-17 13:23:49",
          "2025-03-17 21:08:52",
          "2025-03-24 20:28:12"
         ],
         "type": "scatter",
         "x": [
          "1.0",
          "1.0",
          "1.0",
          "1.0",
          "1.0"
         ],
         "xaxis": "x3",
         "y": {
          "bdata": "OrTIdr4fFUC3QILix1gXQOjZrPpc7RBARnwnZr3YEUCUTbnCu9wQQA==",
          "dtype": "f8"
         },
         "yaxis": "y3"
        },
        {
         "boxmean": true,
         "marker": {
          "opacity": 0
         },
         "name": "0.0",
         "showlegend": false,
         "type": "box",
         "xaxis": "x4",
         "y": {
          "bdata": "M4XOa+ySBkApP6n26XgIQNjTDn9NVgdAzR5oBYasCUAcWmQ7308KQKBU+3Q85gdARfC/lezYCECk/KTap+MEQIhjXdxGAwNArwPnjCjtBkA/HY8ZqAwFQP32deCckQdAHLEWnwLgBEAEBHP0+L0DQG0hyEEJswlA8nub/uxHBUA=",
          "dtype": "f8"
         },
         "yaxis": "y4"
        },
        {
         "hovertemplate": "cog_load_flg: 0.0<br>response_time_mean: %{y}<br>Время: %{text}<extra></extra>",
         "marker": {
          "color": "black",
          "opacity": 0.4,
          "size": 5
         },
         "mode": "markers",
         "showlegend": false,
         "text": [
          "2025-02-25 10:30:51",
          "2025-02-26 12:05:35",
          "2025-02-27 08:25:25",
          "2025-03-03 10:20:24",
          "2025-03-08 09:46:41",
          "2025-03-08 22:45:03",
          "2025-03-09 13:15:30",
          "2025-03-10 10:10:48",
          "2025-03-10 12:22:53",
          "2025-03-11 10:14:17",
          "2025-03-12 10:12:40",
          "2025-03-13 09:59:37",
          "2025-03-13 18:34:42",
          "2025-03-14 10:12:54",
          "2025-03-15 16:05:27",
          "2025-03-16 00:58:47"
         ],
         "type": "scatter",
         "x": [
          "0.0",
          "0.0",
          "0.0",
          "0.0",
          "0.0",
          "0.0",
          "0.0",
          "0.0",
          "0.0",
          "0.0",
          "0.0",
          "0.0",
          "0.0",
          "0.0",
          "0.0",
          "0.0"
         ],
         "xaxis": "x4",
         "y": {
          "bdata": "M4XOa+ySBkApP6n26XgIQNjTDn9NVgdAzR5oBYasCUAcWmQ7308KQKBU+3Q85gdARfC/lezYCECk/KTap+MEQIhjXdxGAwNArwPnjCjtBkA/HY8ZqAwFQP32deCckQdAHLEWnwLgBEAEBHP0+L0DQG0hyEEJswlA8nub/uxHBUA=",
          "dtype": "f8"
         },
         "yaxis": "y4"
        },
        {
         "boxmean": true,
         "marker": {
          "opacity": 0
         },
         "name": "1.0",
         "showlegend": false,
         "type": "box",
         "xaxis": "x4",
         "y": {
          "bdata": "s9KkFHR7CkCz0qQUdHsFQNyAzw8jhAdAaZHtfD81B0DcnbXbLrQFQKg65Ga4AQZAPT+MEB7tBECXrfVFQlsFQDHrxVBONARA81meB3fnBUDF4cyv5oAFQAT/W8mOjQRAjE8BMJ5BBkCqtwa2SrAEQA==",
          "dtype": "f8"
         },
         "yaxis": "y4"
        },
        {
         "hovertemplate": "cog_load_flg: 1.0<br>response_time_mean: %{y}<br>Время: %{text}<extra></extra>",
         "marker": {
          "color": "black",
          "opacity": 0.4,
          "size": 5
         },
         "mode": "markers",
         "showlegend": false,
         "text": [
          "2025-02-25 00:41:09",
          "2025-02-25 22:18:41",
          "2025-02-26 22:16:33",
          "2025-03-09 23:02:26",
          "2025-03-10 15:47:07",
          "2025-03-10 22:37:35",
          "2025-03-11 12:17:35",
          "2025-03-11 14:18:40",
          "2025-03-11 23:49:20",
          "2025-03-12 23:28:22",
          "2025-03-13 15:01:10",
          "2025-03-14 00:10:40",
          "2025-03-14 13:30:29",
          "2025-03-14 22:27:42"
         ],
         "type": "scatter",
         "x": [
          "1.0",
          "1.0",
          "1.0",
          "1.0",
          "1.0",
          "1.0",
          "1.0",
          "1.0",
          "1.0",
          "1.0",
          "1.0",
          "1.0",
          "1.0",
          "1.0"
         ],
         "xaxis": "x4",
         "y": {
          "bdata": "s9KkFHR7CkCz0qQUdHsFQNyAzw8jhAdAaZHtfD81B0DcnbXbLrQFQKg65Ga4AQZAPT+MEB7tBECXrfVFQlsFQDHrxVBONARA81meB3fnBUDF4cyv5oAFQAT/W8mOjQRAjE8BMJ5BBkCqtwa2SrAEQA==",
          "dtype": "f8"
         },
         "yaxis": "y4"
        }
       ],
       "layout": {
        "annotations": [
         {
          "font": {
           "size": 16
          },
          "showarrow": false,
          "text": "respondent_1",
          "x": 0.225,
          "xanchor": "center",
          "xref": "paper",
          "y": 1,
          "yanchor": "bottom",
          "yref": "paper"
         },
         {
          "font": {
           "size": 16
          },
          "showarrow": false,
          "text": "respondent_2",
          "x": 0.775,
          "xanchor": "center",
          "xref": "paper",
          "y": 1,
          "yanchor": "bottom",
          "yref": "paper"
         },
         {
          "font": {
           "size": 16
          },
          "showarrow": false,
          "text": "respondent_3",
          "x": 0.225,
          "xanchor": "center",
          "xref": "paper",
          "y": 0.375,
          "yanchor": "bottom",
          "yref": "paper"
         },
         {
          "font": {
           "size": 16
          },
          "showarrow": false,
          "text": "respondent_4",
          "x": 0.775,
          "xanchor": "center",
          "xref": "paper",
          "y": 0.375,
          "yanchor": "bottom",
          "yref": "paper"
         }
        ],
        "font": {
         "size": 12
        },
        "height": 600,
        "margin": {
         "t": 100
        },
        "template": {
         "data": {
          "bar": [
           {
            "error_x": {
             "color": "#2a3f5f"
            },
            "error_y": {
             "color": "#2a3f5f"
            },
            "marker": {
             "line": {
              "color": "#E5ECF6",
              "width": 0.5
             },
             "pattern": {
              "fillmode": "overlay",
              "size": 10,
              "solidity": 0.2
             }
            },
            "type": "bar"
           }
          ],
          "barpolar": [
           {
            "marker": {
             "line": {
              "color": "#E5ECF6",
              "width": 0.5
             },
             "pattern": {
              "fillmode": "overlay",
              "size": 10,
              "solidity": 0.2
             }
            },
            "type": "barpolar"
           }
          ],
          "carpet": [
           {
            "aaxis": {
             "endlinecolor": "#2a3f5f",
             "gridcolor": "white",
             "linecolor": "white",
             "minorgridcolor": "white",
             "startlinecolor": "#2a3f5f"
            },
            "baxis": {
             "endlinecolor": "#2a3f5f",
             "gridcolor": "white",
             "linecolor": "white",
             "minorgridcolor": "white",
             "startlinecolor": "#2a3f5f"
            },
            "type": "carpet"
           }
          ],
          "choropleth": [
           {
            "colorbar": {
             "outlinewidth": 0,
             "ticks": ""
            },
            "type": "choropleth"
           }
          ],
          "contour": [
           {
            "colorbar": {
             "outlinewidth": 0,
             "ticks": ""
            },
            "colorscale": [
             [
              0,
              "#0d0887"
             ],
             [
              0.1111111111111111,
              "#46039f"
             ],
             [
              0.2222222222222222,
              "#7201a8"
             ],
             [
              0.3333333333333333,
              "#9c179e"
             ],
             [
              0.4444444444444444,
              "#bd3786"
             ],
             [
              0.5555555555555556,
              "#d8576b"
             ],
             [
              0.6666666666666666,
              "#ed7953"
             ],
             [
              0.7777777777777778,
              "#fb9f3a"
             ],
             [
              0.8888888888888888,
              "#fdca26"
             ],
             [
              1,
              "#f0f921"
             ]
            ],
            "type": "contour"
           }
          ],
          "contourcarpet": [
           {
            "colorbar": {
             "outlinewidth": 0,
             "ticks": ""
            },
            "type": "contourcarpet"
           }
          ],
          "heatmap": [
           {
            "colorbar": {
             "outlinewidth": 0,
             "ticks": ""
            },
            "colorscale": [
             [
              0,
              "#0d0887"
             ],
             [
              0.1111111111111111,
              "#46039f"
             ],
             [
              0.2222222222222222,
              "#7201a8"
             ],
             [
              0.3333333333333333,
              "#9c179e"
             ],
             [
              0.4444444444444444,
              "#bd3786"
             ],
             [
              0.5555555555555556,
              "#d8576b"
             ],
             [
              0.6666666666666666,
              "#ed7953"
             ],
             [
              0.7777777777777778,
              "#fb9f3a"
             ],
             [
              0.8888888888888888,
              "#fdca26"
             ],
             [
              1,
              "#f0f921"
             ]
            ],
            "type": "heatmap"
           }
          ],
          "histogram": [
           {
            "marker": {
             "pattern": {
              "fillmode": "overlay",
              "size": 10,
              "solidity": 0.2
             }
            },
            "type": "histogram"
           }
          ],
          "histogram2d": [
           {
            "colorbar": {
             "outlinewidth": 0,
             "ticks": ""
            },
            "colorscale": [
             [
              0,
              "#0d0887"
             ],
             [
              0.1111111111111111,
              "#46039f"
             ],
             [
              0.2222222222222222,
              "#7201a8"
             ],
             [
              0.3333333333333333,
              "#9c179e"
             ],
             [
              0.4444444444444444,
              "#bd3786"
             ],
             [
              0.5555555555555556,
              "#d8576b"
             ],
             [
              0.6666666666666666,
              "#ed7953"
             ],
             [
              0.7777777777777778,
              "#fb9f3a"
             ],
             [
              0.8888888888888888,
              "#fdca26"
             ],
             [
              1,
              "#f0f921"
             ]
            ],
            "type": "histogram2d"
           }
          ],
          "histogram2dcontour": [
           {
            "colorbar": {
             "outlinewidth": 0,
             "ticks": ""
            },
            "colorscale": [
             [
              0,
              "#0d0887"
             ],
             [
              0.1111111111111111,
              "#46039f"
             ],
             [
              0.2222222222222222,
              "#7201a8"
             ],
             [
              0.3333333333333333,
              "#9c179e"
             ],
             [
              0.4444444444444444,
              "#bd3786"
             ],
             [
              0.5555555555555556,
              "#d8576b"
             ],
             [
              0.6666666666666666,
              "#ed7953"
             ],
             [
              0.7777777777777778,
              "#fb9f3a"
             ],
             [
              0.8888888888888888,
              "#fdca26"
             ],
             [
              1,
              "#f0f921"
             ]
            ],
            "type": "histogram2dcontour"
           }
          ],
          "mesh3d": [
           {
            "colorbar": {
             "outlinewidth": 0,
             "ticks": ""
            },
            "type": "mesh3d"
           }
          ],
          "parcoords": [
           {
            "line": {
             "colorbar": {
              "outlinewidth": 0,
              "ticks": ""
             }
            },
            "type": "parcoords"
           }
          ],
          "pie": [
           {
            "automargin": true,
            "type": "pie"
           }
          ],
          "scatter": [
           {
            "fillpattern": {
             "fillmode": "overlay",
             "size": 10,
             "solidity": 0.2
            },
            "type": "scatter"
           }
          ],
          "scatter3d": [
           {
            "line": {
             "colorbar": {
              "outlinewidth": 0,
              "ticks": ""
             }
            },
            "marker": {
             "colorbar": {
              "outlinewidth": 0,
              "ticks": ""
             }
            },
            "type": "scatter3d"
           }
          ],
          "scattercarpet": [
           {
            "marker": {
             "colorbar": {
              "outlinewidth": 0,
              "ticks": ""
             }
            },
            "type": "scattercarpet"
           }
          ],
          "scattergeo": [
           {
            "marker": {
             "colorbar": {
              "outlinewidth": 0,
              "ticks": ""
             }
            },
            "type": "scattergeo"
           }
          ],
          "scattergl": [
           {
            "marker": {
             "colorbar": {
              "outlinewidth": 0,
              "ticks": ""
             }
            },
            "type": "scattergl"
           }
          ],
          "scattermap": [
           {
            "marker": {
             "colorbar": {
              "outlinewidth": 0,
              "ticks": ""
             }
            },
            "type": "scattermap"
           }
          ],
          "scattermapbox": [
           {
            "marker": {
             "colorbar": {
              "outlinewidth": 0,
              "ticks": ""
             }
            },
            "type": "scattermapbox"
           }
          ],
          "scatterpolar": [
           {
            "marker": {
             "colorbar": {
              "outlinewidth": 0,
              "ticks": ""
             }
            },
            "type": "scatterpolar"
           }
          ],
          "scatterpolargl": [
           {
            "marker": {
             "colorbar": {
              "outlinewidth": 0,
              "ticks": ""
             }
            },
            "type": "scatterpolargl"
           }
          ],
          "scatterternary": [
           {
            "marker": {
             "colorbar": {
              "outlinewidth": 0,
              "ticks": ""
             }
            },
            "type": "scatterternary"
           }
          ],
          "surface": [
           {
            "colorbar": {
             "outlinewidth": 0,
             "ticks": ""
            },
            "colorscale": [
             [
              0,
              "#0d0887"
             ],
             [
              0.1111111111111111,
              "#46039f"
             ],
             [
              0.2222222222222222,
              "#7201a8"
             ],
             [
              0.3333333333333333,
              "#9c179e"
             ],
             [
              0.4444444444444444,
              "#bd3786"
             ],
             [
              0.5555555555555556,
              "#d8576b"
             ],
             [
              0.6666666666666666,
              "#ed7953"
             ],
             [
              0.7777777777777778,
              "#fb9f3a"
             ],
             [
              0.8888888888888888,
              "#fdca26"
             ],
             [
              1,
              "#f0f921"
             ]
            ],
            "type": "surface"
           }
          ],
          "table": [
           {
            "cells": {
             "fill": {
              "color": "#EBF0F8"
             },
             "line": {
              "color": "white"
             }
            },
            "header": {
             "fill": {
              "color": "#C8D4E3"
             },
             "line": {
              "color": "white"
             }
            },
            "type": "table"
           }
          ]
         },
         "layout": {
          "annotationdefaults": {
           "arrowcolor": "#2a3f5f",
           "arrowhead": 0,
           "arrowwidth": 1
          },
          "autotypenumbers": "strict",
          "coloraxis": {
           "colorbar": {
            "outlinewidth": 0,
            "ticks": ""
           }
          },
          "colorscale": {
           "diverging": [
            [
             0,
             "#8e0152"
            ],
            [
             0.1,
             "#c51b7d"
            ],
            [
             0.2,
             "#de77ae"
            ],
            [
             0.3,
             "#f1b6da"
            ],
            [
             0.4,
             "#fde0ef"
            ],
            [
             0.5,
             "#f7f7f7"
            ],
            [
             0.6,
             "#e6f5d0"
            ],
            [
             0.7,
             "#b8e186"
            ],
            [
             0.8,
             "#7fbc41"
            ],
            [
             0.9,
             "#4d9221"
            ],
            [
             1,
             "#276419"
            ]
           ],
           "sequential": [
            [
             0,
             "#0d0887"
            ],
            [
             0.1111111111111111,
             "#46039f"
            ],
            [
             0.2222222222222222,
             "#7201a8"
            ],
            [
             0.3333333333333333,
             "#9c179e"
            ],
            [
             0.4444444444444444,
             "#bd3786"
            ],
            [
             0.5555555555555556,
             "#d8576b"
            ],
            [
             0.6666666666666666,
             "#ed7953"
            ],
            [
             0.7777777777777778,
             "#fb9f3a"
            ],
            [
             0.8888888888888888,
             "#fdca26"
            ],
            [
             1,
             "#f0f921"
            ]
           ],
           "sequentialminus": [
            [
             0,
             "#0d0887"
            ],
            [
             0.1111111111111111,
             "#46039f"
            ],
            [
             0.2222222222222222,
             "#7201a8"
            ],
            [
             0.3333333333333333,
             "#9c179e"
            ],
            [
             0.4444444444444444,
             "#bd3786"
            ],
            [
             0.5555555555555556,
             "#d8576b"
            ],
            [
             0.6666666666666666,
             "#ed7953"
            ],
            [
             0.7777777777777778,
             "#fb9f3a"
            ],
            [
             0.8888888888888888,
             "#fdca26"
            ],
            [
             1,
             "#f0f921"
            ]
           ]
          },
          "colorway": [
           "#636efa",
           "#EF553B",
           "#00cc96",
           "#ab63fa",
           "#FFA15A",
           "#19d3f3",
           "#FF6692",
           "#B6E880",
           "#FF97FF",
           "#FECB52"
          ],
          "font": {
           "color": "#2a3f5f"
          },
          "geo": {
           "bgcolor": "white",
           "lakecolor": "white",
           "landcolor": "#E5ECF6",
           "showlakes": true,
           "showland": true,
           "subunitcolor": "white"
          },
          "hoverlabel": {
           "align": "left"
          },
          "hovermode": "closest",
          "mapbox": {
           "style": "light"
          },
          "paper_bgcolor": "white",
          "plot_bgcolor": "#E5ECF6",
          "polar": {
           "angularaxis": {
            "gridcolor": "white",
            "linecolor": "white",
            "ticks": ""
           },
           "bgcolor": "#E5ECF6",
           "radialaxis": {
            "gridcolor": "white",
            "linecolor": "white",
            "ticks": ""
           }
          },
          "scene": {
           "xaxis": {
            "backgroundcolor": "#E5ECF6",
            "gridcolor": "white",
            "gridwidth": 2,
            "linecolor": "white",
            "showbackground": true,
            "ticks": "",
            "zerolinecolor": "white"
           },
           "yaxis": {
            "backgroundcolor": "#E5ECF6",
            "gridcolor": "white",
            "gridwidth": 2,
            "linecolor": "white",
            "showbackground": true,
            "ticks": "",
            "zerolinecolor": "white"
           },
           "zaxis": {
            "backgroundcolor": "#E5ECF6",
            "gridcolor": "white",
            "gridwidth": 2,
            "linecolor": "white",
            "showbackground": true,
            "ticks": "",
            "zerolinecolor": "white"
           }
          },
          "shapedefaults": {
           "line": {
            "color": "#2a3f5f"
           }
          },
          "ternary": {
           "aaxis": {
            "gridcolor": "white",
            "linecolor": "white",
            "ticks": ""
           },
           "baxis": {
            "gridcolor": "white",
            "linecolor": "white",
            "ticks": ""
           },
           "bgcolor": "#E5ECF6",
           "caxis": {
            "gridcolor": "white",
            "linecolor": "white",
            "ticks": ""
           }
          },
          "title": {
           "x": 0.05
          },
          "xaxis": {
           "automargin": true,
           "gridcolor": "white",
           "linecolor": "white",
           "ticks": "",
           "title": {
            "standoff": 15
           },
           "zerolinecolor": "white",
           "zerolinewidth": 2
          },
          "yaxis": {
           "automargin": true,
           "gridcolor": "white",
           "linecolor": "white",
           "ticks": "",
           "title": {
            "standoff": 15
           },
           "zerolinecolor": "white",
           "zerolinewidth": 2
          }
         }
        },
        "title": {
         "text": "Распределения метрик по группам cog_load_flg по метрике response_time_mean"
        },
        "width": 1200,
        "xaxis": {
         "anchor": "y",
         "categoryarray": [
          "0.0",
          "1.0"
         ],
         "categoryorder": "array",
         "domain": [
          0,
          0.45
         ],
         "matches": "x3",
         "showticklabels": false,
         "title": {
          "text": "cog_load_flg"
         }
        },
        "xaxis2": {
         "anchor": "y2",
         "categoryarray": [
          "0.0",
          "1.0"
         ],
         "categoryorder": "array",
         "domain": [
          0.55,
          1
         ],
         "matches": "x4",
         "showticklabels": false,
         "title": {
          "text": "cog_load_flg"
         }
        },
        "xaxis3": {
         "anchor": "y3",
         "domain": [
          0,
          0.45
         ],
         "title": {
          "text": "cog_load_flg"
         }
        },
        "xaxis4": {
         "anchor": "y4",
         "domain": [
          0.55,
          1
         ],
         "title": {
          "text": "cog_load_flg"
         }
        },
        "yaxis": {
         "anchor": "x",
         "domain": [
          0.625,
          1
         ],
         "title": {
          "text": "response_time_mean"
         }
        },
        "yaxis2": {
         "anchor": "x2",
         "domain": [
          0.625,
          1
         ],
         "title": {
          "text": "response_time_mean"
         }
        },
        "yaxis3": {
         "anchor": "x3",
         "domain": [
          0,
          0.375
         ],
         "title": {
          "text": "response_time_mean"
         }
        },
        "yaxis4": {
         "anchor": "x4",
         "domain": [
          0,
          0.375
         ],
         "title": {
          "text": "response_time_mean"
         }
        }
       }
      }
     },
     "metadata": {},
     "output_type": "display_data"
    }
   ],
   "source": [
    "import plotly.graph_objects as go\n",
    "from plotly.subplots import make_subplots\n",
    "\n",
    "q_df['f_score_window'] = q_df['score'] // 5 * 5\n",
    "metric = 'response_time_mean'\n",
    "group_col = 'cog_load_flg'\n",
    "\n",
    "rows, cols = 2, 2\n",
    "fig = make_subplots(rows=rows, cols=cols, subplot_titles=paths, shared_xaxes=True)\n",
    "\n",
    "for i, name in enumerate(paths):\n",
    "    row = i // cols + 1\n",
    "    col = i % cols + 1\n",
    "\n",
    "    for group_value in sorted(q_df[group_col].dropna().unique()):\n",
    "        group_df = q_df[(q_df[group_col] == group_value) & (q_df['id'] == name)]\n",
    "\n",
    "        fig.add_trace(\n",
    "            go.Box(\n",
    "                y=group_df[metric],\n",
    "                name=str(group_value),\n",
    "                boxmean=True,\n",
    "                marker=dict(opacity=0),\n",
    "                showlegend=False\n",
    "            ),\n",
    "            row=row, col=col\n",
    "        )\n",
    "\n",
    "        fig.add_trace(\n",
    "            go.Scatter(\n",
    "                x=[str(group_value)] * len(group_df),\n",
    "                y=group_df[metric],\n",
    "                mode='markers',\n",
    "                marker=dict(size=5, color='black', opacity=0.4),\n",
    "                text=group_df['datetime'].astype(str),\n",
    "                hovertemplate=(\n",
    "                    f\"{group_col}: {group_value}<br>\" +\n",
    "                    f\"{metric}: %{{y}}<br>\" +\n",
    "                    \"Время: %{text}<extra></extra>\"\n",
    "                ),\n",
    "                showlegend=False\n",
    "            ),\n",
    "            row=row, col=col\n",
    "        )\n",
    "\n",
    "ordered_groups = sorted(q_df[group_col].dropna().unique())\n",
    "fig.update_layout(\n",
    "    xaxis=dict(categoryorder='array', categoryarray=[str(v) for v in ordered_groups]),\n",
    "    xaxis2=dict(categoryorder='array', categoryarray=[str(v) for v in ordered_groups])\n",
    ")\n",
    "\n",
    "fig.update_layout(\n",
    "    height=600,\n",
    "    width=1200,\n",
    "    title=f\"Распределения метрик по группам {group_col} по метрике {metric}\",\n",
    "    margin=dict(t=100),\n",
    "    font=dict(size=12)\n",
    ")\n",
    "\n",
    "for i in range(1, rows * cols + 1):\n",
    "    fig.update_xaxes(title_text=group_col, row=(i - 1) // cols + 1, col=(i - 1) % cols + 1)\n",
    "    fig.update_yaxes(title_text=metric, row=(i - 1) // cols + 1, col=(i - 1) % cols + 1)\n",
    "\n",
    "fig.show()\n"
   ]
  },
  {
   "cell_type": "markdown",
   "metadata": {},
   "source": [
    "### боксплоты"
   ]
  },
  {
   "cell_type": "code",
   "execution_count": 54,
   "metadata": {},
   "outputs": [
    {
     "data": {
      "application/vnd.plotly.v1+json": {
       "config": {
        "plotlyServerURL": "https://plot.ly"
       },
       "data": [
        {
         "boxmean": true,
         "marker": {
          "opacity": 0
         },
         "name": "0.0",
         "showlegend": false,
         "type": "box",
         "xaxis": "x",
         "y": {
          "bdata": "DHva4a/JCEDpfeNrz6wJQBPQRNjwdAhAyCk6ksv/CEAD7KNTVz4GQK3YX3ZPngJAiv1l9+RhB0CWlSaloFsDQAN4CyQofgJA",
          "dtype": "f8"
         },
         "yaxis": "y"
        },
        {
         "hovertemplate": "cog_load_flg: 0.0<br>response_time_mean: %{y}<br>Время: %{text}<extra></extra>",
         "marker": {
          "color": "black",
          "opacity": 0.4,
          "size": 5
         },
         "mode": "markers",
         "showlegend": false,
         "text": [
          "2025-03-10 10:09:26",
          "2025-03-11 08:55:58",
          "2025-03-12 08:48:30",
          "2025-03-12 16:04:18",
          "2025-03-12 20:38:30",
          "2025-03-13 09:20:31",
          "2025-03-13 12:26:28",
          "2025-03-13 14:17:22",
          "2025-03-15 17:17:19"
         ],
         "type": "scatter",
         "x": [
          "0.0",
          "0.0",
          "0.0",
          "0.0",
          "0.0",
          "0.0",
          "0.0",
          "0.0",
          "0.0"
         ],
         "xaxis": "x",
         "y": {
          "bdata": "DHva4a/JCEDpfeNrz6wJQBPQRNjwdAhAyCk6ksv/CEAD7KNTVz4GQK3YX3ZPngJAiv1l9+RhB0CWlSaloFsDQAN4CyQofgJA",
          "dtype": "f8"
         },
         "yaxis": "y"
        },
        {
         "boxmean": true,
         "marker": {
          "opacity": 0
         },
         "name": "1.0",
         "showlegend": false,
         "type": "box",
         "xaxis": "x",
         "y": {
          "bdata": "OBCSBUxgCECWsgxxrAsJQKTk1TkG5AdAWRe30QBeA0D8Uj9vKlIEQNatnpPetwNA2J5ZEqAmAkA=",
          "dtype": "f8"
         },
         "yaxis": "y"
        },
        {
         "hovertemplate": "cog_load_flg: 1.0<br>response_time_mean: %{y}<br>Время: %{text}<extra></extra>",
         "marker": {
          "color": "black",
          "opacity": 0.4,
          "size": 5
         },
         "mode": "markers",
         "showlegend": false,
         "text": [
          "2025-03-10 15:39:44",
          "2025-03-10 19:27:25",
          "2025-03-10 20:39:20",
          "2025-03-11 17:38:58",
          "2025-03-13 22:48:59",
          "2025-03-14 13:41:47",
          "2025-03-14 15:19:17"
         ],
         "type": "scatter",
         "x": [
          "1.0",
          "1.0",
          "1.0",
          "1.0",
          "1.0",
          "1.0",
          "1.0"
         ],
         "xaxis": "x",
         "y": {
          "bdata": "OBCSBUxgCECWsgxxrAsJQKTk1TkG5AdAWRe30QBeA0D8Uj9vKlIEQNatnpPetwNA2J5ZEqAmAkA=",
          "dtype": "f8"
         },
         "yaxis": "y"
        },
        {
         "boxmean": true,
         "marker": {
          "opacity": 0
         },
         "name": "0.0",
         "showlegend": false,
         "type": "box",
         "xaxis": "x2",
         "y": {
          "bdata": "5A8GnntPEkDGpwAYzyASQM1YNJ2dDA9Az72HS467DEApRMAhVCkMQBY1mIbhIwxAdhppqbwdDUAgQfFjzN0MQJqUgm4vKRFA",
          "dtype": "f8"
         },
         "yaxis": "y2"
        },
        {
         "hovertemplate": "cog_load_flg: 0.0<br>response_time_mean: %{y}<br>Время: %{text}<extra></extra>",
         "marker": {
          "color": "black",
          "opacity": 0.4,
          "size": 5
         },
         "mode": "markers",
         "showlegend": false,
         "text": [
          "2025-03-10 10:16:41",
          "2025-03-10 12:36:03",
          "2025-03-11 11:11:19",
          "2025-03-11 12:46:55",
          "2025-03-12 13:15:24",
          "2025-03-12 16:04:02",
          "2025-03-13 10:07:57",
          "2025-03-14 12:11:07",
          "2025-03-14 14:12:15"
         ],
         "type": "scatter",
         "x": [
          "0.0",
          "0.0",
          "0.0",
          "0.0",
          "0.0",
          "0.0",
          "0.0",
          "0.0",
          "0.0"
         ],
         "xaxis": "x2",
         "y": {
          "bdata": "5A8GnntPEkDGpwAYzyASQM1YNJ2dDA9Az72HS467DEApRMAhVCkMQBY1mIbhIwxAdhppqbwdDUAgQfFjzN0MQJqUgm4vKRFA",
          "dtype": "f8"
         },
         "yaxis": "y2"
        },
        {
         "boxmean": true,
         "marker": {
          "opacity": 0
         },
         "name": "1.0",
         "showlegend": false,
         "type": "box",
         "xaxis": "x2",
         "y": {
          "bdata": "cJS8OsfAEUBIFjCBW3cOQP9g4Ln38A1ATP28qUhFEECztb5IaAsQQKjjMQOVcQ9A",
          "dtype": "f8"
         },
         "yaxis": "y2"
        },
        {
         "hovertemplate": "cog_load_flg: 1.0<br>response_time_mean: %{y}<br>Время: %{text}<extra></extra>",
         "marker": {
          "color": "black",
          "opacity": 0.4,
          "size": 5
         },
         "mode": "markers",
         "showlegend": false,
         "text": [
          "2025-03-10 15:32:56",
          "2025-03-10 19:32:40",
          "2025-03-11 21:06:16",
          "2025-03-12 20:30:44",
          "2025-03-13 21:45:02",
          "2025-03-15 16:05:01"
         ],
         "type": "scatter",
         "x": [
          "1.0",
          "1.0",
          "1.0",
          "1.0",
          "1.0",
          "1.0"
         ],
         "xaxis": "x2",
         "y": {
          "bdata": "cJS8OsfAEUBIFjCBW3cOQP9g4Ln38A1ATP28qUhFEECztb5IaAsQQKjjMQOVcQ9A",
          "dtype": "f8"
         },
         "yaxis": "y2"
        },
        {
         "boxmean": true,
         "marker": {
          "opacity": 0
         },
         "name": "0.0",
         "showlegend": false,
         "type": "box",
         "xaxis": "x3",
         "y": {
          "bdata": "6pCb4Qb8FkDNHmgFhuwZQGCTNeoh2hFA",
          "dtype": "f8"
         },
         "yaxis": "y3"
        },
        {
         "hovertemplate": "cog_load_flg: 0.0<br>response_time_mean: %{y}<br>Время: %{text}<extra></extra>",
         "marker": {
          "color": "black",
          "opacity": 0.4,
          "size": 5
         },
         "mode": "markers",
         "showlegend": false,
         "text": [
          "2025-03-11 07:27:25",
          "2025-03-13 09:44:33",
          "2025-03-19 07:48:21"
         ],
         "type": "scatter",
         "x": [
          "0.0",
          "0.0",
          "0.0"
         ],
         "xaxis": "x3",
         "y": {
          "bdata": "6pCb4Qb8FkDNHmgFhuwZQGCTNeoh2hFA",
          "dtype": "f8"
         },
         "yaxis": "y3"
        },
        {
         "boxmean": true,
         "marker": {
          "opacity": 0
         },
         "name": "1.0",
         "showlegend": false,
         "type": "box",
         "xaxis": "x3",
         "y": {
          "bdata": "OrTIdr4fFUC3QILix1gXQOjZrPpc7RBARnwnZr3YEUCUTbnCu9wQQA==",
          "dtype": "f8"
         },
         "yaxis": "y3"
        },
        {
         "hovertemplate": "cog_load_flg: 1.0<br>response_time_mean: %{y}<br>Время: %{text}<extra></extra>",
         "marker": {
          "color": "black",
          "opacity": 0.4,
          "size": 5
         },
         "mode": "markers",
         "showlegend": false,
         "text": [
          "2025-03-12 15:46:20",
          "2025-03-17 13:17:20",
          "2025-03-17 13:23:49",
          "2025-03-17 21:08:52",
          "2025-03-24 20:28:12"
         ],
         "type": "scatter",
         "x": [
          "1.0",
          "1.0",
          "1.0",
          "1.0",
          "1.0"
         ],
         "xaxis": "x3",
         "y": {
          "bdata": "OrTIdr4fFUC3QILix1gXQOjZrPpc7RBARnwnZr3YEUCUTbnCu9wQQA==",
          "dtype": "f8"
         },
         "yaxis": "y3"
        },
        {
         "boxmean": true,
         "marker": {
          "opacity": 0
         },
         "name": "0.0",
         "showlegend": false,
         "type": "box",
         "xaxis": "x4",
         "y": {
          "bdata": "M4XOa+ySBkApP6n26XgIQNjTDn9NVgdAzR5oBYasCUAcWmQ7308KQKBU+3Q85gdARfC/lezYCECk/KTap+MEQIhjXdxGAwNArwPnjCjtBkA/HY8ZqAwFQP32deCckQdAHLEWnwLgBEAEBHP0+L0DQG0hyEEJswlA8nub/uxHBUA=",
          "dtype": "f8"
         },
         "yaxis": "y4"
        },
        {
         "hovertemplate": "cog_load_flg: 0.0<br>response_time_mean: %{y}<br>Время: %{text}<extra></extra>",
         "marker": {
          "color": "black",
          "opacity": 0.4,
          "size": 5
         },
         "mode": "markers",
         "showlegend": false,
         "text": [
          "2025-02-25 10:30:51",
          "2025-02-26 12:05:35",
          "2025-02-27 08:25:25",
          "2025-03-03 10:20:24",
          "2025-03-08 09:46:41",
          "2025-03-08 22:45:03",
          "2025-03-09 13:15:30",
          "2025-03-10 10:10:48",
          "2025-03-10 12:22:53",
          "2025-03-11 10:14:17",
          "2025-03-12 10:12:40",
          "2025-03-13 09:59:37",
          "2025-03-13 18:34:42",
          "2025-03-14 10:12:54",
          "2025-03-15 16:05:27",
          "2025-03-16 00:58:47"
         ],
         "type": "scatter",
         "x": [
          "0.0",
          "0.0",
          "0.0",
          "0.0",
          "0.0",
          "0.0",
          "0.0",
          "0.0",
          "0.0",
          "0.0",
          "0.0",
          "0.0",
          "0.0",
          "0.0",
          "0.0",
          "0.0"
         ],
         "xaxis": "x4",
         "y": {
          "bdata": "M4XOa+ySBkApP6n26XgIQNjTDn9NVgdAzR5oBYasCUAcWmQ7308KQKBU+3Q85gdARfC/lezYCECk/KTap+MEQIhjXdxGAwNArwPnjCjtBkA/HY8ZqAwFQP32deCckQdAHLEWnwLgBEAEBHP0+L0DQG0hyEEJswlA8nub/uxHBUA=",
          "dtype": "f8"
         },
         "yaxis": "y4"
        },
        {
         "boxmean": true,
         "marker": {
          "opacity": 0
         },
         "name": "1.0",
         "showlegend": false,
         "type": "box",
         "xaxis": "x4",
         "y": {
          "bdata": "s9KkFHR7CkCz0qQUdHsFQNyAzw8jhAdAaZHtfD81B0DcnbXbLrQFQKg65Ga4AQZAPT+MEB7tBECXrfVFQlsFQDHrxVBONARA81meB3fnBUDF4cyv5oAFQAT/W8mOjQRAjE8BMJ5BBkCqtwa2SrAEQA==",
          "dtype": "f8"
         },
         "yaxis": "y4"
        },
        {
         "hovertemplate": "cog_load_flg: 1.0<br>response_time_mean: %{y}<br>Время: %{text}<extra></extra>",
         "marker": {
          "color": "black",
          "opacity": 0.4,
          "size": 5
         },
         "mode": "markers",
         "showlegend": false,
         "text": [
          "2025-02-25 00:41:09",
          "2025-02-25 22:18:41",
          "2025-02-26 22:16:33",
          "2025-03-09 23:02:26",
          "2025-03-10 15:47:07",
          "2025-03-10 22:37:35",
          "2025-03-11 12:17:35",
          "2025-03-11 14:18:40",
          "2025-03-11 23:49:20",
          "2025-03-12 23:28:22",
          "2025-03-13 15:01:10",
          "2025-03-14 00:10:40",
          "2025-03-14 13:30:29",
          "2025-03-14 22:27:42"
         ],
         "type": "scatter",
         "x": [
          "1.0",
          "1.0",
          "1.0",
          "1.0",
          "1.0",
          "1.0",
          "1.0",
          "1.0",
          "1.0",
          "1.0",
          "1.0",
          "1.0",
          "1.0",
          "1.0"
         ],
         "xaxis": "x4",
         "y": {
          "bdata": "s9KkFHR7CkCz0qQUdHsFQNyAzw8jhAdAaZHtfD81B0DcnbXbLrQFQKg65Ga4AQZAPT+MEB7tBECXrfVFQlsFQDHrxVBONARA81meB3fnBUDF4cyv5oAFQAT/W8mOjQRAjE8BMJ5BBkCqtwa2SrAEQA==",
          "dtype": "f8"
         },
         "yaxis": "y4"
        }
       ],
       "layout": {
        "annotations": [
         {
          "font": {
           "size": 16
          },
          "showarrow": false,
          "text": "respondent_1",
          "x": 0.225,
          "xanchor": "center",
          "xref": "paper",
          "y": 1,
          "yanchor": "bottom",
          "yref": "paper"
         },
         {
          "font": {
           "size": 16
          },
          "showarrow": false,
          "text": "respondent_2",
          "x": 0.775,
          "xanchor": "center",
          "xref": "paper",
          "y": 1,
          "yanchor": "bottom",
          "yref": "paper"
         },
         {
          "font": {
           "size": 16
          },
          "showarrow": false,
          "text": "respondent_3",
          "x": 0.225,
          "xanchor": "center",
          "xref": "paper",
          "y": 0.375,
          "yanchor": "bottom",
          "yref": "paper"
         },
         {
          "font": {
           "size": 16
          },
          "showarrow": false,
          "text": "respondent_4",
          "x": 0.775,
          "xanchor": "center",
          "xref": "paper",
          "y": 0.375,
          "yanchor": "bottom",
          "yref": "paper"
         }
        ],
        "font": {
         "size": 12
        },
        "height": 600,
        "margin": {
         "t": 100
        },
        "template": {
         "data": {
          "bar": [
           {
            "error_x": {
             "color": "#2a3f5f"
            },
            "error_y": {
             "color": "#2a3f5f"
            },
            "marker": {
             "line": {
              "color": "#E5ECF6",
              "width": 0.5
             },
             "pattern": {
              "fillmode": "overlay",
              "size": 10,
              "solidity": 0.2
             }
            },
            "type": "bar"
           }
          ],
          "barpolar": [
           {
            "marker": {
             "line": {
              "color": "#E5ECF6",
              "width": 0.5
             },
             "pattern": {
              "fillmode": "overlay",
              "size": 10,
              "solidity": 0.2
             }
            },
            "type": "barpolar"
           }
          ],
          "carpet": [
           {
            "aaxis": {
             "endlinecolor": "#2a3f5f",
             "gridcolor": "white",
             "linecolor": "white",
             "minorgridcolor": "white",
             "startlinecolor": "#2a3f5f"
            },
            "baxis": {
             "endlinecolor": "#2a3f5f",
             "gridcolor": "white",
             "linecolor": "white",
             "minorgridcolor": "white",
             "startlinecolor": "#2a3f5f"
            },
            "type": "carpet"
           }
          ],
          "choropleth": [
           {
            "colorbar": {
             "outlinewidth": 0,
             "ticks": ""
            },
            "type": "choropleth"
           }
          ],
          "contour": [
           {
            "colorbar": {
             "outlinewidth": 0,
             "ticks": ""
            },
            "colorscale": [
             [
              0,
              "#0d0887"
             ],
             [
              0.1111111111111111,
              "#46039f"
             ],
             [
              0.2222222222222222,
              "#7201a8"
             ],
             [
              0.3333333333333333,
              "#9c179e"
             ],
             [
              0.4444444444444444,
              "#bd3786"
             ],
             [
              0.5555555555555556,
              "#d8576b"
             ],
             [
              0.6666666666666666,
              "#ed7953"
             ],
             [
              0.7777777777777778,
              "#fb9f3a"
             ],
             [
              0.8888888888888888,
              "#fdca26"
             ],
             [
              1,
              "#f0f921"
             ]
            ],
            "type": "contour"
           }
          ],
          "contourcarpet": [
           {
            "colorbar": {
             "outlinewidth": 0,
             "ticks": ""
            },
            "type": "contourcarpet"
           }
          ],
          "heatmap": [
           {
            "colorbar": {
             "outlinewidth": 0,
             "ticks": ""
            },
            "colorscale": [
             [
              0,
              "#0d0887"
             ],
             [
              0.1111111111111111,
              "#46039f"
             ],
             [
              0.2222222222222222,
              "#7201a8"
             ],
             [
              0.3333333333333333,
              "#9c179e"
             ],
             [
              0.4444444444444444,
              "#bd3786"
             ],
             [
              0.5555555555555556,
              "#d8576b"
             ],
             [
              0.6666666666666666,
              "#ed7953"
             ],
             [
              0.7777777777777778,
              "#fb9f3a"
             ],
             [
              0.8888888888888888,
              "#fdca26"
             ],
             [
              1,
              "#f0f921"
             ]
            ],
            "type": "heatmap"
           }
          ],
          "histogram": [
           {
            "marker": {
             "pattern": {
              "fillmode": "overlay",
              "size": 10,
              "solidity": 0.2
             }
            },
            "type": "histogram"
           }
          ],
          "histogram2d": [
           {
            "colorbar": {
             "outlinewidth": 0,
             "ticks": ""
            },
            "colorscale": [
             [
              0,
              "#0d0887"
             ],
             [
              0.1111111111111111,
              "#46039f"
             ],
             [
              0.2222222222222222,
              "#7201a8"
             ],
             [
              0.3333333333333333,
              "#9c179e"
             ],
             [
              0.4444444444444444,
              "#bd3786"
             ],
             [
              0.5555555555555556,
              "#d8576b"
             ],
             [
              0.6666666666666666,
              "#ed7953"
             ],
             [
              0.7777777777777778,
              "#fb9f3a"
             ],
             [
              0.8888888888888888,
              "#fdca26"
             ],
             [
              1,
              "#f0f921"
             ]
            ],
            "type": "histogram2d"
           }
          ],
          "histogram2dcontour": [
           {
            "colorbar": {
             "outlinewidth": 0,
             "ticks": ""
            },
            "colorscale": [
             [
              0,
              "#0d0887"
             ],
             [
              0.1111111111111111,
              "#46039f"
             ],
             [
              0.2222222222222222,
              "#7201a8"
             ],
             [
              0.3333333333333333,
              "#9c179e"
             ],
             [
              0.4444444444444444,
              "#bd3786"
             ],
             [
              0.5555555555555556,
              "#d8576b"
             ],
             [
              0.6666666666666666,
              "#ed7953"
             ],
             [
              0.7777777777777778,
              "#fb9f3a"
             ],
             [
              0.8888888888888888,
              "#fdca26"
             ],
             [
              1,
              "#f0f921"
             ]
            ],
            "type": "histogram2dcontour"
           }
          ],
          "mesh3d": [
           {
            "colorbar": {
             "outlinewidth": 0,
             "ticks": ""
            },
            "type": "mesh3d"
           }
          ],
          "parcoords": [
           {
            "line": {
             "colorbar": {
              "outlinewidth": 0,
              "ticks": ""
             }
            },
            "type": "parcoords"
           }
          ],
          "pie": [
           {
            "automargin": true,
            "type": "pie"
           }
          ],
          "scatter": [
           {
            "fillpattern": {
             "fillmode": "overlay",
             "size": 10,
             "solidity": 0.2
            },
            "type": "scatter"
           }
          ],
          "scatter3d": [
           {
            "line": {
             "colorbar": {
              "outlinewidth": 0,
              "ticks": ""
             }
            },
            "marker": {
             "colorbar": {
              "outlinewidth": 0,
              "ticks": ""
             }
            },
            "type": "scatter3d"
           }
          ],
          "scattercarpet": [
           {
            "marker": {
             "colorbar": {
              "outlinewidth": 0,
              "ticks": ""
             }
            },
            "type": "scattercarpet"
           }
          ],
          "scattergeo": [
           {
            "marker": {
             "colorbar": {
              "outlinewidth": 0,
              "ticks": ""
             }
            },
            "type": "scattergeo"
           }
          ],
          "scattergl": [
           {
            "marker": {
             "colorbar": {
              "outlinewidth": 0,
              "ticks": ""
             }
            },
            "type": "scattergl"
           }
          ],
          "scattermap": [
           {
            "marker": {
             "colorbar": {
              "outlinewidth": 0,
              "ticks": ""
             }
            },
            "type": "scattermap"
           }
          ],
          "scattermapbox": [
           {
            "marker": {
             "colorbar": {
              "outlinewidth": 0,
              "ticks": ""
             }
            },
            "type": "scattermapbox"
           }
          ],
          "scatterpolar": [
           {
            "marker": {
             "colorbar": {
              "outlinewidth": 0,
              "ticks": ""
             }
            },
            "type": "scatterpolar"
           }
          ],
          "scatterpolargl": [
           {
            "marker": {
             "colorbar": {
              "outlinewidth": 0,
              "ticks": ""
             }
            },
            "type": "scatterpolargl"
           }
          ],
          "scatterternary": [
           {
            "marker": {
             "colorbar": {
              "outlinewidth": 0,
              "ticks": ""
             }
            },
            "type": "scatterternary"
           }
          ],
          "surface": [
           {
            "colorbar": {
             "outlinewidth": 0,
             "ticks": ""
            },
            "colorscale": [
             [
              0,
              "#0d0887"
             ],
             [
              0.1111111111111111,
              "#46039f"
             ],
             [
              0.2222222222222222,
              "#7201a8"
             ],
             [
              0.3333333333333333,
              "#9c179e"
             ],
             [
              0.4444444444444444,
              "#bd3786"
             ],
             [
              0.5555555555555556,
              "#d8576b"
             ],
             [
              0.6666666666666666,
              "#ed7953"
             ],
             [
              0.7777777777777778,
              "#fb9f3a"
             ],
             [
              0.8888888888888888,
              "#fdca26"
             ],
             [
              1,
              "#f0f921"
             ]
            ],
            "type": "surface"
           }
          ],
          "table": [
           {
            "cells": {
             "fill": {
              "color": "#EBF0F8"
             },
             "line": {
              "color": "white"
             }
            },
            "header": {
             "fill": {
              "color": "#C8D4E3"
             },
             "line": {
              "color": "white"
             }
            },
            "type": "table"
           }
          ]
         },
         "layout": {
          "annotationdefaults": {
           "arrowcolor": "#2a3f5f",
           "arrowhead": 0,
           "arrowwidth": 1
          },
          "autotypenumbers": "strict",
          "coloraxis": {
           "colorbar": {
            "outlinewidth": 0,
            "ticks": ""
           }
          },
          "colorscale": {
           "diverging": [
            [
             0,
             "#8e0152"
            ],
            [
             0.1,
             "#c51b7d"
            ],
            [
             0.2,
             "#de77ae"
            ],
            [
             0.3,
             "#f1b6da"
            ],
            [
             0.4,
             "#fde0ef"
            ],
            [
             0.5,
             "#f7f7f7"
            ],
            [
             0.6,
             "#e6f5d0"
            ],
            [
             0.7,
             "#b8e186"
            ],
            [
             0.8,
             "#7fbc41"
            ],
            [
             0.9,
             "#4d9221"
            ],
            [
             1,
             "#276419"
            ]
           ],
           "sequential": [
            [
             0,
             "#0d0887"
            ],
            [
             0.1111111111111111,
             "#46039f"
            ],
            [
             0.2222222222222222,
             "#7201a8"
            ],
            [
             0.3333333333333333,
             "#9c179e"
            ],
            [
             0.4444444444444444,
             "#bd3786"
            ],
            [
             0.5555555555555556,
             "#d8576b"
            ],
            [
             0.6666666666666666,
             "#ed7953"
            ],
            [
             0.7777777777777778,
             "#fb9f3a"
            ],
            [
             0.8888888888888888,
             "#fdca26"
            ],
            [
             1,
             "#f0f921"
            ]
           ],
           "sequentialminus": [
            [
             0,
             "#0d0887"
            ],
            [
             0.1111111111111111,
             "#46039f"
            ],
            [
             0.2222222222222222,
             "#7201a8"
            ],
            [
             0.3333333333333333,
             "#9c179e"
            ],
            [
             0.4444444444444444,
             "#bd3786"
            ],
            [
             0.5555555555555556,
             "#d8576b"
            ],
            [
             0.6666666666666666,
             "#ed7953"
            ],
            [
             0.7777777777777778,
             "#fb9f3a"
            ],
            [
             0.8888888888888888,
             "#fdca26"
            ],
            [
             1,
             "#f0f921"
            ]
           ]
          },
          "colorway": [
           "#636efa",
           "#EF553B",
           "#00cc96",
           "#ab63fa",
           "#FFA15A",
           "#19d3f3",
           "#FF6692",
           "#B6E880",
           "#FF97FF",
           "#FECB52"
          ],
          "font": {
           "color": "#2a3f5f"
          },
          "geo": {
           "bgcolor": "white",
           "lakecolor": "white",
           "landcolor": "#E5ECF6",
           "showlakes": true,
           "showland": true,
           "subunitcolor": "white"
          },
          "hoverlabel": {
           "align": "left"
          },
          "hovermode": "closest",
          "mapbox": {
           "style": "light"
          },
          "paper_bgcolor": "white",
          "plot_bgcolor": "#E5ECF6",
          "polar": {
           "angularaxis": {
            "gridcolor": "white",
            "linecolor": "white",
            "ticks": ""
           },
           "bgcolor": "#E5ECF6",
           "radialaxis": {
            "gridcolor": "white",
            "linecolor": "white",
            "ticks": ""
           }
          },
          "scene": {
           "xaxis": {
            "backgroundcolor": "#E5ECF6",
            "gridcolor": "white",
            "gridwidth": 2,
            "linecolor": "white",
            "showbackground": true,
            "ticks": "",
            "zerolinecolor": "white"
           },
           "yaxis": {
            "backgroundcolor": "#E5ECF6",
            "gridcolor": "white",
            "gridwidth": 2,
            "linecolor": "white",
            "showbackground": true,
            "ticks": "",
            "zerolinecolor": "white"
           },
           "zaxis": {
            "backgroundcolor": "#E5ECF6",
            "gridcolor": "white",
            "gridwidth": 2,
            "linecolor": "white",
            "showbackground": true,
            "ticks": "",
            "zerolinecolor": "white"
           }
          },
          "shapedefaults": {
           "line": {
            "color": "#2a3f5f"
           }
          },
          "ternary": {
           "aaxis": {
            "gridcolor": "white",
            "linecolor": "white",
            "ticks": ""
           },
           "baxis": {
            "gridcolor": "white",
            "linecolor": "white",
            "ticks": ""
           },
           "bgcolor": "#E5ECF6",
           "caxis": {
            "gridcolor": "white",
            "linecolor": "white",
            "ticks": ""
           }
          },
          "title": {
           "x": 0.05
          },
          "xaxis": {
           "automargin": true,
           "gridcolor": "white",
           "linecolor": "white",
           "ticks": "",
           "title": {
            "standoff": 15
           },
           "zerolinecolor": "white",
           "zerolinewidth": 2
          },
          "yaxis": {
           "automargin": true,
           "gridcolor": "white",
           "linecolor": "white",
           "ticks": "",
           "title": {
            "standoff": 15
           },
           "zerolinecolor": "white",
           "zerolinewidth": 2
          }
         }
        },
        "title": {
         "text": "Распределения метрик по группам cog_load_flg по метрике response_time_mean при наведении"
        },
        "width": 1200,
        "xaxis": {
         "anchor": "y",
         "categoryarray": [
          "0.0",
          "1.0"
         ],
         "categoryorder": "array",
         "domain": [
          0,
          0.45
         ],
         "matches": "x3",
         "showticklabels": false
        },
        "xaxis2": {
         "anchor": "y2",
         "categoryarray": [
          "0.0",
          "1.0"
         ],
         "categoryorder": "array",
         "domain": [
          0.55,
          1
         ],
         "matches": "x4",
         "showticklabels": false
        },
        "xaxis3": {
         "anchor": "y3",
         "domain": [
          0,
          0.45
         ]
        },
        "xaxis4": {
         "anchor": "y4",
         "domain": [
          0.55,
          1
         ]
        },
        "yaxis": {
         "anchor": "x",
         "domain": [
          0.625,
          1
         ]
        },
        "yaxis2": {
         "anchor": "x2",
         "domain": [
          0.625,
          1
         ]
        },
        "yaxis3": {
         "anchor": "x3",
         "domain": [
          0,
          0.375
         ]
        },
        "yaxis4": {
         "anchor": "x4",
         "domain": [
          0,
          0.375
         ]
        }
       }
      }
     },
     "metadata": {},
     "output_type": "display_data"
    }
   ],
   "source": [
    "import plotly.graph_objects as go\n",
    "from plotly.subplots import make_subplots\n",
    "\n",
    "# Метрики и группирующее поле\n",
    "# metrics = [\n",
    "#     'response_time_mean',\n",
    "#        'response_time_std', 'response_time_max', 'correctFlg_mean'\n",
    "# ]\n",
    "# q_df['f_score_window'] = q_df['score'] // 5\n",
    "metric = 'response_time_mean'\n",
    "group_col = 'cog_load_flg'\n",
    "\n",
    "# Сетка: 3 строки × 5 столбцов\n",
    "rows, cols = 2, 2\n",
    "fig = make_subplots(rows=rows, cols=cols, subplot_titles=paths, shared_xaxes=True)\n",
    "\n",
    "# Построение графиков\n",
    "for i, name in enumerate(paths):\n",
    "    row = i // cols + 1\n",
    "    col = i % cols + 1\n",
    "\n",
    "    for group_value in sorted(q_df[group_col].dropna().unique()):\n",
    "        group_df = q_df[(q_df[group_col] == group_value) & (q_df['id'] == name)]\n",
    "        # print(group_df.shape, group_value)\n",
    "\n",
    "        # Boxplot (без hover)\n",
    "        fig.add_trace(\n",
    "            go.Box(\n",
    "                y=group_df[metric],\n",
    "                name=str(group_value),\n",
    "                boxmean=True,\n",
    "                marker=dict(opacity=0),\n",
    "                showlegend=False\n",
    "            ),\n",
    "            row=row, col=col\n",
    "        )\n",
    "\n",
    "        # Scatter с datetime в hover\n",
    "        fig.add_trace(\n",
    "            go.Scatter(\n",
    "                x=[str(group_value)] * len(group_df),\n",
    "                y=group_df[metric],\n",
    "                mode='markers',\n",
    "                marker=dict(size=5, color='black', opacity=0.4),\n",
    "                text=group_df['datetime'].astype(str),\n",
    "                hovertemplate=(\n",
    "                    f\"{group_col}: {group_value}<br>\" +\n",
    "                    f\"{metric}: %{{y}}<br>\" +\n",
    "                    \"Время: %{text}<extra></extra>\"\n",
    "                ),\n",
    "                showlegend=False\n",
    "            ),\n",
    "            row=row, col=col\n",
    "        )\n",
    "ordered_groups = sorted(q_df[group_col].dropna().unique())\n",
    "fig.update_layout(xaxis=dict(categoryorder='array', categoryarray=[str(v) for v in ordered_groups]))\n",
    "fig.update_layout(xaxis2=dict(categoryorder='array', categoryarray=[str(v) for v in ordered_groups]))\n",
    "\n",
    "# Общие настройки\n",
    "fig.update_layout(\n",
    "    height=600,\n",
    "    width=1200,\n",
    "    title=f\"Распределения метрик по группам {group_col} по метрике {metric} при наведении\",\n",
    "    margin=dict(t=100),\n",
    "    font=dict(size=12)\n",
    ")\n",
    "\n",
    "fig.show()"
   ]
  },
  {
   "cell_type": "code",
   "execution_count": 55,
   "metadata": {},
   "outputs": [
    {
     "data": {
      "application/vnd.plotly.v1+json": {
       "config": {
        "plotlyServerURL": "https://plot.ly"
       },
       "data": [
        {
         "boxmean": true,
         "marker": {
          "opacity": 0
         },
         "name": "1",
         "showlegend": false,
         "type": "box",
         "xaxis": "x",
         "y": {
          "bdata": "OBCSBUxgCEDpfeNrz6wJQBPQRNjwdAhA1q2ek963A0DYnlkSoCYCQA==",
          "dtype": "f8"
         },
         "yaxis": "y"
        },
        {
         "hovertemplate": "fatigue_lvl: 1<br>response_time_mean: %{y}<br>Время: %{text}<extra></extra>",
         "marker": {
          "color": "black",
          "opacity": 0.4,
          "size": 5
         },
         "mode": "markers",
         "showlegend": false,
         "text": [
          "2025-03-10 15:39:44",
          "2025-03-11 08:55:58",
          "2025-03-12 08:48:30",
          "2025-03-14 13:41:47",
          "2025-03-14 15:19:17"
         ],
         "type": "scatter",
         "x": [
          "1",
          "1",
          "1",
          "1",
          "1"
         ],
         "xaxis": "x",
         "y": {
          "bdata": "OBCSBUxgCEDpfeNrz6wJQBPQRNjwdAhA1q2ek963A0DYnlkSoCYCQA==",
          "dtype": "f8"
         },
         "yaxis": "y"
        },
        {
         "boxmean": true,
         "marker": {
          "opacity": 0
         },
         "name": "2",
         "showlegend": false,
         "type": "box",
         "xaxis": "x",
         "y": {
          "bdata": "DHva4a/JCEAD7KNTVz4GQK3YX3ZPngJA",
          "dtype": "f8"
         },
         "yaxis": "y"
        },
        {
         "hovertemplate": "fatigue_lvl: 2<br>response_time_mean: %{y}<br>Время: %{text}<extra></extra>",
         "marker": {
          "color": "black",
          "opacity": 0.4,
          "size": 5
         },
         "mode": "markers",
         "showlegend": false,
         "text": [
          "2025-03-10 10:09:26",
          "2025-03-12 20:38:30",
          "2025-03-13 09:20:31"
         ],
         "type": "scatter",
         "x": [
          "2",
          "2",
          "2"
         ],
         "xaxis": "x",
         "y": {
          "bdata": "DHva4a/JCEAD7KNTVz4GQK3YX3ZPngJA",
          "dtype": "f8"
         },
         "yaxis": "y"
        },
        {
         "boxmean": true,
         "marker": {
          "opacity": 0
         },
         "name": "3",
         "showlegend": false,
         "type": "box",
         "xaxis": "x",
         "y": {
          "bdata": "lrIMcawLCUBZF7fRAF4DQMgpOpLL/whAlpUmpaBbA0D8Uj9vKlIEQA==",
          "dtype": "f8"
         },
         "yaxis": "y"
        },
        {
         "hovertemplate": "fatigue_lvl: 3<br>response_time_mean: %{y}<br>Время: %{text}<extra></extra>",
         "marker": {
          "color": "black",
          "opacity": 0.4,
          "size": 5
         },
         "mode": "markers",
         "showlegend": false,
         "text": [
          "2025-03-10 19:27:25",
          "2025-03-11 17:38:58",
          "2025-03-12 16:04:18",
          "2025-03-13 14:17:22",
          "2025-03-13 22:48:59"
         ],
         "type": "scatter",
         "x": [
          "3",
          "3",
          "3",
          "3",
          "3"
         ],
         "xaxis": "x",
         "y": {
          "bdata": "lrIMcawLCUBZF7fRAF4DQMgpOpLL/whAlpUmpaBbA0D8Uj9vKlIEQA==",
          "dtype": "f8"
         },
         "yaxis": "y"
        },
        {
         "boxmean": true,
         "marker": {
          "opacity": 0
         },
         "name": "4",
         "showlegend": false,
         "type": "box",
         "xaxis": "x",
         "y": {
          "bdata": "pOTVOQbkB0CK/WX35GEHQAN4CyQofgJA",
          "dtype": "f8"
         },
         "yaxis": "y"
        },
        {
         "hovertemplate": "fatigue_lvl: 4<br>response_time_mean: %{y}<br>Время: %{text}<extra></extra>",
         "marker": {
          "color": "black",
          "opacity": 0.4,
          "size": 5
         },
         "mode": "markers",
         "showlegend": false,
         "text": [
          "2025-03-10 20:39:20",
          "2025-03-13 12:26:28",
          "2025-03-15 17:17:19"
         ],
         "type": "scatter",
         "x": [
          "4",
          "4",
          "4"
         ],
         "xaxis": "x",
         "y": {
          "bdata": "pOTVOQbkB0CK/WX35GEHQAN4CyQofgJA",
          "dtype": "f8"
         },
         "yaxis": "y"
        },
        {
         "boxmean": true,
         "marker": {
          "opacity": 0
         },
         "name": "1",
         "showlegend": false,
         "type": "box",
         "xaxis": "x2",
         "y": [],
         "yaxis": "y2"
        },
        {
         "hovertemplate": "fatigue_lvl: 1<br>response_time_mean: %{y}<br>Время: %{text}<extra></extra>",
         "marker": {
          "color": "black",
          "opacity": 0.4,
          "size": 5
         },
         "mode": "markers",
         "showlegend": false,
         "text": [],
         "type": "scatter",
         "x": [],
         "xaxis": "x2",
         "y": [],
         "yaxis": "y2"
        },
        {
         "boxmean": true,
         "marker": {
          "opacity": 0
         },
         "name": "2",
         "showlegend": false,
         "type": "box",
         "xaxis": "x2",
         "y": {
          "bdata": "5A8GnntPEkDGpwAYzyASQM1YNJ2dDA9Az72HS467DEB2GmmpvB0NQA==",
          "dtype": "f8"
         },
         "yaxis": "y2"
        },
        {
         "hovertemplate": "fatigue_lvl: 2<br>response_time_mean: %{y}<br>Время: %{text}<extra></extra>",
         "marker": {
          "color": "black",
          "opacity": 0.4,
          "size": 5
         },
         "mode": "markers",
         "showlegend": false,
         "text": [
          "2025-03-10 10:16:41",
          "2025-03-10 12:36:03",
          "2025-03-11 11:11:19",
          "2025-03-11 12:46:55",
          "2025-03-13 10:07:57"
         ],
         "type": "scatter",
         "x": [
          "2",
          "2",
          "2",
          "2",
          "2"
         ],
         "xaxis": "x2",
         "y": {
          "bdata": "5A8GnntPEkDGpwAYzyASQM1YNJ2dDA9Az72HS467DEB2GmmpvB0NQA==",
          "dtype": "f8"
         },
         "yaxis": "y2"
        },
        {
         "boxmean": true,
         "marker": {
          "opacity": 0
         },
         "name": "3",
         "showlegend": false,
         "type": "box",
         "xaxis": "x2",
         "y": {
          "bdata": "cJS8OsfAEUBIFjCBW3cOQP9g4Ln38A1AKUTAIVQpDEAWNZiG4SMMQEz9vKlIRRBAs7W+SGgLEEAgQfFjzN0MQJqUgm4vKRFAqOMxA5VxD0A=",
          "dtype": "f8"
         },
         "yaxis": "y2"
        },
        {
         "hovertemplate": "fatigue_lvl: 3<br>response_time_mean: %{y}<br>Время: %{text}<extra></extra>",
         "marker": {
          "color": "black",
          "opacity": 0.4,
          "size": 5
         },
         "mode": "markers",
         "showlegend": false,
         "text": [
          "2025-03-10 15:32:56",
          "2025-03-10 19:32:40",
          "2025-03-11 21:06:16",
          "2025-03-12 13:15:24",
          "2025-03-12 16:04:02",
          "2025-03-12 20:30:44",
          "2025-03-13 21:45:02",
          "2025-03-14 12:11:07",
          "2025-03-14 14:12:15",
          "2025-03-15 16:05:01"
         ],
         "type": "scatter",
         "x": [
          "3",
          "3",
          "3",
          "3",
          "3",
          "3",
          "3",
          "3",
          "3",
          "3"
         ],
         "xaxis": "x2",
         "y": {
          "bdata": "cJS8OsfAEUBIFjCBW3cOQP9g4Ln38A1AKUTAIVQpDEAWNZiG4SMMQEz9vKlIRRBAs7W+SGgLEEAgQfFjzN0MQJqUgm4vKRFAqOMxA5VxD0A=",
          "dtype": "f8"
         },
         "yaxis": "y2"
        },
        {
         "boxmean": true,
         "marker": {
          "opacity": 0
         },
         "name": "4",
         "showlegend": false,
         "type": "box",
         "xaxis": "x2",
         "y": [],
         "yaxis": "y2"
        },
        {
         "hovertemplate": "fatigue_lvl: 4<br>response_time_mean: %{y}<br>Время: %{text}<extra></extra>",
         "marker": {
          "color": "black",
          "opacity": 0.4,
          "size": 5
         },
         "mode": "markers",
         "showlegend": false,
         "text": [],
         "type": "scatter",
         "x": [],
         "xaxis": "x2",
         "y": [],
         "yaxis": "y2"
        },
        {
         "boxmean": true,
         "marker": {
          "opacity": 0
         },
         "name": "1",
         "showlegend": false,
         "type": "box",
         "xaxis": "x3",
         "y": {
          "bdata": "OrTIdr4fFUC3QILix1gXQA==",
          "dtype": "f8"
         },
         "yaxis": "y3"
        },
        {
         "hovertemplate": "fatigue_lvl: 1<br>response_time_mean: %{y}<br>Время: %{text}<extra></extra>",
         "marker": {
          "color": "black",
          "opacity": 0.4,
          "size": 5
         },
         "mode": "markers",
         "showlegend": false,
         "text": [
          "2025-03-12 15:46:20",
          "2025-03-17 13:17:20"
         ],
         "type": "scatter",
         "x": [
          "1",
          "1"
         ],
         "xaxis": "x3",
         "y": {
          "bdata": "OrTIdr4fFUC3QILix1gXQA==",
          "dtype": "f8"
         },
         "yaxis": "y3"
        },
        {
         "boxmean": true,
         "marker": {
          "opacity": 0
         },
         "name": "2",
         "showlegend": false,
         "type": "box",
         "xaxis": "x3",
         "y": {
          "bdata": "6Nms+lztEEA=",
          "dtype": "f8"
         },
         "yaxis": "y3"
        },
        {
         "hovertemplate": "fatigue_lvl: 2<br>response_time_mean: %{y}<br>Время: %{text}<extra></extra>",
         "marker": {
          "color": "black",
          "opacity": 0.4,
          "size": 5
         },
         "mode": "markers",
         "showlegend": false,
         "text": [
          "2025-03-17 13:23:49"
         ],
         "type": "scatter",
         "x": [
          "2"
         ],
         "xaxis": "x3",
         "y": {
          "bdata": "6Nms+lztEEA=",
          "dtype": "f8"
         },
         "yaxis": "y3"
        },
        {
         "boxmean": true,
         "marker": {
          "opacity": 0
         },
         "name": "3",
         "showlegend": false,
         "type": "box",
         "xaxis": "x3",
         "y": {
          "bdata": "zR5oBYbsGUBGfCdmvdgRQJRNucK73BBA",
          "dtype": "f8"
         },
         "yaxis": "y3"
        },
        {
         "hovertemplate": "fatigue_lvl: 3<br>response_time_mean: %{y}<br>Время: %{text}<extra></extra>",
         "marker": {
          "color": "black",
          "opacity": 0.4,
          "size": 5
         },
         "mode": "markers",
         "showlegend": false,
         "text": [
          "2025-03-13 09:44:33",
          "2025-03-17 21:08:52",
          "2025-03-24 20:28:12"
         ],
         "type": "scatter",
         "x": [
          "3",
          "3",
          "3"
         ],
         "xaxis": "x3",
         "y": {
          "bdata": "zR5oBYbsGUBGfCdmvdgRQJRNucK73BBA",
          "dtype": "f8"
         },
         "yaxis": "y3"
        },
        {
         "boxmean": true,
         "marker": {
          "opacity": 0
         },
         "name": "4",
         "showlegend": false,
         "type": "box",
         "xaxis": "x3",
         "y": {
          "bdata": "6pCb4Qb8FkBgkzXqIdoRQA==",
          "dtype": "f8"
         },
         "yaxis": "y3"
        },
        {
         "hovertemplate": "fatigue_lvl: 4<br>response_time_mean: %{y}<br>Время: %{text}<extra></extra>",
         "marker": {
          "color": "black",
          "opacity": 0.4,
          "size": 5
         },
         "mode": "markers",
         "showlegend": false,
         "text": [
          "2025-03-11 07:27:25",
          "2025-03-19 07:48:21"
         ],
         "type": "scatter",
         "x": [
          "4",
          "4"
         ],
         "xaxis": "x3",
         "y": {
          "bdata": "6pCb4Qb8FkBgkzXqIdoRQA==",
          "dtype": "f8"
         },
         "yaxis": "y3"
        },
        {
         "boxmean": true,
         "marker": {
          "opacity": 0
         },
         "name": "1",
         "showlegend": false,
         "type": "box",
         "xaxis": "x4",
         "y": {
          "bdata": "Mj1hiQcUCUDWITfDDXgLQCk/qfbpeAhA2NMOf01WB0DNHmgFhqwJQBxaZDvfTwpApPyk2qfjBECIY13cRgMDQNydtdsutAVArwPnjCjtBkA9P4wQHu0EQJet9UVCWwVAPx2PGagMBUD99nXgnJEHQMXhzK/mgAVAHLEWnwLgBEAEBHP0+L0DQIxPATCeQQZAbSHIQQmzCUA=",
          "dtype": "f8"
         },
         "yaxis": "y4"
        },
        {
         "hovertemplate": "fatigue_lvl: 1<br>response_time_mean: %{y}<br>Время: %{text}<extra></extra>",
         "marker": {
          "color": "black",
          "opacity": 0.4,
          "size": 5
         },
         "mode": "markers",
         "showlegend": false,
         "text": [
          "2025-02-22 09:32:19",
          "2025-02-23 10:27:07",
          "2025-02-26 12:05:35",
          "2025-02-27 08:25:25",
          "2025-03-03 10:20:24",
          "2025-03-08 09:46:41",
          "2025-03-10 10:10:48",
          "2025-03-10 12:22:53",
          "2025-03-10 15:47:07",
          "2025-03-11 10:14:17",
          "2025-03-11 12:17:35",
          "2025-03-11 14:18:40",
          "2025-03-12 10:12:40",
          "2025-03-13 09:59:37",
          "2025-03-13 15:01:10",
          "2025-03-13 18:34:42",
          "2025-03-14 10:12:54",
          "2025-03-14 13:30:29",
          "2025-03-15 16:05:27"
         ],
         "type": "scatter",
         "x": [
          "1",
          "1",
          "1",
          "1",
          "1",
          "1",
          "1",
          "1",
          "1",
          "1",
          "1",
          "1",
          "1",
          "1",
          "1",
          "1",
          "1",
          "1",
          "1"
         ],
         "xaxis": "x4",
         "y": {
          "bdata": "Mj1hiQcUCUDWITfDDXgLQCk/qfbpeAhA2NMOf01WB0DNHmgFhqwJQBxaZDvfTwpApPyk2qfjBECIY13cRgMDQNydtdsutAVArwPnjCjtBkA9P4wQHu0EQJet9UVCWwVAPx2PGagMBUD99nXgnJEHQMXhzK/mgAVAHLEWnwLgBEAEBHP0+L0DQIxPATCeQQZAbSHIQQmzCUA=",
          "dtype": "f8"
         },
         "yaxis": "y4"
        },
        {
         "boxmean": true,
         "marker": {
          "opacity": 0
         },
         "name": "2",
         "showlegend": false,
         "type": "box",
         "xaxis": "x4",
         "y": {
          "bdata": "E36pnzeVBkAzhc5r7JIGQEXwv5Xs2AhA8nub/uxHBUA=",
          "dtype": "f8"
         },
         "yaxis": "y4"
        },
        {
         "hovertemplate": "fatigue_lvl: 2<br>response_time_mean: %{y}<br>Время: %{text}<extra></extra>",
         "marker": {
          "color": "black",
          "opacity": 0.4,
          "size": 5
         },
         "mode": "markers",
         "showlegend": false,
         "text": [
          "2025-02-24 10:30:34",
          "2025-02-25 10:30:51",
          "2025-03-09 13:15:30",
          "2025-03-16 00:58:47"
         ],
         "type": "scatter",
         "x": [
          "2",
          "2",
          "2",
          "2"
         ],
         "xaxis": "x4",
         "y": {
          "bdata": "E36pnzeVBkAzhc5r7JIGQEXwv5Xs2AhA8nub/uxHBUA=",
          "dtype": "f8"
         },
         "yaxis": "y4"
        },
        {
         "boxmean": true,
         "marker": {
          "opacity": 0
         },
         "name": "3",
         "showlegend": false,
         "type": "box",
         "xaxis": "x4",
         "y": {
          "bdata": "SkG3lzTGB0DPZtXnaqsHQAk4hCo1ewZA3IDPDyOEB0CoOuRmuAEGQDHrxVBONARABP9byY6NBEA=",
          "dtype": "f8"
         },
         "yaxis": "y4"
        },
        {
         "hovertemplate": "fatigue_lvl: 3<br>response_time_mean: %{y}<br>Время: %{text}<extra></extra>",
         "marker": {
          "color": "black",
          "opacity": 0.4,
          "size": 5
         },
         "mode": "markers",
         "showlegend": false,
         "text": [
          "2025-02-21 00:01:35",
          "2025-02-23 01:11:41",
          "2025-02-23 23:00:47",
          "2025-02-26 22:16:33",
          "2025-03-10 22:37:35",
          "2025-03-11 23:49:20",
          "2025-03-14 00:10:40"
         ],
         "type": "scatter",
         "x": [
          "3",
          "3",
          "3",
          "3",
          "3",
          "3",
          "3"
         ],
         "xaxis": "x4",
         "y": {
          "bdata": "SkG3lzTGB0DPZtXnaqsHQAk4hCo1ewZA3IDPDyOEB0CoOuRmuAEGQDHrxVBONARABP9byY6NBEA=",
          "dtype": "f8"
         },
         "yaxis": "y4"
        },
        {
         "boxmean": true,
         "marker": {
          "opacity": 0
         },
         "name": "4",
         "showlegend": false,
         "type": "box",
         "xaxis": "x4",
         "y": {
          "bdata": "s9KkFHR7CkCz0qQUdHsFQKBU+3Q85gdAaZHtfD81B0DzWZ4Hd+cFQKq3BrZKsARA",
          "dtype": "f8"
         },
         "yaxis": "y4"
        },
        {
         "hovertemplate": "fatigue_lvl: 4<br>response_time_mean: %{y}<br>Время: %{text}<extra></extra>",
         "marker": {
          "color": "black",
          "opacity": 0.4,
          "size": 5
         },
         "mode": "markers",
         "showlegend": false,
         "text": [
          "2025-02-25 00:41:09",
          "2025-02-25 22:18:41",
          "2025-03-08 22:45:03",
          "2025-03-09 23:02:26",
          "2025-03-12 23:28:22",
          "2025-03-14 22:27:42"
         ],
         "type": "scatter",
         "x": [
          "4",
          "4",
          "4",
          "4",
          "4",
          "4"
         ],
         "xaxis": "x4",
         "y": {
          "bdata": "s9KkFHR7CkCz0qQUdHsFQKBU+3Q85gdAaZHtfD81B0DzWZ4Hd+cFQKq3BrZKsARA",
          "dtype": "f8"
         },
         "yaxis": "y4"
        }
       ],
       "layout": {
        "annotations": [
         {
          "font": {
           "size": 16
          },
          "showarrow": false,
          "text": "respondent_1",
          "x": 0.225,
          "xanchor": "center",
          "xref": "paper",
          "y": 1,
          "yanchor": "bottom",
          "yref": "paper"
         },
         {
          "font": {
           "size": 16
          },
          "showarrow": false,
          "text": "respondent_2",
          "x": 0.775,
          "xanchor": "center",
          "xref": "paper",
          "y": 1,
          "yanchor": "bottom",
          "yref": "paper"
         },
         {
          "font": {
           "size": 16
          },
          "showarrow": false,
          "text": "respondent_3",
          "x": 0.225,
          "xanchor": "center",
          "xref": "paper",
          "y": 0.375,
          "yanchor": "bottom",
          "yref": "paper"
         },
         {
          "font": {
           "size": 16
          },
          "showarrow": false,
          "text": "respondent_4",
          "x": 0.775,
          "xanchor": "center",
          "xref": "paper",
          "y": 0.375,
          "yanchor": "bottom",
          "yref": "paper"
         }
        ],
        "font": {
         "size": 12
        },
        "height": 600,
        "margin": {
         "t": 100
        },
        "template": {
         "data": {
          "bar": [
           {
            "error_x": {
             "color": "#2a3f5f"
            },
            "error_y": {
             "color": "#2a3f5f"
            },
            "marker": {
             "line": {
              "color": "#E5ECF6",
              "width": 0.5
             },
             "pattern": {
              "fillmode": "overlay",
              "size": 10,
              "solidity": 0.2
             }
            },
            "type": "bar"
           }
          ],
          "barpolar": [
           {
            "marker": {
             "line": {
              "color": "#E5ECF6",
              "width": 0.5
             },
             "pattern": {
              "fillmode": "overlay",
              "size": 10,
              "solidity": 0.2
             }
            },
            "type": "barpolar"
           }
          ],
          "carpet": [
           {
            "aaxis": {
             "endlinecolor": "#2a3f5f",
             "gridcolor": "white",
             "linecolor": "white",
             "minorgridcolor": "white",
             "startlinecolor": "#2a3f5f"
            },
            "baxis": {
             "endlinecolor": "#2a3f5f",
             "gridcolor": "white",
             "linecolor": "white",
             "minorgridcolor": "white",
             "startlinecolor": "#2a3f5f"
            },
            "type": "carpet"
           }
          ],
          "choropleth": [
           {
            "colorbar": {
             "outlinewidth": 0,
             "ticks": ""
            },
            "type": "choropleth"
           }
          ],
          "contour": [
           {
            "colorbar": {
             "outlinewidth": 0,
             "ticks": ""
            },
            "colorscale": [
             [
              0,
              "#0d0887"
             ],
             [
              0.1111111111111111,
              "#46039f"
             ],
             [
              0.2222222222222222,
              "#7201a8"
             ],
             [
              0.3333333333333333,
              "#9c179e"
             ],
             [
              0.4444444444444444,
              "#bd3786"
             ],
             [
              0.5555555555555556,
              "#d8576b"
             ],
             [
              0.6666666666666666,
              "#ed7953"
             ],
             [
              0.7777777777777778,
              "#fb9f3a"
             ],
             [
              0.8888888888888888,
              "#fdca26"
             ],
             [
              1,
              "#f0f921"
             ]
            ],
            "type": "contour"
           }
          ],
          "contourcarpet": [
           {
            "colorbar": {
             "outlinewidth": 0,
             "ticks": ""
            },
            "type": "contourcarpet"
           }
          ],
          "heatmap": [
           {
            "colorbar": {
             "outlinewidth": 0,
             "ticks": ""
            },
            "colorscale": [
             [
              0,
              "#0d0887"
             ],
             [
              0.1111111111111111,
              "#46039f"
             ],
             [
              0.2222222222222222,
              "#7201a8"
             ],
             [
              0.3333333333333333,
              "#9c179e"
             ],
             [
              0.4444444444444444,
              "#bd3786"
             ],
             [
              0.5555555555555556,
              "#d8576b"
             ],
             [
              0.6666666666666666,
              "#ed7953"
             ],
             [
              0.7777777777777778,
              "#fb9f3a"
             ],
             [
              0.8888888888888888,
              "#fdca26"
             ],
             [
              1,
              "#f0f921"
             ]
            ],
            "type": "heatmap"
           }
          ],
          "histogram": [
           {
            "marker": {
             "pattern": {
              "fillmode": "overlay",
              "size": 10,
              "solidity": 0.2
             }
            },
            "type": "histogram"
           }
          ],
          "histogram2d": [
           {
            "colorbar": {
             "outlinewidth": 0,
             "ticks": ""
            },
            "colorscale": [
             [
              0,
              "#0d0887"
             ],
             [
              0.1111111111111111,
              "#46039f"
             ],
             [
              0.2222222222222222,
              "#7201a8"
             ],
             [
              0.3333333333333333,
              "#9c179e"
             ],
             [
              0.4444444444444444,
              "#bd3786"
             ],
             [
              0.5555555555555556,
              "#d8576b"
             ],
             [
              0.6666666666666666,
              "#ed7953"
             ],
             [
              0.7777777777777778,
              "#fb9f3a"
             ],
             [
              0.8888888888888888,
              "#fdca26"
             ],
             [
              1,
              "#f0f921"
             ]
            ],
            "type": "histogram2d"
           }
          ],
          "histogram2dcontour": [
           {
            "colorbar": {
             "outlinewidth": 0,
             "ticks": ""
            },
            "colorscale": [
             [
              0,
              "#0d0887"
             ],
             [
              0.1111111111111111,
              "#46039f"
             ],
             [
              0.2222222222222222,
              "#7201a8"
             ],
             [
              0.3333333333333333,
              "#9c179e"
             ],
             [
              0.4444444444444444,
              "#bd3786"
             ],
             [
              0.5555555555555556,
              "#d8576b"
             ],
             [
              0.6666666666666666,
              "#ed7953"
             ],
             [
              0.7777777777777778,
              "#fb9f3a"
             ],
             [
              0.8888888888888888,
              "#fdca26"
             ],
             [
              1,
              "#f0f921"
             ]
            ],
            "type": "histogram2dcontour"
           }
          ],
          "mesh3d": [
           {
            "colorbar": {
             "outlinewidth": 0,
             "ticks": ""
            },
            "type": "mesh3d"
           }
          ],
          "parcoords": [
           {
            "line": {
             "colorbar": {
              "outlinewidth": 0,
              "ticks": ""
             }
            },
            "type": "parcoords"
           }
          ],
          "pie": [
           {
            "automargin": true,
            "type": "pie"
           }
          ],
          "scatter": [
           {
            "fillpattern": {
             "fillmode": "overlay",
             "size": 10,
             "solidity": 0.2
            },
            "type": "scatter"
           }
          ],
          "scatter3d": [
           {
            "line": {
             "colorbar": {
              "outlinewidth": 0,
              "ticks": ""
             }
            },
            "marker": {
             "colorbar": {
              "outlinewidth": 0,
              "ticks": ""
             }
            },
            "type": "scatter3d"
           }
          ],
          "scattercarpet": [
           {
            "marker": {
             "colorbar": {
              "outlinewidth": 0,
              "ticks": ""
             }
            },
            "type": "scattercarpet"
           }
          ],
          "scattergeo": [
           {
            "marker": {
             "colorbar": {
              "outlinewidth": 0,
              "ticks": ""
             }
            },
            "type": "scattergeo"
           }
          ],
          "scattergl": [
           {
            "marker": {
             "colorbar": {
              "outlinewidth": 0,
              "ticks": ""
             }
            },
            "type": "scattergl"
           }
          ],
          "scattermap": [
           {
            "marker": {
             "colorbar": {
              "outlinewidth": 0,
              "ticks": ""
             }
            },
            "type": "scattermap"
           }
          ],
          "scattermapbox": [
           {
            "marker": {
             "colorbar": {
              "outlinewidth": 0,
              "ticks": ""
             }
            },
            "type": "scattermapbox"
           }
          ],
          "scatterpolar": [
           {
            "marker": {
             "colorbar": {
              "outlinewidth": 0,
              "ticks": ""
             }
            },
            "type": "scatterpolar"
           }
          ],
          "scatterpolargl": [
           {
            "marker": {
             "colorbar": {
              "outlinewidth": 0,
              "ticks": ""
             }
            },
            "type": "scatterpolargl"
           }
          ],
          "scatterternary": [
           {
            "marker": {
             "colorbar": {
              "outlinewidth": 0,
              "ticks": ""
             }
            },
            "type": "scatterternary"
           }
          ],
          "surface": [
           {
            "colorbar": {
             "outlinewidth": 0,
             "ticks": ""
            },
            "colorscale": [
             [
              0,
              "#0d0887"
             ],
             [
              0.1111111111111111,
              "#46039f"
             ],
             [
              0.2222222222222222,
              "#7201a8"
             ],
             [
              0.3333333333333333,
              "#9c179e"
             ],
             [
              0.4444444444444444,
              "#bd3786"
             ],
             [
              0.5555555555555556,
              "#d8576b"
             ],
             [
              0.6666666666666666,
              "#ed7953"
             ],
             [
              0.7777777777777778,
              "#fb9f3a"
             ],
             [
              0.8888888888888888,
              "#fdca26"
             ],
             [
              1,
              "#f0f921"
             ]
            ],
            "type": "surface"
           }
          ],
          "table": [
           {
            "cells": {
             "fill": {
              "color": "#EBF0F8"
             },
             "line": {
              "color": "white"
             }
            },
            "header": {
             "fill": {
              "color": "#C8D4E3"
             },
             "line": {
              "color": "white"
             }
            },
            "type": "table"
           }
          ]
         },
         "layout": {
          "annotationdefaults": {
           "arrowcolor": "#2a3f5f",
           "arrowhead": 0,
           "arrowwidth": 1
          },
          "autotypenumbers": "strict",
          "coloraxis": {
           "colorbar": {
            "outlinewidth": 0,
            "ticks": ""
           }
          },
          "colorscale": {
           "diverging": [
            [
             0,
             "#8e0152"
            ],
            [
             0.1,
             "#c51b7d"
            ],
            [
             0.2,
             "#de77ae"
            ],
            [
             0.3,
             "#f1b6da"
            ],
            [
             0.4,
             "#fde0ef"
            ],
            [
             0.5,
             "#f7f7f7"
            ],
            [
             0.6,
             "#e6f5d0"
            ],
            [
             0.7,
             "#b8e186"
            ],
            [
             0.8,
             "#7fbc41"
            ],
            [
             0.9,
             "#4d9221"
            ],
            [
             1,
             "#276419"
            ]
           ],
           "sequential": [
            [
             0,
             "#0d0887"
            ],
            [
             0.1111111111111111,
             "#46039f"
            ],
            [
             0.2222222222222222,
             "#7201a8"
            ],
            [
             0.3333333333333333,
             "#9c179e"
            ],
            [
             0.4444444444444444,
             "#bd3786"
            ],
            [
             0.5555555555555556,
             "#d8576b"
            ],
            [
             0.6666666666666666,
             "#ed7953"
            ],
            [
             0.7777777777777778,
             "#fb9f3a"
            ],
            [
             0.8888888888888888,
             "#fdca26"
            ],
            [
             1,
             "#f0f921"
            ]
           ],
           "sequentialminus": [
            [
             0,
             "#0d0887"
            ],
            [
             0.1111111111111111,
             "#46039f"
            ],
            [
             0.2222222222222222,
             "#7201a8"
            ],
            [
             0.3333333333333333,
             "#9c179e"
            ],
            [
             0.4444444444444444,
             "#bd3786"
            ],
            [
             0.5555555555555556,
             "#d8576b"
            ],
            [
             0.6666666666666666,
             "#ed7953"
            ],
            [
             0.7777777777777778,
             "#fb9f3a"
            ],
            [
             0.8888888888888888,
             "#fdca26"
            ],
            [
             1,
             "#f0f921"
            ]
           ]
          },
          "colorway": [
           "#636efa",
           "#EF553B",
           "#00cc96",
           "#ab63fa",
           "#FFA15A",
           "#19d3f3",
           "#FF6692",
           "#B6E880",
           "#FF97FF",
           "#FECB52"
          ],
          "font": {
           "color": "#2a3f5f"
          },
          "geo": {
           "bgcolor": "white",
           "lakecolor": "white",
           "landcolor": "#E5ECF6",
           "showlakes": true,
           "showland": true,
           "subunitcolor": "white"
          },
          "hoverlabel": {
           "align": "left"
          },
          "hovermode": "closest",
          "mapbox": {
           "style": "light"
          },
          "paper_bgcolor": "white",
          "plot_bgcolor": "#E5ECF6",
          "polar": {
           "angularaxis": {
            "gridcolor": "white",
            "linecolor": "white",
            "ticks": ""
           },
           "bgcolor": "#E5ECF6",
           "radialaxis": {
            "gridcolor": "white",
            "linecolor": "white",
            "ticks": ""
           }
          },
          "scene": {
           "xaxis": {
            "backgroundcolor": "#E5ECF6",
            "gridcolor": "white",
            "gridwidth": 2,
            "linecolor": "white",
            "showbackground": true,
            "ticks": "",
            "zerolinecolor": "white"
           },
           "yaxis": {
            "backgroundcolor": "#E5ECF6",
            "gridcolor": "white",
            "gridwidth": 2,
            "linecolor": "white",
            "showbackground": true,
            "ticks": "",
            "zerolinecolor": "white"
           },
           "zaxis": {
            "backgroundcolor": "#E5ECF6",
            "gridcolor": "white",
            "gridwidth": 2,
            "linecolor": "white",
            "showbackground": true,
            "ticks": "",
            "zerolinecolor": "white"
           }
          },
          "shapedefaults": {
           "line": {
            "color": "#2a3f5f"
           }
          },
          "ternary": {
           "aaxis": {
            "gridcolor": "white",
            "linecolor": "white",
            "ticks": ""
           },
           "baxis": {
            "gridcolor": "white",
            "linecolor": "white",
            "ticks": ""
           },
           "bgcolor": "#E5ECF6",
           "caxis": {
            "gridcolor": "white",
            "linecolor": "white",
            "ticks": ""
           }
          },
          "title": {
           "x": 0.05
          },
          "xaxis": {
           "automargin": true,
           "gridcolor": "white",
           "linecolor": "white",
           "ticks": "",
           "title": {
            "standoff": 15
           },
           "zerolinecolor": "white",
           "zerolinewidth": 2
          },
          "yaxis": {
           "automargin": true,
           "gridcolor": "white",
           "linecolor": "white",
           "ticks": "",
           "title": {
            "standoff": 15
           },
           "zerolinecolor": "white",
           "zerolinewidth": 2
          }
         }
        },
        "title": {
         "text": "Распределения метрик по группам fatigue_lvl по метрике response_time_mean при наведении"
        },
        "width": 1200,
        "xaxis": {
         "anchor": "y",
         "categoryarray": [
          "1",
          "2",
          "3",
          "4"
         ],
         "categoryorder": "array",
         "domain": [
          0,
          0.45
         ],
         "matches": "x3",
         "showticklabels": false
        },
        "xaxis2": {
         "anchor": "y2",
         "categoryarray": [
          "1",
          "2",
          "3",
          "4"
         ],
         "categoryorder": "array",
         "domain": [
          0.55,
          1
         ],
         "matches": "x4",
         "showticklabels": false
        },
        "xaxis3": {
         "anchor": "y3",
         "domain": [
          0,
          0.45
         ]
        },
        "xaxis4": {
         "anchor": "y4",
         "domain": [
          0.55,
          1
         ]
        },
        "yaxis": {
         "anchor": "x",
         "domain": [
          0.625,
          1
         ]
        },
        "yaxis2": {
         "anchor": "x2",
         "domain": [
          0.625,
          1
         ]
        },
        "yaxis3": {
         "anchor": "x3",
         "domain": [
          0,
          0.375
         ]
        },
        "yaxis4": {
         "anchor": "x4",
         "domain": [
          0,
          0.375
         ]
        }
       }
      }
     },
     "metadata": {},
     "output_type": "display_data"
    }
   ],
   "source": [
    "import plotly.graph_objects as go\n",
    "from plotly.subplots import make_subplots\n",
    "\n",
    "# Метрики и группирующее поле\n",
    "# metrics = [\n",
    "#     'response_time_mean',\n",
    "#        'response_time_std', 'response_time_max', 'correctFlg_mean'\n",
    "# ]\n",
    "# q_df['f_score_window'] = q_df['score'] // 5\n",
    "metric = 'response_time_mean'\n",
    "group_col = 'fatigue_lvl'\n",
    "\n",
    "# Сетка: 3 строки × 5 столбцов\n",
    "rows, cols = 2, 2\n",
    "fig = make_subplots(rows=rows, cols=cols, subplot_titles=paths, shared_xaxes=True)\n",
    "\n",
    "# Построение графиков\n",
    "for i, name in enumerate(paths):\n",
    "    row = i // cols + 1\n",
    "    col = i % cols + 1\n",
    "\n",
    "    for group_value in sorted(q_df[group_col].dropna().unique()):\n",
    "        group_df = q_df[(q_df[group_col] == group_value) & (q_df['id'] == name)]\n",
    "        # print(group_df.shape, group_value)\n",
    "\n",
    "        # Boxplot (без hover)\n",
    "        fig.add_trace(\n",
    "            go.Box(\n",
    "                y=group_df[metric],\n",
    "                name=str(group_value),\n",
    "                boxmean=True,\n",
    "                marker=dict(opacity=0),\n",
    "                showlegend=False\n",
    "            ),\n",
    "            row=row, col=col\n",
    "        )\n",
    "\n",
    "        # Scatter с datetime в hover\n",
    "        fig.add_trace(\n",
    "            go.Scatter(\n",
    "                x=[str(group_value)] * len(group_df),\n",
    "                y=group_df[metric],\n",
    "                mode='markers',\n",
    "                marker=dict(size=5, color='black', opacity=0.4),\n",
    "                text=group_df['datetime'].astype(str),\n",
    "                hovertemplate=(\n",
    "                    f\"{group_col}: {group_value}<br>\" +\n",
    "                    f\"{metric}: %{{y}}<br>\" +\n",
    "                    \"Время: %{text}<extra></extra>\"\n",
    "                ),\n",
    "                showlegend=False\n",
    "            ),\n",
    "            row=row, col=col\n",
    "        )\n",
    "ordered_groups = sorted(q_df[group_col].dropna().unique())\n",
    "fig.update_layout(xaxis=dict(categoryorder='array', categoryarray=[str(v) for v in ordered_groups]))\n",
    "fig.update_layout(xaxis2=dict(categoryorder='array', categoryarray=[str(v) for v in ordered_groups]))\n",
    "\n",
    "# Общие настройки\n",
    "fig.update_layout(\n",
    "    height=600,\n",
    "    width=1200,\n",
    "    title=f\"Распределения метрик по группам {group_col} по метрике {metric} при наведении\",\n",
    "    margin=dict(t=100),\n",
    "    font=dict(size=12)\n",
    ")\n",
    "\n",
    "fig.show()"
   ]
  }
 ],
 "metadata": {
  "kernelspec": {
   "display_name": "Python 3",
   "language": "python",
   "name": "python3"
  },
  "language_info": {
   "codemirror_mode": {
    "name": "ipython",
    "version": 3
   },
   "file_extension": ".py",
   "mimetype": "text/x-python",
   "name": "python",
   "nbconvert_exporter": "python",
   "pygments_lexer": "ipython3",
   "version": "3.12.0"
  }
 },
 "nbformat": 4,
 "nbformat_minor": 2
}
