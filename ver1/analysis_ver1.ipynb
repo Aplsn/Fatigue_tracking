{
 "cells": [
  {
   "cell_type": "code",
   "execution_count": 1,
   "metadata": {},
   "outputs": [],
   "source": [
    "import pandas as pd\n",
    "import plotly.express as px\n",
    "import plotly.graph_objects as go\n",
    "import numpy as np\n"
   ]
  },
  {
   "cell_type": "code",
   "execution_count": 5,
   "metadata": {},
   "outputs": [
    {
     "data": {
      "text/plain": [
       "{('respondent_1',\n",
       "  Timestamp('2024-12-11 17:20:52')): 'respondent_1/Юля_2024-12-11_14-20-52_test.csv',\n",
       " ('respondent_1',\n",
       "  Timestamp('2024-12-12 13:14:12')): 'respondent_1/Юля_2024-12-12_10-14-12_test.csv',\n",
       " ('respondent_1',\n",
       "  Timestamp('2024-12-12 21:07:06')): 'respondent_1/Юля_2024-12-12_18-07-06_test.csv',\n",
       " ('respondent_1',\n",
       "  Timestamp('2024-12-13 08:20:01')): 'respondent_1/Юля_2024-12-13_05-20-01_test.csv',\n",
       " ('respondent_1',\n",
       "  Timestamp('2024-12-13 20:13:02')): 'respondent_1/Юля_2024-12-13_17-13-02_test.csv',\n",
       " ('respondent_1',\n",
       "  Timestamp('2024-12-14 11:56:28')): 'respondent_1/Юля_2024-12-14_08-56-28_test.csv',\n",
       " ('respondent_1',\n",
       "  Timestamp('2024-12-14 20:53:06')): 'respondent_1/Юля_2024-12-14_17-53-06_test.csv',\n",
       " ('respondent_1',\n",
       "  Timestamp('2024-12-15 12:06:37')): 'respondent_1/Юля_2024-12-15_09-06-37_test.csv',\n",
       " ('respondent_1',\n",
       "  Timestamp('2024-12-15 22:12:43')): 'respondent_1/Юля_2024-12-15_19-12-43_test.csv',\n",
       " ('respondent_2',\n",
       "  Timestamp('2024-12-11 16:09:52')): 'respondent_2/sn_2024-12-11_13-09-52_test.csv',\n",
       " ('respondent_2',\n",
       "  Timestamp('2024-12-12 19:57:16')): 'respondent_2/sn_2024-12-12_16-57-16_test.csv',\n",
       " ('respondent_3',\n",
       "  Timestamp('2024-12-11 10:55:16')): 'respondent_3/Лилиана_2024-12-11_07-55-16_test.csv',\n",
       " ('respondent_3',\n",
       "  Timestamp('2024-12-11 15:51:05')): 'respondent_3/Лилиана_2024-12-11_12-51-05_test.csv',\n",
       " ('respondent_3',\n",
       "  Timestamp('2024-12-11 22:05:25')): 'respondent_3/Лилиана_2024-12-11_19-05-25_test.csv',\n",
       " ('respondent_3',\n",
       "  Timestamp('2024-12-13 02:03:23')): 'respondent_3/Лилиана_2024-12-12_23-03-23_test.csv',\n",
       " ('respondent_3',\n",
       "  Timestamp('2024-12-13 10:32:47')): 'respondent_3/Лилиана_2024-12-13_07-32-47_test.csv',\n",
       " ('respondent_3',\n",
       "  Timestamp('2024-12-14 13:00:47')): 'respondent_3/Лилиана_2024-12-14_10-00-47_test.csv',\n",
       " ('respondent_3',\n",
       "  Timestamp('2024-12-15 01:16:30')): 'respondent_3/Лилиана_2024-12-14_22-16-30_test.csv',\n",
       " ('respondent_4',\n",
       "  Timestamp('2024-12-12 12:56:06')): 'respondent_4/Amina_almost_morning_2024-12-12_09-56-06_test.csv',\n",
       " ('respondent_4',\n",
       "  Timestamp('2024-12-12 22:33:31')): 'respondent_4/Амина_кеш_2024-12-12_19-33-31_test.csv',\n",
       " ('respondent_4',\n",
       "  Timestamp('2024-12-13 11:40:45')): 'respondent_4/Amina_утро_2024-12-13_08-40-45_test.csv',\n",
       " ('respondent_4',\n",
       "  Timestamp('2024-12-14 01:05:55')): 'respondent_4/Amina_evening__2024-12-13_22-05-55_test.csv',\n",
       " ('respondent_4',\n",
       "  Timestamp('2024-12-14 12:11:29')): 'respondent_4/Amina_morning_2024-12-14_09-11-29_test.csv',\n",
       " ('respondent_4',\n",
       "  Timestamp('2024-12-15 01:29:44')): 'respondent_4/Amina_night_out_2024-12-14_22-29-44_test.csv',\n",
       " ('respondent_4',\n",
       "  Timestamp('2024-12-15 13:04:17')): 'respondent_4/Amina_morning_2024-12-15_10-04-17_test.csv',\n",
       " ('respondent_4',\n",
       "  Timestamp('2024-12-15 18:28:17')): 'respondent_4/Amina_sick_evening_2024-12-15_15-28-17_test.csv',\n",
       " ('respondent_4',\n",
       "  Timestamp('2024-12-16 06:52:53')): 'respondent_4/Amina_very_early_2024-12-16_03-52-53_test.csv',\n",
       " ('respondent_4',\n",
       "  Timestamp('2024-12-16 23:57:21')): 'respondent_4/Amina_evening_2024-12-16_20-57-21_test.csv',\n",
       " ('respondent_4',\n",
       "  Timestamp('2025-01-16 10:26:25')): 'respondent_4/Amina_2025-01-16_10-26-25_new_ver.csv',\n",
       " ('respondent_4',\n",
       "  Timestamp('2024-12-17 09:58:55')): 'respondent_4/Amina_morning_2024-12-17_09-58-55_new_ver.csv',\n",
       " ('respondent_4',\n",
       "  Timestamp('2024-12-18 00:18:36')): 'respondent_4/Amina_night_2024-12-18_00-18-36_new_ver.csv',\n",
       " ('respondent_4',\n",
       "  Timestamp('2024-12-18 09:33:39')): 'respondent_4/amina_morning_graphs_2024-12-18_09-33-39_new_ver.csv',\n",
       " ('respondent_4',\n",
       "  Timestamp('2025-01-20 08:42:15')): 'respondent_4/Amina_morning_2025-01-20_08-42-15_new_ver.csv',\n",
       " ('respondent_4',\n",
       "  Timestamp('2025-01-20 22:38:18')): 'respondent_4/Amina_evening_2025-01-20_22-38-18_new_ver.csv',\n",
       " ('respondent_4',\n",
       "  Timestamp('2025-01-21 11:34:02')): 'respondent_4/Amina_morning_2025-01-21_11-34-02_new_ver.csv',\n",
       " ('respondent_4',\n",
       "  Timestamp('2024-12-24 08:34:30')): 'respondent_4/Amina_morning_2024-12-24_08-34-30_new_ver.csv',\n",
       " ('respondent_4',\n",
       "  Timestamp('2024-12-24 22:24:22')): 'respondent_4/Amina_evening_2024-12-24_22-24-22_new_ver.csv'}"
      ]
     },
     "execution_count": 5,
     "metadata": {},
     "output_type": "execute_result"
    }
   ],
   "source": [
    "from pathlib import Path\n",
    "paths = ['respondent_1','respondent_2','respondent_3','respondent_4']\n",
    "file_paths = {}\n",
    "for name in paths:\n",
    "    folder = Path(name)\n",
    "    files = [name + '/' + f.name for f in folder.iterdir() if f.is_file()]\n",
    "    for i, file in enumerate(sorted(files, key=lambda x: x[-24:-5])):\n",
    "        # потрошим файл\n",
    "        s = file.split('_')\n",
    "        timestamp = ''\n",
    "        if s[-1] == 'test.csv':\n",
    "            timestamp = pd.to_datetime(s[-3] + ' ' + s[-2], format='%Y-%m-%d %H-%M-%S') + pd.Timedelta(hours=3)\n",
    "        else:\n",
    "            timestamp = pd.to_datetime(s[-4] + ' ' + s[-3], format='%Y-%m-%d %H-%M-%S')\n",
    "        if timestamp < pd.to_datetime('2024-12-12 00:00:00') and name == 'respondent_4':\n",
    "            continue\n",
    "        file_paths[(name, timestamp)] = file\n",
    "\n",
    "file_paths"
   ]
  },
  {
   "cell_type": "code",
   "execution_count": 7,
   "metadata": {},
   "outputs": [
    {
     "data": {
      "text/html": [
       "<div>\n",
       "<style scoped>\n",
       "    .dataframe tbody tr th:only-of-type {\n",
       "        vertical-align: middle;\n",
       "    }\n",
       "\n",
       "    .dataframe tbody tr th {\n",
       "        vertical-align: top;\n",
       "    }\n",
       "\n",
       "    .dataframe thead th {\n",
       "        text-align: right;\n",
       "    }\n",
       "</style>\n",
       "<table border=\"1\" class=\"dataframe\">\n",
       "  <thead>\n",
       "    <tr style=\"text-align: right;\">\n",
       "      <th></th>\n",
       "      <th>#</th>\n",
       "      <th>num1</th>\n",
       "      <th>num2</th>\n",
       "      <th>operation</th>\n",
       "      <th>right_ans</th>\n",
       "      <th>user_ans</th>\n",
       "      <th>start_time</th>\n",
       "      <th>end_time</th>\n",
       "      <th>correct_flg</th>\n",
       "      <th>id</th>\n",
       "      <th>datetime</th>\n",
       "      <th>weekday</th>\n",
       "      <th>weekday_num</th>\n",
       "      <th>hour</th>\n",
       "      <th>date</th>\n",
       "    </tr>\n",
       "  </thead>\n",
       "  <tbody>\n",
       "    <tr>\n",
       "      <th>0</th>\n",
       "      <td>0</td>\n",
       "      <td>7</td>\n",
       "      <td>3</td>\n",
       "      <td>sd_abs_sub</td>\n",
       "      <td>4</td>\n",
       "      <td>4</td>\n",
       "      <td>751245.656</td>\n",
       "      <td>751247.703</td>\n",
       "      <td>1</td>\n",
       "      <td>respondent_1</td>\n",
       "      <td>2024-12-11 17:20:52</td>\n",
       "      <td>Wednesday</td>\n",
       "      <td>2</td>\n",
       "      <td>17</td>\n",
       "      <td>2024-12-11</td>\n",
       "    </tr>\n",
       "    <tr>\n",
       "      <th>1</th>\n",
       "      <td>1</td>\n",
       "      <td>6</td>\n",
       "      <td>1</td>\n",
       "      <td>sd_abs_sub</td>\n",
       "      <td>5</td>\n",
       "      <td>5</td>\n",
       "      <td>751247.703</td>\n",
       "      <td>751250.015</td>\n",
       "      <td>1</td>\n",
       "      <td>respondent_1</td>\n",
       "      <td>2024-12-11 17:20:52</td>\n",
       "      <td>Wednesday</td>\n",
       "      <td>2</td>\n",
       "      <td>17</td>\n",
       "      <td>2024-12-11</td>\n",
       "    </tr>\n",
       "    <tr>\n",
       "      <th>2</th>\n",
       "      <td>2</td>\n",
       "      <td>6</td>\n",
       "      <td>6</td>\n",
       "      <td>sd_last_add</td>\n",
       "      <td>2</td>\n",
       "      <td>2</td>\n",
       "      <td>751250.015</td>\n",
       "      <td>751251.718</td>\n",
       "      <td>1</td>\n",
       "      <td>respondent_1</td>\n",
       "      <td>2024-12-11 17:20:52</td>\n",
       "      <td>Wednesday</td>\n",
       "      <td>2</td>\n",
       "      <td>17</td>\n",
       "      <td>2024-12-11</td>\n",
       "    </tr>\n",
       "    <tr>\n",
       "      <th>3</th>\n",
       "      <td>3</td>\n",
       "      <td>3</td>\n",
       "      <td>8</td>\n",
       "      <td>sd_abs_sub</td>\n",
       "      <td>5</td>\n",
       "      <td>5</td>\n",
       "      <td>751251.734</td>\n",
       "      <td>751254.343</td>\n",
       "      <td>1</td>\n",
       "      <td>respondent_1</td>\n",
       "      <td>2024-12-11 17:20:52</td>\n",
       "      <td>Wednesday</td>\n",
       "      <td>2</td>\n",
       "      <td>17</td>\n",
       "      <td>2024-12-11</td>\n",
       "    </tr>\n",
       "    <tr>\n",
       "      <th>4</th>\n",
       "      <td>4</td>\n",
       "      <td>2</td>\n",
       "      <td>8</td>\n",
       "      <td>sd_abs_sub</td>\n",
       "      <td>6</td>\n",
       "      <td>6</td>\n",
       "      <td>751254.343</td>\n",
       "      <td>751258.421</td>\n",
       "      <td>1</td>\n",
       "      <td>respondent_1</td>\n",
       "      <td>2024-12-11 17:20:52</td>\n",
       "      <td>Wednesday</td>\n",
       "      <td>2</td>\n",
       "      <td>17</td>\n",
       "      <td>2024-12-11</td>\n",
       "    </tr>\n",
       "  </tbody>\n",
       "</table>\n",
       "</div>"
      ],
      "text/plain": [
       "   #  num1  num2    operation  right_ans  user_ans  start_time    end_time  \\\n",
       "0  0     7     3   sd_abs_sub          4         4  751245.656  751247.703   \n",
       "1  1     6     1   sd_abs_sub          5         5  751247.703  751250.015   \n",
       "2  2     6     6  sd_last_add          2         2  751250.015  751251.718   \n",
       "3  3     3     8   sd_abs_sub          5         5  751251.734  751254.343   \n",
       "4  4     2     8   sd_abs_sub          6         6  751254.343  751258.421   \n",
       "\n",
       "   correct_flg            id            datetime    weekday  weekday_num  \\\n",
       "0            1  respondent_1 2024-12-11 17:20:52  Wednesday            2   \n",
       "1            1  respondent_1 2024-12-11 17:20:52  Wednesday            2   \n",
       "2            1  respondent_1 2024-12-11 17:20:52  Wednesday            2   \n",
       "3            1  respondent_1 2024-12-11 17:20:52  Wednesday            2   \n",
       "4            1  respondent_1 2024-12-11 17:20:52  Wednesday            2   \n",
       "\n",
       "   hour        date  \n",
       "0    17  2024-12-11  \n",
       "1    17  2024-12-11  \n",
       "2    17  2024-12-11  \n",
       "3    17  2024-12-11  \n",
       "4    17  2024-12-11  "
      ]
     },
     "execution_count": 7,
     "metadata": {},
     "output_type": "execute_result"
    }
   ],
   "source": [
    "import pandas as pd\n",
    "import json\n",
    "\n",
    "# Initialize empty DataFrames\n",
    "answersLog_df = pd.DataFrame()\n",
    "typingAnswersLog_df = pd.DataFrame()\n",
    "testAnswersLog_df = pd.DataFrame()\n",
    "stressTestLog_df = pd.DataFrame()\n",
    "pageMetaData_df = pd.DataFrame()\n",
    "mouseTrack_df = pd.DataFrame()\n",
    "\n",
    "# Read and concatenate data from all files\n",
    "for ((name, date), file_path) in file_paths.items():\n",
    "    temp_df = pd.read_csv(file_path)\n",
    "    temp_df[\"id\"] = name\n",
    "    temp_df['datetime'] = date\n",
    "    # Извлекаем день недели в новый столбец\n",
    "    temp_df['weekday'] = temp_df['datetime'].dt.day_name()\n",
    "    temp_df['weekday_num'] = temp_df['datetime'].dt.dayofweek\n",
    "    temp_df[\"hour\"] = temp_df['datetime'].dt.hour\n",
    "    temp_df[\"hour\"] = temp_df[\"hour\"].apply(lambda h: h + 24 if h < 5 else h)\n",
    "\n",
    "    temp_df['date'] = temp_df['datetime'].dt.date\n",
    "    temp_df['date'] =  temp_df[['datetime', 'hour', 'date']].apply(lambda row: (row['datetime'] - pd.Timedelta(days=1)).date() if row['hour'] > 23 else row['date'], axis=1)\n",
    "\n",
    "    answersLog_df = pd.concat([answersLog_df, temp_df], ignore_index=True)\n",
    "answersLog_df.head()"
   ]
  },
  {
   "cell_type": "code",
   "execution_count": 8,
   "metadata": {},
   "outputs": [
    {
     "data": {
      "text/html": [
       "<div>\n",
       "<style scoped>\n",
       "    .dataframe tbody tr th:only-of-type {\n",
       "        vertical-align: middle;\n",
       "    }\n",
       "\n",
       "    .dataframe tbody tr th {\n",
       "        vertical-align: top;\n",
       "    }\n",
       "\n",
       "    .dataframe thead th {\n",
       "        text-align: right;\n",
       "    }\n",
       "</style>\n",
       "<table border=\"1\" class=\"dataframe\">\n",
       "  <thead>\n",
       "    <tr style=\"text-align: right;\">\n",
       "      <th></th>\n",
       "      <th>#</th>\n",
       "      <th>num1</th>\n",
       "      <th>num2</th>\n",
       "      <th>operation</th>\n",
       "      <th>right_ans</th>\n",
       "      <th>user_ans</th>\n",
       "      <th>start_time</th>\n",
       "      <th>end_time</th>\n",
       "      <th>correct_flg</th>\n",
       "      <th>id</th>\n",
       "      <th>datetime</th>\n",
       "      <th>weekday</th>\n",
       "      <th>weekday_num</th>\n",
       "      <th>hour</th>\n",
       "      <th>date</th>\n",
       "    </tr>\n",
       "  </thead>\n",
       "  <tbody>\n",
       "    <tr>\n",
       "      <th>2800</th>\n",
       "      <td>0</td>\n",
       "      <td>9</td>\n",
       "      <td>2</td>\n",
       "      <td>sd_last_add</td>\n",
       "      <td>1</td>\n",
       "      <td>1</td>\n",
       "      <td>100758.578</td>\n",
       "      <td>100760.828</td>\n",
       "      <td>1</td>\n",
       "      <td>respondent_3</td>\n",
       "      <td>2024-12-13 02:03:23</td>\n",
       "      <td>Friday</td>\n",
       "      <td>4</td>\n",
       "      <td>26</td>\n",
       "      <td>2024-12-12</td>\n",
       "    </tr>\n",
       "    <tr>\n",
       "      <th>2938</th>\n",
       "      <td>138</td>\n",
       "      <td>9</td>\n",
       "      <td>3</td>\n",
       "      <td>sd_abs_sub</td>\n",
       "      <td>6</td>\n",
       "      <td>6</td>\n",
       "      <td>100979.515</td>\n",
       "      <td>100980.968</td>\n",
       "      <td>1</td>\n",
       "      <td>respondent_3</td>\n",
       "      <td>2024-12-13 02:03:23</td>\n",
       "      <td>Friday</td>\n",
       "      <td>4</td>\n",
       "      <td>26</td>\n",
       "      <td>2024-12-12</td>\n",
       "    </tr>\n",
       "    <tr>\n",
       "      <th>2928</th>\n",
       "      <td>128</td>\n",
       "      <td>7</td>\n",
       "      <td>7</td>\n",
       "      <td>sd_last_add</td>\n",
       "      <td>4</td>\n",
       "      <td>4</td>\n",
       "      <td>100964.031</td>\n",
       "      <td>100965.562</td>\n",
       "      <td>1</td>\n",
       "      <td>respondent_3</td>\n",
       "      <td>2024-12-13 02:03:23</td>\n",
       "      <td>Friday</td>\n",
       "      <td>4</td>\n",
       "      <td>26</td>\n",
       "      <td>2024-12-12</td>\n",
       "    </tr>\n",
       "    <tr>\n",
       "      <th>2929</th>\n",
       "      <td>129</td>\n",
       "      <td>7</td>\n",
       "      <td>9</td>\n",
       "      <td>sd_abs_sub</td>\n",
       "      <td>2</td>\n",
       "      <td>2</td>\n",
       "      <td>100965.562</td>\n",
       "      <td>100967.140</td>\n",
       "      <td>1</td>\n",
       "      <td>respondent_3</td>\n",
       "      <td>2024-12-13 02:03:23</td>\n",
       "      <td>Friday</td>\n",
       "      <td>4</td>\n",
       "      <td>26</td>\n",
       "      <td>2024-12-12</td>\n",
       "    </tr>\n",
       "    <tr>\n",
       "      <th>2930</th>\n",
       "      <td>130</td>\n",
       "      <td>3</td>\n",
       "      <td>6</td>\n",
       "      <td>sd_abs_sub</td>\n",
       "      <td>3</td>\n",
       "      <td>3</td>\n",
       "      <td>100967.140</td>\n",
       "      <td>100968.562</td>\n",
       "      <td>1</td>\n",
       "      <td>respondent_3</td>\n",
       "      <td>2024-12-13 02:03:23</td>\n",
       "      <td>Friday</td>\n",
       "      <td>4</td>\n",
       "      <td>26</td>\n",
       "      <td>2024-12-12</td>\n",
       "    </tr>\n",
       "    <tr>\n",
       "      <th>...</th>\n",
       "      <td>...</td>\n",
       "      <td>...</td>\n",
       "      <td>...</td>\n",
       "      <td>...</td>\n",
       "      <td>...</td>\n",
       "      <td>...</td>\n",
       "      <td>...</td>\n",
       "      <td>...</td>\n",
       "      <td>...</td>\n",
       "      <td>...</td>\n",
       "      <td>...</td>\n",
       "      <td>...</td>\n",
       "      <td>...</td>\n",
       "      <td>...</td>\n",
       "      <td>...</td>\n",
       "    </tr>\n",
       "    <tr>\n",
       "      <th>6069</th>\n",
       "      <td>69</td>\n",
       "      <td>7</td>\n",
       "      <td>9</td>\n",
       "      <td>sd_last_add</td>\n",
       "      <td>6</td>\n",
       "      <td>6</td>\n",
       "      <td>4619.343</td>\n",
       "      <td>4621.000</td>\n",
       "      <td>1</td>\n",
       "      <td>respondent_4</td>\n",
       "      <td>2024-12-18 00:18:36</td>\n",
       "      <td>Wednesday</td>\n",
       "      <td>2</td>\n",
       "      <td>24</td>\n",
       "      <td>2024-12-17</td>\n",
       "    </tr>\n",
       "    <tr>\n",
       "      <th>6070</th>\n",
       "      <td>70</td>\n",
       "      <td>6</td>\n",
       "      <td>8</td>\n",
       "      <td>sd_abs_sub</td>\n",
       "      <td>2</td>\n",
       "      <td>2</td>\n",
       "      <td>4621.000</td>\n",
       "      <td>4622.250</td>\n",
       "      <td>1</td>\n",
       "      <td>respondent_4</td>\n",
       "      <td>2024-12-18 00:18:36</td>\n",
       "      <td>Wednesday</td>\n",
       "      <td>2</td>\n",
       "      <td>24</td>\n",
       "      <td>2024-12-17</td>\n",
       "    </tr>\n",
       "    <tr>\n",
       "      <th>6071</th>\n",
       "      <td>71</td>\n",
       "      <td>5</td>\n",
       "      <td>6</td>\n",
       "      <td>sd_last_add</td>\n",
       "      <td>1</td>\n",
       "      <td>1</td>\n",
       "      <td>4622.250</td>\n",
       "      <td>4623.500</td>\n",
       "      <td>1</td>\n",
       "      <td>respondent_4</td>\n",
       "      <td>2024-12-18 00:18:36</td>\n",
       "      <td>Wednesday</td>\n",
       "      <td>2</td>\n",
       "      <td>24</td>\n",
       "      <td>2024-12-17</td>\n",
       "    </tr>\n",
       "    <tr>\n",
       "      <th>6072</th>\n",
       "      <td>72</td>\n",
       "      <td>3</td>\n",
       "      <td>4</td>\n",
       "      <td>sd_last_add</td>\n",
       "      <td>7</td>\n",
       "      <td>4</td>\n",
       "      <td>4623.500</td>\n",
       "      <td>4624.765</td>\n",
       "      <td>0</td>\n",
       "      <td>respondent_4</td>\n",
       "      <td>2024-12-18 00:18:36</td>\n",
       "      <td>Wednesday</td>\n",
       "      <td>2</td>\n",
       "      <td>24</td>\n",
       "      <td>2024-12-17</td>\n",
       "    </tr>\n",
       "    <tr>\n",
       "      <th>6199</th>\n",
       "      <td>199</td>\n",
       "      <td>3</td>\n",
       "      <td>9</td>\n",
       "      <td>sd_abs_sub</td>\n",
       "      <td>6</td>\n",
       "      <td>6</td>\n",
       "      <td>4812.906</td>\n",
       "      <td>4815.203</td>\n",
       "      <td>1</td>\n",
       "      <td>respondent_4</td>\n",
       "      <td>2024-12-18 00:18:36</td>\n",
       "      <td>Wednesday</td>\n",
       "      <td>2</td>\n",
       "      <td>24</td>\n",
       "      <td>2024-12-17</td>\n",
       "    </tr>\n",
       "  </tbody>\n",
       "</table>\n",
       "<p>1000 rows × 15 columns</p>\n",
       "</div>"
      ],
      "text/plain": [
       "        #  num1  num2    operation  right_ans  user_ans  start_time  \\\n",
       "2800    0     9     2  sd_last_add          1         1  100758.578   \n",
       "2938  138     9     3   sd_abs_sub          6         6  100979.515   \n",
       "2928  128     7     7  sd_last_add          4         4  100964.031   \n",
       "2929  129     7     9   sd_abs_sub          2         2  100965.562   \n",
       "2930  130     3     6   sd_abs_sub          3         3  100967.140   \n",
       "...   ...   ...   ...          ...        ...       ...         ...   \n",
       "6069   69     7     9  sd_last_add          6         6    4619.343   \n",
       "6070   70     6     8   sd_abs_sub          2         2    4621.000   \n",
       "6071   71     5     6  sd_last_add          1         1    4622.250   \n",
       "6072   72     3     4  sd_last_add          7         4    4623.500   \n",
       "6199  199     3     9   sd_abs_sub          6         6    4812.906   \n",
       "\n",
       "        end_time  correct_flg            id            datetime    weekday  \\\n",
       "2800  100760.828            1  respondent_3 2024-12-13 02:03:23     Friday   \n",
       "2938  100980.968            1  respondent_3 2024-12-13 02:03:23     Friday   \n",
       "2928  100965.562            1  respondent_3 2024-12-13 02:03:23     Friday   \n",
       "2929  100967.140            1  respondent_3 2024-12-13 02:03:23     Friday   \n",
       "2930  100968.562            1  respondent_3 2024-12-13 02:03:23     Friday   \n",
       "...          ...          ...           ...                 ...        ...   \n",
       "6069    4621.000            1  respondent_4 2024-12-18 00:18:36  Wednesday   \n",
       "6070    4622.250            1  respondent_4 2024-12-18 00:18:36  Wednesday   \n",
       "6071    4623.500            1  respondent_4 2024-12-18 00:18:36  Wednesday   \n",
       "6072    4624.765            0  respondent_4 2024-12-18 00:18:36  Wednesday   \n",
       "6199    4815.203            1  respondent_4 2024-12-18 00:18:36  Wednesday   \n",
       "\n",
       "      weekday_num  hour        date  \n",
       "2800            4    26  2024-12-12  \n",
       "2938            4    26  2024-12-12  \n",
       "2928            4    26  2024-12-12  \n",
       "2929            4    26  2024-12-12  \n",
       "2930            4    26  2024-12-12  \n",
       "...           ...   ...         ...  \n",
       "6069            2    24  2024-12-17  \n",
       "6070            2    24  2024-12-17  \n",
       "6071            2    24  2024-12-17  \n",
       "6072            2    24  2024-12-17  \n",
       "6199            2    24  2024-12-17  \n",
       "\n",
       "[1000 rows x 15 columns]"
      ]
     },
     "execution_count": 8,
     "metadata": {},
     "output_type": "execute_result"
    }
   ],
   "source": [
    "answersLog_df[answersLog_df['hour'] > 23].sort_values('hour', ascending=False)"
   ]
  },
  {
   "cell_type": "markdown",
   "metadata": {},
   "source": [
    "## Аримфметические задачи"
   ]
  },
  {
   "cell_type": "code",
   "execution_count": 9,
   "metadata": {},
   "outputs": [
    {
     "data": {
      "text/html": [
       "<div>\n",
       "<style scoped>\n",
       "    .dataframe tbody tr th:only-of-type {\n",
       "        vertical-align: middle;\n",
       "    }\n",
       "\n",
       "    .dataframe tbody tr th {\n",
       "        vertical-align: top;\n",
       "    }\n",
       "\n",
       "    .dataframe thead th {\n",
       "        text-align: right;\n",
       "    }\n",
       "</style>\n",
       "<table border=\"1\" class=\"dataframe\">\n",
       "  <thead>\n",
       "    <tr style=\"text-align: right;\">\n",
       "      <th></th>\n",
       "      <th>#</th>\n",
       "      <th>num1</th>\n",
       "      <th>num2</th>\n",
       "      <th>operation</th>\n",
       "      <th>right_ans</th>\n",
       "      <th>user_ans</th>\n",
       "      <th>start_time</th>\n",
       "      <th>end_time</th>\n",
       "      <th>correct_flg</th>\n",
       "      <th>id</th>\n",
       "      <th>datetime</th>\n",
       "      <th>weekday</th>\n",
       "      <th>weekday_num</th>\n",
       "      <th>hour</th>\n",
       "      <th>date</th>\n",
       "      <th>response_time</th>\n",
       "    </tr>\n",
       "  </thead>\n",
       "  <tbody>\n",
       "    <tr>\n",
       "      <th>0</th>\n",
       "      <td>0</td>\n",
       "      <td>7</td>\n",
       "      <td>3</td>\n",
       "      <td>sd_abs_sub</td>\n",
       "      <td>4</td>\n",
       "      <td>4</td>\n",
       "      <td>751245.656</td>\n",
       "      <td>751247.703</td>\n",
       "      <td>1</td>\n",
       "      <td>respondent_1</td>\n",
       "      <td>2024-12-11 17:20:52</td>\n",
       "      <td>Wednesday</td>\n",
       "      <td>2</td>\n",
       "      <td>17</td>\n",
       "      <td>2024-12-11</td>\n",
       "      <td>2.047</td>\n",
       "    </tr>\n",
       "    <tr>\n",
       "      <th>1</th>\n",
       "      <td>1</td>\n",
       "      <td>6</td>\n",
       "      <td>1</td>\n",
       "      <td>sd_abs_sub</td>\n",
       "      <td>5</td>\n",
       "      <td>5</td>\n",
       "      <td>751247.703</td>\n",
       "      <td>751250.015</td>\n",
       "      <td>1</td>\n",
       "      <td>respondent_1</td>\n",
       "      <td>2024-12-11 17:20:52</td>\n",
       "      <td>Wednesday</td>\n",
       "      <td>2</td>\n",
       "      <td>17</td>\n",
       "      <td>2024-12-11</td>\n",
       "      <td>2.312</td>\n",
       "    </tr>\n",
       "    <tr>\n",
       "      <th>2</th>\n",
       "      <td>2</td>\n",
       "      <td>6</td>\n",
       "      <td>6</td>\n",
       "      <td>sd_last_add</td>\n",
       "      <td>2</td>\n",
       "      <td>2</td>\n",
       "      <td>751250.015</td>\n",
       "      <td>751251.718</td>\n",
       "      <td>1</td>\n",
       "      <td>respondent_1</td>\n",
       "      <td>2024-12-11 17:20:52</td>\n",
       "      <td>Wednesday</td>\n",
       "      <td>2</td>\n",
       "      <td>17</td>\n",
       "      <td>2024-12-11</td>\n",
       "      <td>1.703</td>\n",
       "    </tr>\n",
       "    <tr>\n",
       "      <th>3</th>\n",
       "      <td>3</td>\n",
       "      <td>3</td>\n",
       "      <td>8</td>\n",
       "      <td>sd_abs_sub</td>\n",
       "      <td>5</td>\n",
       "      <td>5</td>\n",
       "      <td>751251.734</td>\n",
       "      <td>751254.343</td>\n",
       "      <td>1</td>\n",
       "      <td>respondent_1</td>\n",
       "      <td>2024-12-11 17:20:52</td>\n",
       "      <td>Wednesday</td>\n",
       "      <td>2</td>\n",
       "      <td>17</td>\n",
       "      <td>2024-12-11</td>\n",
       "      <td>2.609</td>\n",
       "    </tr>\n",
       "    <tr>\n",
       "      <th>4</th>\n",
       "      <td>4</td>\n",
       "      <td>2</td>\n",
       "      <td>8</td>\n",
       "      <td>sd_abs_sub</td>\n",
       "      <td>6</td>\n",
       "      <td>6</td>\n",
       "      <td>751254.343</td>\n",
       "      <td>751258.421</td>\n",
       "      <td>1</td>\n",
       "      <td>respondent_1</td>\n",
       "      <td>2024-12-11 17:20:52</td>\n",
       "      <td>Wednesday</td>\n",
       "      <td>2</td>\n",
       "      <td>17</td>\n",
       "      <td>2024-12-11</td>\n",
       "      <td>4.078</td>\n",
       "    </tr>\n",
       "  </tbody>\n",
       "</table>\n",
       "</div>"
      ],
      "text/plain": [
       "   #  num1  num2    operation  right_ans  user_ans  start_time    end_time  \\\n",
       "0  0     7     3   sd_abs_sub          4         4  751245.656  751247.703   \n",
       "1  1     6     1   sd_abs_sub          5         5  751247.703  751250.015   \n",
       "2  2     6     6  sd_last_add          2         2  751250.015  751251.718   \n",
       "3  3     3     8   sd_abs_sub          5         5  751251.734  751254.343   \n",
       "4  4     2     8   sd_abs_sub          6         6  751254.343  751258.421   \n",
       "\n",
       "   correct_flg            id            datetime    weekday  weekday_num  \\\n",
       "0            1  respondent_1 2024-12-11 17:20:52  Wednesday            2   \n",
       "1            1  respondent_1 2024-12-11 17:20:52  Wednesday            2   \n",
       "2            1  respondent_1 2024-12-11 17:20:52  Wednesday            2   \n",
       "3            1  respondent_1 2024-12-11 17:20:52  Wednesday            2   \n",
       "4            1  respondent_1 2024-12-11 17:20:52  Wednesday            2   \n",
       "\n",
       "   hour        date  response_time  \n",
       "0    17  2024-12-11          2.047  \n",
       "1    17  2024-12-11          2.312  \n",
       "2    17  2024-12-11          1.703  \n",
       "3    17  2024-12-11          2.609  \n",
       "4    17  2024-12-11          4.078  "
      ]
     },
     "execution_count": 9,
     "metadata": {},
     "output_type": "execute_result"
    }
   ],
   "source": [
    "df = answersLog_df\n",
    "df['response_time'] = (df['end_time'] - df['start_time'])\n",
    "df.head()"
   ]
  },
  {
   "cell_type": "code",
   "execution_count": 10,
   "metadata": {},
   "outputs": [
    {
     "data": {
      "text/html": [
       "<div>\n",
       "<style scoped>\n",
       "    .dataframe tbody tr th:only-of-type {\n",
       "        vertical-align: middle;\n",
       "    }\n",
       "\n",
       "    .dataframe tbody tr th {\n",
       "        vertical-align: top;\n",
       "    }\n",
       "\n",
       "    .dataframe thead th {\n",
       "        text-align: right;\n",
       "    }\n",
       "</style>\n",
       "<table border=\"1\" class=\"dataframe\">\n",
       "  <thead>\n",
       "    <tr style=\"text-align: right;\">\n",
       "      <th></th>\n",
       "      <th></th>\n",
       "      <th></th>\n",
       "      <th>datetime</th>\n",
       "      <th>hour</th>\n",
       "      <th>weekday_num</th>\n",
       "      <th>response_time_mean</th>\n",
       "      <th>response_time_std</th>\n",
       "      <th>response_time_median</th>\n",
       "      <th>response_time_max</th>\n",
       "      <th>response_time_min</th>\n",
       "      <th>correct_flg_mean</th>\n",
       "    </tr>\n",
       "    <tr>\n",
       "      <th>id</th>\n",
       "      <th>date</th>\n",
       "      <th>weekday</th>\n",
       "      <th></th>\n",
       "      <th></th>\n",
       "      <th></th>\n",
       "      <th></th>\n",
       "      <th></th>\n",
       "      <th></th>\n",
       "      <th></th>\n",
       "      <th></th>\n",
       "      <th></th>\n",
       "    </tr>\n",
       "  </thead>\n",
       "  <tbody>\n",
       "    <tr>\n",
       "      <th rowspan=\"5\" valign=\"top\">respondent_1</th>\n",
       "      <th>2024-12-11</th>\n",
       "      <th>Wednesday</th>\n",
       "      <td>2024-12-11 17:20:52</td>\n",
       "      <td>17</td>\n",
       "      <td>2</td>\n",
       "      <td>1.899995</td>\n",
       "      <td>0.697397</td>\n",
       "      <td>1.6715</td>\n",
       "      <td>4.515</td>\n",
       "      <td>1.062</td>\n",
       "      <td>0.980</td>\n",
       "    </tr>\n",
       "    <tr>\n",
       "      <th rowspan=\"2\" valign=\"top\">2024-12-12</th>\n",
       "      <th>Thursday</th>\n",
       "      <td>2024-12-12 13:14:12</td>\n",
       "      <td>13</td>\n",
       "      <td>3</td>\n",
       "      <td>1.651020</td>\n",
       "      <td>0.597772</td>\n",
       "      <td>1.4295</td>\n",
       "      <td>4.438</td>\n",
       "      <td>1.062</td>\n",
       "      <td>0.975</td>\n",
       "    </tr>\n",
       "    <tr>\n",
       "      <th>Thursday</th>\n",
       "      <td>2024-12-12 21:07:06</td>\n",
       "      <td>21</td>\n",
       "      <td>3</td>\n",
       "      <td>1.639055</td>\n",
       "      <td>0.615554</td>\n",
       "      <td>1.4065</td>\n",
       "      <td>4.891</td>\n",
       "      <td>0.968</td>\n",
       "      <td>0.975</td>\n",
       "    </tr>\n",
       "    <tr>\n",
       "      <th rowspan=\"2\" valign=\"top\">2024-12-13</th>\n",
       "      <th>Friday</th>\n",
       "      <td>2024-12-13 08:20:01</td>\n",
       "      <td>8</td>\n",
       "      <td>4</td>\n",
       "      <td>1.620940</td>\n",
       "      <td>0.546910</td>\n",
       "      <td>1.4370</td>\n",
       "      <td>5.094</td>\n",
       "      <td>0.953</td>\n",
       "      <td>0.990</td>\n",
       "    </tr>\n",
       "    <tr>\n",
       "      <th>Friday</th>\n",
       "      <td>2024-12-13 20:13:02</td>\n",
       "      <td>20</td>\n",
       "      <td>4</td>\n",
       "      <td>1.537110</td>\n",
       "      <td>0.454181</td>\n",
       "      <td>1.3595</td>\n",
       "      <td>3.250</td>\n",
       "      <td>0.984</td>\n",
       "      <td>0.965</td>\n",
       "    </tr>\n",
       "  </tbody>\n",
       "</table>\n",
       "</div>"
      ],
      "text/plain": [
       "                                             datetime  hour  weekday_num  \\\n",
       "id           date       weekday                                            \n",
       "respondent_1 2024-12-11 Wednesday 2024-12-11 17:20:52    17            2   \n",
       "             2024-12-12 Thursday  2024-12-12 13:14:12    13            3   \n",
       "                        Thursday  2024-12-12 21:07:06    21            3   \n",
       "             2024-12-13 Friday    2024-12-13 08:20:01     8            4   \n",
       "                        Friday    2024-12-13 20:13:02    20            4   \n",
       "\n",
       "                                   response_time_mean  response_time_std  \\\n",
       "id           date       weekday                                            \n",
       "respondent_1 2024-12-11 Wednesday            1.899995           0.697397   \n",
       "             2024-12-12 Thursday             1.651020           0.597772   \n",
       "                        Thursday             1.639055           0.615554   \n",
       "             2024-12-13 Friday               1.620940           0.546910   \n",
       "                        Friday               1.537110           0.454181   \n",
       "\n",
       "                                   response_time_median  response_time_max  \\\n",
       "id           date       weekday                                              \n",
       "respondent_1 2024-12-11 Wednesday                1.6715              4.515   \n",
       "             2024-12-12 Thursday                 1.4295              4.438   \n",
       "                        Thursday                 1.4065              4.891   \n",
       "             2024-12-13 Friday                   1.4370              5.094   \n",
       "                        Friday                   1.3595              3.250   \n",
       "\n",
       "                                   response_time_min  correct_flg_mean  \n",
       "id           date       weekday                                         \n",
       "respondent_1 2024-12-11 Wednesday              1.062             0.980  \n",
       "             2024-12-12 Thursday               1.062             0.975  \n",
       "                        Thursday               0.968             0.975  \n",
       "             2024-12-13 Friday                 0.953             0.990  \n",
       "                        Friday                 0.984             0.965  "
      ]
     },
     "execution_count": 10,
     "metadata": {},
     "output_type": "execute_result"
    }
   ],
   "source": [
    "meta_df = df.groupby(['id', 'date','weekday',  'datetime', 'hour', 'weekday_num']).agg({\n",
    "    'response_time': ['mean', 'std', 'median', 'max', 'min'],\n",
    "    'correct_flg': 'mean'\n",
    "}).reset_index()\n",
    "meta_df.columns = ['_'.join(col).strip('_') for col in meta_df.columns.values]\n",
    "q_df = meta_df\n",
    "q_df.set_index(['id', 'date', 'weekday']).head()"
   ]
  },
  {
   "cell_type": "code",
   "execution_count": 11,
   "metadata": {},
   "outputs": [
    {
     "data": {
      "application/vnd.plotly.v1+json": {
       "config": {
        "plotlyServerURL": "https://plot.ly"
       },
       "data": [
        {
         "name": "response_time_mean",
         "type": "scatter",
         "x": [
          "2024-12-11T17:20:52.000000000",
          "2024-12-12T13:14:12.000000000",
          "2024-12-12T21:07:06.000000000",
          "2024-12-13T08:20:01.000000000",
          "2024-12-13T20:13:02.000000000",
          "2024-12-14T11:56:28.000000000",
          "2024-12-14T20:53:06.000000000",
          "2024-12-15T12:06:37.000000000",
          "2024-12-15T22:12:43.000000000"
         ],
         "xaxis": "x",
         "y": {
          "bdata": "PQo5KGFm/j/Xo5Dyk2r6P1yPVbyROfo/4XoMyF7v+T8prMWnAJj4P+GKcf4mVPc/FG6jAbyF9j8ULmACty74P+zRn/1I0fY/",
          "dtype": "f8"
         },
         "yaxis": "y"
        },
        {
         "marker": {
          "opacity": 0.6
         },
         "mode": "markers",
         "name": "response_time_mean",
         "type": "scatter",
         "x": [
          "2024-12-11T17:20:52.000000000",
          "2024-12-12T13:14:12.000000000",
          "2024-12-12T21:07:06.000000000",
          "2024-12-13T08:20:01.000000000",
          "2024-12-13T20:13:02.000000000",
          "2024-12-14T11:56:28.000000000",
          "2024-12-14T20:53:06.000000000",
          "2024-12-15T12:06:37.000000000",
          "2024-12-15T22:12:43.000000000"
         ],
         "xaxis": "x",
         "y": {
          "bdata": "PQo5KGFm/j/Xo5Dyk2r6P1yPVbyROfo/4XoMyF7v+T8prMWnAJj4P+GKcf4mVPc/FG6jAbyF9j8ULmACty74P+zRn/1I0fY/",
          "dtype": "f8"
         },
         "yaxis": "y"
        },
        {
         "name": "response_time_std",
         "type": "scatter",
         "x": [
          "2024-12-11T17:20:52.000000000",
          "2024-12-12T13:14:12.000000000",
          "2024-12-12T21:07:06.000000000",
          "2024-12-13T08:20:01.000000000",
          "2024-12-13T20:13:02.000000000",
          "2024-12-14T11:56:28.000000000",
          "2024-12-14T20:53:06.000000000",
          "2024-12-15T12:06:37.000000000",
          "2024-12-15T22:12:43.000000000"
         ],
         "xaxis": "x2",
         "y": {
          "bdata": "3AsuwhNR5j9NPiG48yDjPyQWT8mdsuM/eJUfp0mA4T/sk+iHTBHdPwEGQTvf9No/pfSKzvEU2z/DctVdFcXdP4LVYCGbodg/",
          "dtype": "f8"
         },
         "yaxis": "y2"
        },
        {
         "marker": {
          "opacity": 0.6
         },
         "mode": "markers",
         "type": "scatter",
         "x": [
          "2024-12-11T17:20:52.000000000",
          "2024-12-12T13:14:12.000000000",
          "2024-12-12T21:07:06.000000000",
          "2024-12-13T08:20:01.000000000",
          "2024-12-13T20:13:02.000000000",
          "2024-12-14T11:56:28.000000000",
          "2024-12-14T20:53:06.000000000",
          "2024-12-15T12:06:37.000000000",
          "2024-12-15T22:12:43.000000000"
         ],
         "xaxis": "x2",
         "y": {
          "bdata": "3AsuwhNR5j9NPiG48yDjPyQWT8mdsuM/eJUfp0mA4T/sk+iHTBHdPwEGQTvf9No/pfSKzvEU2z/DctVdFcXdP4LVYCGbodg/",
          "dtype": "f8"
         },
         "yaxis": "y2"
        }
       ],
       "layout": {
        "annotations": [
         {
          "font": {
           "size": 16
          },
          "showarrow": false,
          "text": "Response time mean",
          "x": 0.5,
          "xanchor": "center",
          "xref": "paper",
          "y": 1,
          "yanchor": "bottom",
          "yref": "paper"
         },
         {
          "font": {
           "size": 16
          },
          "showarrow": false,
          "text": "Response time std",
          "x": 0.5,
          "xanchor": "center",
          "xref": "paper",
          "y": 0.375,
          "yanchor": "bottom",
          "yref": "paper"
         }
        ],
        "height": 300,
        "showlegend": false,
        "template": {
         "data": {
          "bar": [
           {
            "error_x": {
             "color": "#2a3f5f"
            },
            "error_y": {
             "color": "#2a3f5f"
            },
            "marker": {
             "line": {
              "color": "#E5ECF6",
              "width": 0.5
             },
             "pattern": {
              "fillmode": "overlay",
              "size": 10,
              "solidity": 0.2
             }
            },
            "type": "bar"
           }
          ],
          "barpolar": [
           {
            "marker": {
             "line": {
              "color": "#E5ECF6",
              "width": 0.5
             },
             "pattern": {
              "fillmode": "overlay",
              "size": 10,
              "solidity": 0.2
             }
            },
            "type": "barpolar"
           }
          ],
          "carpet": [
           {
            "aaxis": {
             "endlinecolor": "#2a3f5f",
             "gridcolor": "white",
             "linecolor": "white",
             "minorgridcolor": "white",
             "startlinecolor": "#2a3f5f"
            },
            "baxis": {
             "endlinecolor": "#2a3f5f",
             "gridcolor": "white",
             "linecolor": "white",
             "minorgridcolor": "white",
             "startlinecolor": "#2a3f5f"
            },
            "type": "carpet"
           }
          ],
          "choropleth": [
           {
            "colorbar": {
             "outlinewidth": 0,
             "ticks": ""
            },
            "type": "choropleth"
           }
          ],
          "contour": [
           {
            "colorbar": {
             "outlinewidth": 0,
             "ticks": ""
            },
            "colorscale": [
             [
              0,
              "#0d0887"
             ],
             [
              0.1111111111111111,
              "#46039f"
             ],
             [
              0.2222222222222222,
              "#7201a8"
             ],
             [
              0.3333333333333333,
              "#9c179e"
             ],
             [
              0.4444444444444444,
              "#bd3786"
             ],
             [
              0.5555555555555556,
              "#d8576b"
             ],
             [
              0.6666666666666666,
              "#ed7953"
             ],
             [
              0.7777777777777778,
              "#fb9f3a"
             ],
             [
              0.8888888888888888,
              "#fdca26"
             ],
             [
              1,
              "#f0f921"
             ]
            ],
            "type": "contour"
           }
          ],
          "contourcarpet": [
           {
            "colorbar": {
             "outlinewidth": 0,
             "ticks": ""
            },
            "type": "contourcarpet"
           }
          ],
          "heatmap": [
           {
            "colorbar": {
             "outlinewidth": 0,
             "ticks": ""
            },
            "colorscale": [
             [
              0,
              "#0d0887"
             ],
             [
              0.1111111111111111,
              "#46039f"
             ],
             [
              0.2222222222222222,
              "#7201a8"
             ],
             [
              0.3333333333333333,
              "#9c179e"
             ],
             [
              0.4444444444444444,
              "#bd3786"
             ],
             [
              0.5555555555555556,
              "#d8576b"
             ],
             [
              0.6666666666666666,
              "#ed7953"
             ],
             [
              0.7777777777777778,
              "#fb9f3a"
             ],
             [
              0.8888888888888888,
              "#fdca26"
             ],
             [
              1,
              "#f0f921"
             ]
            ],
            "type": "heatmap"
           }
          ],
          "histogram": [
           {
            "marker": {
             "pattern": {
              "fillmode": "overlay",
              "size": 10,
              "solidity": 0.2
             }
            },
            "type": "histogram"
           }
          ],
          "histogram2d": [
           {
            "colorbar": {
             "outlinewidth": 0,
             "ticks": ""
            },
            "colorscale": [
             [
              0,
              "#0d0887"
             ],
             [
              0.1111111111111111,
              "#46039f"
             ],
             [
              0.2222222222222222,
              "#7201a8"
             ],
             [
              0.3333333333333333,
              "#9c179e"
             ],
             [
              0.4444444444444444,
              "#bd3786"
             ],
             [
              0.5555555555555556,
              "#d8576b"
             ],
             [
              0.6666666666666666,
              "#ed7953"
             ],
             [
              0.7777777777777778,
              "#fb9f3a"
             ],
             [
              0.8888888888888888,
              "#fdca26"
             ],
             [
              1,
              "#f0f921"
             ]
            ],
            "type": "histogram2d"
           }
          ],
          "histogram2dcontour": [
           {
            "colorbar": {
             "outlinewidth": 0,
             "ticks": ""
            },
            "colorscale": [
             [
              0,
              "#0d0887"
             ],
             [
              0.1111111111111111,
              "#46039f"
             ],
             [
              0.2222222222222222,
              "#7201a8"
             ],
             [
              0.3333333333333333,
              "#9c179e"
             ],
             [
              0.4444444444444444,
              "#bd3786"
             ],
             [
              0.5555555555555556,
              "#d8576b"
             ],
             [
              0.6666666666666666,
              "#ed7953"
             ],
             [
              0.7777777777777778,
              "#fb9f3a"
             ],
             [
              0.8888888888888888,
              "#fdca26"
             ],
             [
              1,
              "#f0f921"
             ]
            ],
            "type": "histogram2dcontour"
           }
          ],
          "mesh3d": [
           {
            "colorbar": {
             "outlinewidth": 0,
             "ticks": ""
            },
            "type": "mesh3d"
           }
          ],
          "parcoords": [
           {
            "line": {
             "colorbar": {
              "outlinewidth": 0,
              "ticks": ""
             }
            },
            "type": "parcoords"
           }
          ],
          "pie": [
           {
            "automargin": true,
            "type": "pie"
           }
          ],
          "scatter": [
           {
            "fillpattern": {
             "fillmode": "overlay",
             "size": 10,
             "solidity": 0.2
            },
            "type": "scatter"
           }
          ],
          "scatter3d": [
           {
            "line": {
             "colorbar": {
              "outlinewidth": 0,
              "ticks": ""
             }
            },
            "marker": {
             "colorbar": {
              "outlinewidth": 0,
              "ticks": ""
             }
            },
            "type": "scatter3d"
           }
          ],
          "scattercarpet": [
           {
            "marker": {
             "colorbar": {
              "outlinewidth": 0,
              "ticks": ""
             }
            },
            "type": "scattercarpet"
           }
          ],
          "scattergeo": [
           {
            "marker": {
             "colorbar": {
              "outlinewidth": 0,
              "ticks": ""
             }
            },
            "type": "scattergeo"
           }
          ],
          "scattergl": [
           {
            "marker": {
             "colorbar": {
              "outlinewidth": 0,
              "ticks": ""
             }
            },
            "type": "scattergl"
           }
          ],
          "scattermap": [
           {
            "marker": {
             "colorbar": {
              "outlinewidth": 0,
              "ticks": ""
             }
            },
            "type": "scattermap"
           }
          ],
          "scattermapbox": [
           {
            "marker": {
             "colorbar": {
              "outlinewidth": 0,
              "ticks": ""
             }
            },
            "type": "scattermapbox"
           }
          ],
          "scatterpolar": [
           {
            "marker": {
             "colorbar": {
              "outlinewidth": 0,
              "ticks": ""
             }
            },
            "type": "scatterpolar"
           }
          ],
          "scatterpolargl": [
           {
            "marker": {
             "colorbar": {
              "outlinewidth": 0,
              "ticks": ""
             }
            },
            "type": "scatterpolargl"
           }
          ],
          "scatterternary": [
           {
            "marker": {
             "colorbar": {
              "outlinewidth": 0,
              "ticks": ""
             }
            },
            "type": "scatterternary"
           }
          ],
          "surface": [
           {
            "colorbar": {
             "outlinewidth": 0,
             "ticks": ""
            },
            "colorscale": [
             [
              0,
              "#0d0887"
             ],
             [
              0.1111111111111111,
              "#46039f"
             ],
             [
              0.2222222222222222,
              "#7201a8"
             ],
             [
              0.3333333333333333,
              "#9c179e"
             ],
             [
              0.4444444444444444,
              "#bd3786"
             ],
             [
              0.5555555555555556,
              "#d8576b"
             ],
             [
              0.6666666666666666,
              "#ed7953"
             ],
             [
              0.7777777777777778,
              "#fb9f3a"
             ],
             [
              0.8888888888888888,
              "#fdca26"
             ],
             [
              1,
              "#f0f921"
             ]
            ],
            "type": "surface"
           }
          ],
          "table": [
           {
            "cells": {
             "fill": {
              "color": "#EBF0F8"
             },
             "line": {
              "color": "white"
             }
            },
            "header": {
             "fill": {
              "color": "#C8D4E3"
             },
             "line": {
              "color": "white"
             }
            },
            "type": "table"
           }
          ]
         },
         "layout": {
          "annotationdefaults": {
           "arrowcolor": "#2a3f5f",
           "arrowhead": 0,
           "arrowwidth": 1
          },
          "autotypenumbers": "strict",
          "coloraxis": {
           "colorbar": {
            "outlinewidth": 0,
            "ticks": ""
           }
          },
          "colorscale": {
           "diverging": [
            [
             0,
             "#8e0152"
            ],
            [
             0.1,
             "#c51b7d"
            ],
            [
             0.2,
             "#de77ae"
            ],
            [
             0.3,
             "#f1b6da"
            ],
            [
             0.4,
             "#fde0ef"
            ],
            [
             0.5,
             "#f7f7f7"
            ],
            [
             0.6,
             "#e6f5d0"
            ],
            [
             0.7,
             "#b8e186"
            ],
            [
             0.8,
             "#7fbc41"
            ],
            [
             0.9,
             "#4d9221"
            ],
            [
             1,
             "#276419"
            ]
           ],
           "sequential": [
            [
             0,
             "#0d0887"
            ],
            [
             0.1111111111111111,
             "#46039f"
            ],
            [
             0.2222222222222222,
             "#7201a8"
            ],
            [
             0.3333333333333333,
             "#9c179e"
            ],
            [
             0.4444444444444444,
             "#bd3786"
            ],
            [
             0.5555555555555556,
             "#d8576b"
            ],
            [
             0.6666666666666666,
             "#ed7953"
            ],
            [
             0.7777777777777778,
             "#fb9f3a"
            ],
            [
             0.8888888888888888,
             "#fdca26"
            ],
            [
             1,
             "#f0f921"
            ]
           ],
           "sequentialminus": [
            [
             0,
             "#0d0887"
            ],
            [
             0.1111111111111111,
             "#46039f"
            ],
            [
             0.2222222222222222,
             "#7201a8"
            ],
            [
             0.3333333333333333,
             "#9c179e"
            ],
            [
             0.4444444444444444,
             "#bd3786"
            ],
            [
             0.5555555555555556,
             "#d8576b"
            ],
            [
             0.6666666666666666,
             "#ed7953"
            ],
            [
             0.7777777777777778,
             "#fb9f3a"
            ],
            [
             0.8888888888888888,
             "#fdca26"
            ],
            [
             1,
             "#f0f921"
            ]
           ]
          },
          "colorway": [
           "#636efa",
           "#EF553B",
           "#00cc96",
           "#ab63fa",
           "#FFA15A",
           "#19d3f3",
           "#FF6692",
           "#B6E880",
           "#FF97FF",
           "#FECB52"
          ],
          "font": {
           "color": "#2a3f5f"
          },
          "geo": {
           "bgcolor": "white",
           "lakecolor": "white",
           "landcolor": "#E5ECF6",
           "showlakes": true,
           "showland": true,
           "subunitcolor": "white"
          },
          "hoverlabel": {
           "align": "left"
          },
          "hovermode": "closest",
          "mapbox": {
           "style": "light"
          },
          "paper_bgcolor": "white",
          "plot_bgcolor": "#E5ECF6",
          "polar": {
           "angularaxis": {
            "gridcolor": "white",
            "linecolor": "white",
            "ticks": ""
           },
           "bgcolor": "#E5ECF6",
           "radialaxis": {
            "gridcolor": "white",
            "linecolor": "white",
            "ticks": ""
           }
          },
          "scene": {
           "xaxis": {
            "backgroundcolor": "#E5ECF6",
            "gridcolor": "white",
            "gridwidth": 2,
            "linecolor": "white",
            "showbackground": true,
            "ticks": "",
            "zerolinecolor": "white"
           },
           "yaxis": {
            "backgroundcolor": "#E5ECF6",
            "gridcolor": "white",
            "gridwidth": 2,
            "linecolor": "white",
            "showbackground": true,
            "ticks": "",
            "zerolinecolor": "white"
           },
           "zaxis": {
            "backgroundcolor": "#E5ECF6",
            "gridcolor": "white",
            "gridwidth": 2,
            "linecolor": "white",
            "showbackground": true,
            "ticks": "",
            "zerolinecolor": "white"
           }
          },
          "shapedefaults": {
           "line": {
            "color": "#2a3f5f"
           }
          },
          "ternary": {
           "aaxis": {
            "gridcolor": "white",
            "linecolor": "white",
            "ticks": ""
           },
           "baxis": {
            "gridcolor": "white",
            "linecolor": "white",
            "ticks": ""
           },
           "bgcolor": "#E5ECF6",
           "caxis": {
            "gridcolor": "white",
            "linecolor": "white",
            "ticks": ""
           }
          },
          "title": {
           "x": 0.05
          },
          "xaxis": {
           "automargin": true,
           "gridcolor": "white",
           "linecolor": "white",
           "ticks": "",
           "title": {
            "standoff": 15
           },
           "zerolinecolor": "white",
           "zerolinewidth": 2
          },
          "yaxis": {
           "automargin": true,
           "gridcolor": "white",
           "linecolor": "white",
           "ticks": "",
           "title": {
            "standoff": 15
           },
           "zerolinecolor": "white",
           "zerolinewidth": 2
          }
         }
        },
        "title": {
         "text": "respondent_1. Динамика времени на ответ"
        },
        "xaxis": {
         "anchor": "y",
         "domain": [
          0,
          1
         ],
         "matches": "x2",
         "showticklabels": false
        },
        "xaxis2": {
         "anchor": "y2",
         "domain": [
          0,
          1
         ],
         "title": {
          "text": "Время"
         }
        },
        "yaxis": {
         "anchor": "x",
         "domain": [
          0.625,
          1
         ]
        },
        "yaxis2": {
         "anchor": "x2",
         "domain": [
          0,
          0.375
         ]
        }
       }
      }
     },
     "metadata": {},
     "output_type": "display_data"
    },
    {
     "data": {
      "application/vnd.plotly.v1+json": {
       "config": {
        "plotlyServerURL": "https://plot.ly"
       },
       "data": [
        {
         "name": "response_time_mean",
         "type": "scatter",
         "x": [
          "2024-12-11T16:09:52.000000000",
          "2024-12-12T19:57:16.000000000"
         ],
         "xaxis": "x",
         "y": {
          "bdata": "10M+6NnsB0AzA0NWt/oBQA==",
          "dtype": "f8"
         },
         "yaxis": "y"
        },
        {
         "marker": {
          "opacity": 0.6
         },
         "mode": "markers",
         "name": "response_time_mean",
         "type": "scatter",
         "x": [
          "2024-12-11T16:09:52.000000000",
          "2024-12-12T19:57:16.000000000"
         ],
         "xaxis": "x",
         "y": {
          "bdata": "10M+6NnsB0AzA0NWt/oBQA==",
          "dtype": "f8"
         },
         "yaxis": "y"
        },
        {
         "name": "response_time_std",
         "type": "scatter",
         "x": [
          "2024-12-11T16:09:52.000000000",
          "2024-12-12T19:57:16.000000000"
         ],
         "xaxis": "x2",
         "y": {
          "bdata": "KrbLgEej9z8jsH2j/93xPw==",
          "dtype": "f8"
         },
         "yaxis": "y2"
        },
        {
         "marker": {
          "opacity": 0.6
         },
         "mode": "markers",
         "type": "scatter",
         "x": [
          "2024-12-11T16:09:52.000000000",
          "2024-12-12T19:57:16.000000000"
         ],
         "xaxis": "x2",
         "y": {
          "bdata": "KrbLgEej9z8jsH2j/93xPw==",
          "dtype": "f8"
         },
         "yaxis": "y2"
        }
       ],
       "layout": {
        "annotations": [
         {
          "font": {
           "size": 16
          },
          "showarrow": false,
          "text": "Response time mean",
          "x": 0.5,
          "xanchor": "center",
          "xref": "paper",
          "y": 1,
          "yanchor": "bottom",
          "yref": "paper"
         },
         {
          "font": {
           "size": 16
          },
          "showarrow": false,
          "text": "Response time std",
          "x": 0.5,
          "xanchor": "center",
          "xref": "paper",
          "y": 0.375,
          "yanchor": "bottom",
          "yref": "paper"
         }
        ],
        "height": 300,
        "showlegend": false,
        "template": {
         "data": {
          "bar": [
           {
            "error_x": {
             "color": "#2a3f5f"
            },
            "error_y": {
             "color": "#2a3f5f"
            },
            "marker": {
             "line": {
              "color": "#E5ECF6",
              "width": 0.5
             },
             "pattern": {
              "fillmode": "overlay",
              "size": 10,
              "solidity": 0.2
             }
            },
            "type": "bar"
           }
          ],
          "barpolar": [
           {
            "marker": {
             "line": {
              "color": "#E5ECF6",
              "width": 0.5
             },
             "pattern": {
              "fillmode": "overlay",
              "size": 10,
              "solidity": 0.2
             }
            },
            "type": "barpolar"
           }
          ],
          "carpet": [
           {
            "aaxis": {
             "endlinecolor": "#2a3f5f",
             "gridcolor": "white",
             "linecolor": "white",
             "minorgridcolor": "white",
             "startlinecolor": "#2a3f5f"
            },
            "baxis": {
             "endlinecolor": "#2a3f5f",
             "gridcolor": "white",
             "linecolor": "white",
             "minorgridcolor": "white",
             "startlinecolor": "#2a3f5f"
            },
            "type": "carpet"
           }
          ],
          "choropleth": [
           {
            "colorbar": {
             "outlinewidth": 0,
             "ticks": ""
            },
            "type": "choropleth"
           }
          ],
          "contour": [
           {
            "colorbar": {
             "outlinewidth": 0,
             "ticks": ""
            },
            "colorscale": [
             [
              0,
              "#0d0887"
             ],
             [
              0.1111111111111111,
              "#46039f"
             ],
             [
              0.2222222222222222,
              "#7201a8"
             ],
             [
              0.3333333333333333,
              "#9c179e"
             ],
             [
              0.4444444444444444,
              "#bd3786"
             ],
             [
              0.5555555555555556,
              "#d8576b"
             ],
             [
              0.6666666666666666,
              "#ed7953"
             ],
             [
              0.7777777777777778,
              "#fb9f3a"
             ],
             [
              0.8888888888888888,
              "#fdca26"
             ],
             [
              1,
              "#f0f921"
             ]
            ],
            "type": "contour"
           }
          ],
          "contourcarpet": [
           {
            "colorbar": {
             "outlinewidth": 0,
             "ticks": ""
            },
            "type": "contourcarpet"
           }
          ],
          "heatmap": [
           {
            "colorbar": {
             "outlinewidth": 0,
             "ticks": ""
            },
            "colorscale": [
             [
              0,
              "#0d0887"
             ],
             [
              0.1111111111111111,
              "#46039f"
             ],
             [
              0.2222222222222222,
              "#7201a8"
             ],
             [
              0.3333333333333333,
              "#9c179e"
             ],
             [
              0.4444444444444444,
              "#bd3786"
             ],
             [
              0.5555555555555556,
              "#d8576b"
             ],
             [
              0.6666666666666666,
              "#ed7953"
             ],
             [
              0.7777777777777778,
              "#fb9f3a"
             ],
             [
              0.8888888888888888,
              "#fdca26"
             ],
             [
              1,
              "#f0f921"
             ]
            ],
            "type": "heatmap"
           }
          ],
          "histogram": [
           {
            "marker": {
             "pattern": {
              "fillmode": "overlay",
              "size": 10,
              "solidity": 0.2
             }
            },
            "type": "histogram"
           }
          ],
          "histogram2d": [
           {
            "colorbar": {
             "outlinewidth": 0,
             "ticks": ""
            },
            "colorscale": [
             [
              0,
              "#0d0887"
             ],
             [
              0.1111111111111111,
              "#46039f"
             ],
             [
              0.2222222222222222,
              "#7201a8"
             ],
             [
              0.3333333333333333,
              "#9c179e"
             ],
             [
              0.4444444444444444,
              "#bd3786"
             ],
             [
              0.5555555555555556,
              "#d8576b"
             ],
             [
              0.6666666666666666,
              "#ed7953"
             ],
             [
              0.7777777777777778,
              "#fb9f3a"
             ],
             [
              0.8888888888888888,
              "#fdca26"
             ],
             [
              1,
              "#f0f921"
             ]
            ],
            "type": "histogram2d"
           }
          ],
          "histogram2dcontour": [
           {
            "colorbar": {
             "outlinewidth": 0,
             "ticks": ""
            },
            "colorscale": [
             [
              0,
              "#0d0887"
             ],
             [
              0.1111111111111111,
              "#46039f"
             ],
             [
              0.2222222222222222,
              "#7201a8"
             ],
             [
              0.3333333333333333,
              "#9c179e"
             ],
             [
              0.4444444444444444,
              "#bd3786"
             ],
             [
              0.5555555555555556,
              "#d8576b"
             ],
             [
              0.6666666666666666,
              "#ed7953"
             ],
             [
              0.7777777777777778,
              "#fb9f3a"
             ],
             [
              0.8888888888888888,
              "#fdca26"
             ],
             [
              1,
              "#f0f921"
             ]
            ],
            "type": "histogram2dcontour"
           }
          ],
          "mesh3d": [
           {
            "colorbar": {
             "outlinewidth": 0,
             "ticks": ""
            },
            "type": "mesh3d"
           }
          ],
          "parcoords": [
           {
            "line": {
             "colorbar": {
              "outlinewidth": 0,
              "ticks": ""
             }
            },
            "type": "parcoords"
           }
          ],
          "pie": [
           {
            "automargin": true,
            "type": "pie"
           }
          ],
          "scatter": [
           {
            "fillpattern": {
             "fillmode": "overlay",
             "size": 10,
             "solidity": 0.2
            },
            "type": "scatter"
           }
          ],
          "scatter3d": [
           {
            "line": {
             "colorbar": {
              "outlinewidth": 0,
              "ticks": ""
             }
            },
            "marker": {
             "colorbar": {
              "outlinewidth": 0,
              "ticks": ""
             }
            },
            "type": "scatter3d"
           }
          ],
          "scattercarpet": [
           {
            "marker": {
             "colorbar": {
              "outlinewidth": 0,
              "ticks": ""
             }
            },
            "type": "scattercarpet"
           }
          ],
          "scattergeo": [
           {
            "marker": {
             "colorbar": {
              "outlinewidth": 0,
              "ticks": ""
             }
            },
            "type": "scattergeo"
           }
          ],
          "scattergl": [
           {
            "marker": {
             "colorbar": {
              "outlinewidth": 0,
              "ticks": ""
             }
            },
            "type": "scattergl"
           }
          ],
          "scattermap": [
           {
            "marker": {
             "colorbar": {
              "outlinewidth": 0,
              "ticks": ""
             }
            },
            "type": "scattermap"
           }
          ],
          "scattermapbox": [
           {
            "marker": {
             "colorbar": {
              "outlinewidth": 0,
              "ticks": ""
             }
            },
            "type": "scattermapbox"
           }
          ],
          "scatterpolar": [
           {
            "marker": {
             "colorbar": {
              "outlinewidth": 0,
              "ticks": ""
             }
            },
            "type": "scatterpolar"
           }
          ],
          "scatterpolargl": [
           {
            "marker": {
             "colorbar": {
              "outlinewidth": 0,
              "ticks": ""
             }
            },
            "type": "scatterpolargl"
           }
          ],
          "scatterternary": [
           {
            "marker": {
             "colorbar": {
              "outlinewidth": 0,
              "ticks": ""
             }
            },
            "type": "scatterternary"
           }
          ],
          "surface": [
           {
            "colorbar": {
             "outlinewidth": 0,
             "ticks": ""
            },
            "colorscale": [
             [
              0,
              "#0d0887"
             ],
             [
              0.1111111111111111,
              "#46039f"
             ],
             [
              0.2222222222222222,
              "#7201a8"
             ],
             [
              0.3333333333333333,
              "#9c179e"
             ],
             [
              0.4444444444444444,
              "#bd3786"
             ],
             [
              0.5555555555555556,
              "#d8576b"
             ],
             [
              0.6666666666666666,
              "#ed7953"
             ],
             [
              0.7777777777777778,
              "#fb9f3a"
             ],
             [
              0.8888888888888888,
              "#fdca26"
             ],
             [
              1,
              "#f0f921"
             ]
            ],
            "type": "surface"
           }
          ],
          "table": [
           {
            "cells": {
             "fill": {
              "color": "#EBF0F8"
             },
             "line": {
              "color": "white"
             }
            },
            "header": {
             "fill": {
              "color": "#C8D4E3"
             },
             "line": {
              "color": "white"
             }
            },
            "type": "table"
           }
          ]
         },
         "layout": {
          "annotationdefaults": {
           "arrowcolor": "#2a3f5f",
           "arrowhead": 0,
           "arrowwidth": 1
          },
          "autotypenumbers": "strict",
          "coloraxis": {
           "colorbar": {
            "outlinewidth": 0,
            "ticks": ""
           }
          },
          "colorscale": {
           "diverging": [
            [
             0,
             "#8e0152"
            ],
            [
             0.1,
             "#c51b7d"
            ],
            [
             0.2,
             "#de77ae"
            ],
            [
             0.3,
             "#f1b6da"
            ],
            [
             0.4,
             "#fde0ef"
            ],
            [
             0.5,
             "#f7f7f7"
            ],
            [
             0.6,
             "#e6f5d0"
            ],
            [
             0.7,
             "#b8e186"
            ],
            [
             0.8,
             "#7fbc41"
            ],
            [
             0.9,
             "#4d9221"
            ],
            [
             1,
             "#276419"
            ]
           ],
           "sequential": [
            [
             0,
             "#0d0887"
            ],
            [
             0.1111111111111111,
             "#46039f"
            ],
            [
             0.2222222222222222,
             "#7201a8"
            ],
            [
             0.3333333333333333,
             "#9c179e"
            ],
            [
             0.4444444444444444,
             "#bd3786"
            ],
            [
             0.5555555555555556,
             "#d8576b"
            ],
            [
             0.6666666666666666,
             "#ed7953"
            ],
            [
             0.7777777777777778,
             "#fb9f3a"
            ],
            [
             0.8888888888888888,
             "#fdca26"
            ],
            [
             1,
             "#f0f921"
            ]
           ],
           "sequentialminus": [
            [
             0,
             "#0d0887"
            ],
            [
             0.1111111111111111,
             "#46039f"
            ],
            [
             0.2222222222222222,
             "#7201a8"
            ],
            [
             0.3333333333333333,
             "#9c179e"
            ],
            [
             0.4444444444444444,
             "#bd3786"
            ],
            [
             0.5555555555555556,
             "#d8576b"
            ],
            [
             0.6666666666666666,
             "#ed7953"
            ],
            [
             0.7777777777777778,
             "#fb9f3a"
            ],
            [
             0.8888888888888888,
             "#fdca26"
            ],
            [
             1,
             "#f0f921"
            ]
           ]
          },
          "colorway": [
           "#636efa",
           "#EF553B",
           "#00cc96",
           "#ab63fa",
           "#FFA15A",
           "#19d3f3",
           "#FF6692",
           "#B6E880",
           "#FF97FF",
           "#FECB52"
          ],
          "font": {
           "color": "#2a3f5f"
          },
          "geo": {
           "bgcolor": "white",
           "lakecolor": "white",
           "landcolor": "#E5ECF6",
           "showlakes": true,
           "showland": true,
           "subunitcolor": "white"
          },
          "hoverlabel": {
           "align": "left"
          },
          "hovermode": "closest",
          "mapbox": {
           "style": "light"
          },
          "paper_bgcolor": "white",
          "plot_bgcolor": "#E5ECF6",
          "polar": {
           "angularaxis": {
            "gridcolor": "white",
            "linecolor": "white",
            "ticks": ""
           },
           "bgcolor": "#E5ECF6",
           "radialaxis": {
            "gridcolor": "white",
            "linecolor": "white",
            "ticks": ""
           }
          },
          "scene": {
           "xaxis": {
            "backgroundcolor": "#E5ECF6",
            "gridcolor": "white",
            "gridwidth": 2,
            "linecolor": "white",
            "showbackground": true,
            "ticks": "",
            "zerolinecolor": "white"
           },
           "yaxis": {
            "backgroundcolor": "#E5ECF6",
            "gridcolor": "white",
            "gridwidth": 2,
            "linecolor": "white",
            "showbackground": true,
            "ticks": "",
            "zerolinecolor": "white"
           },
           "zaxis": {
            "backgroundcolor": "#E5ECF6",
            "gridcolor": "white",
            "gridwidth": 2,
            "linecolor": "white",
            "showbackground": true,
            "ticks": "",
            "zerolinecolor": "white"
           }
          },
          "shapedefaults": {
           "line": {
            "color": "#2a3f5f"
           }
          },
          "ternary": {
           "aaxis": {
            "gridcolor": "white",
            "linecolor": "white",
            "ticks": ""
           },
           "baxis": {
            "gridcolor": "white",
            "linecolor": "white",
            "ticks": ""
           },
           "bgcolor": "#E5ECF6",
           "caxis": {
            "gridcolor": "white",
            "linecolor": "white",
            "ticks": ""
           }
          },
          "title": {
           "x": 0.05
          },
          "xaxis": {
           "automargin": true,
           "gridcolor": "white",
           "linecolor": "white",
           "ticks": "",
           "title": {
            "standoff": 15
           },
           "zerolinecolor": "white",
           "zerolinewidth": 2
          },
          "yaxis": {
           "automargin": true,
           "gridcolor": "white",
           "linecolor": "white",
           "ticks": "",
           "title": {
            "standoff": 15
           },
           "zerolinecolor": "white",
           "zerolinewidth": 2
          }
         }
        },
        "title": {
         "text": "respondent_2. Динамика времени на ответ"
        },
        "xaxis": {
         "anchor": "y",
         "domain": [
          0,
          1
         ],
         "matches": "x2",
         "showticklabels": false
        },
        "xaxis2": {
         "anchor": "y2",
         "domain": [
          0,
          1
         ],
         "title": {
          "text": "Время"
         }
        },
        "yaxis": {
         "anchor": "x",
         "domain": [
          0.625,
          1
         ]
        },
        "yaxis2": {
         "anchor": "x2",
         "domain": [
          0,
          0.375
         ]
        }
       }
      }
     },
     "metadata": {},
     "output_type": "display_data"
    },
    {
     "data": {
      "application/vnd.plotly.v1+json": {
       "config": {
        "plotlyServerURL": "https://plot.ly"
       },
       "data": [
        {
         "name": "response_time_mean",
         "type": "scatter",
         "x": [
          "2024-12-11T10:55:16.000000000",
          "2024-12-11T15:51:05.000000000",
          "2024-12-11T22:05:25.000000000",
          "2024-12-13T02:03:23.000000000",
          "2024-12-13T10:32:47.000000000",
          "2024-12-14T13:00:47.000000000",
          "2024-12-15T01:16:30.000000000"
         ],
         "xaxis": "x",
         "y": {
          "bdata": "UvjG156Z/j+kcNi2KLP6P8ZQTrSrEPs/HyUjZ2HP+D/hehghPFr4Px/lNXaJavo/4TrNO07R9j8=",
          "dtype": "f8"
         },
         "yaxis": "y"
        },
        {
         "marker": {
          "opacity": 0.6
         },
         "mode": "markers",
         "name": "response_time_mean",
         "type": "scatter",
         "x": [
          "2024-12-11T10:55:16.000000000",
          "2024-12-11T15:51:05.000000000",
          "2024-12-11T22:05:25.000000000",
          "2024-12-13T02:03:23.000000000",
          "2024-12-13T10:32:47.000000000",
          "2024-12-14T13:00:47.000000000",
          "2024-12-15T01:16:30.000000000"
         ],
         "xaxis": "x",
         "y": {
          "bdata": "UvjG156Z/j+kcNi2KLP6P8ZQTrSrEPs/HyUjZ2HP+D/hehghPFr4Px/lNXaJavo/4TrNO07R9j8=",
          "dtype": "f8"
         },
         "yaxis": "y"
        },
        {
         "name": "response_time_std",
         "type": "scatter",
         "x": [
          "2024-12-11T10:55:16.000000000",
          "2024-12-11T15:51:05.000000000",
          "2024-12-11T22:05:25.000000000",
          "2024-12-13T02:03:23.000000000",
          "2024-12-13T10:32:47.000000000",
          "2024-12-14T13:00:47.000000000",
          "2024-12-15T01:16:30.000000000"
         ],
         "xaxis": "x2",
         "y": {
          "bdata": "qikaLbLz5D9+fOqEVwLhP22WoE1fyuQ/JJkGE7ys2z+Mq0RUUm/bP6puPqGaitw/KRERjbCN2j8=",
          "dtype": "f8"
         },
         "yaxis": "y2"
        },
        {
         "marker": {
          "opacity": 0.6
         },
         "mode": "markers",
         "type": "scatter",
         "x": [
          "2024-12-11T10:55:16.000000000",
          "2024-12-11T15:51:05.000000000",
          "2024-12-11T22:05:25.000000000",
          "2024-12-13T02:03:23.000000000",
          "2024-12-13T10:32:47.000000000",
          "2024-12-14T13:00:47.000000000",
          "2024-12-15T01:16:30.000000000"
         ],
         "xaxis": "x2",
         "y": {
          "bdata": "qikaLbLz5D9+fOqEVwLhP22WoE1fyuQ/JJkGE7ys2z+Mq0RUUm/bP6puPqGaitw/KRERjbCN2j8=",
          "dtype": "f8"
         },
         "yaxis": "y2"
        }
       ],
       "layout": {
        "annotations": [
         {
          "font": {
           "size": 16
          },
          "showarrow": false,
          "text": "Response time mean",
          "x": 0.5,
          "xanchor": "center",
          "xref": "paper",
          "y": 1,
          "yanchor": "bottom",
          "yref": "paper"
         },
         {
          "font": {
           "size": 16
          },
          "showarrow": false,
          "text": "Response time std",
          "x": 0.5,
          "xanchor": "center",
          "xref": "paper",
          "y": 0.375,
          "yanchor": "bottom",
          "yref": "paper"
         }
        ],
        "height": 300,
        "showlegend": false,
        "template": {
         "data": {
          "bar": [
           {
            "error_x": {
             "color": "#2a3f5f"
            },
            "error_y": {
             "color": "#2a3f5f"
            },
            "marker": {
             "line": {
              "color": "#E5ECF6",
              "width": 0.5
             },
             "pattern": {
              "fillmode": "overlay",
              "size": 10,
              "solidity": 0.2
             }
            },
            "type": "bar"
           }
          ],
          "barpolar": [
           {
            "marker": {
             "line": {
              "color": "#E5ECF6",
              "width": 0.5
             },
             "pattern": {
              "fillmode": "overlay",
              "size": 10,
              "solidity": 0.2
             }
            },
            "type": "barpolar"
           }
          ],
          "carpet": [
           {
            "aaxis": {
             "endlinecolor": "#2a3f5f",
             "gridcolor": "white",
             "linecolor": "white",
             "minorgridcolor": "white",
             "startlinecolor": "#2a3f5f"
            },
            "baxis": {
             "endlinecolor": "#2a3f5f",
             "gridcolor": "white",
             "linecolor": "white",
             "minorgridcolor": "white",
             "startlinecolor": "#2a3f5f"
            },
            "type": "carpet"
           }
          ],
          "choropleth": [
           {
            "colorbar": {
             "outlinewidth": 0,
             "ticks": ""
            },
            "type": "choropleth"
           }
          ],
          "contour": [
           {
            "colorbar": {
             "outlinewidth": 0,
             "ticks": ""
            },
            "colorscale": [
             [
              0,
              "#0d0887"
             ],
             [
              0.1111111111111111,
              "#46039f"
             ],
             [
              0.2222222222222222,
              "#7201a8"
             ],
             [
              0.3333333333333333,
              "#9c179e"
             ],
             [
              0.4444444444444444,
              "#bd3786"
             ],
             [
              0.5555555555555556,
              "#d8576b"
             ],
             [
              0.6666666666666666,
              "#ed7953"
             ],
             [
              0.7777777777777778,
              "#fb9f3a"
             ],
             [
              0.8888888888888888,
              "#fdca26"
             ],
             [
              1,
              "#f0f921"
             ]
            ],
            "type": "contour"
           }
          ],
          "contourcarpet": [
           {
            "colorbar": {
             "outlinewidth": 0,
             "ticks": ""
            },
            "type": "contourcarpet"
           }
          ],
          "heatmap": [
           {
            "colorbar": {
             "outlinewidth": 0,
             "ticks": ""
            },
            "colorscale": [
             [
              0,
              "#0d0887"
             ],
             [
              0.1111111111111111,
              "#46039f"
             ],
             [
              0.2222222222222222,
              "#7201a8"
             ],
             [
              0.3333333333333333,
              "#9c179e"
             ],
             [
              0.4444444444444444,
              "#bd3786"
             ],
             [
              0.5555555555555556,
              "#d8576b"
             ],
             [
              0.6666666666666666,
              "#ed7953"
             ],
             [
              0.7777777777777778,
              "#fb9f3a"
             ],
             [
              0.8888888888888888,
              "#fdca26"
             ],
             [
              1,
              "#f0f921"
             ]
            ],
            "type": "heatmap"
           }
          ],
          "histogram": [
           {
            "marker": {
             "pattern": {
              "fillmode": "overlay",
              "size": 10,
              "solidity": 0.2
             }
            },
            "type": "histogram"
           }
          ],
          "histogram2d": [
           {
            "colorbar": {
             "outlinewidth": 0,
             "ticks": ""
            },
            "colorscale": [
             [
              0,
              "#0d0887"
             ],
             [
              0.1111111111111111,
              "#46039f"
             ],
             [
              0.2222222222222222,
              "#7201a8"
             ],
             [
              0.3333333333333333,
              "#9c179e"
             ],
             [
              0.4444444444444444,
              "#bd3786"
             ],
             [
              0.5555555555555556,
              "#d8576b"
             ],
             [
              0.6666666666666666,
              "#ed7953"
             ],
             [
              0.7777777777777778,
              "#fb9f3a"
             ],
             [
              0.8888888888888888,
              "#fdca26"
             ],
             [
              1,
              "#f0f921"
             ]
            ],
            "type": "histogram2d"
           }
          ],
          "histogram2dcontour": [
           {
            "colorbar": {
             "outlinewidth": 0,
             "ticks": ""
            },
            "colorscale": [
             [
              0,
              "#0d0887"
             ],
             [
              0.1111111111111111,
              "#46039f"
             ],
             [
              0.2222222222222222,
              "#7201a8"
             ],
             [
              0.3333333333333333,
              "#9c179e"
             ],
             [
              0.4444444444444444,
              "#bd3786"
             ],
             [
              0.5555555555555556,
              "#d8576b"
             ],
             [
              0.6666666666666666,
              "#ed7953"
             ],
             [
              0.7777777777777778,
              "#fb9f3a"
             ],
             [
              0.8888888888888888,
              "#fdca26"
             ],
             [
              1,
              "#f0f921"
             ]
            ],
            "type": "histogram2dcontour"
           }
          ],
          "mesh3d": [
           {
            "colorbar": {
             "outlinewidth": 0,
             "ticks": ""
            },
            "type": "mesh3d"
           }
          ],
          "parcoords": [
           {
            "line": {
             "colorbar": {
              "outlinewidth": 0,
              "ticks": ""
             }
            },
            "type": "parcoords"
           }
          ],
          "pie": [
           {
            "automargin": true,
            "type": "pie"
           }
          ],
          "scatter": [
           {
            "fillpattern": {
             "fillmode": "overlay",
             "size": 10,
             "solidity": 0.2
            },
            "type": "scatter"
           }
          ],
          "scatter3d": [
           {
            "line": {
             "colorbar": {
              "outlinewidth": 0,
              "ticks": ""
             }
            },
            "marker": {
             "colorbar": {
              "outlinewidth": 0,
              "ticks": ""
             }
            },
            "type": "scatter3d"
           }
          ],
          "scattercarpet": [
           {
            "marker": {
             "colorbar": {
              "outlinewidth": 0,
              "ticks": ""
             }
            },
            "type": "scattercarpet"
           }
          ],
          "scattergeo": [
           {
            "marker": {
             "colorbar": {
              "outlinewidth": 0,
              "ticks": ""
             }
            },
            "type": "scattergeo"
           }
          ],
          "scattergl": [
           {
            "marker": {
             "colorbar": {
              "outlinewidth": 0,
              "ticks": ""
             }
            },
            "type": "scattergl"
           }
          ],
          "scattermap": [
           {
            "marker": {
             "colorbar": {
              "outlinewidth": 0,
              "ticks": ""
             }
            },
            "type": "scattermap"
           }
          ],
          "scattermapbox": [
           {
            "marker": {
             "colorbar": {
              "outlinewidth": 0,
              "ticks": ""
             }
            },
            "type": "scattermapbox"
           }
          ],
          "scatterpolar": [
           {
            "marker": {
             "colorbar": {
              "outlinewidth": 0,
              "ticks": ""
             }
            },
            "type": "scatterpolar"
           }
          ],
          "scatterpolargl": [
           {
            "marker": {
             "colorbar": {
              "outlinewidth": 0,
              "ticks": ""
             }
            },
            "type": "scatterpolargl"
           }
          ],
          "scatterternary": [
           {
            "marker": {
             "colorbar": {
              "outlinewidth": 0,
              "ticks": ""
             }
            },
            "type": "scatterternary"
           }
          ],
          "surface": [
           {
            "colorbar": {
             "outlinewidth": 0,
             "ticks": ""
            },
            "colorscale": [
             [
              0,
              "#0d0887"
             ],
             [
              0.1111111111111111,
              "#46039f"
             ],
             [
              0.2222222222222222,
              "#7201a8"
             ],
             [
              0.3333333333333333,
              "#9c179e"
             ],
             [
              0.4444444444444444,
              "#bd3786"
             ],
             [
              0.5555555555555556,
              "#d8576b"
             ],
             [
              0.6666666666666666,
              "#ed7953"
             ],
             [
              0.7777777777777778,
              "#fb9f3a"
             ],
             [
              0.8888888888888888,
              "#fdca26"
             ],
             [
              1,
              "#f0f921"
             ]
            ],
            "type": "surface"
           }
          ],
          "table": [
           {
            "cells": {
             "fill": {
              "color": "#EBF0F8"
             },
             "line": {
              "color": "white"
             }
            },
            "header": {
             "fill": {
              "color": "#C8D4E3"
             },
             "line": {
              "color": "white"
             }
            },
            "type": "table"
           }
          ]
         },
         "layout": {
          "annotationdefaults": {
           "arrowcolor": "#2a3f5f",
           "arrowhead": 0,
           "arrowwidth": 1
          },
          "autotypenumbers": "strict",
          "coloraxis": {
           "colorbar": {
            "outlinewidth": 0,
            "ticks": ""
           }
          },
          "colorscale": {
           "diverging": [
            [
             0,
             "#8e0152"
            ],
            [
             0.1,
             "#c51b7d"
            ],
            [
             0.2,
             "#de77ae"
            ],
            [
             0.3,
             "#f1b6da"
            ],
            [
             0.4,
             "#fde0ef"
            ],
            [
             0.5,
             "#f7f7f7"
            ],
            [
             0.6,
             "#e6f5d0"
            ],
            [
             0.7,
             "#b8e186"
            ],
            [
             0.8,
             "#7fbc41"
            ],
            [
             0.9,
             "#4d9221"
            ],
            [
             1,
             "#276419"
            ]
           ],
           "sequential": [
            [
             0,
             "#0d0887"
            ],
            [
             0.1111111111111111,
             "#46039f"
            ],
            [
             0.2222222222222222,
             "#7201a8"
            ],
            [
             0.3333333333333333,
             "#9c179e"
            ],
            [
             0.4444444444444444,
             "#bd3786"
            ],
            [
             0.5555555555555556,
             "#d8576b"
            ],
            [
             0.6666666666666666,
             "#ed7953"
            ],
            [
             0.7777777777777778,
             "#fb9f3a"
            ],
            [
             0.8888888888888888,
             "#fdca26"
            ],
            [
             1,
             "#f0f921"
            ]
           ],
           "sequentialminus": [
            [
             0,
             "#0d0887"
            ],
            [
             0.1111111111111111,
             "#46039f"
            ],
            [
             0.2222222222222222,
             "#7201a8"
            ],
            [
             0.3333333333333333,
             "#9c179e"
            ],
            [
             0.4444444444444444,
             "#bd3786"
            ],
            [
             0.5555555555555556,
             "#d8576b"
            ],
            [
             0.6666666666666666,
             "#ed7953"
            ],
            [
             0.7777777777777778,
             "#fb9f3a"
            ],
            [
             0.8888888888888888,
             "#fdca26"
            ],
            [
             1,
             "#f0f921"
            ]
           ]
          },
          "colorway": [
           "#636efa",
           "#EF553B",
           "#00cc96",
           "#ab63fa",
           "#FFA15A",
           "#19d3f3",
           "#FF6692",
           "#B6E880",
           "#FF97FF",
           "#FECB52"
          ],
          "font": {
           "color": "#2a3f5f"
          },
          "geo": {
           "bgcolor": "white",
           "lakecolor": "white",
           "landcolor": "#E5ECF6",
           "showlakes": true,
           "showland": true,
           "subunitcolor": "white"
          },
          "hoverlabel": {
           "align": "left"
          },
          "hovermode": "closest",
          "mapbox": {
           "style": "light"
          },
          "paper_bgcolor": "white",
          "plot_bgcolor": "#E5ECF6",
          "polar": {
           "angularaxis": {
            "gridcolor": "white",
            "linecolor": "white",
            "ticks": ""
           },
           "bgcolor": "#E5ECF6",
           "radialaxis": {
            "gridcolor": "white",
            "linecolor": "white",
            "ticks": ""
           }
          },
          "scene": {
           "xaxis": {
            "backgroundcolor": "#E5ECF6",
            "gridcolor": "white",
            "gridwidth": 2,
            "linecolor": "white",
            "showbackground": true,
            "ticks": "",
            "zerolinecolor": "white"
           },
           "yaxis": {
            "backgroundcolor": "#E5ECF6",
            "gridcolor": "white",
            "gridwidth": 2,
            "linecolor": "white",
            "showbackground": true,
            "ticks": "",
            "zerolinecolor": "white"
           },
           "zaxis": {
            "backgroundcolor": "#E5ECF6",
            "gridcolor": "white",
            "gridwidth": 2,
            "linecolor": "white",
            "showbackground": true,
            "ticks": "",
            "zerolinecolor": "white"
           }
          },
          "shapedefaults": {
           "line": {
            "color": "#2a3f5f"
           }
          },
          "ternary": {
           "aaxis": {
            "gridcolor": "white",
            "linecolor": "white",
            "ticks": ""
           },
           "baxis": {
            "gridcolor": "white",
            "linecolor": "white",
            "ticks": ""
           },
           "bgcolor": "#E5ECF6",
           "caxis": {
            "gridcolor": "white",
            "linecolor": "white",
            "ticks": ""
           }
          },
          "title": {
           "x": 0.05
          },
          "xaxis": {
           "automargin": true,
           "gridcolor": "white",
           "linecolor": "white",
           "ticks": "",
           "title": {
            "standoff": 15
           },
           "zerolinecolor": "white",
           "zerolinewidth": 2
          },
          "yaxis": {
           "automargin": true,
           "gridcolor": "white",
           "linecolor": "white",
           "ticks": "",
           "title": {
            "standoff": 15
           },
           "zerolinecolor": "white",
           "zerolinewidth": 2
          }
         }
        },
        "title": {
         "text": "respondent_3. Динамика времени на ответ"
        },
        "xaxis": {
         "anchor": "y",
         "domain": [
          0,
          1
         ],
         "matches": "x2",
         "showticklabels": false
        },
        "xaxis2": {
         "anchor": "y2",
         "domain": [
          0,
          1
         ],
         "title": {
          "text": "Время"
         }
        },
        "yaxis": {
         "anchor": "x",
         "domain": [
          0.625,
          1
         ]
        },
        "yaxis2": {
         "anchor": "x2",
         "domain": [
          0,
          0.375
         ]
        }
       }
      }
     },
     "metadata": {},
     "output_type": "display_data"
    },
    {
     "data": {
      "application/vnd.plotly.v1+json": {
       "config": {
        "plotlyServerURL": "https://plot.ly"
       },
       "data": [
        {
         "name": "response_time_mean",
         "type": "scatter",
         "x": [
          "2024-12-12T12:56:06.000000000",
          "2024-12-12T22:33:31.000000000",
          "2024-12-13T11:40:45.000000000",
          "2024-12-14T01:05:55.000000000",
          "2024-12-14T12:11:29.000000000",
          "2024-12-15T01:29:44.000000000",
          "2024-12-15T13:04:17.000000000",
          "2024-12-15T18:28:17.000000000",
          "2024-12-16T06:52:53.000000000",
          "2024-12-16T23:57:21.000000000",
          "2024-12-17T09:58:55.000000000",
          "2024-12-18T00:18:36.000000000",
          "2024-12-18T09:33:39.000000000",
          "2024-12-24T08:34:30.000000000",
          "2024-12-24T22:24:22.000000000",
          "2025-01-16T10:26:25.000000000",
          "2025-01-20T08:42:15.000000000",
          "2025-01-20T22:38:18.000000000",
          "2025-01-21T11:34:02.000000000"
         ],
         "xaxis": "x",
         "y": {
          "bdata": "KVwJFocz9z89Cty6m6f4P67HEg8oW/c/9qit2F82+D9SeI4B2Wv4P+xRGqN1VPc/Zma0jqqm+D+F677xtef3P9ejpfJ2BPk/pPCOU3Sk9z8fBRRcrGj4P1L2XRH8b/g/Pcr9DkWB9z/heqJAn4j4P1K4qWVr/fc/hesZNPSP+D8UrgvqW6b4P65HT3XIzfY/cT2U9gbf9j8=",
          "dtype": "f8"
         },
         "yaxis": "y"
        },
        {
         "marker": {
          "opacity": 0.6
         },
         "mode": "markers",
         "name": "response_time_mean",
         "type": "scatter",
         "x": [
          "2024-12-12T12:56:06.000000000",
          "2024-12-12T22:33:31.000000000",
          "2024-12-13T11:40:45.000000000",
          "2024-12-14T01:05:55.000000000",
          "2024-12-14T12:11:29.000000000",
          "2024-12-15T01:29:44.000000000",
          "2024-12-15T13:04:17.000000000",
          "2024-12-15T18:28:17.000000000",
          "2024-12-16T06:52:53.000000000",
          "2024-12-16T23:57:21.000000000",
          "2024-12-17T09:58:55.000000000",
          "2024-12-18T00:18:36.000000000",
          "2024-12-18T09:33:39.000000000",
          "2024-12-24T08:34:30.000000000",
          "2024-12-24T22:24:22.000000000",
          "2025-01-16T10:26:25.000000000",
          "2025-01-20T08:42:15.000000000",
          "2025-01-20T22:38:18.000000000",
          "2025-01-21T11:34:02.000000000"
         ],
         "xaxis": "x",
         "y": {
          "bdata": "KVwJFocz9z89Cty6m6f4P67HEg8oW/c/9qit2F82+D9SeI4B2Wv4P+xRGqN1VPc/Zma0jqqm+D+F677xtef3P9ejpfJ2BPk/pPCOU3Sk9z8fBRRcrGj4P1L2XRH8b/g/Pcr9DkWB9z/heqJAn4j4P1K4qWVr/fc/hesZNPSP+D8UrgvqW6b4P65HT3XIzfY/cT2U9gbf9j8=",
          "dtype": "f8"
         },
         "yaxis": "y"
        },
        {
         "name": "response_time_std",
         "type": "scatter",
         "x": [
          "2024-12-12T12:56:06.000000000",
          "2024-12-12T22:33:31.000000000",
          "2024-12-13T11:40:45.000000000",
          "2024-12-14T01:05:55.000000000",
          "2024-12-14T12:11:29.000000000",
          "2024-12-15T01:29:44.000000000",
          "2024-12-15T13:04:17.000000000",
          "2024-12-15T18:28:17.000000000",
          "2024-12-16T06:52:53.000000000",
          "2024-12-16T23:57:21.000000000",
          "2024-12-17T09:58:55.000000000",
          "2024-12-18T00:18:36.000000000",
          "2024-12-18T09:33:39.000000000",
          "2024-12-24T08:34:30.000000000",
          "2024-12-24T22:24:22.000000000",
          "2025-01-16T10:26:25.000000000",
          "2025-01-20T08:42:15.000000000",
          "2025-01-20T22:38:18.000000000",
          "2025-01-21T11:34:02.000000000"
         ],
         "xaxis": "x2",
         "y": {
          "bdata": "kxyZGc+N2j9smfEISYTiP2VJkp8gldc/deJqhJZS4D8O1HG+uG7fP/0zjCjCy9U/53hWyVc63T+BwmYBrN/aP5J8CRCoT90/mWoBHLW23D939DOqDzPgP861hahsBt4/1fVcwdPd2z8fSGwimFXbPxs3/2whxdY/mxBe9Jn+2j8LFbW0qCDdPxt5y1l2Y9s/bLzbvHq52T8=",
          "dtype": "f8"
         },
         "yaxis": "y2"
        },
        {
         "marker": {
          "opacity": 0.6
         },
         "mode": "markers",
         "type": "scatter",
         "x": [
          "2024-12-12T12:56:06.000000000",
          "2024-12-12T22:33:31.000000000",
          "2024-12-13T11:40:45.000000000",
          "2024-12-14T01:05:55.000000000",
          "2024-12-14T12:11:29.000000000",
          "2024-12-15T01:29:44.000000000",
          "2024-12-15T13:04:17.000000000",
          "2024-12-15T18:28:17.000000000",
          "2024-12-16T06:52:53.000000000",
          "2024-12-16T23:57:21.000000000",
          "2024-12-17T09:58:55.000000000",
          "2024-12-18T00:18:36.000000000",
          "2024-12-18T09:33:39.000000000",
          "2024-12-24T08:34:30.000000000",
          "2024-12-24T22:24:22.000000000",
          "2025-01-16T10:26:25.000000000",
          "2025-01-20T08:42:15.000000000",
          "2025-01-20T22:38:18.000000000",
          "2025-01-21T11:34:02.000000000"
         ],
         "xaxis": "x2",
         "y": {
          "bdata": "kxyZGc+N2j9smfEISYTiP2VJkp8gldc/deJqhJZS4D8O1HG+uG7fP/0zjCjCy9U/53hWyVc63T+BwmYBrN/aP5J8CRCoT90/mWoBHLW23D939DOqDzPgP861hahsBt4/1fVcwdPd2z8fSGwimFXbPxs3/2whxdY/mxBe9Jn+2j8LFbW0qCDdPxt5y1l2Y9s/bLzbvHq52T8=",
          "dtype": "f8"
         },
         "yaxis": "y2"
        }
       ],
       "layout": {
        "annotations": [
         {
          "font": {
           "size": 16
          },
          "showarrow": false,
          "text": "Response time mean",
          "x": 0.5,
          "xanchor": "center",
          "xref": "paper",
          "y": 1,
          "yanchor": "bottom",
          "yref": "paper"
         },
         {
          "font": {
           "size": 16
          },
          "showarrow": false,
          "text": "Response time std",
          "x": 0.5,
          "xanchor": "center",
          "xref": "paper",
          "y": 0.375,
          "yanchor": "bottom",
          "yref": "paper"
         }
        ],
        "height": 300,
        "showlegend": false,
        "template": {
         "data": {
          "bar": [
           {
            "error_x": {
             "color": "#2a3f5f"
            },
            "error_y": {
             "color": "#2a3f5f"
            },
            "marker": {
             "line": {
              "color": "#E5ECF6",
              "width": 0.5
             },
             "pattern": {
              "fillmode": "overlay",
              "size": 10,
              "solidity": 0.2
             }
            },
            "type": "bar"
           }
          ],
          "barpolar": [
           {
            "marker": {
             "line": {
              "color": "#E5ECF6",
              "width": 0.5
             },
             "pattern": {
              "fillmode": "overlay",
              "size": 10,
              "solidity": 0.2
             }
            },
            "type": "barpolar"
           }
          ],
          "carpet": [
           {
            "aaxis": {
             "endlinecolor": "#2a3f5f",
             "gridcolor": "white",
             "linecolor": "white",
             "minorgridcolor": "white",
             "startlinecolor": "#2a3f5f"
            },
            "baxis": {
             "endlinecolor": "#2a3f5f",
             "gridcolor": "white",
             "linecolor": "white",
             "minorgridcolor": "white",
             "startlinecolor": "#2a3f5f"
            },
            "type": "carpet"
           }
          ],
          "choropleth": [
           {
            "colorbar": {
             "outlinewidth": 0,
             "ticks": ""
            },
            "type": "choropleth"
           }
          ],
          "contour": [
           {
            "colorbar": {
             "outlinewidth": 0,
             "ticks": ""
            },
            "colorscale": [
             [
              0,
              "#0d0887"
             ],
             [
              0.1111111111111111,
              "#46039f"
             ],
             [
              0.2222222222222222,
              "#7201a8"
             ],
             [
              0.3333333333333333,
              "#9c179e"
             ],
             [
              0.4444444444444444,
              "#bd3786"
             ],
             [
              0.5555555555555556,
              "#d8576b"
             ],
             [
              0.6666666666666666,
              "#ed7953"
             ],
             [
              0.7777777777777778,
              "#fb9f3a"
             ],
             [
              0.8888888888888888,
              "#fdca26"
             ],
             [
              1,
              "#f0f921"
             ]
            ],
            "type": "contour"
           }
          ],
          "contourcarpet": [
           {
            "colorbar": {
             "outlinewidth": 0,
             "ticks": ""
            },
            "type": "contourcarpet"
           }
          ],
          "heatmap": [
           {
            "colorbar": {
             "outlinewidth": 0,
             "ticks": ""
            },
            "colorscale": [
             [
              0,
              "#0d0887"
             ],
             [
              0.1111111111111111,
              "#46039f"
             ],
             [
              0.2222222222222222,
              "#7201a8"
             ],
             [
              0.3333333333333333,
              "#9c179e"
             ],
             [
              0.4444444444444444,
              "#bd3786"
             ],
             [
              0.5555555555555556,
              "#d8576b"
             ],
             [
              0.6666666666666666,
              "#ed7953"
             ],
             [
              0.7777777777777778,
              "#fb9f3a"
             ],
             [
              0.8888888888888888,
              "#fdca26"
             ],
             [
              1,
              "#f0f921"
             ]
            ],
            "type": "heatmap"
           }
          ],
          "histogram": [
           {
            "marker": {
             "pattern": {
              "fillmode": "overlay",
              "size": 10,
              "solidity": 0.2
             }
            },
            "type": "histogram"
           }
          ],
          "histogram2d": [
           {
            "colorbar": {
             "outlinewidth": 0,
             "ticks": ""
            },
            "colorscale": [
             [
              0,
              "#0d0887"
             ],
             [
              0.1111111111111111,
              "#46039f"
             ],
             [
              0.2222222222222222,
              "#7201a8"
             ],
             [
              0.3333333333333333,
              "#9c179e"
             ],
             [
              0.4444444444444444,
              "#bd3786"
             ],
             [
              0.5555555555555556,
              "#d8576b"
             ],
             [
              0.6666666666666666,
              "#ed7953"
             ],
             [
              0.7777777777777778,
              "#fb9f3a"
             ],
             [
              0.8888888888888888,
              "#fdca26"
             ],
             [
              1,
              "#f0f921"
             ]
            ],
            "type": "histogram2d"
           }
          ],
          "histogram2dcontour": [
           {
            "colorbar": {
             "outlinewidth": 0,
             "ticks": ""
            },
            "colorscale": [
             [
              0,
              "#0d0887"
             ],
             [
              0.1111111111111111,
              "#46039f"
             ],
             [
              0.2222222222222222,
              "#7201a8"
             ],
             [
              0.3333333333333333,
              "#9c179e"
             ],
             [
              0.4444444444444444,
              "#bd3786"
             ],
             [
              0.5555555555555556,
              "#d8576b"
             ],
             [
              0.6666666666666666,
              "#ed7953"
             ],
             [
              0.7777777777777778,
              "#fb9f3a"
             ],
             [
              0.8888888888888888,
              "#fdca26"
             ],
             [
              1,
              "#f0f921"
             ]
            ],
            "type": "histogram2dcontour"
           }
          ],
          "mesh3d": [
           {
            "colorbar": {
             "outlinewidth": 0,
             "ticks": ""
            },
            "type": "mesh3d"
           }
          ],
          "parcoords": [
           {
            "line": {
             "colorbar": {
              "outlinewidth": 0,
              "ticks": ""
             }
            },
            "type": "parcoords"
           }
          ],
          "pie": [
           {
            "automargin": true,
            "type": "pie"
           }
          ],
          "scatter": [
           {
            "fillpattern": {
             "fillmode": "overlay",
             "size": 10,
             "solidity": 0.2
            },
            "type": "scatter"
           }
          ],
          "scatter3d": [
           {
            "line": {
             "colorbar": {
              "outlinewidth": 0,
              "ticks": ""
             }
            },
            "marker": {
             "colorbar": {
              "outlinewidth": 0,
              "ticks": ""
             }
            },
            "type": "scatter3d"
           }
          ],
          "scattercarpet": [
           {
            "marker": {
             "colorbar": {
              "outlinewidth": 0,
              "ticks": ""
             }
            },
            "type": "scattercarpet"
           }
          ],
          "scattergeo": [
           {
            "marker": {
             "colorbar": {
              "outlinewidth": 0,
              "ticks": ""
             }
            },
            "type": "scattergeo"
           }
          ],
          "scattergl": [
           {
            "marker": {
             "colorbar": {
              "outlinewidth": 0,
              "ticks": ""
             }
            },
            "type": "scattergl"
           }
          ],
          "scattermap": [
           {
            "marker": {
             "colorbar": {
              "outlinewidth": 0,
              "ticks": ""
             }
            },
            "type": "scattermap"
           }
          ],
          "scattermapbox": [
           {
            "marker": {
             "colorbar": {
              "outlinewidth": 0,
              "ticks": ""
             }
            },
            "type": "scattermapbox"
           }
          ],
          "scatterpolar": [
           {
            "marker": {
             "colorbar": {
              "outlinewidth": 0,
              "ticks": ""
             }
            },
            "type": "scatterpolar"
           }
          ],
          "scatterpolargl": [
           {
            "marker": {
             "colorbar": {
              "outlinewidth": 0,
              "ticks": ""
             }
            },
            "type": "scatterpolargl"
           }
          ],
          "scatterternary": [
           {
            "marker": {
             "colorbar": {
              "outlinewidth": 0,
              "ticks": ""
             }
            },
            "type": "scatterternary"
           }
          ],
          "surface": [
           {
            "colorbar": {
             "outlinewidth": 0,
             "ticks": ""
            },
            "colorscale": [
             [
              0,
              "#0d0887"
             ],
             [
              0.1111111111111111,
              "#46039f"
             ],
             [
              0.2222222222222222,
              "#7201a8"
             ],
             [
              0.3333333333333333,
              "#9c179e"
             ],
             [
              0.4444444444444444,
              "#bd3786"
             ],
             [
              0.5555555555555556,
              "#d8576b"
             ],
             [
              0.6666666666666666,
              "#ed7953"
             ],
             [
              0.7777777777777778,
              "#fb9f3a"
             ],
             [
              0.8888888888888888,
              "#fdca26"
             ],
             [
              1,
              "#f0f921"
             ]
            ],
            "type": "surface"
           }
          ],
          "table": [
           {
            "cells": {
             "fill": {
              "color": "#EBF0F8"
             },
             "line": {
              "color": "white"
             }
            },
            "header": {
             "fill": {
              "color": "#C8D4E3"
             },
             "line": {
              "color": "white"
             }
            },
            "type": "table"
           }
          ]
         },
         "layout": {
          "annotationdefaults": {
           "arrowcolor": "#2a3f5f",
           "arrowhead": 0,
           "arrowwidth": 1
          },
          "autotypenumbers": "strict",
          "coloraxis": {
           "colorbar": {
            "outlinewidth": 0,
            "ticks": ""
           }
          },
          "colorscale": {
           "diverging": [
            [
             0,
             "#8e0152"
            ],
            [
             0.1,
             "#c51b7d"
            ],
            [
             0.2,
             "#de77ae"
            ],
            [
             0.3,
             "#f1b6da"
            ],
            [
             0.4,
             "#fde0ef"
            ],
            [
             0.5,
             "#f7f7f7"
            ],
            [
             0.6,
             "#e6f5d0"
            ],
            [
             0.7,
             "#b8e186"
            ],
            [
             0.8,
             "#7fbc41"
            ],
            [
             0.9,
             "#4d9221"
            ],
            [
             1,
             "#276419"
            ]
           ],
           "sequential": [
            [
             0,
             "#0d0887"
            ],
            [
             0.1111111111111111,
             "#46039f"
            ],
            [
             0.2222222222222222,
             "#7201a8"
            ],
            [
             0.3333333333333333,
             "#9c179e"
            ],
            [
             0.4444444444444444,
             "#bd3786"
            ],
            [
             0.5555555555555556,
             "#d8576b"
            ],
            [
             0.6666666666666666,
             "#ed7953"
            ],
            [
             0.7777777777777778,
             "#fb9f3a"
            ],
            [
             0.8888888888888888,
             "#fdca26"
            ],
            [
             1,
             "#f0f921"
            ]
           ],
           "sequentialminus": [
            [
             0,
             "#0d0887"
            ],
            [
             0.1111111111111111,
             "#46039f"
            ],
            [
             0.2222222222222222,
             "#7201a8"
            ],
            [
             0.3333333333333333,
             "#9c179e"
            ],
            [
             0.4444444444444444,
             "#bd3786"
            ],
            [
             0.5555555555555556,
             "#d8576b"
            ],
            [
             0.6666666666666666,
             "#ed7953"
            ],
            [
             0.7777777777777778,
             "#fb9f3a"
            ],
            [
             0.8888888888888888,
             "#fdca26"
            ],
            [
             1,
             "#f0f921"
            ]
           ]
          },
          "colorway": [
           "#636efa",
           "#EF553B",
           "#00cc96",
           "#ab63fa",
           "#FFA15A",
           "#19d3f3",
           "#FF6692",
           "#B6E880",
           "#FF97FF",
           "#FECB52"
          ],
          "font": {
           "color": "#2a3f5f"
          },
          "geo": {
           "bgcolor": "white",
           "lakecolor": "white",
           "landcolor": "#E5ECF6",
           "showlakes": true,
           "showland": true,
           "subunitcolor": "white"
          },
          "hoverlabel": {
           "align": "left"
          },
          "hovermode": "closest",
          "mapbox": {
           "style": "light"
          },
          "paper_bgcolor": "white",
          "plot_bgcolor": "#E5ECF6",
          "polar": {
           "angularaxis": {
            "gridcolor": "white",
            "linecolor": "white",
            "ticks": ""
           },
           "bgcolor": "#E5ECF6",
           "radialaxis": {
            "gridcolor": "white",
            "linecolor": "white",
            "ticks": ""
           }
          },
          "scene": {
           "xaxis": {
            "backgroundcolor": "#E5ECF6",
            "gridcolor": "white",
            "gridwidth": 2,
            "linecolor": "white",
            "showbackground": true,
            "ticks": "",
            "zerolinecolor": "white"
           },
           "yaxis": {
            "backgroundcolor": "#E5ECF6",
            "gridcolor": "white",
            "gridwidth": 2,
            "linecolor": "white",
            "showbackground": true,
            "ticks": "",
            "zerolinecolor": "white"
           },
           "zaxis": {
            "backgroundcolor": "#E5ECF6",
            "gridcolor": "white",
            "gridwidth": 2,
            "linecolor": "white",
            "showbackground": true,
            "ticks": "",
            "zerolinecolor": "white"
           }
          },
          "shapedefaults": {
           "line": {
            "color": "#2a3f5f"
           }
          },
          "ternary": {
           "aaxis": {
            "gridcolor": "white",
            "linecolor": "white",
            "ticks": ""
           },
           "baxis": {
            "gridcolor": "white",
            "linecolor": "white",
            "ticks": ""
           },
           "bgcolor": "#E5ECF6",
           "caxis": {
            "gridcolor": "white",
            "linecolor": "white",
            "ticks": ""
           }
          },
          "title": {
           "x": 0.05
          },
          "xaxis": {
           "automargin": true,
           "gridcolor": "white",
           "linecolor": "white",
           "ticks": "",
           "title": {
            "standoff": 15
           },
           "zerolinecolor": "white",
           "zerolinewidth": 2
          },
          "yaxis": {
           "automargin": true,
           "gridcolor": "white",
           "linecolor": "white",
           "ticks": "",
           "title": {
            "standoff": 15
           },
           "zerolinecolor": "white",
           "zerolinewidth": 2
          }
         }
        },
        "title": {
         "text": "respondent_4. Динамика времени на ответ"
        },
        "xaxis": {
         "anchor": "y",
         "domain": [
          0,
          1
         ],
         "matches": "x2",
         "showticklabels": false
        },
        "xaxis2": {
         "anchor": "y2",
         "domain": [
          0,
          1
         ],
         "title": {
          "text": "Время"
         }
        },
        "yaxis": {
         "anchor": "x",
         "domain": [
          0.625,
          1
         ]
        },
        "yaxis2": {
         "anchor": "x2",
         "domain": [
          0,
          0.375
         ]
        }
       }
      }
     },
     "metadata": {},
     "output_type": "display_data"
    }
   ],
   "source": [
    "from plotly.subplots import make_subplots\n",
    "import plotly.graph_objects as go\n",
    "for i, (name, group) in enumerate(q_df.groupby('id')):\n",
    "\n",
    "# Создаем пустой холст с двумя графиками по вертикали\n",
    "    fig = make_subplots(rows=2, cols=1, shared_xaxes=True, \n",
    "                        subplot_titles=(\"Response time mean\", \"Response time std\"))\n",
    "\n",
    "    # Первый график — answer\n",
    "    fig.add_trace(\n",
    "        go.Scatter(x=group['datetime'], y=group['response_time_mean'], name='response_time_mean'),\n",
    "        row=1, col=1\n",
    "    )\n",
    "    fig.add_trace(\n",
    "        go.Scatter(x=group['datetime'], \n",
    "                y=group['response_time_mean'], \n",
    "                    mode='markers',            \n",
    "                    marker=dict(opacity=0.6),\n",
    "                name='response_time_mean'\n",
    "                ),\n",
    "        row=1, col=1\n",
    "    )\n",
    "\n",
    "    # Второй график — stress_lvl\n",
    "    fig.add_trace(\n",
    "        go.Scatter(x=group['datetime'], y=group['response_time_std'], name='response_time_std'),\n",
    "        row=2, col=1\n",
    "    )\n",
    "\n",
    "    fig.add_trace(\n",
    "        go.Scatter(x=group['datetime'], \n",
    "                y=group['response_time_std'], \n",
    "                    mode='markers',            \n",
    "                    marker=dict(opacity=0.6),\n",
    "            ),\n",
    "        row=2, col=1\n",
    "    )\n",
    "\n",
    "\n",
    "    # Общий заголовок\n",
    "    fig.update_layout(height=300, title_text=f'{name}. Динамика времени на ответ', showlegend=False)\n",
    "\n",
    "    # Обновляем подписи осей\n",
    "    # fig.update_yaxes(title_text=\"response_time_mean\", row=1, col=1)\n",
    "    # fig.update_yaxes(title_text=\"response_time_std\", row=2, col=1)\n",
    "    # fig.update_yaxes(title_text=\"Самооценка работоспособности\", row=2, col=1)\n",
    "    fig.update_xaxes(title_text=\"Время\", row=2, col=1)\n",
    "\n",
    "    fig.show()\n"
   ]
  },
  {
   "cell_type": "markdown",
   "metadata": {},
   "source": [
    "### Корреляции"
   ]
  },
  {
   "cell_type": "code",
   "execution_count": 12,
   "metadata": {},
   "outputs": [
    {
     "name": "stderr",
     "output_type": "stream",
     "text": [
      "c:\\Users\\PC\\AppData\\Local\\Programs\\Python\\Python312\\Lib\\site-packages\\dcor\\_fast_dcov_avl.py:554: UserWarning:\n",
      "\n",
      "Falling back to uncompiled AVL fast distance covariance terms because of TypeError exception raised: No matching definition for argument type(s) array(int64, 1d, C), array(int64, 1d, C), bool. Rembember: only floating point values can be used in the compiled implementations.\n",
      "\n",
      "c:\\Users\\PC\\AppData\\Local\\Programs\\Python\\Python312\\Lib\\site-packages\\dcor\\_fast_dcov_avl.py:554: UserWarning:\n",
      "\n",
      "Falling back to uncompiled AVL fast distance covariance terms because of TypeError exception raised: No matching definition for argument type(s) array(int64, 1d, C), array(int32, 1d, C), bool. Rembember: only floating point values can be used in the compiled implementations.\n",
      "\n",
      "c:\\Users\\PC\\AppData\\Local\\Programs\\Python\\Python312\\Lib\\site-packages\\dcor\\_fast_dcov_avl.py:554: UserWarning:\n",
      "\n",
      "Falling back to uncompiled AVL fast distance covariance terms because of TypeError exception raised: No matching definition for argument type(s) array(int64, 1d, C), array(float64, 1d, C), bool. Rembember: only floating point values can be used in the compiled implementations.\n",
      "\n",
      "c:\\Users\\PC\\AppData\\Local\\Programs\\Python\\Python312\\Lib\\site-packages\\dcor\\_fast_dcov_avl.py:554: UserWarning:\n",
      "\n",
      "Falling back to uncompiled AVL fast distance covariance terms because of TypeError exception raised: No matching definition for argument type(s) array(int32, 1d, C), array(int64, 1d, C), bool. Rembember: only floating point values can be used in the compiled implementations.\n",
      "\n",
      "c:\\Users\\PC\\AppData\\Local\\Programs\\Python\\Python312\\Lib\\site-packages\\dcor\\_fast_dcov_avl.py:554: UserWarning:\n",
      "\n",
      "Falling back to uncompiled AVL fast distance covariance terms because of TypeError exception raised: No matching definition for argument type(s) array(int32, 1d, C), array(int32, 1d, C), bool. Rembember: only floating point values can be used in the compiled implementations.\n",
      "\n",
      "c:\\Users\\PC\\AppData\\Local\\Programs\\Python\\Python312\\Lib\\site-packages\\dcor\\_fast_dcov_avl.py:554: UserWarning:\n",
      "\n",
      "Falling back to uncompiled AVL fast distance covariance terms because of TypeError exception raised: No matching definition for argument type(s) array(int32, 1d, C), array(float64, 1d, C), bool. Rembember: only floating point values can be used in the compiled implementations.\n",
      "\n",
      "c:\\Users\\PC\\AppData\\Local\\Programs\\Python\\Python312\\Lib\\site-packages\\dcor\\_fast_dcov_avl.py:554: UserWarning:\n",
      "\n",
      "Falling back to uncompiled AVL fast distance covariance terms because of TypeError exception raised: No matching definition for argument type(s) array(float64, 1d, C), array(int64, 1d, C), bool. Rembember: only floating point values can be used in the compiled implementations.\n",
      "\n",
      "c:\\Users\\PC\\AppData\\Local\\Programs\\Python\\Python312\\Lib\\site-packages\\dcor\\_fast_dcov_avl.py:554: UserWarning:\n",
      "\n",
      "Falling back to uncompiled AVL fast distance covariance terms because of TypeError exception raised: No matching definition for argument type(s) array(float64, 1d, C), array(int32, 1d, C), bool. Rembember: only floating point values can be used in the compiled implementations.\n",
      "\n",
      "c:\\Users\\PC\\AppData\\Local\\Programs\\Python\\Python312\\Lib\\site-packages\\dcor\\_fast_dcov_avl.py:554: UserWarning:\n",
      "\n",
      "Falling back to uncompiled AVL fast distance covariance terms because of TypeError exception raised: No matching definition for argument type(s) array(int64, 1d, C), array(int64, 1d, C), bool. Rembember: only floating point values can be used in the compiled implementations.\n",
      "\n",
      "c:\\Users\\PC\\AppData\\Local\\Programs\\Python\\Python312\\Lib\\site-packages\\dcor\\_fast_dcov_avl.py:554: UserWarning:\n",
      "\n",
      "Falling back to uncompiled AVL fast distance covariance terms because of TypeError exception raised: No matching definition for argument type(s) array(int64, 1d, C), array(int32, 1d, C), bool. Rembember: only floating point values can be used in the compiled implementations.\n",
      "\n",
      "c:\\Users\\PC\\AppData\\Local\\Programs\\Python\\Python312\\Lib\\site-packages\\dcor\\_fast_dcov_avl.py:554: UserWarning:\n",
      "\n",
      "Falling back to uncompiled AVL fast distance covariance terms because of TypeError exception raised: No matching definition for argument type(s) array(int64, 1d, C), array(float64, 1d, C), bool. Rembember: only floating point values can be used in the compiled implementations.\n",
      "\n",
      "c:\\Users\\PC\\AppData\\Local\\Programs\\Python\\Python312\\Lib\\site-packages\\dcor\\_fast_dcov_avl.py:554: UserWarning:\n",
      "\n",
      "Falling back to uncompiled AVL fast distance covariance terms because of TypeError exception raised: No matching definition for argument type(s) array(int32, 1d, C), array(int64, 1d, C), bool. Rembember: only floating point values can be used in the compiled implementations.\n",
      "\n",
      "c:\\Users\\PC\\AppData\\Local\\Programs\\Python\\Python312\\Lib\\site-packages\\dcor\\_fast_dcov_avl.py:554: UserWarning:\n",
      "\n",
      "Falling back to uncompiled AVL fast distance covariance terms because of TypeError exception raised: No matching definition for argument type(s) array(int32, 1d, C), array(int32, 1d, C), bool. Rembember: only floating point values can be used in the compiled implementations.\n",
      "\n",
      "c:\\Users\\PC\\AppData\\Local\\Programs\\Python\\Python312\\Lib\\site-packages\\dcor\\_fast_dcov_avl.py:554: UserWarning:\n",
      "\n",
      "Falling back to uncompiled AVL fast distance covariance terms because of TypeError exception raised: No matching definition for argument type(s) array(int32, 1d, C), array(float64, 1d, C), bool. Rembember: only floating point values can be used in the compiled implementations.\n",
      "\n",
      "c:\\Users\\PC\\AppData\\Local\\Programs\\Python\\Python312\\Lib\\site-packages\\dcor\\_fast_dcov_avl.py:554: UserWarning:\n",
      "\n",
      "Falling back to uncompiled AVL fast distance covariance terms because of TypeError exception raised: No matching definition for argument type(s) array(float64, 1d, C), array(int64, 1d, C), bool. Rembember: only floating point values can be used in the compiled implementations.\n",
      "\n",
      "c:\\Users\\PC\\AppData\\Local\\Programs\\Python\\Python312\\Lib\\site-packages\\dcor\\_fast_dcov_avl.py:554: UserWarning:\n",
      "\n",
      "Falling back to uncompiled AVL fast distance covariance terms because of TypeError exception raised: No matching definition for argument type(s) array(float64, 1d, C), array(int32, 1d, C), bool. Rembember: only floating point values can be used in the compiled implementations.\n",
      "\n",
      "c:\\Users\\PC\\AppData\\Local\\Programs\\Python\\Python312\\Lib\\site-packages\\dcor\\_fast_dcov_avl.py:554: UserWarning:\n",
      "\n",
      "Falling back to uncompiled AVL fast distance covariance terms because of TypeError exception raised: No matching definition for argument type(s) array(int64, 1d, C), array(int64, 1d, C), bool. Rembember: only floating point values can be used in the compiled implementations.\n",
      "\n",
      "c:\\Users\\PC\\AppData\\Local\\Programs\\Python\\Python312\\Lib\\site-packages\\dcor\\_fast_dcov_avl.py:554: UserWarning:\n",
      "\n",
      "Falling back to uncompiled AVL fast distance covariance terms because of TypeError exception raised: No matching definition for argument type(s) array(int64, 1d, C), array(int32, 1d, C), bool. Rembember: only floating point values can be used in the compiled implementations.\n",
      "\n",
      "c:\\Users\\PC\\AppData\\Local\\Programs\\Python\\Python312\\Lib\\site-packages\\dcor\\_fast_dcov_avl.py:554: UserWarning:\n",
      "\n",
      "Falling back to uncompiled AVL fast distance covariance terms because of TypeError exception raised: No matching definition for argument type(s) array(int64, 1d, C), array(float64, 1d, C), bool. Rembember: only floating point values can be used in the compiled implementations.\n",
      "\n",
      "c:\\Users\\PC\\AppData\\Local\\Programs\\Python\\Python312\\Lib\\site-packages\\dcor\\_fast_dcov_avl.py:554: UserWarning:\n",
      "\n",
      "Falling back to uncompiled AVL fast distance covariance terms because of TypeError exception raised: No matching definition for argument type(s) array(int32, 1d, C), array(int64, 1d, C), bool. Rembember: only floating point values can be used in the compiled implementations.\n",
      "\n",
      "c:\\Users\\PC\\AppData\\Local\\Programs\\Python\\Python312\\Lib\\site-packages\\dcor\\_fast_dcov_avl.py:554: UserWarning:\n",
      "\n",
      "Falling back to uncompiled AVL fast distance covariance terms because of TypeError exception raised: No matching definition for argument type(s) array(int32, 1d, C), array(int32, 1d, C), bool. Rembember: only floating point values can be used in the compiled implementations.\n",
      "\n",
      "c:\\Users\\PC\\AppData\\Local\\Programs\\Python\\Python312\\Lib\\site-packages\\dcor\\_fast_dcov_avl.py:554: UserWarning:\n",
      "\n",
      "Falling back to uncompiled AVL fast distance covariance terms because of TypeError exception raised: No matching definition for argument type(s) array(int32, 1d, C), array(float64, 1d, C), bool. Rembember: only floating point values can be used in the compiled implementations.\n",
      "\n",
      "c:\\Users\\PC\\AppData\\Local\\Programs\\Python\\Python312\\Lib\\site-packages\\dcor\\_fast_dcov_avl.py:554: UserWarning:\n",
      "\n",
      "Falling back to uncompiled AVL fast distance covariance terms because of TypeError exception raised: No matching definition for argument type(s) array(float64, 1d, C), array(int64, 1d, C), bool. Rembember: only floating point values can be used in the compiled implementations.\n",
      "\n",
      "c:\\Users\\PC\\AppData\\Local\\Programs\\Python\\Python312\\Lib\\site-packages\\dcor\\_fast_dcov_avl.py:554: UserWarning:\n",
      "\n",
      "Falling back to uncompiled AVL fast distance covariance terms because of TypeError exception raised: No matching definition for argument type(s) array(float64, 1d, C), array(int32, 1d, C), bool. Rembember: only floating point values can be used in the compiled implementations.\n",
      "\n"
     ]
    },
    {
     "data": {
      "application/vnd.plotly.v1+json": {
       "config": {
        "plotlyServerURL": "https://plot.ly"
       },
       "data": [
        {
         "colorbar": {
          "len": 0.3,
          "title": {
           "text": "r"
          }
         },
         "colorscale": [
          [
           0,
           "rgb(103,0,31)"
          ],
          [
           0.1,
           "rgb(178,24,43)"
          ],
          [
           0.2,
           "rgb(214,96,77)"
          ],
          [
           0.3,
           "rgb(244,165,130)"
          ],
          [
           0.4,
           "rgb(253,219,199)"
          ],
          [
           0.5,
           "rgb(247,247,247)"
          ],
          [
           0.6,
           "rgb(209,229,240)"
          ],
          [
           0.7,
           "rgb(146,197,222)"
          ],
          [
           0.8,
           "rgb(67,147,195)"
          ],
          [
           0.9,
           "rgb(33,102,172)"
          ],
          [
           1,
           "rgb(5,48,97)"
          ]
         ],
         "showscale": false,
         "type": "heatmap",
         "x": [
          "hour",
          "weekday_num",
          "response_time_mean",
          "response_time_std",
          "response_time_median",
          "response_time_max",
          "response_time_min",
          "correct_flg_mean"
         ],
         "xaxis": "x",
         "y": [
          "weekday_num",
          "hour"
         ],
         "yaxis": "y",
         "z": {
          "bdata": "BVrABpAAkr8AAAAAAAD4f36EdtCMCuy/Qs4QGLsp7b8//sesAqnpv4Ikdx2UR9+/bpcCPYSStr96XtXaDJm+PwAAAAAAAPh/BVrABpAAkr96aNX8xfLAv06X2yE9xr+/bTmYXuwhx7/wKsaMuFTTv48ey+GdS9e/tl48C7CI578=",
          "dtype": "f8",
          "shape": "2, 8"
         },
         "zmid": 0
        },
        {
         "colorbar": {
          "len": 0.3,
          "title": {
           "text": "r"
          }
         },
         "colorscale": [
          [
           0,
           "rgb(103,0,31)"
          ],
          [
           0.1,
           "rgb(178,24,43)"
          ],
          [
           0.2,
           "rgb(214,96,77)"
          ],
          [
           0.3,
           "rgb(244,165,130)"
          ],
          [
           0.4,
           "rgb(253,219,199)"
          ],
          [
           0.5,
           "rgb(247,247,247)"
          ],
          [
           0.6,
           "rgb(209,229,240)"
          ],
          [
           0.7,
           "rgb(146,197,222)"
          ],
          [
           0.8,
           "rgb(67,147,195)"
          ],
          [
           0.9,
           "rgb(33,102,172)"
          ],
          [
           1,
           "rgb(5,48,97)"
          ]
         ],
         "showscale": false,
         "type": "heatmap",
         "x": [
          "hour",
          "weekday_num",
          "response_time_mean",
          "response_time_std",
          "response_time_median",
          "response_time_max",
          "response_time_min",
          "correct_flg_mean"
         ],
         "xaxis": "x2",
         "y": [
          "weekday_num",
          "hour"
         ],
         "yaxis": "y2",
         "z": {
          "bdata": "5bM8oGNukT8AAAAAAAD4fy7DDucaNey/mYB6yl4f678DPuatognqv2JKRBQwnOO/5bM8oGNucT8pkzb7JezCPwAAAAAAAPh/5bM8oGNukT8ii9TCp5DHvz1UAeiYNcK/WrMQl3F+1r/x8PDw8PDQv5BrIpBrItC/EF8L9TQK6L8=",
          "dtype": "f8",
          "shape": "2, 8"
         },
         "zmid": 0
        },
        {
         "colorbar": {
          "len": 0.3,
          "title": {
           "text": "r"
          }
         },
         "colorscale": [
          [
           0,
           "rgb(103,0,31)"
          ],
          [
           0.1,
           "rgb(178,24,43)"
          ],
          [
           0.2,
           "rgb(214,96,77)"
          ],
          [
           0.3,
           "rgb(244,165,130)"
          ],
          [
           0.4,
           "rgb(253,219,199)"
          ],
          [
           0.5,
           "rgb(247,247,247)"
          ],
          [
           0.6,
           "rgb(209,229,240)"
          ],
          [
           0.7,
           "rgb(146,197,222)"
          ],
          [
           0.8,
           "rgb(67,147,195)"
          ],
          [
           0.9,
           "rgb(33,102,172)"
          ],
          [
           1,
           "rgb(5,48,97)"
          ]
         ],
         "showscale": false,
         "type": "heatmap",
         "x": [
          "hour",
          "weekday_num",
          "response_time_mean",
          "response_time_std",
          "response_time_median",
          "response_time_max",
          "response_time_min",
          "correct_flg_mean"
         ],
         "xaxis": "x3",
         "y": [
          "weekday_num",
          "hour"
         ],
         "yaxis": "y3",
         "z": {
          "bdata": "0V7V2gyZnj8AAAAAAAD4f3MrX0RWg+i/cytfRFaD6L8mTJ+I5r3kv+QIKA18r9y/0V7V2gyZnr+7TQpsT2K4PwAAAAAAAPh/0V7V2gyZnj8b1mmMzaK1vxvWaYzNorW/yXl7zu89yb8d1EEd1EG9vxZf8RVf8cW/oPKI6v1t478=",
          "dtype": "f8",
          "shape": "2, 8"
         },
         "zmid": 0
        },
        {
         "colorbar": {
          "len": 0.3,
          "title": {
           "text": "r"
          }
         },
         "colorscale": [
          [
           0,
           "rgb(103,0,31)"
          ],
          [
           0.1,
           "rgb(178,24,43)"
          ],
          [
           0.2,
           "rgb(214,96,77)"
          ],
          [
           0.3,
           "rgb(244,165,130)"
          ],
          [
           0.4,
           "rgb(253,219,199)"
          ],
          [
           0.5,
           "rgb(247,247,247)"
          ],
          [
           0.6,
           "rgb(209,229,240)"
          ],
          [
           0.7,
           "rgb(146,197,222)"
          ],
          [
           0.8,
           "rgb(67,147,195)"
          ],
          [
           0.9,
           "rgb(33,102,172)"
          ],
          [
           1,
           "rgb(5,48,97)"
          ]
         ],
         "showscale": false,
         "type": "heatmap",
         "x": [
          "hour",
          "weekday_num",
          "response_time_mean",
          "response_time_std",
          "response_time_median",
          "response_time_max",
          "response_time_min",
          "correct_flg_mean"
         ],
         "xaxis": "x4",
         "y": [
          "weekday_num",
          "hour"
         ],
         "yaxis": "y4",
         "z": {
          "bdata": "yhyfKpDZ0z8AAAAAAAD4fw1sLFxRqew/Ad7blBIO7T/xMi7VOEXqPyMSwpb6peA/eRVzi+mq3T+9I8jcY53cPwAAAAAAAPh/yhyfKpDZ0z8LI2qNXO7ZP+2SeyTQ19g/FLfALZmS3T9Ev2FzF1/XPzcbGNECIuM/UgnMsLG35j8=",
          "dtype": "f8",
          "shape": "2, 8"
         },
         "zmid": 0
        },
        {
         "colorbar": {
          "len": 0.3,
          "title": {
           "text": "r"
          }
         },
         "colorscale": [
          [
           0,
           "rgb(103,0,31)"
          ],
          [
           0.1,
           "rgb(178,24,43)"
          ],
          [
           0.2,
           "rgb(214,96,77)"
          ],
          [
           0.3,
           "rgb(244,165,130)"
          ],
          [
           0.4,
           "rgb(253,219,199)"
          ],
          [
           0.5,
           "rgb(247,247,247)"
          ],
          [
           0.6,
           "rgb(209,229,240)"
          ],
          [
           0.7,
           "rgb(146,197,222)"
          ],
          [
           0.8,
           "rgb(67,147,195)"
          ],
          [
           0.9,
           "rgb(33,102,172)"
          ],
          [
           1,
           "rgb(5,48,97)"
          ]
         ],
         "showscale": false,
         "type": "heatmap",
         "x": [
          "hour",
          "weekday_num",
          "response_time_mean",
          "response_time_std",
          "response_time_median",
          "response_time_max",
          "response_time_min",
          "correct_flg_mean"
         ],
         "xaxis": "x5",
         "y": [
          "weekday_num",
          "hour"
         ],
         "yaxis": "y5",
         "z": {
          "bdata": "AAAAAAAA8D8AAAAAAAD4fwAAAAAAAPC//f//////778AAAAAAADwvwAAAAAAAPC/AAAAAAAA8L8RAAAAAADwvwAAAAAAAPh/AAAAAAAA8D8AAAAAAADwv/z//////++/AAAAAAAA8L8AAAAAAADwvwAAAAAAAPC/EQAAAAAA8L8=",
          "dtype": "f8",
          "shape": "2, 8"
         },
         "zmid": 0
        },
        {
         "colorbar": {
          "len": 0.3,
          "title": {
           "text": "r"
          }
         },
         "colorscale": [
          [
           0,
           "rgb(103,0,31)"
          ],
          [
           0.1,
           "rgb(178,24,43)"
          ],
          [
           0.2,
           "rgb(214,96,77)"
          ],
          [
           0.3,
           "rgb(244,165,130)"
          ],
          [
           0.4,
           "rgb(253,219,199)"
          ],
          [
           0.5,
           "rgb(247,247,247)"
          ],
          [
           0.6,
           "rgb(209,229,240)"
          ],
          [
           0.7,
           "rgb(146,197,222)"
          ],
          [
           0.8,
           "rgb(67,147,195)"
          ],
          [
           0.9,
           "rgb(33,102,172)"
          ],
          [
           1,
           "rgb(5,48,97)"
          ]
         ],
         "showscale": false,
         "type": "heatmap",
         "x": [
          "hour",
          "weekday_num",
          "response_time_mean",
          "response_time_std",
          "response_time_median",
          "response_time_max",
          "response_time_min",
          "correct_flg_mean"
         ],
         "xaxis": "x6",
         "y": [
          "weekday_num",
          "hour"
         ],
         "yaxis": "y6",
         "z": {
          "bdata": "AAAAAAAA8D8AAAAAAAD4fwAAAAAAAPC/AAAAAAAA8L8AAAAAAADwvwAAAAAAAPC/AAAAAAAA8L8AAAAAAADwvwAAAAAAAPh/AAAAAAAA8D8AAAAAAADwvwAAAAAAAPC/AAAAAAAA8L8AAAAAAADwvwAAAAAAAPC/AAAAAAAA8L8=",
          "dtype": "f8",
          "shape": "2, 8"
         },
         "zmid": 0
        },
        {
         "colorbar": {
          "len": 0.3,
          "title": {
           "text": "r"
          }
         },
         "colorscale": [
          [
           0,
           "rgb(103,0,31)"
          ],
          [
           0.1,
           "rgb(178,24,43)"
          ],
          [
           0.2,
           "rgb(214,96,77)"
          ],
          [
           0.3,
           "rgb(244,165,130)"
          ],
          [
           0.4,
           "rgb(253,219,199)"
          ],
          [
           0.5,
           "rgb(247,247,247)"
          ],
          [
           0.6,
           "rgb(209,229,240)"
          ],
          [
           0.7,
           "rgb(146,197,222)"
          ],
          [
           0.8,
           "rgb(67,147,195)"
          ],
          [
           0.9,
           "rgb(33,102,172)"
          ],
          [
           1,
           "rgb(5,48,97)"
          ]
         ],
         "showscale": false,
         "type": "heatmap",
         "x": [
          "hour",
          "weekday_num",
          "response_time_mean",
          "response_time_std",
          "response_time_median",
          "response_time_max",
          "response_time_min",
          "correct_flg_mean"
         ],
         "xaxis": "x7",
         "y": [
          "weekday_num",
          "hour"
         ],
         "yaxis": "y7",
         "z": {
          "bdata": "AAAAAAAA8D8AAAAAAAD4fwAAAAAAAPC/AAAAAAAA8L8AAAAAAADwvwAAAAAAAPC/AAAAAAAA8L8AAAAAAADwvwAAAAAAAPh/AAAAAAAA8D8AAAAAAADwvwAAAAAAAPC/AAAAAAAA8L8AAAAAAADwvwAAAAAAAPC/AAAAAAAA8L8=",
          "dtype": "f8",
          "shape": "2, 8"
         },
         "zmid": 0
        },
        {
         "colorbar": {
          "len": 0.3,
          "title": {
           "text": "r"
          }
         },
         "colorscale": [
          [
           0,
           "rgb(103,0,31)"
          ],
          [
           0.1,
           "rgb(178,24,43)"
          ],
          [
           0.2,
           "rgb(214,96,77)"
          ],
          [
           0.3,
           "rgb(244,165,130)"
          ],
          [
           0.4,
           "rgb(253,219,199)"
          ],
          [
           0.5,
           "rgb(247,247,247)"
          ],
          [
           0.6,
           "rgb(209,229,240)"
          ],
          [
           0.7,
           "rgb(146,197,222)"
          ],
          [
           0.8,
           "rgb(67,147,195)"
          ],
          [
           0.9,
           "rgb(33,102,172)"
          ],
          [
           1,
           "rgb(5,48,97)"
          ]
         ],
         "showscale": false,
         "type": "heatmap",
         "x": [
          "hour",
          "weekday_num",
          "response_time_mean",
          "response_time_std",
          "response_time_median",
          "response_time_max",
          "response_time_min",
          "correct_flg_mean"
         ],
         "xaxis": "x8",
         "y": [
          "weekday_num",
          "hour"
         ],
         "yaxis": "y8",
         "z": {
          "bdata": "AAAAAAAA8D8AAAAAAAD4fwAAAAAAAPA/AAAAAAAA8D8AAAAAAADwPwAAAAAAAPA/AAAAAAAA8D8AAAAAAADwPwAAAAAAAPh/AAAAAAAA8D8AAAAAAADwPwAAAAAAAPA/AAAAAAAA8D8AAAAAAADwPwAAAAAAAPA/AAAAAAAA8D8=",
          "dtype": "f8",
          "shape": "2, 8"
         },
         "zmid": 0
        },
        {
         "colorbar": {
          "len": 0.3,
          "title": {
           "text": "r"
          }
         },
         "colorscale": [
          [
           0,
           "rgb(103,0,31)"
          ],
          [
           0.1,
           "rgb(178,24,43)"
          ],
          [
           0.2,
           "rgb(214,96,77)"
          ],
          [
           0.3,
           "rgb(244,165,130)"
          ],
          [
           0.4,
           "rgb(253,219,199)"
          ],
          [
           0.5,
           "rgb(247,247,247)"
          ],
          [
           0.6,
           "rgb(209,229,240)"
          ],
          [
           0.7,
           "rgb(146,197,222)"
          ],
          [
           0.8,
           "rgb(67,147,195)"
          ],
          [
           0.9,
           "rgb(33,102,172)"
          ],
          [
           1,
           "rgb(5,48,97)"
          ]
         ],
         "showscale": false,
         "type": "heatmap",
         "x": [
          "hour",
          "weekday_num",
          "response_time_mean",
          "response_time_std",
          "response_time_median",
          "response_time_max",
          "response_time_min",
          "correct_flg_mean"
         ],
         "xaxis": "x9",
         "y": [
          "weekday_num",
          "hour"
         ],
         "yaxis": "y9",
         "z": {
          "bdata": "LC4Amarc0z8AAAAAAAD4fyhjB1XIT+i/LE+OWAY967+sSHPBljbmvzeIgF/C4uq/b1q3x2XX378bpoewRi/cPwAAAAAAAPh/LC4Amarc0z9Uv3BCwvjgv9yPLQjl4cy/UJ5zUyxv3b+fxm3WY1qzv82z86RMUdO/gSSYqTd61z8=",
          "dtype": "f8",
          "shape": "2, 8"
         },
         "zmid": 0
        },
        {
         "colorbar": {
          "len": 0.3,
          "title": {
           "text": "r"
          }
         },
         "colorscale": [
          [
           0,
           "rgb(103,0,31)"
          ],
          [
           0.1,
           "rgb(178,24,43)"
          ],
          [
           0.2,
           "rgb(214,96,77)"
          ],
          [
           0.3,
           "rgb(244,165,130)"
          ],
          [
           0.4,
           "rgb(253,219,199)"
          ],
          [
           0.5,
           "rgb(247,247,247)"
          ],
          [
           0.6,
           "rgb(209,229,240)"
          ],
          [
           0.7,
           "rgb(146,197,222)"
          ],
          [
           0.8,
           "rgb(67,147,195)"
          ],
          [
           0.9,
           "rgb(33,102,172)"
          ],
          [
           1,
           "rgb(5,48,97)"
          ]
         ],
         "showscale": false,
         "type": "heatmap",
         "x": [
          "hour",
          "weekday_num",
          "response_time_mean",
          "response_time_std",
          "response_time_median",
          "response_time_max",
          "response_time_min",
          "correct_flg_mean"
         ],
         "xaxis": "x10",
         "y": [
          "weekday_num",
          "hour"
         ],
         "yaxis": "y10",
         "z": {
          "bdata": "iJI7J5yF0T8AAAAAAAD4fzManKwA8uq/MxqcrADy6r/sIPLosCfmv67X+5Xevey/e+jSLBfE4L88PDw8PDzcPwAAAAAAAPh/iJI7J5yF0T8MnRwhKunVvwydHCEq6dW/8vB9Wpo32L8ynwrLgXOyv+WaLnfSXsm/zqZsWQwr2D8=",
          "dtype": "f8",
          "shape": "2, 8"
         },
         "zmid": 0
        },
        {
         "colorbar": {
          "len": 0.3,
          "title": {
           "text": "r"
          }
         },
         "colorscale": [
          [
           0,
           "rgb(103,0,31)"
          ],
          [
           0.1,
           "rgb(178,24,43)"
          ],
          [
           0.2,
           "rgb(214,96,77)"
          ],
          [
           0.3,
           "rgb(244,165,130)"
          ],
          [
           0.4,
           "rgb(253,219,199)"
          ],
          [
           0.5,
           "rgb(247,247,247)"
          ],
          [
           0.6,
           "rgb(209,229,240)"
          ],
          [
           0.7,
           "rgb(146,197,222)"
          ],
          [
           0.8,
           "rgb(67,147,195)"
          ],
          [
           0.9,
           "rgb(33,102,172)"
          ],
          [
           1,
           "rgb(5,48,97)"
          ]
         ],
         "showscale": false,
         "type": "heatmap",
         "x": [
          "hour",
          "weekday_num",
          "response_time_mean",
          "response_time_std",
          "response_time_median",
          "response_time_max",
          "response_time_min",
          "correct_flg_mean"
         ],
         "xaxis": "x11",
         "y": [
          "weekday_num",
          "hour"
         ],
         "yaxis": "y11",
         "z": {
          "bdata": "GDHrkmDEyz8AAAAAAAD4f4UHYrNdBOa/hQdis10E5r8NGsmXO6Hiv/v0+s5/Z+m/Lllg+DJ83r+WlpaWlpbWPwAAAAAAAPh/GDHrkmDEyz+Wb7+hqPvIv5Zvv6Go+8i/sZNPeb680r8AAAAAAAAAAJZvv6Go+8i/0mQwbkjT1D8=",
          "dtype": "f8",
          "shape": "2, 8"
         },
         "zmid": 0
        },
        {
         "colorbar": {
          "len": 0.3,
          "title": {
           "text": "r"
          }
         },
         "colorscale": [
          [
           0,
           "rgb(103,0,31)"
          ],
          [
           0.1,
           "rgb(178,24,43)"
          ],
          [
           0.2,
           "rgb(214,96,77)"
          ],
          [
           0.3,
           "rgb(244,165,130)"
          ],
          [
           0.4,
           "rgb(253,219,199)"
          ],
          [
           0.5,
           "rgb(247,247,247)"
          ],
          [
           0.6,
           "rgb(209,229,240)"
          ],
          [
           0.7,
           "rgb(146,197,222)"
          ],
          [
           0.8,
           "rgb(67,147,195)"
          ],
          [
           0.9,
           "rgb(33,102,172)"
          ],
          [
           1,
           "rgb(5,48,97)"
          ]
         ],
         "showscale": false,
         "type": "heatmap",
         "x": [
          "hour",
          "weekday_num",
          "response_time_mean",
          "response_time_std",
          "response_time_median",
          "response_time_max",
          "response_time_min",
          "correct_flg_mean"
         ],
         "xaxis": "x12",
         "y": [
          "weekday_num",
          "hour"
         ],
         "yaxis": "y12",
         "z": {
          "bdata": "y6JyAczX2D8AAAAAAAD4f9NrQpJDB+k/ryCDWg2H7D9N+HZdEEPmP4IvJb14gus/XSTofIN34T/jvI0u8E/gPwAAAAAAAPh/y6JyAczX2D+yNZcKIlbiP7PCzVt2SNY/YqRFgm334D9uX5nm7YjTP2ZHnoXWft4/jlM88SOA3j8=",
          "dtype": "f8",
          "shape": "2, 8"
         },
         "zmid": 0
        },
        {
         "colorbar": {
          "len": 0.3,
          "title": {
           "text": "r"
          }
         },
         "colorscale": [
          [
           0,
           "rgb(103,0,31)"
          ],
          [
           0.1,
           "rgb(178,24,43)"
          ],
          [
           0.2,
           "rgb(214,96,77)"
          ],
          [
           0.3,
           "rgb(244,165,130)"
          ],
          [
           0.4,
           "rgb(253,219,199)"
          ],
          [
           0.5,
           "rgb(247,247,247)"
          ],
          [
           0.6,
           "rgb(209,229,240)"
          ],
          [
           0.7,
           "rgb(146,197,222)"
          ],
          [
           0.8,
           "rgb(67,147,195)"
          ],
          [
           0.9,
           "rgb(33,102,172)"
          ],
          [
           1,
           "rgb(5,48,97)"
          ]
         ],
         "showscale": false,
         "type": "heatmap",
         "x": [
          "hour",
          "weekday_num",
          "response_time_mean",
          "response_time_std",
          "response_time_median",
          "response_time_max",
          "response_time_min",
          "correct_flg_mean"
         ],
         "xaxis": "x13",
         "y": [
          "weekday_num",
          "hour"
         ],
         "yaxis": "y13",
         "z": {
          "bdata": "Y/9p4mcVzz8AAAAAAAD4f9Wj5C5Kp5E/Z3oQB7k+p7/mFWK/lyfDv6y4d9Q+zLe/yjdOKYoFzL+uRikJiBTHPwAAAAAAAPh/Y/9p4mcVzz/znzM5kwbQvyt5KF7OS5Q/QIqF096U2r+0HjxMnIHLPz5KigugcbW/cUPuNj6vvL8=",
          "dtype": "f8",
          "shape": "2, 8"
         },
         "zmid": 0
        },
        {
         "colorbar": {
          "len": 0.3,
          "title": {
           "text": "r"
          }
         },
         "colorscale": [
          [
           0,
           "rgb(103,0,31)"
          ],
          [
           0.1,
           "rgb(178,24,43)"
          ],
          [
           0.2,
           "rgb(214,96,77)"
          ],
          [
           0.3,
           "rgb(244,165,130)"
          ],
          [
           0.4,
           "rgb(253,219,199)"
          ],
          [
           0.5,
           "rgb(247,247,247)"
          ],
          [
           0.6,
           "rgb(209,229,240)"
          ],
          [
           0.7,
           "rgb(146,197,222)"
          ],
          [
           0.8,
           "rgb(67,147,195)"
          ],
          [
           0.9,
           "rgb(33,102,172)"
          ],
          [
           1,
           "rgb(5,48,97)"
          ]
         ],
         "showscale": false,
         "type": "heatmap",
         "x": [
          "hour",
          "weekday_num",
          "response_time_mean",
          "response_time_std",
          "response_time_median",
          "response_time_max",
          "response_time_min",
          "correct_flg_mean"
         ],
         "xaxis": "x14",
         "y": [
          "weekday_num",
          "hour"
         ],
         "yaxis": "y14",
         "z": {
          "bdata": "a1O1UpNc2D8AAAAAAAD4f34OQkv6qpe/Yxa+mVh7tL989mDPD9HIv1I106rwwba/576rjlW20b9OlbwVNNPKPwAAAAAAAPh/a1O1UpNc2D8HR+xzSwLUv7bl5Fe8pHW/qIH1Cjsj3L9QVypOe9DJP50RJqVIA8u//yEUBOGJgz8=",
          "dtype": "f8",
          "shape": "2, 8"
         },
         "zmid": 0
        },
        {
         "colorbar": {
          "len": 0.3,
          "title": {
           "text": "r"
          }
         },
         "colorscale": [
          [
           0,
           "rgb(103,0,31)"
          ],
          [
           0.1,
           "rgb(178,24,43)"
          ],
          [
           0.2,
           "rgb(214,96,77)"
          ],
          [
           0.3,
           "rgb(244,165,130)"
          ],
          [
           0.4,
           "rgb(253,219,199)"
          ],
          [
           0.5,
           "rgb(247,247,247)"
          ],
          [
           0.6,
           "rgb(209,229,240)"
          ],
          [
           0.7,
           "rgb(146,197,222)"
          ],
          [
           0.8,
           "rgb(67,147,195)"
          ],
          [
           0.9,
           "rgb(33,102,172)"
          ],
          [
           1,
           "rgb(5,48,97)"
          ]
         ],
         "showscale": false,
         "type": "heatmap",
         "x": [
          "hour",
          "weekday_num",
          "response_time_mean",
          "response_time_std",
          "response_time_median",
          "response_time_max",
          "response_time_min",
          "correct_flg_mean"
         ],
         "xaxis": "x15",
         "y": [
          "weekday_num",
          "hour"
         ],
         "yaxis": "y15",
         "z": {
          "bdata": "Ji4PpvKe1T8AAAAAAAD4f232hNEeHpO/9wpQuPa1tL/xGGVmfizDv6RxRzouray/qrosBSmjxr9U0ccmzFvFPwAAAAAAAPh/Ji4PpvKe1T+ylQQ6D17MvwbnXgfgqp6/3DhfNS3q1b/x2yw4V7PEP/uJkL7wrMK/b81jouhoiz8=",
          "dtype": "f8",
          "shape": "2, 8"
         },
         "zmid": 0
        },
        {
         "colorbar": {
          "len": 0.3,
          "title": {
           "text": "r"
          }
         },
         "colorscale": [
          [
           0,
           "rgb(103,0,31)"
          ],
          [
           0.1,
           "rgb(178,24,43)"
          ],
          [
           0.2,
           "rgb(214,96,77)"
          ],
          [
           0.3,
           "rgb(244,165,130)"
          ],
          [
           0.4,
           "rgb(253,219,199)"
          ],
          [
           0.5,
           "rgb(247,247,247)"
          ],
          [
           0.6,
           "rgb(209,229,240)"
          ],
          [
           0.7,
           "rgb(146,197,222)"
          ],
          [
           0.8,
           "rgb(67,147,195)"
          ],
          [
           0.9,
           "rgb(33,102,172)"
          ],
          [
           1,
           "rgb(5,48,97)"
          ]
         ],
         "showscale": true,
         "type": "heatmap",
         "x": [
          "hour",
          "weekday_num",
          "response_time_mean",
          "response_time_std",
          "response_time_median",
          "response_time_max",
          "response_time_min",
          "correct_flg_mean"
         ],
         "xaxis": "x16",
         "y": [
          "weekday_num",
          "hour"
         ],
         "yaxis": "y16",
         "z": {
          "bdata": "vgsuc1vI1D8AAAAAAAD4f7sekKbbs8s/wd3MFQlp0z8Dzd+WH6LYP5LEynY0stA/98sb7qHA1j+dAxApfW/TPwAAAAAAAPh/vgsuc1vI1D+g0SbuiQDUP3aW7KpO19M/I3J/m7SL3D9suj7X7RPYPyem/+3EEdQ/VeheOAWpzz8=",
          "dtype": "f8",
          "shape": "2, 8"
         },
         "zmid": 0
        }
       ],
       "layout": {
        "annotations": [
         {
          "font": {
           "size": 16
          },
          "showarrow": false,
          "text": "ID respondent_1 - Pearson",
          "x": 0.0875,
          "xanchor": "center",
          "xref": "paper",
          "y": 1,
          "yanchor": "bottom",
          "yref": "paper"
         },
         {
          "font": {
           "size": 16
          },
          "showarrow": false,
          "text": "ID respondent_1 - Spearman",
          "x": 0.36250000000000004,
          "xanchor": "center",
          "xref": "paper",
          "y": 1,
          "yanchor": "bottom",
          "yref": "paper"
         },
         {
          "font": {
           "size": 16
          },
          "showarrow": false,
          "text": "ID respondent_1 - Kendall",
          "x": 0.6375000000000001,
          "xanchor": "center",
          "xref": "paper",
          "y": 1,
          "yanchor": "bottom",
          "yref": "paper"
         },
         {
          "font": {
           "size": 16
          },
          "showarrow": false,
          "text": "ID respondent_1 - DCOR",
          "x": 0.9125,
          "xanchor": "center",
          "xref": "paper",
          "y": 1,
          "yanchor": "bottom",
          "yref": "paper"
         },
         {
          "font": {
           "size": 16
          },
          "showarrow": false,
          "text": "ID respondent_2 - Pearson",
          "x": 0.0875,
          "xanchor": "center",
          "xref": "paper",
          "y": 0.7375,
          "yanchor": "bottom",
          "yref": "paper"
         },
         {
          "font": {
           "size": 16
          },
          "showarrow": false,
          "text": "ID respondent_2 - Spearman",
          "x": 0.36250000000000004,
          "xanchor": "center",
          "xref": "paper",
          "y": 0.7375,
          "yanchor": "bottom",
          "yref": "paper"
         },
         {
          "font": {
           "size": 16
          },
          "showarrow": false,
          "text": "ID respondent_2 - Kendall",
          "x": 0.6375000000000001,
          "xanchor": "center",
          "xref": "paper",
          "y": 0.7375,
          "yanchor": "bottom",
          "yref": "paper"
         },
         {
          "font": {
           "size": 16
          },
          "showarrow": false,
          "text": "ID respondent_2 - DCOR",
          "x": 0.9125,
          "xanchor": "center",
          "xref": "paper",
          "y": 0.7375,
          "yanchor": "bottom",
          "yref": "paper"
         },
         {
          "font": {
           "size": 16
          },
          "showarrow": false,
          "text": "ID respondent_3 - Pearson",
          "x": 0.0875,
          "xanchor": "center",
          "xref": "paper",
          "y": 0.475,
          "yanchor": "bottom",
          "yref": "paper"
         },
         {
          "font": {
           "size": 16
          },
          "showarrow": false,
          "text": "ID respondent_3 - Spearman",
          "x": 0.36250000000000004,
          "xanchor": "center",
          "xref": "paper",
          "y": 0.475,
          "yanchor": "bottom",
          "yref": "paper"
         },
         {
          "font": {
           "size": 16
          },
          "showarrow": false,
          "text": "ID respondent_3 - Kendall",
          "x": 0.6375000000000001,
          "xanchor": "center",
          "xref": "paper",
          "y": 0.475,
          "yanchor": "bottom",
          "yref": "paper"
         },
         {
          "font": {
           "size": 16
          },
          "showarrow": false,
          "text": "ID respondent_3 - DCOR",
          "x": 0.9125,
          "xanchor": "center",
          "xref": "paper",
          "y": 0.475,
          "yanchor": "bottom",
          "yref": "paper"
         },
         {
          "font": {
           "size": 16
          },
          "showarrow": false,
          "text": "ID respondent_4 - Pearson",
          "x": 0.0875,
          "xanchor": "center",
          "xref": "paper",
          "y": 0.2125,
          "yanchor": "bottom",
          "yref": "paper"
         },
         {
          "font": {
           "size": 16
          },
          "showarrow": false,
          "text": "ID respondent_4 - Spearman",
          "x": 0.36250000000000004,
          "xanchor": "center",
          "xref": "paper",
          "y": 0.2125,
          "yanchor": "bottom",
          "yref": "paper"
         },
         {
          "font": {
           "size": 16
          },
          "showarrow": false,
          "text": "ID respondent_4 - Kendall",
          "x": 0.6375000000000001,
          "xanchor": "center",
          "xref": "paper",
          "y": 0.2125,
          "yanchor": "bottom",
          "yref": "paper"
         },
         {
          "font": {
           "size": 16
          },
          "showarrow": false,
          "text": "ID respondent_4 - DCOR",
          "x": 0.9125,
          "xanchor": "center",
          "xref": "paper",
          "y": 0.2125,
          "yanchor": "bottom",
          "yref": "paper"
         }
        ],
        "font": {
         "size": 10
        },
        "height": 1200,
        "margin": {
         "b": 50,
         "l": 50,
         "r": 80,
         "t": 100
        },
        "template": {
         "data": {
          "bar": [
           {
            "error_x": {
             "color": "#2a3f5f"
            },
            "error_y": {
             "color": "#2a3f5f"
            },
            "marker": {
             "line": {
              "color": "#E5ECF6",
              "width": 0.5
             },
             "pattern": {
              "fillmode": "overlay",
              "size": 10,
              "solidity": 0.2
             }
            },
            "type": "bar"
           }
          ],
          "barpolar": [
           {
            "marker": {
             "line": {
              "color": "#E5ECF6",
              "width": 0.5
             },
             "pattern": {
              "fillmode": "overlay",
              "size": 10,
              "solidity": 0.2
             }
            },
            "type": "barpolar"
           }
          ],
          "carpet": [
           {
            "aaxis": {
             "endlinecolor": "#2a3f5f",
             "gridcolor": "white",
             "linecolor": "white",
             "minorgridcolor": "white",
             "startlinecolor": "#2a3f5f"
            },
            "baxis": {
             "endlinecolor": "#2a3f5f",
             "gridcolor": "white",
             "linecolor": "white",
             "minorgridcolor": "white",
             "startlinecolor": "#2a3f5f"
            },
            "type": "carpet"
           }
          ],
          "choropleth": [
           {
            "colorbar": {
             "outlinewidth": 0,
             "ticks": ""
            },
            "type": "choropleth"
           }
          ],
          "contour": [
           {
            "colorbar": {
             "outlinewidth": 0,
             "ticks": ""
            },
            "colorscale": [
             [
              0,
              "#0d0887"
             ],
             [
              0.1111111111111111,
              "#46039f"
             ],
             [
              0.2222222222222222,
              "#7201a8"
             ],
             [
              0.3333333333333333,
              "#9c179e"
             ],
             [
              0.4444444444444444,
              "#bd3786"
             ],
             [
              0.5555555555555556,
              "#d8576b"
             ],
             [
              0.6666666666666666,
              "#ed7953"
             ],
             [
              0.7777777777777778,
              "#fb9f3a"
             ],
             [
              0.8888888888888888,
              "#fdca26"
             ],
             [
              1,
              "#f0f921"
             ]
            ],
            "type": "contour"
           }
          ],
          "contourcarpet": [
           {
            "colorbar": {
             "outlinewidth": 0,
             "ticks": ""
            },
            "type": "contourcarpet"
           }
          ],
          "heatmap": [
           {
            "colorbar": {
             "outlinewidth": 0,
             "ticks": ""
            },
            "colorscale": [
             [
              0,
              "#0d0887"
             ],
             [
              0.1111111111111111,
              "#46039f"
             ],
             [
              0.2222222222222222,
              "#7201a8"
             ],
             [
              0.3333333333333333,
              "#9c179e"
             ],
             [
              0.4444444444444444,
              "#bd3786"
             ],
             [
              0.5555555555555556,
              "#d8576b"
             ],
             [
              0.6666666666666666,
              "#ed7953"
             ],
             [
              0.7777777777777778,
              "#fb9f3a"
             ],
             [
              0.8888888888888888,
              "#fdca26"
             ],
             [
              1,
              "#f0f921"
             ]
            ],
            "type": "heatmap"
           }
          ],
          "histogram": [
           {
            "marker": {
             "pattern": {
              "fillmode": "overlay",
              "size": 10,
              "solidity": 0.2
             }
            },
            "type": "histogram"
           }
          ],
          "histogram2d": [
           {
            "colorbar": {
             "outlinewidth": 0,
             "ticks": ""
            },
            "colorscale": [
             [
              0,
              "#0d0887"
             ],
             [
              0.1111111111111111,
              "#46039f"
             ],
             [
              0.2222222222222222,
              "#7201a8"
             ],
             [
              0.3333333333333333,
              "#9c179e"
             ],
             [
              0.4444444444444444,
              "#bd3786"
             ],
             [
              0.5555555555555556,
              "#d8576b"
             ],
             [
              0.6666666666666666,
              "#ed7953"
             ],
             [
              0.7777777777777778,
              "#fb9f3a"
             ],
             [
              0.8888888888888888,
              "#fdca26"
             ],
             [
              1,
              "#f0f921"
             ]
            ],
            "type": "histogram2d"
           }
          ],
          "histogram2dcontour": [
           {
            "colorbar": {
             "outlinewidth": 0,
             "ticks": ""
            },
            "colorscale": [
             [
              0,
              "#0d0887"
             ],
             [
              0.1111111111111111,
              "#46039f"
             ],
             [
              0.2222222222222222,
              "#7201a8"
             ],
             [
              0.3333333333333333,
              "#9c179e"
             ],
             [
              0.4444444444444444,
              "#bd3786"
             ],
             [
              0.5555555555555556,
              "#d8576b"
             ],
             [
              0.6666666666666666,
              "#ed7953"
             ],
             [
              0.7777777777777778,
              "#fb9f3a"
             ],
             [
              0.8888888888888888,
              "#fdca26"
             ],
             [
              1,
              "#f0f921"
             ]
            ],
            "type": "histogram2dcontour"
           }
          ],
          "mesh3d": [
           {
            "colorbar": {
             "outlinewidth": 0,
             "ticks": ""
            },
            "type": "mesh3d"
           }
          ],
          "parcoords": [
           {
            "line": {
             "colorbar": {
              "outlinewidth": 0,
              "ticks": ""
             }
            },
            "type": "parcoords"
           }
          ],
          "pie": [
           {
            "automargin": true,
            "type": "pie"
           }
          ],
          "scatter": [
           {
            "fillpattern": {
             "fillmode": "overlay",
             "size": 10,
             "solidity": 0.2
            },
            "type": "scatter"
           }
          ],
          "scatter3d": [
           {
            "line": {
             "colorbar": {
              "outlinewidth": 0,
              "ticks": ""
             }
            },
            "marker": {
             "colorbar": {
              "outlinewidth": 0,
              "ticks": ""
             }
            },
            "type": "scatter3d"
           }
          ],
          "scattercarpet": [
           {
            "marker": {
             "colorbar": {
              "outlinewidth": 0,
              "ticks": ""
             }
            },
            "type": "scattercarpet"
           }
          ],
          "scattergeo": [
           {
            "marker": {
             "colorbar": {
              "outlinewidth": 0,
              "ticks": ""
             }
            },
            "type": "scattergeo"
           }
          ],
          "scattergl": [
           {
            "marker": {
             "colorbar": {
              "outlinewidth": 0,
              "ticks": ""
             }
            },
            "type": "scattergl"
           }
          ],
          "scattermap": [
           {
            "marker": {
             "colorbar": {
              "outlinewidth": 0,
              "ticks": ""
             }
            },
            "type": "scattermap"
           }
          ],
          "scattermapbox": [
           {
            "marker": {
             "colorbar": {
              "outlinewidth": 0,
              "ticks": ""
             }
            },
            "type": "scattermapbox"
           }
          ],
          "scatterpolar": [
           {
            "marker": {
             "colorbar": {
              "outlinewidth": 0,
              "ticks": ""
             }
            },
            "type": "scatterpolar"
           }
          ],
          "scatterpolargl": [
           {
            "marker": {
             "colorbar": {
              "outlinewidth": 0,
              "ticks": ""
             }
            },
            "type": "scatterpolargl"
           }
          ],
          "scatterternary": [
           {
            "marker": {
             "colorbar": {
              "outlinewidth": 0,
              "ticks": ""
             }
            },
            "type": "scatterternary"
           }
          ],
          "surface": [
           {
            "colorbar": {
             "outlinewidth": 0,
             "ticks": ""
            },
            "colorscale": [
             [
              0,
              "#0d0887"
             ],
             [
              0.1111111111111111,
              "#46039f"
             ],
             [
              0.2222222222222222,
              "#7201a8"
             ],
             [
              0.3333333333333333,
              "#9c179e"
             ],
             [
              0.4444444444444444,
              "#bd3786"
             ],
             [
              0.5555555555555556,
              "#d8576b"
             ],
             [
              0.6666666666666666,
              "#ed7953"
             ],
             [
              0.7777777777777778,
              "#fb9f3a"
             ],
             [
              0.8888888888888888,
              "#fdca26"
             ],
             [
              1,
              "#f0f921"
             ]
            ],
            "type": "surface"
           }
          ],
          "table": [
           {
            "cells": {
             "fill": {
              "color": "#EBF0F8"
             },
             "line": {
              "color": "white"
             }
            },
            "header": {
             "fill": {
              "color": "#C8D4E3"
             },
             "line": {
              "color": "white"
             }
            },
            "type": "table"
           }
          ]
         },
         "layout": {
          "annotationdefaults": {
           "arrowcolor": "#2a3f5f",
           "arrowhead": 0,
           "arrowwidth": 1
          },
          "autotypenumbers": "strict",
          "coloraxis": {
           "colorbar": {
            "outlinewidth": 0,
            "ticks": ""
           }
          },
          "colorscale": {
           "diverging": [
            [
             0,
             "#8e0152"
            ],
            [
             0.1,
             "#c51b7d"
            ],
            [
             0.2,
             "#de77ae"
            ],
            [
             0.3,
             "#f1b6da"
            ],
            [
             0.4,
             "#fde0ef"
            ],
            [
             0.5,
             "#f7f7f7"
            ],
            [
             0.6,
             "#e6f5d0"
            ],
            [
             0.7,
             "#b8e186"
            ],
            [
             0.8,
             "#7fbc41"
            ],
            [
             0.9,
             "#4d9221"
            ],
            [
             1,
             "#276419"
            ]
           ],
           "sequential": [
            [
             0,
             "#0d0887"
            ],
            [
             0.1111111111111111,
             "#46039f"
            ],
            [
             0.2222222222222222,
             "#7201a8"
            ],
            [
             0.3333333333333333,
             "#9c179e"
            ],
            [
             0.4444444444444444,
             "#bd3786"
            ],
            [
             0.5555555555555556,
             "#d8576b"
            ],
            [
             0.6666666666666666,
             "#ed7953"
            ],
            [
             0.7777777777777778,
             "#fb9f3a"
            ],
            [
             0.8888888888888888,
             "#fdca26"
            ],
            [
             1,
             "#f0f921"
            ]
           ],
           "sequentialminus": [
            [
             0,
             "#0d0887"
            ],
            [
             0.1111111111111111,
             "#46039f"
            ],
            [
             0.2222222222222222,
             "#7201a8"
            ],
            [
             0.3333333333333333,
             "#9c179e"
            ],
            [
             0.4444444444444444,
             "#bd3786"
            ],
            [
             0.5555555555555556,
             "#d8576b"
            ],
            [
             0.6666666666666666,
             "#ed7953"
            ],
            [
             0.7777777777777778,
             "#fb9f3a"
            ],
            [
             0.8888888888888888,
             "#fdca26"
            ],
            [
             1,
             "#f0f921"
            ]
           ]
          },
          "colorway": [
           "#636efa",
           "#EF553B",
           "#00cc96",
           "#ab63fa",
           "#FFA15A",
           "#19d3f3",
           "#FF6692",
           "#B6E880",
           "#FF97FF",
           "#FECB52"
          ],
          "font": {
           "color": "#2a3f5f"
          },
          "geo": {
           "bgcolor": "white",
           "lakecolor": "white",
           "landcolor": "#E5ECF6",
           "showlakes": true,
           "showland": true,
           "subunitcolor": "white"
          },
          "hoverlabel": {
           "align": "left"
          },
          "hovermode": "closest",
          "mapbox": {
           "style": "light"
          },
          "paper_bgcolor": "white",
          "plot_bgcolor": "#E5ECF6",
          "polar": {
           "angularaxis": {
            "gridcolor": "white",
            "linecolor": "white",
            "ticks": ""
           },
           "bgcolor": "#E5ECF6",
           "radialaxis": {
            "gridcolor": "white",
            "linecolor": "white",
            "ticks": ""
           }
          },
          "scene": {
           "xaxis": {
            "backgroundcolor": "#E5ECF6",
            "gridcolor": "white",
            "gridwidth": 2,
            "linecolor": "white",
            "showbackground": true,
            "ticks": "",
            "zerolinecolor": "white"
           },
           "yaxis": {
            "backgroundcolor": "#E5ECF6",
            "gridcolor": "white",
            "gridwidth": 2,
            "linecolor": "white",
            "showbackground": true,
            "ticks": "",
            "zerolinecolor": "white"
           },
           "zaxis": {
            "backgroundcolor": "#E5ECF6",
            "gridcolor": "white",
            "gridwidth": 2,
            "linecolor": "white",
            "showbackground": true,
            "ticks": "",
            "zerolinecolor": "white"
           }
          },
          "shapedefaults": {
           "line": {
            "color": "#2a3f5f"
           }
          },
          "ternary": {
           "aaxis": {
            "gridcolor": "white",
            "linecolor": "white",
            "ticks": ""
           },
           "baxis": {
            "gridcolor": "white",
            "linecolor": "white",
            "ticks": ""
           },
           "bgcolor": "#E5ECF6",
           "caxis": {
            "gridcolor": "white",
            "linecolor": "white",
            "ticks": ""
           }
          },
          "title": {
           "x": 0.05
          },
          "xaxis": {
           "automargin": true,
           "gridcolor": "white",
           "linecolor": "white",
           "ticks": "",
           "title": {
            "standoff": 15
           },
           "zerolinecolor": "white",
           "zerolinewidth": 2
          },
          "yaxis": {
           "automargin": true,
           "gridcolor": "white",
           "linecolor": "white",
           "ticks": "",
           "title": {
            "standoff": 15
           },
           "zerolinecolor": "white",
           "zerolinewidth": 2
          }
         }
        },
        "title": {
         "text": "Correlation Matrices by Respondent and Method"
        },
        "width": 900,
        "xaxis": {
         "anchor": "y",
         "domain": [
          0,
          0.175
         ],
         "tickangle": 45
        },
        "xaxis10": {
         "anchor": "y10",
         "domain": [
          0.275,
          0.45
         ],
         "tickangle": 45
        },
        "xaxis11": {
         "anchor": "y11",
         "domain": [
          0.55,
          0.7250000000000001
         ],
         "tickangle": 45
        },
        "xaxis12": {
         "anchor": "y12",
         "domain": [
          0.825,
          1
         ],
         "tickangle": 45
        },
        "xaxis13": {
         "anchor": "y13",
         "domain": [
          0,
          0.175
         ],
         "tickangle": 45
        },
        "xaxis14": {
         "anchor": "y14",
         "domain": [
          0.275,
          0.45
         ],
         "tickangle": 45
        },
        "xaxis15": {
         "anchor": "y15",
         "domain": [
          0.55,
          0.7250000000000001
         ],
         "tickangle": 45
        },
        "xaxis16": {
         "anchor": "y16",
         "domain": [
          0.825,
          1
         ],
         "tickangle": 45
        },
        "xaxis2": {
         "anchor": "y2",
         "domain": [
          0.275,
          0.45
         ],
         "tickangle": 45
        },
        "xaxis3": {
         "anchor": "y3",
         "domain": [
          0.55,
          0.7250000000000001
         ],
         "tickangle": 45
        },
        "xaxis4": {
         "anchor": "y4",
         "domain": [
          0.825,
          1
         ],
         "tickangle": 45
        },
        "xaxis5": {
         "anchor": "y5",
         "domain": [
          0,
          0.175
         ],
         "tickangle": 45
        },
        "xaxis6": {
         "anchor": "y6",
         "domain": [
          0.275,
          0.45
         ],
         "tickangle": 45
        },
        "xaxis7": {
         "anchor": "y7",
         "domain": [
          0.55,
          0.7250000000000001
         ],
         "tickangle": 45
        },
        "xaxis8": {
         "anchor": "y8",
         "domain": [
          0.825,
          1
         ],
         "tickangle": 45
        },
        "xaxis9": {
         "anchor": "y9",
         "domain": [
          0,
          0.175
         ],
         "tickangle": 45
        },
        "yaxis": {
         "anchor": "x",
         "domain": [
          0.7875,
          1
         ]
        },
        "yaxis10": {
         "anchor": "x10",
         "domain": [
          0.2625,
          0.475
         ]
        },
        "yaxis11": {
         "anchor": "x11",
         "domain": [
          0.2625,
          0.475
         ]
        },
        "yaxis12": {
         "anchor": "x12",
         "domain": [
          0.2625,
          0.475
         ]
        },
        "yaxis13": {
         "anchor": "x13",
         "domain": [
          0,
          0.2125
         ]
        },
        "yaxis14": {
         "anchor": "x14",
         "domain": [
          0,
          0.2125
         ]
        },
        "yaxis15": {
         "anchor": "x15",
         "domain": [
          0,
          0.2125
         ]
        },
        "yaxis16": {
         "anchor": "x16",
         "domain": [
          0,
          0.2125
         ]
        },
        "yaxis2": {
         "anchor": "x2",
         "domain": [
          0.7875,
          1
         ]
        },
        "yaxis3": {
         "anchor": "x3",
         "domain": [
          0.7875,
          1
         ]
        },
        "yaxis4": {
         "anchor": "x4",
         "domain": [
          0.7875,
          1
         ]
        },
        "yaxis5": {
         "anchor": "x5",
         "domain": [
          0.525,
          0.7375
         ]
        },
        "yaxis6": {
         "anchor": "x6",
         "domain": [
          0.525,
          0.7375
         ]
        },
        "yaxis7": {
         "anchor": "x7",
         "domain": [
          0.525,
          0.7375
         ]
        },
        "yaxis8": {
         "anchor": "x8",
         "domain": [
          0.525,
          0.7375
         ]
        },
        "yaxis9": {
         "anchor": "x9",
         "domain": [
          0.2625,
          0.475
         ]
        }
       }
      }
     },
     "metadata": {},
     "output_type": "display_data"
    }
   ],
   "source": [
    "import pandas as pd\n",
    "import plotly.graph_objects as go\n",
    "from plotly.subplots import make_subplots\n",
    "import numpy as np\n",
    "import dcor\n",
    "\n",
    "# Get unique IDs\n",
    "ids = q_df['id'].unique()\n",
    "num_ids = len(ids)\n",
    "\n",
    "# Parameters for subplot grid\n",
    "rows, cols = num_ids, 4\n",
    "\n",
    "# Select only numeric columns for correlation\n",
    "# Select only numeric columns for correlation\n",
    "numeric_df = q_df.select_dtypes(include=[np.number])\n",
    "numeric_columns = numeric_df.columns\n",
    "\n",
    "# Define the rows we want to keep\n",
    "selected_rows = ['weekday_num', 'hour']\n",
    "\n",
    "# Create figure with subplots\n",
    "fig = make_subplots(\n",
    "    rows=rows,\n",
    "    cols=cols,\n",
    "    subplot_titles=[f\"ID {id} - {method}\" for id in ids for method in ['Pearson', 'Spearman', 'Kendall', 'DCOR']],\n",
    "    horizontal_spacing=0.1,\n",
    "    vertical_spacing=0.05\n",
    ")\n",
    "\n",
    "# Calculate correlations for each respondent\n",
    "for i, (name, sub_df) in enumerate(q_df.groupby('id')):\n",
    "    # Calculate different correlation methods\n",
    "    pearson_corr = sub_df[numeric_columns].corr(method='pearson')\n",
    "    spearman_corr = sub_df[numeric_columns].corr(method='spearman')\n",
    "    kendall_corr = sub_df[numeric_columns].corr(method='kendall')\n",
    "    dcor_corr = pd.DataFrame(index=numeric_columns, columns=numeric_columns, dtype=float)\n",
    "\n",
    "    for col1 in numeric_columns:\n",
    "        for col2 in numeric_columns:\n",
    "            dcor_corr.loc[col1, col2] = dcor.distance_correlation(\n",
    "                sub_df[col1].dropna(),\n",
    "                sub_df[col2].dropna()\n",
    "            )\n",
    "    # Create heatmaps for each correlation method\n",
    "    for j, (corr, method) in enumerate([\n",
    "        (pearson_corr, 'Pearson'),\n",
    "        (spearman_corr, 'Spearman'),\n",
    "        (kendall_corr, 'Kendall'),\n",
    "        (dcor_corr, 'DCOR')\n",
    "    ]):\n",
    "        # Create a copy of the correlation matrix\n",
    "        corr_values = corr.values.copy()\n",
    "        np.fill_diagonal(corr_values, None)\n",
    "        \n",
    "        # Select only the rows we want to keep\n",
    "        corr_values = corr_values[[list(corr.index).index(row) for row in selected_rows]]\n",
    "        corr_index = selected_rows\n",
    "        \n",
    "        heatmap = go.Heatmap(\n",
    "            z=corr_values,\n",
    "            x=corr.columns,\n",
    "            y=corr_index,\n",
    "            colorscale='RdBu',\n",
    "            zmid=0,\n",
    "            colorbar=dict(title=\"r\", len=0.3),\n",
    "            showscale=(i == num_ids - 1 and j == 3)  # show colorbar only on the last plot\n",
    "        )\n",
    "        \n",
    "        # Add heatmap to the appropriate subplot\n",
    "        fig.add_trace(heatmap, row=i+1, col=j+1)\n",
    "\n",
    "# Update layout\n",
    "fig.update_layout(\n",
    "    height=300 * num_ids,  # Adjust height based on number of respondents\n",
    "    width=900,\n",
    "    title_text=\"Correlation Matrices by Respondent and Method\",\n",
    "    font=dict(size=10),\n",
    "    margin=dict(l=50, r=80, t=100, b=50)\n",
    ")\n",
    "\n",
    "# Rotate x-axis labels\n",
    "for i in range(1, rows * cols + 1):\n",
    "    fig['layout'][f'xaxis{i}'].update(tickangle=45)\n",
    "\n",
    "fig.show()"
   ]
  },
  {
   "cell_type": "code",
   "execution_count": 14,
   "metadata": {},
   "outputs": [
    {
     "data": {
      "text/html": [
       "<div>\n",
       "<style scoped>\n",
       "    .dataframe tbody tr th:only-of-type {\n",
       "        vertical-align: middle;\n",
       "    }\n",
       "\n",
       "    .dataframe tbody tr th {\n",
       "        vertical-align: top;\n",
       "    }\n",
       "\n",
       "    .dataframe thead th {\n",
       "        text-align: right;\n",
       "    }\n",
       "</style>\n",
       "<table border=\"1\" class=\"dataframe\">\n",
       "  <thead>\n",
       "    <tr style=\"text-align: right;\">\n",
       "      <th></th>\n",
       "      <th>id</th>\n",
       "      <th>base_time</th>\n",
       "      <th>compared_to</th>\n",
       "      <th>wilcoxon_statistic</th>\n",
       "      <th>p_value</th>\n",
       "      <th>date_bt</th>\n",
       "      <th>weekday_bt</th>\n",
       "      <th>datetime_bt</th>\n",
       "      <th>hour_bt</th>\n",
       "      <th>weekday_num_bt</th>\n",
       "      <th>...</th>\n",
       "      <th>weekday_ct</th>\n",
       "      <th>datetime_ct</th>\n",
       "      <th>hour_ct</th>\n",
       "      <th>weekday_num_ct</th>\n",
       "      <th>response_time_mean_ct</th>\n",
       "      <th>response_time_std_ct</th>\n",
       "      <th>response_time_median_ct</th>\n",
       "      <th>response_time_max_ct</th>\n",
       "      <th>response_time_min_ct</th>\n",
       "      <th>correct_flg_mean_ct</th>\n",
       "    </tr>\n",
       "  </thead>\n",
       "  <tbody>\n",
       "    <tr>\n",
       "      <th>0</th>\n",
       "      <td>respondent_1</td>\n",
       "      <td>2024-12-11 17:20:52</td>\n",
       "      <td>2024-12-12 13:14:12</td>\n",
       "      <td>13083.5</td>\n",
       "      <td>0.000031</td>\n",
       "      <td>2024-12-11</td>\n",
       "      <td>Wednesday</td>\n",
       "      <td>2024-12-11 17:20:52</td>\n",
       "      <td>17</td>\n",
       "      <td>2</td>\n",
       "      <td>...</td>\n",
       "      <td>Thursday</td>\n",
       "      <td>2024-12-12 13:14:12</td>\n",
       "      <td>13</td>\n",
       "      <td>3</td>\n",
       "      <td>1.651020</td>\n",
       "      <td>0.597772</td>\n",
       "      <td>1.4295</td>\n",
       "      <td>4.438</td>\n",
       "      <td>1.062</td>\n",
       "      <td>0.975</td>\n",
       "    </tr>\n",
       "    <tr>\n",
       "      <th>1</th>\n",
       "      <td>respondent_1</td>\n",
       "      <td>2024-12-12 13:14:12</td>\n",
       "      <td>2024-12-12 21:07:06</td>\n",
       "      <td>10620.5</td>\n",
       "      <td>0.243178</td>\n",
       "      <td>2024-12-12</td>\n",
       "      <td>Thursday</td>\n",
       "      <td>2024-12-12 13:14:12</td>\n",
       "      <td>13</td>\n",
       "      <td>3</td>\n",
       "      <td>...</td>\n",
       "      <td>Thursday</td>\n",
       "      <td>2024-12-12 21:07:06</td>\n",
       "      <td>21</td>\n",
       "      <td>3</td>\n",
       "      <td>1.639055</td>\n",
       "      <td>0.615554</td>\n",
       "      <td>1.4065</td>\n",
       "      <td>4.891</td>\n",
       "      <td>0.968</td>\n",
       "      <td>0.975</td>\n",
       "    </tr>\n",
       "    <tr>\n",
       "      <th>2</th>\n",
       "      <td>respondent_1</td>\n",
       "      <td>2024-12-12 21:07:06</td>\n",
       "      <td>2024-12-13 08:20:01</td>\n",
       "      <td>9953.5</td>\n",
       "      <td>0.498283</td>\n",
       "      <td>2024-12-12</td>\n",
       "      <td>Thursday</td>\n",
       "      <td>2024-12-12 21:07:06</td>\n",
       "      <td>21</td>\n",
       "      <td>3</td>\n",
       "      <td>...</td>\n",
       "      <td>Friday</td>\n",
       "      <td>2024-12-13 08:20:01</td>\n",
       "      <td>8</td>\n",
       "      <td>4</td>\n",
       "      <td>1.620940</td>\n",
       "      <td>0.546910</td>\n",
       "      <td>1.4370</td>\n",
       "      <td>5.094</td>\n",
       "      <td>0.953</td>\n",
       "      <td>0.990</td>\n",
       "    </tr>\n",
       "    <tr>\n",
       "      <th>3</th>\n",
       "      <td>respondent_1</td>\n",
       "      <td>2024-12-13 08:20:01</td>\n",
       "      <td>2024-12-13 20:13:02</td>\n",
       "      <td>11503.5</td>\n",
       "      <td>0.038071</td>\n",
       "      <td>2024-12-13</td>\n",
       "      <td>Friday</td>\n",
       "      <td>2024-12-13 08:20:01</td>\n",
       "      <td>8</td>\n",
       "      <td>4</td>\n",
       "      <td>...</td>\n",
       "      <td>Friday</td>\n",
       "      <td>2024-12-13 20:13:02</td>\n",
       "      <td>20</td>\n",
       "      <td>4</td>\n",
       "      <td>1.537110</td>\n",
       "      <td>0.454181</td>\n",
       "      <td>1.3595</td>\n",
       "      <td>3.250</td>\n",
       "      <td>0.984</td>\n",
       "      <td>0.965</td>\n",
       "    </tr>\n",
       "    <tr>\n",
       "      <th>4</th>\n",
       "      <td>respondent_1</td>\n",
       "      <td>2024-12-13 20:13:02</td>\n",
       "      <td>2024-12-14 11:56:28</td>\n",
       "      <td>11536.5</td>\n",
       "      <td>0.025564</td>\n",
       "      <td>2024-12-13</td>\n",
       "      <td>Friday</td>\n",
       "      <td>2024-12-13 20:13:02</td>\n",
       "      <td>20</td>\n",
       "      <td>4</td>\n",
       "      <td>...</td>\n",
       "      <td>Saturday</td>\n",
       "      <td>2024-12-14 11:56:28</td>\n",
       "      <td>11</td>\n",
       "      <td>5</td>\n",
       "      <td>1.458045</td>\n",
       "      <td>0.421196</td>\n",
       "      <td>1.3280</td>\n",
       "      <td>3.250</td>\n",
       "      <td>1.031</td>\n",
       "      <td>0.980</td>\n",
       "    </tr>\n",
       "  </tbody>\n",
       "</table>\n",
       "<p>5 rows × 27 columns</p>\n",
       "</div>"
      ],
      "text/plain": [
       "             id           base_time         compared_to  wilcoxon_statistic  \\\n",
       "0  respondent_1 2024-12-11 17:20:52 2024-12-12 13:14:12             13083.5   \n",
       "1  respondent_1 2024-12-12 13:14:12 2024-12-12 21:07:06             10620.5   \n",
       "2  respondent_1 2024-12-12 21:07:06 2024-12-13 08:20:01              9953.5   \n",
       "3  respondent_1 2024-12-13 08:20:01 2024-12-13 20:13:02             11503.5   \n",
       "4  respondent_1 2024-12-13 20:13:02 2024-12-14 11:56:28             11536.5   \n",
       "\n",
       "    p_value     date_bt weekday_bt         datetime_bt  hour_bt  \\\n",
       "0  0.000031  2024-12-11  Wednesday 2024-12-11 17:20:52       17   \n",
       "1  0.243178  2024-12-12   Thursday 2024-12-12 13:14:12       13   \n",
       "2  0.498283  2024-12-12   Thursday 2024-12-12 21:07:06       21   \n",
       "3  0.038071  2024-12-13     Friday 2024-12-13 08:20:01        8   \n",
       "4  0.025564  2024-12-13     Friday 2024-12-13 20:13:02       20   \n",
       "\n",
       "   weekday_num_bt  ...  weekday_ct         datetime_ct  hour_ct  \\\n",
       "0               2  ...    Thursday 2024-12-12 13:14:12       13   \n",
       "1               3  ...    Thursday 2024-12-12 21:07:06       21   \n",
       "2               3  ...      Friday 2024-12-13 08:20:01        8   \n",
       "3               4  ...      Friday 2024-12-13 20:13:02       20   \n",
       "4               4  ...    Saturday 2024-12-14 11:56:28       11   \n",
       "\n",
       "   weekday_num_ct  response_time_mean_ct  response_time_std_ct  \\\n",
       "0               3               1.651020              0.597772   \n",
       "1               3               1.639055              0.615554   \n",
       "2               4               1.620940              0.546910   \n",
       "3               4               1.537110              0.454181   \n",
       "4               5               1.458045              0.421196   \n",
       "\n",
       "  response_time_median_ct response_time_max_ct response_time_min_ct  \\\n",
       "0                  1.4295                4.438                1.062   \n",
       "1                  1.4065                4.891                0.968   \n",
       "2                  1.4370                5.094                0.953   \n",
       "3                  1.3595                3.250                0.984   \n",
       "4                  1.3280                3.250                1.031   \n",
       "\n",
       "   correct_flg_mean_ct  \n",
       "0                0.975  \n",
       "1                0.975  \n",
       "2                0.990  \n",
       "3                0.965  \n",
       "4                0.980  \n",
       "\n",
       "[5 rows x 27 columns]"
      ]
     },
     "execution_count": 14,
     "metadata": {},
     "output_type": "execute_result"
    }
   ],
   "source": [
    "from scipy.stats import wilcoxon\n",
    "\n",
    "answersLog_df_temp = answersLog_df.sort_values(['id', 'datetime', '#'])\n",
    "\n",
    "# Сохраним результаты для всех респондентов и всех измерений\n",
    "comparison_records = []\n",
    "\n",
    "# По каждому пользователю\n",
    "for respondent, sub_df in answersLog_df_temp.groupby('id'):\n",
    "    session_times = sorted(sub_df['datetime'].unique())\n",
    "\n",
    "    # Перебираем каждое измерение как базовое\n",
    "    for i, base_time in enumerate(session_times[:-1]):\n",
    "        base = sub_df[sub_df['datetime'] == base_time].sort_values('#')\n",
    "\n",
    "        for j in range(1, 2):\n",
    "            if i + j >= len(session_times):\n",
    "                continue\n",
    "            compare_time = session_times[i + j]\n",
    "            comp = sub_df[sub_df['datetime'] == compare_time].sort_values('#')\n",
    "\n",
    "            if len(base) == len(comp):\n",
    "                try:\n",
    "                    stat, p = wilcoxon(base['response_time'].values, comp['response_time'].values, alternative='greater')\n",
    "                except ValueError:\n",
    "                    stat, p = None, None\n",
    "            else:\n",
    "                stat, p = None, None\n",
    "\n",
    "            comparison_records.append({\n",
    "                'id': respondent,\n",
    "                'base_time': base_time,\n",
    "                'compared_to': compare_time,\n",
    "                'wilcoxon_statistic': stat,\n",
    "                'p_value': p\n",
    "            })\n",
    "\n",
    "# Формируем финальный DataFrame\n",
    "wilcoxon_pairwise_df = pd.DataFrame(comparison_records)\n",
    "wilcoxon_pairwise_df = pd.merge(wilcoxon_pairwise_df, q_df, left_on=['id', 'base_time'], right_on=['id', 'datetime'] , how='left', suffixes=('', '_bt'))\n",
    "wilcoxon_pairwise_df = pd.merge(wilcoxon_pairwise_df, q_df, left_on=['id', 'compared_to'], right_on=['id', 'datetime'] , how='left', suffixes=('_bt', '_ct'))\n",
    "\n",
    "wilcoxon_pairwise_df.head()"
   ]
  },
  {
   "cell_type": "code",
   "execution_count": 16,
   "metadata": {},
   "outputs": [
    {
     "data": {
      "text/html": [
       "<div>\n",
       "<style scoped>\n",
       "    .dataframe tbody tr th:only-of-type {\n",
       "        vertical-align: middle;\n",
       "    }\n",
       "\n",
       "    .dataframe tbody tr th {\n",
       "        vertical-align: top;\n",
       "    }\n",
       "\n",
       "    .dataframe thead th {\n",
       "        text-align: right;\n",
       "    }\n",
       "</style>\n",
       "<table border=\"1\" class=\"dataframe\">\n",
       "  <thead>\n",
       "    <tr style=\"text-align: right;\">\n",
       "      <th></th>\n",
       "      <th></th>\n",
       "      <th>compared_to</th>\n",
       "      <th>wilcoxon_statistic</th>\n",
       "      <th>p_value</th>\n",
       "      <th>date_bt</th>\n",
       "      <th>weekday_bt</th>\n",
       "      <th>datetime_bt</th>\n",
       "      <th>hour_bt</th>\n",
       "      <th>weekday_num_bt</th>\n",
       "      <th>response_time_mean_bt</th>\n",
       "      <th>response_time_std_bt</th>\n",
       "      <th>...</th>\n",
       "      <th>weekday_num_ct</th>\n",
       "      <th>response_time_mean_ct</th>\n",
       "      <th>response_time_std_ct</th>\n",
       "      <th>response_time_median_ct</th>\n",
       "      <th>response_time_max_ct</th>\n",
       "      <th>response_time_min_ct</th>\n",
       "      <th>correct_flg_mean_ct</th>\n",
       "      <th>hour_diff</th>\n",
       "      <th>hour_d_diff</th>\n",
       "      <th>day_time</th>\n",
       "    </tr>\n",
       "    <tr>\n",
       "      <th>id</th>\n",
       "      <th>base_time</th>\n",
       "      <th></th>\n",
       "      <th></th>\n",
       "      <th></th>\n",
       "      <th></th>\n",
       "      <th></th>\n",
       "      <th></th>\n",
       "      <th></th>\n",
       "      <th></th>\n",
       "      <th></th>\n",
       "      <th></th>\n",
       "      <th></th>\n",
       "      <th></th>\n",
       "      <th></th>\n",
       "      <th></th>\n",
       "      <th></th>\n",
       "      <th></th>\n",
       "      <th></th>\n",
       "      <th></th>\n",
       "      <th></th>\n",
       "      <th></th>\n",
       "      <th></th>\n",
       "    </tr>\n",
       "  </thead>\n",
       "  <tbody>\n",
       "    <tr>\n",
       "      <th rowspan=\"8\" valign=\"top\">respondent_1</th>\n",
       "      <th>2024-12-11 17:20:52</th>\n",
       "      <td>2024-12-12 13:14:12</td>\n",
       "      <td>13083.5</td>\n",
       "      <td>3.106059e-05</td>\n",
       "      <td>2024-12-11</td>\n",
       "      <td>Wednesday</td>\n",
       "      <td>2024-12-11 17:20:52</td>\n",
       "      <td>17</td>\n",
       "      <td>2</td>\n",
       "      <td>1.899995</td>\n",
       "      <td>0.697397</td>\n",
       "      <td>...</td>\n",
       "      <td>3</td>\n",
       "      <td>1.651020</td>\n",
       "      <td>0.597772</td>\n",
       "      <td>1.4295</td>\n",
       "      <td>4.438</td>\n",
       "      <td>1.062</td>\n",
       "      <td>0.975</td>\n",
       "      <td>19.888889</td>\n",
       "      <td>19.0</td>\n",
       "      <td>ebt_mct</td>\n",
       "    </tr>\n",
       "    <tr>\n",
       "      <th>2024-12-12 13:14:12</th>\n",
       "      <td>2024-12-12 21:07:06</td>\n",
       "      <td>10620.5</td>\n",
       "      <td>2.431785e-01</td>\n",
       "      <td>2024-12-12</td>\n",
       "      <td>Thursday</td>\n",
       "      <td>2024-12-12 13:14:12</td>\n",
       "      <td>13</td>\n",
       "      <td>3</td>\n",
       "      <td>1.651020</td>\n",
       "      <td>0.597772</td>\n",
       "      <td>...</td>\n",
       "      <td>3</td>\n",
       "      <td>1.639055</td>\n",
       "      <td>0.615554</td>\n",
       "      <td>1.4065</td>\n",
       "      <td>4.891</td>\n",
       "      <td>0.968</td>\n",
       "      <td>0.975</td>\n",
       "      <td>7.881667</td>\n",
       "      <td>7.0</td>\n",
       "      <td>mbt_ect</td>\n",
       "    </tr>\n",
       "    <tr>\n",
       "      <th>2024-12-12 21:07:06</th>\n",
       "      <td>2024-12-13 08:20:01</td>\n",
       "      <td>9953.5</td>\n",
       "      <td>4.982834e-01</td>\n",
       "      <td>2024-12-12</td>\n",
       "      <td>Thursday</td>\n",
       "      <td>2024-12-12 21:07:06</td>\n",
       "      <td>21</td>\n",
       "      <td>3</td>\n",
       "      <td>1.639055</td>\n",
       "      <td>0.615554</td>\n",
       "      <td>...</td>\n",
       "      <td>4</td>\n",
       "      <td>1.620940</td>\n",
       "      <td>0.546910</td>\n",
       "      <td>1.4370</td>\n",
       "      <td>5.094</td>\n",
       "      <td>0.953</td>\n",
       "      <td>0.990</td>\n",
       "      <td>11.215278</td>\n",
       "      <td>11.0</td>\n",
       "      <td>ebt_mct</td>\n",
       "    </tr>\n",
       "    <tr>\n",
       "      <th>2024-12-13 08:20:01</th>\n",
       "      <td>2024-12-13 20:13:02</td>\n",
       "      <td>11503.5</td>\n",
       "      <td>3.807136e-02</td>\n",
       "      <td>2024-12-13</td>\n",
       "      <td>Friday</td>\n",
       "      <td>2024-12-13 08:20:01</td>\n",
       "      <td>8</td>\n",
       "      <td>4</td>\n",
       "      <td>1.620940</td>\n",
       "      <td>0.546910</td>\n",
       "      <td>...</td>\n",
       "      <td>4</td>\n",
       "      <td>1.537110</td>\n",
       "      <td>0.454181</td>\n",
       "      <td>1.3595</td>\n",
       "      <td>3.250</td>\n",
       "      <td>0.984</td>\n",
       "      <td>0.965</td>\n",
       "      <td>11.883611</td>\n",
       "      <td>11.0</td>\n",
       "      <td>mbt_ect</td>\n",
       "    </tr>\n",
       "    <tr>\n",
       "      <th>2024-12-13 20:13:02</th>\n",
       "      <td>2024-12-14 11:56:28</td>\n",
       "      <td>11536.5</td>\n",
       "      <td>2.556392e-02</td>\n",
       "      <td>2024-12-13</td>\n",
       "      <td>Friday</td>\n",
       "      <td>2024-12-13 20:13:02</td>\n",
       "      <td>20</td>\n",
       "      <td>4</td>\n",
       "      <td>1.537110</td>\n",
       "      <td>0.454181</td>\n",
       "      <td>...</td>\n",
       "      <td>5</td>\n",
       "      <td>1.458045</td>\n",
       "      <td>0.421196</td>\n",
       "      <td>1.3280</td>\n",
       "      <td>3.250</td>\n",
       "      <td>1.031</td>\n",
       "      <td>0.980</td>\n",
       "      <td>15.723889</td>\n",
       "      <td>15.0</td>\n",
       "      <td>ebt_mct</td>\n",
       "    </tr>\n",
       "    <tr>\n",
       "      <th>2024-12-14 11:56:28</th>\n",
       "      <td>2024-12-14 20:53:06</td>\n",
       "      <td>11059.0</td>\n",
       "      <td>8.638402e-02</td>\n",
       "      <td>2024-12-14</td>\n",
       "      <td>Saturday</td>\n",
       "      <td>2024-12-14 11:56:28</td>\n",
       "      <td>11</td>\n",
       "      <td>5</td>\n",
       "      <td>1.458045</td>\n",
       "      <td>0.421196</td>\n",
       "      <td>...</td>\n",
       "      <td>5</td>\n",
       "      <td>1.407650</td>\n",
       "      <td>0.423153</td>\n",
       "      <td>1.2650</td>\n",
       "      <td>4.484</td>\n",
       "      <td>0.875</td>\n",
       "      <td>0.980</td>\n",
       "      <td>8.943889</td>\n",
       "      <td>8.0</td>\n",
       "      <td>mbt_ect</td>\n",
       "    </tr>\n",
       "    <tr>\n",
       "      <th>2024-12-14 20:53:06</th>\n",
       "      <td>2024-12-15 12:06:37</td>\n",
       "      <td>7502.5</td>\n",
       "      <td>9.981836e-01</td>\n",
       "      <td>2024-12-14</td>\n",
       "      <td>Saturday</td>\n",
       "      <td>2024-12-14 20:53:06</td>\n",
       "      <td>20</td>\n",
       "      <td>5</td>\n",
       "      <td>1.407650</td>\n",
       "      <td>0.423153</td>\n",
       "      <td>...</td>\n",
       "      <td>6</td>\n",
       "      <td>1.511405</td>\n",
       "      <td>0.465154</td>\n",
       "      <td>1.3590</td>\n",
       "      <td>4.328</td>\n",
       "      <td>1.094</td>\n",
       "      <td>0.995</td>\n",
       "      <td>15.225278</td>\n",
       "      <td>15.0</td>\n",
       "      <td>ebt_mct</td>\n",
       "    </tr>\n",
       "    <tr>\n",
       "      <th>2024-12-15 12:06:37</th>\n",
       "      <td>2024-12-15 22:12:43</td>\n",
       "      <td>11636.0</td>\n",
       "      <td>6.317908e-03</td>\n",
       "      <td>2024-12-15</td>\n",
       "      <td>Sunday</td>\n",
       "      <td>2024-12-15 12:06:37</td>\n",
       "      <td>12</td>\n",
       "      <td>6</td>\n",
       "      <td>1.511405</td>\n",
       "      <td>0.465154</td>\n",
       "      <td>...</td>\n",
       "      <td>6</td>\n",
       "      <td>1.426095</td>\n",
       "      <td>0.384864</td>\n",
       "      <td>1.2970</td>\n",
       "      <td>3.063</td>\n",
       "      <td>1.000</td>\n",
       "      <td>0.965</td>\n",
       "      <td>10.101667</td>\n",
       "      <td>10.0</td>\n",
       "      <td>mbt_ect</td>\n",
       "    </tr>\n",
       "    <tr>\n",
       "      <th>respondent_2</th>\n",
       "      <th>2024-12-11 16:09:52</th>\n",
       "      <td>2024-12-12 19:57:16</td>\n",
       "      <td>15822.5</td>\n",
       "      <td>9.377214e-13</td>\n",
       "      <td>2024-12-11</td>\n",
       "      <td>Wednesday</td>\n",
       "      <td>2024-12-11 16:09:52</td>\n",
       "      <td>16</td>\n",
       "      <td>2</td>\n",
       "      <td>2.990650</td>\n",
       "      <td>1.477363</td>\n",
       "      <td>...</td>\n",
       "      <td>3</td>\n",
       "      <td>2.247420</td>\n",
       "      <td>1.116699</td>\n",
       "      <td>1.9765</td>\n",
       "      <td>10.297</td>\n",
       "      <td>1.250</td>\n",
       "      <td>0.970</td>\n",
       "      <td>27.790000</td>\n",
       "      <td>3.0</td>\n",
       "      <td>ebt_ect</td>\n",
       "    </tr>\n",
       "    <tr>\n",
       "      <th rowspan=\"6\" valign=\"top\">respondent_3</th>\n",
       "      <th>2024-12-11 10:55:16</th>\n",
       "      <td>2024-12-11 15:51:05</td>\n",
       "      <td>13425.5</td>\n",
       "      <td>9.657953e-06</td>\n",
       "      <td>2024-12-11</td>\n",
       "      <td>Wednesday</td>\n",
       "      <td>2024-12-11 10:55:16</td>\n",
       "      <td>10</td>\n",
       "      <td>2</td>\n",
       "      <td>1.912505</td>\n",
       "      <td>0.654748</td>\n",
       "      <td>...</td>\n",
       "      <td>2</td>\n",
       "      <td>1.668740</td>\n",
       "      <td>0.531536</td>\n",
       "      <td>1.5160</td>\n",
       "      <td>4.703</td>\n",
       "      <td>0.781</td>\n",
       "      <td>0.985</td>\n",
       "      <td>4.930278</td>\n",
       "      <td>4.0</td>\n",
       "      <td>mbt_ect</td>\n",
       "    </tr>\n",
       "    <tr>\n",
       "      <th>2024-12-11 15:51:05</th>\n",
       "      <td>2024-12-11 22:05:25</td>\n",
       "      <td>9902.5</td>\n",
       "      <td>5.714140e-01</td>\n",
       "      <td>2024-12-11</td>\n",
       "      <td>Wednesday</td>\n",
       "      <td>2024-12-11 15:51:05</td>\n",
       "      <td>15</td>\n",
       "      <td>2</td>\n",
       "      <td>1.668740</td>\n",
       "      <td>0.531536</td>\n",
       "      <td>...</td>\n",
       "      <td>2</td>\n",
       "      <td>1.691570</td>\n",
       "      <td>0.649704</td>\n",
       "      <td>1.5310</td>\n",
       "      <td>5.718</td>\n",
       "      <td>0.953</td>\n",
       "      <td>0.995</td>\n",
       "      <td>6.238889</td>\n",
       "      <td>6.0</td>\n",
       "      <td>ebt_ect</td>\n",
       "    </tr>\n",
       "    <tr>\n",
       "      <th>2024-12-11 22:05:25</th>\n",
       "      <td>2024-12-13 02:03:23</td>\n",
       "      <td>12071.5</td>\n",
       "      <td>6.820587e-03</td>\n",
       "      <td>2024-12-11</td>\n",
       "      <td>Wednesday</td>\n",
       "      <td>2024-12-11 22:05:25</td>\n",
       "      <td>22</td>\n",
       "      <td>2</td>\n",
       "      <td>1.691570</td>\n",
       "      <td>0.649704</td>\n",
       "      <td>...</td>\n",
       "      <td>4</td>\n",
       "      <td>1.550630</td>\n",
       "      <td>0.432418</td>\n",
       "      <td>1.4685</td>\n",
       "      <td>4.453</td>\n",
       "      <td>0.968</td>\n",
       "      <td>1.000</td>\n",
       "      <td>27.966111</td>\n",
       "      <td>3.0</td>\n",
       "      <td>ebt_ect</td>\n",
       "    </tr>\n",
       "    <tr>\n",
       "      <th>2024-12-13 02:03:23</th>\n",
       "      <td>2024-12-13 10:32:47</td>\n",
       "      <td>10949.0</td>\n",
       "      <td>1.363335e-01</td>\n",
       "      <td>2024-12-12</td>\n",
       "      <td>Friday</td>\n",
       "      <td>2024-12-13 02:03:23</td>\n",
       "      <td>26</td>\n",
       "      <td>4</td>\n",
       "      <td>1.550630</td>\n",
       "      <td>0.432418</td>\n",
       "      <td>...</td>\n",
       "      <td>4</td>\n",
       "      <td>1.522030</td>\n",
       "      <td>0.428670</td>\n",
       "      <td>1.3910</td>\n",
       "      <td>3.953</td>\n",
       "      <td>0.922</td>\n",
       "      <td>0.990</td>\n",
       "      <td>8.490000</td>\n",
       "      <td>8.0</td>\n",
       "      <td>ebt_mct</td>\n",
       "    </tr>\n",
       "    <tr>\n",
       "      <th>2024-12-13 10:32:47</th>\n",
       "      <td>2024-12-14 13:00:47</td>\n",
       "      <td>6597.0</td>\n",
       "      <td>9.999874e-01</td>\n",
       "      <td>2024-12-13</td>\n",
       "      <td>Friday</td>\n",
       "      <td>2024-12-13 10:32:47</td>\n",
       "      <td>10</td>\n",
       "      <td>4</td>\n",
       "      <td>1.522030</td>\n",
       "      <td>0.428670</td>\n",
       "      <td>...</td>\n",
       "      <td>5</td>\n",
       "      <td>1.651010</td>\n",
       "      <td>0.445960</td>\n",
       "      <td>1.5310</td>\n",
       "      <td>4.141</td>\n",
       "      <td>0.859</td>\n",
       "      <td>1.000</td>\n",
       "      <td>26.466667</td>\n",
       "      <td>2.0</td>\n",
       "      <td>mbt_mct</td>\n",
       "    </tr>\n",
       "    <tr>\n",
       "      <th>2024-12-14 13:00:47</th>\n",
       "      <td>2024-12-15 01:16:30</td>\n",
       "      <td>14989.5</td>\n",
       "      <td>8.347710e-10</td>\n",
       "      <td>2024-12-14</td>\n",
       "      <td>Saturday</td>\n",
       "      <td>2024-12-14 13:00:47</td>\n",
       "      <td>13</td>\n",
       "      <td>5</td>\n",
       "      <td>1.651010</td>\n",
       "      <td>0.445960</td>\n",
       "      <td>...</td>\n",
       "      <td>6</td>\n",
       "      <td>1.426100</td>\n",
       "      <td>0.414898</td>\n",
       "      <td>1.3435</td>\n",
       "      <td>3.937</td>\n",
       "      <td>0.765</td>\n",
       "      <td>0.995</td>\n",
       "      <td>12.261944</td>\n",
       "      <td>12.0</td>\n",
       "      <td>mbt_ect</td>\n",
       "    </tr>\n",
       "    <tr>\n",
       "      <th rowspan=\"18\" valign=\"top\">respondent_4</th>\n",
       "      <th>2024-12-12 12:56:06</th>\n",
       "      <td>2024-12-12 22:33:31</td>\n",
       "      <td>8753.0</td>\n",
       "      <td>9.294279e-01</td>\n",
       "      <td>2024-12-12</td>\n",
       "      <td>Thursday</td>\n",
       "      <td>2024-12-12 12:56:06</td>\n",
       "      <td>12</td>\n",
       "      <td>3</td>\n",
       "      <td>1.450080</td>\n",
       "      <td>0.414905</td>\n",
       "      <td>...</td>\n",
       "      <td>3</td>\n",
       "      <td>1.540920</td>\n",
       "      <td>0.578648</td>\n",
       "      <td>1.3515</td>\n",
       "      <td>5.313</td>\n",
       "      <td>0.985</td>\n",
       "      <td>0.965</td>\n",
       "      <td>9.623611</td>\n",
       "      <td>9.0</td>\n",
       "      <td>mbt_ect</td>\n",
       "    </tr>\n",
       "    <tr>\n",
       "      <th>2024-12-12 22:33:31</th>\n",
       "      <td>2024-12-13 11:40:45</td>\n",
       "      <td>10733.0</td>\n",
       "      <td>2.023147e-01</td>\n",
       "      <td>2024-12-12</td>\n",
       "      <td>Thursday</td>\n",
       "      <td>2024-12-12 22:33:31</td>\n",
       "      <td>22</td>\n",
       "      <td>3</td>\n",
       "      <td>1.540920</td>\n",
       "      <td>0.578648</td>\n",
       "      <td>...</td>\n",
       "      <td>4</td>\n",
       "      <td>1.459755</td>\n",
       "      <td>0.368477</td>\n",
       "      <td>1.3440</td>\n",
       "      <td>3.172</td>\n",
       "      <td>0.875</td>\n",
       "      <td>0.970</td>\n",
       "      <td>13.120556</td>\n",
       "      <td>13.0</td>\n",
       "      <td>ebt_mct</td>\n",
       "    </tr>\n",
       "    <tr>\n",
       "      <th>2024-12-13 11:40:45</th>\n",
       "      <td>2024-12-14 01:05:55</td>\n",
       "      <td>9685.5</td>\n",
       "      <td>5.809727e-01</td>\n",
       "      <td>2024-12-13</td>\n",
       "      <td>Friday</td>\n",
       "      <td>2024-12-13 11:40:45</td>\n",
       "      <td>11</td>\n",
       "      <td>4</td>\n",
       "      <td>1.459755</td>\n",
       "      <td>0.368477</td>\n",
       "      <td>...</td>\n",
       "      <td>5</td>\n",
       "      <td>1.513275</td>\n",
       "      <td>0.510082</td>\n",
       "      <td>1.3435</td>\n",
       "      <td>4.547</td>\n",
       "      <td>0.922</td>\n",
       "      <td>0.970</td>\n",
       "      <td>13.419444</td>\n",
       "      <td>13.0</td>\n",
       "      <td>mbt_ect</td>\n",
       "    </tr>\n",
       "    <tr>\n",
       "      <th>2024-12-14 01:05:55</th>\n",
       "      <td>2024-12-14 12:11:29</td>\n",
       "      <td>9526.5</td>\n",
       "      <td>6.986901e-01</td>\n",
       "      <td>2024-12-13</td>\n",
       "      <td>Saturday</td>\n",
       "      <td>2024-12-14 01:05:55</td>\n",
       "      <td>25</td>\n",
       "      <td>5</td>\n",
       "      <td>1.513275</td>\n",
       "      <td>0.510082</td>\n",
       "      <td>...</td>\n",
       "      <td>5</td>\n",
       "      <td>1.526330</td>\n",
       "      <td>0.491133</td>\n",
       "      <td>1.4060</td>\n",
       "      <td>4.329</td>\n",
       "      <td>0.953</td>\n",
       "      <td>0.975</td>\n",
       "      <td>11.092778</td>\n",
       "      <td>11.0</td>\n",
       "      <td>ebt_mct</td>\n",
       "    </tr>\n",
       "    <tr>\n",
       "      <th>2024-12-14 12:11:29</th>\n",
       "      <td>2024-12-15 01:29:44</td>\n",
       "      <td>10232.5</td>\n",
       "      <td>2.330636e-01</td>\n",
       "      <td>2024-12-14</td>\n",
       "      <td>Saturday</td>\n",
       "      <td>2024-12-14 12:11:29</td>\n",
       "      <td>12</td>\n",
       "      <td>5</td>\n",
       "      <td>1.526330</td>\n",
       "      <td>0.491133</td>\n",
       "      <td>...</td>\n",
       "      <td>6</td>\n",
       "      <td>1.458120</td>\n",
       "      <td>0.340561</td>\n",
       "      <td>1.3595</td>\n",
       "      <td>3.140</td>\n",
       "      <td>0.922</td>\n",
       "      <td>0.970</td>\n",
       "      <td>13.304167</td>\n",
       "      <td>13.0</td>\n",
       "      <td>mbt_ect</td>\n",
       "    </tr>\n",
       "    <tr>\n",
       "      <th>2024-12-15 01:29:44</th>\n",
       "      <td>2024-12-15 13:04:17</td>\n",
       "      <td>8874.0</td>\n",
       "      <td>9.243481e-01</td>\n",
       "      <td>2024-12-14</td>\n",
       "      <td>Sunday</td>\n",
       "      <td>2024-12-15 01:29:44</td>\n",
       "      <td>25</td>\n",
       "      <td>6</td>\n",
       "      <td>1.458120</td>\n",
       "      <td>0.340561</td>\n",
       "      <td>...</td>\n",
       "      <td>6</td>\n",
       "      <td>1.540690</td>\n",
       "      <td>0.456686</td>\n",
       "      <td>1.3910</td>\n",
       "      <td>3.641</td>\n",
       "      <td>0.969</td>\n",
       "      <td>0.965</td>\n",
       "      <td>11.575833</td>\n",
       "      <td>11.0</td>\n",
       "      <td>ebt_mct</td>\n",
       "    </tr>\n",
       "    <tr>\n",
       "      <th>2024-12-15 13:04:17</th>\n",
       "      <td>2024-12-15 18:28:17</td>\n",
       "      <td>10573.0</td>\n",
       "      <td>1.854098e-01</td>\n",
       "      <td>2024-12-15</td>\n",
       "      <td>Sunday</td>\n",
       "      <td>2024-12-15 13:04:17</td>\n",
       "      <td>13</td>\n",
       "      <td>6</td>\n",
       "      <td>1.540690</td>\n",
       "      <td>0.456686</td>\n",
       "      <td>...</td>\n",
       "      <td>6</td>\n",
       "      <td>1.494070</td>\n",
       "      <td>0.419902</td>\n",
       "      <td>1.3595</td>\n",
       "      <td>3.609</td>\n",
       "      <td>0.953</td>\n",
       "      <td>0.975</td>\n",
       "      <td>5.400000</td>\n",
       "      <td>5.0</td>\n",
       "      <td>mbt_ect</td>\n",
       "    </tr>\n",
       "    <tr>\n",
       "      <th>2024-12-15 18:28:17</th>\n",
       "      <td>2024-12-16 06:52:53</td>\n",
       "      <td>8754.5</td>\n",
       "      <td>9.430322e-01</td>\n",
       "      <td>2024-12-15</td>\n",
       "      <td>Sunday</td>\n",
       "      <td>2024-12-15 18:28:17</td>\n",
       "      <td>18</td>\n",
       "      <td>6</td>\n",
       "      <td>1.494070</td>\n",
       "      <td>0.419902</td>\n",
       "      <td>...</td>\n",
       "      <td>0</td>\n",
       "      <td>1.563590</td>\n",
       "      <td>0.457987</td>\n",
       "      <td>1.4380</td>\n",
       "      <td>3.532</td>\n",
       "      <td>0.953</td>\n",
       "      <td>0.970</td>\n",
       "      <td>12.410000</td>\n",
       "      <td>12.0</td>\n",
       "      <td>ebt_mct</td>\n",
       "    </tr>\n",
       "    <tr>\n",
       "      <th>2024-12-16 06:52:53</th>\n",
       "      <td>2024-12-16 23:57:21</td>\n",
       "      <td>11674.5</td>\n",
       "      <td>1.700115e-02</td>\n",
       "      <td>2024-12-16</td>\n",
       "      <td>Monday</td>\n",
       "      <td>2024-12-16 06:52:53</td>\n",
       "      <td>6</td>\n",
       "      <td>0</td>\n",
       "      <td>1.563590</td>\n",
       "      <td>0.457987</td>\n",
       "      <td>...</td>\n",
       "      <td>0</td>\n",
       "      <td>1.477650</td>\n",
       "      <td>0.448652</td>\n",
       "      <td>1.3590</td>\n",
       "      <td>3.875</td>\n",
       "      <td>0.984</td>\n",
       "      <td>0.960</td>\n",
       "      <td>17.074444</td>\n",
       "      <td>17.0</td>\n",
       "      <td>mbt_ect</td>\n",
       "    </tr>\n",
       "    <tr>\n",
       "      <th>2024-12-16 23:57:21</th>\n",
       "      <td>2024-12-17 09:58:55</td>\n",
       "      <td>8735.5</td>\n",
       "      <td>9.163789e-01</td>\n",
       "      <td>2024-12-16</td>\n",
       "      <td>Monday</td>\n",
       "      <td>2024-12-16 23:57:21</td>\n",
       "      <td>23</td>\n",
       "      <td>0</td>\n",
       "      <td>1.477650</td>\n",
       "      <td>0.448652</td>\n",
       "      <td>...</td>\n",
       "      <td>1</td>\n",
       "      <td>1.525555</td>\n",
       "      <td>0.506233</td>\n",
       "      <td>1.4220</td>\n",
       "      <td>4.797</td>\n",
       "      <td>0.984</td>\n",
       "      <td>0.975</td>\n",
       "      <td>10.026111</td>\n",
       "      <td>10.0</td>\n",
       "      <td>ebt_mct</td>\n",
       "    </tr>\n",
       "    <tr>\n",
       "      <th>2024-12-17 09:58:55</th>\n",
       "      <td>2024-12-18 00:18:36</td>\n",
       "      <td>10066.0</td>\n",
       "      <td>4.433009e-01</td>\n",
       "      <td>2024-12-17</td>\n",
       "      <td>Tuesday</td>\n",
       "      <td>2024-12-17 09:58:55</td>\n",
       "      <td>9</td>\n",
       "      <td>1</td>\n",
       "      <td>1.525555</td>\n",
       "      <td>0.506233</td>\n",
       "      <td>...</td>\n",
       "      <td>2</td>\n",
       "      <td>1.527340</td>\n",
       "      <td>0.469142</td>\n",
       "      <td>1.3910</td>\n",
       "      <td>4.328</td>\n",
       "      <td>0.891</td>\n",
       "      <td>0.970</td>\n",
       "      <td>14.328056</td>\n",
       "      <td>14.0</td>\n",
       "      <td>mbt_ect</td>\n",
       "    </tr>\n",
       "    <tr>\n",
       "      <th>2024-12-18 00:18:36</th>\n",
       "      <td>2024-12-18 09:33:39</td>\n",
       "      <td>11531.5</td>\n",
       "      <td>3.532780e-02</td>\n",
       "      <td>2024-12-17</td>\n",
       "      <td>Wednesday</td>\n",
       "      <td>2024-12-18 00:18:36</td>\n",
       "      <td>24</td>\n",
       "      <td>2</td>\n",
       "      <td>1.527340</td>\n",
       "      <td>0.469142</td>\n",
       "      <td>...</td>\n",
       "      <td>2</td>\n",
       "      <td>1.469060</td>\n",
       "      <td>0.435414</td>\n",
       "      <td>1.3440</td>\n",
       "      <td>3.641</td>\n",
       "      <td>0.922</td>\n",
       "      <td>0.970</td>\n",
       "      <td>9.250833</td>\n",
       "      <td>9.0</td>\n",
       "      <td>ebt_mct</td>\n",
       "    </tr>\n",
       "    <tr>\n",
       "      <th>2024-12-18 09:33:39</th>\n",
       "      <td>2024-12-24 08:34:30</td>\n",
       "      <td>8702.5</td>\n",
       "      <td>9.499306e-01</td>\n",
       "      <td>2024-12-18</td>\n",
       "      <td>Wednesday</td>\n",
       "      <td>2024-12-18 09:33:39</td>\n",
       "      <td>9</td>\n",
       "      <td>2</td>\n",
       "      <td>1.469060</td>\n",
       "      <td>0.435414</td>\n",
       "      <td>...</td>\n",
       "      <td>1</td>\n",
       "      <td>1.533355</td>\n",
       "      <td>0.427099</td>\n",
       "      <td>1.4140</td>\n",
       "      <td>3.485</td>\n",
       "      <td>1.016</td>\n",
       "      <td>0.965</td>\n",
       "      <td>143.014167</td>\n",
       "      <td>23.0</td>\n",
       "      <td>mbt_mct</td>\n",
       "    </tr>\n",
       "    <tr>\n",
       "      <th>2024-12-24 08:34:30</th>\n",
       "      <td>2024-12-24 22:24:22</td>\n",
       "      <td>9927.0</td>\n",
       "      <td>5.596504e-01</td>\n",
       "      <td>2024-12-24</td>\n",
       "      <td>Tuesday</td>\n",
       "      <td>2024-12-24 08:34:30</td>\n",
       "      <td>8</td>\n",
       "      <td>1</td>\n",
       "      <td>1.533355</td>\n",
       "      <td>0.427099</td>\n",
       "      <td>...</td>\n",
       "      <td>1</td>\n",
       "      <td>1.499370</td>\n",
       "      <td>0.355782</td>\n",
       "      <td>1.4145</td>\n",
       "      <td>3.094</td>\n",
       "      <td>0.984</td>\n",
       "      <td>0.960</td>\n",
       "      <td>13.831111</td>\n",
       "      <td>13.0</td>\n",
       "      <td>mbt_ect</td>\n",
       "    </tr>\n",
       "    <tr>\n",
       "      <th>2024-12-24 22:24:22</th>\n",
       "      <td>2025-01-16 10:26:25</td>\n",
       "      <td>9475.0</td>\n",
       "      <td>7.203742e-01</td>\n",
       "      <td>2024-12-24</td>\n",
       "      <td>Tuesday</td>\n",
       "      <td>2024-12-24 22:24:22</td>\n",
       "      <td>22</td>\n",
       "      <td>1</td>\n",
       "      <td>1.499370</td>\n",
       "      <td>0.355782</td>\n",
       "      <td>...</td>\n",
       "      <td>3</td>\n",
       "      <td>1.535145</td>\n",
       "      <td>0.421790</td>\n",
       "      <td>1.4060</td>\n",
       "      <td>3.641</td>\n",
       "      <td>0.969</td>\n",
       "      <td>0.960</td>\n",
       "      <td>540.034167</td>\n",
       "      <td>12.0</td>\n",
       "      <td>ebt_mct</td>\n",
       "    </tr>\n",
       "    <tr>\n",
       "      <th>2025-01-16 10:26:25</th>\n",
       "      <td>2025-01-20 08:42:15</td>\n",
       "      <td>10049.0</td>\n",
       "      <td>4.515655e-01</td>\n",
       "      <td>2025-01-16</td>\n",
       "      <td>Thursday</td>\n",
       "      <td>2025-01-16 10:26:25</td>\n",
       "      <td>10</td>\n",
       "      <td>3</td>\n",
       "      <td>1.535145</td>\n",
       "      <td>0.421790</td>\n",
       "      <td>...</td>\n",
       "      <td>0</td>\n",
       "      <td>1.540615</td>\n",
       "      <td>0.455118</td>\n",
       "      <td>1.4140</td>\n",
       "      <td>3.828</td>\n",
       "      <td>0.953</td>\n",
       "      <td>0.960</td>\n",
       "      <td>94.263889</td>\n",
       "      <td>22.0</td>\n",
       "      <td>mbt_mct</td>\n",
       "    </tr>\n",
       "    <tr>\n",
       "      <th>2025-01-20 08:42:15</th>\n",
       "      <td>2025-01-20 22:38:18</td>\n",
       "      <td>12257.0</td>\n",
       "      <td>1.437219e-03</td>\n",
       "      <td>2025-01-20</td>\n",
       "      <td>Monday</td>\n",
       "      <td>2025-01-20 08:42:15</td>\n",
       "      <td>8</td>\n",
       "      <td>0</td>\n",
       "      <td>1.540615</td>\n",
       "      <td>0.455118</td>\n",
       "      <td>...</td>\n",
       "      <td>0</td>\n",
       "      <td>1.425240</td>\n",
       "      <td>0.427946</td>\n",
       "      <td>1.2970</td>\n",
       "      <td>4.406</td>\n",
       "      <td>0.922</td>\n",
       "      <td>0.975</td>\n",
       "      <td>13.934167</td>\n",
       "      <td>13.0</td>\n",
       "      <td>mbt_ect</td>\n",
       "    </tr>\n",
       "    <tr>\n",
       "      <th>2025-01-20 22:38:18</th>\n",
       "      <td>2025-01-21 11:34:02</td>\n",
       "      <td>9725.0</td>\n",
       "      <td>6.089595e-01</td>\n",
       "      <td>2025-01-20</td>\n",
       "      <td>Monday</td>\n",
       "      <td>2025-01-20 22:38:18</td>\n",
       "      <td>22</td>\n",
       "      <td>0</td>\n",
       "      <td>1.425240</td>\n",
       "      <td>0.427946</td>\n",
       "      <td>...</td>\n",
       "      <td>1</td>\n",
       "      <td>1.429450</td>\n",
       "      <td>0.401946</td>\n",
       "      <td>1.3205</td>\n",
       "      <td>3.938</td>\n",
       "      <td>0.937</td>\n",
       "      <td>0.975</td>\n",
       "      <td>12.928889</td>\n",
       "      <td>12.0</td>\n",
       "      <td>ebt_mct</td>\n",
       "    </tr>\n",
       "  </tbody>\n",
       "</table>\n",
       "<p>33 rows × 28 columns</p>\n",
       "</div>"
      ],
      "text/plain": [
       "                                         compared_to  wilcoxon_statistic  \\\n",
       "id           base_time                                                     \n",
       "respondent_1 2024-12-11 17:20:52 2024-12-12 13:14:12             13083.5   \n",
       "             2024-12-12 13:14:12 2024-12-12 21:07:06             10620.5   \n",
       "             2024-12-12 21:07:06 2024-12-13 08:20:01              9953.5   \n",
       "             2024-12-13 08:20:01 2024-12-13 20:13:02             11503.5   \n",
       "             2024-12-13 20:13:02 2024-12-14 11:56:28             11536.5   \n",
       "             2024-12-14 11:56:28 2024-12-14 20:53:06             11059.0   \n",
       "             2024-12-14 20:53:06 2024-12-15 12:06:37              7502.5   \n",
       "             2024-12-15 12:06:37 2024-12-15 22:12:43             11636.0   \n",
       "respondent_2 2024-12-11 16:09:52 2024-12-12 19:57:16             15822.5   \n",
       "respondent_3 2024-12-11 10:55:16 2024-12-11 15:51:05             13425.5   \n",
       "             2024-12-11 15:51:05 2024-12-11 22:05:25              9902.5   \n",
       "             2024-12-11 22:05:25 2024-12-13 02:03:23             12071.5   \n",
       "             2024-12-13 02:03:23 2024-12-13 10:32:47             10949.0   \n",
       "             2024-12-13 10:32:47 2024-12-14 13:00:47              6597.0   \n",
       "             2024-12-14 13:00:47 2024-12-15 01:16:30             14989.5   \n",
       "respondent_4 2024-12-12 12:56:06 2024-12-12 22:33:31              8753.0   \n",
       "             2024-12-12 22:33:31 2024-12-13 11:40:45             10733.0   \n",
       "             2024-12-13 11:40:45 2024-12-14 01:05:55              9685.5   \n",
       "             2024-12-14 01:05:55 2024-12-14 12:11:29              9526.5   \n",
       "             2024-12-14 12:11:29 2024-12-15 01:29:44             10232.5   \n",
       "             2024-12-15 01:29:44 2024-12-15 13:04:17              8874.0   \n",
       "             2024-12-15 13:04:17 2024-12-15 18:28:17             10573.0   \n",
       "             2024-12-15 18:28:17 2024-12-16 06:52:53              8754.5   \n",
       "             2024-12-16 06:52:53 2024-12-16 23:57:21             11674.5   \n",
       "             2024-12-16 23:57:21 2024-12-17 09:58:55              8735.5   \n",
       "             2024-12-17 09:58:55 2024-12-18 00:18:36             10066.0   \n",
       "             2024-12-18 00:18:36 2024-12-18 09:33:39             11531.5   \n",
       "             2024-12-18 09:33:39 2024-12-24 08:34:30              8702.5   \n",
       "             2024-12-24 08:34:30 2024-12-24 22:24:22              9927.0   \n",
       "             2024-12-24 22:24:22 2025-01-16 10:26:25              9475.0   \n",
       "             2025-01-16 10:26:25 2025-01-20 08:42:15             10049.0   \n",
       "             2025-01-20 08:42:15 2025-01-20 22:38:18             12257.0   \n",
       "             2025-01-20 22:38:18 2025-01-21 11:34:02              9725.0   \n",
       "\n",
       "                                       p_value     date_bt weekday_bt  \\\n",
       "id           base_time                                                  \n",
       "respondent_1 2024-12-11 17:20:52  3.106059e-05  2024-12-11  Wednesday   \n",
       "             2024-12-12 13:14:12  2.431785e-01  2024-12-12   Thursday   \n",
       "             2024-12-12 21:07:06  4.982834e-01  2024-12-12   Thursday   \n",
       "             2024-12-13 08:20:01  3.807136e-02  2024-12-13     Friday   \n",
       "             2024-12-13 20:13:02  2.556392e-02  2024-12-13     Friday   \n",
       "             2024-12-14 11:56:28  8.638402e-02  2024-12-14   Saturday   \n",
       "             2024-12-14 20:53:06  9.981836e-01  2024-12-14   Saturday   \n",
       "             2024-12-15 12:06:37  6.317908e-03  2024-12-15     Sunday   \n",
       "respondent_2 2024-12-11 16:09:52  9.377214e-13  2024-12-11  Wednesday   \n",
       "respondent_3 2024-12-11 10:55:16  9.657953e-06  2024-12-11  Wednesday   \n",
       "             2024-12-11 15:51:05  5.714140e-01  2024-12-11  Wednesday   \n",
       "             2024-12-11 22:05:25  6.820587e-03  2024-12-11  Wednesday   \n",
       "             2024-12-13 02:03:23  1.363335e-01  2024-12-12     Friday   \n",
       "             2024-12-13 10:32:47  9.999874e-01  2024-12-13     Friday   \n",
       "             2024-12-14 13:00:47  8.347710e-10  2024-12-14   Saturday   \n",
       "respondent_4 2024-12-12 12:56:06  9.294279e-01  2024-12-12   Thursday   \n",
       "             2024-12-12 22:33:31  2.023147e-01  2024-12-12   Thursday   \n",
       "             2024-12-13 11:40:45  5.809727e-01  2024-12-13     Friday   \n",
       "             2024-12-14 01:05:55  6.986901e-01  2024-12-13   Saturday   \n",
       "             2024-12-14 12:11:29  2.330636e-01  2024-12-14   Saturday   \n",
       "             2024-12-15 01:29:44  9.243481e-01  2024-12-14     Sunday   \n",
       "             2024-12-15 13:04:17  1.854098e-01  2024-12-15     Sunday   \n",
       "             2024-12-15 18:28:17  9.430322e-01  2024-12-15     Sunday   \n",
       "             2024-12-16 06:52:53  1.700115e-02  2024-12-16     Monday   \n",
       "             2024-12-16 23:57:21  9.163789e-01  2024-12-16     Monday   \n",
       "             2024-12-17 09:58:55  4.433009e-01  2024-12-17    Tuesday   \n",
       "             2024-12-18 00:18:36  3.532780e-02  2024-12-17  Wednesday   \n",
       "             2024-12-18 09:33:39  9.499306e-01  2024-12-18  Wednesday   \n",
       "             2024-12-24 08:34:30  5.596504e-01  2024-12-24    Tuesday   \n",
       "             2024-12-24 22:24:22  7.203742e-01  2024-12-24    Tuesday   \n",
       "             2025-01-16 10:26:25  4.515655e-01  2025-01-16   Thursday   \n",
       "             2025-01-20 08:42:15  1.437219e-03  2025-01-20     Monday   \n",
       "             2025-01-20 22:38:18  6.089595e-01  2025-01-20     Monday   \n",
       "\n",
       "                                         datetime_bt  hour_bt  weekday_num_bt  \\\n",
       "id           base_time                                                          \n",
       "respondent_1 2024-12-11 17:20:52 2024-12-11 17:20:52       17               2   \n",
       "             2024-12-12 13:14:12 2024-12-12 13:14:12       13               3   \n",
       "             2024-12-12 21:07:06 2024-12-12 21:07:06       21               3   \n",
       "             2024-12-13 08:20:01 2024-12-13 08:20:01        8               4   \n",
       "             2024-12-13 20:13:02 2024-12-13 20:13:02       20               4   \n",
       "             2024-12-14 11:56:28 2024-12-14 11:56:28       11               5   \n",
       "             2024-12-14 20:53:06 2024-12-14 20:53:06       20               5   \n",
       "             2024-12-15 12:06:37 2024-12-15 12:06:37       12               6   \n",
       "respondent_2 2024-12-11 16:09:52 2024-12-11 16:09:52       16               2   \n",
       "respondent_3 2024-12-11 10:55:16 2024-12-11 10:55:16       10               2   \n",
       "             2024-12-11 15:51:05 2024-12-11 15:51:05       15               2   \n",
       "             2024-12-11 22:05:25 2024-12-11 22:05:25       22               2   \n",
       "             2024-12-13 02:03:23 2024-12-13 02:03:23       26               4   \n",
       "             2024-12-13 10:32:47 2024-12-13 10:32:47       10               4   \n",
       "             2024-12-14 13:00:47 2024-12-14 13:00:47       13               5   \n",
       "respondent_4 2024-12-12 12:56:06 2024-12-12 12:56:06       12               3   \n",
       "             2024-12-12 22:33:31 2024-12-12 22:33:31       22               3   \n",
       "             2024-12-13 11:40:45 2024-12-13 11:40:45       11               4   \n",
       "             2024-12-14 01:05:55 2024-12-14 01:05:55       25               5   \n",
       "             2024-12-14 12:11:29 2024-12-14 12:11:29       12               5   \n",
       "             2024-12-15 01:29:44 2024-12-15 01:29:44       25               6   \n",
       "             2024-12-15 13:04:17 2024-12-15 13:04:17       13               6   \n",
       "             2024-12-15 18:28:17 2024-12-15 18:28:17       18               6   \n",
       "             2024-12-16 06:52:53 2024-12-16 06:52:53        6               0   \n",
       "             2024-12-16 23:57:21 2024-12-16 23:57:21       23               0   \n",
       "             2024-12-17 09:58:55 2024-12-17 09:58:55        9               1   \n",
       "             2024-12-18 00:18:36 2024-12-18 00:18:36       24               2   \n",
       "             2024-12-18 09:33:39 2024-12-18 09:33:39        9               2   \n",
       "             2024-12-24 08:34:30 2024-12-24 08:34:30        8               1   \n",
       "             2024-12-24 22:24:22 2024-12-24 22:24:22       22               1   \n",
       "             2025-01-16 10:26:25 2025-01-16 10:26:25       10               3   \n",
       "             2025-01-20 08:42:15 2025-01-20 08:42:15        8               0   \n",
       "             2025-01-20 22:38:18 2025-01-20 22:38:18       22               0   \n",
       "\n",
       "                                  response_time_mean_bt  response_time_std_bt  \\\n",
       "id           base_time                                                          \n",
       "respondent_1 2024-12-11 17:20:52               1.899995              0.697397   \n",
       "             2024-12-12 13:14:12               1.651020              0.597772   \n",
       "             2024-12-12 21:07:06               1.639055              0.615554   \n",
       "             2024-12-13 08:20:01               1.620940              0.546910   \n",
       "             2024-12-13 20:13:02               1.537110              0.454181   \n",
       "             2024-12-14 11:56:28               1.458045              0.421196   \n",
       "             2024-12-14 20:53:06               1.407650              0.423153   \n",
       "             2024-12-15 12:06:37               1.511405              0.465154   \n",
       "respondent_2 2024-12-11 16:09:52               2.990650              1.477363   \n",
       "respondent_3 2024-12-11 10:55:16               1.912505              0.654748   \n",
       "             2024-12-11 15:51:05               1.668740              0.531536   \n",
       "             2024-12-11 22:05:25               1.691570              0.649704   \n",
       "             2024-12-13 02:03:23               1.550630              0.432418   \n",
       "             2024-12-13 10:32:47               1.522030              0.428670   \n",
       "             2024-12-14 13:00:47               1.651010              0.445960   \n",
       "respondent_4 2024-12-12 12:56:06               1.450080              0.414905   \n",
       "             2024-12-12 22:33:31               1.540920              0.578648   \n",
       "             2024-12-13 11:40:45               1.459755              0.368477   \n",
       "             2024-12-14 01:05:55               1.513275              0.510082   \n",
       "             2024-12-14 12:11:29               1.526330              0.491133   \n",
       "             2024-12-15 01:29:44               1.458120              0.340561   \n",
       "             2024-12-15 13:04:17               1.540690              0.456686   \n",
       "             2024-12-15 18:28:17               1.494070              0.419902   \n",
       "             2024-12-16 06:52:53               1.563590              0.457987   \n",
       "             2024-12-16 23:57:21               1.477650              0.448652   \n",
       "             2024-12-17 09:58:55               1.525555              0.506233   \n",
       "             2024-12-18 00:18:36               1.527340              0.469142   \n",
       "             2024-12-18 09:33:39               1.469060              0.435414   \n",
       "             2024-12-24 08:34:30               1.533355              0.427099   \n",
       "             2024-12-24 22:24:22               1.499370              0.355782   \n",
       "             2025-01-16 10:26:25               1.535145              0.421790   \n",
       "             2025-01-20 08:42:15               1.540615              0.455118   \n",
       "             2025-01-20 22:38:18               1.425240              0.427946   \n",
       "\n",
       "                                  ...  weekday_num_ct  response_time_mean_ct  \\\n",
       "id           base_time            ...                                          \n",
       "respondent_1 2024-12-11 17:20:52  ...               3               1.651020   \n",
       "             2024-12-12 13:14:12  ...               3               1.639055   \n",
       "             2024-12-12 21:07:06  ...               4               1.620940   \n",
       "             2024-12-13 08:20:01  ...               4               1.537110   \n",
       "             2024-12-13 20:13:02  ...               5               1.458045   \n",
       "             2024-12-14 11:56:28  ...               5               1.407650   \n",
       "             2024-12-14 20:53:06  ...               6               1.511405   \n",
       "             2024-12-15 12:06:37  ...               6               1.426095   \n",
       "respondent_2 2024-12-11 16:09:52  ...               3               2.247420   \n",
       "respondent_3 2024-12-11 10:55:16  ...               2               1.668740   \n",
       "             2024-12-11 15:51:05  ...               2               1.691570   \n",
       "             2024-12-11 22:05:25  ...               4               1.550630   \n",
       "             2024-12-13 02:03:23  ...               4               1.522030   \n",
       "             2024-12-13 10:32:47  ...               5               1.651010   \n",
       "             2024-12-14 13:00:47  ...               6               1.426100   \n",
       "respondent_4 2024-12-12 12:56:06  ...               3               1.540920   \n",
       "             2024-12-12 22:33:31  ...               4               1.459755   \n",
       "             2024-12-13 11:40:45  ...               5               1.513275   \n",
       "             2024-12-14 01:05:55  ...               5               1.526330   \n",
       "             2024-12-14 12:11:29  ...               6               1.458120   \n",
       "             2024-12-15 01:29:44  ...               6               1.540690   \n",
       "             2024-12-15 13:04:17  ...               6               1.494070   \n",
       "             2024-12-15 18:28:17  ...               0               1.563590   \n",
       "             2024-12-16 06:52:53  ...               0               1.477650   \n",
       "             2024-12-16 23:57:21  ...               1               1.525555   \n",
       "             2024-12-17 09:58:55  ...               2               1.527340   \n",
       "             2024-12-18 00:18:36  ...               2               1.469060   \n",
       "             2024-12-18 09:33:39  ...               1               1.533355   \n",
       "             2024-12-24 08:34:30  ...               1               1.499370   \n",
       "             2024-12-24 22:24:22  ...               3               1.535145   \n",
       "             2025-01-16 10:26:25  ...               0               1.540615   \n",
       "             2025-01-20 08:42:15  ...               0               1.425240   \n",
       "             2025-01-20 22:38:18  ...               1               1.429450   \n",
       "\n",
       "                                  response_time_std_ct  \\\n",
       "id           base_time                                   \n",
       "respondent_1 2024-12-11 17:20:52              0.597772   \n",
       "             2024-12-12 13:14:12              0.615554   \n",
       "             2024-12-12 21:07:06              0.546910   \n",
       "             2024-12-13 08:20:01              0.454181   \n",
       "             2024-12-13 20:13:02              0.421196   \n",
       "             2024-12-14 11:56:28              0.423153   \n",
       "             2024-12-14 20:53:06              0.465154   \n",
       "             2024-12-15 12:06:37              0.384864   \n",
       "respondent_2 2024-12-11 16:09:52              1.116699   \n",
       "respondent_3 2024-12-11 10:55:16              0.531536   \n",
       "             2024-12-11 15:51:05              0.649704   \n",
       "             2024-12-11 22:05:25              0.432418   \n",
       "             2024-12-13 02:03:23              0.428670   \n",
       "             2024-12-13 10:32:47              0.445960   \n",
       "             2024-12-14 13:00:47              0.414898   \n",
       "respondent_4 2024-12-12 12:56:06              0.578648   \n",
       "             2024-12-12 22:33:31              0.368477   \n",
       "             2024-12-13 11:40:45              0.510082   \n",
       "             2024-12-14 01:05:55              0.491133   \n",
       "             2024-12-14 12:11:29              0.340561   \n",
       "             2024-12-15 01:29:44              0.456686   \n",
       "             2024-12-15 13:04:17              0.419902   \n",
       "             2024-12-15 18:28:17              0.457987   \n",
       "             2024-12-16 06:52:53              0.448652   \n",
       "             2024-12-16 23:57:21              0.506233   \n",
       "             2024-12-17 09:58:55              0.469142   \n",
       "             2024-12-18 00:18:36              0.435414   \n",
       "             2024-12-18 09:33:39              0.427099   \n",
       "             2024-12-24 08:34:30              0.355782   \n",
       "             2024-12-24 22:24:22              0.421790   \n",
       "             2025-01-16 10:26:25              0.455118   \n",
       "             2025-01-20 08:42:15              0.427946   \n",
       "             2025-01-20 22:38:18              0.401946   \n",
       "\n",
       "                                  response_time_median_ct  \\\n",
       "id           base_time                                      \n",
       "respondent_1 2024-12-11 17:20:52                   1.4295   \n",
       "             2024-12-12 13:14:12                   1.4065   \n",
       "             2024-12-12 21:07:06                   1.4370   \n",
       "             2024-12-13 08:20:01                   1.3595   \n",
       "             2024-12-13 20:13:02                   1.3280   \n",
       "             2024-12-14 11:56:28                   1.2650   \n",
       "             2024-12-14 20:53:06                   1.3590   \n",
       "             2024-12-15 12:06:37                   1.2970   \n",
       "respondent_2 2024-12-11 16:09:52                   1.9765   \n",
       "respondent_3 2024-12-11 10:55:16                   1.5160   \n",
       "             2024-12-11 15:51:05                   1.5310   \n",
       "             2024-12-11 22:05:25                   1.4685   \n",
       "             2024-12-13 02:03:23                   1.3910   \n",
       "             2024-12-13 10:32:47                   1.5310   \n",
       "             2024-12-14 13:00:47                   1.3435   \n",
       "respondent_4 2024-12-12 12:56:06                   1.3515   \n",
       "             2024-12-12 22:33:31                   1.3440   \n",
       "             2024-12-13 11:40:45                   1.3435   \n",
       "             2024-12-14 01:05:55                   1.4060   \n",
       "             2024-12-14 12:11:29                   1.3595   \n",
       "             2024-12-15 01:29:44                   1.3910   \n",
       "             2024-12-15 13:04:17                   1.3595   \n",
       "             2024-12-15 18:28:17                   1.4380   \n",
       "             2024-12-16 06:52:53                   1.3590   \n",
       "             2024-12-16 23:57:21                   1.4220   \n",
       "             2024-12-17 09:58:55                   1.3910   \n",
       "             2024-12-18 00:18:36                   1.3440   \n",
       "             2024-12-18 09:33:39                   1.4140   \n",
       "             2024-12-24 08:34:30                   1.4145   \n",
       "             2024-12-24 22:24:22                   1.4060   \n",
       "             2025-01-16 10:26:25                   1.4140   \n",
       "             2025-01-20 08:42:15                   1.2970   \n",
       "             2025-01-20 22:38:18                   1.3205   \n",
       "\n",
       "                                 response_time_max_ct response_time_min_ct  \\\n",
       "id           base_time                                                       \n",
       "respondent_1 2024-12-11 17:20:52                4.438                1.062   \n",
       "             2024-12-12 13:14:12                4.891                0.968   \n",
       "             2024-12-12 21:07:06                5.094                0.953   \n",
       "             2024-12-13 08:20:01                3.250                0.984   \n",
       "             2024-12-13 20:13:02                3.250                1.031   \n",
       "             2024-12-14 11:56:28                4.484                0.875   \n",
       "             2024-12-14 20:53:06                4.328                1.094   \n",
       "             2024-12-15 12:06:37                3.063                1.000   \n",
       "respondent_2 2024-12-11 16:09:52               10.297                1.250   \n",
       "respondent_3 2024-12-11 10:55:16                4.703                0.781   \n",
       "             2024-12-11 15:51:05                5.718                0.953   \n",
       "             2024-12-11 22:05:25                4.453                0.968   \n",
       "             2024-12-13 02:03:23                3.953                0.922   \n",
       "             2024-12-13 10:32:47                4.141                0.859   \n",
       "             2024-12-14 13:00:47                3.937                0.765   \n",
       "respondent_4 2024-12-12 12:56:06                5.313                0.985   \n",
       "             2024-12-12 22:33:31                3.172                0.875   \n",
       "             2024-12-13 11:40:45                4.547                0.922   \n",
       "             2024-12-14 01:05:55                4.329                0.953   \n",
       "             2024-12-14 12:11:29                3.140                0.922   \n",
       "             2024-12-15 01:29:44                3.641                0.969   \n",
       "             2024-12-15 13:04:17                3.609                0.953   \n",
       "             2024-12-15 18:28:17                3.532                0.953   \n",
       "             2024-12-16 06:52:53                3.875                0.984   \n",
       "             2024-12-16 23:57:21                4.797                0.984   \n",
       "             2024-12-17 09:58:55                4.328                0.891   \n",
       "             2024-12-18 00:18:36                3.641                0.922   \n",
       "             2024-12-18 09:33:39                3.485                1.016   \n",
       "             2024-12-24 08:34:30                3.094                0.984   \n",
       "             2024-12-24 22:24:22                3.641                0.969   \n",
       "             2025-01-16 10:26:25                3.828                0.953   \n",
       "             2025-01-20 08:42:15                4.406                0.922   \n",
       "             2025-01-20 22:38:18                3.938                0.937   \n",
       "\n",
       "                                 correct_flg_mean_ct   hour_diff  hour_d_diff  \\\n",
       "id           base_time                                                          \n",
       "respondent_1 2024-12-11 17:20:52               0.975   19.888889         19.0   \n",
       "             2024-12-12 13:14:12               0.975    7.881667          7.0   \n",
       "             2024-12-12 21:07:06               0.990   11.215278         11.0   \n",
       "             2024-12-13 08:20:01               0.965   11.883611         11.0   \n",
       "             2024-12-13 20:13:02               0.980   15.723889         15.0   \n",
       "             2024-12-14 11:56:28               0.980    8.943889          8.0   \n",
       "             2024-12-14 20:53:06               0.995   15.225278         15.0   \n",
       "             2024-12-15 12:06:37               0.965   10.101667         10.0   \n",
       "respondent_2 2024-12-11 16:09:52               0.970   27.790000          3.0   \n",
       "respondent_3 2024-12-11 10:55:16               0.985    4.930278          4.0   \n",
       "             2024-12-11 15:51:05               0.995    6.238889          6.0   \n",
       "             2024-12-11 22:05:25               1.000   27.966111          3.0   \n",
       "             2024-12-13 02:03:23               0.990    8.490000          8.0   \n",
       "             2024-12-13 10:32:47               1.000   26.466667          2.0   \n",
       "             2024-12-14 13:00:47               0.995   12.261944         12.0   \n",
       "respondent_4 2024-12-12 12:56:06               0.965    9.623611          9.0   \n",
       "             2024-12-12 22:33:31               0.970   13.120556         13.0   \n",
       "             2024-12-13 11:40:45               0.970   13.419444         13.0   \n",
       "             2024-12-14 01:05:55               0.975   11.092778         11.0   \n",
       "             2024-12-14 12:11:29               0.970   13.304167         13.0   \n",
       "             2024-12-15 01:29:44               0.965   11.575833         11.0   \n",
       "             2024-12-15 13:04:17               0.975    5.400000          5.0   \n",
       "             2024-12-15 18:28:17               0.970   12.410000         12.0   \n",
       "             2024-12-16 06:52:53               0.960   17.074444         17.0   \n",
       "             2024-12-16 23:57:21               0.975   10.026111         10.0   \n",
       "             2024-12-17 09:58:55               0.970   14.328056         14.0   \n",
       "             2024-12-18 00:18:36               0.970    9.250833          9.0   \n",
       "             2024-12-18 09:33:39               0.965  143.014167         23.0   \n",
       "             2024-12-24 08:34:30               0.960   13.831111         13.0   \n",
       "             2024-12-24 22:24:22               0.960  540.034167         12.0   \n",
       "             2025-01-16 10:26:25               0.960   94.263889         22.0   \n",
       "             2025-01-20 08:42:15               0.975   13.934167         13.0   \n",
       "             2025-01-20 22:38:18               0.975   12.928889         12.0   \n",
       "\n",
       "                                  day_time  \n",
       "id           base_time                      \n",
       "respondent_1 2024-12-11 17:20:52   ebt_mct  \n",
       "             2024-12-12 13:14:12   mbt_ect  \n",
       "             2024-12-12 21:07:06   ebt_mct  \n",
       "             2024-12-13 08:20:01   mbt_ect  \n",
       "             2024-12-13 20:13:02   ebt_mct  \n",
       "             2024-12-14 11:56:28   mbt_ect  \n",
       "             2024-12-14 20:53:06   ebt_mct  \n",
       "             2024-12-15 12:06:37   mbt_ect  \n",
       "respondent_2 2024-12-11 16:09:52   ebt_ect  \n",
       "respondent_3 2024-12-11 10:55:16   mbt_ect  \n",
       "             2024-12-11 15:51:05   ebt_ect  \n",
       "             2024-12-11 22:05:25   ebt_ect  \n",
       "             2024-12-13 02:03:23   ebt_mct  \n",
       "             2024-12-13 10:32:47   mbt_mct  \n",
       "             2024-12-14 13:00:47   mbt_ect  \n",
       "respondent_4 2024-12-12 12:56:06   mbt_ect  \n",
       "             2024-12-12 22:33:31   ebt_mct  \n",
       "             2024-12-13 11:40:45   mbt_ect  \n",
       "             2024-12-14 01:05:55   ebt_mct  \n",
       "             2024-12-14 12:11:29   mbt_ect  \n",
       "             2024-12-15 01:29:44   ebt_mct  \n",
       "             2024-12-15 13:04:17   mbt_ect  \n",
       "             2024-12-15 18:28:17   ebt_mct  \n",
       "             2024-12-16 06:52:53   mbt_ect  \n",
       "             2024-12-16 23:57:21   ebt_mct  \n",
       "             2024-12-17 09:58:55   mbt_ect  \n",
       "             2024-12-18 00:18:36   ebt_mct  \n",
       "             2024-12-18 09:33:39   mbt_mct  \n",
       "             2024-12-24 08:34:30   mbt_ect  \n",
       "             2024-12-24 22:24:22   ebt_mct  \n",
       "             2025-01-16 10:26:25   mbt_mct  \n",
       "             2025-01-20 08:42:15   mbt_ect  \n",
       "             2025-01-20 22:38:18   ebt_mct  \n",
       "\n",
       "[33 rows x 28 columns]"
      ]
     },
     "execution_count": 16,
     "metadata": {},
     "output_type": "execute_result"
    }
   ],
   "source": [
    "# wilcoxon_pairwise_df = wilcoxon_pairwise_df[['id', 'base_time', 'compared_to', 'wilcoxon_statistic', 'p_value']]\n",
    "# wilcoxon_pairwise_df['date_diff'] = ((wilcoxon_pairwise_df['compared_to'] - wilcoxon_pairwise_df['base_time']).dt.total_seconds() / (60 * 60)) // 24\n",
    "wilcoxon_pairwise_df['hour_diff'] = ((wilcoxon_pairwise_df['compared_to'] - wilcoxon_pairwise_df['base_time']).dt.total_seconds() / (60 * 60)) \n",
    "wilcoxon_pairwise_df['hour_d_diff'] = ((wilcoxon_pairwise_df['compared_to'] - wilcoxon_pairwise_df['base_time']).dt.total_seconds() // (60 * 60)) % 24\n",
    "wilcoxon_pairwise_df['day_time'] =  wilcoxon_pairwise_df.apply(lambda row: 'mbt_mct' if row['hour_bt'] <= 14 and row['hour_ct'] <= 14\n",
    "                                                               else 'mbt_ect'if row['hour_bt'] <= 14 and row['hour_ct'] > 14\n",
    "                                                               else 'ebt_mct'if row['hour_bt'] > 14 and row['hour_ct'] <= 14\n",
    "                                                               else 'ebt_ect'if row['hour_bt'] > 14 and row['hour_ct'] > 14\n",
    "                                                               else '-'\n",
    "                                                               , axis=1)\n",
    "wilcoxon_pairwise_df.set_index(['id', 'base_time'])"
   ]
  },
  {
   "cell_type": "code",
   "execution_count": 17,
   "metadata": {},
   "outputs": [
    {
     "data": {
      "text/html": [
       "<div>\n",
       "<style scoped>\n",
       "    .dataframe tbody tr th:only-of-type {\n",
       "        vertical-align: middle;\n",
       "    }\n",
       "\n",
       "    .dataframe tbody tr th {\n",
       "        vertical-align: top;\n",
       "    }\n",
       "\n",
       "    .dataframe thead th {\n",
       "        text-align: right;\n",
       "    }\n",
       "</style>\n",
       "<table border=\"1\" class=\"dataframe\">\n",
       "  <thead>\n",
       "    <tr style=\"text-align: right;\">\n",
       "      <th></th>\n",
       "      <th></th>\n",
       "      <th>avg_p_val</th>\n",
       "      <th>mrd_p_val</th>\n",
       "      <th>min_p_val</th>\n",
       "      <th>max_p_val</th>\n",
       "      <th>cnt</th>\n",
       "    </tr>\n",
       "    <tr>\n",
       "      <th>id</th>\n",
       "      <th>day_time</th>\n",
       "      <th></th>\n",
       "      <th></th>\n",
       "      <th></th>\n",
       "      <th></th>\n",
       "      <th></th>\n",
       "    </tr>\n",
       "  </thead>\n",
       "  <tbody>\n",
       "    <tr>\n",
       "      <th rowspan=\"2\" valign=\"top\">respondent_1</th>\n",
       "      <th>ebt_mct</th>\n",
       "      <td>3.805155e-01</td>\n",
       "      <td>2.619237e-01</td>\n",
       "      <td>3.106059e-05</td>\n",
       "      <td>9.981836e-01</td>\n",
       "      <td>4</td>\n",
       "    </tr>\n",
       "    <tr>\n",
       "      <th>mbt_ect</th>\n",
       "      <td>9.348794e-02</td>\n",
       "      <td>6.222769e-02</td>\n",
       "      <td>6.317908e-03</td>\n",
       "      <td>2.431785e-01</td>\n",
       "      <td>4</td>\n",
       "    </tr>\n",
       "    <tr>\n",
       "      <th>respondent_2</th>\n",
       "      <th>ebt_ect</th>\n",
       "      <td>9.377214e-13</td>\n",
       "      <td>9.377214e-13</td>\n",
       "      <td>9.377214e-13</td>\n",
       "      <td>9.377214e-13</td>\n",
       "      <td>1</td>\n",
       "    </tr>\n",
       "    <tr>\n",
       "      <th rowspan=\"4\" valign=\"top\">respondent_3</th>\n",
       "      <th>ebt_ect</th>\n",
       "      <td>2.891173e-01</td>\n",
       "      <td>2.891173e-01</td>\n",
       "      <td>6.820587e-03</td>\n",
       "      <td>5.714140e-01</td>\n",
       "      <td>2</td>\n",
       "    </tr>\n",
       "    <tr>\n",
       "      <th>ebt_mct</th>\n",
       "      <td>1.363335e-01</td>\n",
       "      <td>1.363335e-01</td>\n",
       "      <td>1.363335e-01</td>\n",
       "      <td>1.363335e-01</td>\n",
       "      <td>1</td>\n",
       "    </tr>\n",
       "    <tr>\n",
       "      <th>mbt_ect</th>\n",
       "      <td>4.829394e-06</td>\n",
       "      <td>4.829394e-06</td>\n",
       "      <td>8.347710e-10</td>\n",
       "      <td>9.657953e-06</td>\n",
       "      <td>2</td>\n",
       "    </tr>\n",
       "    <tr>\n",
       "      <th>mbt_mct</th>\n",
       "      <td>9.999874e-01</td>\n",
       "      <td>9.999874e-01</td>\n",
       "      <td>9.999874e-01</td>\n",
       "      <td>9.999874e-01</td>\n",
       "      <td>1</td>\n",
       "    </tr>\n",
       "    <tr>\n",
       "      <th rowspan=\"3\" valign=\"top\">respondent_4</th>\n",
       "      <th>ebt_mct</th>\n",
       "      <td>6.311782e-01</td>\n",
       "      <td>7.095322e-01</td>\n",
       "      <td>3.532780e-02</td>\n",
       "      <td>9.430322e-01</td>\n",
       "      <td>8</td>\n",
       "    </tr>\n",
       "    <tr>\n",
       "      <th>mbt_ect</th>\n",
       "      <td>3.687830e-01</td>\n",
       "      <td>3.381822e-01</td>\n",
       "      <td>1.437219e-03</td>\n",
       "      <td>9.294279e-01</td>\n",
       "      <td>8</td>\n",
       "    </tr>\n",
       "    <tr>\n",
       "      <th>mbt_mct</th>\n",
       "      <td>7.007480e-01</td>\n",
       "      <td>7.007480e-01</td>\n",
       "      <td>4.515655e-01</td>\n",
       "      <td>9.499306e-01</td>\n",
       "      <td>2</td>\n",
       "    </tr>\n",
       "  </tbody>\n",
       "</table>\n",
       "</div>"
      ],
      "text/plain": [
       "                          avg_p_val     mrd_p_val     min_p_val     max_p_val  \\\n",
       "id           day_time                                                           \n",
       "respondent_1 ebt_mct   3.805155e-01  2.619237e-01  3.106059e-05  9.981836e-01   \n",
       "             mbt_ect   9.348794e-02  6.222769e-02  6.317908e-03  2.431785e-01   \n",
       "respondent_2 ebt_ect   9.377214e-13  9.377214e-13  9.377214e-13  9.377214e-13   \n",
       "respondent_3 ebt_ect   2.891173e-01  2.891173e-01  6.820587e-03  5.714140e-01   \n",
       "             ebt_mct   1.363335e-01  1.363335e-01  1.363335e-01  1.363335e-01   \n",
       "             mbt_ect   4.829394e-06  4.829394e-06  8.347710e-10  9.657953e-06   \n",
       "             mbt_mct   9.999874e-01  9.999874e-01  9.999874e-01  9.999874e-01   \n",
       "respondent_4 ebt_mct   6.311782e-01  7.095322e-01  3.532780e-02  9.430322e-01   \n",
       "             mbt_ect   3.687830e-01  3.381822e-01  1.437219e-03  9.294279e-01   \n",
       "             mbt_mct   7.007480e-01  7.007480e-01  4.515655e-01  9.499306e-01   \n",
       "\n",
       "                       cnt  \n",
       "id           day_time       \n",
       "respondent_1 ebt_mct     4  \n",
       "             mbt_ect     4  \n",
       "respondent_2 ebt_ect     1  \n",
       "respondent_3 ebt_ect     2  \n",
       "             ebt_mct     1  \n",
       "             mbt_ect     2  \n",
       "             mbt_mct     1  \n",
       "respondent_4 ebt_mct     8  \n",
       "             mbt_ect     8  \n",
       "             mbt_mct     2  "
      ]
     },
     "execution_count": 17,
     "metadata": {},
     "output_type": "execute_result"
    }
   ],
   "source": [
    "# wilcoxon_pairwise_df[(wilcoxon_pairwise_df['id'] == 'Дария') & (wilcoxon_pairwise_df['fatigue_lvl_diff'] > 0)]\n",
    "\n",
    "wilcoxon_pairwise_df.groupby(['id', 'day_time']).agg(\n",
    "    avg_p_val = ('p_value', 'mean'),\n",
    "    mrd_p_val = ('p_value', 'median'),\n",
    "    min_p_val = ('p_value', 'min'),\n",
    "    max_p_val = ('p_value', 'max'),\n",
    "    cnt =('id', 'count')\n",
    ")"
   ]
  },
  {
   "cell_type": "code",
   "execution_count": 18,
   "metadata": {},
   "outputs": [
    {
     "data": {
      "text/html": [
       "<div>\n",
       "<style scoped>\n",
       "    .dataframe tbody tr th:only-of-type {\n",
       "        vertical-align: middle;\n",
       "    }\n",
       "\n",
       "    .dataframe tbody tr th {\n",
       "        vertical-align: top;\n",
       "    }\n",
       "\n",
       "    .dataframe thead th {\n",
       "        text-align: right;\n",
       "    }\n",
       "</style>\n",
       "<table border=\"1\" class=\"dataframe\">\n",
       "  <thead>\n",
       "    <tr style=\"text-align: right;\">\n",
       "      <th></th>\n",
       "      <th></th>\n",
       "      <th></th>\n",
       "      <th>cnt</th>\n",
       "      <th>response_time_mean_bt</th>\n",
       "      <th>response_time_mean_ct</th>\n",
       "      <th>correct_flg_mean_bt</th>\n",
       "      <th>correct_flg_mean_ct</th>\n",
       "      <th>rt_coef</th>\n",
       "      <th>crt_coef</th>\n",
       "    </tr>\n",
       "    <tr>\n",
       "      <th>id</th>\n",
       "      <th>day_time</th>\n",
       "      <th>score_diff_new</th>\n",
       "      <th></th>\n",
       "      <th></th>\n",
       "      <th></th>\n",
       "      <th></th>\n",
       "      <th></th>\n",
       "      <th></th>\n",
       "      <th></th>\n",
       "    </tr>\n",
       "  </thead>\n",
       "  <tbody>\n",
       "    <tr>\n",
       "      <th rowspan=\"4\" valign=\"top\">respondent_1</th>\n",
       "      <th rowspan=\"2\" valign=\"top\">ebt_mct</th>\n",
       "      <th>0</th>\n",
       "      <td>2</td>\n",
       "      <td>1.523353</td>\n",
       "      <td>1.566173</td>\n",
       "      <td>0.977500</td>\n",
       "      <td>0.9925</td>\n",
       "      <td>1.031328</td>\n",
       "      <td>1.015345</td>\n",
       "    </tr>\n",
       "    <tr>\n",
       "      <th>1</th>\n",
       "      <td>2</td>\n",
       "      <td>1.718553</td>\n",
       "      <td>1.554532</td>\n",
       "      <td>0.972500</td>\n",
       "      <td>0.9775</td>\n",
       "      <td>0.908761</td>\n",
       "      <td>1.005221</td>\n",
       "    </tr>\n",
       "    <tr>\n",
       "      <th rowspan=\"2\" valign=\"top\">mbt_ect</th>\n",
       "      <th>0</th>\n",
       "      <td>1</td>\n",
       "      <td>1.651020</td>\n",
       "      <td>1.639055</td>\n",
       "      <td>0.975000</td>\n",
       "      <td>0.9750</td>\n",
       "      <td>0.992753</td>\n",
       "      <td>1.000000</td>\n",
       "    </tr>\n",
       "    <tr>\n",
       "      <th>1</th>\n",
       "      <td>3</td>\n",
       "      <td>1.530130</td>\n",
       "      <td>1.456952</td>\n",
       "      <td>0.988333</td>\n",
       "      <td>0.9700</td>\n",
       "      <td>0.952425</td>\n",
       "      <td>0.981532</td>\n",
       "    </tr>\n",
       "    <tr>\n",
       "      <th>respondent_2</th>\n",
       "      <th>ebt_ect</th>\n",
       "      <th>1</th>\n",
       "      <td>1</td>\n",
       "      <td>2.990650</td>\n",
       "      <td>2.247420</td>\n",
       "      <td>0.985000</td>\n",
       "      <td>0.9700</td>\n",
       "      <td>0.751482</td>\n",
       "      <td>0.984772</td>\n",
       "    </tr>\n",
       "    <tr>\n",
       "      <th rowspan=\"5\" valign=\"top\">respondent_3</th>\n",
       "      <th rowspan=\"2\" valign=\"top\">ebt_ect</th>\n",
       "      <th>0</th>\n",
       "      <td>1</td>\n",
       "      <td>1.668740</td>\n",
       "      <td>1.691570</td>\n",
       "      <td>0.985000</td>\n",
       "      <td>0.9950</td>\n",
       "      <td>1.013681</td>\n",
       "      <td>1.010152</td>\n",
       "    </tr>\n",
       "    <tr>\n",
       "      <th>1</th>\n",
       "      <td>1</td>\n",
       "      <td>1.691570</td>\n",
       "      <td>1.550630</td>\n",
       "      <td>0.995000</td>\n",
       "      <td>1.0000</td>\n",
       "      <td>0.916681</td>\n",
       "      <td>1.005025</td>\n",
       "    </tr>\n",
       "    <tr>\n",
       "      <th>ebt_mct</th>\n",
       "      <th>1</th>\n",
       "      <td>1</td>\n",
       "      <td>1.550630</td>\n",
       "      <td>1.522030</td>\n",
       "      <td>1.000000</td>\n",
       "      <td>0.9900</td>\n",
       "      <td>0.981556</td>\n",
       "      <td>0.990000</td>\n",
       "    </tr>\n",
       "    <tr>\n",
       "      <th>mbt_ect</th>\n",
       "      <th>1</th>\n",
       "      <td>2</td>\n",
       "      <td>1.781757</td>\n",
       "      <td>1.547420</td>\n",
       "      <td>0.997500</td>\n",
       "      <td>0.9900</td>\n",
       "      <td>0.868158</td>\n",
       "      <td>0.992475</td>\n",
       "    </tr>\n",
       "    <tr>\n",
       "      <th>mbt_mct</th>\n",
       "      <th>0</th>\n",
       "      <td>1</td>\n",
       "      <td>1.522030</td>\n",
       "      <td>1.651010</td>\n",
       "      <td>0.990000</td>\n",
       "      <td>1.0000</td>\n",
       "      <td>1.084742</td>\n",
       "      <td>1.010101</td>\n",
       "    </tr>\n",
       "    <tr>\n",
       "      <th rowspan=\"5\" valign=\"top\">respondent_4</th>\n",
       "      <th rowspan=\"2\" valign=\"top\">ebt_mct</th>\n",
       "      <th>0</th>\n",
       "      <td>7</td>\n",
       "      <td>1.486949</td>\n",
       "      <td>1.511502</td>\n",
       "      <td>0.967857</td>\n",
       "      <td>0.9700</td>\n",
       "      <td>1.016907</td>\n",
       "      <td>1.002240</td>\n",
       "    </tr>\n",
       "    <tr>\n",
       "      <th>1</th>\n",
       "      <td>1</td>\n",
       "      <td>1.527340</td>\n",
       "      <td>1.469060</td>\n",
       "      <td>0.970000</td>\n",
       "      <td>0.9700</td>\n",
       "      <td>0.961842</td>\n",
       "      <td>1.000000</td>\n",
       "    </tr>\n",
       "    <tr>\n",
       "      <th rowspan=\"2\" valign=\"top\">mbt_ect</th>\n",
       "      <th>0</th>\n",
       "      <td>5</td>\n",
       "      <td>1.499015</td>\n",
       "      <td>1.507805</td>\n",
       "      <td>0.977000</td>\n",
       "      <td>0.9670</td>\n",
       "      <td>1.006725</td>\n",
       "      <td>0.989912</td>\n",
       "    </tr>\n",
       "    <tr>\n",
       "      <th>1</th>\n",
       "      <td>3</td>\n",
       "      <td>1.548298</td>\n",
       "      <td>1.465653</td>\n",
       "      <td>0.965000</td>\n",
       "      <td>0.9700</td>\n",
       "      <td>0.946630</td>\n",
       "      <td>1.005226</td>\n",
       "    </tr>\n",
       "    <tr>\n",
       "      <th>mbt_mct</th>\n",
       "      <th>0</th>\n",
       "      <td>2</td>\n",
       "      <td>1.502103</td>\n",
       "      <td>1.536985</td>\n",
       "      <td>0.965000</td>\n",
       "      <td>0.9625</td>\n",
       "      <td>1.023665</td>\n",
       "      <td>0.997423</td>\n",
       "    </tr>\n",
       "  </tbody>\n",
       "</table>\n",
       "</div>"
      ],
      "text/plain": [
       "                                      cnt  response_time_mean_bt  \\\n",
       "id           day_time score_diff_new                               \n",
       "respondent_1 ebt_mct  0                 2               1.523353   \n",
       "                      1                 2               1.718553   \n",
       "             mbt_ect  0                 1               1.651020   \n",
       "                      1                 3               1.530130   \n",
       "respondent_2 ebt_ect  1                 1               2.990650   \n",
       "respondent_3 ebt_ect  0                 1               1.668740   \n",
       "                      1                 1               1.691570   \n",
       "             ebt_mct  1                 1               1.550630   \n",
       "             mbt_ect  1                 2               1.781757   \n",
       "             mbt_mct  0                 1               1.522030   \n",
       "respondent_4 ebt_mct  0                 7               1.486949   \n",
       "                      1                 1               1.527340   \n",
       "             mbt_ect  0                 5               1.499015   \n",
       "                      1                 3               1.548298   \n",
       "             mbt_mct  0                 2               1.502103   \n",
       "\n",
       "                                      response_time_mean_ct  \\\n",
       "id           day_time score_diff_new                          \n",
       "respondent_1 ebt_mct  0                            1.566173   \n",
       "                      1                            1.554532   \n",
       "             mbt_ect  0                            1.639055   \n",
       "                      1                            1.456952   \n",
       "respondent_2 ebt_ect  1                            2.247420   \n",
       "respondent_3 ebt_ect  0                            1.691570   \n",
       "                      1                            1.550630   \n",
       "             ebt_mct  1                            1.522030   \n",
       "             mbt_ect  1                            1.547420   \n",
       "             mbt_mct  0                            1.651010   \n",
       "respondent_4 ebt_mct  0                            1.511502   \n",
       "                      1                            1.469060   \n",
       "             mbt_ect  0                            1.507805   \n",
       "                      1                            1.465653   \n",
       "             mbt_mct  0                            1.536985   \n",
       "\n",
       "                                      correct_flg_mean_bt  \\\n",
       "id           day_time score_diff_new                        \n",
       "respondent_1 ebt_mct  0                          0.977500   \n",
       "                      1                          0.972500   \n",
       "             mbt_ect  0                          0.975000   \n",
       "                      1                          0.988333   \n",
       "respondent_2 ebt_ect  1                          0.985000   \n",
       "respondent_3 ebt_ect  0                          0.985000   \n",
       "                      1                          0.995000   \n",
       "             ebt_mct  1                          1.000000   \n",
       "             mbt_ect  1                          0.997500   \n",
       "             mbt_mct  0                          0.990000   \n",
       "respondent_4 ebt_mct  0                          0.967857   \n",
       "                      1                          0.970000   \n",
       "             mbt_ect  0                          0.977000   \n",
       "                      1                          0.965000   \n",
       "             mbt_mct  0                          0.965000   \n",
       "\n",
       "                                      correct_flg_mean_ct   rt_coef  crt_coef  \n",
       "id           day_time score_diff_new                                           \n",
       "respondent_1 ebt_mct  0                            0.9925  1.031328  1.015345  \n",
       "                      1                            0.9775  0.908761  1.005221  \n",
       "             mbt_ect  0                            0.9750  0.992753  1.000000  \n",
       "                      1                            0.9700  0.952425  0.981532  \n",
       "respondent_2 ebt_ect  1                            0.9700  0.751482  0.984772  \n",
       "respondent_3 ebt_ect  0                            0.9950  1.013681  1.010152  \n",
       "                      1                            1.0000  0.916681  1.005025  \n",
       "             ebt_mct  1                            0.9900  0.981556  0.990000  \n",
       "             mbt_ect  1                            0.9900  0.868158  0.992475  \n",
       "             mbt_mct  0                            1.0000  1.084742  1.010101  \n",
       "respondent_4 ebt_mct  0                            0.9700  1.016907  1.002240  \n",
       "                      1                            0.9700  0.961842  1.000000  \n",
       "             mbt_ect  0                            0.9670  1.006725  0.989912  \n",
       "                      1                            0.9700  0.946630  1.005226  \n",
       "             mbt_mct  0                            0.9625  1.023665  0.997423  "
      ]
     },
     "execution_count": 18,
     "metadata": {},
     "output_type": "execute_result"
    }
   ],
   "source": [
    "# wilcoxon_pairwise_df[(wilcoxon_pairwise_df['id'] == 'Дария') & (wilcoxon_pairwise_df['fatigue_lvl_diff'] > 0)]\n",
    "wilcoxon_pairwise_df['rt_coef'] = wilcoxon_pairwise_df['response_time_mean_ct'] / wilcoxon_pairwise_df['response_time_mean_bt']\n",
    "wilcoxon_pairwise_df['crt_coef'] = wilcoxon_pairwise_df['correct_flg_mean_ct'] / wilcoxon_pairwise_df['correct_flg_mean_bt']\n",
    "wilcoxon_pairwise_df['score_diff_new'] = (wilcoxon_pairwise_df['p_value'] < 0.2).astype(int)\n",
    "wilcoxon_pairwise_df.groupby(['id', 'day_time', 'score_diff_new']).agg(\n",
    "    cnt =('id', 'count'),\n",
    "    # avg_p_val = ('p_value', 'mean'),\n",
    "    # mrd_p_val = ('p_value', 'median'),\n",
    "    # min_p_val = ('p_value', 'min'),\n",
    "    # max_p_val = ('p_value', 'max'),\n",
    "    response_time_mean_bt = ('response_time_mean_bt', 'mean'),\n",
    "        response_time_mean_ct = ('response_time_mean_ct', 'mean'),\n",
    "    correct_flg_mean_bt = ('correct_flg_mean_bt', 'mean'),\n",
    "        correct_flg_mean_ct = ('correct_flg_mean_ct', 'mean'),\n",
    "    rt_coef = ('rt_coef', 'mean'),\n",
    "    crt_coef = ('crt_coef', 'mean'),\n",
    ")"
   ]
  },
  {
   "cell_type": "code",
   "execution_count": 19,
   "metadata": {},
   "outputs": [
    {
     "data": {
      "application/vnd.plotly.v1+json": {
       "config": {
        "plotlyServerURL": "https://plot.ly"
       },
       "data": [
        {
         "customdata": [
          "2024-12-11T17:20:52.000000000",
          "2024-12-12T13:14:12.000000000",
          "2024-12-12T21:07:06.000000000",
          "2024-12-13T08:20:01.000000000",
          "2024-12-13T20:13:02.000000000",
          "2024-12-14T11:56:28.000000000",
          "2024-12-14T20:53:06.000000000",
          "2024-12-15T12:06:37.000000000",
          "2024-12-15T22:12:43.000000000"
         ],
         "hovertemplate": "ID: respondent_1<br>DateTime: %{customdata}<br>weekday_num: %{x:.2f}<br>Score: %{y:.2f}<br>Pearson r: -0.876<br>Spearman r: -0.881<br>Kendall τ: -0.766<br>DCOR: 0.896",
         "legendgroup": "respondent_1",
         "marker": {
          "color": "#FF0000",
          "opacity": 0.8,
          "size": 8
         },
         "mode": "markers",
         "name": "ID: respondent_1",
         "showlegend": true,
         "type": "scatter",
         "x": {
          "bdata": "AgAAAAMAAAADAAAABAAAAAQAAAAFAAAABQAAAAYAAAAGAAAA",
          "dtype": "i4"
         },
         "xaxis": "x",
         "y": {
          "bdata": "PQo5KGFm/j/Xo5Dyk2r6P1yPVbyROfo/4XoMyF7v+T8prMWnAJj4P+GKcf4mVPc/FG6jAbyF9j8ULmACty74P+zRn/1I0fY/",
          "dtype": "f8"
         },
         "yaxis": "y"
        },
        {
         "hovertemplate": "ID: respondent_1<br>Pearson r: -0.876<br>Spearman r: -0.881<br>Kendall τ: -0.766<br>DCOR: 0.896",
         "legendgroup": "respondent_1",
         "line": {
          "color": "#FF0000",
          "dash": "dash",
          "width": 2
         },
         "mode": "lines",
         "name": "Trend respondent_1",
         "showlegend": false,
         "type": "scatter",
         "x": {
          "bdata": "AAAAAAAAAED9SoFav1IAQPuVArV+pQBA+OCDDz74AED2KwVq/UoBQPN2hsS8nQFA8MEHH3zwAUDuDIl5O0MCQOtXCtT6lQJA6aKLLrroAkDm7QyJeTsDQOQ4juM4jgNA4YMPPvjgA0DezpCYtzMEQNwZEvN2hgRA2WSTTTbZBEDXrxSo9SsFQNT6lQK1fgVA0kUXXXTRBUDPkJi3MyQGQMzbGRLzdgZAyiabbLLJBkDHcRzHcRwHQMW8nSExbwdAwgcffPDBB0DAUqDWrxQIQL2dITFvZwhAuuiiiy66CEC4MyTm7QwJQLV+pUCtXwlAsskmm2yyCUCwFKj1KwUKQK5fKVDrVwpAq6qqqqqqCkCo9SsFav0KQKZArV8pUAtAo4suuuiiC0Cg1q8UqPULQJ4hMW9nSAxAnGyyySabDECZtzMk5u0MQJYCtX6lQA1AlE022WSTDUCRmLczJOYNQI7jOI7jOA5AjC666KKLDkCKeTtDYt4OQIfEvJ0hMQ9AhA8++OCDD0CCWr9SoNYPQMBSoNavFBBAPvjggw8+EEC9nSExb2cQQDxDYt7OkBBAuuiiiy66EEA5juM4juMQQLgzJObtDBFANtlkk002EUC1fqVArV8RQDQk5u0MiRFAsskmm2yyEUAyb2dIzNsRQLAUqPUrBRJAL7rooosuEkCuXylQ61cSQCwFav1KgRJAq6qqqqqqEkAqUOtXCtQSQKj1KwVq/RJAJ5tssskmE0CmQK1fKVATQCTm7QyJeRNAo4suuuiiE0AiMW9nSMwTQKDWrxSo9RNAIHzwwQcfFECeITFvZ0gUQBzHcRzHcRRAnGyyySabFEAaEvN2hsQUQJm3MyTm7RRAGF100UUXFUCWArV+pUAVQBWo9SsFahVAlE022WSTFUAS83aGxLwVQJGYtzMk5hVAED744IMPFkCO4ziO4zgWQA6JeTtDYhZAjC666KKLFkAK1PqVArUWQIp5O0Ni3hZACB988MEHF0CHxLydITEXQAZq/UqBWhdAhA8++OCDF0ADtX6lQK0XQIJav1Kg1hdAAAAAAAAAGEA=",
          "dtype": "f8"
         },
         "xaxis": "x",
         "y": {
          "bdata": "BfTlwK+S/D8hoIJxyoL8PzxMHyLlcvw/WPi70v9i/D9zpFiDGlP8P49Q9TM1Q/w/qvyR5E8z/D/GqC6VaiP8P+FUy0WFE/w//QBo9p8D/D8YrQSnuvP7PzRZoVfV4/s/TwU+CPDT+z9rsdq4CsT7P4Zdd2kltPs/ogkUGkCk+z++tbDKWpT7P9lhTXt1hPs/9A3qK5B0+z8QuobcqmT7PyxmI43FVPs/RxLAPeBE+z9jvlzu+jT7P35q+Z4VJfs/mhaWTzAV+z+1wjIASwX7P9Fuz7Bl9fo/7BpsYYDl+j8IxwgSm9X6PyRzpcK1xfo/Px9Cc9C1+j9ay94j66X6P3Z3e9QFlvo/kiMYhSCG+j+tz7Q1O3b6P8l7UeZVZvo/5CfulnBW+j8A1IpHi0b6PxuAJ/ilNvo/NyzEqMAm+j9S2GBZ2xb6P26E/Qn2Bvo/iTCauhD3+T+l3DZrK+f5P8CI0xtG1/k/3DRwzGDH+T/44Ax9e7f5PxONqS2Wp/k/LzlG3rCX+T9K5eKOy4f5P2aRfz/md/k/gT0c8ABo+T+d6bigG1j5P7iVVVE2SPk/1EHyAVE4+T/w7Y6yayj5PwuaK2OGGPk/J0bIE6EI+T9C8mTEu/j4P16eAXXW6Pg/eUqeJfHY+D+U9jrWC8n4P7Ci14Ymufg/zE50N0Gp+D/n+hDoW5n4PwOnrZh2ifg/HlNKSZF5+D86/+b5q2n4P1arg6rGWfg/cVcgW+FJ+D+MA70L/Dn4P6ivWbwWKvg/xFv2bDEa+D/fB5MdTAr4P/uzL85m+vc/FmDMfoHq9z8yDGkvnNr3P064BeC2yvc/aGSikNG69z+EED9B7Kr3P6C82/EGm/c/u2h4oiGL9z/XFBVTPHv3P/LAsQNXa/c/Dm1OtHFb9z8qGetkjEv3P0XFhxWnO/c/YHEkxsEr9z98HcF23Bv3P5fJXSf3C/c/s3X61xH89j/PIZeILOz2P+rNMzlH3PY/BnrQ6WHM9j8hJm2afLz2PzzSCUuXrPY/WH6m+7Gc9j90KkOszIz2P4/W31znfPY/q4J8DQJt9j8=",
          "dtype": "f8"
         },
         "yaxis": "y"
        },
        {
         "customdata": [
          "2024-12-11T16:09:52.000000000",
          "2024-12-12T19:57:16.000000000"
         ],
         "hovertemplate": "ID: respondent_2<br>DateTime: %{customdata}<br>weekday_num: %{x:.2f}<br>Score: %{y:.2f}<br>Pearson r: -1.000<br>Spearman r: -1.000<br>Kendall τ: -1.000<br>DCOR: 1.000",
         "legendgroup": "respondent_2",
         "marker": {
          "color": "#00FF00",
          "opacity": 0.8,
          "size": 8
         },
         "mode": "markers",
         "name": "ID: respondent_2",
         "showlegend": true,
         "type": "scatter",
         "x": {
          "bdata": "AgAAAAMAAAA=",
          "dtype": "i4"
         },
         "xaxis": "x",
         "y": {
          "bdata": "10M+6NnsB0AzA0NWt/oBQA==",
          "dtype": "f8"
         },
         "yaxis": "y"
        },
        {
         "hovertemplate": "ID: respondent_2<br>Pearson r: -1.000<br>Spearman r: -1.000<br>Kendall τ: -1.000<br>DCOR: 1.000",
         "legendgroup": "respondent_2",
         "line": {
          "color": "#00FF00",
          "dash": "dash",
          "width": 2
         },
         "mode": "lines",
         "name": "Trend respondent_2",
         "showlegend": false,
         "type": "scatter",
         "x": {
          "bdata": "AAAAAAAAAEC/UqDWrxQAQH+lQK1fKQBAPvjggw8+AED9SoFav1IAQL2dITFvZwBAfPDBBx98AEA8Q2LezpAAQPuVArV+pQBAuuiiiy66AEB6O0Ni3s4AQDmO4ziO4wBA+OCDDz74AEC4MyTm7QwBQHeGxLydIQFANtlkk002AUD2KwVq/UoBQLV+pUCtXwFAdNFFF110AUA0JObtDIkBQPN2hsS8nQFAsskmm2yyAUByHMdxHMcBQDFvZ0jM2wFA8MEHH3zwAUCwFKj1KwUCQG9nSMzbGQJAL7rooosuAkDuDIl5O0MCQK1fKVDrVwJAbbLJJptsAkAsBWr9SoECQOtXCtT6lQJAq6qqqqqqAkBq/UqBWr8CQCpQ61cK1AJA6aKLLrroAkCo9SsFav0CQGhIzNsZEgNAJ5tssskmA0Dm7QyJeTsDQKZArV8pUANAZZNNNtlkA0Ak5u0MiXkDQOQ4juM4jgNAo4suuuiiA0Bi3s6QmLcDQCIxb2dIzANA4YMPPvjgA0Cg1q8UqPUDQGApUOtXCgRAH3zwwQcfBEDezpCYtzMEQJ4hMW9nSARAXXTRRRddBEAcx3Ecx3EEQNwZEvN2hgRAm2yyySabBEBav1Kg1q8EQBoS83aGxARA2WSTTTbZBECZtzMk5u0EQFgK1PqVAgVAGF100UUXBUDXrxSo9SsFQJYCtX6lQAVAVlVVVVVVBUAVqPUrBWoFQNT6lQK1fgVAlE022WSTBUBToNavFKgFQBLzdobEvAVA0kUXXXTRBUCRmLczJOYFQFDrVwrU+gVAED744IMPBkDPkJi3MyQGQI7jOI7jOAZATjbZZJNNBkANiXk7Q2IGQMzbGRLzdgZAjC666KKLBkBLgVq/UqAGQArU+pUCtQZAyiabbLLJBkCJeTtDYt4GQEjM2xkS8wZACB988MEHB0DHcRzHcRwHQIfEvJ0hMQdARhdddNFFB0AFav1KgVoHQMW8nSExbwdAhA8++OCDB0BEYt7OkJgHQAO1fqVArQdAwgcffPDBB0CCWr9SoNYHQEGtXylQ6wdAAAAAAAAACEA=",
          "dtype": "f8"
         },
         "xaxis": "x",
         "y": {
          "bdata": "10M+6NnsB0Bp0Zjhed0HQPpe89oZzgdAjOxN1Lm+B0AeeqjNWa8HQLAHA8f5nwdAQpVdwJmQB0DTIri5OYEHQGWwErPZcQdA9z1trHliB0CIy8elGVMHQBpZIp+5QwdArOZ8mFk0B0A+dNeR+SQHQNABMouZFQdAYo+MhDkGB0DyHOd92fYGQISqQXd55wZAFjiccBnYBkCoxfZpucgGQDpTUWNZuQZAzOCrXPmpBkBdbgZWmZoGQO/7YE85iwZAgYm7SNl7BkASFxZCeWwGQKSkcDsZXQZANjLLNLlNBkDIvyUuWT4GQFpNgCf5LgZA69raIJkfBkB9aDUaORAGQA/2jxPZAAZAoIPqDHnxBUAyEUUGGeIFQMSen/+40gVAViz6+FjDBUDouVTy+LMFQHlHr+uYpAVAC9UJ5TiVBUCdYmTe2IUFQC7wvtd4dgVAwH0Z0RhnBUBSC3TKuFcFQOSYzsNYSAVAdiYpvfg4BUAItIO2mCkFQJhB3q84GgVAKs84qdgKBUC8XJOiePsEQE7q7ZsY7ARA4HdIlbjcBEByBaOOWM0EQAOT/Yf4vQRAlSBYgZiuBEAnrrJ6OJ8EQLg7DXTYjwRASslnbXiABEDcVsJmGHEEQG7kHGC4YQRAAHJ3WVhSBECR/9FS+EIEQCONLEyYMwRAtBqHRTgkBEBGqOE+2BQEQNg1PDh4BQRAasOWMRj2A0D8UPEquOYDQI7eSyRY1wNAH2ymHfjHA0Cx+QAXmLgDQEOHWxA4qQNA1BS2CdiZA0BmohADeIoDQPgva/wXewNAib3F9bdrA0AbSyDvV1wDQK3Yeuj3TANAP2bV4Zc9A0DR8y/bNy4DQGOBitTXHgNA9A7lzXcPA0CGnD/HFwADQBgqmsC38AJAqbf0uVfhAkA7RU+z99ECQM3SqayXwgJAXmAEpjezAkDw7V6f16MCQIJ7uZh3lAJAFAkUkheFAkCmlm6Lt3UCQDckyYRXZgJAybEjfvdWAkBaP353l0cCQOzM2HA3OAJAflozatcoAkAP6I1jdxkCQKF16FwXCgJANANDVrf6AUA=",
          "dtype": "f8"
         },
         "yaxis": "y"
        },
        {
         "customdata": [
          "2024-12-11T10:55:16.000000000",
          "2024-12-11T15:51:05.000000000",
          "2024-12-11T22:05:25.000000000",
          "2024-12-13T02:03:23.000000000",
          "2024-12-13T10:32:47.000000000",
          "2024-12-14T13:00:47.000000000",
          "2024-12-15T01:16:30.000000000"
         ],
         "hovertemplate": "ID: respondent_3<br>DateTime: %{customdata}<br>weekday_num: %{x:.2f}<br>Score: %{y:.2f}<br>Pearson r: -0.760<br>Spearman r: -0.842<br>Kendall τ: -0.688<br>DCOR: 0.782",
         "legendgroup": "respondent_3",
         "marker": {
          "color": "#0000FF",
          "opacity": 0.8,
          "size": 8
         },
         "mode": "markers",
         "name": "ID: respondent_3",
         "showlegend": true,
         "type": "scatter",
         "x": {
          "bdata": "AgAAAAIAAAACAAAABAAAAAQAAAAFAAAABgAAAA==",
          "dtype": "i4"
         },
         "xaxis": "x",
         "y": {
          "bdata": "UvjG156Z/j+kcNi2KLP6P8ZQTrSrEPs/HyUjZ2HP+D/hehghPFr4Px/lNXaJavo/4TrNO07R9j8=",
          "dtype": "f8"
         },
         "yaxis": "y"
        },
        {
         "hovertemplate": "ID: respondent_3<br>Pearson r: -0.760<br>Spearman r: -0.842<br>Kendall τ: -0.688<br>DCOR: 0.782",
         "legendgroup": "respondent_3",
         "line": {
          "color": "#0000FF",
          "dash": "dash",
          "width": 2
         },
         "mode": "lines",
         "name": "Trend respondent_3",
         "showlegend": false,
         "type": "scatter",
         "x": {
          "bdata": "AAAAAAAAAED9SoFav1IAQPuVArV+pQBA+OCDDz74AED2KwVq/UoBQPN2hsS8nQFA8MEHH3zwAUDuDIl5O0MCQOtXCtT6lQJA6aKLLrroAkDm7QyJeTsDQOQ4juM4jgNA4YMPPvjgA0DezpCYtzMEQNwZEvN2hgRA2WSTTTbZBEDXrxSo9SsFQNT6lQK1fgVA0kUXXXTRBUDPkJi3MyQGQMzbGRLzdgZAyiabbLLJBkDHcRzHcRwHQMW8nSExbwdAwgcffPDBB0DAUqDWrxQIQL2dITFvZwhAuuiiiy66CEC4MyTm7QwJQLV+pUCtXwlAsskmm2yyCUCwFKj1KwUKQK5fKVDrVwpAq6qqqqqqCkCo9SsFav0KQKZArV8pUAtAo4suuuiiC0Cg1q8UqPULQJ4hMW9nSAxAnGyyySabDECZtzMk5u0MQJYCtX6lQA1AlE022WSTDUCRmLczJOYNQI7jOI7jOA5AjC666KKLDkCKeTtDYt4OQIfEvJ0hMQ9AhA8++OCDD0CCWr9SoNYPQMBSoNavFBBAPvjggw8+EEC9nSExb2cQQDxDYt7OkBBAuuiiiy66EEA5juM4juMQQLgzJObtDBFANtlkk002EUC1fqVArV8RQDQk5u0MiRFAsskmm2yyEUAyb2dIzNsRQLAUqPUrBRJAL7rooosuEkCuXylQ61cSQCwFav1KgRJAq6qqqqqqEkAqUOtXCtQSQKj1KwVq/RJAJ5tssskmE0CmQK1fKVATQCTm7QyJeRNAo4suuuiiE0AiMW9nSMwTQKDWrxSo9RNAIHzwwQcfFECeITFvZ0gUQBzHcRzHcRRAnGyyySabFEAaEvN2hsQUQJm3MyTm7RRAGF100UUXFUCWArV+pUAVQBWo9SsFahVAlE022WSTFUAS83aGxLwVQJGYtzMk5hVAED744IMPFkCO4ziO4zgWQA6JeTtDYhZAjC666KKLFkAK1PqVArUWQIp5O0Ni3hZACB988MEHF0CHxLydITEXQAZq/UqBWhdAhA8++OCDF0ADtX6lQK0XQIJav1Kg1hdAAAAAAAAAGEA=",
          "dtype": "f8"
         },
         "xaxis": "x",
         "y": {
          "bdata": "PCgfgqrx+z9jQ3UNluX7P4pey5iB2fs/sXkhJG3N+z/XlHevWMH7P/6vzTpEtfs/Jcsjxi+p+z9M5nlRG537P3MB0NwGkfs/mhwmaPKE+z/BN3zz3Xj7P+hS0n7JbPs/Dm4oCrVg+z82iX6VoFT7P1yk1CCMSPs/g78qrHc8+z+q2oA3YzD7P9H11sJOJPs/+BAtTjoY+z8fLIPZJQz7P0ZH2WQRAPs/bGIv8Pzz+j+TfYV76Of6P7qY2wbU2/o/4bMxkr/P+j8Iz4cdq8P6Py/q3aiWt/o/VgU0NIKr+j99IIq/bZ/6P6Q74EpZk/o/ylY21kSH+j/xcYxhMHv6PxiN4uwbb/o/P6g4eAdj+j9mw44D81b6P43e5I7eSvo/tPk6Gso++j/bFJGltTL6PwIw5zChJvo/KEs9vIwa+j9PZpNHeA76P3aB6dJjAvo/nZw/Xk/2+T/Et5XpOur5P+vS63Qm3vk/Eu5BABLS+T84CZiL/cX5P2Ak7hbpufk/hj9EotSt+T+tWpotwKH5P9R18Lirlfk/+5BGRJeJ+T8irJzPgn35P0nH8lpucfk/cOJI5lll+T+W/Z5xRVn5P74Y9fwwTfk/5DNLiBxB+T8LT6ETCDX5PzJq957zKPk/WYVNKt8c+T+AoKO1yhD5P6e7+UC2BPk/ztZPzKH4+D/08aVXjez4PxwN/OJ44Pg/QihSbmTU+D9pQ6j5T8j4P5Be/oQ7vPg/t3lUECew+D/elKqbEqT4PwWwACf+l/g/LMtWsumL+D9S5qw91X/4P3oBA8nAc/g/oBxZVKxn+D/HN6/fl1v4P+5SBWuDT/g/FW5b9m5D+D88ibGBWjf4P2OkBw1GK/g/ir9dmDEf+D+w2rMjHRP4P9f1Ca8IB/g//hBgOvT69z8lLLbF3+73P0xHDFHL4vc/c2Ji3LbW9z+afbhnosr3P8CYDvONvvc/6LNkfnmy9z8Pz7oJZab3PzXqEJVQmvc/XAVnIDyO9z+DIL2rJ4L3P6o7EzcTdvc/0VZpwv5p9z/4cb9N6l33Px6NFdnVUfc/RqhrZMFF9z8=",
          "dtype": "f8"
         },
         "yaxis": "y"
        },
        {
         "customdata": [
          "2024-12-12T12:56:06.000000000",
          "2024-12-12T22:33:31.000000000",
          "2024-12-13T11:40:45.000000000",
          "2024-12-14T01:05:55.000000000",
          "2024-12-14T12:11:29.000000000",
          "2024-12-15T01:29:44.000000000",
          "2024-12-15T13:04:17.000000000",
          "2024-12-15T18:28:17.000000000",
          "2024-12-16T06:52:53.000000000",
          "2024-12-16T23:57:21.000000000",
          "2024-12-17T09:58:55.000000000",
          "2024-12-18T00:18:36.000000000",
          "2024-12-18T09:33:39.000000000",
          "2024-12-24T08:34:30.000000000",
          "2024-12-24T22:24:22.000000000",
          "2025-01-16T10:26:25.000000000",
          "2025-01-20T08:42:15.000000000",
          "2025-01-20T22:38:18.000000000",
          "2025-01-21T11:34:02.000000000"
         ],
         "hovertemplate": "ID: respondent_4<br>DateTime: %{customdata}<br>weekday_num: %{x:.2f}<br>Score: %{y:.2f}<br>Pearson r: 0.017<br>Spearman r: -0.023<br>Kendall τ: -0.019<br>DCOR: 0.216",
         "legendgroup": "respondent_4",
         "marker": {
          "color": "#FF00FF",
          "opacity": 0.8,
          "size": 8
         },
         "mode": "markers",
         "name": "ID: respondent_4",
         "showlegend": true,
         "type": "scatter",
         "x": {
          "bdata": "AwAAAAMAAAAEAAAABQAAAAUAAAAGAAAABgAAAAYAAAAAAAAAAAAAAAEAAAACAAAAAgAAAAEAAAABAAAAAwAAAAAAAAAAAAAAAQAAAA==",
          "dtype": "i4"
         },
         "xaxis": "x",
         "y": {
          "bdata": "KVwJFocz9z89Cty6m6f4P67HEg8oW/c/9qit2F82+D9SeI4B2Wv4P+xRGqN1VPc/Zma0jqqm+D+F677xtef3P9ejpfJ2BPk/pPCOU3Sk9z8fBRRcrGj4P1L2XRH8b/g/Pcr9DkWB9z/heqJAn4j4P1K4qWVr/fc/hesZNPSP+D8UrgvqW6b4P65HT3XIzfY/cT2U9gbf9j8=",
          "dtype": "f8"
         },
         "yaxis": "y"
        },
        {
         "hovertemplate": "ID: respondent_4<br>Pearson r: 0.017<br>Spearman r: -0.023<br>Kendall τ: -0.019<br>DCOR: 0.216",
         "legendgroup": "respondent_4",
         "line": {
          "color": "#FF00FF",
          "dash": "dash",
          "width": 2
         },
         "mode": "lines",
         "name": "Trend respondent_4",
         "showlegend": false,
         "type": "scatter",
         "x": {
          "bdata": "AAAAAAAAAAAIH3zwwQevPwgffPDBB78/RhdddNFFxz8IH3zwwQfPP2WTTTbZZNM/RhdddNFF1z8nm2yyySbbPwgffPDBB98/dNFFF1104T9lk0022WTjP1ZVVVVVVeU/RhdddNFF5z822WSTTTbpPyebbLLJJus/GF100UUX7T8IH3zwwQfvP3zwwQcffPA/dNFFF1108T9tsskmm2zyP2WTTTbZZPM/XXTRRRdd9D9WVVVVVVX1P0422WSTTfY/RhdddNFF9z8++OCDDz74PzbZZJNNNvk/L7rooosu+j8nm2yyySb7Px988MEHH/w/GF100UUX/T8QPvjggw/+PwgffPDBB/8/AAAAAAAAAEB88MEHH3wAQPjggw8++ABAdNFFF110AUDxwQcffPABQG2yySabbAJA6aKLLrroAkBlk0022WQDQOGDDz744ANAXXTRRRddBEDZZJNNNtkEQFZVVVVVVQVA0kUXXXTRBUBONtlkk00GQMomm2yyyQZARhdddNFFB0DCBx988MEHQD744IMPPghAuuiiiy66CEA22WSTTTYJQLPJJptssglAL7rooosuCkCrqqqqqqoKQCebbLLJJgtAo4suuuiiC0AffPDBBx8MQJtssskmmwxAGF100UUXDUCUTTbZZJMNQBA++OCDDw5AjC666KKLDkAIH3zwwQcPQIQPPvjggw9AAAAAAAAAEEA++OCDDz4QQHzwwQcffBBAuuiiiy66EED44IMPPvgQQDbZZJNNNhFAdNFFF110EUCzySabbLIRQPHBBx988BFAL7rooosuEkBtsskmm2wSQKuqqqqqqhJA6aKLLrroEkAnm2yyySYTQGWTTTbZZBNAo4suuuiiE0Dhgw8++OATQB988MEHHxRAXXTRRRddFECbbLLJJpsUQNlkk0022RRAF1100UUXFUBWVVVVVVUVQJRNNtlkkxVA0kUXXXTRFUAQPvjggw8WQE422WSTTRZAjC666KKLFkDKJptssskWQAgffPDBBxdARhdddNFFF0CEDz744IMXQMIHH3zwwRdAAAAAAAAAGEA=",
          "dtype": "f8"
         },
         "xaxis": "x",
         "y": {
          "bdata": "hs88h5j+9z+aIYdwrf73P65z0VnC/vc/wsUbQ9f+9z/WF2Ys7P73P+ppsBUB//c//rv6/hX/9z8SDkXoKv/3PyZgj9E///c/OrLZulT/9z9OBCSkaf/3P2JWbo1+//c/dqi4dpP/9z+K+gJgqP/3P55MTUm9//c/sp6XMtL/9z/G8OEb5//3P9pCLAX8//c/7pR27hAA+D8C58DXJQD4Pxc5C8E6APg/K4tVqk8A+D8/3Z+TZAD4P1Mv6nx5APg/Z4E0Zo4A+D97035PowD4P48lyTi4APg/o3cTIs0A+D+3yV0L4gD4P8sbqPT2APg/323y3QsB+D/zvzzHIAH4PwcSh7A1Afg/G2TRmUoB+D8vthuDXwH4P0MIZmx0Afg/V1qwVYkB+D9rrPo+ngH4P3/+RCizAfg/k1CPEcgB+D+notn63AH4P7v0I+TxAfg/z0ZuzQYC+D/jmLi2GwL4P/fqAqAwAvg/Cz1NiUUC+D8fj5dyWgL4PzPh4VtvAvg/RzMsRYQC+D9bhXYumQL4P2/XwBeuAvg/gykLAcMC+D+Xe1Xq1wL4P6vNn9PsAvg/vx/qvAED+D/TcTSmFgP4P+fDfo8rA/g/+xXJeEAD+D8QaBNiVQP4PyS6XUtqA/g/OAyoNH8D+D9MXvIdlAP4P2CwPAepA/g/dAKH8L0D+D+IVNHZ0gP4P5ymG8PnA/g/sPhlrPwD+D/ESrCVEQT4P9ic+n4mBPg/7O5EaDsE+D8AQY9RUAT4PxST2TplBPg/KOUjJHoE+D88N24NjwT4P1CJuPajBPg/ZNsC4LgE+D94LU3JzQT4P4x/l7LiBPg/oNHhm/cE+D+0IyyFDAX4P8h1dm4hBfg/3MfAVzYF+D/wGQtBSwX4PwRsVSpgBfg/GL6fE3UF+D8sEOr8iQX4P0BiNOaeBfg/VLR+z7MF+D9oBsm4yAX4P3xYE6LdBfg/kKpdi/IF+D+k/Kd0Bwb4P7hO8l0cBvg/zKA8RzEG+D/g8oYwRgb4P/RE0RlbBvg/CZcbA3AG+D8d6WXshAb4PzE7sNWZBvg/RY36vq4G+D8=",
          "dtype": "f8"
         },
         "yaxis": "y"
        },
        {
         "customdata": [
          "2024-12-11T17:20:52.000000000",
          "2024-12-12T13:14:12.000000000",
          "2024-12-12T21:07:06.000000000",
          "2024-12-13T08:20:01.000000000",
          "2024-12-13T20:13:02.000000000",
          "2024-12-14T11:56:28.000000000",
          "2024-12-14T20:53:06.000000000",
          "2024-12-15T12:06:37.000000000",
          "2024-12-15T22:12:43.000000000"
         ],
         "hovertemplate": "ID: respondent_1<br>DateTime: %{customdata}<br>hour: %{x:.2f}<br>Score: %{y:.2f}<br>Pearson r: -0.132<br>Spearman r: -0.184<br>Kendall τ: -0.085<br>DCOR: 0.405",
         "legendgroup": "respondent_1",
         "marker": {
          "color": "#FF0000",
          "opacity": 0.8,
          "size": 8
         },
         "mode": "markers",
         "name": "ID: respondent_1",
         "showlegend": false,
         "type": "scatter",
         "x": {
          "bdata": "EQ0VCBQLFAwW",
          "dtype": "i1"
         },
         "xaxis": "x2",
         "y": {
          "bdata": "PQo5KGFm/j/Xo5Dyk2r6P1yPVbyROfo/4XoMyF7v+T8prMWnAJj4P+GKcf4mVPc/FG6jAbyF9j8ULmACty74P+zRn/1I0fY/",
          "dtype": "f8"
         },
         "yaxis": "y2"
        },
        {
         "hovertemplate": "ID: respondent_1<br>Pearson r: -0.132<br>Spearman r: -0.184<br>Kendall τ: -0.085<br>DCOR: 0.405",
         "legendgroup": "respondent_1",
         "line": {
          "color": "#FF0000",
          "dash": "dash",
          "width": 2
         },
         "mode": "lines",
         "name": "Trend respondent_1",
         "showlegend": false,
         "type": "scatter",
         "x": {
          "bdata": "AAAAAAAAIECeITFvZ0ggQDtDYt7OkCBA2WSTTTbZIEB3hsS8nSEhQBWo9SsFaiFAsskmm2yyIUBQ61cK1PohQO4MiXk7QyJAjC666KKLIkApUOtXCtQiQMdxHMdxHCNAZZNNNtlkI0ACtX6lQK0jQKDWrxSo9SNAPvjggw8+JEDcGRLzdoYkQHo7Q2LeziRAF1100UUXJUC1fqVArV8lQFOg1q8UqCVA8MEHH3zwJUCO4ziO4zgmQCwFav1KgSZAyiabbLLJJkBnSMzbGRInQAVq/UqBWidAo4suuuiiJ0BArV8pUOsnQN7OkJi3MyhAfPDBBx98KEAaEvN2hsQoQLgzJObtDClAVVVVVVVVKUDzdobEvJ0pQJCYtzMk5ilALrrooosuKkDM2xkS83YqQGr9SoFavypACB988MEHK0CmQK1fKVArQENi3s6QmCtA4YMPPvjgK0B+pUCtXyksQBzHcRzHcSxAuuiiiy66LEBYCtT6lQItQPYrBWr9Si1Ak0022WSTLUAxb2dIzNstQM6QmLczJC5AbLLJJptsLkAK1PqVArUuQKj1KwVq/S5ARhdddNFFL0DkOI7jOI4vQIFav1Kg1i9AED744IMPMEDezpCYtzMwQK1fKVDrVzBAfPDBBx98MEBLgVq/UqAwQBoS83aGxDBA6KKLLrroMEC4MyTm7QwxQIbEvJ0hMTFAVVVVVVVVMUAk5u0MiXkxQPN2hsS8nTFAwgcffPDBMUCQmLczJOYxQGApUOtXCjJALrrooosuMkD+SoFav1IyQMzbGRLzdjJAm2yyySabMkBq/UqBWr8yQDmO4ziO4zJACB988MEHM0DWrxSo9SszQKZArV8pUDNAdNFFF110M0BDYt7OkJgzQBLzdobEvDNA4YMPPvjgM0CwFKj1KwU0QH6lQK1fKTRATjbZZJNNNEAcx3Ecx3E0QOtXCtT6lTRAuuiiiy66NECJeTtDYt40QFgK1PqVAjVAJptssskmNUD2KwVq/Uo1QMS8nSExbzVAk0022WSTNUBi3s6QmLc1QDFvZ0jM2zVAAAAAAAAANkA=",
          "dtype": "f8"
         },
         "xaxis": "x2",
         "y": {
          "bdata": "d9rizHmq+T8fxqlELaj5P8excLzgpfk/cJ03NJSj+T8Yif6rR6H5P8B0xSP7nvk/aWCMm66c+T8RTFMTYpr5P7k3GosVmPk/YSPhAsmV+T8KD6h6fJP5P7L6bvIvkfk/WuY1auOO+T8C0vzhloz5P6u9w1lKivk/U6mK0f2H+T/7lFFJsYX5P6SAGMFkg/k/TGzfOBiB+T/0V6awy375P5xDbSh/fPk/RS80oDJ6+T/tGvsX5nf5P5UGwo+Zdfk/PvKIB01z+T/m3U9/AHH5P47JFvezbvk/NrXdbmds+T/foKTmGmr5P4eMa17OZ/k/L3gy1oFl+T/XY/lNNWP5P4BPwMXoYPk/KDuHPZxe+T/QJk61T1z5P3kSFS0DWvk/If7bpLZX+T/J6aIcalX5P3HVaZQdU/k/GsEwDNFQ+T/CrPeDhE75P2qYvvs3TPk/EoSFc+tJ+T+7b0zrnkf5P2NbE2NSRfk/C0fa2gVD+T+0MqFSuUD5P1weaMpsPvk/BAovQiA8+T+s9fW50zn5P1XhvDGHN/k//cyDqTo1+T+luEoh7jL5P06kEZmhMPk/9o/YEFUu+T+ee5+ICCz5P0ZnZgC8Kfk/71IteG8n+T+XPvTvIiX5Pz8qu2fWIvk/6BWC34kg+T+QAUlXPR75PzjtD8/wG/k/4NjWRqQZ+T+JxJ2+Vxf5PzGwZDYLFfk/2Zsrrr4S+T+Bh/IlchD5PypzuZ0lDvk/0l6AFdkL+T96SkeNjAn5PyI2DgVAB/k/yyHVfPME+T9zDZz0pgL5Pxv5YmxaAPk/xOQp5A3++D9s0PBbwfv4PxS8t9N0+fg/vKd+Syj3+D9lk0XD2/T4Pw1/DDuP8vg/tWrTskLw+D9eVpoq9u34PwZCYaKp6/g/ri0oGl3p+D9WGe+REOf4P/8EtgnE5Pg/p/B8gXfi+D9P3EP5KuD4P/jHCnHe3fg/oLPR6JHb+D9In5hgRdn4P/CKX9j41vg/mXYmUKzU+D9BYu3HX9L4P+lNtD8T0Pg/kjl7t8bN+D86JUIvesv4P+IQCactyfg/ivzPHuHG+D8=",
          "dtype": "f8"
         },
         "yaxis": "y2"
        },
        {
         "customdata": [
          "2024-12-11T16:09:52.000000000",
          "2024-12-12T19:57:16.000000000"
         ],
         "hovertemplate": "ID: respondent_2<br>DateTime: %{customdata}<br>hour: %{x:.2f}<br>Score: %{y:.2f}<br>Pearson r: -1.000<br>Spearman r: -1.000<br>Kendall τ: -1.000<br>DCOR: 1.000",
         "legendgroup": "respondent_2",
         "marker": {
          "color": "#00FF00",
          "opacity": 0.8,
          "size": 8
         },
         "mode": "markers",
         "name": "ID: respondent_2",
         "showlegend": false,
         "type": "scatter",
         "x": {
          "bdata": "EBM=",
          "dtype": "i1"
         },
         "xaxis": "x2",
         "y": {
          "bdata": "10M+6NnsB0AzA0NWt/oBQA==",
          "dtype": "f8"
         },
         "yaxis": "y2"
        },
        {
         "hovertemplate": "ID: respondent_2<br>Pearson r: -1.000<br>Spearman r: -1.000<br>Kendall τ: -1.000<br>DCOR: 1.000",
         "legendgroup": "respondent_2",
         "line": {
          "color": "#00FF00",
          "dash": "dash",
          "width": 2
         },
         "mode": "lines",
         "name": "Trend respondent_2",
         "showlegend": false,
         "type": "scatter",
         "x": {
          "bdata": "AAAAAAAAMEAIH3zwwQcwQBA++OCDDzBAF1100UUXMEAffPDBBx8wQCebbLLJJjBAL7rooosuMEA22WSTTTYwQD744IMPPjBARhdddNFFMEBONtlkk00wQFVVVVVVVTBAXXTRRRddMEBlk0022WQwQG2yySabbDBAdNFFF110MEB88MEHH3wwQIQPPvjggzBAjC666KKLMECTTTbZZJMwQJtssskmmzBAo4suuuiiMECrqqqqqqowQLLJJptssjBAuuiiiy66MEDCBx988MEwQMomm2yyyTBA0UUXXXTRMEDZZJNNNtkwQOGDDz744DBA6aKLLrroMEDwwQcffPAwQPjggw8++DBAAAAAAAAAMUAIH3zwwQcxQBA++OCDDzFAF1100UUXMUAffPDBBx8xQCebbLLJJjFAL7rooosuMUA22WSTTTYxQD744IMPPjFARhdddNFFMUBONtlkk00xQFVVVVVVVTFAXXTRRRddMUBlk0022WQxQG2yySabbDFAdNFFF110MUB88MEHH3wxQIQPPvjggzFAjC666KKLMUCTTTbZZJMxQJtssskmmzFAo4suuuiiMUCrqqqqqqoxQLLJJptssjFAuuiiiy66MUDCBx988MExQMomm2yyyTFA0kUXXXTRMUDZZJNNNtkxQOGDDz744DFA6aKLLrroMUDwwQcffPAxQPjggw8++DFAAAAAAAAAMkAIH3zwwQcyQBA++OCDDzJAF1100UUXMkAffPDBBx8yQCebbLLJJjJALrrooosuMkA22WSTTTYyQD744IMPPjJARhdddNFFMkBONtlkk00yQFVVVVVVVTJAXXTRRRddMkBlk0022WQyQG2yySabbDJAdNFFF110MkB88MEHH3wyQIQPPvjggzJAjC666KKLMkCTTTbZZJMyQJtssskmmzJAo4suuuiiMkCrqqqqqqoyQLLJJptssjJAuuiiiy66MkDCBx988MEyQMomm2yyyTJA0kUXXXTRMkDZZJNNNtkyQOGDDz744DJA6aKLLrroMkDwwQcffPAyQPjggw8++DJAAAAAAAAAM0A=",
          "dtype": "f8"
         },
         "xaxis": "x2",
         "y": {
          "bdata": "1kM+6NnsB0Bn0Zjhed0HQPle89oZzgdAjOxN1Lm+B0AdeqjNWa8HQK4HA8f5nwdAQJVdwJmQB0DSIri5OYEHQGSwErPZcQdA9j1trHliB0CGy8elGVMHQBpZIp+5QwdArOZ8mFk0B0A8dNeR+SQHQM4BMouZFQdAYI+MhDkGB0DyHOd92fYGQISqQXd55wZAFDiccBnYBkCoxfZpucgGQDpTUWNZuQZAyuCrXPmpBkBcbgZWmZoGQO77YE85iwZAgIm7SNl7BkASFxZCeWwGQKKkcDsZXQZANjLLNLlNBkDIvyUuWT4GQFhNgCf5LgZA6traIJkfBkB8aDUaORAGQA72jxPZAAZAoIPqDHnxBUAwEUUGGeIFQMKen/+40gVAViz6+FjDBUDmuVTy+LMFQHhHr+uYpAVACNUJ5TiVBUCcYmTe2IUFQC7wvtd4dgVAvn0Z0RhnBUBQC3TKuFcFQOSYzsNYSAVAdCYpvfg4BUAGtIO2mCkFQJZB3q84GgVAKs84qdgKBUC8XJOiePsEQEzq7ZsY7ARA3ndIlbjcBEByBaOOWM0EQAKT/Yf4vQRAlCBYgZiuBEAkrrJ6OJ8EQLg7DXTYjwRASslnbXiABEDaVsJmGHEEQGzkHGC4YQRA/nF3WVhSBECQ/9FS+EIEQCKNLEyYMwRAshqHRTgkBEBGqOE+2BQEQNg1PDh4BQRAaMOWMRj2A0D6UPEquOYDQIzeSyRY1wNAHmymHfjHA0Cw+QAXmLgDQEKHWxA4qQNA1BS2CdiZA0BmohADeIoDQPYva/wXewNAiL3F9bdrA0AaSyDvV1wDQKzYeuj3TANAPmbV4Zc9A0DQ8y/bNy4DQGCBitTXHgNA9A7lzXcPA0CEnD/HFwADQBYqmsC38AJAqLf0uVfhAkA6RU+z99ECQMzSqayXwgJAXmAEpjezAkDu7V6f16MCQIJ7uZh3lAJAEgkUkheFAkCklm6Lt3UCQDYkyYRXZgJAxrEjfvdWAkBaP353l0cCQOzM2HA3OAJAfFozatcoAkAQ6I1jdxkCQKB16FwXCgJAMgNDVrf6AUA=",
          "dtype": "f8"
         },
         "yaxis": "y2"
        },
        {
         "customdata": [
          "2024-12-11T10:55:16.000000000",
          "2024-12-11T15:51:05.000000000",
          "2024-12-11T22:05:25.000000000",
          "2024-12-13T02:03:23.000000000",
          "2024-12-13T10:32:47.000000000",
          "2024-12-14T13:00:47.000000000",
          "2024-12-15T01:16:30.000000000"
         ],
         "hovertemplate": "ID: respondent_3<br>DateTime: %{customdata}<br>hour: %{x:.2f}<br>Score: %{y:.2f}<br>Pearson r: -0.530<br>Spearman r: -0.342<br>Kendall τ: -0.195<br>DCOR: 0.573",
         "legendgroup": "respondent_3",
         "marker": {
          "color": "#0000FF",
          "opacity": 0.8,
          "size": 8
         },
         "mode": "markers",
         "name": "ID: respondent_3",
         "showlegend": false,
         "type": "scatter",
         "x": {
          "bdata": "Cg8WGgoNGQ==",
          "dtype": "i1"
         },
         "xaxis": "x2",
         "y": {
          "bdata": "UvjG156Z/j+kcNi2KLP6P8ZQTrSrEPs/HyUjZ2HP+D/hehghPFr4Px/lNXaJavo/4TrNO07R9j8=",
          "dtype": "f8"
         },
         "yaxis": "y2"
        },
        {
         "hovertemplate": "ID: respondent_3<br>Pearson r: -0.530<br>Spearman r: -0.342<br>Kendall τ: -0.195<br>DCOR: 0.573",
         "legendgroup": "respondent_3",
         "line": {
          "color": "#0000FF",
          "dash": "dash",
          "width": 2
         },
         "mode": "lines",
         "name": "Trend respondent_3",
         "showlegend": false,
         "type": "scatter",
         "x": {
          "bdata": "AAAAAAAAJED9SoFav1IkQPuVArV+pSRA+OCDDz74JED2KwVq/UolQPN2hsS8nSVA8MEHH3zwJUDuDIl5O0MmQOtXCtT6lSZA6aKLLrroJkDm7QyJeTsnQOQ4juM4jidA4YMPPvjgJ0DezpCYtzMoQNwZEvN2hihA2WSTTTbZKEDXrxSo9SspQNT6lQK1filA0kUXXXTRKUDPkJi3MyQqQMzbGRLzdipAyiabbLLJKkDHcRzHcRwrQMW8nSExbytAwgcffPDBK0DAUqDWrxQsQL2dITFvZyxAuuiiiy66LEC4MyTm7QwtQLV+pUCtXy1Asskmm2yyLUCwFKj1KwUuQK5fKVDrVy5Aq6qqqqqqLkCo9SsFav0uQKZArV8pUC9Ao4suuuiiL0Cg1q8UqPUvQM+QmLczJDBATjbZZJNNMEDM2xkS83YwQEuBWr9SoDBAyiabbLLJMEBIzNsZEvMwQMdxHMdxHDFARhdddNFFMUDFvJ0hMW8xQERi3s6QmDFAwgcffPDBMUBBrV8pUOsxQMBSoNavFDJAPvjggw8+MkC9nSExb2cyQDxDYt7OkDJAuuiiiy66MkA5juM4juMyQLgzJObtDDNANtlkk002M0C1fqVArV8zQDQk5u0MiTNAsskmm2yyM0Ayb2dIzNszQLAUqPUrBTRAL7rooosuNECuXylQ61c0QCwFav1KgTRAq6qqqqqqNEAqUOtXCtQ0QKj1KwVq/TRAJ5tssskmNUCmQK1fKVA1QCTm7QyJeTVAo4suuuiiNUAiMW9nSMw1QKDWrxSo9TVAIHzwwQcfNkCeITFvZ0g2QBzHcRzHcTZAnGyyySabNkAaEvN2hsQ2QJm3MyTm7TZAGF100UUXN0CWArV+pUA3QBWo9SsFajdAlE022WSTN0AS83aGxLw3QJGYtzMk5jdAED744IMPOECO4ziO4zg4QA6JeTtDYjhAjC666KKLOEAK1PqVArU4QIp5O0Ni3jhACB988MEHOUCHxLydITE5QAZq/UqBWjlAhA8++OCDOUADtX6lQK05QIJav1Kg1jlAAAAAAAAAOkA=",
          "dtype": "f8"
         },
         "xaxis": "x2",
         "y": {
          "bdata": "f3l9qmV/+z/aRcKRgnf7PzUSB3mfb/s/kd5LYLxn+z/sqpBH2V/7P0d31S72V/s/o0MaFhNQ+z/+D1/9L0j7P1nco+RMQPs/tKjoy2k4+z8QdS2zhjD7P2tBcpqjKPs/xg23gcAg+z8i2vto3Rj7P32mQFD6EPs/2HKFNxcJ+z80P8oeNAH7P48LDwZR+fo/6tdT7W3x+j9FpJjUiun6P6Fw3bun4fo//Dwio8TZ+j9XCWeK4dH6P7LVq3H+yfo/DqLwWBvC+j9pbjVAOLr6P8Q6eidVsvo/IAe/DnKq+j970wP2jqL6P9afSN2rmvo/MmyNxMiS+j+NONKr5Yr6P+gEF5MCg/o/RNFbeh97+j+fnaBhPHP6P/pp5UhZa/o/VTYqMHZj+j+xAm8Xk1v6PwzPs/6vU/o/Z5v45cxL+j/DZz3N6UP6Px40grQGPPo/eQDHmyM0+j/UzAuDQCz6PzCZUGpdJPo/i2WVUXoc+j/mMdo4lxT6P0L+HiC0DPo/ncpjB9EE+j/4lqju7fz5P1Nj7dUK9fk/ry8yvSft+T8K/HakROX5P2XIu4th3fk/wZQAc37V+T8cYUVam835P3ctikG4xfk/0/nOKNW9+T8uxhMQ8rX5P4mSWPcOrvk/5F6d3ium+T9AK+LFSJ75P5v3Jq1llvk/9sNrlIKO+T9SkLB7n4b5P61c9WK8fvk/CCk6Stl2+T9j9X4x9m75P7/BwxgTZ/k/Go4IADBf+T91Wk3nTFf5P9Emks5pT/k/LPPWtYZH+T+Hvxudoz/5P+OLYITAN/k/Plila90v+T+ZJOpS+if5P/TwLjoXIPk/UL1zITQY+T+ribgIURD5PwZW/e9tCPk/YiJC14oA+T+97oa+p/j4Pxi7y6XE8Pg/dIcQjeHo+D/PU1V0/uD4Pyogmlsb2fg/hezeQjjR+D/huCMqVcn4PzyFaBFywfg/l1Gt+I65+D/zHfLfq7H4P07qNsfIqfg/qbZ7ruWh+D8Eg8CVApr4P2BPBX0fkvg/uxtKZDyK+D8W6I5LWYL4P3K00zJ2evg/zYAYGpNy+D8=",
          "dtype": "f8"
         },
         "yaxis": "y2"
        },
        {
         "customdata": [
          "2024-12-12T12:56:06.000000000",
          "2024-12-12T22:33:31.000000000",
          "2024-12-13T11:40:45.000000000",
          "2024-12-14T01:05:55.000000000",
          "2024-12-14T12:11:29.000000000",
          "2024-12-15T01:29:44.000000000",
          "2024-12-15T13:04:17.000000000",
          "2024-12-15T18:28:17.000000000",
          "2024-12-16T06:52:53.000000000",
          "2024-12-16T23:57:21.000000000",
          "2024-12-17T09:58:55.000000000",
          "2024-12-18T00:18:36.000000000",
          "2024-12-18T09:33:39.000000000",
          "2024-12-24T08:34:30.000000000",
          "2024-12-24T22:24:22.000000000",
          "2025-01-16T10:26:25.000000000",
          "2025-01-20T08:42:15.000000000",
          "2025-01-20T22:38:18.000000000",
          "2025-01-21T11:34:02.000000000"
         ],
         "hovertemplate": "ID: respondent_4<br>DateTime: %{customdata}<br>hour: %{x:.2f}<br>Score: %{y:.2f}<br>Pearson r: -0.250<br>Spearman r: -0.313<br>Kendall τ: -0.222<br>DCOR: 0.313",
         "legendgroup": "respondent_4",
         "marker": {
          "color": "#FF00FF",
          "opacity": 0.8,
          "size": 8
         },
         "mode": "markers",
         "name": "ID: respondent_4",
         "showlegend": false,
         "type": "scatter",
         "x": {
          "bdata": "DBYLGQwZDRIGFwkYCQgWCggWCw==",
          "dtype": "i1"
         },
         "xaxis": "x2",
         "y": {
          "bdata": "KVwJFocz9z89Cty6m6f4P67HEg8oW/c/9qit2F82+D9SeI4B2Wv4P+xRGqN1VPc/Zma0jqqm+D+F677xtef3P9ejpfJ2BPk/pPCOU3Sk9z8fBRRcrGj4P1L2XRH8b/g/Pcr9DkWB9z/heqJAn4j4P1K4qWVr/fc/hesZNPSP+D8UrgvqW6b4P65HT3XIzfY/cT2U9gbf9j8=",
          "dtype": "f8"
         },
         "yaxis": "y2"
        },
        {
         "hovertemplate": "ID: respondent_4<br>Pearson r: -0.250<br>Spearman r: -0.313<br>Kendall τ: -0.222<br>DCOR: 0.313",
         "legendgroup": "respondent_4",
         "line": {
          "color": "#FF00FF",
          "dash": "dash",
          "width": 2
         },
         "mode": "lines",
         "name": "Trend respondent_4",
         "showlegend": false,
         "type": "scatter",
         "x": {
          "bdata": "AAAAAAAAGEAaEvN2hsQYQDQk5u0MiRlATjbZZJNNGkBnSMzbGRIbQIFav1Kg1htAm2yyySabHEC1fqVArV8dQM+QmLczJB5A6KKLLrroHkACtX6lQK0fQI7jOI7jOCBAm2yyySabIECo9SsFav0gQLV+pUCtXyFAwgcffPDBIUDPkJi3MyQiQNwZEvN2hiJA6KKLLrroIkD2KwVq/UojQAK1fqVArSNAED744IMPJEAcx3Ecx3EkQClQ61cK1CRANtlkk002JUBDYt7OkJglQFDrVwrU+iVAXXTRRRddJkBq/UqBWr8mQHaGxLydISdAhA8++OCDJ0CQmLczJOYnQJ4hMW9nSChAqqqqqqqqKEC4MyTm7QwpQMS8nSExbylA0UUXXXTRKUDezpCYtzMqQOtXCtT6lSpA+OCDDz74KkAFav1KgVorQBLzdobEvCtAH3zwwQcfLEAsBWr9SoEsQDmO4ziO4yxARRdddNFFLUBSoNavFKgtQF8pUOtXCi5AbLLJJptsLkB5O0Ni3s4uQIbEvJ0hMS9Ak0022WSTL0Cg1q8UqPUvQNavFKj1KzBAXXTRRRddMEDkOI7jOI4wQGr9SoFavzBA8MEHH3zwMEB2hsS8nSExQP1KgVq/UjFAhA8++OCDMUAK1PqVArUxQJCYtzMk5jFAF1100UUXMkCeITFvZ0gyQCTm7QyJeTJAqqqqqqqqMkAxb2dIzNsyQLgzJObtDDNAPvjggw8+M0DEvJ0hMW8zQEqBWr9SoDNA0UUXXXTRM0BYCtT6lQI0QN7OkJi3MzRAZJNNNtlkNEDrVwrU+pU0QHIcx3EcxzRA+OCDDz74NEB+pUCtXyk1QAVq/UqBWjVAjC666KKLNUAS83aGxLw1QJi3MyTm7TVAH3zwwQcfNkClQK1fKVA2QCwFav1KgTZAsskmm2yyNkA5juM4juM2QL9SoNavFDdARRdddNFFN0DM2xkS83Y3QFKg1q8UqDdA2WSTTTbZN0BfKVDrVwo4QObtDIl5OzhAbLLJJptsOEDzdobEvJ04QHk7Q2LezjhAAAAAAAAAOUA=",
          "dtype": "f8"
         },
         "xaxis": "x2",
         "y": {
          "bdata": "v8EhEqs8+D/VSiBHdDv4P+zTHnw9Ovg/A10dsQY5+D8Z5hvmzzf4PzBvGhuZNvg/R/gYUGI1+D9egReFKzT4P3QKFrr0Mvg/i5MU770x+D+iHBMkhzD4P7mlEVlQL/g/zy4Qjhku+D/mtw7D4iz4P/1ADfirK/g/FMoLLXUq+D8qUwpiPin4P0HcCJcHKPg/WGUHzNAm+D9v7gUBmiX4P4V3BDZjJPg/nAADaywj+D+ziQGg9SH4P8oSANW+IPg/4Jv+CYgf+D/3JP0+UR74Pw6u+3MaHfg/JTf6qOMb+D87wPjdrBr4P1JJ9xJ2Gfg/adL1Rz8Y+D+AW/R8CBf4P5bk8rHRFfg/rW3x5poU+D/E9u8bZBP4P9t/7lAtEvg/8QjthfYQ+D8Ikuu6vw/4Px8b6u+IDvg/NqToJFIN+D9MLedZGwz4P2O25Y7kCvg/ej/kw60J+D+RyOL4dgj4P6dR4S1AB/g/vtrfYgkG+D/VY96X0gT4P+zs3MybA/g/AnbbAWUC+D8Z/9k2LgH4PzCI2Gv3//c/RxHXoMD+9z9dmtXVif33P3Qj1ApT/Pc/i6zSPxz79z+hNdF05fn3P7i+z6mu+Pc/z0fO3nf39z/m0MwTQfb3P/xZy0gK9fc/E+PJfdPz9z8qbMiynPL3P0H1xudl8fc/V37FHC/w9z9uB8RR+O73P4WQwobB7fc/nBnBu4rs9z+yor/wU+v3P8krviUd6vc/4LS8Wubo9z/3PbuPr+f3Pw3HucR45vc/JFC4+UHl9z872bYuC+T3P1JitWPU4vc/aOuzmJ3h9z9/dLLNZuD3P5b9sAIw3/c/rYavN/nd9z/DD65swtz3P9qYrKGL2/c/8SGr1lTa9z8Iq6kLHtn3Px40qEDn1/c/Nb2mdbDW9z9MRqWqedX3P2PPo99C1Pc/eViiFAzT9z+Q4aBJ1dH3P6dqn36e0Pc/vvOds2fP9z/UfJzoMM73P+sFmx36zPc/Ao+ZUsPL9z8ZGJiHjMr3Py+hlrxVyfc/RiqV8R7I9z9ds5Mm6Mb3P3Q8kluxxfc/isWQkHrE9z8=",
          "dtype": "f8"
         },
         "yaxis": "y2"
        },
        {
         "customdata": [
          "2024-12-11T17:20:52.000000000",
          "2024-12-12T13:14:12.000000000",
          "2024-12-12T21:07:06.000000000",
          "2024-12-13T08:20:01.000000000",
          "2024-12-13T20:13:02.000000000",
          "2024-12-14T11:56:28.000000000",
          "2024-12-14T20:53:06.000000000",
          "2024-12-15T12:06:37.000000000",
          "2024-12-15T22:12:43.000000000"
         ],
         "hovertemplate": "ID: respondent_1<br>DateTime: %{customdata}<br>weekday_num: %{x:.2f}<br>Score: %{y:.2f}<br>Pearson r: -0.802<br>Spearman r: -0.814<br>Kendall τ: -0.648<br>DCOR: 0.821",
         "legendgroup": "respondent_1",
         "marker": {
          "color": "#FF0000",
          "opacity": 0.8,
          "size": 8
         },
         "mode": "markers",
         "name": "ID: respondent_1",
         "showlegend": false,
         "type": "scatter",
         "x": {
          "bdata": "AgAAAAMAAAADAAAABAAAAAQAAAAFAAAABQAAAAYAAAAGAAAA",
          "dtype": "i4"
         },
         "xaxis": "x3",
         "y": {
          "bdata": "AAC0yHa++j8AAFxkO9/2PwAA3CQGgfY/AABEtvP99j8AgG4Sg8D1PwCAke18P/U/AADXo3A99D8AALTIdr71PwAAcBKDwPQ/",
          "dtype": "f8"
         },
         "yaxis": "y3"
        },
        {
         "hovertemplate": "ID: respondent_1<br>Pearson r: -0.802<br>Spearman r: -0.814<br>Kendall τ: -0.648<br>DCOR: 0.821",
         "legendgroup": "respondent_1",
         "line": {
          "color": "#FF0000",
          "dash": "dash",
          "width": 2
         },
         "mode": "lines",
         "name": "Trend respondent_1",
         "showlegend": false,
         "type": "scatter",
         "x": {
          "bdata": "AAAAAAAAAED9SoFav1IAQPuVArV+pQBA+OCDDz74AED2KwVq/UoBQPN2hsS8nQFA8MEHH3zwAUDuDIl5O0MCQOtXCtT6lQJA6aKLLrroAkDm7QyJeTsDQOQ4juM4jgNA4YMPPvjgA0DezpCYtzMEQNwZEvN2hgRA2WSTTTbZBEDXrxSo9SsFQNT6lQK1fgVA0kUXXXTRBUDPkJi3MyQGQMzbGRLzdgZAyiabbLLJBkDHcRzHcRwHQMW8nSExbwdAwgcffPDBB0DAUqDWrxQIQL2dITFvZwhAuuiiiy66CEC4MyTm7QwJQLV+pUCtXwlAsskmm2yyCUCwFKj1KwUKQK5fKVDrVwpAq6qqqqqqCkCo9SsFav0KQKZArV8pUAtAo4suuuiiC0Cg1q8UqPULQJ4hMW9nSAxAnGyyySabDECZtzMk5u0MQJYCtX6lQA1AlE022WSTDUCRmLczJOYNQI7jOI7jOA5AjC666KKLDkCKeTtDYt4OQIfEvJ0hMQ9AhA8++OCDD0CCWr9SoNYPQMBSoNavFBBAPvjggw8+EEC9nSExb2cQQDxDYt7OkBBAuuiiiy66EEA5juM4juMQQLgzJObtDBFANtlkk002EUC1fqVArV8RQDQk5u0MiRFAsskmm2yyEUAyb2dIzNsRQLAUqPUrBRJAL7rooosuEkCuXylQ61cSQCwFav1KgRJAq6qqqqqqEkAqUOtXCtQSQKj1KwVq/RJAJ5tssskmE0CmQK1fKVATQCTm7QyJeRNAo4suuuiiE0AiMW9nSMwTQKDWrxSo9RNAIHzwwQcfFECeITFvZ0gUQBzHcRzHcRRAnGyyySabFEAaEvN2hsQUQJm3MyTm7RRAGF100UUXFUCWArV+pUAVQBWo9SsFahVAlE022WSTFUAS83aGxLwVQJGYtzMk5hVAED744IMPFkCO4ziO4zgWQA6JeTtDYhZAjC666KKLFkAK1PqVArUWQIp5O0Ni3hZACB988MEHF0CHxLydITEXQAZq/UqBWhdAhA8++OCDF0ADtX6lQK0XQIJav1Kg1hdAAAAAAAAAGEA=",
          "dtype": "f8"
         },
         "xaxis": "x3",
         "y": {
          "bdata": "SRKWele/+D9mH3vOBrT4P4MsYCK2qPg/oDlFdmWd+D++RirKFJL4P9tTDx7Ehvg/+GD0cXN7+D8VbtnFInD4PzJ7vhnSZPg/T4ijbYFZ+D9tlYjBME74P4qibRXgQvg/p69SaY83+D/EvDe9Piz4P+HJHBHuIPg//9YBZZ0V+D8c5Oa4TAr4Pznxywz8/vc/Vv6wYKvz9z9zC5a0Wuj3P5AYewgK3fc/riVgXLnR9z/LMkWwaMb3P+g/KgQYu/c/BU0PWMev9z8iWvSrdqT3P0Bn2f8lmfc/XXS+U9WN9z96gaOnhIL3P5eOiPszd/c/tJttT+Nr9z/SqFKjkmD3P++1N/dBVfc/DMMcS/FJ9z8p0AGfoD73P0bd5vJPM/c/ZOrLRv8n9z+B97Carhz3P54Elu5dEfc/uxF7Qg0G9z/YHmCWvPr2P/YrRepr7/Y/EjkqPhvk9j8wRg+Sytj2P01T9OV5zfY/amDZOSnC9j+Hbb6N2Lb2P6R6o+GHq/Y/woeINTeg9j/flG2J5pT2P/yhUt2VifY/Ga83MUV+9j82vByF9HL2P1TJAdmjZ/Y/cdbmLFNc9j+O48uAAlH2P6vwsNSxRfY/yP2VKGE69j/mCnt8EC/2PwMYYNC/I/Y/ICVFJG8Y9j89Mip4Hg32P1o/D8zNAfY/eEz0H3329T+UWdlzLOv1P7Jmvsfb3/U/z3OjG4vU9T/sgIhvOsn1PwqObcPpvfU/JptSF5my9T9EqDdrSKf1P2G1HL/3m/U/fsIBE6eQ9T+bz+ZmVoX1P7ncy7oFevU/1umwDrVu9T/z9pViZGP1PxAEe7YTWPU/LRFgCsNM9T9KHkVeckH1P2grKrIhNvU/hTgPBtEq9T+iRfRZgB/1P79S2a0vFPU/3F++Ad8I9T/6bKNVjv30Pxd6iKk98vQ/NIdt/ezm9D9RlFJRnNv0P26hN6VL0PQ/jK4c+frE9D+puwFNqrn0P8bI5qBZrvQ/49XL9Aij9D8A47BIuJf0Px3wlZxnjPQ/O/168BaB9D9YCmBExnX0P3UXRZh1avQ/kiQq7CRf9D8=",
          "dtype": "f8"
         },
         "yaxis": "y3"
        },
        {
         "customdata": [
          "2024-12-11T16:09:52.000000000",
          "2024-12-12T19:57:16.000000000"
         ],
         "hovertemplate": "ID: respondent_2<br>DateTime: %{customdata}<br>weekday_num: %{x:.2f}<br>Score: %{y:.2f}<br>Pearson r: -1.000<br>Spearman r: -1.000<br>Kendall τ: -1.000<br>DCOR: 1.000",
         "legendgroup": "respondent_2",
         "marker": {
          "color": "#00FF00",
          "opacity": 0.8,
          "size": 8
         },
         "mode": "markers",
         "name": "ID: respondent_2",
         "showlegend": false,
         "type": "scatter",
         "x": {
          "bdata": "AgAAAAMAAAA=",
          "dtype": "i4"
         },
         "xaxis": "x3",
         "y": {
          "bdata": "AMB46SaxBEAAAMl2vp//Pw==",
          "dtype": "f8"
         },
         "yaxis": "y3"
        },
        {
         "hovertemplate": "ID: respondent_2<br>Pearson r: -1.000<br>Spearman r: -1.000<br>Kendall τ: -1.000<br>DCOR: 1.000",
         "legendgroup": "respondent_2",
         "line": {
          "color": "#00FF00",
          "dash": "dash",
          "width": 2
         },
         "mode": "lines",
         "name": "Trend respondent_2",
         "showlegend": false,
         "type": "scatter",
         "x": {
          "bdata": "AAAAAAAAAEC/UqDWrxQAQH+lQK1fKQBAPvjggw8+AED9SoFav1IAQL2dITFvZwBAfPDBBx98AEA8Q2LezpAAQPuVArV+pQBAuuiiiy66AEB6O0Ni3s4AQDmO4ziO4wBA+OCDDz74AEC4MyTm7QwBQHeGxLydIQFANtlkk002AUD2KwVq/UoBQLV+pUCtXwFAdNFFF110AUA0JObtDIkBQPN2hsS8nQFAsskmm2yyAUByHMdxHMcBQDFvZ0jM2wFA8MEHH3zwAUCwFKj1KwUCQG9nSMzbGQJAL7rooosuAkDuDIl5O0MCQK1fKVDrVwJAbbLJJptsAkAsBWr9SoECQOtXCtT6lQJAq6qqqqqqAkBq/UqBWr8CQCpQ61cK1AJA6aKLLrroAkCo9SsFav0CQGhIzNsZEgNAJ5tssskmA0Dm7QyJeTsDQKZArV8pUANAZZNNNtlkA0Ak5u0MiXkDQOQ4juM4jgNAo4suuuiiA0Bi3s6QmLcDQCIxb2dIzANA4YMPPvjgA0Cg1q8UqPUDQGApUOtXCgRAH3zwwQcfBEDezpCYtzMEQJ4hMW9nSARAXXTRRRddBEAcx3Ecx3EEQNwZEvN2hgRAm2yyySabBEBav1Kg1q8EQBoS83aGxARA2WSTTTbZBECZtzMk5u0EQFgK1PqVAgVAGF100UUXBUDXrxSo9SsFQJYCtX6lQAVAVlVVVVVVBUAVqPUrBWoFQNT6lQK1fgVAlE022WSTBUBToNavFKgFQBLzdobEvAVA0kUXXXTRBUCRmLczJOYFQFDrVwrU+gVAED744IMPBkDPkJi3MyQGQI7jOI7jOAZATjbZZJNNBkANiXk7Q2IGQMzbGRLzdgZAjC666KKLBkBLgVq/UqAGQArU+pUCtQZAyiabbLLJBkCJeTtDYt4GQEjM2xkS8wZACB988MEHB0DHcRzHcRwHQIfEvJ0hMQdARhdddNFFB0AFav1KgVoHQMW8nSExbwdAhA8++OCDB0BEYt7OkJgHQAO1fqVArQdAwgcffPDBB0CCWr9SoNYHQEGtXylQ6wdAAAAAAAAACEA=",
          "dtype": "f8"
         },
         "xaxis": "x3",
         "y": {
          "bdata": "AMB46SaxBEDig1lziKQEQMJHOv3plwRApAsbh0uLBECEz/sQrX4EQGWT3JoOcgRARle9JHBlBEAnG56u0VgEQAjffjgzTARA6qJfwpQ/BEDKZkBM9jIEQKsqIdZXJgRAjO4BYLkZBEBtsuLpGg0EQE52w3N8AARAMDqk/d3zA0AQ/oSHP+cDQPHBZRGh2gNA0oVGmwLOA0CzSSclZMEDQJQNCK/FtANAddHoOCeoA0BWlcnCiJsDQDdZqkzqjgNAGB2L1kuCA0D44GtgrXUDQNqkTOoOaQNAumgtdHBcA0CcLA7+0U8DQH3w7oczQwNAXrTPEZU2A0A+eLCb9ikDQCA8kSVYHQNAAAByr7kQA0Diw1I5GwQDQMKHM8N89wJApEsUTd7qAkCED/XWP94CQGXT1WCh0QJARpe26gLFAkAoW5d0ZLgCQAgfeP7FqwJA6eJYiCefAkDKpjkSiZICQKtqGpzqhQJAjC77JUx5AkBu8tuvrWwCQE62vDkPYAJAL3qdw3BTAkAQPn5N0kYCQPEBX9czOgJA0sU/YZUtAkC0iSDr9iACQJRNAXVYFAJAdRHi/rkHAkBW1cKIG/sBQDeZoxJ97gFAGF2EnN7hAUD5IGUmQNUBQNrkRbChyAFAu6gmOgO8AUCcbAfEZK8BQHww6E3GogFAXvTI1yeWAUA+uKlhiYkBQCB8iuvqfAFAAEBrdUxwAUDiA0z/rWMBQMLHLIkPVwFAo4sNE3FKAUCET+6c0j0BQGYTzyY0MQFARtevsJUkAUAom5A69xcBQAhfccRYCwFA6SJSTrr+AEDK5jLYG/IAQKyqE2J95QBAjG70697YAEBuMtV1QMwAQE72tf+hvwBAL7qWiQOzAEAQfncTZaYAQPJBWJ3GmQBA0gU5JyiNAECzyRmxiYAAQJSN+jrrcwBAdVHbxExnAEBWFbxOrloAQDbZnNgPTgBAGJ19YnFBAED5YF7s0jQAQNokP3Y0KABAu+gfAJYbAECcrACK9w4AQHxw4RNZAgBAvGiEO3Xr/z998EVPONL/Pz94B2P7uP8/AgDJdr6f/z8=",
          "dtype": "f8"
         },
         "yaxis": "y3"
        },
        {
         "customdata": [
          "2024-12-11T10:55:16.000000000",
          "2024-12-11T15:51:05.000000000",
          "2024-12-11T22:05:25.000000000",
          "2024-12-13T02:03:23.000000000",
          "2024-12-13T10:32:47.000000000",
          "2024-12-14T13:00:47.000000000",
          "2024-12-15T01:16:30.000000000"
         ],
         "hovertemplate": "ID: respondent_3<br>DateTime: %{customdata}<br>weekday_num: %{x:.2f}<br>Score: %{y:.2f}<br>Pearson r: -0.694<br>Spearman r: -0.692<br>Kendall τ: -0.582<br>DCOR: 0.696",
         "legendgroup": "respondent_3",
         "marker": {
          "color": "#0000FF",
          "opacity": 0.8,
          "size": 8
         },
         "mode": "markers",
         "name": "ID: respondent_3",
         "showlegend": false,
         "type": "scatter",
         "x": {
          "bdata": "AgAAAAIAAAACAAAABAAAAAQAAAAFAAAABgAAAA==",
          "dtype": "i4"
         },
         "xaxis": "x3",
         "y": {
          "bdata": "AADeJAaB+z8AAEw3iUH4P4DQItv5fvg/AIAi2/l+9z8AAEw3iUH2PwCAItv5fvg/AAAi2/l+9T8=",
          "dtype": "f8"
         },
         "yaxis": "y3"
        },
        {
         "hovertemplate": "ID: respondent_3<br>Pearson r: -0.694<br>Spearman r: -0.692<br>Kendall τ: -0.582<br>DCOR: 0.696",
         "legendgroup": "respondent_3",
         "line": {
          "color": "#0000FF",
          "dash": "dash",
          "width": 2
         },
         "mode": "lines",
         "name": "Trend respondent_3",
         "showlegend": false,
         "type": "scatter",
         "x": {
          "bdata": "AAAAAAAAAED9SoFav1IAQPuVArV+pQBA+OCDDz74AED2KwVq/UoBQPN2hsS8nQFA8MEHH3zwAUDuDIl5O0MCQOtXCtT6lQJA6aKLLrroAkDm7QyJeTsDQOQ4juM4jgNA4YMPPvjgA0DezpCYtzMEQNwZEvN2hgRA2WSTTTbZBEDXrxSo9SsFQNT6lQK1fgVA0kUXXXTRBUDPkJi3MyQGQMzbGRLzdgZAyiabbLLJBkDHcRzHcRwHQMW8nSExbwdAwgcffPDBB0DAUqDWrxQIQL2dITFvZwhAuuiiiy66CEC4MyTm7QwJQLV+pUCtXwlAsskmm2yyCUCwFKj1KwUKQK5fKVDrVwpAq6qqqqqqCkCo9SsFav0KQKZArV8pUAtAo4suuuiiC0Cg1q8UqPULQJ4hMW9nSAxAnGyyySabDECZtzMk5u0MQJYCtX6lQA1AlE022WSTDUCRmLczJOYNQI7jOI7jOA5AjC666KKLDkCKeTtDYt4OQIfEvJ0hMQ9AhA8++OCDD0CCWr9SoNYPQMBSoNavFBBAPvjggw8+EEC9nSExb2cQQDxDYt7OkBBAuuiiiy66EEA5juM4juMQQLgzJObtDBFANtlkk002EUC1fqVArV8RQDQk5u0MiRFAsskmm2yyEUAyb2dIzNsRQLAUqPUrBRJAL7rooosuEkCuXylQ61cSQCwFav1KgRJAq6qqqqqqEkAqUOtXCtQSQKj1KwVq/RJAJ5tssskmE0CmQK1fKVATQCTm7QyJeRNAo4suuuiiE0AiMW9nSMwTQKDWrxSo9RNAIHzwwQcfFECeITFvZ0gUQBzHcRzHcRRAnGyyySabFEAaEvN2hsQUQJm3MyTm7RRAGF100UUXFUCWArV+pUAVQBWo9SsFahVAlE022WSTFUAS83aGxLwVQJGYtzMk5hVAED744IMPFkCO4ziO4zgWQA6JeTtDYhZAjC666KKLFkAK1PqVArUWQIp5O0Ni3hZACB988MEHF0CHxLydITEXQAZq/UqBWhdAhA8++OCDF0ADtX6lQK0XQIJav1Kg1hdAAAAAAAAAGEA=",
          "dtype": "f8"
         },
         "xaxis": "x3",
         "y": {
          "bdata": "wLEeFmpN+T8H1LB910T5P072QuVEPPk/lRjVTLIz+T/dOme0Hyv5PyRd+RuNIvk/a3+Lg/oZ+T+yoR3rZxH5P/rDr1LVCPk/QeZBukIA+T+ICNQhsPf4P88qZokd7/g/Fk348Irm+D9eb4pY+N34P6WRHMBl1fg/7LOuJ9PM+D8z1kCPQMT4P3v40vatu/g/whplXhuz+D8JPffFiKr4P1BfiS32ofg/mIEblWOZ+D/fo6380JD4PybGP2Q+iPg/bejRy6t/+D+0CmQzGXf4P/ws9pqGbvg/Q0+IAvRl+D+KcRpqYV34P9GTrNHOVPg/GbY+OTxM+D9g2NCgqUP4P6f6YggXO/g/7hz1b4Qy+D82P4fX8Sn4P31hGT9fIfg/xIOrpswY+D8Lpj0OOhD4P1LIz3WnB/g/muph3RT/9z/hDPREgvb3Pygvhqzv7fc/b1EYFF3l9z+2c6p7ytz3P/6VPOM31Pc/RbjOSqXL9z+M2mCyEsP3P9P88hmAuvc/Gx+Fge2x9z9iQRfpWqn3P6ljqVDIoPc/8IU7uDWY9z84qM0fo4/3P3/KX4cQh/c/xuzx7n1+9z8ND4RW63X3P1QxFr5Ybfc/nFOoJcZk9z/jdTqNM1z3PyqYzPSgU/c/crpeXA5L9z+43PDDe0L3PwD/givpOfc/RyEVk1Yx9z+OQ6f6wyj3P9ZlOWIxIPc/HYjLyZ4X9z9kql0xDA/3P6vM75h5Bvc/8u6BAOf99j86ERRoVPX2P4Ezps/B7PY/yFU4Ny/k9j8PeMqenNv2P1eaXAYK0/Y/nrzubXfK9j/l3oDV5MH2PywBEz1SufY/cyOlpL+w9j+7RTcMLaj2PwJoyXOan/Y/SYpb2weX9j+QrO1CdY72P9jOf6rihfY/H/ERElB99j9mE6R5vXT2P601NuEqbPY/9FfISJhj9j88elqwBVv2P4Oc7BdzUvY/yr5+f+BJ9j8S4RDnTUH2P1gDo067OPY/oCU1tigw9j/nR8cdlif2Py5qWYUDH/Y/dozr7HAW9j+9rn1U3g32PwTRD7xLBfY/S/OhI7n89T8=",
          "dtype": "f8"
         },
         "yaxis": "y3"
        },
        {
         "customdata": [
          "2024-12-12T12:56:06.000000000",
          "2024-12-12T22:33:31.000000000",
          "2024-12-13T11:40:45.000000000",
          "2024-12-14T01:05:55.000000000",
          "2024-12-14T12:11:29.000000000",
          "2024-12-15T01:29:44.000000000",
          "2024-12-15T13:04:17.000000000",
          "2024-12-15T18:28:17.000000000",
          "2024-12-16T06:52:53.000000000",
          "2024-12-16T23:57:21.000000000",
          "2024-12-17T09:58:55.000000000",
          "2024-12-18T00:18:36.000000000",
          "2024-12-18T09:33:39.000000000",
          "2024-12-24T08:34:30.000000000",
          "2024-12-24T22:24:22.000000000",
          "2025-01-16T10:26:25.000000000",
          "2025-01-20T08:42:15.000000000",
          "2025-01-20T22:38:18.000000000",
          "2025-01-21T11:34:02.000000000"
         ],
         "hovertemplate": "ID: respondent_4<br>DateTime: %{customdata}<br>weekday_num: %{x:.2f}<br>Score: %{y:.2f}<br>Pearson r: -0.150<br>Spearman r: -0.194<br>Kendall τ: -0.150<br>DCOR: 0.385",
         "legendgroup": "respondent_4",
         "marker": {
          "color": "#FF00FF",
          "opacity": 0.8,
          "size": 8
         },
         "mode": "markers",
         "name": "ID: respondent_4",
         "showlegend": false,
         "type": "scatter",
         "x": {
          "bdata": "AwAAAAMAAAAEAAAABQAAAAUAAAAGAAAABgAAAAYAAAAAAAAAAAAAAAEAAAACAAAAAgAAAAEAAAABAAAAAwAAAAAAAAAAAAAAAQAAAA==",
          "dtype": "i4"
         },
         "xaxis": "x3",
         "y": {
          "bdata": "AABoke189T8AgMh2vp/1PwAA3CQGgfU/AAAj2/l+9T8AACLb+X72PwAAbhKDwPU/AABMN4lB9j8AAHASg8D1PwAAukkMAvc/AAC0yHa+9T8AAHASg8D2PwDASzeJQfY/AADdJAaB9T8AAMh2vp/2PwAAgMDKofY/AAAk2/l+9j8AAMh2vp/2PwAAcBKDwPQ/AACom8Qg9T8=",
          "dtype": "f8"
         },
         "yaxis": "y3"
        },
        {
         "hovertemplate": "ID: respondent_4<br>Pearson r: -0.150<br>Spearman r: -0.194<br>Kendall τ: -0.150<br>DCOR: 0.385",
         "legendgroup": "respondent_4",
         "line": {
          "color": "#FF00FF",
          "dash": "dash",
          "width": 2
         },
         "mode": "lines",
         "name": "Trend respondent_4",
         "showlegend": false,
         "type": "scatter",
         "x": {
          "bdata": "AAAAAAAAAAAIH3zwwQevPwgffPDBB78/RhdddNFFxz8IH3zwwQfPP2WTTTbZZNM/RhdddNFF1z8nm2yyySbbPwgffPDBB98/dNFFF1104T9lk0022WTjP1ZVVVVVVeU/RhdddNFF5z822WSTTTbpPyebbLLJJus/GF100UUX7T8IH3zwwQfvP3zwwQcffPA/dNFFF1108T9tsskmm2zyP2WTTTbZZPM/XXTRRRdd9D9WVVVVVVX1P0422WSTTfY/RhdddNFF9z8++OCDDz74PzbZZJNNNvk/L7rooosu+j8nm2yyySb7Px988MEHH/w/GF100UUX/T8QPvjggw/+PwgffPDBB/8/AAAAAAAAAEB88MEHH3wAQPjggw8++ABAdNFFF110AUDxwQcffPABQG2yySabbAJA6aKLLrroAkBlk0022WQDQOGDDz744ANAXXTRRRddBEDZZJNNNtkEQFZVVVVVVQVA0kUXXXTRBUBONtlkk00GQMomm2yyyQZARhdddNFFB0DCBx988MEHQD744IMPPghAuuiiiy66CEA22WSTTTYJQLPJJptssglAL7rooosuCkCrqqqqqqoKQCebbLLJJgtAo4suuuiiC0AffPDBBx8MQJtssskmmwxAGF100UUXDUCUTTbZZJMNQBA++OCDDw5AjC666KKLDkAIH3zwwQcPQIQPPvjggw9AAAAAAAAAEEA++OCDDz4QQHzwwQcffBBAuuiiiy66EED44IMPPvgQQDbZZJNNNhFAdNFFF110EUCzySabbLIRQPHBBx988BFAL7rooosuEkBtsskmm2wSQKuqqqqqqhJA6aKLLrroEkAnm2yyySYTQGWTTTbZZBNAo4suuuiiE0Dhgw8++OATQB988MEHHxRAXXTRRRddFECbbLLJJpsUQNlkk0022RRAF1100UUXFUBWVVVVVVUVQJRNNtlkkxVA0kUXXXTRFUAQPvjggw8WQE422WSTTRZAjC666KKLFkDKJptssskWQAgffPDBBxdARhdddNFFF0CEDz744IMXQMIHH3zwwRdAAAAAAAAAGEA=",
          "dtype": "f8"
         },
         "xaxis": "x3",
         "y": {
          "bdata": "4+NhwKYa9j8BhQ1W/Rn2Px4muetTGfY/PMdkgaoY9j9aaBAXARj2P3cJvKxXF/Y/lapnQq4W9j+zSxPYBBb2P9Dsvm1bFfY/7o1qA7IU9j8LLxaZCBT2PynQwS5fE/Y/R3FtxLUS9j9kEhlaDBL2P4KzxO9iEfY/oFRwhbkQ9j+99RsbEBD2P9uWx7BmD/Y/+TdzRr0O9j8W2R7cEw72PzR6ynFqDfY/Uht2B8EM9j9vvCGdFwz2P41dzTJuC/Y/qv54yMQK9j/InyReGwr2P+ZA0PNxCfY/A+J7icgI9j8hgycfHwj2Pz8k07R1B/Y/XMV+SswG9j96ZirgIgb2P5gH1nV5BfY/taiBC9AE9j/TSS2hJgT2P/Hq2DZ9A/Y/DoyEzNMC9j8sLTBiKgL2P0nO2/eAAfY/Z2+HjdcA9j+FEDMjLgD2P6Kx3riE//U/wFKKTtv+9T/e8zXkMf71P/uU4XmI/fU/GTaND9/89T831zilNfz1P1R45DqM+/U/chmQ0OL69T+QujtmOfr1P61b5/uP+fU/y/ySkeb49T/pnT4nPfj1PwY/6ryT9/U/JOCVUur29T9BgUHoQPb1P18i7X2X9fU/fcOYE+709T+aZESpRPT1P7gF8D6b8/U/1qab1PHy9T/zR0dqSPL1PxHp8v+e8fU/L4qelfXw9T9MK0orTPD1P2rM9cCi7/U/iG2hVvnu9T+lDk3sT+71P8Ov+IGm7fU/4FCkF/3s9T/+8U+tU+z1PxyT+0Kq6/U/OTSn2ADr9T9X1VJuV+r1P3V2/gOu6fU/kheqmQTp9T+wuFUvW+j1P85ZAcWx5/U/6/qsWgjn9T8JnFjwXub1Pyc9BIa15fU/RN6vGwzl9T9if1uxYuT1P4AgB0e54/U/ncGy3A/j9T+7Yl5yZuL1P9gDCgi94fU/9qS1nRPh9T8URmEzauD1PzHnDMnA3/U/T4i4Xhff9T9tKWT0bd71P4rKD4rE3fU/qGu7Hxvd9T/GDGe1cdz1P+OtEkvI2/U/AU++4B7b9T8f8Gl2ddr1PzyRFQzM2fU/WjLBoSLZ9T8=",
          "dtype": "f8"
         },
         "yaxis": "y3"
        },
        {
         "customdata": [
          "2024-12-11T17:20:52.000000000",
          "2024-12-12T13:14:12.000000000",
          "2024-12-12T21:07:06.000000000",
          "2024-12-13T08:20:01.000000000",
          "2024-12-13T20:13:02.000000000",
          "2024-12-14T11:56:28.000000000",
          "2024-12-14T20:53:06.000000000",
          "2024-12-15T12:06:37.000000000",
          "2024-12-15T22:12:43.000000000"
         ],
         "hovertemplate": "ID: respondent_1<br>DateTime: %{customdata}<br>hour: %{x:.2f}<br>Score: %{y:.2f}<br>Pearson r: -0.181<br>Spearman r: -0.351<br>Kendall τ: -0.197<br>DCOR: 0.462",
         "legendgroup": "respondent_1",
         "marker": {
          "color": "#FF0000",
          "opacity": 0.8,
          "size": 8
         },
         "mode": "markers",
         "name": "ID: respondent_1",
         "showlegend": false,
         "type": "scatter",
         "x": {
          "bdata": "EQ0VCBQLFAwW",
          "dtype": "i1"
         },
         "xaxis": "x4",
         "y": {
          "bdata": "AAC0yHa++j8AAFxkO9/2PwAA3CQGgfY/AABEtvP99j8AgG4Sg8D1PwCAke18P/U/AADXo3A99D8AALTIdr71PwAAcBKDwPQ/",
          "dtype": "f8"
         },
         "yaxis": "y4"
        },
        {
         "hovertemplate": "ID: respondent_1<br>Pearson r: -0.181<br>Spearman r: -0.351<br>Kendall τ: -0.197<br>DCOR: 0.462",
         "legendgroup": "respondent_1",
         "line": {
          "color": "#FF0000",
          "dash": "dash",
          "width": 2
         },
         "mode": "lines",
         "name": "Trend respondent_1",
         "showlegend": false,
         "type": "scatter",
         "x": {
          "bdata": "AAAAAAAAIECeITFvZ0ggQDtDYt7OkCBA2WSTTTbZIEB3hsS8nSEhQBWo9SsFaiFAsskmm2yyIUBQ61cK1PohQO4MiXk7QyJAjC666KKLIkApUOtXCtQiQMdxHMdxHCNAZZNNNtlkI0ACtX6lQK0jQKDWrxSo9SNAPvjggw8+JEDcGRLzdoYkQHo7Q2LeziRAF1100UUXJUC1fqVArV8lQFOg1q8UqCVA8MEHH3zwJUCO4ziO4zgmQCwFav1KgSZAyiabbLLJJkBnSMzbGRInQAVq/UqBWidAo4suuuiiJ0BArV8pUOsnQN7OkJi3MyhAfPDBBx98KEAaEvN2hsQoQLgzJObtDClAVVVVVVVVKUDzdobEvJ0pQJCYtzMk5ilALrrooosuKkDM2xkS83YqQGr9SoFavypACB988MEHK0CmQK1fKVArQENi3s6QmCtA4YMPPvjgK0B+pUCtXyksQBzHcRzHcSxAuuiiiy66LEBYCtT6lQItQPYrBWr9Si1Ak0022WSTLUAxb2dIzNstQM6QmLczJC5AbLLJJptsLkAK1PqVArUuQKj1KwVq/S5ARhdddNFFL0DkOI7jOI4vQIFav1Kg1i9AED744IMPMEDezpCYtzMwQK1fKVDrVzBAfPDBBx98MEBLgVq/UqAwQBoS83aGxDBA6KKLLrroMEC4MyTm7QwxQIbEvJ0hMTFAVVVVVVVVMUAk5u0MiXkxQPN2hsS8nTFAwgcffPDBMUCQmLczJOYxQGApUOtXCjJALrrooosuMkD+SoFav1IyQMzbGRLzdjJAm2yyySabMkBq/UqBWr8yQDmO4ziO4zJACB988MEHM0DWrxSo9SszQKZArV8pUDNAdNFFF110M0BDYt7OkJgzQBLzdobEvDNA4YMPPvjgM0CwFKj1KwU0QH6lQK1fKTRATjbZZJNNNEAcx3Ecx3E0QOtXCtT6lTRAuuiiiy66NECJeTtDYt40QFgK1PqVAjVAJptssskmNUD2KwVq/Uo1QMS8nSExbzVAk0022WSTNUBi3s6QmLc1QDFvZ0jM2zVAAAAAAAAANkA=",
          "dtype": "f8"
         },
         "xaxis": "x4",
         "y": {
          "bdata": "3Y/+nBfb9j/ZK1jBptj2P9XHseU11vY/0WMLCsXT9j/N/2QuVNH2P8mbvlLjzvY/xTcYd3LM9j/B03GbAcr2P71vy7+Qx/Y/uQsl5B/F9j+1p34Ir8L2P7JD2Cw+wPY/rt8xUc299j+qe4t1XLv2P6YX5ZnruPY/orM+vnq29j+eT5jiCbT2P5rr8QaZsfY/lodLKyiv9j+SI6VPt6z2P46//nNGqvY/iltYmNWn9j+G97G8ZKX2P4KTC+HzovY/fi9lBYOg9j96y74pEp72P3ZnGE6hm/Y/cgNycjCZ9j9un8uWv5b2P2o7JbtOlPY/Ztd+392R9j9ic9gDbY/2P14PMij8jPY/WquLTIuK9j9WR+VwGoj2P1LjPpWphfY/Tn+YuTiD9j9KG/Ldx4D2P0a3SwJXfvY/QlOlJuZ79j8+7/5KdXn2PzqLWG8Ed/Y/Nieyk5N09j8ywwu4InL2Py5fZdyxb/Y/Kvu+AEFt9j8mlxgl0Gr2PyIzcklfaPY/Hs/Lbe5l9j8aayWSfWP2PxYHf7YMYfY/EqPY2pte9j8OPzL/Klz2PwrbiyO6WfY/BnflR0lX9j8CEz9s2FT2P/6umJBnUvY/+krytPZP9j/35kvZhU32P/OCpf0US/Y/7x7/IaRI9j/rulhGM0b2P+dWsmrCQ/Y/4/ILj1FB9j/fjmWz4D72P9sqv9dvPPY/18YY/P459j/TYnIgjjf2P8/+y0QdNfY/y5olaawy9j/HNn+NOzD2P8PS2LHKLfY/v24y1lkr9j+7Coz66Cj2P7em5R54JvY/s0I/Qwck9j+v3phnliH2P6t68oslH/Y/pxZMsLQc9j+jsqXUQxr2P59O//jSF/Y/m+pYHWIV9j+XhrJB8RL2P5MiDGaAEPY/j75lig8O9j+LWr+ungv2P4f2GNMtCfY/g5Jy97wG9j9/LswbTAT2P3vKJUDbAfY/d2Z/ZGr/9T9zAtmI+fz1P2+eMq2I+vU/azqM0Rf49T9n1uX1pvX1P2NyPxo28/U/Xw6ZPsXw9T9bqvJiVO71P1dGTIfj6/U/U+Klq3Lp9T8=",
          "dtype": "f8"
         },
         "yaxis": "y4"
        },
        {
         "customdata": [
          "2024-12-11T16:09:52.000000000",
          "2024-12-12T19:57:16.000000000"
         ],
         "hovertemplate": "ID: respondent_2<br>DateTime: %{customdata}<br>hour: %{x:.2f}<br>Score: %{y:.2f}<br>Pearson r: -1.000<br>Spearman r: -1.000<br>Kendall τ: -1.000<br>DCOR: 1.000",
         "legendgroup": "respondent_2",
         "marker": {
          "color": "#00FF00",
          "opacity": 0.8,
          "size": 8
         },
         "mode": "markers",
         "name": "ID: respondent_2",
         "showlegend": false,
         "type": "scatter",
         "x": {
          "bdata": "EBM=",
          "dtype": "i1"
         },
         "xaxis": "x4",
         "y": {
          "bdata": "AMB46SaxBEAAAMl2vp//Pw==",
          "dtype": "f8"
         },
         "yaxis": "y4"
        },
        {
         "hovertemplate": "ID: respondent_2<br>Pearson r: -1.000<br>Spearman r: -1.000<br>Kendall τ: -1.000<br>DCOR: 1.000",
         "legendgroup": "respondent_2",
         "line": {
          "color": "#00FF00",
          "dash": "dash",
          "width": 2
         },
         "mode": "lines",
         "name": "Trend respondent_2",
         "showlegend": false,
         "type": "scatter",
         "x": {
          "bdata": "AAAAAAAAMEAIH3zwwQcwQBA++OCDDzBAF1100UUXMEAffPDBBx8wQCebbLLJJjBAL7rooosuMEA22WSTTTYwQD744IMPPjBARhdddNFFMEBONtlkk00wQFVVVVVVVTBAXXTRRRddMEBlk0022WQwQG2yySabbDBAdNFFF110MEB88MEHH3wwQIQPPvjggzBAjC666KKLMECTTTbZZJMwQJtssskmmzBAo4suuuiiMECrqqqqqqowQLLJJptssjBAuuiiiy66MEDCBx988MEwQMomm2yyyTBA0UUXXXTRMEDZZJNNNtkwQOGDDz744DBA6aKLLrroMEDwwQcffPAwQPjggw8++DBAAAAAAAAAMUAIH3zwwQcxQBA++OCDDzFAF1100UUXMUAffPDBBx8xQCebbLLJJjFAL7rooosuMUA22WSTTTYxQD744IMPPjFARhdddNFFMUBONtlkk00xQFVVVVVVVTFAXXTRRRddMUBlk0022WQxQG2yySabbDFAdNFFF110MUB88MEHH3wxQIQPPvjggzFAjC666KKLMUCTTTbZZJMxQJtssskmmzFAo4suuuiiMUCrqqqqqqoxQLLJJptssjFAuuiiiy66MUDCBx988MExQMomm2yyyTFA0kUXXXTRMUDZZJNNNtkxQOGDDz744DFA6aKLLrroMUDwwQcffPAxQPjggw8++DFAAAAAAAAAMkAIH3zwwQcyQBA++OCDDzJAF1100UUXMkAffPDBBx8yQCebbLLJJjJALrrooosuMkA22WSTTTYyQD744IMPPjJARhdddNFFMkBONtlkk00yQFVVVVVVVTJAXXTRRRddMkBlk0022WQyQG2yySabbDJAdNFFF110MkB88MEHH3wyQIQPPvjggzJAjC666KKLMkCTTTbZZJMyQJtssskmmzJAo4suuuiiMkCrqqqqqqoyQLLJJptssjJAuuiiiy66MkDCBx988MEyQMomm2yyyTJA0kUXXXTRMkDZZJNNNtkyQOGDDz744DJA6aKLLrroMkDwwQcffPAyQPjggw8++DJAAAAAAAAAM0A=",
          "dtype": "f8"
         },
         "xaxis": "x4",
         "y": {
          "bdata": "AMB46SaxBEDhg1lziKQEQMFHOv3plwRAowsbh0uLBECEz/sQrX4EQGWT3JoOcgRARVe9JHBlBEAnG56u0VgEQAjffjgzTARA6KJfwpQ/BEDJZkBM9jIEQKsqIdZXJgRAjO4BYLkZBEBssuLpGg0EQE12w3N8AARALzqk/d3zA0AQ/oSHP+cDQPDBZRGh2gNA0YVGmwLOA0CzSSclZMEDQJQNCK/FtANAdNHoOCeoA0BVlcnCiJsDQDdZqkzqjgNAGB2L1kuCA0D44GtgrXUDQNmkTOoOaQNAu2gtdHBcA0CcLA7+0U8DQHzw7oczQwNAXbTPEZU2A0A/eLCb9ikDQCA8kSVYHQNAAAByr7kQA0Dhw1I5GwQDQMGHM8N89wJAo0sUTd7qAkCED/XWP94CQGXT1WCh0QJARZe26gLFAkAnW5d0ZLgCQAgfeP7FqwJA6eJYiCefAkDJpjkSiZICQKtqGpzqhQJAjC77JUx5AkBt8tuvrWwCQE22vDkPYAJAL3qdw3BTAkAQPn5N0kYCQPABX9czOgJA0cU/YZUtAkCziSDr9iACQJRNAXVYFAJAdBHi/rkHAkBV1cKIG/sBQDeZoxJ97gFAGF2EnN7hAUD4IGUmQNUBQNnkRbChyAFAuqgmOgO8AUCcbAfEZK8BQHww6E3GogFAXfTI1yeWAUA/uKlhiYkBQCB8iuvqfAFAAEBrdUxwAUDhA0z/rWMBQMHHLIkPVwFApIsNE3FKAUCET+6c0j0BQGUTzyY0MQFAR9evsJUkAUAom5A69xcBQAhfccRYCwFA6SJSTrr+AEDJ5jLYG/IAQKyqE2J95QBAjG70697YAEBtMtV1QMwAQE32tf+hvwBAL7qWiQOzAEAQfncTZaYAQPFBWJ3GmQBA0QU5JyiNAECzyRmxiYAAQJSN+jrrcwBAdVHbxExnAEBVFbxOrloAQDfZnNgPTgBAGJ19YnFBAED4YF7s0jQAQNkkP3Y0KABAuugfAJYbAECcrACK9w4AQHxw4RNZAgBAumiEO3Xr/z9+8EVPONL/P0B4B2P7uP8/AADJdr6f/z8=",
          "dtype": "f8"
         },
         "yaxis": "y4"
        },
        {
         "customdata": [
          "2024-12-11T10:55:16.000000000",
          "2024-12-11T15:51:05.000000000",
          "2024-12-11T22:05:25.000000000",
          "2024-12-13T02:03:23.000000000",
          "2024-12-13T10:32:47.000000000",
          "2024-12-14T13:00:47.000000000",
          "2024-12-15T01:16:30.000000000"
         ],
         "hovertemplate": "ID: respondent_3<br>DateTime: %{customdata}<br>hour: %{x:.2f}<br>Score: %{y:.2f}<br>Pearson r: -0.460<br>Spearman r: -0.378<br>Kendall τ: -0.293<br>DCOR: 0.530",
         "legendgroup": "respondent_3",
         "marker": {
          "color": "#0000FF",
          "opacity": 0.8,
          "size": 8
         },
         "mode": "markers",
         "name": "ID: respondent_3",
         "showlegend": false,
         "type": "scatter",
         "x": {
          "bdata": "Cg8WGgoNGQ==",
          "dtype": "i1"
         },
         "xaxis": "x4",
         "y": {
          "bdata": "AADeJAaB+z8AAEw3iUH4P4DQItv5fvg/AIAi2/l+9z8AAEw3iUH2PwCAItv5fvg/AAAi2/l+9T8=",
          "dtype": "f8"
         },
         "yaxis": "y4"
        },
        {
         "hovertemplate": "ID: respondent_3<br>Pearson r: -0.460<br>Spearman r: -0.378<br>Kendall τ: -0.293<br>DCOR: 0.530",
         "legendgroup": "respondent_3",
         "line": {
          "color": "#0000FF",
          "dash": "dash",
          "width": 2
         },
         "mode": "lines",
         "name": "Trend respondent_3",
         "showlegend": false,
         "type": "scatter",
         "x": {
          "bdata": "AAAAAAAAJED9SoFav1IkQPuVArV+pSRA+OCDDz74JED2KwVq/UolQPN2hsS8nSVA8MEHH3zwJUDuDIl5O0MmQOtXCtT6lSZA6aKLLrroJkDm7QyJeTsnQOQ4juM4jidA4YMPPvjgJ0DezpCYtzMoQNwZEvN2hihA2WSTTTbZKEDXrxSo9SspQNT6lQK1filA0kUXXXTRKUDPkJi3MyQqQMzbGRLzdipAyiabbLLJKkDHcRzHcRwrQMW8nSExbytAwgcffPDBK0DAUqDWrxQsQL2dITFvZyxAuuiiiy66LEC4MyTm7QwtQLV+pUCtXy1Asskmm2yyLUCwFKj1KwUuQK5fKVDrVy5Aq6qqqqqqLkCo9SsFav0uQKZArV8pUC9Ao4suuuiiL0Cg1q8UqPUvQM+QmLczJDBATjbZZJNNMEDM2xkS83YwQEuBWr9SoDBAyiabbLLJMEBIzNsZEvMwQMdxHMdxHDFARhdddNFFMUDFvJ0hMW8xQERi3s6QmDFAwgcffPDBMUBBrV8pUOsxQMBSoNavFDJAPvjggw8+MkC9nSExb2cyQDxDYt7OkDJAuuiiiy66MkA5juM4juMyQLgzJObtDDNANtlkk002M0C1fqVArV8zQDQk5u0MiTNAsskmm2yyM0Ayb2dIzNszQLAUqPUrBTRAL7rooosuNECuXylQ61c0QCwFav1KgTRAq6qqqqqqNEAqUOtXCtQ0QKj1KwVq/TRAJ5tssskmNUCmQK1fKVA1QCTm7QyJeTVAo4suuuiiNUAiMW9nSMw1QKDWrxSo9TVAIHzwwQcfNkCeITFvZ0g2QBzHcRzHcTZAnGyyySabNkAaEvN2hsQ2QJm3MyTm7TZAGF100UUXN0CWArV+pUA3QBWo9SsFajdAlE022WSTN0AS83aGxLw3QJGYtzMk5jdAED744IMPOECO4ziO4zg4QA6JeTtDYjhAjC666KKLOEAK1PqVArU4QIp5O0Ni3jhACB988MEHOUCHxLydITE5QAZq/UqBWjlAhA8++OCDOUADtX6lQK05QIJav1Kg1jlAAAAAAAAAOkA=",
          "dtype": "f8"
         },
         "xaxis": "x4",
         "y": {
          "bdata": "91tD9Hjv+D9TaNwMKer4P7B0dSXZ5Pg/DIEOPonf+D9pjadWOdr4P8WZQG/p1Pg/IqbZh5nP+D9+snKgScr4P9u+C7n5xPg/N8uk0am/+D+U1z3qWbr4P/Dj1gIKtfg/TPBvG7qv+D+p/Ag0aqr4PwUJokwapfg/YhU7Zcqf+D++IdR9epr4PxsubZYqlfg/dzoGr9qP+D/URp/Hior4PzBTOOA6hfg/jV/R+Op/+D/pa2oRm3r4P0Z4AypLdfg/ooScQvtv+D//kDVbq2r4P1udznNbZfg/uKlnjAtg+D8UtgClu1r4P3HCmb1rVfg/zc4y1htQ+D8q28vuy0r4P4bnZAd8Rfg/4/P9HyxA+D8/AJc43Dr4P5wMMFGMNfg/+BjJaTww+D9VJWKC7Cr4P7Ex+5qcJfg/Dj6Us0wg+D9qSi3M/Br4P8dWxuSsFfg/I2Nf/VwQ+D+Ab/gVDQv4P9x7kS69Bfg/OYgqR20A+D+VlMNfHfv3P/KgXHjN9fc/Tq31kH3w9z+quY6pLev3PwfGJ8Ld5fc/ZNLA2o3g9z/A3lnzPdv3Pxzr8gvu1fc/efeLJJ7Q9z/WAyU9Tsv3PzIQvlX+xfc/jhxXbq7A9z/rKPCGXrv3P0c1iZ8Otvc/pEEiuL6w9z8ATrvQbqv3P11aVOkepvc/uWbtAc+g9z8Wc4Yaf5v3P3J/HzMvlvc/z4u4S9+Q9z8rmFFkj4v3P4ik6nw/hvc/5LCDle+A9z9BvRyun3v3P53JtcZPdvc/+tVO3/9w9z9W4uf3r2v3P7PugBBgZvc/D/sZKRBh9z9sB7NBwFv3P8gTTFpwVvc/JCDlciBR9z+BLH6L0Ev3P944F6SARvc/OkWwvDBB9z+XUUnV4Dv3P/Nd4u2QNvc/UGp7BkEx9z+sdhQf8Sv3PwiDrTehJvc/ZY9GUFEh9z/Cm99oARz3Px6oeIGxFvc/erQRmmER9z/XwKqyEQz3PzPNQ8vBBvc/kNnc43EB9z/s5XX8Ifz2P0nyDhXS9vY/pf6nLYLx9j8CC0FGMuz2P14X2l7i5vY/uyNzd5Lh9j8=",
          "dtype": "f8"
         },
         "yaxis": "y4"
        },
        {
         "customdata": [
          "2024-12-12T12:56:06.000000000",
          "2024-12-12T22:33:31.000000000",
          "2024-12-13T11:40:45.000000000",
          "2024-12-14T01:05:55.000000000",
          "2024-12-14T12:11:29.000000000",
          "2024-12-15T01:29:44.000000000",
          "2024-12-15T13:04:17.000000000",
          "2024-12-15T18:28:17.000000000",
          "2024-12-16T06:52:53.000000000",
          "2024-12-16T23:57:21.000000000",
          "2024-12-17T09:58:55.000000000",
          "2024-12-18T00:18:36.000000000",
          "2024-12-18T09:33:39.000000000",
          "2024-12-24T08:34:30.000000000",
          "2024-12-24T22:24:22.000000000",
          "2025-01-16T10:26:25.000000000",
          "2025-01-20T08:42:15.000000000",
          "2025-01-20T22:38:18.000000000",
          "2025-01-21T11:34:02.000000000"
         ],
         "hovertemplate": "ID: respondent_4<br>DateTime: %{customdata}<br>hour: %{x:.2f}<br>Score: %{y:.2f}<br>Pearson r: -0.415<br>Spearman r: -0.440<br>Kendall τ: -0.342<br>DCOR: 0.446",
         "legendgroup": "respondent_4",
         "marker": {
          "color": "#FF00FF",
          "opacity": 0.8,
          "size": 8
         },
         "mode": "markers",
         "name": "ID: respondent_4",
         "showlegend": false,
         "type": "scatter",
         "x": {
          "bdata": "DBYLGQwZDRIGFwkYCQgWCggWCw==",
          "dtype": "i1"
         },
         "xaxis": "x4",
         "y": {
          "bdata": "AABoke189T8AgMh2vp/1PwAA3CQGgfU/AAAj2/l+9T8AACLb+X72PwAAbhKDwPU/AABMN4lB9j8AAHASg8D1PwAAukkMAvc/AAC0yHa+9T8AAHASg8D2PwDASzeJQfY/AADdJAaB9T8AAMh2vp/2PwAAgMDKofY/AAAk2/l+9j8AAMh2vp/2PwAAcBKDwPQ/AACom8Qg9T8=",
          "dtype": "f8"
         },
         "yaxis": "y4"
        },
        {
         "hovertemplate": "ID: respondent_4<br>Pearson r: -0.415<br>Spearman r: -0.440<br>Kendall τ: -0.342<br>DCOR: 0.446",
         "legendgroup": "respondent_4",
         "line": {
          "color": "#FF00FF",
          "dash": "dash",
          "width": 2
         },
         "mode": "lines",
         "name": "Trend respondent_4",
         "showlegend": false,
         "type": "scatter",
         "x": {
          "bdata": "AAAAAAAAGEAaEvN2hsQYQDQk5u0MiRlATjbZZJNNGkBnSMzbGRIbQIFav1Kg1htAm2yyySabHEC1fqVArV8dQM+QmLczJB5A6KKLLrroHkACtX6lQK0fQI7jOI7jOCBAm2yyySabIECo9SsFav0gQLV+pUCtXyFAwgcffPDBIUDPkJi3MyQiQNwZEvN2hiJA6KKLLrroIkD2KwVq/UojQAK1fqVArSNAED744IMPJEAcx3Ecx3EkQClQ61cK1CRANtlkk002JUBDYt7OkJglQFDrVwrU+iVAXXTRRRddJkBq/UqBWr8mQHaGxLydISdAhA8++OCDJ0CQmLczJOYnQJ4hMW9nSChAqqqqqqqqKEC4MyTm7QwpQMS8nSExbylA0UUXXXTRKUDezpCYtzMqQOtXCtT6lSpA+OCDDz74KkAFav1KgVorQBLzdobEvCtAH3zwwQcfLEAsBWr9SoEsQDmO4ziO4yxARRdddNFFLUBSoNavFKgtQF8pUOtXCi5AbLLJJptsLkB5O0Ni3s4uQIbEvJ0hMS9Ak0022WSTL0Cg1q8UqPUvQNavFKj1KzBAXXTRRRddMEDkOI7jOI4wQGr9SoFavzBA8MEHH3zwMEB2hsS8nSExQP1KgVq/UjFAhA8++OCDMUAK1PqVArUxQJCYtzMk5jFAF1100UUXMkCeITFvZ0gyQCTm7QyJeTJAqqqqqqqqMkAxb2dIzNsyQLgzJObtDDNAPvjggw8+M0DEvJ0hMW8zQEqBWr9SoDNA0UUXXXTRM0BYCtT6lQI0QN7OkJi3MzRAZJNNNtlkNEDrVwrU+pU0QHIcx3EcxzRA+OCDDz74NEB+pUCtXyk1QAVq/UqBWjVAjC666KKLNUAS83aGxLw1QJi3MyTm7TVAH3zwwQcfNkClQK1fKVA2QCwFav1KgTZAsskmm2yyNkA5juM4juM2QL9SoNavFDdARRdddNFFN0DM2xkS83Y3QFKg1q8UqDdA2WSTTTbZN0BfKVDrVwo4QObtDIl5OzhAbLLJJptsOEDzdobEvJ04QHk7Q2LezjhAAAAAAAAAOUA=",
          "dtype": "f8"
         },
         "xaxis": "x4",
         "y": {
          "bdata": "f8vpZDRZ9j/mQthAU1f2P026xhxyVfY/tDG1+JBT9j8bqaPUr1H2P4IgkrDOT/Y/6JeAjO1N9j9PD29oDEz2P7aGXUQrSvY/Hf5LIEpI9j+EdTr8aEb2P+vsKNiHRPY/UmQXtKZC9j+52wWQxUD2Px9T9GvkPvY/hsriRwM99j/tQdEjIjv2P1S5v/9AOfY/uzCu21839j8iqJy3fjX2P4kfi5OdM/Y/75Z5b7wx9j9WDmhL2y/2P72FVif6LfY/JP1EAxks9j+LdDPfNyr2P/LrIbtWKPY/WWMQl3Um9j/A2v5ylCT2PyZS7U6zIvY/jcnbKtIg9j/0QMoG8R72P1u4uOIPHfY/wi+nvi4b9j8pp5WaTRn2P5AehHZsF/Y/9pVyUosV9j9dDWEuqhP2P8SETwrJEfY/K/w95ucP9j+ScyzCBg72P/nqGp4lDPY/YGIJekQK9j/H2fdVYwj2Py1R5jGCBvY/lMjUDaEE9j/7P8PpvwL2P2K3scXeAPY/yS6gof3+9T8wpo59HP31P5cdfVk7+/U//ZRrNVr59T9kDFoReff1P8uDSO2X9fU/Mvs2ybbz9T+ZciWl1fH1PwDqE4H07/U/Z2ECXRPu9T/O2PA4Muz1PzRQ3xRR6vU/m8fN8G/o9T8CP7zMjub1P2m2qqit5PU/0C2ZhMzi9T83pYdg6+D1P54cdjwK3/U/BJRkGCnd9T9rC1P0R9v1P9KCQdBm2fU/OfovrIXX9T+gcR6IpNX1PwfpDGTD0/U/bmD7P+LR9T/U1+kbAdD1PztP2PcfzvU/osbG0z7M9T8JPrWvXcr1P3C1o4t8yPU/1yySZ5vG9T8+pIBDusT1P6Ubbx/ZwvU/C5Nd+/fA9T9yCkzXFr/1P9mBOrM1vfU/QPkoj1S79T+ncBdrc7n1Pw7oBUeSt/U/dV/0IrG19T/c1uL+z7P1P0JO0drusfU/qcW/tg2w9T8QPa6SLK71P3e0nG5LrPU/3iuLSmqq9T9Fo3kmiaj1P6waaAKopvU/EpJW3sak9T95CUW65aL1P+CAM5YEofU/R/ghciOf9T8=",
          "dtype": "f8"
         },
         "yaxis": "y4"
        },
        {
         "customdata": [
          "2024-12-11T17:20:52.000000000",
          "2024-12-12T13:14:12.000000000",
          "2024-12-12T21:07:06.000000000",
          "2024-12-13T08:20:01.000000000",
          "2024-12-13T20:13:02.000000000",
          "2024-12-14T11:56:28.000000000",
          "2024-12-14T20:53:06.000000000",
          "2024-12-15T12:06:37.000000000",
          "2024-12-15T22:12:43.000000000"
         ],
         "hovertemplate": "ID: respondent_1<br>DateTime: %{customdata}<br>weekday_num: %{x:.2f}<br>Score: %{y:.2f}<br>Pearson r: -0.911<br>Spearman r: -0.848<br>Kendall τ: -0.766<br>DCOR: 0.908",
         "legendgroup": "respondent_1",
         "marker": {
          "color": "#FF0000",
          "opacity": 0.8,
          "size": 8
         },
         "mode": "markers",
         "name": "ID: respondent_1",
         "showlegend": false,
         "type": "scatter",
         "x": {
          "bdata": "AgAAAAMAAAADAAAABAAAAAQAAAAFAAAABQAAAAYAAAAGAAAA",
          "dtype": "i4"
         },
         "xaxis": "x5",
         "y": {
          "bdata": "3AsuwhNR5j9NPiG48yDjPyQWT8mdsuM/eJUfp0mA4T/sk+iHTBHdPwEGQTvf9No/pfSKzvEU2z/DctVdFcXdP4LVYCGbodg/",
          "dtype": "f8"
         },
         "yaxis": "y5"
        },
        {
         "hovertemplate": "ID: respondent_1<br>Pearson r: -0.911<br>Spearman r: -0.848<br>Kendall τ: -0.766<br>DCOR: 0.908",
         "legendgroup": "respondent_1",
         "line": {
          "color": "#FF0000",
          "dash": "dash",
          "width": 2
         },
         "mode": "lines",
         "name": "Trend respondent_1",
         "showlegend": false,
         "type": "scatter",
         "x": {
          "bdata": "AAAAAAAAAED9SoFav1IAQPuVArV+pQBA+OCDDz74AED2KwVq/UoBQPN2hsS8nQFA8MEHH3zwAUDuDIl5O0MCQOtXCtT6lQJA6aKLLrroAkDm7QyJeTsDQOQ4juM4jgNA4YMPPvjgA0DezpCYtzMEQNwZEvN2hgRA2WSTTTbZBEDXrxSo9SsFQNT6lQK1fgVA0kUXXXTRBUDPkJi3MyQGQMzbGRLzdgZAyiabbLLJBkDHcRzHcRwHQMW8nSExbwdAwgcffPDBB0DAUqDWrxQIQL2dITFvZwhAuuiiiy66CEC4MyTm7QwJQLV+pUCtXwlAsskmm2yyCUCwFKj1KwUKQK5fKVDrVwpAq6qqqqqqCkCo9SsFav0KQKZArV8pUAtAo4suuuiiC0Cg1q8UqPULQJ4hMW9nSAxAnGyyySabDECZtzMk5u0MQJYCtX6lQA1AlE022WSTDUCRmLczJOYNQI7jOI7jOA5AjC666KKLDkCKeTtDYt4OQIfEvJ0hMQ9AhA8++OCDD0CCWr9SoNYPQMBSoNavFBBAPvjggw8+EEC9nSExb2cQQDxDYt7OkBBAuuiiiy66EEA5juM4juMQQLgzJObtDBFANtlkk002EUC1fqVArV8RQDQk5u0MiRFAsskmm2yyEUAyb2dIzNsRQLAUqPUrBRJAL7rooosuEkCuXylQ61cSQCwFav1KgRJAq6qqqqqqEkAqUOtXCtQSQKj1KwVq/RJAJ5tssskmE0CmQK1fKVATQCTm7QyJeRNAo4suuuiiE0AiMW9nSMwTQKDWrxSo9RNAIHzwwQcfFECeITFvZ0gUQBzHcRzHcRRAnGyyySabFEAaEvN2hsQUQJm3MyTm7RRAGF100UUXFUCWArV+pUAVQBWo9SsFahVAlE022WSTFUAS83aGxLwVQJGYtzMk5hVAED744IMPFkCO4ziO4zgWQA6JeTtDYhZAjC666KKLFkAK1PqVArUWQIp5O0Ni3hZACB988MEHF0CHxLydITEXQAZq/UqBWhdAhA8++OCDF0ADtX6lQK0XQIJav1Kg1hdAAAAAAAAAGEA=",
          "dtype": "f8"
         },
         "xaxis": "x5",
         "y": {
          "bdata": "0u77IiNZ5T/H/I5HAELlP7wKImzdKuU/sBi1kLoT5T+kJki1l/zkP5k029l05eQ/jkJu/lHO5D+CUAEjL7fkP3delEcMoOQ/a2wnbOmI5D9gerqQxnHkP1SITbWjWuQ/SZbg2YBD5D89pHP+XSzkPzKyBiM7FeQ/JsCZRxj+4z8bzixs9ebjPw/cv5DSz+M/BOpSta+44z/49+XZjKHjP+0Fef5piuM/4RMMI0dz4z/WIZ9HJFzjP8ovMmwBReM/vz3FkN4t4z+zS1i1uxbjP6hZ69mY/+I/nGd+/nXo4j+RdREjU9HiP4aDpEcwuuI/epE3bA2j4j9un8qQ6oviP2OtXbXHdOI/WLvw2aRd4j9MyYP+gUbiP0DXFiNfL+I/NeWpRzwY4j8q8zxsGQHiPx4B0JD26eE/Eg9jtdPS4T8HHfbZsLvhP/wqif6NpOE/8DgcI2uN4T/kRq9HSHbhP9lUQmwlX+E/zmLVkAJI4T/CcGi13zDhP7Z++9m8GeE/q4yO/pkC4T+gmiEjd+vgP5SotEdU1OA/ibZHbDG94D99xNqQDqbgP3LSbbXrjuA/ZuAA2sh34D9b7pP+pWDgP0/8JiODSeA/RAq6R2Ay4D84GE1sPRvgPywm4JAaBOA/Q2jmau/Z3z8rhAy0qavfPxWgMv1jfd8//btYRh5P3z/m136P2CDfP9DzpNiS8t4/uQ/LIU3E3j+hK/FqB5beP4tHF7TBZ94/dGM9/Xs53j9df2NGNgveP0abiY/w3N0/L7ev2Kqu3T8Y09UhZYDdPwLv+2ofUt0/6QoitNkj3T/TJkj9k/XcP71CbkZOx9w/pF6UjwiZ3D+OerrYwmrcP3eW4CF9PNw/YLIGazcO3D9Jziy08d/bPzLqUv2rsds/GwZ5RmaD2z8FIp+PIFXbP+09xdjaJts/1lnrIZX42j/AdRFrT8raP6eRN7QJnNo/ka1d/cNt2j97yYNGfj/aP2PlqY84Edo/TQHQ2PLi2T81HfYhrbTZPx45HGtnhtk/CFVCtCFY2T/wcGj92ynZP9mMjkaW+9g/w6i0j1DN2D8=",
          "dtype": "f8"
         },
         "yaxis": "y5"
        },
        {
         "customdata": [
          "2024-12-11T16:09:52.000000000",
          "2024-12-12T19:57:16.000000000"
         ],
         "hovertemplate": "ID: respondent_2<br>DateTime: %{customdata}<br>weekday_num: %{x:.2f}<br>Score: %{y:.2f}<br>Pearson r: -1.000<br>Spearman r: -1.000<br>Kendall τ: -1.000<br>DCOR: 1.000",
         "legendgroup": "respondent_2",
         "marker": {
          "color": "#00FF00",
          "opacity": 0.8,
          "size": 8
         },
         "mode": "markers",
         "name": "ID: respondent_2",
         "showlegend": false,
         "type": "scatter",
         "x": {
          "bdata": "AgAAAAMAAAA=",
          "dtype": "i4"
         },
         "xaxis": "x5",
         "y": {
          "bdata": "KrbLgEej9z8jsH2j/93xPw==",
          "dtype": "f8"
         },
         "yaxis": "y5"
        },
        {
         "hovertemplate": "ID: respondent_2<br>Pearson r: -1.000<br>Spearman r: -1.000<br>Kendall τ: -1.000<br>DCOR: 1.000",
         "legendgroup": "respondent_2",
         "line": {
          "color": "#00FF00",
          "dash": "dash",
          "width": 2
         },
         "mode": "lines",
         "name": "Trend respondent_2",
         "showlegend": false,
         "type": "scatter",
         "x": {
          "bdata": "AAAAAAAAAEC/UqDWrxQAQH+lQK1fKQBAPvjggw8+AED9SoFav1IAQL2dITFvZwBAfPDBBx98AEA8Q2LezpAAQPuVArV+pQBAuuiiiy66AEB6O0Ni3s4AQDmO4ziO4wBA+OCDDz74AEC4MyTm7QwBQHeGxLydIQFANtlkk002AUD2KwVq/UoBQLV+pUCtXwFAdNFFF110AUA0JObtDIkBQPN2hsS8nQFAsskmm2yyAUByHMdxHMcBQDFvZ0jM2wFA8MEHH3zwAUCwFKj1KwUCQG9nSMzbGQJAL7rooosuAkDuDIl5O0MCQK1fKVDrVwJAbbLJJptsAkAsBWr9SoECQOtXCtT6lQJAq6qqqqqqAkBq/UqBWr8CQCpQ61cK1AJA6aKLLrroAkCo9SsFav0CQGhIzNsZEgNAJ5tssskmA0Dm7QyJeTsDQKZArV8pUANAZZNNNtlkA0Ak5u0MiXkDQOQ4juM4jgNAo4suuuiiA0Bi3s6QmLcDQCIxb2dIzANA4YMPPvjgA0Cg1q8UqPUDQGApUOtXCgRAH3zwwQcfBEDezpCYtzMEQJ4hMW9nSARAXXTRRRddBEAcx3Ecx3EEQNwZEvN2hgRAm2yyySabBEBav1Kg1q8EQBoS83aGxARA2WSTTTbZBECZtzMk5u0EQFgK1PqVAgVAGF100UUXBUDXrxSo9SsFQJYCtX6lQAVAVlVVVVVVBUAVqPUrBWoFQNT6lQK1fgVAlE022WSTBUBToNavFKgFQBLzdobEvAVA0kUXXXTRBUCRmLczJOYFQFDrVwrU+gVAED744IMPBkDPkJi3MyQGQI7jOI7jOAZATjbZZJNNBkANiXk7Q2IGQMzbGRLzdgZAjC666KKLBkBLgVq/UqAGQArU+pUCtQZAyiabbLLJBkCJeTtDYt4GQEjM2xkS8wZACB988MEHB0DHcRzHcRwHQIfEvJ0hMQdARhdddNFFB0AFav1KgVoHQMW8nSExbwdAhA8++OCDB0BEYt7OkJgHQAO1fqVArQdAwgcffPDBB0CCWr9SoNYHQEGtXylQ6wdAAAAAAAAACEA=",
          "dtype": "f8"
         },
         "xaxis": "x5",
         "y": {
          "bdata": "KbbLgEej9z9igs12W5T3P5pOz2xvhfc/1BrRYoN29z8M59JYl2f3P0Wz1E6rWPc/fn/WRL9J9z+2S9g60zr3P/AX2jDnK/c/KOTbJvsc9z9hsN0cDw73P5p83xIj//Y/00jhCDfw9j8MFeP+SuH2P0Th5PRe0vY/fq3m6nLD9j+2eejghrT2P+9F6taapfY/KBLszK6W9j9g3u3Cwof2P5qq77jWePY/0nbxrupp9j8LQ/Ok/lr2P0QP9ZoSTPY/fdv2kCY99j+2p/iGOi72P+5z+nxOH/Y/J0D8cmIQ9j9gDP5odgH2P5nY/16K8vU/0qQBVZ7j9T8KcQNLstT1P0Q9BUHGxfU/fAkHN9q29T+11Qgt7qf1P+6hCiMCmfU/Jm4MGRaK9T9gOg4PKnv1P5gGEAU+bPU/0dIR+1Fd9T8KnxPxZU71P0JrFed5P/U/fDcX3Y0w9T+0AxnToSH1P+3PGsm1EvU/Jpwcv8kD9T9faB613fT0P5g0IKvx5fQ/0AAioQXX9D8KzSOXGcj0P0KZJY0tufQ/e2Ung0Gq9D+0MSl5VZv0P+z9Km9pjPQ/JsosZX199D9eli5bkW70P5diMFGlX/Q/0C4yR7lQ9D8J+zM9zUH0P0LHNTPhMvQ/epM3KfUj9D+zXzkfCRX0P+wrOxUdBvQ/JPg8CzH38z9exD4BRejzP5aQQPdY2fM/z1xC7WzK8z8IKUTjgLvzP0H1RdmUrPM/esFHz6id8z+yjUnFvI7zP+xZS7vQf/M/JCZNseRw8z9d8k6n+GHzP5a+UJ0MU/M/zopSkyBE8z8IV1SJNDXzP0EjVn9IJvM/ee9XdVwX8z+yu1lrcAjzP+uHW2GE+fI/I1RdV5jq8j9cIF9NrNvyP5bsYEPAzPI/zrhiOdS98j8HhWQv6K7yP0BRZiX8n/I/eB1oGxCR8j+y6WkRJILyP+q1awc4c/I/I4Jt/Utk8j9cTm/zX1XyP5QacelzRvI/zeZy34c38j8Gs3TVmyjyPz9/dsuvGfI/eEt4wcMK8j+wF3q31/vxP+nje63r7PE/IrB9o//d8T8=",
          "dtype": "f8"
         },
         "yaxis": "y5"
        },
        {
         "customdata": [
          "2024-12-11T10:55:16.000000000",
          "2024-12-11T15:51:05.000000000",
          "2024-12-11T22:05:25.000000000",
          "2024-12-13T02:03:23.000000000",
          "2024-12-13T10:32:47.000000000",
          "2024-12-14T13:00:47.000000000",
          "2024-12-15T01:16:30.000000000"
         ],
         "hovertemplate": "ID: respondent_3<br>DateTime: %{customdata}<br>weekday_num: %{x:.2f}<br>Score: %{y:.2f}<br>Pearson r: -0.851<br>Spearman r: -0.842<br>Kendall τ: -0.688<br>DCOR: 0.891",
         "legendgroup": "respondent_3",
         "marker": {
          "color": "#0000FF",
          "opacity": 0.8,
          "size": 8
         },
         "mode": "markers",
         "name": "ID: respondent_3",
         "showlegend": false,
         "type": "scatter",
         "x": {
          "bdata": "AgAAAAIAAAACAAAABAAAAAQAAAAFAAAABgAAAA==",
          "dtype": "i4"
         },
         "xaxis": "x5",
         "y": {
          "bdata": "qikaLbLz5D9+fOqEVwLhP22WoE1fyuQ/JJkGE7ys2z+Mq0RUUm/bP6puPqGaitw/KRERjbCN2j8=",
          "dtype": "f8"
         },
         "yaxis": "y5"
        },
        {
         "hovertemplate": "ID: respondent_3<br>Pearson r: -0.851<br>Spearman r: -0.842<br>Kendall τ: -0.688<br>DCOR: 0.891",
         "legendgroup": "respondent_3",
         "line": {
          "color": "#0000FF",
          "dash": "dash",
          "width": 2
         },
         "mode": "lines",
         "name": "Trend respondent_3",
         "showlegend": false,
         "type": "scatter",
         "x": {
          "bdata": "AAAAAAAAAED9SoFav1IAQPuVArV+pQBA+OCDDz74AED2KwVq/UoBQPN2hsS8nQFA8MEHH3zwAUDuDIl5O0MCQOtXCtT6lQJA6aKLLrroAkDm7QyJeTsDQOQ4juM4jgNA4YMPPvjgA0DezpCYtzMEQNwZEvN2hgRA2WSTTTbZBEDXrxSo9SsFQNT6lQK1fgVA0kUXXXTRBUDPkJi3MyQGQMzbGRLzdgZAyiabbLLJBkDHcRzHcRwHQMW8nSExbwdAwgcffPDBB0DAUqDWrxQIQL2dITFvZwhAuuiiiy66CEC4MyTm7QwJQLV+pUCtXwlAsskmm2yyCUCwFKj1KwUKQK5fKVDrVwpAq6qqqqqqCkCo9SsFav0KQKZArV8pUAtAo4suuuiiC0Cg1q8UqPULQJ4hMW9nSAxAnGyyySabDECZtzMk5u0MQJYCtX6lQA1AlE022WSTDUCRmLczJOYNQI7jOI7jOA5AjC666KKLDkCKeTtDYt4OQIfEvJ0hMQ9AhA8++OCDD0CCWr9SoNYPQMBSoNavFBBAPvjggw8+EEC9nSExb2cQQDxDYt7OkBBAuuiiiy66EEA5juM4juMQQLgzJObtDBFANtlkk002EUC1fqVArV8RQDQk5u0MiRFAsskmm2yyEUAyb2dIzNsRQLAUqPUrBRJAL7rooosuEkCuXylQ61cSQCwFav1KgRJAq6qqqqqqEkAqUOtXCtQSQKj1KwVq/RJAJ5tssskmE0CmQK1fKVATQCTm7QyJeRNAo4suuuiiE0AiMW9nSMwTQKDWrxSo9RNAIHzwwQcfFECeITFvZ0gUQBzHcRzHcRRAnGyyySabFEAaEvN2hsQUQJm3MyTm7RRAGF100UUXFUCWArV+pUAVQBWo9SsFahVAlE022WSTFUAS83aGxLwVQJGYtzMk5hVAED744IMPFkCO4ziO4zgWQA6JeTtDYhZAjC666KKLFkAK1PqVArUWQIp5O0Ni3hZACB988MEHF0CHxLydITEXQAZq/UqBWhdAhA8++OCDF0ADtX6lQK0XQIJav1Kg1hdAAAAAAAAAGEA=",
          "dtype": "f8"
         },
         "xaxis": "x5",
         "y": {
          "bdata": "J3s0MaQN4z/T5reKSfviP35SO+Tu6OI/Kb6+PZTW4j/UKUKXOcTiP3+VxfDeseI/KgFJSoSf4j/WbMyjKY3iP4HYT/3OeuI/LETTVnRo4j/Xr1awGVbiP4Ib2gm/Q+I/LYddY2Qx4j/Y8uC8CR/iP4ReZBavDOI/L8rnb1T64T/aNWvJ+efhP4Wh7iKf1eE/MA1yfETD4T/bePXV6bDhP4bkeC+PnuE/MlD8iDSM4T/du3/i2XnhP4gnAzx/Z+E/M5OGlSRV4T/e/gnvyULhP4pqjUhvMOE/NdYQohQe4T/gQZT7uQvhP4utF1Vf+eA/NhmbrgTn4D/hhB4IqtTgP4zwoWFPwuA/OFwlu/Sv4D/jx6gUmp3gP44zLG4/i+A/OZ+vx+R44D/kCjMhimbgP492tnovVOA/OuI51NRB4D/mTb0tei/gP5G5QIcfHeA/PCXE4MQK4D/OIY901PDfPyX5lScfzN8/e9Cc2mmn3z/Rp6ONtILfPyh/qkD/Xd8/flax80k53z/ULbimlBTfPyoFv1nf794/gdzFDCrL3j/Xs8y/dKbePy2L03K/gd4/hGLaJQpd3j/aOeHYVDjePzAR6IufE94/h+juPuru3T/dv/XxNMrdPzSX/KR/pd0/im4DWMqA3T/gRQoLFVzdPzYdEb5fN90/jPQXcaoS3T/iyx4k9e3cPzmjJdc/ydw/j3osioqk3D/mUTM91X/cPzwpOvAfW9w/kwBBo2o23D/p10dWtRHcP0CvTgkA7ds/loZVvErI2z/sXVxvlaPbP0M1YyLgfts/mAxq1Spa2z/v43CIdTXbP0a7dzvAENs/m5J+7grs2j/yaYWhVcfaP0hBjFSgoto/nhiTB+t92j/175m6NVnaP0vHoG2ANNo/oZ6nIMsP2j/4da7TFevZP05NtYZgxtk/pCS8Oauh2T/7+8Ls9XzZP1DTyZ9AWNk/p6rQUosz2T/+gdcF1g7ZP1NZ3rgg6tg/qjDla2vF2D8ACOwetqDYP1bf8tEAfNg/rbb5hEtX2D8DjgA4ljLYP1llB+vgDdg/sDwOnivp1z8=",
          "dtype": "f8"
         },
         "yaxis": "y5"
        },
        {
         "customdata": [
          "2024-12-12T12:56:06.000000000",
          "2024-12-12T22:33:31.000000000",
          "2024-12-13T11:40:45.000000000",
          "2024-12-14T01:05:55.000000000",
          "2024-12-14T12:11:29.000000000",
          "2024-12-15T01:29:44.000000000",
          "2024-12-15T13:04:17.000000000",
          "2024-12-15T18:28:17.000000000",
          "2024-12-16T06:52:53.000000000",
          "2024-12-16T23:57:21.000000000",
          "2024-12-17T09:58:55.000000000",
          "2024-12-18T00:18:36.000000000",
          "2024-12-18T09:33:39.000000000",
          "2024-12-24T08:34:30.000000000",
          "2024-12-24T22:24:22.000000000",
          "2025-01-16T10:26:25.000000000",
          "2025-01-20T08:42:15.000000000",
          "2025-01-20T22:38:18.000000000",
          "2025-01-21T11:34:02.000000000"
         ],
         "hovertemplate": "ID: respondent_4<br>DateTime: %{customdata}<br>weekday_num: %{x:.2f}<br>Score: %{y:.2f}<br>Pearson r: -0.045<br>Spearman r: -0.080<br>Kendall τ: -0.081<br>DCOR: 0.303",
         "legendgroup": "respondent_4",
         "marker": {
          "color": "#FF00FF",
          "opacity": 0.8,
          "size": 8
         },
         "mode": "markers",
         "name": "ID: respondent_4",
         "showlegend": false,
         "type": "scatter",
         "x": {
          "bdata": "AwAAAAMAAAAEAAAABQAAAAUAAAAGAAAABgAAAAYAAAAAAAAAAAAAAAEAAAACAAAAAgAAAAEAAAABAAAAAwAAAAAAAAAAAAAAAQAAAA==",
          "dtype": "i4"
         },
         "xaxis": "x5",
         "y": {
          "bdata": "kxyZGc+N2j9smfEISYTiP2VJkp8gldc/deJqhJZS4D8O1HG+uG7fP/0zjCjCy9U/53hWyVc63T+BwmYBrN/aP5J8CRCoT90/mWoBHLW23D939DOqDzPgP861hahsBt4/1fVcwdPd2z8fSGwimFXbPxs3/2whxdY/mxBe9Jn+2j8LFbW0qCDdPxt5y1l2Y9s/bLzbvHq52T8=",
          "dtype": "f8"
         },
         "yaxis": "y5"
        },
        {
         "hovertemplate": "ID: respondent_4<br>Pearson r: -0.045<br>Spearman r: -0.080<br>Kendall τ: -0.081<br>DCOR: 0.303",
         "legendgroup": "respondent_4",
         "line": {
          "color": "#FF00FF",
          "dash": "dash",
          "width": 2
         },
         "mode": "lines",
         "name": "Trend respondent_4",
         "showlegend": false,
         "type": "scatter",
         "x": {
          "bdata": "AAAAAAAAAAAIH3zwwQevPwgffPDBB78/RhdddNFFxz8IH3zwwQfPP2WTTTbZZNM/RhdddNFF1z8nm2yyySbbPwgffPDBB98/dNFFF1104T9lk0022WTjP1ZVVVVVVeU/RhdddNFF5z822WSTTTbpPyebbLLJJus/GF100UUX7T8IH3zwwQfvP3zwwQcffPA/dNFFF1108T9tsskmm2zyP2WTTTbZZPM/XXTRRRdd9D9WVVVVVVX1P0422WSTTfY/RhdddNFF9z8++OCDDz74PzbZZJNNNvk/L7rooosu+j8nm2yyySb7Px988MEHH/w/GF100UUX/T8QPvjggw/+PwgffPDBB/8/AAAAAAAAAEB88MEHH3wAQPjggw8++ABAdNFFF110AUDxwQcffPABQG2yySabbAJA6aKLLrroAkBlk0022WQDQOGDDz744ANAXXTRRRddBEDZZJNNNtkEQFZVVVVVVQVA0kUXXXTRBUBONtlkk00GQMomm2yyyQZARhdddNFFB0DCBx988MEHQD744IMPPghAuuiiiy66CEA22WSTTTYJQLPJJptssglAL7rooosuCkCrqqqqqqoKQCebbLLJJgtAo4suuuiiC0AffPDBBx8MQJtssskmmwxAGF100UUXDUCUTTbZZJMNQBA++OCDDw5AjC666KKLDkAIH3zwwQcPQIQPPvjggw9AAAAAAAAAEEA++OCDDz4QQHzwwQcffBBAuuiiiy66EED44IMPPvgQQDbZZJNNNhFAdNFFF110EUCzySabbLIRQPHBBx988BFAL7rooosuEkBtsskmm2wSQKuqqqqqqhJA6aKLLrroEkAnm2yyySYTQGWTTTbZZBNAo4suuuiiE0Dhgw8++OATQB988MEHHxRAXXTRRRddFECbbLLJJpsUQNlkk0022RRAF1100UUXFUBWVVVVVVUVQJRNNtlkkxVA0kUXXXTRFUAQPvjggw8WQE422WSTTRZAjC666KKLFkDKJptssskWQAgffPDBBxdARhdddNFFF0CEDz744IMXQMIHH3zwwRdAAAAAAAAAGEA=",
          "dtype": "f8"
         },
         "xaxis": "x5",
         "y": {
          "bdata": "7McJHlpy3D+dChdDL3HcP09NJGgEcNw/AJAxjdlu3D+x0j6yrm3cP2IVTNeDbNw/FFhZ/Fhr3D/FmmYhLmrcP3bdc0YDadw/JyCBa9hn3D/ZYo6QrWbcP4qlm7WCZdw/O+io2ldk3D/tKrb/LGPcP55twyQCYtw/T7DQSddg3D8A891urF/cP7I165OBXtw/Y3j4uFZd3D8UuwXeK1zcP8b9EgMBW9w/d0AgKNZZ3D8ogy1Nq1jcP9nFOnKAV9w/iwhIl1VW3D88S1W8KlXcP+2NYuH/U9w/ntBvBtVS3D9QE30rqlHcPwFWilB/UNw/spiXdVRP3D9k26SaKU7cPxUesr/+TNw/xmC/5NNL3D93o8wJqUrcPynm2S5+Sdw/2ijnU1NI3D+La/R4KEfcPzyuAZ79Rdw/7vAOw9JE3D+fMxzop0PcP1B2KQ19Qtw/Ark2MlJB3D+z+0NXJ0DcP2Q+UXz8Ptw/FYFeodE93D/Hw2vGpjzcP3gGeet7O9w/KUmGEFE63D/bi5M1JjncP4zOoFr7N9w/PRGuf9A23D/uU7ukpTXcP6CWyMl6NNw/UdnV7k8z3D8CHOMTJTLcP7Ne8Dj6MNw/ZaH9Xc8v3D8W5AqDpC7cP8cmGKh5Ldw/eWklzU4s3D8qrDLyIyvcP9vuPxf5Kdw/jDFNPM4o3D8+dFphoyfcP++2Z4Z4Jtw/oPl0q00l3D9SPILQIiTcPwN/j/X3Itw/tMGcGs0h3D9lBKo/oiDcPxdHt2R3H9w/yInEiUwe3D95zNGuIR3cPyoP39P2G9w/3FHs+Msa3D+NlPkdoRncPz7XBkN2GNw/8BkUaEsX3D+hXCGNIBbcP1KfLrL1FNw/A+I718oT3D+1JEn8nxLcP2ZnViF1Edw/F6pjRkoQ3D/I7HBrHw/cP3ovfpD0Ddw/K3KLtckM3D/ctJjangvcP473pf9zCtw/PzqzJEkJ3D/wfMBJHgjcP6G/zW7zBtw/UwLbk8gF3D8ERei4nQTcP7WH9d1yA9w/ZsoCA0gC3D8YDRAoHQHcP8lPHU3y/9s/epIqcsf+2z8=",
          "dtype": "f8"
         },
         "yaxis": "y5"
        },
        {
         "customdata": [
          "2024-12-11T17:20:52.000000000",
          "2024-12-12T13:14:12.000000000",
          "2024-12-12T21:07:06.000000000",
          "2024-12-13T08:20:01.000000000",
          "2024-12-13T20:13:02.000000000",
          "2024-12-14T11:56:28.000000000",
          "2024-12-14T20:53:06.000000000",
          "2024-12-15T12:06:37.000000000",
          "2024-12-15T22:12:43.000000000"
         ],
         "hovertemplate": "ID: respondent_1<br>DateTime: %{customdata}<br>hour: %{x:.2f}<br>Score: %{y:.2f}<br>Pearson r: -0.124<br>Spearman r: -0.142<br>Kendall τ: -0.085<br>DCOR: 0.388",
         "legendgroup": "respondent_1",
         "marker": {
          "color": "#FF0000",
          "opacity": 0.8,
          "size": 8
         },
         "mode": "markers",
         "name": "ID: respondent_1",
         "showlegend": false,
         "type": "scatter",
         "x": {
          "bdata": "EQ0VCBQLFAwW",
          "dtype": "i1"
         },
         "xaxis": "x6",
         "y": {
          "bdata": "3AsuwhNR5j9NPiG48yDjPyQWT8mdsuM/eJUfp0mA4T/sk+iHTBHdPwEGQTvf9No/pfSKzvEU2z/DctVdFcXdP4LVYCGbodg/",
          "dtype": "f8"
         },
         "yaxis": "y6"
        },
        {
         "hovertemplate": "ID: respondent_1<br>Pearson r: -0.124<br>Spearman r: -0.142<br>Kendall τ: -0.085<br>DCOR: 0.388",
         "legendgroup": "respondent_1",
         "line": {
          "color": "#FF0000",
          "dash": "dash",
          "width": 2
         },
         "mode": "lines",
         "name": "Trend respondent_1",
         "showlegend": false,
         "type": "scatter",
         "x": {
          "bdata": "AAAAAAAAIECeITFvZ0ggQDtDYt7OkCBA2WSTTTbZIEB3hsS8nSEhQBWo9SsFaiFAsskmm2yyIUBQ61cK1PohQO4MiXk7QyJAjC666KKLIkApUOtXCtQiQMdxHMdxHCNAZZNNNtlkI0ACtX6lQK0jQKDWrxSo9SNAPvjggw8+JEDcGRLzdoYkQHo7Q2LeziRAF1100UUXJUC1fqVArV8lQFOg1q8UqCVA8MEHH3zwJUCO4ziO4zgmQCwFav1KgSZAyiabbLLJJkBnSMzbGRInQAVq/UqBWidAo4suuuiiJ0BArV8pUOsnQN7OkJi3MyhAfPDBBx98KEAaEvN2hsQoQLgzJObtDClAVVVVVVVVKUDzdobEvJ0pQJCYtzMk5ilALrrooosuKkDM2xkS83YqQGr9SoFavypACB988MEHK0CmQK1fKVArQENi3s6QmCtA4YMPPvjgK0B+pUCtXyksQBzHcRzHcSxAuuiiiy66LEBYCtT6lQItQPYrBWr9Si1Ak0022WSTLUAxb2dIzNstQM6QmLczJC5AbLLJJptsLkAK1PqVArUuQKj1KwVq/S5ARhdddNFFL0DkOI7jOI4vQIFav1Kg1i9AED744IMPMEDezpCYtzMwQK1fKVDrVzBAfPDBBx98MEBLgVq/UqAwQBoS83aGxDBA6KKLLrroMEC4MyTm7QwxQIbEvJ0hMTFAVVVVVVVVMUAk5u0MiXkxQPN2hsS8nTFAwgcffPDBMUCQmLczJOYxQGApUOtXCjJALrrooosuMkD+SoFav1IyQMzbGRLzdjJAm2yyySabMkBq/UqBWr8yQDmO4ziO4zJACB988MEHM0DWrxSo9SszQKZArV8pUDNAdNFFF110M0BDYt7OkJgzQBLzdobEvDNA4YMPPvjgM0CwFKj1KwU0QH6lQK1fKTRATjbZZJNNNEAcx3Ecx3E0QOtXCtT6lTRAuuiiiy66NECJeTtDYt40QFgK1PqVAjVAJptssskmNUD2KwVq/Uo1QMS8nSExbzVAk0022WSTNUBi3s6QmLc1QDFvZ0jM2zVAAAAAAAAANkA=",
          "dtype": "f8"
         },
         "xaxis": "x6",
         "y": {
          "bdata": "Pbsr70ML4T+yn3bZPwjhPyiEwcM7BeE/nWgMrjcC4T8TTVeYM//gP4gxooIv/OA//hXtbCv54D90+jdXJ/bgP+negkEj8+A/X8PNKx/w4D/UpxgWG+3gP0qMYwAX6uA/v3Cu6hLn4D81VfnUDuTgP6o5RL8K4eA/IB6PqQbe4D+VAtqTAtvgPwvnJH7+1+A/gMtvaPrU4D/2r7pS9tHgP2yUBT3yzuA/4XhQJ+7L4D9XXZsR6sjgP8xB5vvlxeA/QiYx5uHC4D+3CnzQ3b/gPy3vxrrZvOA/otMRpdW54D8YuFyP0bbgP42cp3nNs+A/A4HyY8mw4D94ZT1Oxa3gP+5JiDjBquA/ZC7TIr2n4D/ZEh4NuaTgP0/3aPe0oeA/xNuz4bCe4D86wP7LrJvgP6+kSbaomOA/JYmUoKSV4D+abd+KoJLgPxBSKnWcj+A/hTZ1X5iM4D/7GsBJlIngP3D/CjSQhuA/5uNVHoyD4D9byKAIiIDgP9Gs6/KDfeA/R5E23X964D+8dYHHe3fgPzJazLF3dOA/pz4XnHNx4D8dI2KGb27gP5IHrXBra+A/COz3Wmdo4D990EJFY2XgP/O0jS9fYuA/aJnYGVtf4D/efSMEV1zgP1Nibu5SWeA/yUa52E5W4D8+KwTDSlPgP7QPT61GUOA/KvSZl0JN4D+f2OSBPkrgPxW9L2w6R+A/iqF6VjZE4D8AhsVAMkHgP3VqECsuPuA/605bFSo74D9gM6b/JTjgP9YX8ekhNeA/S/w71B0y4D/B4Ia+GS/gPzbF0agVLOA/rKkckxEp4D8ijmd9DSbgP5dysmcJI+A/DVf9UQUg4D+CO0g8AR3gP/gfkyb9GeA/bQTeEPkW4D/j6Cj79BPgP1jNc+XwEOA/zrG+z+wN4D9Dlgm66ArgP7l6VKTkB+A/Ll+fjuAE4D+kQ+p43AHgPzNQasaw/d8/HhkAm6j33z8J4pVvoPHfP/SqK0SY698/4HPBGJDl3z/KPFfth9/fP7YF7cF/2d8/oc6ClnfT3z+Mlxhrb83fP3dgrj9nx98/YilEFF/B3z8=",
          "dtype": "f8"
         },
         "yaxis": "y6"
        },
        {
         "customdata": [
          "2024-12-11T16:09:52.000000000",
          "2024-12-12T19:57:16.000000000"
         ],
         "hovertemplate": "ID: respondent_2<br>DateTime: %{customdata}<br>hour: %{x:.2f}<br>Score: %{y:.2f}<br>Pearson r: -1.000<br>Spearman r: -1.000<br>Kendall τ: -1.000<br>DCOR: 1.000",
         "legendgroup": "respondent_2",
         "marker": {
          "color": "#00FF00",
          "opacity": 0.8,
          "size": 8
         },
         "mode": "markers",
         "name": "ID: respondent_2",
         "showlegend": false,
         "type": "scatter",
         "x": {
          "bdata": "EBM=",
          "dtype": "i1"
         },
         "xaxis": "x6",
         "y": {
          "bdata": "KrbLgEej9z8jsH2j/93xPw==",
          "dtype": "f8"
         },
         "yaxis": "y6"
        },
        {
         "hovertemplate": "ID: respondent_2<br>Pearson r: -1.000<br>Spearman r: -1.000<br>Kendall τ: -1.000<br>DCOR: 1.000",
         "legendgroup": "respondent_2",
         "line": {
          "color": "#00FF00",
          "dash": "dash",
          "width": 2
         },
         "mode": "lines",
         "name": "Trend respondent_2",
         "showlegend": false,
         "type": "scatter",
         "x": {
          "bdata": "AAAAAAAAMEAIH3zwwQcwQBA++OCDDzBAF1100UUXMEAffPDBBx8wQCebbLLJJjBAL7rooosuMEA22WSTTTYwQD744IMPPjBARhdddNFFMEBONtlkk00wQFVVVVVVVTBAXXTRRRddMEBlk0022WQwQG2yySabbDBAdNFFF110MEB88MEHH3wwQIQPPvjggzBAjC666KKLMECTTTbZZJMwQJtssskmmzBAo4suuuiiMECrqqqqqqowQLLJJptssjBAuuiiiy66MEDCBx988MEwQMomm2yyyTBA0UUXXXTRMEDZZJNNNtkwQOGDDz744DBA6aKLLrroMEDwwQcffPAwQPjggw8++DBAAAAAAAAAMUAIH3zwwQcxQBA++OCDDzFAF1100UUXMUAffPDBBx8xQCebbLLJJjFAL7rooosuMUA22WSTTTYxQD744IMPPjFARhdddNFFMUBONtlkk00xQFVVVVVVVTFAXXTRRRddMUBlk0022WQxQG2yySabbDFAdNFFF110MUB88MEHH3wxQIQPPvjggzFAjC666KKLMUCTTTbZZJMxQJtssskmmzFAo4suuuiiMUCrqqqqqqoxQLLJJptssjFAuuiiiy66MUDCBx988MExQMomm2yyyTFA0kUXXXTRMUDZZJNNNtkxQOGDDz744DFA6aKLLrroMUDwwQcffPAxQPjggw8++DFAAAAAAAAAMkAIH3zwwQcyQBA++OCDDzJAF1100UUXMkAffPDBBx8yQCebbLLJJjJALrrooosuMkA22WSTTTYyQD744IMPPjJARhdddNFFMkBONtlkk00yQFVVVVVVVTJAXXTRRRddMkBlk0022WQyQG2yySabbDJAdNFFF110MkB88MEHH3wyQIQPPvjggzJAjC666KKLMkCTTTbZZJMyQJtssskmmzJAo4suuuiiMkCrqqqqqqoyQLLJJptssjJAuuiiiy66MkDCBx988MEyQMomm2yyyTJA0kUXXXTRMkDZZJNNNtkyQOGDDz744DJA6aKLLrroMkDwwQcffPAyQPjggw8++DJAAAAAAAAAM0A=",
          "dtype": "f8"
         },
         "xaxis": "x6",
         "y": {
          "bdata": "KbbLgEej9z9hgs12W5T3P5pOz2xvhfc/1BrRYoN29z8M59JYl2f3P0Wz1E6rWPc/fX/WRL9J9z+3S9g60zr3P/AX2jDnK/c/KOTbJvsc9z9gsN0cDw73P5t83xIj//Y/00jhCDfw9j8LFeP+SuH2P0Th5PRe0vY/fq3m6nLD9j+2eejghrT2P+9F6taapfY/JxLszK6W9j9h3u3Cwof2P5qq77jWePY/0nbxrupp9j8KQ/Ok/lr2P0QP9ZoSTPY/ftv2kCY99j+2p/iGOi72P+5z+nxOH/Y/KED8cmIQ9j9gDP5odgH2P5jY/16K8vU/0qQBVZ7j9T8McQNLstT1P0Q9BUHGxfU/fAkHN9q29T+01Qgt7qf1P+yhCiMCmfU/KG4MGRaK9T9gOg4PKnv1P5gGEAU+bPU/0NIR+1Fd9T8KnxPxZU71P0JrFed5P/U/fDcX3Y0w9T+0AxnToSH1P+7PGsm1EvU/Jpwcv8kD9T9eaB613fT0P5Y0IKvx5fQ/0gAioQXX9D8KzSOXGcj0P0KZJY0tufQ/emUng0Gq9D+0MSl5VZv0P+z9Km9pjPQ/JsosZX199D9eli5bkW70P5hiMFGlX/Q/0C4yR7lQ9D8I+zM9zUH0P0DHNTPhMvQ/epM3KfUj9D+0XzkfCRX0P+wrOxUdBvQ/JPg8CzH38z9exD4BRejzP5aQQPdY2fM/0FxC7WzK8z8IKUTjgLvzP0D1RdmUrPM/esFHz6id8z+yjUnFvI7zP+pZS7vQf/M/JiZNseRw8z9e8k6n+GHzP5a+UJ0MU/M/zopSkyBE8z8GV1SJNDXzP0AjVn9IJvM/eu9XdVwX8z+yu1lrcAjzP+qHW2GE+fI/JFRdV5jq8j9cIF9NrNvyP5TsYEPAzPI/zrhiOdS98j8IhWQv6K7yP0BRZiX8n/I/eB1oGxCR8j+w6WkRJILyP+q1awc4c/I/JIJt/Utk8j9cTm/zX1XyP5QacelzRvI/zOZy34c38j8Gs3TVmyjyPz5/dsuvGfI/eEt4wcMK8j+yF3q31/vxP+rje63r7PE/IrB9o//d8T8=",
          "dtype": "f8"
         },
         "yaxis": "y6"
        },
        {
         "customdata": [
          "2024-12-11T10:55:16.000000000",
          "2024-12-11T15:51:05.000000000",
          "2024-12-11T22:05:25.000000000",
          "2024-12-13T02:03:23.000000000",
          "2024-12-13T10:32:47.000000000",
          "2024-12-14T13:00:47.000000000",
          "2024-12-15T01:16:30.000000000"
         ],
         "hovertemplate": "ID: respondent_3<br>DateTime: %{customdata}<br>hour: %{x:.2f}<br>Score: %{y:.2f}<br>Pearson r: -0.226<br>Spearman r: -0.342<br>Kendall τ: -0.195<br>DCOR: 0.348",
         "legendgroup": "respondent_3",
         "marker": {
          "color": "#0000FF",
          "opacity": 0.8,
          "size": 8
         },
         "mode": "markers",
         "name": "ID: respondent_3",
         "showlegend": false,
         "type": "scatter",
         "x": {
          "bdata": "Cg8WGgoNGQ==",
          "dtype": "i1"
         },
         "xaxis": "x6",
         "y": {
          "bdata": "qikaLbLz5D9+fOqEVwLhP22WoE1fyuQ/JJkGE7ys2z+Mq0RUUm/bP6puPqGaitw/KRERjbCN2j8=",
          "dtype": "f8"
         },
         "yaxis": "y6"
        },
        {
         "hovertemplate": "ID: respondent_3<br>Pearson r: -0.226<br>Spearman r: -0.342<br>Kendall τ: -0.195<br>DCOR: 0.348",
         "legendgroup": "respondent_3",
         "line": {
          "color": "#0000FF",
          "dash": "dash",
          "width": 2
         },
         "mode": "lines",
         "name": "Trend respondent_3",
         "showlegend": false,
         "type": "scatter",
         "x": {
          "bdata": "AAAAAAAAJED9SoFav1IkQPuVArV+pSRA+OCDDz74JED2KwVq/UolQPN2hsS8nSVA8MEHH3zwJUDuDIl5O0MmQOtXCtT6lSZA6aKLLrroJkDm7QyJeTsnQOQ4juM4jidA4YMPPvjgJ0DezpCYtzMoQNwZEvN2hihA2WSTTTbZKEDXrxSo9SspQNT6lQK1filA0kUXXXTRKUDPkJi3MyQqQMzbGRLzdipAyiabbLLJKkDHcRzHcRwrQMW8nSExbytAwgcffPDBK0DAUqDWrxQsQL2dITFvZyxAuuiiiy66LEC4MyTm7QwtQLV+pUCtXy1Asskmm2yyLUCwFKj1KwUuQK5fKVDrVy5Aq6qqqqqqLkCo9SsFav0uQKZArV8pUC9Ao4suuuiiL0Cg1q8UqPUvQM+QmLczJDBATjbZZJNNMEDM2xkS83YwQEuBWr9SoDBAyiabbLLJMEBIzNsZEvMwQMdxHMdxHDFARhdddNFFMUDFvJ0hMW8xQERi3s6QmDFAwgcffPDBMUBBrV8pUOsxQMBSoNavFDJAPvjggw8+MkC9nSExb2cyQDxDYt7OkDJAuuiiiy66MkA5juM4juMyQLgzJObtDDNANtlkk002M0C1fqVArV8zQDQk5u0MiTNAsskmm2yyM0Ayb2dIzNszQLAUqPUrBTRAL7rooosuNECuXylQ61c0QCwFav1KgTRAq6qqqqqqNEAqUOtXCtQ0QKj1KwVq/TRAJ5tssskmNUCmQK1fKVA1QCTm7QyJeTVAo4suuuiiNUAiMW9nSMw1QKDWrxSo9TVAIHzwwQcfNkCeITFvZ0g2QBzHcRzHcTZAnGyyySabNkAaEvN2hsQ2QJm3MyTm7TZAGF100UUXN0CWArV+pUA3QBWo9SsFajdAlE022WSTN0AS83aGxLw3QJGYtzMk5jdAED744IMPOECO4ziO4zg4QA6JeTtDYjhAjC666KKLOEAK1PqVArU4QIp5O0Ni3jhACB988MEHOUCHxLydITE5QAZq/UqBWjlAhA8++OCDOUADtX6lQK05QIJav1Kg1jlAAAAAAAAAOkA=",
          "dtype": "f8"
         },
         "xaxis": "x6",
         "y": {
          "bdata": "RnrGpfAQ4T/IImiyYwzhP0rLCb/WB+E/zHOry0kD4T9OHE3YvP7gP9HE7uQv+uA/U22Q8aL14D/VFTL+FfHgP1e+0wqJ7OA/2WZ1F/zn4D9bDxckb+PgP923uDDi3uA/YGBaPVXa4D/iCPxJyNXgP2SxnVY70eA/5lk/Y67M4D9oAuFvIcjgP+qqgnyUw+A/bFMkiQe/4D/v+8WVerrgP3GkZ6LtteA/80wJr2Cx4D919aq706zgP/edTMhGqOA/eUbu1Lmj4D/87o/hLJ/gP36XMe6fmuA/AEDT+hKW4D+C6HQHhpHgPwSRFhT5jOA/hjm4IGyI4D8I4lkt34PgP4qK+zlSf+A/DTOdRsV64D+P2z5TOHbgPxGE4F+rceA/kyyCbB5t4D8V1SN5kWjgP5d9xYUEZOA/GiZnkndf4D+czgif6lrgPx53qqtdVuA/oB9MuNBR4D8iyO3EQ03gP6Rwj9G2SOA/Jhkx3ilE4D+pwdLqnD/gPytqdPcPO+A/rRIWBIM24D8vu7cQ9jHgP7FjWR1pLeA/Mwz7Kdwo4D+2tJw2TyTgPzhdPkPCH+A/ugXgTzUb4D88roFcqBbgP75WI2kbEuA/QP/EdY4N4D/Cp2aCAQngP0RQCI90BOA/jvFTN8//3z+SQpdQtfbfP5aT2mmb7d8/muQdg4Hk3z+eNWGcZ9vfP6OGpLVN0t8/p9fnzjPJ3z+rKCvoGcDfP7B5bgEAt98/tMqxGuat3z+4G/UzzKTfP71sOE2ym98/wb17ZpiS3z/FDr9/fonfP8pfAplkgN8/zrBFskp33z/SAYnLMG7fP9ZSzOQWZd8/2qMP/vxb3z/f9FIX41LfP+NFljDJSd8/55bZSa9A3z/s5xxjlTffP/A4YHx7Lt8/9ImjlWEl3z/52uauRxzfP/0rKsgtE98/AX1t4RMK3z8GzrD6+QDfPwof9BPg994/DnA3Lcbu3j8SwXpGrOXePxYSvl+S3N4/G2MBeXjT3j8ftESSXsrePyQFiKtEwd4/KFbLxCq43j8spw7eEK/ePzD4Uff2pd4/NUmVEN2c3j8=",
          "dtype": "f8"
         },
         "yaxis": "y6"
        },
        {
         "customdata": [
          "2024-12-12T12:56:06.000000000",
          "2024-12-12T22:33:31.000000000",
          "2024-12-13T11:40:45.000000000",
          "2024-12-14T01:05:55.000000000",
          "2024-12-14T12:11:29.000000000",
          "2024-12-15T01:29:44.000000000",
          "2024-12-15T13:04:17.000000000",
          "2024-12-15T18:28:17.000000000",
          "2024-12-16T06:52:53.000000000",
          "2024-12-16T23:57:21.000000000",
          "2024-12-17T09:58:55.000000000",
          "2024-12-18T00:18:36.000000000",
          "2024-12-18T09:33:39.000000000",
          "2024-12-24T08:34:30.000000000",
          "2024-12-24T22:24:22.000000000",
          "2025-01-16T10:26:25.000000000",
          "2025-01-20T08:42:15.000000000",
          "2025-01-20T22:38:18.000000000",
          "2025-01-21T11:34:02.000000000"
         ],
         "hovertemplate": "ID: respondent_4<br>DateTime: %{customdata}<br>hour: %{x:.2f}<br>Score: %{y:.2f}<br>Pearson r: 0.020<br>Spearman r: -0.005<br>Kendall τ: -0.030<br>DCOR: 0.310",
         "legendgroup": "respondent_4",
         "marker": {
          "color": "#FF00FF",
          "opacity": 0.8,
          "size": 8
         },
         "mode": "markers",
         "name": "ID: respondent_4",
         "showlegend": false,
         "type": "scatter",
         "x": {
          "bdata": "DBYLGQwZDRIGFwkYCQgWCggWCw==",
          "dtype": "i1"
         },
         "xaxis": "x6",
         "y": {
          "bdata": "kxyZGc+N2j9smfEISYTiP2VJkp8gldc/deJqhJZS4D8O1HG+uG7fP/0zjCjCy9U/53hWyVc63T+BwmYBrN/aP5J8CRCoT90/mWoBHLW23D939DOqDzPgP861hahsBt4/1fVcwdPd2z8fSGwimFXbPxs3/2whxdY/mxBe9Jn+2j8LFbW0qCDdPxt5y1l2Y9s/bLzbvHq52T8=",
          "dtype": "f8"
         },
         "yaxis": "y6"
        },
        {
         "hovertemplate": "ID: respondent_4<br>Pearson r: 0.020<br>Spearman r: -0.005<br>Kendall τ: -0.030<br>DCOR: 0.310",
         "legendgroup": "respondent_4",
         "line": {
          "color": "#FF00FF",
          "dash": "dash",
          "width": 2
         },
         "mode": "lines",
         "name": "Trend respondent_4",
         "showlegend": false,
         "type": "scatter",
         "x": {
          "bdata": "AAAAAAAAGEAaEvN2hsQYQDQk5u0MiRlATjbZZJNNGkBnSMzbGRIbQIFav1Kg1htAm2yyySabHEC1fqVArV8dQM+QmLczJB5A6KKLLrroHkACtX6lQK0fQI7jOI7jOCBAm2yyySabIECo9SsFav0gQLV+pUCtXyFAwgcffPDBIUDPkJi3MyQiQNwZEvN2hiJA6KKLLrroIkD2KwVq/UojQAK1fqVArSNAED744IMPJEAcx3Ecx3EkQClQ61cK1CRANtlkk002JUBDYt7OkJglQFDrVwrU+iVAXXTRRRddJkBq/UqBWr8mQHaGxLydISdAhA8++OCDJ0CQmLczJOYnQJ4hMW9nSChAqqqqqqqqKEC4MyTm7QwpQMS8nSExbylA0UUXXXTRKUDezpCYtzMqQOtXCtT6lSpA+OCDDz74KkAFav1KgVorQBLzdobEvCtAH3zwwQcfLEAsBWr9SoEsQDmO4ziO4yxARRdddNFFLUBSoNavFKgtQF8pUOtXCi5AbLLJJptsLkB5O0Ni3s4uQIbEvJ0hMS9Ak0022WSTL0Cg1q8UqPUvQNavFKj1KzBAXXTRRRddMEDkOI7jOI4wQGr9SoFavzBA8MEHH3zwMEB2hsS8nSExQP1KgVq/UjFAhA8++OCDMUAK1PqVArUxQJCYtzMk5jFAF1100UUXMkCeITFvZ0gyQCTm7QyJeTJAqqqqqqqqMkAxb2dIzNsyQLgzJObtDDNAPvjggw8+M0DEvJ0hMW8zQEqBWr9SoDNA0UUXXXTRM0BYCtT6lQI0QN7OkJi3MzRAZJNNNtlkNEDrVwrU+pU0QHIcx3EcxzRA+OCDDz74NEB+pUCtXyk1QAVq/UqBWjVAjC666KKLNUAS83aGxLw1QJi3MyTm7TVAH3zwwQcfNkClQK1fKVA2QCwFav1KgTZAsskmm2yyNkA5juM4juM2QL9SoNavFDdARRdddNFFN0DM2xkS83Y3QFKg1q8UqDdA2WSTTTbZN0BfKVDrVwo4QObtDIl5OzhAbLLJJptsOEDzdobEvJ04QHk7Q2LezjhAAAAAAAAAOUA=",
          "dtype": "f8"
         },
         "xaxis": "x6",
         "y": {
          "bdata": "HSRrSYEn3D8ZG8DKBijcPxYSFUyMKNw/EglqzREp3D8OAL9OlyncPwr3E9AcKtw/Bu5oUaIq3D8D5b3SJyvcP//bElStK9w/+9Jn1TIs3D/3ybxWuCzcP/TAEdg9Ldw/8LdmWcMt3D/srrvaSC7cP+ilEFzOLtw/5Jxl3VMv3D/hk7pe2S/cP92KD+BeMNw/2YFkYeQw3D/VeLniaTHcP9JvDmTvMdw/zmZj5XQy3D/KXbhm+jLcP8ZUDeh/M9w/wktiaQU03D+/QrfqijTcP7s5DGwQNdw/tzBh7ZU13D+zJ7ZuGzbcP7AeC/CgNtw/rBVgcSY33D+oDLXyqzfcP6QDCnQxONw/oPpe9bY43D+d8bN2PDncP5noCPjBOdw/ld9deUc63D+R1rL6zDrcP47NB3xSO9w/isRc/dc73D+Gu7F+XTzcP4KyBgDjPNw/fqlbgWg93D97oLAC7j3cP3eXBYRzPtw/c45aBfk+3D9vha+Gfj/cP2x8BAgEQNw/aHNZiYlA3D9kaq4KD0HcP2BhA4yUQdw/XFhYDRpC3D9ZT62On0LcP1VGAhAlQ9w/UT1XkapD3D9NNKwSMETcP0orAZS1RNw/RiJWFTtF3D9CGauWwEXcPz4QABhGRtw/OgdVmctG3D83/qkaUUfcPzP1/pvWR9w/L+xTHVxI3D8r46ie4UjcPyja/R9nSdw/JNFSoexJ3D8gyKcickrcPxy//KP3Stw/GLZRJX1L3D8VraamAkzcPxGk+yeITNw/DZtQqQ1N3D8JkqUqk03cPwaJ+qsYTtw/AoBPLZ5O3D/+dqSuI0/cP/pt+S+pT9w/9mROsS5Q3D/zW6MytFDcP+9S+LM5Udw/60lNNb9R3D/nQKK2RFLcP+Q39zfKUtw/4C5MuU9T3D/cJaE61VPcP9gc9rtaVNw/1BNLPeBU3D/RCqC+ZVXcP80B9T/rVdw/yfhJwXBW3D/F755C9lbcP8Lm88N7V9w/vt1IRQFY3D+61J3GhljcP7bL8kcMWdw/ssJHyZFZ3D+vuZxKF1rcP6uw8cucWtw/p6dGTSJb3D8=",
          "dtype": "f8"
         },
         "yaxis": "y6"
        },
        {
         "customdata": [
          "2024-12-11T17:20:52.000000000",
          "2024-12-12T13:14:12.000000000",
          "2024-12-12T21:07:06.000000000",
          "2024-12-13T08:20:01.000000000",
          "2024-12-13T20:13:02.000000000",
          "2024-12-14T11:56:28.000000000",
          "2024-12-14T20:53:06.000000000",
          "2024-12-15T12:06:37.000000000",
          "2024-12-15T22:12:43.000000000"
         ],
         "hovertemplate": "ID: respondent_1<br>DateTime: %{customdata}<br>weekday_num: %{x:.2f}<br>Score: %{y:.2f}<br>Pearson r: 0.120<br>Spearman r: 0.148<br>Kendall τ: 0.095<br>DCOR: 0.447",
         "legendgroup": "respondent_1",
         "marker": {
          "color": "#FF0000",
          "opacity": 0.8,
          "size": 8
         },
         "mode": "markers",
         "name": "ID: respondent_1",
         "showlegend": false,
         "type": "scatter",
         "x": {
          "bdata": "AgAAAAMAAAADAAAABAAAAAQAAAAFAAAABQAAAAYAAAAGAAAA",
          "dtype": "i4"
         },
         "xaxis": "x7",
         "y": {
          "bdata": "XI/C9Shc7z8zMzMzMzPvPzMzMzMzM+8/rkfhehSu7z/hehSuR+HuP1yPwvUoXO8/XI/C9Shc7z/Xo3A9CtfvP+F6FK5H4e4/",
          "dtype": "f8"
         },
         "yaxis": "y7"
        },
        {
         "hovertemplate": "ID: respondent_1<br>Pearson r: 0.120<br>Spearman r: 0.148<br>Kendall τ: 0.095<br>DCOR: 0.447",
         "legendgroup": "respondent_1",
         "line": {
          "color": "#FF0000",
          "dash": "dash",
          "width": 2
         },
         "mode": "lines",
         "name": "Trend respondent_1",
         "showlegend": false,
         "type": "scatter",
         "x": {
          "bdata": "AAAAAAAAAED9SoFav1IAQPuVArV+pQBA+OCDDz74AED2KwVq/UoBQPN2hsS8nQFA8MEHH3zwAUDuDIl5O0MCQOtXCtT6lQJA6aKLLrroAkDm7QyJeTsDQOQ4juM4jgNA4YMPPvjgA0DezpCYtzMEQNwZEvN2hgRA2WSTTTbZBEDXrxSo9SsFQNT6lQK1fgVA0kUXXXTRBUDPkJi3MyQGQMzbGRLzdgZAyiabbLLJBkDHcRzHcRwHQMW8nSExbwdAwgcffPDBB0DAUqDWrxQIQL2dITFvZwhAuuiiiy66CEC4MyTm7QwJQLV+pUCtXwlAsskmm2yyCUCwFKj1KwUKQK5fKVDrVwpAq6qqqqqqCkCo9SsFav0KQKZArV8pUAtAo4suuuiiC0Cg1q8UqPULQJ4hMW9nSAxAnGyyySabDECZtzMk5u0MQJYCtX6lQA1AlE022WSTDUCRmLczJOYNQI7jOI7jOA5AjC666KKLDkCKeTtDYt4OQIfEvJ0hMQ9AhA8++OCDD0CCWr9SoNYPQMBSoNavFBBAPvjggw8+EEC9nSExb2cQQDxDYt7OkBBAuuiiiy66EEA5juM4juMQQLgzJObtDBFANtlkk002EUC1fqVArV8RQDQk5u0MiRFAsskmm2yyEUAyb2dIzNsRQLAUqPUrBRJAL7rooosuEkCuXylQ61cSQCwFav1KgRJAq6qqqqqqEkAqUOtXCtQSQKj1KwVq/RJAJ5tssskmE0CmQK1fKVATQCTm7QyJeRNAo4suuuiiE0AiMW9nSMwTQKDWrxSo9RNAIHzwwQcfFECeITFvZ0gUQBzHcRzHcRRAnGyyySabFEAaEvN2hsQUQJm3MyTm7RRAGF100UUXFUCWArV+pUAVQBWo9SsFahVAlE022WSTFUAS83aGxLwVQJGYtzMk5hVAED744IMPFkCO4ziO4zgWQA6JeTtDYhZAjC666KKLFkAK1PqVArUWQIp5O0Ni3hZACB988MEHF0CHxLydITEXQAZq/UqBWhdAhA8++OCDF0ADtX6lQK0XQIJav1Kg1hdAAAAAAAAAGEA=",
          "dtype": "f8"
         },
         "xaxis": "x7",
         "y": {
          "bdata": "h02lIec+7z835pPCLz/vP+d+gmN4P+8/lxdxBME/7z9HsF+lCUDvP/dITkZSQO8/puE855pA7z9WeiuI40DvPwYTGiksQe8/tqsIynRB7z9mRPdqvUHvPxbd5QsGQu8/xXXUrE5C7z91DsNNl0LvPyWnse7fQu8/1T+gjyhD7z+F2I4wcUPvPzRxfdG5Q+8/5AlscgJE7z+UoloTS0TvP0Q7SbSTRO8/9NM3VdxE7z+kbCb2JEXvP1MFFZdtRe8/A54DOLZF7z+zNvLY/kXvP2PP4HlHRu8/E2jPGpBG7z/DAL672EbvP3KZrFwhR+8/IjKb/WlH7z/SyomeskfvP4JjeD/7R+8/Mvxm4ENI7z/ilFWBjEjvP5EtRCLVSO8/QcYywx1J7z/xXiFkZknvP6H3DwWvSe8/UZD+pfdJ7z8AKe1GQErvP7DB2+eISu8/YFrKiNFK7z8Q87gpGkvvP8CLp8piS+8/cCSWa6tL7z8fvYQM9EvvP89Vc608TO8/f+5hToVM7z8vh1DvzUzvP98fP5AWTe8/j7gtMV9N7z8+URzSp03vP+7pCnPwTe8/noL5EzlO7z9OG+i0gU7vP/6z1lXKTu8/rkzF9hJP7z9d5bOXW0/vPw1+ojikT+8/vRaR2exP7z9tr396NVDvPx1Ibht+UO8/zeBcvMZQ7z98eUtdD1HvPywSOv5XUe8/3Koon6BR7z+MQxdA6VHvPzzcBeExUu8/63T0gXpS7z+bDeMiw1LvP0um0cMLU+8/+z7AZFRT7z+r164FnVPvP1twnablU+8/CgmMRy5U7z+6oXrodlTvP2o6aYm/VO8/GtNXKghV7z/Ka0bLUFXvP3oENWyZVe8/KZ0jDeJV7z/ZNRKuKlbvP4nOAE9zVu8/OWfv77tW7z/p/92QBFfvP5mYzDFNV+8/SDG70pVX7z/4yalz3lfvP6himBQnWO8/WPuGtW9Y7z8IlHVWuFjvP7gsZPcAWe8/Z8VSmElZ7z8XXkE5klnvP8f2L9raWe8/d48eeyNa7z8nKA0cbFrvP9bA+7y0Wu8/hlnqXf1a7z8=",
          "dtype": "f8"
         },
         "yaxis": "y7"
        },
        {
         "customdata": [
          "2024-12-11T16:09:52.000000000",
          "2024-12-12T19:57:16.000000000"
         ],
         "hovertemplate": "ID: respondent_2<br>DateTime: %{customdata}<br>weekday_num: %{x:.2f}<br>Score: %{y:.2f}<br>Pearson r: -1.000<br>Spearman r: -1.000<br>Kendall τ: -1.000<br>DCOR: 1.000",
         "legendgroup": "respondent_2",
         "marker": {
          "color": "#00FF00",
          "opacity": 0.8,
          "size": 8
         },
         "mode": "markers",
         "name": "ID: respondent_2",
         "showlegend": false,
         "type": "scatter",
         "x": {
          "bdata": "AgAAAAMAAAA=",
          "dtype": "i4"
         },
         "xaxis": "x7",
         "y": {
          "bdata": "hetRuB6F7z8K16NwPQrvPw==",
          "dtype": "f8"
         },
         "yaxis": "y7"
        },
        {
         "hovertemplate": "ID: respondent_2<br>Pearson r: -1.000<br>Spearman r: -1.000<br>Kendall τ: -1.000<br>DCOR: 1.000",
         "legendgroup": "respondent_2",
         "line": {
          "color": "#00FF00",
          "dash": "dash",
          "width": 2
         },
         "mode": "lines",
         "name": "Trend respondent_2",
         "showlegend": false,
         "type": "scatter",
         "x": {
          "bdata": "AAAAAAAAAEC/UqDWrxQAQH+lQK1fKQBAPvjggw8+AED9SoFav1IAQL2dITFvZwBAfPDBBx98AEA8Q2LezpAAQPuVArV+pQBAuuiiiy66AEB6O0Ni3s4AQDmO4ziO4wBA+OCDDz74AEC4MyTm7QwBQHeGxLydIQFANtlkk002AUD2KwVq/UoBQLV+pUCtXwFAdNFFF110AUA0JObtDIkBQPN2hsS8nQFAsskmm2yyAUByHMdxHMcBQDFvZ0jM2wFA8MEHH3zwAUCwFKj1KwUCQG9nSMzbGQJAL7rooosuAkDuDIl5O0MCQK1fKVDrVwJAbbLJJptsAkAsBWr9SoECQOtXCtT6lQJAq6qqqqqqAkBq/UqBWr8CQCpQ61cK1AJA6aKLLrroAkCo9SsFav0CQGhIzNsZEgNAJ5tssskmA0Dm7QyJeTsDQKZArV8pUANAZZNNNtlkA0Ak5u0MiXkDQOQ4juM4jgNAo4suuuiiA0Bi3s6QmLcDQCIxb2dIzANA4YMPPvjgA0Cg1q8UqPUDQGApUOtXCgRAH3zwwQcfBEDezpCYtzMEQJ4hMW9nSARAXXTRRRddBEAcx3Ecx3EEQNwZEvN2hgRAm2yyySabBEBav1Kg1q8EQBoS83aGxARA2WSTTTbZBECZtzMk5u0EQFgK1PqVAgVAGF100UUXBUDXrxSo9SsFQJYCtX6lQAVAVlVVVVVVBUAVqPUrBWoFQNT6lQK1fgVAlE022WSTBUBToNavFKgFQBLzdobEvAVA0kUXXXTRBUCRmLczJOYFQFDrVwrU+gVAED744IMPBkDPkJi3MyQGQI7jOI7jOAZATjbZZJNNBkANiXk7Q2IGQMzbGRLzdgZAjC666KKLBkBLgVq/UqAGQArU+pUCtQZAyiabbLLJBkCJeTtDYt4GQEjM2xkS8wZACB988MEHB0DHcRzHcRwHQIfEvJ0hMQdARhdddNFFB0AFav1KgVoHQMW8nSExbwdAhA8++OCDB0BEYt7OkJgHQAO1fqVArQdAwgcffPDBB0CCWr9SoNYHQEGtXylQ6wdAAAAAAAAACEA=",
          "dtype": "f8"
         },
         "xaxis": "x7",
         "y": {
          "bdata": "hutRuB6F7z+FDz744IPvP4QzKjijgu8/glcWeGWB7z+BewK4J4DvP4Cf7vfpfu8/f8PaN6x97z9958Z3bnzvP3wLs7cwe+8/ey+f9/J57z96U4s3tXjvP3h3d3d3d+8/d5tjtzl27z92v0/3+3TvP3XjOze+c+8/dAcod4By7z9yKxS3QnHvP3FPAPcEcO8/cHPsNsdu7z9vl9h2iW3vP227xLZLbO8/bN+w9g1r7z9rA5020GnvP2oniXaSaO8/aEt1tlRn7z9nb2H2FmbvP2aTTTbZZO8/Zbc5dptj7z9j2yW2XWLvP2L/EfYfYe8/YSP+NeJf7z9gR+p1pF7vP15r1rVmXe8/XY/C9Shc7z9cs64161rvP1vXmnWtWe8/WfuGtW9Y7z9YH3P1MVfvP1dDXzX0Ve8/VmdLdbZU7z9Uize1eFPvP1OvI/U6Uu8/UtMPNf1Q7z9R9/t0v0/vP1Ab6LSBTu8/Tj/U9ENN7z9NY8A0BkzvP0yHrHTISu8/S6uYtIpJ7z9Jz4T0TEjvP0jzcDQPR+8/RxdddNFF7z9GO0m0k0TvP0RfNfRVQ+8/Q4MhNBhC7z9Cpw102kDvP0HL+bOcP+8/P+/l814+7z8+E9IzIT3vPz03vnPjO+8/PFuqs6U67z86f5bzZznvPzmjgjMqOO8/OMduc+w27z8361qzrjXvPzUPR/NwNO8/NDMzMzMz7z8zVx9z9THvPzJ7C7O3MO8/MJ/38nkv7z8vw+MyPC7vPy7nz3L+LO8/LQu8ssAr7z8sL6jygirvPypTlDJFKe8/KXeAcgco7z8om2yyySbvPye/WPKLJe8/JeNEMk4k7z8kBzFyECPvPyMrHbLSIe8/Ik8J8pQg7z8gc/UxVx/vPx+X4XEZHu8/HrvNsdsc7z8d37nxnRvvPxsDpjFgGu8/GieScSIZ7z8ZS36x5BfvPxhvavGmFu8/FpNWMWkV7z8Vt0JxKxTvPxTbLrHtEu8/E/8a8a8R7z8RIwcxchDvPxBH83A0D+8/D2vfsPYN7z8Oj8vwuAzvPwyztzB7C+8/C9ejcD0K7z8=",
          "dtype": "f8"
         },
         "yaxis": "y7"
        },
        {
         "customdata": [
          "2024-12-11T10:55:16.000000000",
          "2024-12-11T15:51:05.000000000",
          "2024-12-11T22:05:25.000000000",
          "2024-12-13T02:03:23.000000000",
          "2024-12-13T10:32:47.000000000",
          "2024-12-14T13:00:47.000000000",
          "2024-12-15T01:16:30.000000000"
         ],
         "hovertemplate": "ID: respondent_3<br>DateTime: %{customdata}<br>weekday_num: %{x:.2f}<br>Score: %{y:.2f}<br>Pearson r: 0.440<br>Spearman r: 0.441<br>Kendall τ: 0.353<br>DCOR: 0.510",
         "legendgroup": "respondent_3",
         "marker": {
          "color": "#0000FF",
          "opacity": 0.8,
          "size": 8
         },
         "mode": "markers",
         "name": "ID: respondent_3",
         "showlegend": false,
         "type": "scatter",
         "x": {
          "bdata": "AgAAAAIAAAACAAAABAAAAAQAAAAFAAAABgAAAA==",
          "dtype": "i4"
         },
         "xaxis": "x7",
         "y": {
          "bdata": "16NwPQrX7z+F61G4HoXvP9ejcD0K1+8/AAAAAAAA8D+uR+F6FK7vPwAAAAAAAPA/16NwPQrX7z8=",
          "dtype": "f8"
         },
         "yaxis": "y7"
        },
        {
         "hovertemplate": "ID: respondent_3<br>Pearson r: 0.440<br>Spearman r: 0.441<br>Kendall τ: 0.353<br>DCOR: 0.510",
         "legendgroup": "respondent_3",
         "line": {
          "color": "#0000FF",
          "dash": "dash",
          "width": 2
         },
         "mode": "lines",
         "name": "Trend respondent_3",
         "showlegend": false,
         "type": "scatter",
         "x": {
          "bdata": "AAAAAAAAAED9SoFav1IAQPuVArV+pQBA+OCDDz74AED2KwVq/UoBQPN2hsS8nQFA8MEHH3zwAUDuDIl5O0MCQOtXCtT6lQJA6aKLLrroAkDm7QyJeTsDQOQ4juM4jgNA4YMPPvjgA0DezpCYtzMEQNwZEvN2hgRA2WSTTTbZBEDXrxSo9SsFQNT6lQK1fgVA0kUXXXTRBUDPkJi3MyQGQMzbGRLzdgZAyiabbLLJBkDHcRzHcRwHQMW8nSExbwdAwgcffPDBB0DAUqDWrxQIQL2dITFvZwhAuuiiiy66CEC4MyTm7QwJQLV+pUCtXwlAsskmm2yyCUCwFKj1KwUKQK5fKVDrVwpAq6qqqqqqCkCo9SsFav0KQKZArV8pUAtAo4suuuiiC0Cg1q8UqPULQJ4hMW9nSAxAnGyyySabDECZtzMk5u0MQJYCtX6lQA1AlE022WSTDUCRmLczJOYNQI7jOI7jOA5AjC666KKLDkCKeTtDYt4OQIfEvJ0hMQ9AhA8++OCDD0CCWr9SoNYPQMBSoNavFBBAPvjggw8+EEC9nSExb2cQQDxDYt7OkBBAuuiiiy66EEA5juM4juMQQLgzJObtDBFANtlkk002EUC1fqVArV8RQDQk5u0MiRFAsskmm2yyEUAyb2dIzNsRQLAUqPUrBRJAL7rooosuEkCuXylQ61cSQCwFav1KgRJAq6qqqqqqEkAqUOtXCtQSQKj1KwVq/RJAJ5tssskmE0CmQK1fKVATQCTm7QyJeRNAo4suuuiiE0AiMW9nSMwTQKDWrxSo9RNAIHzwwQcfFECeITFvZ0gUQBzHcRzHcRRAnGyyySabFEAaEvN2hsQUQJm3MyTm7RRAGF100UUXFUCWArV+pUAVQBWo9SsFahVAlE022WSTFUAS83aGxLwVQJGYtzMk5hVAED744IMPFkCO4ziO4zgWQA6JeTtDYhZAjC666KKLFkAK1PqVArUWQIp5O0Ni3hZACB988MEHF0CHxLydITEXQAZq/UqBWhdAhA8++OCDF0ADtX6lQK0XQIJav1Kg1hdAAAAAAAAAGEA=",
          "dtype": "f8"
         },
         "xaxis": "x7",
         "y": {
          "bdata": "WDm0yHa+7z9NoVgI8r7vP0EJ/Udtv+8/NXGhh+i/7z8p2UXHY8DvPx1B6gbfwO8/EamORlrB7z8FETOG1cHvP/l418VQwu8/7eB7BczC7z/hSCBFR8PvP9WwxITCw+8/yRhpxD3E7z+9gA0EucTvP7HosUM0xe8/plBWg6/F7z+auPrCKsbvP44gnwKmxu8/gohDQiHH7z928OeBnMfvP2pYjMEXyO8/XsAwAZPI7z9SKNVADsnvP0aQeYCJye8/OvgdwATK7z8uYML/f8rvPyLIZj/7yu8/FjALf3bL7z8KmK++8cvvP/7/U/5szO8/82f4PejM7z/nz5x9Y83vP9s3Qb3eze8/z5/l/FnO7z/DB4o81c7vP7dvLnxQz+8/q9fSu8vP7z+fP3f7RtDvP5OnGzvC0O8/hw/Aej3R7z97d2S6uNHvP2/fCPoz0u8/Y0etOa/S7z9Xr1F5KtPvP0wX9ril0+8/QH+a+CDU7z805z44nNTvPyhP43cX1e8/HLeHt5LV7z8QHyz3DdbvPwSH0DaJ1u8/+O50dgTX7z/sVhm2f9fvP+C+vfX61+8/1CZiNXbY7z/IjgZ18djvP7z2qrRs2e8/sF5P9OfZ7z+lxvMzY9rvP5kumHPe2u8/jZY8s1nb7z+B/uDy1NvvP3VmhTJQ3O8/ac4pcsvc7z9dNs6xRt3vP1GecvHB3e8/RQYXMT3e7z85brtwuN7vPy3WX7Az3+8/IT4E8K7f7z8VpqgvKuDvPwkOTW+l4O8//nXxriDh7z/y3ZXum+HvP+ZFOi4X4u8/2q3ebZLi7z/OFYOtDePvP8J9J+2I4+8/tuXLLATk7z+qTXBsf+TvP561FKz65O8/kh2563Xl7z+GhV0r8eXvP3rtAWts5u8/blWmqufm7z9ivUrqYufvP1Yl7yne5+8/S42TaVno7z8/9Tep1OjvPzNd3OhP6e8/J8WAKMvp7z8bLSVoRurvPw+VyafB6u8/A/1t5zzr7z/3ZBInuOvvP+vMtmYz7O8/3zRbpq7s7z/TnP/lKe3vP8cEpCWl7e8/u2xIZSDu7z8=",
          "dtype": "f8"
         },
         "yaxis": "y7"
        },
        {
         "customdata": [
          "2024-12-12T12:56:06.000000000",
          "2024-12-12T22:33:31.000000000",
          "2024-12-13T11:40:45.000000000",
          "2024-12-14T01:05:55.000000000",
          "2024-12-14T12:11:29.000000000",
          "2024-12-15T01:29:44.000000000",
          "2024-12-15T13:04:17.000000000",
          "2024-12-15T18:28:17.000000000",
          "2024-12-16T06:52:53.000000000",
          "2024-12-16T23:57:21.000000000",
          "2024-12-17T09:58:55.000000000",
          "2024-12-18T00:18:36.000000000",
          "2024-12-18T09:33:39.000000000",
          "2024-12-24T08:34:30.000000000",
          "2024-12-24T22:24:22.000000000",
          "2025-01-16T10:26:25.000000000",
          "2025-01-20T08:42:15.000000000",
          "2025-01-20T22:38:18.000000000",
          "2025-01-21T11:34:02.000000000"
         ],
         "hovertemplate": "ID: respondent_4<br>DateTime: %{customdata}<br>weekday_num: %{x:.2f}<br>Score: %{y:.2f}<br>Pearson r: 0.180<br>Spearman r: 0.210<br>Kendall τ: 0.167<br>DCOR: 0.304",
         "legendgroup": "respondent_4",
         "marker": {
          "color": "#FF00FF",
          "opacity": 0.8,
          "size": 8
         },
         "mode": "markers",
         "name": "ID: respondent_4",
         "showlegend": false,
         "type": "scatter",
         "x": {
          "bdata": "AwAAAAMAAAAEAAAABQAAAAUAAAAGAAAABgAAAAYAAAAAAAAAAAAAAAEAAAACAAAAAgAAAAEAAAABAAAAAwAAAAAAAAAAAAAAAQAAAA==",
          "dtype": "i4"
         },
         "xaxis": "x7",
         "y": {
          "bdata": "AAAAAAAA8D/hehSuR+HuPwrXo3A9Cu8/CtejcD0K7z8zMzMzMzPvPwrXo3A9Cu8/4XoUrkfh7j8zMzMzMzPvPwrXo3A9Cu8/uB6F61G47j8zMzMzMzPvPwrXo3A9Cu8/CtejcD0K7z/hehSuR+HuP7gehetRuO4/uB6F61G47j+4HoXrUbjuPzMzMzMzM+8/MzMzMzMz7z8=",
          "dtype": "f8"
         },
         "yaxis": "y7"
        },
        {
         "hovertemplate": "ID: respondent_4<br>Pearson r: 0.180<br>Spearman r: 0.210<br>Kendall τ: 0.167<br>DCOR: 0.304",
         "legendgroup": "respondent_4",
         "line": {
          "color": "#FF00FF",
          "dash": "dash",
          "width": 2
         },
         "mode": "lines",
         "name": "Trend respondent_4",
         "showlegend": false,
         "type": "scatter",
         "x": {
          "bdata": "AAAAAAAAAAAIH3zwwQevPwgffPDBB78/RhdddNFFxz8IH3zwwQfPP2WTTTbZZNM/RhdddNFF1z8nm2yyySbbPwgffPDBB98/dNFFF1104T9lk0022WTjP1ZVVVVVVeU/RhdddNFF5z822WSTTTbpPyebbLLJJus/GF100UUX7T8IH3zwwQfvP3zwwQcffPA/dNFFF1108T9tsskmm2zyP2WTTTbZZPM/XXTRRRdd9D9WVVVVVVX1P0422WSTTfY/RhdddNFF9z8++OCDDz74PzbZZJNNNvk/L7rooosu+j8nm2yyySb7Px988MEHH/w/GF100UUX/T8QPvjggw/+PwgffPDBB/8/AAAAAAAAAEB88MEHH3wAQPjggw8++ABAdNFFF110AUDxwQcffPABQG2yySabbAJA6aKLLrroAkBlk0022WQDQOGDDz744ANAXXTRRRddBEDZZJNNNtkEQFZVVVVVVQVA0kUXXXTRBUBONtlkk00GQMomm2yyyQZARhdddNFFB0DCBx988MEHQD744IMPPghAuuiiiy66CEA22WSTTTYJQLPJJptssglAL7rooosuCkCrqqqqqqoKQCebbLLJJgtAo4suuuiiC0AffPDBBx8MQJtssskmmwxAGF100UUXDUCUTTbZZJMNQBA++OCDDw5AjC666KKLDkAIH3zwwQcPQIQPPvjggw9AAAAAAAAAEEA++OCDDz4QQHzwwQcffBBAuuiiiy66EED44IMPPvgQQDbZZJNNNhFAdNFFF110EUCzySabbLIRQPHBBx988BFAL7rooosuEkBtsskmm2wSQKuqqqqqqhJA6aKLLrroEkAnm2yyySYTQGWTTTbZZBNAo4suuuiiE0Dhgw8++OATQB988MEHHxRAXXTRRRddFECbbLLJJpsUQNlkk0022RRAF1100UUXFUBWVVVVVVUVQJRNNtlkkxVA0kUXXXTRFUAQPvjggw8WQE422WSTTRZAjC666KKLFkDKJptssskWQAgffPDBBxdARhdddNFFF0CEDz744IMXQMIHH3zwwRdAAAAAAAAAGEA=",
          "dtype": "f8"
         },
         "xaxis": "x7",
         "y": {
          "bdata": "+duvdmP67j9OSMvTwvruP6O05jAi++4/+CACjoH77j9NjR3r4PvuP6L5OEhA/O4/92VUpZ/87j9M0m8C//zuP6E+i19e/e4/9qqmvL397j9LF8IZHf7uP6CD3XZ8/u4/9e/409v+7j9KXBQxO//uP5/IL46a/+4/9DRL6/n/7j9JoWZIWQDvP54NgqW4AO8/83mdAhgB7z9I5rhfdwHvP51S1LzWAe8/8r7vGTYC7z9HKwt3lQLvP5yXJtT0Au8/8QNCMVQD7z9GcF2OswPvP5rceOsSBO8/70iUSHIE7z9Eta+l0QTvP5khywIxBe8/7o3mX5AF7z9D+gG97wXvP5hmHRpPBu8/7dI4d64G7z9CP1TUDQfvP5erbzFtB+8/7BeLjswH7z9BhKbrKwjvP5bwwUiLCO8/61zdpeoI7z9AyfgCSgnvP5U1FGCpCe8/6qEvvQgK7z8/DksaaArvP5R6ZnfHCu8/6eaB1CYL7z8+U50xhgvvP5O/uI7lC+8/6CvU60QM7z89mO9IpAzvP5IEC6YDDe8/53AmA2MN7z883UFgwg3vP5FJXb0hDu8/5rV4GoEO7z87IpR34A7vP5COr9Q/D+8/5frKMZ8P7z86Z+aO/g/vP4/TAexdEO8/5D8dSb0Q7z85rDimHBHvP44YVAN8Ee8/44RvYNsR7z848Yq9OhLvP41dphqaEu8/4snBd/kS7z83Nt3UWBPvP4yi+DG4E+8/4Q4UjxcU7z82ey/sdhTvP4vnSknWFO8/4FNmpjUV7z81wIEDlRXvP4osnWD0Fe8/35i4vVMW7z8zBdQasxbvP4hx73cSF+8/3d0K1XEX7z8ySiYy0RfvP4e2QY8wGO8/3CJd7I8Y7z8xj3hJ7xjvP4b7k6ZOGe8/22evA64Z7z8w1MpgDRrvP4VA5r1sGu8/2qwBG8wa7z8vGR14KxvvP4SFONWKG+8/2fFTMuob7z8uXm+PSRzvP4PKiuyoHO8/2DamSQgd7z8to8GmZx3vP4IP3QPHHe8/13v4YCYe7z8s6BO+hR7vP4FULxvlHu8/1sBKeEQf7z8=",
          "dtype": "f8"
         },
         "yaxis": "y7"
        },
        {
         "customdata": [
          "2024-12-11T17:20:52.000000000",
          "2024-12-12T13:14:12.000000000",
          "2024-12-12T21:07:06.000000000",
          "2024-12-13T08:20:01.000000000",
          "2024-12-13T20:13:02.000000000",
          "2024-12-14T11:56:28.000000000",
          "2024-12-14T20:53:06.000000000",
          "2024-12-15T12:06:37.000000000",
          "2024-12-15T22:12:43.000000000"
         ],
         "hovertemplate": "ID: respondent_1<br>DateTime: %{customdata}<br>hour: %{x:.2f}<br>Score: %{y:.2f}<br>Pearson r: -0.735<br>Spearman r: -0.751<br>Kendall τ: -0.607<br>DCOR: 0.710",
         "legendgroup": "respondent_1",
         "marker": {
          "color": "#FF0000",
          "opacity": 0.8,
          "size": 8
         },
         "mode": "markers",
         "name": "ID: respondent_1",
         "showlegend": false,
         "type": "scatter",
         "x": {
          "bdata": "EQ0VCBQLFAwW",
          "dtype": "i1"
         },
         "xaxis": "x8",
         "y": {
          "bdata": "XI/C9Shc7z8zMzMzMzPvPzMzMzMzM+8/rkfhehSu7z/hehSuR+HuP1yPwvUoXO8/XI/C9Shc7z/Xo3A9CtfvP+F6FK5H4e4/",
          "dtype": "f8"
         },
         "yaxis": "y8"
        },
        {
         "hovertemplate": "ID: respondent_1<br>Pearson r: -0.735<br>Spearman r: -0.751<br>Kendall τ: -0.607<br>DCOR: 0.710",
         "legendgroup": "respondent_1",
         "line": {
          "color": "#FF0000",
          "dash": "dash",
          "width": 2
         },
         "mode": "lines",
         "name": "Trend respondent_1",
         "showlegend": false,
         "type": "scatter",
         "x": {
          "bdata": "AAAAAAAAIECeITFvZ0ggQDtDYt7OkCBA2WSTTTbZIEB3hsS8nSEhQBWo9SsFaiFAsskmm2yyIUBQ61cK1PohQO4MiXk7QyJAjC666KKLIkApUOtXCtQiQMdxHMdxHCNAZZNNNtlkI0ACtX6lQK0jQKDWrxSo9SNAPvjggw8+JEDcGRLzdoYkQHo7Q2LeziRAF1100UUXJUC1fqVArV8lQFOg1q8UqCVA8MEHH3zwJUCO4ziO4zgmQCwFav1KgSZAyiabbLLJJkBnSMzbGRInQAVq/UqBWidAo4suuuiiJ0BArV8pUOsnQN7OkJi3MyhAfPDBBx98KEAaEvN2hsQoQLgzJObtDClAVVVVVVVVKUDzdobEvJ0pQJCYtzMk5ilALrrooosuKkDM2xkS83YqQGr9SoFavypACB988MEHK0CmQK1fKVArQENi3s6QmCtA4YMPPvjgK0B+pUCtXyksQBzHcRzHcSxAuuiiiy66LEBYCtT6lQItQPYrBWr9Si1Ak0022WSTLUAxb2dIzNstQM6QmLczJC5AbLLJJptsLkAK1PqVArUuQKj1KwVq/S5ARhdddNFFL0DkOI7jOI4vQIFav1Kg1i9AED744IMPMEDezpCYtzMwQK1fKVDrVzBAfPDBBx98MEBLgVq/UqAwQBoS83aGxDBA6KKLLrroMEC4MyTm7QwxQIbEvJ0hMTFAVVVVVVVVMUAk5u0MiXkxQPN2hsS8nTFAwgcffPDBMUCQmLczJOYxQGApUOtXCjJALrrooosuMkD+SoFav1IyQMzbGRLzdjJAm2yyySabMkBq/UqBWr8yQDmO4ziO4zJACB988MEHM0DWrxSo9SszQKZArV8pUDNAdNFFF110M0BDYt7OkJgzQBLzdobEvDNA4YMPPvjgM0CwFKj1KwU0QH6lQK1fKTRATjbZZJNNNEAcx3Ecx3E0QOtXCtT6lTRAuuiiiy66NECJeTtDYt40QFgK1PqVAjVAJptssskmNUD2KwVq/Uo1QMS8nSExbzVAk0022WSTNUBi3s6QmLc1QDFvZ0jM2zVAAAAAAAAANkA=",
          "dtype": "f8"
         },
         "xaxis": "x8",
         "y": {
          "bdata": "NqFGnQet7z++DKLfW6vvP0Z4/SGwqe8/zuNYZASo7z9WT7SmWKbvP966D+mspO8/ZyZrKwGj7z/vkcZtVaHvP3f9IbCpn+8//2h98v2d7z+H1Ng0UpzvPw9ANHemmu8/mKuPufqY7z8gF+v7TpfvP6iCRj6jle8/MO6hgPeT7z+4Wf3CS5LvP0DFWAWgkO8/yTC0R/SO7z9RnA+KSI3vP9kHa8yci+8/YXPGDvGJ7z/p3iFRRYjvP3JKfZOZhu8/+rXY1e2E7z+CITQYQoPvPwqNj1qWge8/kvjqnOp/7z8aZEbfPn7vP6PPoSGTfO8/Kzv9Y+d67z+zplimO3nvPzsStOiPd+8/w30PK+R17z9L6WptOHTvP9RUxq+Mcu8/XMAh8uBw7z/kK300NW/vP2yX2HaJbe8/9AI0ud1r7z98bo/7MWrvPwXa6j2GaO8/jUVGgNpm7z8VsaHCLmXvP50c/QSDY+8/JYhYR9dh7z+t87OJK2DvPzZfD8x/Xu8/vspqDtRc7z9GNsZQKFvvP86hIZN8We8/Vg191dBX7z/feNgXJVbvP2fkM1p5VO8/70+PnM1S7z93u+reIVHvP/8mRiF2T+8/h5KhY8pN7z8Q/vylHkzvP5hpWOhySu8/INWzKsdI7z+oQA9tG0fvPzCsaq9vRe8/uBfG8cND7z9BgyE0GELvP8nufHZsQO8/UVrYuMA+7z/ZxTP7FD3vP2Exjz1pO+8/6Zzqf7057z9yCEbCETjvP/pzoQRmNu8/gt/8Rro07z8KS1iJDjPvP5K2s8tiMe8/GyIPDrcv7z+jjWpQCy7vPyv5xZJfLO8/s2Qh1bMq7z870HwXCCnvP8M72FlcJ+8/TKcznLAl7z/UEo/eBCTvP1x+6iBZIu8/5OlFY60g7z9sVaGlAR/vP/TA/OdVHe8/fSxYKqob7z8FmLNs/hnvP40DD69SGO8/FW9q8aYW7z+d2sUz+xTvPyVGIXZPE+8/rrF8uKMR7z82Hdj69w/vP76IMz1MDu8/RvSOf6AM7z/OX+rB9ArvP1bLRQRJCe8/3zahRp0H7z8=",
          "dtype": "f8"
         },
         "yaxis": "y8"
        },
        {
         "customdata": [
          "2024-12-11T16:09:52.000000000",
          "2024-12-12T19:57:16.000000000"
         ],
         "hovertemplate": "ID: respondent_2<br>DateTime: %{customdata}<br>hour: %{x:.2f}<br>Score: %{y:.2f}<br>Pearson r: -1.000<br>Spearman r: -1.000<br>Kendall τ: -1.000<br>DCOR: 1.000",
         "legendgroup": "respondent_2",
         "marker": {
          "color": "#00FF00",
          "opacity": 0.8,
          "size": 8
         },
         "mode": "markers",
         "name": "ID: respondent_2",
         "showlegend": false,
         "type": "scatter",
         "x": {
          "bdata": "EBM=",
          "dtype": "i1"
         },
         "xaxis": "x8",
         "y": {
          "bdata": "hetRuB6F7z8K16NwPQrvPw==",
          "dtype": "f8"
         },
         "yaxis": "y8"
        },
        {
         "hovertemplate": "ID: respondent_2<br>Pearson r: -1.000<br>Spearman r: -1.000<br>Kendall τ: -1.000<br>DCOR: 1.000",
         "legendgroup": "respondent_2",
         "line": {
          "color": "#00FF00",
          "dash": "dash",
          "width": 2
         },
         "mode": "lines",
         "name": "Trend respondent_2",
         "showlegend": false,
         "type": "scatter",
         "x": {
          "bdata": "AAAAAAAAMEAIH3zwwQcwQBA++OCDDzBAF1100UUXMEAffPDBBx8wQCebbLLJJjBAL7rooosuMEA22WSTTTYwQD744IMPPjBARhdddNFFMEBONtlkk00wQFVVVVVVVTBAXXTRRRddMEBlk0022WQwQG2yySabbDBAdNFFF110MEB88MEHH3wwQIQPPvjggzBAjC666KKLMECTTTbZZJMwQJtssskmmzBAo4suuuiiMECrqqqqqqowQLLJJptssjBAuuiiiy66MEDCBx988MEwQMomm2yyyTBA0UUXXXTRMEDZZJNNNtkwQOGDDz744DBA6aKLLrroMEDwwQcffPAwQPjggw8++DBAAAAAAAAAMUAIH3zwwQcxQBA++OCDDzFAF1100UUXMUAffPDBBx8xQCebbLLJJjFAL7rooosuMUA22WSTTTYxQD744IMPPjFARhdddNFFMUBONtlkk00xQFVVVVVVVTFAXXTRRRddMUBlk0022WQxQG2yySabbDFAdNFFF110MUB88MEHH3wxQIQPPvjggzFAjC666KKLMUCTTTbZZJMxQJtssskmmzFAo4suuuiiMUCrqqqqqqoxQLLJJptssjFAuuiiiy66MUDCBx988MExQMomm2yyyTFA0kUXXXTRMUDZZJNNNtkxQOGDDz744DFA6aKLLrroMUDwwQcffPAxQPjggw8++DFAAAAAAAAAMkAIH3zwwQcyQBA++OCDDzJAF1100UUXMkAffPDBBx8yQCebbLLJJjJALrrooosuMkA22WSTTTYyQD744IMPPjJARhdddNFFMkBONtlkk00yQFVVVVVVVTJAXXTRRRddMkBlk0022WQyQG2yySabbDJAdNFFF110MkB88MEHH3wyQIQPPvjggzJAjC666KKLMkCTTTbZZJMyQJtssskmmzJAo4suuuiiMkCrqqqqqqoyQLLJJptssjJAuuiiiy66MkDCBx988MEyQMomm2yyyTJA0kUXXXTRMkDZZJNNNtkyQOGDDz744DJA6aKLLrroMkDwwQcffPAyQPjggw8++DJAAAAAAAAAM0A=",
          "dtype": "f8"
         },
         "xaxis": "x8",
         "y": {
          "bdata": "hutRuB6F7z+FDz744IPvP4QzKjijgu8/g1cWeGWB7z+BewK4J4DvP4Cf7vfpfu8/f8PaN6x97z9+58Z3bnzvP3wLs7cwe+8/ey+f9/J57z96U4s3tXjvP3l3d3d3d+8/d5tjtzl27z92v0/3+3TvP3XjOze+c+8/dAcod4By7z9yKxS3QnHvP3FPAPcEcO8/cHPsNsdu7z9vl9h2iW3vP227xLZLbO8/bN+w9g1r7z9rA5020GnvP2oniXaSaO8/aEt1tlRn7z9nb2H2FmbvP2aTTTbZZO8/Zbc5dptj7z9k2yW2XWLvP2L/EfYfYe8/YSP+NeJf7z9gR+p1pF7vP15r1rVmXe8/XY/C9Shc7z9cs64161rvP1vXmnWtWe8/WvuGtW9Y7z9YH3P1MVfvP1dDXzX0Ve8/VmdLdbZU7z9Vize1eFPvP1OvI/U6Uu8/UtMPNf1Q7z9R9/t0v0/vP1Ab6LSBTu8/Tj/U9ENN7z9NY8A0BkzvP0yHrHTISu8/S6uYtIpJ7z9Jz4T0TEjvP0jzcDQPR+8/RxdddNFF7z9GO0m0k0TvP0RfNfRVQ+8/Q4MhNBhC7z9Cpw102kDvP0HL+bOcP+8/QO/l814+7z8+E9IzIT3vPz03vnPjO+8/PFuqs6U67z86f5bzZznvPzmjgjMqOO8/OMduc+w27z8361qzrjXvPzYPR/NwNO8/NDMzMzMz7z8zVx9z9THvPzJ7C7O3MO8/MZ/38nkv7z8vw+MyPC7vPy7nz3L+LO8/LQu8ssAr7z8sL6jygirvPypTlDJFKe8/KXeAcgco7z8om2yyySbvPye/WPKLJe8/JeNEMk4k7z8kBzFyECPvPyMrHbLSIe8/Ik8J8pQg7z8gc/UxVx/vPx+X4XEZHu8/HrvNsdsc7z8d37nxnRvvPxwDpjFgGu8/GieScSIZ7z8ZS36x5BfvPxhvavGmFu8/FpNWMWkV7z8Vt0JxKxTvPxTbLrHtEu8/E/8a8a8R7z8SIwcxchDvPxBH83A0D+8/D2vfsPYN7z8Oj8vwuAzvPw2ztzB7C+8/C9ejcD0K7z8=",
          "dtype": "f8"
         },
         "yaxis": "y8"
        },
        {
         "customdata": [
          "2024-12-11T10:55:16.000000000",
          "2024-12-11T15:51:05.000000000",
          "2024-12-11T22:05:25.000000000",
          "2024-12-13T02:03:23.000000000",
          "2024-12-13T10:32:47.000000000",
          "2024-12-14T13:00:47.000000000",
          "2024-12-15T01:16:30.000000000"
         ],
         "hovertemplate": "ID: respondent_3<br>DateTime: %{customdata}<br>hour: %{x:.2f}<br>Score: %{y:.2f}<br>Pearson r: 0.367<br>Spearman r: 0.378<br>Kendall τ: 0.325<br>DCOR: 0.477",
         "legendgroup": "respondent_3",
         "marker": {
          "color": "#0000FF",
          "opacity": 0.8,
          "size": 8
         },
         "mode": "markers",
         "name": "ID: respondent_3",
         "showlegend": false,
         "type": "scatter",
         "x": {
          "bdata": "Cg8WGgoNGQ==",
          "dtype": "i1"
         },
         "xaxis": "x8",
         "y": {
          "bdata": "16NwPQrX7z+F61G4HoXvP9ejcD0K1+8/AAAAAAAA8D+uR+F6FK7vPwAAAAAAAPA/16NwPQrX7z8=",
          "dtype": "f8"
         },
         "yaxis": "y8"
        },
        {
         "hovertemplate": "ID: respondent_3<br>Pearson r: 0.367<br>Spearman r: 0.378<br>Kendall τ: 0.325<br>DCOR: 0.477",
         "legendgroup": "respondent_3",
         "line": {
          "color": "#0000FF",
          "dash": "dash",
          "width": 2
         },
         "mode": "lines",
         "name": "Trend respondent_3",
         "showlegend": false,
         "type": "scatter",
         "x": {
          "bdata": "AAAAAAAAJED9SoFav1IkQPuVArV+pSRA+OCDDz74JED2KwVq/UolQPN2hsS8nSVA8MEHH3zwJUDuDIl5O0MmQOtXCtT6lSZA6aKLLrroJkDm7QyJeTsnQOQ4juM4jidA4YMPPvjgJ0DezpCYtzMoQNwZEvN2hihA2WSTTTbZKEDXrxSo9SspQNT6lQK1filA0kUXXXTRKUDPkJi3MyQqQMzbGRLzdipAyiabbLLJKkDHcRzHcRwrQMW8nSExbytAwgcffPDBK0DAUqDWrxQsQL2dITFvZyxAuuiiiy66LEC4MyTm7QwtQLV+pUCtXy1Asskmm2yyLUCwFKj1KwUuQK5fKVDrVy5Aq6qqqqqqLkCo9SsFav0uQKZArV8pUC9Ao4suuuiiL0Cg1q8UqPUvQM+QmLczJDBATjbZZJNNMEDM2xkS83YwQEuBWr9SoDBAyiabbLLJMEBIzNsZEvMwQMdxHMdxHDFARhdddNFFMUDFvJ0hMW8xQERi3s6QmDFAwgcffPDBMUBBrV8pUOsxQMBSoNavFDJAPvjggw8+MkC9nSExb2cyQDxDYt7OkDJAuuiiiy66MkA5juM4juMyQLgzJObtDDNANtlkk002M0C1fqVArV8zQDQk5u0MiTNAsskmm2yyM0Ayb2dIzNszQLAUqPUrBTRAL7rooosuNECuXylQ61c0QCwFav1KgTRAq6qqqqqqNEAqUOtXCtQ0QKj1KwVq/TRAJ5tssskmNUCmQK1fKVA1QCTm7QyJeTVAo4suuuiiNUAiMW9nSMw1QKDWrxSo9TVAIHzwwQcfNkCeITFvZ0g2QBzHcRzHcTZAnGyyySabNkAaEvN2hsQ2QJm3MyTm7TZAGF100UUXN0CWArV+pUA3QBWo9SsFajdAlE022WSTN0AS83aGxLw3QJGYtzMk5jdAED744IMPOECO4ziO4zg4QA6JeTtDYjhAjC666KKLOEAK1PqVArU4QIp5O0Ni3jhACB988MEHOUCHxLydITE5QAZq/UqBWjlAhA8++OCDOUADtX6lQK05QIJav1Kg1jlAAAAAAAAAOkA=",
          "dtype": "f8"
         },
         "xaxis": "x8",
         "y": {
          "bdata": "yU7eqEfA7z8rNvutp8DvP4wdGLMHwe8/7gQ1uGfB7z9P7FG9x8HvP7HTbsInwu8/E7uLx4fC7z90oqjM58LvP9aJxdFHw+8/N3Hi1qfD7z+ZWP/bB8TvP/o/HOFnxO8/XCc55sfE7z++DlbrJ8XvPx/2cvCHxe8/gd2P9efF7z/ixKz6R8bvP0Ssyf+nxu8/ppPmBAjH7z8HewMKaMfvP2liIA/Ix+8/ykk9FCjI7z8sMVoZiMjvP40Ydx7oyO8/7/+TI0jJ7z9R57AoqMnvP7LOzS0Iyu8/FLbqMmjK7z91nQc4yMrvP9eEJD0oy+8/OWxBQojL7z+aU15H6MvvP/w6e0xIzO8/XSKYUajM7z+/CbVWCM3vPyDx0Vtoze8/gtjuYMjN7z/kvwtmKM7vP0WnKGuIzu8/p45FcOjO7z8IdmJ1SM/vP2pdf3qoz+8/zEScfwjQ7z8tLLmEaNDvP48T1onI0O8/8PryjijR7z9S4g+UiNHvP7PJLJno0e8/FbFJnkjS7z93mGajqNLvP9h/g6gI0+8/OmegrWjT7z+bTr2yyNPvP/012rco1O8/Xx33vIjU7z/ABBTC6NTvPyLsMMdI1e8/g9NNzKjV7z/lumrRCNbvP0aih9Zo1u8/qImk28jW7z8KccHgKNfvP2tY3uWI1+8/zT/76ujX7z8uJxjwSNjvP5AONfWo2O8/8vVR+gjZ7z9T3W7/aNnvP7XEiwTJ2e8/FqyoCSna7z94k8UOidrvP9l64hPp2u8/O2L/GEnb7z+dSRweqdvvP/4wOSMJ3O8/YBhWKGnc7z/B/3ItydzvPyPnjzIp3e8/hc6sN4nd7z/mtck86d3vP0id5kFJ3u8/qYQDR6ne7z8LbCBMCd/vP2xTPVFp3+8/zjpaVsnf7z8wIndbKeDvP5EJlGCJ4O8/8/CwZeng7z9U2M1qSeHvP7a/6m+p4e8/GKcHdQni7z95jiR6aeLvP9t1QX/J4u8/PF1ehCnj7z+eRHuJiePvPwAsmI7p4+8/YRO1k0nk7z/D+tGYqeTvPyTi7p0J5e8/hskLo2nl7z8=",
          "dtype": "f8"
         },
         "yaxis": "y8"
        },
        {
         "customdata": [
          "2024-12-12T12:56:06.000000000",
          "2024-12-12T22:33:31.000000000",
          "2024-12-13T11:40:45.000000000",
          "2024-12-14T01:05:55.000000000",
          "2024-12-14T12:11:29.000000000",
          "2024-12-15T01:29:44.000000000",
          "2024-12-15T13:04:17.000000000",
          "2024-12-15T18:28:17.000000000",
          "2024-12-16T06:52:53.000000000",
          "2024-12-16T23:57:21.000000000",
          "2024-12-17T09:58:55.000000000",
          "2024-12-18T00:18:36.000000000",
          "2024-12-18T09:33:39.000000000",
          "2024-12-24T08:34:30.000000000",
          "2024-12-24T22:24:22.000000000",
          "2025-01-16T10:26:25.000000000",
          "2025-01-20T08:42:15.000000000",
          "2025-01-20T22:38:18.000000000",
          "2025-01-21T11:34:02.000000000"
         ],
         "hovertemplate": "ID: respondent_4<br>DateTime: %{customdata}<br>hour: %{x:.2f}<br>Score: %{y:.2f}<br>Pearson r: -0.112<br>Spearman r: 0.010<br>Kendall τ: 0.013<br>DCOR: 0.247",
         "legendgroup": "respondent_4",
         "marker": {
          "color": "#FF00FF",
          "opacity": 0.8,
          "size": 8
         },
         "mode": "markers",
         "name": "ID: respondent_4",
         "showlegend": false,
         "type": "scatter",
         "x": {
          "bdata": "DBYLGQwZDRIGFwkYCQgWCggWCw==",
          "dtype": "i1"
         },
         "xaxis": "x8",
         "y": {
          "bdata": "AAAAAAAA8D/hehSuR+HuPwrXo3A9Cu8/CtejcD0K7z8zMzMzMzPvPwrXo3A9Cu8/4XoUrkfh7j8zMzMzMzPvPwrXo3A9Cu8/uB6F61G47j8zMzMzMzPvPwrXo3A9Cu8/CtejcD0K7z/hehSuR+HuP7gehetRuO4/uB6F61G47j+4HoXrUbjuPzMzMzMzM+8/MzMzMzMz7z8=",
          "dtype": "f8"
         },
         "yaxis": "y8"
        },
        {
         "hovertemplate": "ID: respondent_4<br>Pearson r: -0.112<br>Spearman r: 0.010<br>Kendall τ: 0.013<br>DCOR: 0.247",
         "legendgroup": "respondent_4",
         "line": {
          "color": "#FF00FF",
          "dash": "dash",
          "width": 2
         },
         "mode": "lines",
         "name": "Trend respondent_4",
         "showlegend": false,
         "type": "scatter",
         "x": {
          "bdata": "AAAAAAAAGEAaEvN2hsQYQDQk5u0MiRlATjbZZJNNGkBnSMzbGRIbQIFav1Kg1htAm2yyySabHEC1fqVArV8dQM+QmLczJB5A6KKLLrroHkACtX6lQK0fQI7jOI7jOCBAm2yyySabIECo9SsFav0gQLV+pUCtXyFAwgcffPDBIUDPkJi3MyQiQNwZEvN2hiJA6KKLLrroIkD2KwVq/UojQAK1fqVArSNAED744IMPJEAcx3Ecx3EkQClQ61cK1CRANtlkk002JUBDYt7OkJglQFDrVwrU+iVAXXTRRRddJkBq/UqBWr8mQHaGxLydISdAhA8++OCDJ0CQmLczJOYnQJ4hMW9nSChAqqqqqqqqKEC4MyTm7QwpQMS8nSExbylA0UUXXXTRKUDezpCYtzMqQOtXCtT6lSpA+OCDDz74KkAFav1KgVorQBLzdobEvCtAH3zwwQcfLEAsBWr9SoEsQDmO4ziO4yxARRdddNFFLUBSoNavFKgtQF8pUOtXCi5AbLLJJptsLkB5O0Ni3s4uQIbEvJ0hMS9Ak0022WSTL0Cg1q8UqPUvQNavFKj1KzBAXXTRRRddMEDkOI7jOI4wQGr9SoFavzBA8MEHH3zwMEB2hsS8nSExQP1KgVq/UjFAhA8++OCDMUAK1PqVArUxQJCYtzMk5jFAF1100UUXMkCeITFvZ0gyQCTm7QyJeTJAqqqqqqqqMkAxb2dIzNsyQLgzJObtDDNAPvjggw8+M0DEvJ0hMW8zQEqBWr9SoDNA0UUXXXTRM0BYCtT6lQI0QN7OkJi3MzRAZJNNNtlkNEDrVwrU+pU0QHIcx3EcxzRA+OCDDz74NEB+pUCtXyk1QAVq/UqBWjVAjC666KKLNUAS83aGxLw1QJi3MyTm7TVAH3zwwQcfNkClQK1fKVA2QCwFav1KgTZAsskmm2yyNkA5juM4juM2QL9SoNavFDdARRdddNFFN0DM2xkS83Y3QFKg1q8UqDdA2WSTTTbZN0BfKVDrVwo4QObtDIl5OzhAbLLJJptsOEDzdobEvJ04QHk7Q2LezjhAAAAAAAAAOUA=",
          "dtype": "f8"
         },
         "xaxis": "x8",
         "y": {
          "bdata": "q86QMawV7z/VCDeObxXvP/9C3eoyFe8/KX2DR/YU7z9TtymkuRTvP33xzwB9FO8/qCt2XUAU7z/SZRy6AxTvP/yfwhbHE+8/Jtpoc4oT7z9QFA/QTRPvP3pOtSwRE+8/pIhbidQS7z/OwgHmlxLvP/j8p0JbEu8/IjdOnx4S7z9McfT74RHvP3ermlilEe8/oeVAtWgR7z/LH+cRLBHvP/VZjW7vEO8/H5Qzy7IQ7z9JztkndhDvP3MIgIQ5EO8/nUIm4fwP7z/HfMw9wA/vP/G2cpqDD+8/G/EY90YP7z9GK79TCg/vP3BlZbDNDu8/mp8LDZEO7z/E2bFpVA7vP+4TWMYXDu8/GE7+ItsN7z9CiKR/ng3vP2zCStxhDe8/lvzwOCUN7z/ANpeV6AzvP+twPfKrDO8/FavjTm8M7z8/5YmrMgzvP2kfMAj2C+8/k1nWZLkL7z+9k3zBfAvvP+fNIh5AC+8/EQjJegML7z87Qm/XxgrvP2V8FTSKCu8/j7a7kE0K7z+68GHtEArvP+QqCErUCe8/DmWuppcJ7z84n1QDWwnvP2LZ+l8eCe8/jBOhvOEI7z+2TUcZpQjvP+CH7XVoCO8/CsKT0isI7z80/Dkv7wfvP1424IuyB+8/iXCG6HUH7z+zqixFOQfvP93k0qH8Bu8/Bx95/r8G7z8xWR9bgwbvP1uTxbdGBu8/hc1rFAoG7z+vBxJxzQXvP9lBuM2QBe8/A3xeKlQF7z8utgSHFwXvP1jwquPaBO8/gipRQJ4E7z+sZPecYQTvP9aenfkkBO8/ANlDVugD7z8qE+qyqwPvP1RNkA9vA+8/foc2bDID7z+owdzI9QLvP9L7giW5Au8//TUpgnwC7z8ncM/ePwLvP1GqdTsDAu8/e+QbmMYB7z+lHsL0iQHvP89YaFFNAe8/+ZIOrhAB7z8jzbQK1ADvP00HW2eXAO8/d0EBxFoA7z+ie6cgHgDvP8y1TX3h/+4/9u/z2aT/7j8gKpo2aP/uP0pkQJMr/+4/dJ7m7+7+7j+e2IxMsv7uP8gSM6l1/u4/8kzZBTn+7j8=",
          "dtype": "f8"
         },
         "yaxis": "y8"
        }
       ],
       "layout": {
        "annotations": [
         {
          "font": {
           "size": 16
          },
          "showarrow": false,
          "text": "response_time_mean vs weekday_num)",
          "x": 0.225,
          "xanchor": "center",
          "xref": "paper",
          "y": 1,
          "yanchor": "bottom",
          "yref": "paper"
         },
         {
          "font": {
           "size": 16
          },
          "showarrow": false,
          "text": "response_time_mean vs hour)",
          "x": 0.775,
          "xanchor": "center",
          "xref": "paper",
          "y": 1,
          "yanchor": "bottom",
          "yref": "paper"
         },
         {
          "font": {
           "size": 16
          },
          "showarrow": false,
          "text": "response_time_median vs weekday_num)",
          "x": 0.225,
          "xanchor": "center",
          "xref": "paper",
          "y": 0.7250000000000001,
          "yanchor": "bottom",
          "yref": "paper"
         },
         {
          "font": {
           "size": 16
          },
          "showarrow": false,
          "text": "response_time_median vs hour)",
          "x": 0.775,
          "xanchor": "center",
          "xref": "paper",
          "y": 0.7250000000000001,
          "yanchor": "bottom",
          "yref": "paper"
         },
         {
          "font": {
           "size": 16
          },
          "showarrow": false,
          "text": "response_time_std vs weekday_num)",
          "x": 0.225,
          "xanchor": "center",
          "xref": "paper",
          "y": 0.45,
          "yanchor": "bottom",
          "yref": "paper"
         },
         {
          "font": {
           "size": 16
          },
          "showarrow": false,
          "text": "response_time_std vs hour)",
          "x": 0.775,
          "xanchor": "center",
          "xref": "paper",
          "y": 0.45,
          "yanchor": "bottom",
          "yref": "paper"
         },
         {
          "font": {
           "size": 16
          },
          "showarrow": false,
          "text": "correct_flg_mean vs weekday_num)",
          "x": 0.225,
          "xanchor": "center",
          "xref": "paper",
          "y": 0.175,
          "yanchor": "bottom",
          "yref": "paper"
         },
         {
          "font": {
           "size": 16
          },
          "showarrow": false,
          "text": "correct_flg_mean vs hour)",
          "x": 0.775,
          "xanchor": "center",
          "xref": "paper",
          "y": 0.175,
          "yanchor": "bottom",
          "yref": "paper"
         }
        ],
        "font": {
         "size": 12
        },
        "height": 1200,
        "legend": {
         "x": 1.05,
         "xanchor": "left",
         "y": 0.99,
         "yanchor": "top"
        },
        "margin": {
         "b": 50,
         "l": 50,
         "r": 50,
         "t": 100
        },
        "showlegend": true,
        "template": {
         "data": {
          "bar": [
           {
            "error_x": {
             "color": "#2a3f5f"
            },
            "error_y": {
             "color": "#2a3f5f"
            },
            "marker": {
             "line": {
              "color": "#E5ECF6",
              "width": 0.5
             },
             "pattern": {
              "fillmode": "overlay",
              "size": 10,
              "solidity": 0.2
             }
            },
            "type": "bar"
           }
          ],
          "barpolar": [
           {
            "marker": {
             "line": {
              "color": "#E5ECF6",
              "width": 0.5
             },
             "pattern": {
              "fillmode": "overlay",
              "size": 10,
              "solidity": 0.2
             }
            },
            "type": "barpolar"
           }
          ],
          "carpet": [
           {
            "aaxis": {
             "endlinecolor": "#2a3f5f",
             "gridcolor": "white",
             "linecolor": "white",
             "minorgridcolor": "white",
             "startlinecolor": "#2a3f5f"
            },
            "baxis": {
             "endlinecolor": "#2a3f5f",
             "gridcolor": "white",
             "linecolor": "white",
             "minorgridcolor": "white",
             "startlinecolor": "#2a3f5f"
            },
            "type": "carpet"
           }
          ],
          "choropleth": [
           {
            "colorbar": {
             "outlinewidth": 0,
             "ticks": ""
            },
            "type": "choropleth"
           }
          ],
          "contour": [
           {
            "colorbar": {
             "outlinewidth": 0,
             "ticks": ""
            },
            "colorscale": [
             [
              0,
              "#0d0887"
             ],
             [
              0.1111111111111111,
              "#46039f"
             ],
             [
              0.2222222222222222,
              "#7201a8"
             ],
             [
              0.3333333333333333,
              "#9c179e"
             ],
             [
              0.4444444444444444,
              "#bd3786"
             ],
             [
              0.5555555555555556,
              "#d8576b"
             ],
             [
              0.6666666666666666,
              "#ed7953"
             ],
             [
              0.7777777777777778,
              "#fb9f3a"
             ],
             [
              0.8888888888888888,
              "#fdca26"
             ],
             [
              1,
              "#f0f921"
             ]
            ],
            "type": "contour"
           }
          ],
          "contourcarpet": [
           {
            "colorbar": {
             "outlinewidth": 0,
             "ticks": ""
            },
            "type": "contourcarpet"
           }
          ],
          "heatmap": [
           {
            "colorbar": {
             "outlinewidth": 0,
             "ticks": ""
            },
            "colorscale": [
             [
              0,
              "#0d0887"
             ],
             [
              0.1111111111111111,
              "#46039f"
             ],
             [
              0.2222222222222222,
              "#7201a8"
             ],
             [
              0.3333333333333333,
              "#9c179e"
             ],
             [
              0.4444444444444444,
              "#bd3786"
             ],
             [
              0.5555555555555556,
              "#d8576b"
             ],
             [
              0.6666666666666666,
              "#ed7953"
             ],
             [
              0.7777777777777778,
              "#fb9f3a"
             ],
             [
              0.8888888888888888,
              "#fdca26"
             ],
             [
              1,
              "#f0f921"
             ]
            ],
            "type": "heatmap"
           }
          ],
          "histogram": [
           {
            "marker": {
             "pattern": {
              "fillmode": "overlay",
              "size": 10,
              "solidity": 0.2
             }
            },
            "type": "histogram"
           }
          ],
          "histogram2d": [
           {
            "colorbar": {
             "outlinewidth": 0,
             "ticks": ""
            },
            "colorscale": [
             [
              0,
              "#0d0887"
             ],
             [
              0.1111111111111111,
              "#46039f"
             ],
             [
              0.2222222222222222,
              "#7201a8"
             ],
             [
              0.3333333333333333,
              "#9c179e"
             ],
             [
              0.4444444444444444,
              "#bd3786"
             ],
             [
              0.5555555555555556,
              "#d8576b"
             ],
             [
              0.6666666666666666,
              "#ed7953"
             ],
             [
              0.7777777777777778,
              "#fb9f3a"
             ],
             [
              0.8888888888888888,
              "#fdca26"
             ],
             [
              1,
              "#f0f921"
             ]
            ],
            "type": "histogram2d"
           }
          ],
          "histogram2dcontour": [
           {
            "colorbar": {
             "outlinewidth": 0,
             "ticks": ""
            },
            "colorscale": [
             [
              0,
              "#0d0887"
             ],
             [
              0.1111111111111111,
              "#46039f"
             ],
             [
              0.2222222222222222,
              "#7201a8"
             ],
             [
              0.3333333333333333,
              "#9c179e"
             ],
             [
              0.4444444444444444,
              "#bd3786"
             ],
             [
              0.5555555555555556,
              "#d8576b"
             ],
             [
              0.6666666666666666,
              "#ed7953"
             ],
             [
              0.7777777777777778,
              "#fb9f3a"
             ],
             [
              0.8888888888888888,
              "#fdca26"
             ],
             [
              1,
              "#f0f921"
             ]
            ],
            "type": "histogram2dcontour"
           }
          ],
          "mesh3d": [
           {
            "colorbar": {
             "outlinewidth": 0,
             "ticks": ""
            },
            "type": "mesh3d"
           }
          ],
          "parcoords": [
           {
            "line": {
             "colorbar": {
              "outlinewidth": 0,
              "ticks": ""
             }
            },
            "type": "parcoords"
           }
          ],
          "pie": [
           {
            "automargin": true,
            "type": "pie"
           }
          ],
          "scatter": [
           {
            "fillpattern": {
             "fillmode": "overlay",
             "size": 10,
             "solidity": 0.2
            },
            "type": "scatter"
           }
          ],
          "scatter3d": [
           {
            "line": {
             "colorbar": {
              "outlinewidth": 0,
              "ticks": ""
             }
            },
            "marker": {
             "colorbar": {
              "outlinewidth": 0,
              "ticks": ""
             }
            },
            "type": "scatter3d"
           }
          ],
          "scattercarpet": [
           {
            "marker": {
             "colorbar": {
              "outlinewidth": 0,
              "ticks": ""
             }
            },
            "type": "scattercarpet"
           }
          ],
          "scattergeo": [
           {
            "marker": {
             "colorbar": {
              "outlinewidth": 0,
              "ticks": ""
             }
            },
            "type": "scattergeo"
           }
          ],
          "scattergl": [
           {
            "marker": {
             "colorbar": {
              "outlinewidth": 0,
              "ticks": ""
             }
            },
            "type": "scattergl"
           }
          ],
          "scattermap": [
           {
            "marker": {
             "colorbar": {
              "outlinewidth": 0,
              "ticks": ""
             }
            },
            "type": "scattermap"
           }
          ],
          "scattermapbox": [
           {
            "marker": {
             "colorbar": {
              "outlinewidth": 0,
              "ticks": ""
             }
            },
            "type": "scattermapbox"
           }
          ],
          "scatterpolar": [
           {
            "marker": {
             "colorbar": {
              "outlinewidth": 0,
              "ticks": ""
             }
            },
            "type": "scatterpolar"
           }
          ],
          "scatterpolargl": [
           {
            "marker": {
             "colorbar": {
              "outlinewidth": 0,
              "ticks": ""
             }
            },
            "type": "scatterpolargl"
           }
          ],
          "scatterternary": [
           {
            "marker": {
             "colorbar": {
              "outlinewidth": 0,
              "ticks": ""
             }
            },
            "type": "scatterternary"
           }
          ],
          "surface": [
           {
            "colorbar": {
             "outlinewidth": 0,
             "ticks": ""
            },
            "colorscale": [
             [
              0,
              "#0d0887"
             ],
             [
              0.1111111111111111,
              "#46039f"
             ],
             [
              0.2222222222222222,
              "#7201a8"
             ],
             [
              0.3333333333333333,
              "#9c179e"
             ],
             [
              0.4444444444444444,
              "#bd3786"
             ],
             [
              0.5555555555555556,
              "#d8576b"
             ],
             [
              0.6666666666666666,
              "#ed7953"
             ],
             [
              0.7777777777777778,
              "#fb9f3a"
             ],
             [
              0.8888888888888888,
              "#fdca26"
             ],
             [
              1,
              "#f0f921"
             ]
            ],
            "type": "surface"
           }
          ],
          "table": [
           {
            "cells": {
             "fill": {
              "color": "#EBF0F8"
             },
             "line": {
              "color": "white"
             }
            },
            "header": {
             "fill": {
              "color": "#C8D4E3"
             },
             "line": {
              "color": "white"
             }
            },
            "type": "table"
           }
          ]
         },
         "layout": {
          "annotationdefaults": {
           "arrowcolor": "#2a3f5f",
           "arrowhead": 0,
           "arrowwidth": 1
          },
          "autotypenumbers": "strict",
          "coloraxis": {
           "colorbar": {
            "outlinewidth": 0,
            "ticks": ""
           }
          },
          "colorscale": {
           "diverging": [
            [
             0,
             "#8e0152"
            ],
            [
             0.1,
             "#c51b7d"
            ],
            [
             0.2,
             "#de77ae"
            ],
            [
             0.3,
             "#f1b6da"
            ],
            [
             0.4,
             "#fde0ef"
            ],
            [
             0.5,
             "#f7f7f7"
            ],
            [
             0.6,
             "#e6f5d0"
            ],
            [
             0.7,
             "#b8e186"
            ],
            [
             0.8,
             "#7fbc41"
            ],
            [
             0.9,
             "#4d9221"
            ],
            [
             1,
             "#276419"
            ]
           ],
           "sequential": [
            [
             0,
             "#0d0887"
            ],
            [
             0.1111111111111111,
             "#46039f"
            ],
            [
             0.2222222222222222,
             "#7201a8"
            ],
            [
             0.3333333333333333,
             "#9c179e"
            ],
            [
             0.4444444444444444,
             "#bd3786"
            ],
            [
             0.5555555555555556,
             "#d8576b"
            ],
            [
             0.6666666666666666,
             "#ed7953"
            ],
            [
             0.7777777777777778,
             "#fb9f3a"
            ],
            [
             0.8888888888888888,
             "#fdca26"
            ],
            [
             1,
             "#f0f921"
            ]
           ],
           "sequentialminus": [
            [
             0,
             "#0d0887"
            ],
            [
             0.1111111111111111,
             "#46039f"
            ],
            [
             0.2222222222222222,
             "#7201a8"
            ],
            [
             0.3333333333333333,
             "#9c179e"
            ],
            [
             0.4444444444444444,
             "#bd3786"
            ],
            [
             0.5555555555555556,
             "#d8576b"
            ],
            [
             0.6666666666666666,
             "#ed7953"
            ],
            [
             0.7777777777777778,
             "#fb9f3a"
            ],
            [
             0.8888888888888888,
             "#fdca26"
            ],
            [
             1,
             "#f0f921"
            ]
           ]
          },
          "colorway": [
           "#636efa",
           "#EF553B",
           "#00cc96",
           "#ab63fa",
           "#FFA15A",
           "#19d3f3",
           "#FF6692",
           "#B6E880",
           "#FF97FF",
           "#FECB52"
          ],
          "font": {
           "color": "#2a3f5f"
          },
          "geo": {
           "bgcolor": "white",
           "lakecolor": "white",
           "landcolor": "#E5ECF6",
           "showlakes": true,
           "showland": true,
           "subunitcolor": "white"
          },
          "hoverlabel": {
           "align": "left"
          },
          "hovermode": "closest",
          "mapbox": {
           "style": "light"
          },
          "paper_bgcolor": "white",
          "plot_bgcolor": "#E5ECF6",
          "polar": {
           "angularaxis": {
            "gridcolor": "white",
            "linecolor": "white",
            "ticks": ""
           },
           "bgcolor": "#E5ECF6",
           "radialaxis": {
            "gridcolor": "white",
            "linecolor": "white",
            "ticks": ""
           }
          },
          "scene": {
           "xaxis": {
            "backgroundcolor": "#E5ECF6",
            "gridcolor": "white",
            "gridwidth": 2,
            "linecolor": "white",
            "showbackground": true,
            "ticks": "",
            "zerolinecolor": "white"
           },
           "yaxis": {
            "backgroundcolor": "#E5ECF6",
            "gridcolor": "white",
            "gridwidth": 2,
            "linecolor": "white",
            "showbackground": true,
            "ticks": "",
            "zerolinecolor": "white"
           },
           "zaxis": {
            "backgroundcolor": "#E5ECF6",
            "gridcolor": "white",
            "gridwidth": 2,
            "linecolor": "white",
            "showbackground": true,
            "ticks": "",
            "zerolinecolor": "white"
           }
          },
          "shapedefaults": {
           "line": {
            "color": "#2a3f5f"
           }
          },
          "ternary": {
           "aaxis": {
            "gridcolor": "white",
            "linecolor": "white",
            "ticks": ""
           },
           "baxis": {
            "gridcolor": "white",
            "linecolor": "white",
            "ticks": ""
           },
           "bgcolor": "#E5ECF6",
           "caxis": {
            "gridcolor": "white",
            "linecolor": "white",
            "ticks": ""
           }
          },
          "title": {
           "x": 0.05
          },
          "xaxis": {
           "automargin": true,
           "gridcolor": "white",
           "linecolor": "white",
           "ticks": "",
           "title": {
            "standoff": 15
           },
           "zerolinecolor": "white",
           "zerolinewidth": 2
          },
          "yaxis": {
           "automargin": true,
           "gridcolor": "white",
           "linecolor": "white",
           "ticks": "",
           "title": {
            "standoff": 15
           },
           "zerolinecolor": "white",
           "zerolinewidth": 2
          }
         }
        },
        "title": {
         "text": "Metrics vs Score by Respondent"
        },
        "width": 1200,
        "xaxis": {
         "anchor": "y",
         "domain": [
          0,
          0.45
         ],
         "title": {
          "text": "response_time_mean"
         }
        },
        "xaxis2": {
         "anchor": "y2",
         "domain": [
          0.55,
          1
         ],
         "title": {
          "text": "response_time_median"
         }
        },
        "xaxis3": {
         "anchor": "y3",
         "domain": [
          0,
          0.45
         ],
         "title": {
          "text": "response_time_std"
         }
        },
        "xaxis4": {
         "anchor": "y4",
         "domain": [
          0.55,
          1
         ]
        },
        "xaxis5": {
         "anchor": "y5",
         "domain": [
          0,
          0.45
         ]
        },
        "xaxis6": {
         "anchor": "y6",
         "domain": [
          0.55,
          1
         ]
        },
        "xaxis7": {
         "anchor": "y7",
         "domain": [
          0,
          0.45
         ]
        },
        "xaxis8": {
         "anchor": "y8",
         "domain": [
          0.55,
          1
         ]
        },
        "yaxis": {
         "anchor": "x",
         "domain": [
          0.825,
          1
         ],
         "title": {
          "text": "weekday_num"
         }
        },
        "yaxis2": {
         "anchor": "x2",
         "domain": [
          0.825,
          1
         ],
         "title": {
          "text": "hour"
         }
        },
        "yaxis3": {
         "anchor": "x3",
         "domain": [
          0.55,
          0.7250000000000001
         ]
        },
        "yaxis4": {
         "anchor": "x4",
         "domain": [
          0.55,
          0.7250000000000001
         ]
        },
        "yaxis5": {
         "anchor": "x5",
         "domain": [
          0.275,
          0.45
         ]
        },
        "yaxis6": {
         "anchor": "x6",
         "domain": [
          0.275,
          0.45
         ]
        },
        "yaxis7": {
         "anchor": "x7",
         "domain": [
          0,
          0.175
         ]
        },
        "yaxis8": {
         "anchor": "x8",
         "domain": [
          0,
          0.175
         ]
        }
       }
      }
     },
     "metadata": {},
     "output_type": "display_data"
    }
   ],
   "source": [
    "import pandas as pd\n",
    "import plotly.graph_objects as go\n",
    "from plotly.subplots import make_subplots\n",
    "from sklearn.linear_model import LinearRegression\n",
    "import numpy as np\n",
    "from scipy import stats\n",
    "from itertools import product\n",
    "\n",
    "\n",
    "# Get unique IDs for coloring\n",
    "ids = q_df['id'].unique()\n",
    "num_ids = len(ids)\n",
    "\n",
    "# Select only numeric columns for correlation\n",
    "metrics = ['response_time_mean', 'response_time_median', 'response_time_std', 'correct_flg_mean']\n",
    "base = ['weekday_num', 'hour']\n",
    "# Create a color palette for respondents\n",
    "colors = [\n",
    "    '#FF0000',  # Bright Red\n",
    "    '#00FF00',  # Bright Green\n",
    "    '#0000FF',  # Bright Blue\n",
    "    '#FF00FF',  # Magenta\n",
    "    '#00FFFF',  # Cyan\n",
    "    '#FFFF00',  # Yellow\n",
    "    '#FFA500',  # Orange\n",
    "    '#800080',  # Purple\n",
    "    '#008000',  # Green\n",
    "    '#000080',  # Navy\n",
    "    '#800000',  # Maroon\n",
    "    '#008080'   # Teal\n",
    "]\n",
    "\n",
    "# Calculate number of rows and columns for subplots\n",
    "n_metrics = len(metrics)\n",
    "cols = 2\n",
    "rows = n_metrics\n",
    "\n",
    "# Create figure with subplots\n",
    "fig = make_subplots(\n",
    "    rows=rows,\n",
    "    cols=cols,\n",
    "    subplot_titles=[f\"{time} vs {metric})\" for (time, metric) in product(metrics, base)],\n",
    "    horizontal_spacing=0.1,\n",
    "    vertical_spacing=0.1\n",
    ")\n",
    "\n",
    "# Create scatter plots for each metric\n",
    "for i, (time, metric) in enumerate(product(metrics, base)):\n",
    "    row = i // cols + 1\n",
    "    col = i % cols + 1\n",
    "    \n",
    "    # Add scatter plot for each respondent\n",
    "    for j, respondent_id in enumerate(ids):\n",
    "        # print(metric, respondent_id)\n",
    "\n",
    "        respondent_data = q_df[q_df['id'] == respondent_id].sort_values('datetime')\n",
    "\n",
    "        # Calculate correlations\n",
    "        pearson_corr = respondent_data[metric].corr(respondent_data[time], method='pearson')\n",
    "        spearman_corr = respondent_data[metric].corr(respondent_data[time], method='spearman')\n",
    "        kendall_corr = respondent_data[metric].corr(respondent_data[time], method='kendall')\n",
    "        dcor_corr = dcor.distance_correlation(\n",
    "                    respondent_data[metric].dropna().astype(float),\n",
    "                    respondent_data[time].dropna().astype(float))\n",
    "        scatter = go.Scatter(\n",
    "            x=respondent_data[metric],\n",
    "            y=respondent_data[time],\n",
    "            mode='markers',\n",
    "            name=f'ID: {respondent_id}',\n",
    "            marker=dict(\n",
    "                color=colors[j % len(colors)],\n",
    "                size=8,\n",
    "                opacity=0.8\n",
    "            ),\n",
    "            showlegend=(i == 0),\n",
    "            legendgroup=f'{respondent_id}',\n",
    "            hovertemplate=(\n",
    "                f\"ID: {respondent_id}<br>\" +\n",
    "                \"DateTime: %{customdata}<br>\" +\n",
    "                f\"{metric}: %{{x:.2f}}<br>\" +\n",
    "                \"Score: %{y:.2f}<br>\" +\n",
    "                f\"Pearson r: {pearson_corr:.3f}<br>\" +\n",
    "                f\"Spearman r: {spearman_corr:.3f}<br>\" +\n",
    "                f\"Kendall τ: {kendall_corr:.3f}<br>\" +\n",
    "                f\"DCOR: {dcor_corr:.3f}\"\n",
    "            ),\n",
    "            customdata=respondent_data['datetime']\n",
    "        )\n",
    "        fig.add_trace(scatter, row=row, col=col)\n",
    "\n",
    "        # Add trendline\n",
    "        x_vals = respondent_data[metric].values.reshape(-1, 1)\n",
    "        y_vals = respondent_data[time].values\n",
    "\n",
    "        if len(x_vals) > 1:\n",
    "            model = LinearRegression().fit(x_vals, y_vals)\n",
    "            x_range = np.linspace(x_vals.min(), x_vals.max(), 100).reshape(-1, 1)\n",
    "            y_pred = model.predict(x_range)\n",
    "\n",
    "            # Create annotation text with correlation values\n",
    "            annotation_text = (\n",
    "                f\"ID: {respondent_id}<br>\" +\n",
    "                f\"Pearson r: {pearson_corr:.3f}<br>\" +\n",
    "                f\"Spearman r: {spearman_corr:.3f}<br>\" +\n",
    "                f\"Kendall τ: {kendall_corr:.3f}<br>\" +\n",
    "                f\"DCOR: {dcor_corr:.3f}\"\n",
    "            )\n",
    "\n",
    "            fig.add_trace(\n",
    "                go.Scatter(\n",
    "                    x=x_range.flatten(),\n",
    "                    y=y_pred,\n",
    "                    mode='lines',\n",
    "                    name=f'Trend {respondent_id}',\n",
    "                    line=dict(\n",
    "                        color=colors[j % len(colors)],\n",
    "                        width=2,\n",
    "                        dash='dash'\n",
    "                    ),\n",
    "                    showlegend=False,\n",
    "                    legendgroup=f'{respondent_id}',\n",
    "                    hovertemplate=annotation_text\n",
    "                ),\n",
    "                row=row, col=col\n",
    "            )\n",
    "\n",
    "# Update layout\n",
    "fig.update_layout(\n",
    "    height=300 * rows,\n",
    "    width=1200,\n",
    "    title_text=\"Metrics vs Score by Respondent\",\n",
    "    font=dict(size=12),\n",
    "    margin=dict(l=50, r=50, t=100, b=50),\n",
    "    showlegend=True,\n",
    "    legend=dict(\n",
    "        yanchor=\"top\",\n",
    "        y=0.99,\n",
    "        xanchor=\"left\",\n",
    "        x=1.05\n",
    "    )\n",
    ")\n",
    "\n",
    "# Update axes labels\n",
    "for i in range(0, rows * cols ):\n",
    "    if i > len(metrics):\n",
    "        continue\n",
    "    # print(base[i % 2])\n",
    "    # print(metrics[i // cols +1])\n",
    "    fig['layout'][f'xaxis{i // cols +1}'].update(title=metrics[i // cols])\n",
    "    fig['layout'][f'yaxis{i % cols +1}'].update(title=base[i % cols])\n",
    "\n",
    "fig.show()"
   ]
  },
  {
   "cell_type": "code",
   "execution_count": 22,
   "metadata": {},
   "outputs": [
    {
     "name": "stderr",
     "output_type": "stream",
     "text": [
      "c:\\Users\\PC\\AppData\\Local\\Programs\\Python\\Python312\\Lib\\site-packages\\numpy\\lib\\function_base.py:2889: RuntimeWarning:\n",
      "\n",
      "Degrees of freedom <= 0 for slice\n",
      "\n",
      "c:\\Users\\PC\\AppData\\Local\\Programs\\Python\\Python312\\Lib\\site-packages\\numpy\\lib\\function_base.py:2748: RuntimeWarning:\n",
      "\n",
      "divide by zero encountered in divide\n",
      "\n",
      "c:\\Users\\PC\\AppData\\Local\\Programs\\Python\\Python312\\Lib\\site-packages\\numpy\\lib\\function_base.py:2748: RuntimeWarning:\n",
      "\n",
      "invalid value encountered in multiply\n",
      "\n"
     ]
    },
    {
     "data": {
      "application/vnd.plotly.v1+json": {
       "config": {
        "plotlyServerURL": "https://plot.ly"
       },
       "data": [
        {
         "customdata": [
          [
           "respondent_1",
           "ID: respondent_1<br>Wilcoxon: 0.24<br>r: 0.1<br>r²: 0.01"
          ],
          [
           "respondent_1",
           "ID: respondent_1<br>Wilcoxon: 0.04<br>r: 0.1<br>r²: 0.01"
          ],
          [
           "respondent_1",
           "ID: respondent_1<br>Wilcoxon: 0.09<br>r: 0.1<br>r²: 0.01"
          ],
          [
           "respondent_1",
           "ID: respondent_1<br>Wilcoxon: 0.01<br>r: 0.1<br>r²: 0.01"
          ]
         ],
         "hovertemplate": "<b>%{hovertext}</b><br><br>hover_text=%{customdata[1]}<extra></extra>",
         "hovertext": [
          "respondent_1",
          "respondent_1",
          "respondent_1",
          "respondent_1"
         ],
         "legendgroup": "respondent_1",
         "marker": {
          "color": "#636efa",
          "opacity": 0.7,
          "size": 8,
          "symbol": "circle"
         },
         "mode": "markers",
         "name": "respondent_1",
         "orientation": "v",
         "showlegend": true,
         "type": "scatter",
         "x": {
          "bdata": "AAAAAAAAHEAAAAAAAAAmQAAAAAAAACBAAAAAAAAAJEA=",
          "dtype": "f8"
         },
         "xaxis": "x",
         "y": {
          "bdata": "nierB3kgzz+OoznQFn6jP9TizVZDHbY/6+m5gc7geT8=",
          "dtype": "f8"
         },
         "yaxis": "y"
        },
        {
         "hovertemplate": "<b>OLS trendline</b><br>p_value = -0.049028 * hour_d_diff + 0.53474<br>R<sup>2</sup>=0.725609<br><br><extra></extra>",
         "legendgroup": "respondent_1",
         "marker": {
          "color": "#636efa",
          "symbol": "circle"
         },
         "mode": "lines",
         "name": "respondent_1",
         "showlegend": false,
         "type": "scatter",
         "x": {
          "bdata": "AAAAAAAAHEAAAAAAAAAgQAAAAAAAACRAAAAAAAAAJkA=",
          "dtype": "f8"
         },
         "xaxis": "x",
         "y": {
          "bdata": "mBocsIOEyD9w13Oz9j3CP4BEjehyw6Y/AEGeUAi2cr8=",
          "dtype": "f8"
         },
         "yaxis": "y"
        },
        {
         "customdata": [
          [
           "respondent_3",
           "ID: respondent_3<br>Wilcoxon: 0.0<br>r: -0.45<br>r²: 0.2"
          ],
          [
           "respondent_3",
           "ID: respondent_3<br>Wilcoxon: 0.0<br>r: -0.45<br>r²: 0.2"
          ]
         ],
         "hovertemplate": "<b>%{hovertext}</b><br><br>hover_text=%{customdata[1]}<extra></extra>",
         "hovertext": [
          "respondent_3",
          "respondent_3"
         ],
         "legendgroup": "respondent_3",
         "marker": {
          "color": "#EF553B",
          "opacity": 0.7,
          "size": 8,
          "symbol": "circle"
         },
         "mode": "markers",
         "name": "respondent_3",
         "orientation": "v",
         "showlegend": true,
         "type": "scatter",
         "x": {
          "bdata": "AAAAAAAAEEAAAAAAAAAoQA==",
          "dtype": "f8"
         },
         "xaxis": "x",
         "y": {
          "bdata": "0tmo9BJB5D7eEVEsua4MPg==",
          "dtype": "f8"
         },
         "yaxis": "y"
        },
        {
         "hovertemplate": "<b>OLS trendline</b><br>p_value = -1.20714e-06 * hour_d_diff + 1.44865e-05<br>R<sup>2</sup>=1.000000<br><br><extra></extra>",
         "legendgroup": "respondent_3",
         "marker": {
          "color": "#EF553B",
          "symbol": "circle"
         },
         "mode": "lines",
         "name": "respondent_3",
         "showlegend": false,
         "type": "scatter",
         "x": {
          "bdata": "AAAAAAAAEEAAAAAAAAAoQA==",
          "dtype": "f8"
         },
         "xaxis": "x",
         "y": {
          "bdata": "z9mo9BJB5D4AwFAsua4MPg==",
          "dtype": "f8"
         },
         "yaxis": "y"
        },
        {
         "customdata": [
          [
           "respondent_4",
           "ID: respondent_4<br>Wilcoxon: 0.93<br>r: 0.06<br>r²: 0.0"
          ],
          [
           "respondent_4",
           "ID: respondent_4<br>Wilcoxon: 0.58<br>r: 0.06<br>r²: 0.0"
          ],
          [
           "respondent_4",
           "ID: respondent_4<br>Wilcoxon: 0.23<br>r: 0.06<br>r²: 0.0"
          ],
          [
           "respondent_4",
           "ID: respondent_4<br>Wilcoxon: 0.19<br>r: 0.06<br>r²: 0.0"
          ],
          [
           "respondent_4",
           "ID: respondent_4<br>Wilcoxon: 0.02<br>r: 0.06<br>r²: 0.0"
          ],
          [
           "respondent_4",
           "ID: respondent_4<br>Wilcoxon: 0.44<br>r: 0.06<br>r²: 0.0"
          ],
          [
           "respondent_4",
           "ID: respondent_4<br>Wilcoxon: 0.56<br>r: 0.06<br>r²: 0.0"
          ],
          [
           "respondent_4",
           "ID: respondent_4<br>Wilcoxon: 0.0<br>r: 0.06<br>r²: 0.0"
          ]
         ],
         "hovertemplate": "<b>%{hovertext}</b><br><br>hover_text=%{customdata[1]}<extra></extra>",
         "hovertext": [
          "respondent_4",
          "respondent_4",
          "respondent_4",
          "respondent_4",
          "respondent_4",
          "respondent_4",
          "respondent_4",
          "respondent_4"
         ],
         "legendgroup": "respondent_4",
         "marker": {
          "color": "#00cc96",
          "opacity": 0.7,
          "size": 8,
          "symbol": "circle"
         },
         "mode": "markers",
         "name": "respondent_4",
         "orientation": "v",
         "showlegend": true,
         "type": "scatter",
         "x": {
          "bdata": "AAAAAAAAIkAAAAAAAAAqQAAAAAAAACpAAAAAAAAAFEAAAAAAAAAxQAAAAAAAACxAAAAAAAAAKkAAAAAAAAAqQA==",
          "dtype": "f8"
         },
         "xaxis": "x",
         "y": {
          "bdata": "ZI4xld+97T99DCkXVJfiP4YTdD4H1c0/JD2zbYK7xz+N1O+Wv2iRP6dIm5cKX9w/7AVB46fo4T/upv0qIoxXPw==",
          "dtype": "f8"
         },
         "yaxis": "y"
        },
        {
         "hovertemplate": "<b>OLS trendline</b><br>p_value = -0.0231989 * hour_d_diff + 0.65007<br>R<sup>2</sup>=0.068684<br><br><extra></extra>",
         "legendgroup": "respondent_4",
         "marker": {
          "color": "#00cc96",
          "symbol": "circle"
         },
         "mode": "lines",
         "name": "respondent_4",
         "showlegend": false,
         "type": "scatter",
         "x": {
          "bdata": "AAAAAAAAFEAAAAAAAAAiQAAAAAAAACpAAAAAAAAAKkAAAAAAAAAqQAAAAAAAACpAAAAAAAAALEAAAAAAAAAxQA==",
          "dtype": "f8"
         },
         "xaxis": "x",
         "y": {
          "bdata": "UzBIYSUX4T/ji9ML7T3cPyG3FlWPTdY/IbcWVY9N1j8htxZVj03WPyG3FlWPTdY/8IFn53fR1D9e4lmeMV3QPw==",
          "dtype": "f8"
         },
         "yaxis": "y"
        }
       ],
       "layout": {
        "legend": {
         "title": {
          "text": "Респонденты"
         },
         "tracegroupgap": 0
        },
        "margin": {
         "t": 60
        },
        "template": {
         "data": {
          "bar": [
           {
            "error_x": {
             "color": "#2a3f5f"
            },
            "error_y": {
             "color": "#2a3f5f"
            },
            "marker": {
             "line": {
              "color": "#E5ECF6",
              "width": 0.5
             },
             "pattern": {
              "fillmode": "overlay",
              "size": 10,
              "solidity": 0.2
             }
            },
            "type": "bar"
           }
          ],
          "barpolar": [
           {
            "marker": {
             "line": {
              "color": "#E5ECF6",
              "width": 0.5
             },
             "pattern": {
              "fillmode": "overlay",
              "size": 10,
              "solidity": 0.2
             }
            },
            "type": "barpolar"
           }
          ],
          "carpet": [
           {
            "aaxis": {
             "endlinecolor": "#2a3f5f",
             "gridcolor": "white",
             "linecolor": "white",
             "minorgridcolor": "white",
             "startlinecolor": "#2a3f5f"
            },
            "baxis": {
             "endlinecolor": "#2a3f5f",
             "gridcolor": "white",
             "linecolor": "white",
             "minorgridcolor": "white",
             "startlinecolor": "#2a3f5f"
            },
            "type": "carpet"
           }
          ],
          "choropleth": [
           {
            "colorbar": {
             "outlinewidth": 0,
             "ticks": ""
            },
            "type": "choropleth"
           }
          ],
          "contour": [
           {
            "colorbar": {
             "outlinewidth": 0,
             "ticks": ""
            },
            "colorscale": [
             [
              0,
              "#0d0887"
             ],
             [
              0.1111111111111111,
              "#46039f"
             ],
             [
              0.2222222222222222,
              "#7201a8"
             ],
             [
              0.3333333333333333,
              "#9c179e"
             ],
             [
              0.4444444444444444,
              "#bd3786"
             ],
             [
              0.5555555555555556,
              "#d8576b"
             ],
             [
              0.6666666666666666,
              "#ed7953"
             ],
             [
              0.7777777777777778,
              "#fb9f3a"
             ],
             [
              0.8888888888888888,
              "#fdca26"
             ],
             [
              1,
              "#f0f921"
             ]
            ],
            "type": "contour"
           }
          ],
          "contourcarpet": [
           {
            "colorbar": {
             "outlinewidth": 0,
             "ticks": ""
            },
            "type": "contourcarpet"
           }
          ],
          "heatmap": [
           {
            "colorbar": {
             "outlinewidth": 0,
             "ticks": ""
            },
            "colorscale": [
             [
              0,
              "#0d0887"
             ],
             [
              0.1111111111111111,
              "#46039f"
             ],
             [
              0.2222222222222222,
              "#7201a8"
             ],
             [
              0.3333333333333333,
              "#9c179e"
             ],
             [
              0.4444444444444444,
              "#bd3786"
             ],
             [
              0.5555555555555556,
              "#d8576b"
             ],
             [
              0.6666666666666666,
              "#ed7953"
             ],
             [
              0.7777777777777778,
              "#fb9f3a"
             ],
             [
              0.8888888888888888,
              "#fdca26"
             ],
             [
              1,
              "#f0f921"
             ]
            ],
            "type": "heatmap"
           }
          ],
          "histogram": [
           {
            "marker": {
             "pattern": {
              "fillmode": "overlay",
              "size": 10,
              "solidity": 0.2
             }
            },
            "type": "histogram"
           }
          ],
          "histogram2d": [
           {
            "colorbar": {
             "outlinewidth": 0,
             "ticks": ""
            },
            "colorscale": [
             [
              0,
              "#0d0887"
             ],
             [
              0.1111111111111111,
              "#46039f"
             ],
             [
              0.2222222222222222,
              "#7201a8"
             ],
             [
              0.3333333333333333,
              "#9c179e"
             ],
             [
              0.4444444444444444,
              "#bd3786"
             ],
             [
              0.5555555555555556,
              "#d8576b"
             ],
             [
              0.6666666666666666,
              "#ed7953"
             ],
             [
              0.7777777777777778,
              "#fb9f3a"
             ],
             [
              0.8888888888888888,
              "#fdca26"
             ],
             [
              1,
              "#f0f921"
             ]
            ],
            "type": "histogram2d"
           }
          ],
          "histogram2dcontour": [
           {
            "colorbar": {
             "outlinewidth": 0,
             "ticks": ""
            },
            "colorscale": [
             [
              0,
              "#0d0887"
             ],
             [
              0.1111111111111111,
              "#46039f"
             ],
             [
              0.2222222222222222,
              "#7201a8"
             ],
             [
              0.3333333333333333,
              "#9c179e"
             ],
             [
              0.4444444444444444,
              "#bd3786"
             ],
             [
              0.5555555555555556,
              "#d8576b"
             ],
             [
              0.6666666666666666,
              "#ed7953"
             ],
             [
              0.7777777777777778,
              "#fb9f3a"
             ],
             [
              0.8888888888888888,
              "#fdca26"
             ],
             [
              1,
              "#f0f921"
             ]
            ],
            "type": "histogram2dcontour"
           }
          ],
          "mesh3d": [
           {
            "colorbar": {
             "outlinewidth": 0,
             "ticks": ""
            },
            "type": "mesh3d"
           }
          ],
          "parcoords": [
           {
            "line": {
             "colorbar": {
              "outlinewidth": 0,
              "ticks": ""
             }
            },
            "type": "parcoords"
           }
          ],
          "pie": [
           {
            "automargin": true,
            "type": "pie"
           }
          ],
          "scatter": [
           {
            "fillpattern": {
             "fillmode": "overlay",
             "size": 10,
             "solidity": 0.2
            },
            "type": "scatter"
           }
          ],
          "scatter3d": [
           {
            "line": {
             "colorbar": {
              "outlinewidth": 0,
              "ticks": ""
             }
            },
            "marker": {
             "colorbar": {
              "outlinewidth": 0,
              "ticks": ""
             }
            },
            "type": "scatter3d"
           }
          ],
          "scattercarpet": [
           {
            "marker": {
             "colorbar": {
              "outlinewidth": 0,
              "ticks": ""
             }
            },
            "type": "scattercarpet"
           }
          ],
          "scattergeo": [
           {
            "marker": {
             "colorbar": {
              "outlinewidth": 0,
              "ticks": ""
             }
            },
            "type": "scattergeo"
           }
          ],
          "scattergl": [
           {
            "marker": {
             "colorbar": {
              "outlinewidth": 0,
              "ticks": ""
             }
            },
            "type": "scattergl"
           }
          ],
          "scattermap": [
           {
            "marker": {
             "colorbar": {
              "outlinewidth": 0,
              "ticks": ""
             }
            },
            "type": "scattermap"
           }
          ],
          "scattermapbox": [
           {
            "marker": {
             "colorbar": {
              "outlinewidth": 0,
              "ticks": ""
             }
            },
            "type": "scattermapbox"
           }
          ],
          "scatterpolar": [
           {
            "marker": {
             "colorbar": {
              "outlinewidth": 0,
              "ticks": ""
             }
            },
            "type": "scatterpolar"
           }
          ],
          "scatterpolargl": [
           {
            "marker": {
             "colorbar": {
              "outlinewidth": 0,
              "ticks": ""
             }
            },
            "type": "scatterpolargl"
           }
          ],
          "scatterternary": [
           {
            "marker": {
             "colorbar": {
              "outlinewidth": 0,
              "ticks": ""
             }
            },
            "type": "scatterternary"
           }
          ],
          "surface": [
           {
            "colorbar": {
             "outlinewidth": 0,
             "ticks": ""
            },
            "colorscale": [
             [
              0,
              "#0d0887"
             ],
             [
              0.1111111111111111,
              "#46039f"
             ],
             [
              0.2222222222222222,
              "#7201a8"
             ],
             [
              0.3333333333333333,
              "#9c179e"
             ],
             [
              0.4444444444444444,
              "#bd3786"
             ],
             [
              0.5555555555555556,
              "#d8576b"
             ],
             [
              0.6666666666666666,
              "#ed7953"
             ],
             [
              0.7777777777777778,
              "#fb9f3a"
             ],
             [
              0.8888888888888888,
              "#fdca26"
             ],
             [
              1,
              "#f0f921"
             ]
            ],
            "type": "surface"
           }
          ],
          "table": [
           {
            "cells": {
             "fill": {
              "color": "#EBF0F8"
             },
             "line": {
              "color": "white"
             }
            },
            "header": {
             "fill": {
              "color": "#C8D4E3"
             },
             "line": {
              "color": "white"
             }
            },
            "type": "table"
           }
          ]
         },
         "layout": {
          "annotationdefaults": {
           "arrowcolor": "#2a3f5f",
           "arrowhead": 0,
           "arrowwidth": 1
          },
          "autotypenumbers": "strict",
          "coloraxis": {
           "colorbar": {
            "outlinewidth": 0,
            "ticks": ""
           }
          },
          "colorscale": {
           "diverging": [
            [
             0,
             "#8e0152"
            ],
            [
             0.1,
             "#c51b7d"
            ],
            [
             0.2,
             "#de77ae"
            ],
            [
             0.3,
             "#f1b6da"
            ],
            [
             0.4,
             "#fde0ef"
            ],
            [
             0.5,
             "#f7f7f7"
            ],
            [
             0.6,
             "#e6f5d0"
            ],
            [
             0.7,
             "#b8e186"
            ],
            [
             0.8,
             "#7fbc41"
            ],
            [
             0.9,
             "#4d9221"
            ],
            [
             1,
             "#276419"
            ]
           ],
           "sequential": [
            [
             0,
             "#0d0887"
            ],
            [
             0.1111111111111111,
             "#46039f"
            ],
            [
             0.2222222222222222,
             "#7201a8"
            ],
            [
             0.3333333333333333,
             "#9c179e"
            ],
            [
             0.4444444444444444,
             "#bd3786"
            ],
            [
             0.5555555555555556,
             "#d8576b"
            ],
            [
             0.6666666666666666,
             "#ed7953"
            ],
            [
             0.7777777777777778,
             "#fb9f3a"
            ],
            [
             0.8888888888888888,
             "#fdca26"
            ],
            [
             1,
             "#f0f921"
            ]
           ],
           "sequentialminus": [
            [
             0,
             "#0d0887"
            ],
            [
             0.1111111111111111,
             "#46039f"
            ],
            [
             0.2222222222222222,
             "#7201a8"
            ],
            [
             0.3333333333333333,
             "#9c179e"
            ],
            [
             0.4444444444444444,
             "#bd3786"
            ],
            [
             0.5555555555555556,
             "#d8576b"
            ],
            [
             0.6666666666666666,
             "#ed7953"
            ],
            [
             0.7777777777777778,
             "#fb9f3a"
            ],
            [
             0.8888888888888888,
             "#fdca26"
            ],
            [
             1,
             "#f0f921"
            ]
           ]
          },
          "colorway": [
           "#636efa",
           "#EF553B",
           "#00cc96",
           "#ab63fa",
           "#FFA15A",
           "#19d3f3",
           "#FF6692",
           "#B6E880",
           "#FF97FF",
           "#FECB52"
          ],
          "font": {
           "color": "#2a3f5f"
          },
          "geo": {
           "bgcolor": "white",
           "lakecolor": "white",
           "landcolor": "#E5ECF6",
           "showlakes": true,
           "showland": true,
           "subunitcolor": "white"
          },
          "hoverlabel": {
           "align": "left"
          },
          "hovermode": "closest",
          "mapbox": {
           "style": "light"
          },
          "paper_bgcolor": "white",
          "plot_bgcolor": "#E5ECF6",
          "polar": {
           "angularaxis": {
            "gridcolor": "white",
            "linecolor": "white",
            "ticks": ""
           },
           "bgcolor": "#E5ECF6",
           "radialaxis": {
            "gridcolor": "white",
            "linecolor": "white",
            "ticks": ""
           }
          },
          "scene": {
           "xaxis": {
            "backgroundcolor": "#E5ECF6",
            "gridcolor": "white",
            "gridwidth": 2,
            "linecolor": "white",
            "showbackground": true,
            "ticks": "",
            "zerolinecolor": "white"
           },
           "yaxis": {
            "backgroundcolor": "#E5ECF6",
            "gridcolor": "white",
            "gridwidth": 2,
            "linecolor": "white",
            "showbackground": true,
            "ticks": "",
            "zerolinecolor": "white"
           },
           "zaxis": {
            "backgroundcolor": "#E5ECF6",
            "gridcolor": "white",
            "gridwidth": 2,
            "linecolor": "white",
            "showbackground": true,
            "ticks": "",
            "zerolinecolor": "white"
           }
          },
          "shapedefaults": {
           "line": {
            "color": "#2a3f5f"
           }
          },
          "ternary": {
           "aaxis": {
            "gridcolor": "white",
            "linecolor": "white",
            "ticks": ""
           },
           "baxis": {
            "gridcolor": "white",
            "linecolor": "white",
            "ticks": ""
           },
           "bgcolor": "#E5ECF6",
           "caxis": {
            "gridcolor": "white",
            "linecolor": "white",
            "ticks": ""
           }
          },
          "title": {
           "x": 0.05
          },
          "xaxis": {
           "automargin": true,
           "gridcolor": "white",
           "linecolor": "white",
           "ticks": "",
           "title": {
            "standoff": 15
           },
           "zerolinecolor": "white",
           "zerolinewidth": 2
          },
          "yaxis": {
           "automargin": true,
           "gridcolor": "white",
           "linecolor": "white",
           "ticks": "",
           "title": {
            "standoff": 15
           },
           "zerolinecolor": "white",
           "zerolinewidth": 2
          }
         }
        },
        "xaxis": {
         "anchor": "y",
         "domain": [
          0,
          1
         ],
         "title": {
          "text": "Изменение hour"
         }
        },
        "yaxis": {
         "anchor": "x",
         "domain": [
          0,
          1
         ],
         "title": {
          "text": "Статистика Wilcoxon"
         }
        }
       }
      }
     },
     "metadata": {},
     "output_type": "display_data"
    }
   ],
   "source": [
    "import pandas as pd\n",
    "import plotly.express as px\n",
    "\n",
    "\n",
    "# Создадим столбцы с индивидуальными корреляциями r и r² для каждого пользователя\n",
    "correlation_data = wilcoxon_pairwise_df.groupby('id').apply(\n",
    "    lambda g: pd.Series({\n",
    "        'corr': g['p_value'].corr(g['hour_d_diff']),\n",
    "        'r_squared': g['p_value'].corr(g['hour_d_diff']) ** 2\n",
    "    })\n",
    ").reset_index()\n",
    "# Объединяем обратно в основной датафрейм\n",
    "w_df = wilcoxon_pairwise_df.merge(correlation_data, on='id', how='left')\n",
    "w_df = w_df[w_df['day_time'] == 'mbt_ect']\n",
    "# Добавляем аннотацию\n",
    "w_df['hover_text'] = (\n",
    "    'ID: ' + w_df['id'].astype(str) +\n",
    "    '<br>Wilcoxon: ' + w_df['p_value'].round(2).astype(str) +\n",
    "    # '<br>Score Δ: ' + wilcoxon_pairwise_df['fatigue_lvl_diff'].round(2).astype(str) +\n",
    "    '<br>r: ' + w_df['corr'].round(2).astype(str) +\n",
    "    '<br>r²: ' + w_df['r_squared'].round(2).astype(str)\n",
    ")\n",
    "\n",
    "# Визуализация\n",
    "\n",
    "fig = px.scatter(\n",
    "    w_df,\n",
    "    x='hour_d_diff',\n",
    "    \n",
    "    y='p_value',\n",
    "    color='id',\n",
    "    hover_name='id',\n",
    "    hover_data={'id': False, 'p_value': False, 'hour_d_diff': False, 'hover_text': True},\n",
    "    # title='Wilcoxon vs Score Change по респондентам с индивидуальными r и r²',\n",
    "    labels={\n",
    "        'hour_d_diff': 'Изменение hour',\n",
    "        'p_value': 'Статистика Wilcoxon',\n",
    "        'id': 'Респондент'\n",
    "    },\n",
    "    trendline='ols'\n",
    ")\n",
    "\n",
    "fig.update_traces(marker=dict(size=8, opacity=0.7), selector=dict(mode='markers'))\n",
    "fig.update_layout(legend_title_text='Респонденты')\n",
    "fig.show()\n"
   ]
  },
  {
   "cell_type": "markdown",
   "metadata": {},
   "source": [
    "### Критерий недельный"
   ]
  },
  {
   "cell_type": "code",
   "execution_count": 23,
   "metadata": {},
   "outputs": [
    {
     "name": "stdout",
     "output_type": "stream",
     "text": [
      "#                         int64\n",
      "num1                      int64\n",
      "num2                      int64\n",
      "operation                object\n",
      "right_ans                 int64\n",
      "user_ans                  int64\n",
      "start_time              float64\n",
      "end_time                float64\n",
      "correct_flg               int64\n",
      "id                       object\n",
      "datetime         datetime64[ns]\n",
      "weekday                  object\n",
      "weekday_num               int32\n",
      "hour                      int64\n",
      "date                     object\n",
      "response_time           float64\n",
      "dtype: object\n",
      "(200, 19) (200, 19)\n",
      "respondent_1 2024-12-11 17:20:52 2024-12-12 13:14:12\n",
      "(200, 19) (200, 19)\n",
      "respondent_1 2024-12-12 13:14:12 2024-12-13 08:20:01\n",
      "(200, 19) (200, 19)\n",
      "respondent_1 2024-12-13 08:20:01 2024-12-14 11:56:28\n",
      "(200, 19) (200, 19)\n",
      "respondent_1 2024-12-14 11:56:28 2024-12-15 12:06:37\n",
      "(200, 19) (200, 19)\n",
      "respondent_2 2024-12-11 16:09:52 2024-12-12 19:57:16\n",
      "(200, 19) (200, 19)\n",
      "respondent_3 2024-12-11 10:55:16 2024-12-13 02:03:23\n",
      "(200, 19) (200, 19)\n",
      "respondent_3 2024-12-13 02:03:23 2024-12-13 10:32:47\n",
      "(200, 19) (200, 19)\n",
      "respondent_3 2024-12-13 10:32:47 2024-12-14 13:00:47\n",
      "(200, 19) (200, 19)\n",
      "respondent_4 2024-12-12 12:56:06 2024-12-13 11:40:45\n",
      "(200, 19) (200, 19)\n",
      "respondent_4 2024-12-13 11:40:45 2024-12-14 12:11:29\n",
      "(200, 19) (200, 19)\n",
      "respondent_4 2024-12-14 12:11:29 2024-12-15 13:04:17\n",
      "(200, 19) (200, 19)\n",
      "respondent_4 2024-12-15 13:04:17 2024-12-16 06:52:53\n",
      "(200, 19) (200, 19)\n",
      "respondent_4 2024-12-16 06:52:53 2024-12-17 09:58:55\n",
      "(200, 19) (200, 19)\n",
      "respondent_4 2024-12-17 09:58:55 2024-12-18 09:33:39\n",
      "(200, 19) (200, 19)\n",
      "respondent_4 2024-12-18 09:33:39 2024-12-24 08:34:30\n",
      "(200, 19) (200, 19)\n",
      "respondent_4 2024-12-24 08:34:30 2025-01-16 10:26:25\n",
      "(200, 19) (200, 19)\n",
      "respondent_4 2025-01-16 10:26:25 2025-01-20 08:42:15\n",
      "(200, 19) (200, 19)\n",
      "respondent_4 2025-01-20 08:42:15 2025-01-21 11:34:02\n"
     ]
    },
    {
     "data": {
      "text/html": [
       "<div>\n",
       "<style scoped>\n",
       "    .dataframe tbody tr th:only-of-type {\n",
       "        vertical-align: middle;\n",
       "    }\n",
       "\n",
       "    .dataframe tbody tr th {\n",
       "        vertical-align: top;\n",
       "    }\n",
       "\n",
       "    .dataframe thead th {\n",
       "        text-align: right;\n",
       "    }\n",
       "</style>\n",
       "<table border=\"1\" class=\"dataframe\">\n",
       "  <thead>\n",
       "    <tr style=\"text-align: right;\">\n",
       "      <th></th>\n",
       "      <th>id</th>\n",
       "      <th>base_time</th>\n",
       "      <th>session_time</th>\n",
       "      <th>wilcoxon_statistic_g</th>\n",
       "      <th>p_value_g</th>\n",
       "      <th>wilcoxon_statistic_l</th>\n",
       "      <th>p_value_l</th>\n",
       "      <th>wilcoxon_statistic</th>\n",
       "      <th>p_value</th>\n",
       "      <th>rank</th>\n",
       "      <th>day_rank</th>\n",
       "    </tr>\n",
       "  </thead>\n",
       "  <tbody>\n",
       "    <tr>\n",
       "      <th>0</th>\n",
       "      <td>respondent_1</td>\n",
       "      <td>2024-12-11 17:20:52</td>\n",
       "      <td>2024-12-12 13:14:12</td>\n",
       "      <td>13083.5</td>\n",
       "      <td>3.106059e-05</td>\n",
       "      <td>13083.5</td>\n",
       "      <td>0.999969</td>\n",
       "      <td>6617.5</td>\n",
       "      <td>6.212119e-05</td>\n",
       "      <td>1.0</td>\n",
       "      <td>2.0</td>\n",
       "    </tr>\n",
       "    <tr>\n",
       "      <th>2</th>\n",
       "      <td>respondent_1</td>\n",
       "      <td>2024-12-13 08:20:01</td>\n",
       "      <td>2024-12-14 11:56:28</td>\n",
       "      <td>13304.5</td>\n",
       "      <td>3.577842e-05</td>\n",
       "      <td>13304.5</td>\n",
       "      <td>0.999964</td>\n",
       "      <td>6795.5</td>\n",
       "      <td>7.155685e-05</td>\n",
       "      <td>1.0</td>\n",
       "      <td>4.0</td>\n",
       "    </tr>\n",
       "    <tr>\n",
       "      <th>3</th>\n",
       "      <td>respondent_1</td>\n",
       "      <td>2024-12-14 11:56:28</td>\n",
       "      <td>2024-12-15 12:06:37</td>\n",
       "      <td>8460.5</td>\n",
       "      <td>9.664602e-01</td>\n",
       "      <td>8460.5</td>\n",
       "      <td>0.033540</td>\n",
       "      <td>8460.5</td>\n",
       "      <td>6.707960e-02</td>\n",
       "      <td>1.0</td>\n",
       "      <td>5.0</td>\n",
       "    </tr>\n",
       "    <tr>\n",
       "      <th>4</th>\n",
       "      <td>respondent_2</td>\n",
       "      <td>2024-12-11 16:09:52</td>\n",
       "      <td>2024-12-12 19:57:16</td>\n",
       "      <td>15822.5</td>\n",
       "      <td>9.377214e-13</td>\n",
       "      <td>15822.5</td>\n",
       "      <td>1.000000</td>\n",
       "      <td>4277.5</td>\n",
       "      <td>1.875443e-12</td>\n",
       "      <td>1.0</td>\n",
       "      <td>2.0</td>\n",
       "    </tr>\n",
       "    <tr>\n",
       "      <th>5</th>\n",
       "      <td>respondent_3</td>\n",
       "      <td>2024-12-11 10:55:16</td>\n",
       "      <td>2024-12-13 02:03:23</td>\n",
       "      <td>15578.5</td>\n",
       "      <td>2.266886e-12</td>\n",
       "      <td>15578.5</td>\n",
       "      <td>1.000000</td>\n",
       "      <td>4321.5</td>\n",
       "      <td>4.533773e-12</td>\n",
       "      <td>1.0</td>\n",
       "      <td>2.0</td>\n",
       "    </tr>\n",
       "    <tr>\n",
       "      <th>7</th>\n",
       "      <td>respondent_3</td>\n",
       "      <td>2024-12-13 10:32:47</td>\n",
       "      <td>2024-12-14 13:00:47</td>\n",
       "      <td>6597.0</td>\n",
       "      <td>9.999874e-01</td>\n",
       "      <td>6597.0</td>\n",
       "      <td>0.000013</td>\n",
       "      <td>6597.0</td>\n",
       "      <td>2.516863e-05</td>\n",
       "      <td>1.0</td>\n",
       "      <td>4.0</td>\n",
       "    </tr>\n",
       "    <tr>\n",
       "      <th>17</th>\n",
       "      <td>respondent_4</td>\n",
       "      <td>2025-01-20 08:42:15</td>\n",
       "      <td>2025-01-21 11:34:02</td>\n",
       "      <td>11977.5</td>\n",
       "      <td>2.732683e-03</td>\n",
       "      <td>11977.5</td>\n",
       "      <td>0.997267</td>\n",
       "      <td>7525.5</td>\n",
       "      <td>5.465367e-03</td>\n",
       "      <td>1.0</td>\n",
       "      <td>11.0</td>\n",
       "    </tr>\n",
       "  </tbody>\n",
       "</table>\n",
       "</div>"
      ],
      "text/plain": [
       "              id           base_time        session_time  \\\n",
       "0   respondent_1 2024-12-11 17:20:52 2024-12-12 13:14:12   \n",
       "2   respondent_1 2024-12-13 08:20:01 2024-12-14 11:56:28   \n",
       "3   respondent_1 2024-12-14 11:56:28 2024-12-15 12:06:37   \n",
       "4   respondent_2 2024-12-11 16:09:52 2024-12-12 19:57:16   \n",
       "5   respondent_3 2024-12-11 10:55:16 2024-12-13 02:03:23   \n",
       "7   respondent_3 2024-12-13 10:32:47 2024-12-14 13:00:47   \n",
       "17  respondent_4 2025-01-20 08:42:15 2025-01-21 11:34:02   \n",
       "\n",
       "    wilcoxon_statistic_g     p_value_g  wilcoxon_statistic_l  p_value_l  \\\n",
       "0                13083.5  3.106059e-05               13083.5   0.999969   \n",
       "2                13304.5  3.577842e-05               13304.5   0.999964   \n",
       "3                 8460.5  9.664602e-01                8460.5   0.033540   \n",
       "4                15822.5  9.377214e-13               15822.5   1.000000   \n",
       "5                15578.5  2.266886e-12               15578.5   1.000000   \n",
       "7                 6597.0  9.999874e-01                6597.0   0.000013   \n",
       "17               11977.5  2.732683e-03               11977.5   0.997267   \n",
       "\n",
       "    wilcoxon_statistic       p_value  rank  day_rank  \n",
       "0               6617.5  6.212119e-05   1.0       2.0  \n",
       "2               6795.5  7.155685e-05   1.0       4.0  \n",
       "3               8460.5  6.707960e-02   1.0       5.0  \n",
       "4               4277.5  1.875443e-12   1.0       2.0  \n",
       "5               4321.5  4.533773e-12   1.0       2.0  \n",
       "7               6597.0  2.516863e-05   1.0       4.0  \n",
       "17              7525.5  5.465367e-03   1.0      11.0  "
      ]
     },
     "execution_count": 23,
     "metadata": {},
     "output_type": "execute_result"
    }
   ],
   "source": [
    "# смотрим на разницу между утрами\n",
    "import pandas as pd\n",
    "from scipy.stats import wilcoxon\n",
    "\n",
    "# Загрузим правильный файл\n",
    "df_new = answersLog_df.copy()\n",
    "print(df_new.dtypes)\n",
    "# df_new['date'] =  df_new[['datetime', 'hour', 'date']].apply(lambda row: (row['datetime'] - pd.Timedelta(days=1)).date() if row['hour'] > 23 else row['date'], axis=1)\n",
    "df_new['week_start'] = df_new['date'].apply(lambda r: pd.to_datetime(r).to_period('W').start_time)\n",
    "\n",
    "# df_new['rank_week'] = df_new.groupby(['id', 'week_start'])['datetime'].rank(method='dense')\n",
    "df_new['rank'] = df_new.groupby(['id', 'date'])['hour'].rank(method='dense')\n",
    "df_new['rank_day'] = df_new.groupby(['id'])['date'].rank(method='dense')\n",
    "\n",
    "results = []\n",
    "# Промечаем бейзлайны\n",
    "for (respondent_id, date, datetime, rank, day_rank), group in df_new.groupby(['id', 'date', 'datetime', 'rank', 'rank_day']):\n",
    "    # print(respondent_id, str(datetime), group['rank'].mean())\n",
    "    if day_rank == 1 or rank != 1:\n",
    "        continue\n",
    "    baseline_session = df_new[(df_new['rank'] == 1) & (df_new['rank_day'] == day_rank - 1) & (df_new['id'] == respondent_id)]\n",
    "    print(baseline_session.shape, group.shape)\n",
    "    print(respondent_id, baseline_session.datetime.max(), group.datetime.max())\n",
    "    if baseline_session.shape[0] == 0:\n",
    "        continue\n",
    "    stat_g, p_g = wilcoxon(baseline_session['response_time'], group['response_time'],  alternative='greater')\n",
    "    stat_l, p_l = wilcoxon(baseline_session['response_time'],group['response_time'], alternative='less')\n",
    "    stat, p = wilcoxon(baseline_session['response_time'],group['response_time'])\n",
    "\n",
    "    results.append({\n",
    "        'id': respondent_id,\n",
    "        'base_time': baseline_session.datetime.max(),\n",
    "        'session_time': datetime,\n",
    "        'wilcoxon_statistic_g': stat_g,\n",
    "        'p_value_g': p_g,\n",
    "        'wilcoxon_statistic_l': stat_l,\n",
    "        'p_value_l': p_l,\n",
    "        'wilcoxon_statistic': stat,\n",
    "        'p_value': p,\n",
    "        'rank' : rank,\n",
    "        'day_rank' : day_rank,\n",
    "        \n",
    "        # 'fatigue_lvl': gr\n",
    "    })\n",
    "\n",
    "# # Финальный результат\n",
    "wilcoxon_result_df = pd.DataFrame(results)\n",
    "\n",
    "wilcoxon_result_df[(wilcoxon_result_df['p_value'] < 0.05) | (wilcoxon_result_df['p_value_l'] < 0.05) | (wilcoxon_result_df['p_value_g'] < 0.05)]"
   ]
  },
  {
   "cell_type": "code",
   "execution_count": 24,
   "metadata": {},
   "outputs": [
    {
     "name": "stdout",
     "output_type": "stream",
     "text": [
      "#                         int64\n",
      "num1                      int64\n",
      "num2                      int64\n",
      "operation                object\n",
      "right_ans                 int64\n",
      "user_ans                  int64\n",
      "start_time              float64\n",
      "end_time                float64\n",
      "correct_flg               int64\n",
      "id                       object\n",
      "datetime         datetime64[ns]\n",
      "weekday                  object\n",
      "weekday_num               int32\n",
      "hour                      int64\n",
      "date                     object\n",
      "response_time           float64\n",
      "dtype: object\n",
      "(0, 19) (200, 19)\n",
      "respondent_1 NaT 2024-12-12 21:07:06\n",
      "(200, 19) (200, 19)\n",
      "respondent_1 2024-12-12 21:07:06 2024-12-13 20:13:02\n",
      "(200, 19) (200, 19)\n",
      "respondent_1 2024-12-13 20:13:02 2024-12-14 20:53:06\n",
      "(200, 19) (200, 19)\n",
      "respondent_1 2024-12-14 20:53:06 2024-12-15 22:12:43\n",
      "(0, 19) (200, 19)\n",
      "respondent_3 NaT 2024-12-15 01:16:30\n",
      "(200, 19) (200, 19)\n",
      "respondent_4 2024-12-12 22:33:31 2024-12-14 01:05:55\n",
      "(200, 19) (200, 19)\n",
      "respondent_4 2024-12-14 01:05:55 2024-12-15 01:29:44\n",
      "(200, 19) (200, 19)\n",
      "respondent_4 2024-12-15 01:29:44 2024-12-15 18:28:17\n",
      "(200, 19) (200, 19)\n",
      "respondent_4 2024-12-15 18:28:17 2024-12-16 23:57:21\n",
      "(200, 19) (200, 19)\n",
      "respondent_4 2024-12-16 23:57:21 2024-12-18 00:18:36\n",
      "(0, 19) (200, 19)\n",
      "respondent_4 NaT 2024-12-24 22:24:22\n",
      "(0, 19) (200, 19)\n",
      "respondent_4 NaT 2025-01-20 22:38:18\n"
     ]
    },
    {
     "data": {
      "text/html": [
       "<div>\n",
       "<style scoped>\n",
       "    .dataframe tbody tr th:only-of-type {\n",
       "        vertical-align: middle;\n",
       "    }\n",
       "\n",
       "    .dataframe tbody tr th {\n",
       "        vertical-align: top;\n",
       "    }\n",
       "\n",
       "    .dataframe thead th {\n",
       "        text-align: right;\n",
       "    }\n",
       "</style>\n",
       "<table border=\"1\" class=\"dataframe\">\n",
       "  <thead>\n",
       "    <tr style=\"text-align: right;\">\n",
       "      <th></th>\n",
       "      <th>id</th>\n",
       "      <th>base_time</th>\n",
       "      <th>session_time</th>\n",
       "      <th>wilcoxon_statistic_g</th>\n",
       "      <th>p_value_g</th>\n",
       "      <th>wilcoxon_statistic_l</th>\n",
       "      <th>p_value_l</th>\n",
       "      <th>wilcoxon_statistic</th>\n",
       "      <th>p_value</th>\n",
       "    </tr>\n",
       "  </thead>\n",
       "  <tbody>\n",
       "    <tr>\n",
       "      <th>1</th>\n",
       "      <td>respondent_1</td>\n",
       "      <td>2024-12-13 20:13:02</td>\n",
       "      <td>2024-12-14 20:53:06</td>\n",
       "      <td>12466.0</td>\n",
       "      <td>0.00099</td>\n",
       "      <td>12466.0</td>\n",
       "      <td>0.99901</td>\n",
       "      <td>7434.0</td>\n",
       "      <td>0.001981</td>\n",
       "    </tr>\n",
       "  </tbody>\n",
       "</table>\n",
       "</div>"
      ],
      "text/plain": [
       "             id           base_time        session_time  wilcoxon_statistic_g  \\\n",
       "1  respondent_1 2024-12-13 20:13:02 2024-12-14 20:53:06               12466.0   \n",
       "\n",
       "   p_value_g  wilcoxon_statistic_l  p_value_l  wilcoxon_statistic   p_value  \n",
       "1    0.00099               12466.0    0.99901              7434.0  0.001981  "
      ]
     },
     "execution_count": 24,
     "metadata": {},
     "output_type": "execute_result"
    }
   ],
   "source": [
    "# разница между вечерами\n",
    "import pandas as pd\n",
    "from scipy.stats import wilcoxon\n",
    "\n",
    "# Загрузим правильный файл\n",
    "df_new = answersLog_df.copy()\n",
    "print(df_new.dtypes)\n",
    "# df_new['date'] =  df_new[['datetime', 'hour', 'date']].apply(lambda row: (row['datetime'] - pd.Timedelta(days=1)).date() if row['hour'] > 23 else row['date'], axis=1)\n",
    "df_new['week_start'] = df_new['date'].apply(lambda r: pd.to_datetime(r).to_period('W').start_time)\n",
    "\n",
    "# df_new['rank_week'] = df_new.groupby(['id', 'week_start'])['datetime'].rank(method='dense')\n",
    "df_new['rank'] = df_new.groupby(['id', 'date'])['hour'].rank(method='dense')\n",
    "df_new['rank_day'] = df_new.groupby(['id'])['date'].rank(method='dense')\n",
    "# Сессии — уникальные сочетания id + datetime\n",
    "# sessions = df_new[['id', 'datetime', 'date']].drop_duplicates()\n",
    "\n",
    "results = []\n",
    "# Промечаем бейзлайны\n",
    "for (respondent_id, date, datetime, rank, day_rank), group in df_new.groupby(['id', 'date', 'datetime', 'rank', 'rank_day']):\n",
    "    # print(respondent_id, str(datetime), group['rank'].mean())\n",
    "    if day_rank == 1 or rank != 2:\n",
    "        continue\n",
    "    baseline_session = df_new[(df_new['rank'] == 2) & (df_new['rank_day'] == day_rank - 1) & (df_new['id'] == respondent_id)]\n",
    "    print(baseline_session.shape, group.shape)\n",
    "    print(respondent_id, baseline_session.datetime.max(), group.datetime.max())\n",
    "    if baseline_session.shape[0] == 0:\n",
    "        continue\n",
    "    stat_g, p_g = wilcoxon(baseline_session['response_time'], group['response_time'],  alternative='greater')\n",
    "    stat_l, p_l = wilcoxon(baseline_session['response_time'],group['response_time'], alternative='less')\n",
    "    stat, p = wilcoxon(baseline_session['response_time'],group['response_time'])\n",
    "\n",
    "    results.append({\n",
    "        'id': respondent_id,\n",
    "        'base_time': baseline_session.datetime.max(),\n",
    "        'session_time': datetime,\n",
    "        'wilcoxon_statistic_g': stat_g,\n",
    "        'p_value_g': p_g,\n",
    "        'wilcoxon_statistic_l': stat_l,\n",
    "        'p_value_l': p_l,\n",
    "        'wilcoxon_statistic': stat,\n",
    "        'p_value': p,\n",
    "        \n",
    "        # 'fatigue_lvl': gr\n",
    "    })\n",
    "\n",
    "# # Финальный результат\n",
    "wilcoxon_result_df = pd.DataFrame(results)\n",
    "\n",
    "wilcoxon_result_df[(wilcoxon_result_df['p_value'] < 0.05) | (wilcoxon_result_df['p_value_l'] < 0.05) | (wilcoxon_result_df['p_value_g'] < 0.05)]"
   ]
  },
  {
   "cell_type": "code",
   "execution_count": 25,
   "metadata": {},
   "outputs": [
    {
     "data": {
      "text/html": [
       "<div>\n",
       "<style scoped>\n",
       "    .dataframe tbody tr th:only-of-type {\n",
       "        vertical-align: middle;\n",
       "    }\n",
       "\n",
       "    .dataframe tbody tr th {\n",
       "        vertical-align: top;\n",
       "    }\n",
       "\n",
       "    .dataframe thead th {\n",
       "        text-align: right;\n",
       "    }\n",
       "</style>\n",
       "<table border=\"1\" class=\"dataframe\">\n",
       "  <thead>\n",
       "    <tr style=\"text-align: right;\">\n",
       "      <th></th>\n",
       "      <th></th>\n",
       "      <th>cnt</th>\n",
       "      <th>avg_p_val</th>\n",
       "      <th>p_value_g</th>\n",
       "      <th>p_value_l</th>\n",
       "      <th>rt_coef</th>\n",
       "      <th>rt_std_coef</th>\n",
       "      <th>crct_coef</th>\n",
       "    </tr>\n",
       "    <tr>\n",
       "      <th>rank_bt</th>\n",
       "      <th>rank_st</th>\n",
       "      <th></th>\n",
       "      <th></th>\n",
       "      <th></th>\n",
       "      <th></th>\n",
       "      <th></th>\n",
       "      <th></th>\n",
       "      <th></th>\n",
       "    </tr>\n",
       "  </thead>\n",
       "  <tbody>\n",
       "    <tr>\n",
       "      <th rowspan=\"2\" valign=\"top\">1.0</th>\n",
       "      <th>2.0</th>\n",
       "      <td>14</td>\n",
       "      <td>0.312018</td>\n",
       "      <td>0.762555</td>\n",
       "      <td>0.237445</td>\n",
       "      <td>0.961418</td>\n",
       "      <td>0.964706</td>\n",
       "      <td>0.992485</td>\n",
       "    </tr>\n",
       "    <tr>\n",
       "      <th>3.0</th>\n",
       "      <td>1</td>\n",
       "      <td>0.000004</td>\n",
       "      <td>0.999998</td>\n",
       "      <td>0.000002</td>\n",
       "      <td>0.884479</td>\n",
       "      <td>0.992296</td>\n",
       "      <td>1.000000</td>\n",
       "    </tr>\n",
       "    <tr>\n",
       "      <th>2.0</th>\n",
       "      <th>3.0</th>\n",
       "      <td>1</td>\n",
       "      <td>0.857172</td>\n",
       "      <td>0.428586</td>\n",
       "      <td>0.571414</td>\n",
       "      <td>1.013681</td>\n",
       "      <td>1.222314</td>\n",
       "      <td>1.010152</td>\n",
       "    </tr>\n",
       "  </tbody>\n",
       "</table>\n",
       "</div>"
      ],
      "text/plain": [
       "                 cnt  avg_p_val  p_value_g  p_value_l   rt_coef  rt_std_coef  \\\n",
       "rank_bt rank_st                                                                \n",
       "1.0     2.0       14   0.312018   0.762555   0.237445  0.961418     0.964706   \n",
       "        3.0        1   0.000004   0.999998   0.000002  0.884479     0.992296   \n",
       "2.0     3.0        1   0.857172   0.428586   0.571414  1.013681     1.222314   \n",
       "\n",
       "                 crct_coef  \n",
       "rank_bt rank_st             \n",
       "1.0     2.0       0.992485  \n",
       "        3.0       1.000000  \n",
       "2.0     3.0       1.010152  "
      ]
     },
     "execution_count": 25,
     "metadata": {},
     "output_type": "execute_result"
    }
   ],
   "source": [
    "#  один день  - ~4 измерения\n",
    "import pandas as pd\n",
    "from scipy.stats import wilcoxon\n",
    "\n",
    "# Загрузим правильный файл\n",
    "df_new = answersLog_df.copy()\n",
    "# df_new['date'] =  df_new[['datetime', 'hour', 'date']].apply(lambda row: (row['datetime'] - pd.Timedelta(days=1)).date() if row['hour'] > 23 else row['date'], axis=1)\n",
    "df_new['week_start'] = df_new['date'].apply(lambda r: pd.to_datetime(r).to_period('W').start_time)\n",
    "\n",
    "# df_new['rank_week'] = df_new.groupby(['id', 'week_start'])['datetime'].rank(method='dense')\n",
    "df_new['rank'] = df_new.groupby(['id', 'date'])['datetime'].rank(method='dense')\n",
    "df_new['rank_day'] = df_new.groupby(['id'])['date'].rank(method='dense')\n",
    "\n",
    "results = []\n",
    "# Промечаем бейзлайны\n",
    "for (respondent_id, date, datetime, rank, day_rank), group in df_new.groupby(['id', 'date', 'datetime', 'rank', 'rank_day']):\n",
    "    # print(respondent_id, str(datetime), group['rank'].mean())\n",
    "    # if rank != 1:\n",
    "    #     continue\n",
    "    for i in range(int(rank) + 1,5):\n",
    "        session = df_new[(df_new['rank'] == i) & (df_new['rank_day'] == day_rank) & (df_new['id'] == respondent_id)]\n",
    "        if session.shape[0] == 0:\n",
    "            continue\n",
    "        stat_g, p_g = wilcoxon(session['response_time'], group['response_time'],  alternative='greater')\n",
    "        stat_l, p_l = wilcoxon(session['response_time'], group['response_time'], alternative='less')\n",
    "        stat, p = wilcoxon(session['response_time'], group['response_time'])\n",
    "\n",
    "        results.append({\n",
    "            'id': respondent_id,\n",
    "            'base_time': datetime,\n",
    "            'session_time': session.datetime.max(),\n",
    "            'wilcoxon_statistic_g': stat_g,\n",
    "            'p_value_g': p_g,\n",
    "            'wilcoxon_statistic_l': stat_l,\n",
    "            'p_value_l': p_l,\n",
    "            'wilcoxon_statistic': stat,\n",
    "            'p_value': p,\n",
    "            'rank_bt' : rank,\n",
    "            'rank_st' : session['rank'].max(),\n",
    "            'day_rank' : day_rank,\n",
    "            \n",
    "            # 'fatigue_lvl': gr\n",
    "        })\n",
    "        \n",
    "# # Финальный результат\n",
    "wilcoxon_result_df = pd.DataFrame(results)\n",
    "\n",
    "merge_1 = q_df\n",
    "wilcoxon_result_df = pd.merge(wilcoxon_result_df, merge_1, left_on=['id', 'base_time'], right_on=['id', 'datetime'] , how='left')\n",
    "\n",
    "\n",
    "wilcoxon_result_df = pd.merge(wilcoxon_result_df, merge_1, left_on=['id', 'session_time'], right_on=['id', 'datetime'] , how='left', suffixes=('_bt', '_st'))\n",
    "\n",
    "\n",
    "# wilcoxon_pairwise_df[(wilcoxon_pairwise_df['id'] == 'Дария') & (wilcoxon_pairwise_df['fatigue_lvl_diff'] > 0)]\n",
    "wilcoxon_result_df['score_diff_new'] = (wilcoxon_result_df['p_value'] < 0.2).astype(int)\n",
    "wilcoxon_result_df['rt_coef'] = wilcoxon_result_df['response_time_mean_st'] /  wilcoxon_result_df['response_time_mean_bt']\n",
    "wilcoxon_result_df['rt_std_coef'] = wilcoxon_result_df['response_time_std_st'] /  wilcoxon_result_df['response_time_std_bt']\n",
    "wilcoxon_result_df['crct_coef'] = wilcoxon_result_df['correct_flg_mean_st'] /  wilcoxon_result_df['correct_flg_mean_bt']\n",
    "# display(wilcoxon_result_df.groupby(['fatigue_lvl_bt', 'fatigue_lvl_st']).agg(\n",
    "#     cnt =('id', 'count'),\n",
    "#     avg_p_val = ('p_value', 'mean'),\n",
    "#     p_value_g = ('p_value_g', 'mean'),\n",
    "#     p_value_l = ('p_value_l', 'mean'),\n",
    "\n",
    "#     rt_coef = ('rt_coef', 'mean'),\n",
    "#     rt_std_coef = ('rt_std_coef', 'mean'),\n",
    "#     crct_coef = ('crct_coef', 'mean'),\n",
    "# ))\n",
    "\n",
    "wilcoxon_result_df.groupby(['rank_bt', 'rank_st']).agg(\n",
    "    cnt =('id', 'count'),\n",
    "    avg_p_val = ('p_value', 'mean'),\n",
    "    p_value_g = ('p_value_g', 'mean'),\n",
    "    p_value_l = ('p_value_l', 'mean'),\n",
    "\n",
    "    rt_coef = ('rt_coef', 'mean'),\n",
    "    rt_std_coef = ('rt_std_coef', 'mean'),\n",
    "    crct_coef = ('crct_coef', 'mean'),\n",
    ")"
   ]
  },
  {
   "cell_type": "code",
   "execution_count": 26,
   "metadata": {},
   "outputs": [
    {
     "data": {
      "text/html": [
       "<div>\n",
       "<style scoped>\n",
       "    .dataframe tbody tr th:only-of-type {\n",
       "        vertical-align: middle;\n",
       "    }\n",
       "\n",
       "    .dataframe tbody tr th {\n",
       "        vertical-align: top;\n",
       "    }\n",
       "\n",
       "    .dataframe thead th {\n",
       "        text-align: right;\n",
       "    }\n",
       "</style>\n",
       "<table border=\"1\" class=\"dataframe\">\n",
       "  <thead>\n",
       "    <tr style=\"text-align: right;\">\n",
       "      <th></th>\n",
       "      <th>id</th>\n",
       "      <th>base_time</th>\n",
       "      <th>session_time</th>\n",
       "      <th>wilcoxon_statistic_g</th>\n",
       "      <th>p_value_g</th>\n",
       "      <th>wilcoxon_statistic_l</th>\n",
       "      <th>p_value_l</th>\n",
       "      <th>wilcoxon_statistic</th>\n",
       "      <th>p_value</th>\n",
       "      <th>rank_bt</th>\n",
       "      <th>...</th>\n",
       "      <th>response_time_mean_st</th>\n",
       "      <th>response_time_std_st</th>\n",
       "      <th>response_time_median_st</th>\n",
       "      <th>response_time_max_st</th>\n",
       "      <th>response_time_min_st</th>\n",
       "      <th>correct_flg_mean_st</th>\n",
       "      <th>score_diff_new</th>\n",
       "      <th>rt_coef</th>\n",
       "      <th>rt_std_coef</th>\n",
       "      <th>crct_coef</th>\n",
       "    </tr>\n",
       "  </thead>\n",
       "  <tbody>\n",
       "    <tr>\n",
       "      <th>0</th>\n",
       "      <td>respondent_1</td>\n",
       "      <td>2024-12-12 13:14:12</td>\n",
       "      <td>2024-12-12 21:07:06</td>\n",
       "      <td>9479.5</td>\n",
       "      <td>0.756822</td>\n",
       "      <td>9479.5</td>\n",
       "      <td>2.431785e-01</td>\n",
       "      <td>9479.5</td>\n",
       "      <td>4.863570e-01</td>\n",
       "      <td>1.0</td>\n",
       "      <td>...</td>\n",
       "      <td>1.639055</td>\n",
       "      <td>0.615554</td>\n",
       "      <td>1.4065</td>\n",
       "      <td>4.891</td>\n",
       "      <td>0.968</td>\n",
       "      <td>0.975</td>\n",
       "      <td>0</td>\n",
       "      <td>0.992753</td>\n",
       "      <td>1.029746</td>\n",
       "      <td>1.000000</td>\n",
       "    </tr>\n",
       "    <tr>\n",
       "      <th>1</th>\n",
       "      <td>respondent_1</td>\n",
       "      <td>2024-12-13 08:20:01</td>\n",
       "      <td>2024-12-13 20:13:02</td>\n",
       "      <td>8596.5</td>\n",
       "      <td>0.961929</td>\n",
       "      <td>8596.5</td>\n",
       "      <td>3.807136e-02</td>\n",
       "      <td>8596.5</td>\n",
       "      <td>7.614272e-02</td>\n",
       "      <td>1.0</td>\n",
       "      <td>...</td>\n",
       "      <td>1.537110</td>\n",
       "      <td>0.454181</td>\n",
       "      <td>1.3595</td>\n",
       "      <td>3.250</td>\n",
       "      <td>0.984</td>\n",
       "      <td>0.965</td>\n",
       "      <td>1</td>\n",
       "      <td>0.948283</td>\n",
       "      <td>0.830449</td>\n",
       "      <td>0.974747</td>\n",
       "    </tr>\n",
       "    <tr>\n",
       "      <th>2</th>\n",
       "      <td>respondent_1</td>\n",
       "      <td>2024-12-14 11:56:28</td>\n",
       "      <td>2024-12-14 20:53:06</td>\n",
       "      <td>8841.0</td>\n",
       "      <td>0.913616</td>\n",
       "      <td>8841.0</td>\n",
       "      <td>8.638402e-02</td>\n",
       "      <td>8841.0</td>\n",
       "      <td>1.727680e-01</td>\n",
       "      <td>1.0</td>\n",
       "      <td>...</td>\n",
       "      <td>1.407650</td>\n",
       "      <td>0.423153</td>\n",
       "      <td>1.2650</td>\n",
       "      <td>4.484</td>\n",
       "      <td>0.875</td>\n",
       "      <td>0.980</td>\n",
       "      <td>1</td>\n",
       "      <td>0.965437</td>\n",
       "      <td>1.004648</td>\n",
       "      <td>1.000000</td>\n",
       "    </tr>\n",
       "    <tr>\n",
       "      <th>3</th>\n",
       "      <td>respondent_1</td>\n",
       "      <td>2024-12-15 12:06:37</td>\n",
       "      <td>2024-12-15 22:12:43</td>\n",
       "      <td>7670.0</td>\n",
       "      <td>0.993682</td>\n",
       "      <td>7670.0</td>\n",
       "      <td>6.317908e-03</td>\n",
       "      <td>7670.0</td>\n",
       "      <td>1.263582e-02</td>\n",
       "      <td>1.0</td>\n",
       "      <td>...</td>\n",
       "      <td>1.426095</td>\n",
       "      <td>0.384864</td>\n",
       "      <td>1.2970</td>\n",
       "      <td>3.063</td>\n",
       "      <td>1.000</td>\n",
       "      <td>0.965</td>\n",
       "      <td>1</td>\n",
       "      <td>0.943556</td>\n",
       "      <td>0.827390</td>\n",
       "      <td>0.969849</td>\n",
       "    </tr>\n",
       "    <tr>\n",
       "      <th>4</th>\n",
       "      <td>respondent_3</td>\n",
       "      <td>2024-12-11 10:55:16</td>\n",
       "      <td>2024-12-11 15:51:05</td>\n",
       "      <td>6474.5</td>\n",
       "      <td>0.999990</td>\n",
       "      <td>6474.5</td>\n",
       "      <td>9.657953e-06</td>\n",
       "      <td>6474.5</td>\n",
       "      <td>1.931591e-05</td>\n",
       "      <td>1.0</td>\n",
       "      <td>...</td>\n",
       "      <td>1.668740</td>\n",
       "      <td>0.531536</td>\n",
       "      <td>1.5160</td>\n",
       "      <td>4.703</td>\n",
       "      <td>0.781</td>\n",
       "      <td>0.985</td>\n",
       "      <td>1</td>\n",
       "      <td>0.872542</td>\n",
       "      <td>0.811817</td>\n",
       "      <td>0.989950</td>\n",
       "    </tr>\n",
       "    <tr>\n",
       "      <th>5</th>\n",
       "      <td>respondent_3</td>\n",
       "      <td>2024-12-11 10:55:16</td>\n",
       "      <td>2024-12-11 22:05:25</td>\n",
       "      <td>6249.5</td>\n",
       "      <td>0.999998</td>\n",
       "      <td>6249.5</td>\n",
       "      <td>1.765296e-06</td>\n",
       "      <td>6249.5</td>\n",
       "      <td>3.530593e-06</td>\n",
       "      <td>1.0</td>\n",
       "      <td>...</td>\n",
       "      <td>1.691570</td>\n",
       "      <td>0.649704</td>\n",
       "      <td>1.5310</td>\n",
       "      <td>5.718</td>\n",
       "      <td>0.953</td>\n",
       "      <td>0.995</td>\n",
       "      <td>1</td>\n",
       "      <td>0.884479</td>\n",
       "      <td>0.992296</td>\n",
       "      <td>1.000000</td>\n",
       "    </tr>\n",
       "    <tr>\n",
       "      <th>6</th>\n",
       "      <td>respondent_3</td>\n",
       "      <td>2024-12-11 15:51:05</td>\n",
       "      <td>2024-12-11 22:05:25</td>\n",
       "      <td>10197.5</td>\n",
       "      <td>0.428586</td>\n",
       "      <td>10197.5</td>\n",
       "      <td>5.714140e-01</td>\n",
       "      <td>9902.5</td>\n",
       "      <td>8.571720e-01</td>\n",
       "      <td>2.0</td>\n",
       "      <td>...</td>\n",
       "      <td>1.691570</td>\n",
       "      <td>0.649704</td>\n",
       "      <td>1.5310</td>\n",
       "      <td>5.718</td>\n",
       "      <td>0.953</td>\n",
       "      <td>0.995</td>\n",
       "      <td>0</td>\n",
       "      <td>1.013681</td>\n",
       "      <td>1.222314</td>\n",
       "      <td>1.010152</td>\n",
       "    </tr>\n",
       "    <tr>\n",
       "      <th>7</th>\n",
       "      <td>respondent_3</td>\n",
       "      <td>2024-12-14 13:00:47</td>\n",
       "      <td>2024-12-15 01:16:30</td>\n",
       "      <td>5110.5</td>\n",
       "      <td>1.000000</td>\n",
       "      <td>5110.5</td>\n",
       "      <td>8.347710e-10</td>\n",
       "      <td>5110.5</td>\n",
       "      <td>1.669542e-09</td>\n",
       "      <td>1.0</td>\n",
       "      <td>...</td>\n",
       "      <td>1.426100</td>\n",
       "      <td>0.414898</td>\n",
       "      <td>1.3435</td>\n",
       "      <td>3.937</td>\n",
       "      <td>0.765</td>\n",
       "      <td>0.995</td>\n",
       "      <td>1</td>\n",
       "      <td>0.863774</td>\n",
       "      <td>0.930349</td>\n",
       "      <td>0.995000</td>\n",
       "    </tr>\n",
       "    <tr>\n",
       "      <th>8</th>\n",
       "      <td>respondent_4</td>\n",
       "      <td>2024-12-12 12:56:06</td>\n",
       "      <td>2024-12-12 22:33:31</td>\n",
       "      <td>11147.0</td>\n",
       "      <td>0.070572</td>\n",
       "      <td>11147.0</td>\n",
       "      <td>9.294279e-01</td>\n",
       "      <td>8753.0</td>\n",
       "      <td>1.411442e-01</td>\n",
       "      <td>1.0</td>\n",
       "      <td>...</td>\n",
       "      <td>1.540920</td>\n",
       "      <td>0.578648</td>\n",
       "      <td>1.3515</td>\n",
       "      <td>5.313</td>\n",
       "      <td>0.985</td>\n",
       "      <td>0.965</td>\n",
       "      <td>1</td>\n",
       "      <td>1.062645</td>\n",
       "      <td>1.394651</td>\n",
       "      <td>0.965000</td>\n",
       "    </tr>\n",
       "    <tr>\n",
       "      <th>9</th>\n",
       "      <td>respondent_4</td>\n",
       "      <td>2024-12-13 11:40:45</td>\n",
       "      <td>2024-12-14 01:05:55</td>\n",
       "      <td>10015.5</td>\n",
       "      <td>0.419027</td>\n",
       "      <td>10015.5</td>\n",
       "      <td>5.809727e-01</td>\n",
       "      <td>9685.5</td>\n",
       "      <td>8.380546e-01</td>\n",
       "      <td>1.0</td>\n",
       "      <td>...</td>\n",
       "      <td>1.513275</td>\n",
       "      <td>0.510082</td>\n",
       "      <td>1.3435</td>\n",
       "      <td>4.547</td>\n",
       "      <td>0.922</td>\n",
       "      <td>0.970</td>\n",
       "      <td>0</td>\n",
       "      <td>1.036664</td>\n",
       "      <td>1.384297</td>\n",
       "      <td>1.000000</td>\n",
       "    </tr>\n",
       "    <tr>\n",
       "      <th>10</th>\n",
       "      <td>respondent_4</td>\n",
       "      <td>2024-12-14 12:11:29</td>\n",
       "      <td>2024-12-15 01:29:44</td>\n",
       "      <td>9073.5</td>\n",
       "      <td>0.766936</td>\n",
       "      <td>9073.5</td>\n",
       "      <td>2.330636e-01</td>\n",
       "      <td>9073.5</td>\n",
       "      <td>4.661272e-01</td>\n",
       "      <td>1.0</td>\n",
       "      <td>...</td>\n",
       "      <td>1.458120</td>\n",
       "      <td>0.340561</td>\n",
       "      <td>1.3595</td>\n",
       "      <td>3.140</td>\n",
       "      <td>0.922</td>\n",
       "      <td>0.970</td>\n",
       "      <td>0</td>\n",
       "      <td>0.955311</td>\n",
       "      <td>0.693420</td>\n",
       "      <td>0.994872</td>\n",
       "    </tr>\n",
       "    <tr>\n",
       "      <th>11</th>\n",
       "      <td>respondent_4</td>\n",
       "      <td>2024-12-15 13:04:17</td>\n",
       "      <td>2024-12-15 18:28:17</td>\n",
       "      <td>9128.0</td>\n",
       "      <td>0.814590</td>\n",
       "      <td>9128.0</td>\n",
       "      <td>1.854098e-01</td>\n",
       "      <td>9128.0</td>\n",
       "      <td>3.708197e-01</td>\n",
       "      <td>1.0</td>\n",
       "      <td>...</td>\n",
       "      <td>1.494070</td>\n",
       "      <td>0.419902</td>\n",
       "      <td>1.3595</td>\n",
       "      <td>3.609</td>\n",
       "      <td>0.953</td>\n",
       "      <td>0.975</td>\n",
       "      <td>0</td>\n",
       "      <td>0.969741</td>\n",
       "      <td>0.919454</td>\n",
       "      <td>1.010363</td>\n",
       "    </tr>\n",
       "    <tr>\n",
       "      <th>12</th>\n",
       "      <td>respondent_4</td>\n",
       "      <td>2024-12-16 06:52:53</td>\n",
       "      <td>2024-12-16 23:57:21</td>\n",
       "      <td>8225.5</td>\n",
       "      <td>0.982999</td>\n",
       "      <td>8225.5</td>\n",
       "      <td>1.700115e-02</td>\n",
       "      <td>8225.5</td>\n",
       "      <td>3.400229e-02</td>\n",
       "      <td>1.0</td>\n",
       "      <td>...</td>\n",
       "      <td>1.477650</td>\n",
       "      <td>0.448652</td>\n",
       "      <td>1.3590</td>\n",
       "      <td>3.875</td>\n",
       "      <td>0.984</td>\n",
       "      <td>0.960</td>\n",
       "      <td>1</td>\n",
       "      <td>0.945037</td>\n",
       "      <td>0.979617</td>\n",
       "      <td>0.989691</td>\n",
       "    </tr>\n",
       "    <tr>\n",
       "      <th>13</th>\n",
       "      <td>respondent_4</td>\n",
       "      <td>2024-12-17 09:58:55</td>\n",
       "      <td>2024-12-18 00:18:36</td>\n",
       "      <td>9834.0</td>\n",
       "      <td>0.556699</td>\n",
       "      <td>9834.0</td>\n",
       "      <td>4.433009e-01</td>\n",
       "      <td>9834.0</td>\n",
       "      <td>8.866017e-01</td>\n",
       "      <td>1.0</td>\n",
       "      <td>...</td>\n",
       "      <td>1.527340</td>\n",
       "      <td>0.469142</td>\n",
       "      <td>1.3910</td>\n",
       "      <td>4.328</td>\n",
       "      <td>0.891</td>\n",
       "      <td>0.970</td>\n",
       "      <td>0</td>\n",
       "      <td>1.001170</td>\n",
       "      <td>0.926731</td>\n",
       "      <td>0.994872</td>\n",
       "    </tr>\n",
       "    <tr>\n",
       "      <th>14</th>\n",
       "      <td>respondent_4</td>\n",
       "      <td>2024-12-24 08:34:30</td>\n",
       "      <td>2024-12-24 22:24:22</td>\n",
       "      <td>10173.0</td>\n",
       "      <td>0.440350</td>\n",
       "      <td>10173.0</td>\n",
       "      <td>5.596504e-01</td>\n",
       "      <td>9927.0</td>\n",
       "      <td>8.806993e-01</td>\n",
       "      <td>1.0</td>\n",
       "      <td>...</td>\n",
       "      <td>1.499370</td>\n",
       "      <td>0.355782</td>\n",
       "      <td>1.4145</td>\n",
       "      <td>3.094</td>\n",
       "      <td>0.984</td>\n",
       "      <td>0.960</td>\n",
       "      <td>0</td>\n",
       "      <td>0.977836</td>\n",
       "      <td>0.833019</td>\n",
       "      <td>0.994819</td>\n",
       "    </tr>\n",
       "    <tr>\n",
       "      <th>15</th>\n",
       "      <td>respondent_4</td>\n",
       "      <td>2025-01-20 08:42:15</td>\n",
       "      <td>2025-01-20 22:38:18</td>\n",
       "      <td>7444.0</td>\n",
       "      <td>0.998563</td>\n",
       "      <td>7444.0</td>\n",
       "      <td>1.437219e-03</td>\n",
       "      <td>7444.0</td>\n",
       "      <td>2.874438e-03</td>\n",
       "      <td>1.0</td>\n",
       "      <td>...</td>\n",
       "      <td>1.425240</td>\n",
       "      <td>0.427946</td>\n",
       "      <td>1.2970</td>\n",
       "      <td>4.406</td>\n",
       "      <td>0.922</td>\n",
       "      <td>0.975</td>\n",
       "      <td>1</td>\n",
       "      <td>0.925111</td>\n",
       "      <td>0.940295</td>\n",
       "      <td>1.015625</td>\n",
       "    </tr>\n",
       "  </tbody>\n",
       "</table>\n",
       "<p>16 rows × 38 columns</p>\n",
       "</div>"
      ],
      "text/plain": [
       "              id           base_time        session_time  \\\n",
       "0   respondent_1 2024-12-12 13:14:12 2024-12-12 21:07:06   \n",
       "1   respondent_1 2024-12-13 08:20:01 2024-12-13 20:13:02   \n",
       "2   respondent_1 2024-12-14 11:56:28 2024-12-14 20:53:06   \n",
       "3   respondent_1 2024-12-15 12:06:37 2024-12-15 22:12:43   \n",
       "4   respondent_3 2024-12-11 10:55:16 2024-12-11 15:51:05   \n",
       "5   respondent_3 2024-12-11 10:55:16 2024-12-11 22:05:25   \n",
       "6   respondent_3 2024-12-11 15:51:05 2024-12-11 22:05:25   \n",
       "7   respondent_3 2024-12-14 13:00:47 2024-12-15 01:16:30   \n",
       "8   respondent_4 2024-12-12 12:56:06 2024-12-12 22:33:31   \n",
       "9   respondent_4 2024-12-13 11:40:45 2024-12-14 01:05:55   \n",
       "10  respondent_4 2024-12-14 12:11:29 2024-12-15 01:29:44   \n",
       "11  respondent_4 2024-12-15 13:04:17 2024-12-15 18:28:17   \n",
       "12  respondent_4 2024-12-16 06:52:53 2024-12-16 23:57:21   \n",
       "13  respondent_4 2024-12-17 09:58:55 2024-12-18 00:18:36   \n",
       "14  respondent_4 2024-12-24 08:34:30 2024-12-24 22:24:22   \n",
       "15  respondent_4 2025-01-20 08:42:15 2025-01-20 22:38:18   \n",
       "\n",
       "    wilcoxon_statistic_g  p_value_g  wilcoxon_statistic_l     p_value_l  \\\n",
       "0                 9479.5   0.756822                9479.5  2.431785e-01   \n",
       "1                 8596.5   0.961929                8596.5  3.807136e-02   \n",
       "2                 8841.0   0.913616                8841.0  8.638402e-02   \n",
       "3                 7670.0   0.993682                7670.0  6.317908e-03   \n",
       "4                 6474.5   0.999990                6474.5  9.657953e-06   \n",
       "5                 6249.5   0.999998                6249.5  1.765296e-06   \n",
       "6                10197.5   0.428586               10197.5  5.714140e-01   \n",
       "7                 5110.5   1.000000                5110.5  8.347710e-10   \n",
       "8                11147.0   0.070572               11147.0  9.294279e-01   \n",
       "9                10015.5   0.419027               10015.5  5.809727e-01   \n",
       "10                9073.5   0.766936                9073.5  2.330636e-01   \n",
       "11                9128.0   0.814590                9128.0  1.854098e-01   \n",
       "12                8225.5   0.982999                8225.5  1.700115e-02   \n",
       "13                9834.0   0.556699                9834.0  4.433009e-01   \n",
       "14               10173.0   0.440350               10173.0  5.596504e-01   \n",
       "15                7444.0   0.998563                7444.0  1.437219e-03   \n",
       "\n",
       "    wilcoxon_statistic       p_value  rank_bt  ...  response_time_mean_st  \\\n",
       "0               9479.5  4.863570e-01      1.0  ...               1.639055   \n",
       "1               8596.5  7.614272e-02      1.0  ...               1.537110   \n",
       "2               8841.0  1.727680e-01      1.0  ...               1.407650   \n",
       "3               7670.0  1.263582e-02      1.0  ...               1.426095   \n",
       "4               6474.5  1.931591e-05      1.0  ...               1.668740   \n",
       "5               6249.5  3.530593e-06      1.0  ...               1.691570   \n",
       "6               9902.5  8.571720e-01      2.0  ...               1.691570   \n",
       "7               5110.5  1.669542e-09      1.0  ...               1.426100   \n",
       "8               8753.0  1.411442e-01      1.0  ...               1.540920   \n",
       "9               9685.5  8.380546e-01      1.0  ...               1.513275   \n",
       "10              9073.5  4.661272e-01      1.0  ...               1.458120   \n",
       "11              9128.0  3.708197e-01      1.0  ...               1.494070   \n",
       "12              8225.5  3.400229e-02      1.0  ...               1.477650   \n",
       "13              9834.0  8.866017e-01      1.0  ...               1.527340   \n",
       "14              9927.0  8.806993e-01      1.0  ...               1.499370   \n",
       "15              7444.0  2.874438e-03      1.0  ...               1.425240   \n",
       "\n",
       "    response_time_std_st response_time_median_st response_time_max_st  \\\n",
       "0               0.615554                  1.4065                4.891   \n",
       "1               0.454181                  1.3595                3.250   \n",
       "2               0.423153                  1.2650                4.484   \n",
       "3               0.384864                  1.2970                3.063   \n",
       "4               0.531536                  1.5160                4.703   \n",
       "5               0.649704                  1.5310                5.718   \n",
       "6               0.649704                  1.5310                5.718   \n",
       "7               0.414898                  1.3435                3.937   \n",
       "8               0.578648                  1.3515                5.313   \n",
       "9               0.510082                  1.3435                4.547   \n",
       "10              0.340561                  1.3595                3.140   \n",
       "11              0.419902                  1.3595                3.609   \n",
       "12              0.448652                  1.3590                3.875   \n",
       "13              0.469142                  1.3910                4.328   \n",
       "14              0.355782                  1.4145                3.094   \n",
       "15              0.427946                  1.2970                4.406   \n",
       "\n",
       "   response_time_min_st  correct_flg_mean_st  score_diff_new   rt_coef  \\\n",
       "0                 0.968                0.975               0  0.992753   \n",
       "1                 0.984                0.965               1  0.948283   \n",
       "2                 0.875                0.980               1  0.965437   \n",
       "3                 1.000                0.965               1  0.943556   \n",
       "4                 0.781                0.985               1  0.872542   \n",
       "5                 0.953                0.995               1  0.884479   \n",
       "6                 0.953                0.995               0  1.013681   \n",
       "7                 0.765                0.995               1  0.863774   \n",
       "8                 0.985                0.965               1  1.062645   \n",
       "9                 0.922                0.970               0  1.036664   \n",
       "10                0.922                0.970               0  0.955311   \n",
       "11                0.953                0.975               0  0.969741   \n",
       "12                0.984                0.960               1  0.945037   \n",
       "13                0.891                0.970               0  1.001170   \n",
       "14                0.984                0.960               0  0.977836   \n",
       "15                0.922                0.975               1  0.925111   \n",
       "\n",
       "    rt_std_coef  crct_coef  \n",
       "0      1.029746   1.000000  \n",
       "1      0.830449   0.974747  \n",
       "2      1.004648   1.000000  \n",
       "3      0.827390   0.969849  \n",
       "4      0.811817   0.989950  \n",
       "5      0.992296   1.000000  \n",
       "6      1.222314   1.010152  \n",
       "7      0.930349   0.995000  \n",
       "8      1.394651   0.965000  \n",
       "9      1.384297   1.000000  \n",
       "10     0.693420   0.994872  \n",
       "11     0.919454   1.010363  \n",
       "12     0.979617   0.989691  \n",
       "13     0.926731   0.994872  \n",
       "14     0.833019   0.994819  \n",
       "15     0.940295   1.015625  \n",
       "\n",
       "[16 rows x 38 columns]"
      ]
     },
     "metadata": {},
     "output_type": "display_data"
    },
    {
     "data": {
      "text/html": [
       "<div>\n",
       "<style scoped>\n",
       "    .dataframe tbody tr th:only-of-type {\n",
       "        vertical-align: middle;\n",
       "    }\n",
       "\n",
       "    .dataframe tbody tr th {\n",
       "        vertical-align: top;\n",
       "    }\n",
       "\n",
       "    .dataframe thead th {\n",
       "        text-align: right;\n",
       "    }\n",
       "</style>\n",
       "<table border=\"1\" class=\"dataframe\">\n",
       "  <thead>\n",
       "    <tr style=\"text-align: right;\">\n",
       "      <th></th>\n",
       "      <th></th>\n",
       "      <th></th>\n",
       "      <th>cnt</th>\n",
       "      <th>avg_p_val</th>\n",
       "      <th>p_value_g</th>\n",
       "      <th>p_value_l</th>\n",
       "      <th>response_time_std_bt</th>\n",
       "      <th>response_time_std_st</th>\n",
       "      <th>rt_coef</th>\n",
       "      <th>rt_std_coef</th>\n",
       "      <th>crct_coef</th>\n",
       "    </tr>\n",
       "    <tr>\n",
       "      <th>id</th>\n",
       "      <th>rank_bt</th>\n",
       "      <th>rank_st</th>\n",
       "      <th></th>\n",
       "      <th></th>\n",
       "      <th></th>\n",
       "      <th></th>\n",
       "      <th></th>\n",
       "      <th></th>\n",
       "      <th></th>\n",
       "      <th></th>\n",
       "      <th></th>\n",
       "    </tr>\n",
       "  </thead>\n",
       "  <tbody>\n",
       "    <tr>\n",
       "      <th>respondent_1</th>\n",
       "      <th>1.0</th>\n",
       "      <th>2.0</th>\n",
       "      <td>4</td>\n",
       "      <td>0.186976</td>\n",
       "      <td>0.906512</td>\n",
       "      <td>0.093488</td>\n",
       "      <td>1.560353</td>\n",
       "      <td>1.502478</td>\n",
       "      <td>0.962507</td>\n",
       "      <td>0.923058</td>\n",
       "      <td>0.986149</td>\n",
       "    </tr>\n",
       "    <tr>\n",
       "      <th rowspan=\"3\" valign=\"top\">respondent_3</th>\n",
       "      <th rowspan=\"2\" valign=\"top\">1.0</th>\n",
       "      <th>2.0</th>\n",
       "      <td>2</td>\n",
       "      <td>0.000010</td>\n",
       "      <td>0.999995</td>\n",
       "      <td>0.000005</td>\n",
       "      <td>1.781757</td>\n",
       "      <td>1.547420</td>\n",
       "      <td>0.868158</td>\n",
       "      <td>0.871083</td>\n",
       "      <td>0.992475</td>\n",
       "    </tr>\n",
       "    <tr>\n",
       "      <th>3.0</th>\n",
       "      <td>1</td>\n",
       "      <td>0.000004</td>\n",
       "      <td>0.999998</td>\n",
       "      <td>0.000002</td>\n",
       "      <td>1.912505</td>\n",
       "      <td>1.691570</td>\n",
       "      <td>0.884479</td>\n",
       "      <td>0.992296</td>\n",
       "      <td>1.000000</td>\n",
       "    </tr>\n",
       "    <tr>\n",
       "      <th>2.0</th>\n",
       "      <th>3.0</th>\n",
       "      <td>1</td>\n",
       "      <td>0.857172</td>\n",
       "      <td>0.428586</td>\n",
       "      <td>0.571414</td>\n",
       "      <td>1.668740</td>\n",
       "      <td>1.691570</td>\n",
       "      <td>1.013681</td>\n",
       "      <td>1.222314</td>\n",
       "      <td>1.010152</td>\n",
       "    </tr>\n",
       "    <tr>\n",
       "      <th>respondent_4</th>\n",
       "      <th>1.0</th>\n",
       "      <th>2.0</th>\n",
       "      <td>8</td>\n",
       "      <td>0.452540</td>\n",
       "      <td>0.631217</td>\n",
       "      <td>0.368783</td>\n",
       "      <td>1.517496</td>\n",
       "      <td>1.491998</td>\n",
       "      <td>0.984189</td>\n",
       "      <td>1.008936</td>\n",
       "      <td>0.995655</td>\n",
       "    </tr>\n",
       "  </tbody>\n",
       "</table>\n",
       "</div>"
      ],
      "text/plain": [
       "                              cnt  avg_p_val  p_value_g  p_value_l  \\\n",
       "id           rank_bt rank_st                                         \n",
       "respondent_1 1.0     2.0        4   0.186976   0.906512   0.093488   \n",
       "respondent_3 1.0     2.0        2   0.000010   0.999995   0.000005   \n",
       "                     3.0        1   0.000004   0.999998   0.000002   \n",
       "             2.0     3.0        1   0.857172   0.428586   0.571414   \n",
       "respondent_4 1.0     2.0        8   0.452540   0.631217   0.368783   \n",
       "\n",
       "                              response_time_std_bt  response_time_std_st  \\\n",
       "id           rank_bt rank_st                                               \n",
       "respondent_1 1.0     2.0                  1.560353              1.502478   \n",
       "respondent_3 1.0     2.0                  1.781757              1.547420   \n",
       "                     3.0                  1.912505              1.691570   \n",
       "             2.0     3.0                  1.668740              1.691570   \n",
       "respondent_4 1.0     2.0                  1.517496              1.491998   \n",
       "\n",
       "                               rt_coef  rt_std_coef  crct_coef  \n",
       "id           rank_bt rank_st                                    \n",
       "respondent_1 1.0     2.0      0.962507     0.923058   0.986149  \n",
       "respondent_3 1.0     2.0      0.868158     0.871083   0.992475  \n",
       "                     3.0      0.884479     0.992296   1.000000  \n",
       "             2.0     3.0      1.013681     1.222314   1.010152  \n",
       "respondent_4 1.0     2.0      0.984189     1.008936   0.995655  "
      ]
     },
     "execution_count": 26,
     "metadata": {},
     "output_type": "execute_result"
    }
   ],
   "source": [
    "#  один день  - ~4 измерения\n",
    "import pandas as pd\n",
    "from scipy.stats import wilcoxon\n",
    "\n",
    "# Загрузим правильный файл\n",
    "df_new = answersLog_df.copy()\n",
    "# df_new['date'] =  df_new[['datetime', 'hour', 'date']].apply(lambda row: (row['datetime'] - pd.Timedelta(days=1)).date() if row['hour'] > 23 else row['date'], axis=1)\n",
    "df_new['week_start'] = df_new['date'].apply(lambda r: pd.to_datetime(r).to_period('W').start_time)\n",
    "\n",
    "# df_new['rank_week'] = df_new.groupby(['id', 'week_start'])['datetime'].rank(method='dense')\n",
    "df_new['rank'] = df_new.groupby(['id', 'date'])['datetime'].rank(method='dense')\n",
    "df_new['rank_day'] = df_new.groupby(['id'])['date'].rank(method='dense')\n",
    "\n",
    "results = []\n",
    "# Промечаем бейзлайны\n",
    "for (respondent_id, date, datetime, rank, day_rank), group in df_new.groupby(['id', 'date', 'datetime', 'rank', 'rank_day']):\n",
    "    # print(respondent_id, str(datetime), group['rank'].mean())\n",
    "    # if rank != 1:\n",
    "    #     continue\n",
    "    for i in range(int(rank) + 1,5):\n",
    "        session = df_new[(df_new['rank'] == i) & (df_new['rank_day'] == day_rank) & (df_new['id'] == respondent_id)]\n",
    "        if session.shape[0] == 0:\n",
    "            continue\n",
    "        stat_g, p_g = wilcoxon(session['response_time'], group['response_time'],  alternative='greater')\n",
    "        stat_l, p_l = wilcoxon(session['response_time'], group['response_time'], alternative='less')\n",
    "        stat, p = wilcoxon(session['response_time'], group['response_time'])\n",
    "\n",
    "        results.append({\n",
    "            'id': respondent_id,\n",
    "            'base_time': datetime,\n",
    "            'session_time': session.datetime.max(),\n",
    "            'wilcoxon_statistic_g': stat_g,\n",
    "            'p_value_g': p_g,\n",
    "            'wilcoxon_statistic_l': stat_l,\n",
    "            'p_value_l': p_l,\n",
    "            'wilcoxon_statistic': stat,\n",
    "            'p_value': p,\n",
    "            'rank_bt' : rank,\n",
    "            'rank_st' : session['rank'].max(),\n",
    "            'day_rank' : day_rank,\n",
    "            \n",
    "            # 'fatigue_lvl': gr\n",
    "        })\n",
    "        \n",
    "# # Финальный результат\n",
    "wilcoxon_result_df = pd.DataFrame(results)\n",
    "\n",
    "merge_1 = q_df\n",
    "wilcoxon_result_df = pd.merge(wilcoxon_result_df, merge_1, left_on=['id', 'base_time'], right_on=['id', 'datetime'] , how='left')\n",
    "\n",
    "\n",
    "wilcoxon_result_df = pd.merge(wilcoxon_result_df, merge_1, left_on=['id', 'session_time'], right_on=['id', 'datetime'] , how='left', suffixes=('_bt', '_st'))\n",
    "\n",
    "\n",
    "# wilcoxon_pairwise_df[(wilcoxon_pairwise_df['id'] == 'Дария') & (wilcoxon_pairwise_df['fatigue_lvl_diff'] > 0)]\n",
    "wilcoxon_result_df['score_diff_new'] = (wilcoxon_result_df['p_value'] < 0.2).astype(int)\n",
    "wilcoxon_result_df['rt_coef'] = wilcoxon_result_df['response_time_mean_st'] /  wilcoxon_result_df['response_time_mean_bt']\n",
    "wilcoxon_result_df['rt_std_coef'] = wilcoxon_result_df['response_time_std_st'] /  wilcoxon_result_df['response_time_std_bt']\n",
    "wilcoxon_result_df['crct_coef'] = wilcoxon_result_df['correct_flg_mean_st'] /  wilcoxon_result_df['correct_flg_mean_bt']\n",
    "display(wilcoxon_result_df)\n",
    "# display(wilcoxon_result_df.groupby(['fatigue_lvl_bt', 'fatigue_lvl_st']).agg(\n",
    "#     cnt =('id', 'count'),\n",
    "#     avg_p_val = ('p_value', 'mean'),\n",
    "#     p_value_g = ('p_value_g', 'mean'),\n",
    "#     p_value_l = ('p_value_l', 'mean'),\n",
    "\n",
    "#     rt_coef = ('rt_coef', 'mean'),\n",
    "#     rt_std_coef = ('rt_std_coef', 'mean'),\n",
    "#     crct_coef = ('crct_coef', 'mean'),\n",
    "# ))\n",
    "\n",
    "wilcoxon_result_df.groupby(['id','rank_bt', 'rank_st']).agg(\n",
    "    cnt =('id', 'count'),\n",
    "    avg_p_val = ('p_value', 'mean'),\n",
    "    p_value_g = ('p_value_g', 'mean'),\n",
    "    p_value_l = ('p_value_l', 'mean'),\n",
    "    response_time_std_bt = ('response_time_mean_bt', 'mean'),\n",
    "    response_time_std_st = ('response_time_mean_st', 'mean'),\n",
    "\n",
    "    rt_coef = ('rt_coef', 'mean'),\n",
    "    rt_std_coef = ('rt_std_coef', 'mean'),\n",
    "    crct_coef = ('crct_coef', 'mean'),\n",
    ")"
   ]
  },
  {
   "cell_type": "markdown",
   "metadata": {},
   "source": [
    "# Выводы"
   ]
  },
  {
   "cell_type": "markdown",
   "metadata": {},
   "source": [
    "Первоначальная гипотеза\n",
    "- между показателями утра и вечера будет разница вне зависимости от начального состояния\n",
    "- случайная смена вида операций поможет добавить когнитивную нагрузку\n",
    "\n",
    "Выводы\n",
    "- есть стабильность - утро от утра не сильно отличается (с вечером та же фигня)\n",
    "- но он говорит что есть разница в те дни, когда по отзывам пользователей не было значительной когнитивной нагрузки (отмечали физическую или небольшую когнитивную нагрузку)"
   ]
  },
  {
   "cell_type": "markdown",
   "metadata": {},
   "source": []
  }
 ],
 "metadata": {
  "kernelspec": {
   "display_name": "Python 3",
   "language": "python",
   "name": "python3"
  },
  "language_info": {
   "codemirror_mode": {
    "name": "ipython",
    "version": 3
   },
   "file_extension": ".py",
   "mimetype": "text/x-python",
   "name": "python",
   "nbconvert_exporter": "python",
   "pygments_lexer": "ipython3",
   "version": "3.12.0"
  }
 },
 "nbformat": 4,
 "nbformat_minor": 2
}
